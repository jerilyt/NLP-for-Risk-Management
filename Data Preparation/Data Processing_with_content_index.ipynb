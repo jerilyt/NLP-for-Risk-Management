{
 "cells": [
  {
   "cell_type": "code",
   "execution_count": null,
   "metadata": {
    "colab": {
     "base_uri": "https://localhost:8080/"
    },
    "executionInfo": {
     "elapsed": 1507,
     "status": "ok",
     "timestamp": 1609340390813,
     "user": {
      "displayName": "Yanjun Wu",
      "photoUrl": "",
      "userId": "00204833314894086242"
     },
     "user_tz": -480
    },
    "id": "DQ1KEUkSeThR",
    "outputId": "36dd8675-7b6b-478a-8d4c-f3b2feb9b735"
   },
   "outputs": [],
   "source": []
  },
  {
   "cell_type": "code",
   "execution_count": 8,
   "metadata": {
    "executionInfo": {
     "elapsed": 3313,
     "status": "ok",
     "timestamp": 1609340392628,
     "user": {
      "displayName": "Yanjun Wu",
      "photoUrl": "",
      "userId": "00204833314894086242"
     },
     "user_tz": -480
    },
    "id": "gknePKiqeZXI"
   },
   "outputs": [],
   "source": [
    "import pandas as pd\n",
    "import string"
   ]
  },
  {
   "cell_type": "code",
   "execution_count": 5,
   "metadata": {
    "executionInfo": {
     "elapsed": 6201,
     "status": "ok",
     "timestamp": 1609340395518,
     "user": {
      "displayName": "Yanjun Wu",
      "photoUrl": "",
      "userId": "00204833314894086242"
     },
     "user_tz": -480
    },
    "id": "z_MTzbOyecFV"
   },
   "outputs": [],
   "source": [
    "data = pd.read_csv('fb-wx-data.csv')"
   ]
  },
  {
   "cell_type": "code",
   "execution_count": 6,
   "metadata": {
    "executionInfo": {
     "elapsed": 6201,
     "status": "ok",
     "timestamp": 1609340395519,
     "user": {
      "displayName": "Yanjun Wu",
      "photoUrl": "",
      "userId": "00204833314894086242"
     },
     "user_tz": -480
    },
    "id": "IEUV_y-7eveb"
   },
   "outputs": [],
   "source": [
    "data = data[['content', 'split', 'baidu_seg', 'baidu_prob', 'label']]"
   ]
  },
  {
   "cell_type": "code",
   "execution_count": 7,
   "metadata": {},
   "outputs": [],
   "source": [
    "data['content_index'] = range(data.shape[0])"
   ]
  },
  {
   "cell_type": "markdown",
   "metadata": {
    "id": "AT82NZpPe5r2"
   },
   "source": [
    "# Process 'split'"
   ]
  },
  {
   "cell_type": "code",
   "execution_count": 9,
   "metadata": {
    "executionInfo": {
     "elapsed": 6200,
     "status": "ok",
     "timestamp": 1609340395519,
     "user": {
      "displayName": "Yanjun Wu",
      "photoUrl": "",
      "userId": "00204833314894086242"
     },
     "user_tz": -480
    },
    "id": "Omfb1K8he7xN"
   },
   "outputs": [],
   "source": [
    "def split_text(text):\n",
    "    length = len(text)\n",
    "    text_block = []\n",
    "    i, j = 0, 500\n",
    "\n",
    "    while j < length:\n",
    "        while text[j-1] != '。' and text[j-1] != '！':\n",
    "            j -= 1\n",
    "            if j == i:\n",
    "                j = i + 500\n",
    "                while text[j-1] != '，':\n",
    "                    j -= 1\n",
    "                    if j == i:\n",
    "                        j = i + 500\n",
    "                        break\n",
    "                break\n",
    "        text_block.append(text[i:j])\n",
    "        i = j\n",
    "        j = i + 500\n",
    "    text_block.append(text[i:length])\n",
    "\n",
    "    return text_block"
   ]
  },
  {
   "cell_type": "code",
   "execution_count": 10,
   "metadata": {
    "executionInfo": {
     "elapsed": 7400,
     "status": "ok",
     "timestamp": 1609340396720,
     "user": {
      "displayName": "Yanjun Wu",
      "photoUrl": "",
      "userId": "00204833314894086242"
     },
     "user_tz": -480
    },
    "id": "EP5NNNsigWQk"
   },
   "outputs": [],
   "source": [
    "for i in range(len(data.index)):\n",
    "    data.at[i, 'split'] = split_text(data.at[i, 'content'])"
   ]
  },
  {
   "cell_type": "code",
   "execution_count": null,
   "metadata": {},
   "outputs": [],
   "source": []
  },
  {
   "cell_type": "markdown",
   "metadata": {
    "id": "YHG72uEUiC5C"
   },
   "source": [
    "# Process 'baidu_seg'"
   ]
  },
  {
   "cell_type": "code",
   "execution_count": 12,
   "metadata": {
    "executionInfo": {
     "elapsed": 7400,
     "status": "ok",
     "timestamp": 1609340396721,
     "user": {
      "displayName": "Yanjun Wu",
      "photoUrl": "",
      "userId": "00204833314894086242"
     },
     "user_tz": -480
    },
    "id": "VOKWHVQoiEZS"
   },
   "outputs": [],
   "source": [
    "def seg_to_list(text):\n",
    "    length = len(text)\n",
    "    list_all = []\n",
    "    temp_list = []\n",
    "\n",
    "    i, j = 1, 1\n",
    "    while j < length - 1:\n",
    "        if text[i] == \"'\":\n",
    "            j += 2\n",
    "            while j < length - 1:\n",
    "                if text[j] == \"'\" and (text[j+1] == ',' or text[j+1] == ']'):\n",
    "                    temp_list.append(text[i+1:j])\n",
    "                    i = j\n",
    "                    break\n",
    "                j += 1\n",
    "\n",
    "        if text[j] == ']' and (text[j+1] == ',' or text[j+1] == ']'):\n",
    "            list_all.append(temp_list)\n",
    "            temp_list = []\n",
    "            if text[j+1] == ']':\n",
    "                break\n",
    "            else: \n",
    "                i = j + 3\n",
    "                j = i\n",
    "\n",
    "        i += 1\n",
    "        j += 1\n",
    "    \n",
    "    return list_all"
   ]
  },
  {
   "cell_type": "code",
   "execution_count": 13,
   "metadata": {
    "executionInfo": {
     "elapsed": 28075,
     "status": "ok",
     "timestamp": 1609340417396,
     "user": {
      "displayName": "Yanjun Wu",
      "photoUrl": "",
      "userId": "00204833314894086242"
     },
     "user_tz": -480
    },
    "id": "6dsgvGZ5nsA8"
   },
   "outputs": [],
   "source": [
    "for i in range(len(data.index)):\n",
    "    data.at[i, 'baidu_seg'] = seg_to_list(data.at[i, 'baidu_seg'])"
   ]
  },
  {
   "cell_type": "code",
   "execution_count": 14,
   "metadata": {
    "executionInfo": {
     "elapsed": 28075,
     "status": "ok",
     "timestamp": 1609340417397,
     "user": {
      "displayName": "Yanjun Wu",
      "photoUrl": "",
      "userId": "00204833314894086242"
     },
     "user_tz": -480
    },
    "id": "Q6fsW1EiiLlx"
   },
   "outputs": [],
   "source": [
    "# Remove stopwords\n",
    "stopwords = [line.strip() for line in open('stopwords.txt', encoding = 'UTF-8').readlines()]"
   ]
  },
  {
   "cell_type": "code",
   "execution_count": 16,
   "metadata": {
    "executionInfo": {
     "elapsed": 28074,
     "status": "ok",
     "timestamp": 1609340417397,
     "user": {
      "displayName": "Yanjun Wu",
      "photoUrl": "",
      "userId": "00204833314894086242"
     },
     "user_tz": -480
    },
    "id": "sXsStzW61qXA"
   },
   "outputs": [],
   "source": [
    "def remove_stopwords(wordlist):\n",
    "    output = [word for word in wordlist if word not in stopwords]\n",
    "    return output"
   ]
  },
  {
   "cell_type": "code",
   "execution_count": 19,
   "metadata": {
    "executionInfo": {
     "elapsed": 142026,
     "status": "ok",
     "timestamp": 1609340531350,
     "user": {
      "displayName": "Yanjun Wu",
      "photoUrl": "",
      "userId": "00204833314894086242"
     },
     "user_tz": -480
    },
    "id": "2vebkV-YsAwS"
   },
   "outputs": [],
   "source": [
    "for i in range(len(data.index)):\n",
    "    data.at[i, 'baidu_seg'] = [remove_stopwords(text) for text in data.at[i, 'baidu_seg']]"
   ]
  },
  {
   "cell_type": "code",
   "execution_count": null,
   "metadata": {},
   "outputs": [],
   "source": []
  },
  {
   "cell_type": "markdown",
   "metadata": {
    "id": "G_-8J_GK3NqO"
   },
   "source": [
    "# Process 'baidu_prob'"
   ]
  },
  {
   "cell_type": "code",
   "execution_count": 21,
   "metadata": {
    "executionInfo": {
     "elapsed": 142027,
     "status": "ok",
     "timestamp": 1609340531352,
     "user": {
      "displayName": "Yanjun Wu",
      "photoUrl": "",
      "userId": "00204833314894086242"
     },
     "user_tz": -480
    },
    "id": "8V9qHM593PPE"
   },
   "outputs": [],
   "source": [
    "def prob_to_list(text):\n",
    "    length = len(text)\n",
    "    list_all = []\n",
    "\n",
    "    i, j = 0, 0\n",
    "    while j < length - 1:\n",
    "        if text[i].isdigit():\n",
    "            while j < length:\n",
    "                if text[j] == ',' or text[j] == ']':\n",
    "                    list_all.append(float(text[i:j]))\n",
    "                    i = j\n",
    "                    break\n",
    "                j += 1\n",
    "        \n",
    "        i += 1\n",
    "        j += 1\n",
    "    \n",
    "    return list_all"
   ]
  },
  {
   "cell_type": "code",
   "execution_count": 22,
   "metadata": {
    "executionInfo": {
     "elapsed": 142554,
     "status": "ok",
     "timestamp": 1609340531879,
     "user": {
      "displayName": "Yanjun Wu",
      "photoUrl": "",
      "userId": "00204833314894086242"
     },
     "user_tz": -480
    },
    "id": "mMTFj2Dz4d79"
   },
   "outputs": [],
   "source": [
    "for i in range(len(data.index)):\n",
    "    data.at[i, 'baidu_prob'] = prob_to_list(data.at[i, 'baidu_prob'])"
   ]
  },
  {
   "cell_type": "markdown",
   "metadata": {
    "id": "-Ie4rcd46ipH"
   },
   "source": [
    "# View Data"
   ]
  },
  {
   "cell_type": "code",
   "execution_count": 23,
   "metadata": {
    "colab": {
     "base_uri": "https://localhost:8080/",
     "height": 374
    },
    "executionInfo": {
     "elapsed": 922,
     "status": "ok",
     "timestamp": 1609340536833,
     "user": {
      "displayName": "Yanjun Wu",
      "photoUrl": "",
      "userId": "00204833314894086242"
     },
     "user_tz": -480
    },
    "id": "LAncx62r6jqE",
    "outputId": "d93467b6-9b7a-4d33-a646-37c4f31b08c0"
   },
   "outputs": [
    {
     "data": {
      "text/html": [
       "<div>\n",
       "<style scoped>\n",
       "    .dataframe tbody tr th:only-of-type {\n",
       "        vertical-align: middle;\n",
       "    }\n",
       "\n",
       "    .dataframe tbody tr th {\n",
       "        vertical-align: top;\n",
       "    }\n",
       "\n",
       "    .dataframe thead th {\n",
       "        text-align: right;\n",
       "    }\n",
       "</style>\n",
       "<table border=\"1\" class=\"dataframe\">\n",
       "  <thead>\n",
       "    <tr style=\"text-align: right;\">\n",
       "      <th></th>\n",
       "      <th>content</th>\n",
       "      <th>split</th>\n",
       "      <th>baidu_seg</th>\n",
       "      <th>baidu_prob</th>\n",
       "      <th>label</th>\n",
       "      <th>content_index</th>\n",
       "    </tr>\n",
       "  </thead>\n",
       "  <tbody>\n",
       "    <tr>\n",
       "      <th>0</th>\n",
       "      <td>本网讯（通讯员孙静娴）12月13日上午，中建一局房地产公司组织召开第七次中心组学习（扩大）会...</td>\n",
       "      <td>[本网讯（通讯员孙静娴）12月13日上午，中建一局房地产公司组织召开第七次中心组学习（扩大）...</td>\n",
       "      <td>[[网讯, 通讯员, 孙静娴, 12月13日上午, 中建一局房地产公司, 组织, 召开, 第...</td>\n",
       "      <td>[0.00307655, 0.00122125, 0.00661374]</td>\n",
       "      <td>0.0</td>\n",
       "      <td>0</td>\n",
       "    </tr>\n",
       "    <tr>\n",
       "      <th>1</th>\n",
       "      <td>原标题：三项制度改革让“能者上、平者让、庸者下”11月11日，中建一局二公司生产组织中心主任...</td>\n",
       "      <td>[原标题：三项制度改革让“能者上、平者让、庸者下”11月11日，中建一局二公司生产组织中心主...</td>\n",
       "      <td>[[原, 标题, 三项, 制度, 改革, 能者, 平者, 庸者, 11月11日, 中建一局二...</td>\n",
       "      <td>[0.240754, 0.918229, 0.0709911]</td>\n",
       "      <td>0.0</td>\n",
       "      <td>1</td>\n",
       "    </tr>\n",
       "    <tr>\n",
       "      <th>2</th>\n",
       "      <td>原标题：六家工地劳动用工标准受到通报表彰记者29日从郑州城乡建设局了解到，今年第四季度，有6...</td>\n",
       "      <td>[原标题：六家工地劳动用工标准受到通报表彰记者29日从郑州城乡建设局了解到，今年第四季度，有...</td>\n",
       "      <td>[[原, 标题, 六家, 工地, 劳动, 用工, 标准, 通报, 表彰, 记者, 29日, ...</td>\n",
       "      <td>[0.0979948]</td>\n",
       "      <td>0.0</td>\n",
       "      <td>2</td>\n",
       "    </tr>\n",
       "    <tr>\n",
       "      <th>3</th>\n",
       "      <td>合肥八院始建于1952年，俗称三康医院，已走过67年的辉煌历史，是一所集医疗、护理、保健、教...</td>\n",
       "      <td>[合肥八院始建于1952年，俗称三康医院，已走过67年的辉煌历史，是一所集医疗、护理、保健、...</td>\n",
       "      <td>[[合肥八院, 始建于, 1952年, 俗称, 三康医院, 走过, 67年, 辉煌, 历史,...</td>\n",
       "      <td>[0.100506, 0.1208]</td>\n",
       "      <td>0.0</td>\n",
       "      <td>3</td>\n",
       "    </tr>\n",
       "    <tr>\n",
       "      <th>4</th>\n",
       "      <td>打造创新力，加强竞争力，提升发展力——近年来，中建一局二公司在全面加强党的领导的同时，立足企...</td>\n",
       "      <td>[打造创新力，加强竞争力，提升发展力——近年来，中建一局二公司在全面加强党的领导的同时，立足...</td>\n",
       "      <td>[[打造, 创新, 力, 加强, 竞争力, 提升, 发展, 力, 近年, 中建一局二公司, ...</td>\n",
       "      <td>[0.0123384, 0.514408, 0.28322]</td>\n",
       "      <td>0.0</td>\n",
       "      <td>4</td>\n",
       "    </tr>\n",
       "  </tbody>\n",
       "</table>\n",
       "</div>"
      ],
      "text/plain": [
       "                                             content  \\\n",
       "0  本网讯（通讯员孙静娴）12月13日上午，中建一局房地产公司组织召开第七次中心组学习（扩大）会...   \n",
       "1  原标题：三项制度改革让“能者上、平者让、庸者下”11月11日，中建一局二公司生产组织中心主任...   \n",
       "2  原标题：六家工地劳动用工标准受到通报表彰记者29日从郑州城乡建设局了解到，今年第四季度，有6...   \n",
       "3  合肥八院始建于1952年，俗称三康医院，已走过67年的辉煌历史，是一所集医疗、护理、保健、教...   \n",
       "4  打造创新力，加强竞争力，提升发展力——近年来，中建一局二公司在全面加强党的领导的同时，立足企...   \n",
       "\n",
       "                                               split  \\\n",
       "0  [本网讯（通讯员孙静娴）12月13日上午，中建一局房地产公司组织召开第七次中心组学习（扩大）...   \n",
       "1  [原标题：三项制度改革让“能者上、平者让、庸者下”11月11日，中建一局二公司生产组织中心主...   \n",
       "2  [原标题：六家工地劳动用工标准受到通报表彰记者29日从郑州城乡建设局了解到，今年第四季度，有...   \n",
       "3  [合肥八院始建于1952年，俗称三康医院，已走过67年的辉煌历史，是一所集医疗、护理、保健、...   \n",
       "4  [打造创新力，加强竞争力，提升发展力——近年来，中建一局二公司在全面加强党的领导的同时，立足...   \n",
       "\n",
       "                                           baidu_seg  \\\n",
       "0  [[网讯, 通讯员, 孙静娴, 12月13日上午, 中建一局房地产公司, 组织, 召开, 第...   \n",
       "1  [[原, 标题, 三项, 制度, 改革, 能者, 平者, 庸者, 11月11日, 中建一局二...   \n",
       "2  [[原, 标题, 六家, 工地, 劳动, 用工, 标准, 通报, 表彰, 记者, 29日, ...   \n",
       "3  [[合肥八院, 始建于, 1952年, 俗称, 三康医院, 走过, 67年, 辉煌, 历史,...   \n",
       "4  [[打造, 创新, 力, 加强, 竞争力, 提升, 发展, 力, 近年, 中建一局二公司, ...   \n",
       "\n",
       "                             baidu_prob  label  content_index  \n",
       "0  [0.00307655, 0.00122125, 0.00661374]    0.0              0  \n",
       "1       [0.240754, 0.918229, 0.0709911]    0.0              1  \n",
       "2                           [0.0979948]    0.0              2  \n",
       "3                    [0.100506, 0.1208]    0.0              3  \n",
       "4        [0.0123384, 0.514408, 0.28322]    0.0              4  "
      ]
     },
     "execution_count": 23,
     "metadata": {},
     "output_type": "execute_result"
    }
   ],
   "source": [
    "data.head()"
   ]
  },
  {
   "cell_type": "code",
   "execution_count": 24,
   "metadata": {
    "colab": {
     "base_uri": "https://localhost:8080/"
    },
    "executionInfo": {
     "elapsed": 925,
     "status": "ok",
     "timestamp": 1609340615940,
     "user": {
      "displayName": "Yanjun Wu",
      "photoUrl": "",
      "userId": "00204833314894086242"
     },
     "user_tz": -480
    },
    "id": "SlnKQSFgLEFX",
    "outputId": "2e8acc4e-524f-49ac-96ee-c7a6f1f53666"
   },
   "outputs": [
    {
     "data": {
      "text/plain": [
       "content          各地也纷纷出台配套意见。过程结算要求：过程结算文件直接作为竣工结算依据；先结算，后竣工；不结...\n",
       "split            [各地也纷纷出台配套意见。过程结算要求：过程结算文件直接作为竣工结算依据；先结算，后竣工；不...\n",
       "baidu_seg        [[各地, 纷纷, 出台, 配套, 意见, 过程, 结算, 要求, 过程, 结算, 文件, ...\n",
       "baidu_prob       [0.991483, 0.00862393, 0.047756, 0.00427403, 0...\n",
       "label                                                          NaN\n",
       "content_index                                                15982\n",
       "Name: 15982, dtype: object"
      ]
     },
     "execution_count": 24,
     "metadata": {},
     "output_type": "execute_result"
    }
   ],
   "source": [
    "data.loc[15982]"
   ]
  },
  {
   "cell_type": "markdown",
   "metadata": {
    "id": "AzzWvfWt7XFF"
   },
   "source": [
    "# Simplify"
   ]
  },
  {
   "cell_type": "code",
   "execution_count": 25,
   "metadata": {
    "executionInfo": {
     "elapsed": 1232,
     "status": "ok",
     "timestamp": 1609340631831,
     "user": {
      "displayName": "Yanjun Wu",
      "photoUrl": "",
      "userId": "00204833314894086242"
     },
     "user_tz": -480
    },
    "id": "NkROy2eU_uer"
   },
   "outputs": [],
   "source": [
    "seg_list = []\n",
    "for i in range(len(data.index)):\n",
    "    for text in data.at[i, 'baidu_seg']:\n",
    "        seg_list.append(text)"
   ]
  },
  {
   "cell_type": "code",
   "execution_count": 31,
   "metadata": {
    "executionInfo": {
     "elapsed": 1127,
     "status": "ok",
     "timestamp": 1609340636941,
     "user": {
      "displayName": "Yanjun Wu",
      "photoUrl": "",
      "userId": "00204833314894086242"
     },
     "user_tz": -480
    },
    "id": "9kof8dqUJLzo"
   },
   "outputs": [],
   "source": [
    "prob_list = []\n",
    "content_list = []\n",
    "content_index_list = []\n",
    "for i in range(len(data.index)):\n",
    "    content_i = data.loc[i,'content']\n",
    "    content_index_i = data.loc[i,'content_index']\n",
    "    for prob in data.at[i, 'baidu_prob']:\n",
    "        prob_list.append(prob)\n",
    "        content_list.append(content_i)\n",
    "        content_index_list.append(content_index_i)"
   ]
  },
  {
   "cell_type": "code",
   "execution_count": null,
   "metadata": {},
   "outputs": [],
   "source": []
  },
  {
   "cell_type": "code",
   "execution_count": 32,
   "metadata": {
    "executionInfo": {
     "elapsed": 1454,
     "status": "ok",
     "timestamp": 1609340675987,
     "user": {
      "displayName": "Yanjun Wu",
      "photoUrl": "",
      "userId": "00204833314894086242"
     },
     "user_tz": -480
    },
    "id": "Xfrq9xkkI_T_"
   },
   "outputs": [],
   "source": [
    "data_sim = pd.DataFrame({'baidu_seg': seg_list, 'baidu_prob': prob_list, 'content' : content_list, 'content_index':content_index_list})"
   ]
  },
  {
   "cell_type": "code",
   "execution_count": 33,
   "metadata": {
    "colab": {
     "base_uri": "https://localhost:8080/"
    },
    "executionInfo": {
     "elapsed": 896,
     "status": "ok",
     "timestamp": 1609340681506,
     "user": {
      "displayName": "Yanjun Wu",
      "photoUrl": "",
      "userId": "00204833314894086242"
     },
     "user_tz": -480
    },
    "id": "eEBnjRVlI_4u",
    "outputId": "f2a66baa-e49a-4057-8f73-2416b48171dc"
   },
   "outputs": [
    {
     "data": {
      "text/plain": [
       "66760"
      ]
     },
     "execution_count": 33,
     "metadata": {},
     "output_type": "execute_result"
    }
   ],
   "source": [
    "len(data_sim.index)"
   ]
  },
  {
   "cell_type": "code",
   "execution_count": 36,
   "metadata": {
    "colab": {
     "base_uri": "https://localhost:8080/",
     "height": 359
    },
    "executionInfo": {
     "elapsed": 1112,
     "status": "ok",
     "timestamp": 1609340690697,
     "user": {
      "displayName": "Yanjun Wu",
      "photoUrl": "",
      "userId": "00204833314894086242"
     },
     "user_tz": -480
    },
    "id": "MPurd5CzJMuS",
    "outputId": "bda85435-2dd1-46af-ab22-45aa13c9fabe"
   },
   "outputs": [],
   "source": [
    "data_sim.to_csv('data_sim_with_content_and_idx.csv')"
   ]
  },
  {
   "cell_type": "code",
   "execution_count": null,
   "metadata": {},
   "outputs": [],
   "source": []
  }
 ],
 "metadata": {
  "colab": {
   "authorship_tag": "ABX9TyPFrk6rijVTtanVxfPrMdrF",
   "collapsed_sections": [],
   "name": "Data Processing.ipynb",
   "provenance": []
  },
  "kernelspec": {
   "display_name": "Python 3",
   "language": "python",
   "name": "python3"
  },
  "language_info": {
   "codemirror_mode": {
    "name": "ipython",
    "version": 3
   },
   "file_extension": ".py",
   "mimetype": "text/x-python",
   "name": "python",
   "nbconvert_exporter": "python",
   "pygments_lexer": "ipython3",
   "version": "3.7.9"
  }
 },
 "nbformat": 4,
 "nbformat_minor": 1
}
