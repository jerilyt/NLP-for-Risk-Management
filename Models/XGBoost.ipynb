{
 "cells": [
  {
   "cell_type": "code",
   "execution_count": 1,
   "metadata": {},
   "outputs": [],
   "source": [
    "import numpy as np\n",
    "import pandas as pd\n",
    "import matplotlib.pyplot as plt\n",
    "import seaborn as sns"
   ]
  },
  {
   "cell_type": "code",
   "execution_count": 2,
   "metadata": {},
   "outputs": [],
   "source": [
    "import matplotlib.pyplot as plt\n",
    "from scipy.stats import gaussian_kde"
   ]
  },
  {
   "cell_type": "code",
   "execution_count": 3,
   "metadata": {},
   "outputs": [],
   "source": [
    "import jieba as jb\n",
    "import re"
   ]
  },
  {
   "cell_type": "code",
   "execution_count": 4,
   "metadata": {},
   "outputs": [],
   "source": [
    "from tensorflow.keras.preprocessing.text import Tokenizer\n",
    "from tensorflow.keras.preprocessing.sequence import pad_sequences\n",
    "from tensorflow.keras.utils import to_categorical\n",
    "import numpy as np\n",
    "\n",
    "from tensorflow.keras.layers import Dense, Input, Flatten, Dropout\n",
    "from tensorflow.keras.layers import Conv1D, MaxPooling1D, Embedding\n",
    "from tensorflow.keras.models import Sequential\n"
   ]
  },
  {
   "cell_type": "code",
   "execution_count": 92,
   "metadata": {},
   "outputs": [],
   "source": [
    "from sklearn.linear_model import LogisticRegression\n",
    "from sklearn.ensemble import RandomForestClassifier\n",
    "from sklearn.naive_bayes import MultinomialNB\n",
    "from sklearn.svm import LinearSVC\n",
    "from sklearn.svm import SVC\n",
    " \n",
    "from sklearn.model_selection import cross_val_score\n",
    "from sklearn.model_selection import train_test_split\n",
    "from imblearn.over_sampling import RandomOverSampler"
   ]
  },
  {
   "cell_type": "code",
   "execution_count": 32,
   "metadata": {},
   "outputs": [],
   "source": [
    "from sklearn.linear_model import LogisticRegression\n",
    "from sklearn.ensemble import RandomForestClassifier\n",
    "from sklearn.naive_bayes import MultinomialNB\n",
    "from sklearn.svm import LinearSVC\n",
    "from sklearn.model_selection import train_test_split\n",
    "from sklearn.metrics import accuracy_score, confusion_matrix, classification_report"
   ]
  },
  {
   "cell_type": "code",
   "execution_count": 33,
   "metadata": {},
   "outputs": [],
   "source": [
    "from sklearn.linear_model import LogisticRegression\n",
    "from sklearn.model_selection import train_test_split\n",
    "from sklearn.preprocessing import LabelEncoder"
   ]
  },
  {
   "cell_type": "code",
   "execution_count": 28,
   "metadata": {},
   "outputs": [],
   "source": [
    "from sklearn.model_selection import GridSearchCV\n",
    "import time\n"
   ]
  },
  {
   "cell_type": "code",
   "execution_count": 7,
   "metadata": {},
   "outputs": [],
   "source": [
    "pd.set_option('display.max_rows', None)\n",
    "pd.set_option('display.max_columns', None)\n",
    "pd.set_option(\"display.max_colwidth\",None)\n",
    "pd.set_option('display.width',None)"
   ]
  },
  {
   "cell_type": "code",
   "execution_count": 8,
   "metadata": {},
   "outputs": [],
   "source": [
    "import xgboost as xgb"
   ]
  },
  {
   "cell_type": "code",
   "execution_count": null,
   "metadata": {},
   "outputs": [],
   "source": []
  },
  {
   "cell_type": "code",
   "execution_count": null,
   "metadata": {},
   "outputs": [],
   "source": []
  },
  {
   "cell_type": "code",
   "execution_count": 39,
   "metadata": {},
   "outputs": [],
   "source": [
    "# performance\n",
    "performance_df = pd.DataFrame()\n",
    "def sklearn_perform(model_name,performance,performance_df):\n",
    "    perform_1 = pd.DataFrame(performance['1'],index = [model_name])\n",
    "    perform_0 = pd.DataFrame(performance['0'],index = [model_name])\n",
    "    perform_macro = pd.DataFrame(performance['macro avg'],index = [model_name])\n",
    "    perform_weighted = pd.DataFrame(performance['weighted avg'],index = [model_name])\n",
    "    performance_model = pd.DataFrame()\n",
    "    performance_model.loc[model_name,'accuracy'] = performance['accuracy']    \n",
    "    \n",
    "    performance_model = pd.concat([performance_model,perform_1,perform_0,perform_macro,perform_weighted],axis = 1)    \n",
    "    performance_df = pd.concat([performance_df,performance_model],axis = 0)\n",
    "    return performance_df"
   ]
  },
  {
   "cell_type": "code",
   "execution_count": 101,
   "metadata": {},
   "outputs": [],
   "source": [
    "newvalues_w2v = pd.read_csv('word2vec_gb_wx_0.95_withcontent.csv').drop('Unnamed: 0',axis = 1)"
   ]
  },
  {
   "cell_type": "code",
   "execution_count": 102,
   "metadata": {},
   "outputs": [],
   "source": [
    "content_index_list = list(set(newvalues_w2v.content_index))"
   ]
  },
  {
   "cell_type": "code",
   "execution_count": 103,
   "metadata": {},
   "outputs": [],
   "source": [
    "import random\n",
    "# split 80% contents for training   11964.\n",
    "random.seed(1)\n",
    "train_content_idx = random.sample(content_index_list, int(len(content_index_list)*0.8))"
   ]
  },
  {
   "cell_type": "code",
   "execution_count": 104,
   "metadata": {},
   "outputs": [],
   "source": [
    "test_content_idx = list(set(content_index_list) - set(train_content_idx))"
   ]
  },
  {
   "cell_type": "code",
   "execution_count": 105,
   "metadata": {},
   "outputs": [],
   "source": [
    "train_dataset = newvalues_w2v[newvalues_w2v.content_index.isin(train_content_idx)]\n",
    "test_dataset = newvalues_w2v[newvalues_w2v.content_index.isin(test_content_idx)]"
   ]
  },
  {
   "cell_type": "code",
   "execution_count": 106,
   "metadata": {},
   "outputs": [],
   "source": [
    "train_X = train_dataset.iloc[:,6:]\n",
    "test_X = test_dataset.iloc[:,6:]\n",
    "train_y = train_dataset.label\n",
    "test_y = test_dataset.label"
   ]
  },
  {
   "cell_type": "code",
   "execution_count": 107,
   "metadata": {},
   "outputs": [],
   "source": [
    "def plot_roc(labels, predict_prob):\n",
    "    false_positive_rate,true_positive_rate,thresholds=roc_curve(labels, predict_prob)\n",
    "    roc_auc=auc(false_positive_rate, true_positive_rate)\n",
    "    plt.title('ROC')\n",
    "    plt.plot(false_positive_rate, true_positive_rate,'b',label='AUC = %0.4f'% roc_auc)\n",
    "    plt.legend(loc='lower right')\n",
    "    plt.plot([0,1],[0,1],'r--')\n",
    "    plt.ylabel('TPR')\n",
    "    plt.xlabel('FPR')\n",
    "\n",
    "def generate_result_data(test, y_pred):\n",
    "    test['prediction'] = y_pred\n",
    "    test_result = test[['content','content_index','label','prediction']].groupby(['content','content_index']).agg(['sum'])\n",
    "    test_result = test_result.reset_index()\n",
    "    test_result.columns = ['content','content_index','actual_neg','predictive_neg']\n",
    "    return test_result"
   ]
  },
  {
   "cell_type": "code",
   "execution_count": null,
   "metadata": {},
   "outputs": [],
   "source": []
  },
  {
   "cell_type": "code",
   "execution_count": 108,
   "metadata": {},
   "outputs": [],
   "source": [
    "\n",
    "train_xgb = train_dataset.copy()\n",
    "test_xgb = test_dataset.copy()\n",
    "train_X_xgb = train_X.copy()\n",
    "test_X_xgb = test_X.copy()\n",
    "train_y_xgb = train_y.copy()\n",
    "test_y_xgb = test_y.copy()\n"
   ]
  },
  {
   "cell_type": "code",
   "execution_count": 109,
   "metadata": {},
   "outputs": [],
   "source": [
    "xgb_model = xgb.XGBClassifier(max_depth=5,\n",
    "                                      learning_rate= 0.05, #0.0001到0.1之间 太小速度很慢\n",
    "                                      verbosity=1, \n",
    "                                      objective='binary:logistic',\n",
    "                                      subsample = 0.7,\n",
    "                                      colsample_bytree = 0.7,\n",
    "                                      scale_pos_weight = 43770/16572, #不平衡处理 根据word2vec_gb_wx.label.value_counts() 决定\n",
    "                                      random_state=1,\n",
    "                                      nthreads = -1 #这里没有用到n_estimator, 因为用early_stopping_rounds使得auc最优\n",
    "                             )"
   ]
  },
  {
   "cell_type": "code",
   "execution_count": 110,
   "metadata": {},
   "outputs": [],
   "source": [
    "train_X_xgb, val_X_xgb, train_y_xgb, val_y_xgb = train_test_split(train_X_xgb, train_y_xgb, test_size=0.1)"
   ]
  },
  {
   "cell_type": "code",
   "execution_count": 111,
   "metadata": {
    "scrolled": true
   },
   "outputs": [
    {
     "name": "stdout",
     "output_type": "stream",
     "text": [
      "[0]\tvalidation_0-auc:0.868943\n",
      "Will train until validation_0-auc hasn't improved in 10 rounds.\n",
      "[1]\tvalidation_0-auc:0.892828\n",
      "[2]\tvalidation_0-auc:0.902423\n",
      "[3]\tvalidation_0-auc:0.906729\n",
      "[4]\tvalidation_0-auc:0.91046\n",
      "[5]\tvalidation_0-auc:0.913597\n",
      "[6]\tvalidation_0-auc:0.916362\n",
      "[7]\tvalidation_0-auc:0.91773\n",
      "[8]\tvalidation_0-auc:0.919089\n",
      "[9]\tvalidation_0-auc:0.920568\n",
      "[10]\tvalidation_0-auc:0.921264\n",
      "[11]\tvalidation_0-auc:0.922181\n",
      "[12]\tvalidation_0-auc:0.924384\n",
      "[13]\tvalidation_0-auc:0.924498\n",
      "[14]\tvalidation_0-auc:0.925295\n",
      "[15]\tvalidation_0-auc:0.926445\n",
      "[16]\tvalidation_0-auc:0.926538\n",
      "[17]\tvalidation_0-auc:0.926547\n",
      "[18]\tvalidation_0-auc:0.926739\n",
      "[19]\tvalidation_0-auc:0.927241\n",
      "[20]\tvalidation_0-auc:0.927776\n",
      "[21]\tvalidation_0-auc:0.928459\n",
      "[22]\tvalidation_0-auc:0.928921\n",
      "[23]\tvalidation_0-auc:0.929176\n",
      "[24]\tvalidation_0-auc:0.929905\n",
      "[25]\tvalidation_0-auc:0.929966\n",
      "[26]\tvalidation_0-auc:0.93039\n",
      "[27]\tvalidation_0-auc:0.930797\n",
      "[28]\tvalidation_0-auc:0.93106\n",
      "[29]\tvalidation_0-auc:0.93168\n",
      "[30]\tvalidation_0-auc:0.931839\n",
      "[31]\tvalidation_0-auc:0.932566\n",
      "[32]\tvalidation_0-auc:0.933011\n",
      "[33]\tvalidation_0-auc:0.932985\n",
      "[34]\tvalidation_0-auc:0.933736\n",
      "[35]\tvalidation_0-auc:0.933922\n",
      "[36]\tvalidation_0-auc:0.934356\n",
      "[37]\tvalidation_0-auc:0.934655\n",
      "[38]\tvalidation_0-auc:0.934886\n",
      "[39]\tvalidation_0-auc:0.935212\n",
      "[40]\tvalidation_0-auc:0.935494\n",
      "[41]\tvalidation_0-auc:0.93569\n",
      "[42]\tvalidation_0-auc:0.936346\n",
      "[43]\tvalidation_0-auc:0.936517\n",
      "[44]\tvalidation_0-auc:0.936727\n",
      "[45]\tvalidation_0-auc:0.936945\n",
      "[46]\tvalidation_0-auc:0.937187\n",
      "[47]\tvalidation_0-auc:0.937427\n",
      "[48]\tvalidation_0-auc:0.937768\n",
      "[49]\tvalidation_0-auc:0.938084\n",
      "[50]\tvalidation_0-auc:0.938079\n",
      "[51]\tvalidation_0-auc:0.938374\n",
      "[52]\tvalidation_0-auc:0.938541\n",
      "[53]\tvalidation_0-auc:0.938686\n",
      "[54]\tvalidation_0-auc:0.938869\n",
      "[55]\tvalidation_0-auc:0.938921\n",
      "[56]\tvalidation_0-auc:0.939149\n",
      "[57]\tvalidation_0-auc:0.93936\n",
      "[58]\tvalidation_0-auc:0.939666\n",
      "[59]\tvalidation_0-auc:0.939776\n",
      "[60]\tvalidation_0-auc:0.939981\n",
      "[61]\tvalidation_0-auc:0.940185\n",
      "[62]\tvalidation_0-auc:0.940376\n",
      "[63]\tvalidation_0-auc:0.940524\n",
      "[64]\tvalidation_0-auc:0.940592\n",
      "[65]\tvalidation_0-auc:0.940714\n",
      "[66]\tvalidation_0-auc:0.940825\n",
      "[67]\tvalidation_0-auc:0.941056\n",
      "[68]\tvalidation_0-auc:0.941358\n",
      "[69]\tvalidation_0-auc:0.941492\n",
      "[70]\tvalidation_0-auc:0.941742\n",
      "[71]\tvalidation_0-auc:0.942083\n",
      "[72]\tvalidation_0-auc:0.942307\n",
      "[73]\tvalidation_0-auc:0.942503\n",
      "[74]\tvalidation_0-auc:0.942655\n",
      "[75]\tvalidation_0-auc:0.942885\n",
      "[76]\tvalidation_0-auc:0.942884\n",
      "[77]\tvalidation_0-auc:0.943031\n",
      "[78]\tvalidation_0-auc:0.943316\n",
      "[79]\tvalidation_0-auc:0.943595\n",
      "[80]\tvalidation_0-auc:0.943775\n",
      "[81]\tvalidation_0-auc:0.943938\n",
      "[82]\tvalidation_0-auc:0.944172\n",
      "[83]\tvalidation_0-auc:0.944323\n",
      "[84]\tvalidation_0-auc:0.944375\n",
      "[85]\tvalidation_0-auc:0.944556\n",
      "[86]\tvalidation_0-auc:0.944876\n",
      "[87]\tvalidation_0-auc:0.945078\n",
      "[88]\tvalidation_0-auc:0.945128\n",
      "[89]\tvalidation_0-auc:0.945185\n",
      "[90]\tvalidation_0-auc:0.945186\n",
      "[91]\tvalidation_0-auc:0.945346\n",
      "[92]\tvalidation_0-auc:0.945444\n",
      "[93]\tvalidation_0-auc:0.945583\n",
      "[94]\tvalidation_0-auc:0.945744\n",
      "[95]\tvalidation_0-auc:0.945807\n",
      "[96]\tvalidation_0-auc:0.945994\n",
      "[97]\tvalidation_0-auc:0.946114\n",
      "[98]\tvalidation_0-auc:0.946223\n",
      "[99]\tvalidation_0-auc:0.946378\n"
     ]
    },
    {
     "data": {
      "text/plain": [
       "69.76391291618347"
      ]
     },
     "execution_count": 111,
     "metadata": {},
     "output_type": "execute_result"
    }
   ],
   "source": [
    "startTime = time.time()\n",
    "\n",
    "xgb_model.fit(train_X_xgb, train_y_xgb, early_stopping_rounds=10, eval_metric=\"auc\",\n",
    "        eval_set=[(val_X_xgb, val_y_xgb)])\n",
    "\n",
    "usedTime = time.time() - startTime\n",
    "usedTime"
   ]
  },
  {
   "cell_type": "code",
   "execution_count": 112,
   "metadata": {},
   "outputs": [],
   "source": [
    "y_pred_xgb = xgb_model.predict(test_X_xgb)"
   ]
  },
  {
   "cell_type": "code",
   "execution_count": null,
   "metadata": {},
   "outputs": [],
   "source": []
  },
  {
   "cell_type": "code",
   "execution_count": 113,
   "metadata": {},
   "outputs": [
    {
     "name": "stdout",
     "output_type": "stream",
     "text": [
      "              precision    recall  f1-score   support\n",
      "\n",
      "           0     0.9625    0.9426    0.9524     10486\n",
      "           1     0.5805    0.6839    0.6280      1218\n",
      "\n",
      "    accuracy                         0.9157     11704\n",
      "   macro avg     0.7715    0.8132    0.7902     11704\n",
      "weighted avg     0.9228    0.9157    0.9187     11704\n",
      "\n"
     ]
    }
   ],
   "source": [
    "print(classification_report(test_y_xgb, y_pred_xgb,digits=4))"
   ]
  },
  {
   "cell_type": "code",
   "execution_count": 114,
   "metadata": {},
   "outputs": [
    {
     "data": {
      "image/png": "[encoded data removed]",
      "text/plain": [
       "<Figure size 432x288 with 1 Axes>"
      ]
     },
     "metadata": {
      "needs_background": "light"
     },
     "output_type": "display_data"
    }
   ],
   "source": [
    "mat = confusion_matrix(y_pred_xgb,test_y_xgb)\n",
    "sns.heatmap(mat, square=True, annot=True, cbar=False,fmt='.20g')\n",
    "plt.xlabel(\"Actual Result\")\n",
    "plt.ylabel(\"Predicted Result\")\n",
    "a, b = plt.ylim() \n",
    "a += 0.5 \n",
    "b -= 0.5 \n",
    "plt.ylim(a, b) \n",
    "plt.show() "
   ]
  },
  {
   "cell_type": "code",
   "execution_count": 115,
   "metadata": {},
   "outputs": [
    {
     "data": {
      "text/html": [
       "<div>\n",
       "<style scoped>\n",
       "    .dataframe tbody tr th:only-of-type {\n",
       "        vertical-align: middle;\n",
       "    }\n",
       "\n",
       "    .dataframe tbody tr th {\n",
       "        vertical-align: top;\n",
       "    }\n",
       "\n",
       "    .dataframe thead th {\n",
       "        text-align: right;\n",
       "    }\n",
       "</style>\n",
       "<table border=\"1\" class=\"dataframe\">\n",
       "  <thead>\n",
       "    <tr style=\"text-align: right;\">\n",
       "      <th></th>\n",
       "      <th>accuracy</th>\n",
       "      <th>precision</th>\n",
       "      <th>recall</th>\n",
       "      <th>f1-score</th>\n",
       "      <th>support</th>\n",
       "      <th>precision</th>\n",
       "      <th>recall</th>\n",
       "      <th>f1-score</th>\n",
       "      <th>support</th>\n",
       "      <th>precision</th>\n",
       "      <th>recall</th>\n",
       "      <th>f1-score</th>\n",
       "      <th>support</th>\n",
       "      <th>precision</th>\n",
       "      <th>recall</th>\n",
       "      <th>f1-score</th>\n",
       "      <th>support</th>\n",
       "    </tr>\n",
       "  </thead>\n",
       "  <tbody>\n",
       "    <tr>\n",
       "      <th>fbwx_w2v_XGBoost</th>\n",
       "      <td>0.914303</td>\n",
       "      <td>0.573985</td>\n",
       "      <td>0.684729</td>\n",
       "      <td>0.624485</td>\n",
       "      <td>1218</td>\n",
       "      <td>0.962540</td>\n",
       "      <td>0.940969</td>\n",
       "      <td>0.951632</td>\n",
       "      <td>10486</td>\n",
       "      <td>0.768263</td>\n",
       "      <td>0.812849</td>\n",
       "      <td>0.788059</td>\n",
       "      <td>11704</td>\n",
       "      <td>0.922104</td>\n",
       "      <td>0.914303</td>\n",
       "      <td>0.917587</td>\n",
       "      <td>11704</td>\n",
       "    </tr>\n",
       "    <tr>\n",
       "      <th>fbwx_w2v_XGBoost</th>\n",
       "      <td>0.918917</td>\n",
       "      <td>0.887608</td>\n",
       "      <td>0.252874</td>\n",
       "      <td>0.393610</td>\n",
       "      <td>1218</td>\n",
       "      <td>0.919873</td>\n",
       "      <td>0.996281</td>\n",
       "      <td>0.956554</td>\n",
       "      <td>10486</td>\n",
       "      <td>0.903741</td>\n",
       "      <td>0.624577</td>\n",
       "      <td>0.675082</td>\n",
       "      <td>11704</td>\n",
       "      <td>0.916515</td>\n",
       "      <td>0.918917</td>\n",
       "      <td>0.897970</td>\n",
       "      <td>11704</td>\n",
       "    </tr>\n",
       "    <tr>\n",
       "      <th>fbwx_w2v_XGBoost</th>\n",
       "      <td>0.916183</td>\n",
       "      <td>0.583275</td>\n",
       "      <td>0.681445</td>\n",
       "      <td>0.628550</td>\n",
       "      <td>1218</td>\n",
       "      <td>0.962260</td>\n",
       "      <td>0.943448</td>\n",
       "      <td>0.952762</td>\n",
       "      <td>10486</td>\n",
       "      <td>0.772768</td>\n",
       "      <td>0.812447</td>\n",
       "      <td>0.790656</td>\n",
       "      <td>11704</td>\n",
       "      <td>0.922821</td>\n",
       "      <td>0.916183</td>\n",
       "      <td>0.919022</td>\n",
       "      <td>11704</td>\n",
       "    </tr>\n",
       "    <tr>\n",
       "      <th>fbwx_w2v_XGBoost</th>\n",
       "      <td>0.915670</td>\n",
       "      <td>0.580488</td>\n",
       "      <td>0.683908</td>\n",
       "      <td>0.627968</td>\n",
       "      <td>1218</td>\n",
       "      <td>0.962509</td>\n",
       "      <td>0.942590</td>\n",
       "      <td>0.952445</td>\n",
       "      <td>10486</td>\n",
       "      <td>0.771498</td>\n",
       "      <td>0.813249</td>\n",
       "      <td>0.790207</td>\n",
       "      <td>11704</td>\n",
       "      <td>0.922753</td>\n",
       "      <td>0.915670</td>\n",
       "      <td>0.918678</td>\n",
       "      <td>11704</td>\n",
       "    </tr>\n",
       "  </tbody>\n",
       "</table>\n",
       "</div>"
      ],
      "text/plain": [
       "                  accuracy  precision    recall  f1-score  support  precision  \\\n",
       "fbwx_w2v_XGBoost  0.914303   0.573985  0.684729  0.624485     1218   0.962540   \n",
       "fbwx_w2v_XGBoost  0.918917   0.887608  0.252874  0.393610     1218   0.919873   \n",
       "fbwx_w2v_XGBoost  0.916183   0.583275  0.681445  0.628550     1218   0.962260   \n",
       "fbwx_w2v_XGBoost  0.915670   0.580488  0.683908  0.627968     1218   0.962509   \n",
       "\n",
       "                    recall  f1-score  support  precision    recall  f1-score  \\\n",
       "fbwx_w2v_XGBoost  0.940969  0.951632    10486   0.768263  0.812849  0.788059   \n",
       "fbwx_w2v_XGBoost  0.996281  0.956554    10486   0.903741  0.624577  0.675082   \n",
       "fbwx_w2v_XGBoost  0.943448  0.952762    10486   0.772768  0.812447  0.790656   \n",
       "fbwx_w2v_XGBoost  0.942590  0.952445    10486   0.771498  0.813249  0.790207   \n",
       "\n",
       "                  support  precision    recall  f1-score  support  \n",
       "fbwx_w2v_XGBoost    11704   0.922104  0.914303  0.917587    11704  \n",
       "fbwx_w2v_XGBoost    11704   0.916515  0.918917  0.897970    11704  \n",
       "fbwx_w2v_XGBoost    11704   0.922821  0.916183  0.919022    11704  \n",
       "fbwx_w2v_XGBoost    11704   0.922753  0.915670  0.918678    11704  "
      ]
     },
     "execution_count": 115,
     "metadata": {},
     "output_type": "execute_result"
    }
   ],
   "source": [
    "fbwx_w2v_xgb_performance = classification_report(test_y_xgb, \n",
    "                                                 y_pred_xgb,\n",
    "                                                 digits=4,output_dict=True)\n",
    "performance = fbwx_w2v_xgb_performance\n",
    "model_name = 'fbwx_w2v_XGBoost'\n",
    "performance_df = sklearn_perform(model_name,performance,performance_df)\n",
    "performance_df"
   ]
  },
  {
   "cell_type": "code",
   "execution_count": 154,
   "metadata": {},
   "outputs": [],
   "source": [
    "test_result_xgb = generate_result_data(test_xgb,y_pred_xgb)"
   ]
  },
  {
   "cell_type": "code",
   "execution_count": 155,
   "metadata": {},
   "outputs": [
    {
     "data": {
      "text/plain": [
       "(149, 4)"
      ]
     },
     "execution_count": 155,
     "metadata": {},
     "output_type": "execute_result"
    }
   ],
   "source": [
    "test_result_xgb[(test_result_xgb.actual_neg != 0) & \n",
    "               (test_result_xgb.predictive_neg == 0)].shape  # 有148篇实际负的预测为正"
   ]
  },
  {
   "cell_type": "code",
   "execution_count": 156,
   "metadata": {},
   "outputs": [
    {
     "data": {
      "text/plain": [
       "(497, 4)"
      ]
     },
     "execution_count": 156,
     "metadata": {},
     "output_type": "execute_result"
    }
   ],
   "source": [
    "test_result_xgb[(test_result_xgb.predictive_neg != 0)].shape   # 共返回497篇文章"
   ]
  },
  {
   "cell_type": "code",
   "execution_count": null,
   "metadata": {},
   "outputs": [],
   "source": []
  },
  {
   "cell_type": "code",
   "execution_count": 127,
   "metadata": {},
   "outputs": [],
   "source": [
    "train_xgb_resampling = train_dataset.copy()\n",
    "test_xgb_resampling = test_dataset.copy()\n",
    "train_X_xgb_resampling = train_X.copy()\n",
    "test_X_xgb_resampling = test_X.copy()\n",
    "train_y_xgb_resampling = train_y.copy()\n",
    "test_y_xgb_resampling = test_y.copy()\n",
    "\n",
    "X_resampling = np.array(train_X_xgb_resampling)\n",
    "y_resampling = train_y_xgb_resampling\n",
    "ros = RandomOverSampler(random_state=0)\n",
    "X_resampled_naive, y_resampled_naive = ros.fit_resample(X_resampling, y_resampling)"
   ]
  },
  {
   "cell_type": "code",
   "execution_count": 129,
   "metadata": {},
   "outputs": [],
   "source": [
    "xgb_model = xgb.XGBClassifier(max_depth=5,\n",
    "                                      learning_rate= 0.05, #0.0001到0.1之间 太小速度很慢\n",
    "                                      verbosity=1, \n",
    "                                      objective='binary:logistic',\n",
    "                                      subsample = 0.7,\n",
    "                                      colsample_bytree = 0.7, \n",
    "                                      random_state=1,\n",
    "                                      nthreads = -1 #这里没有用到n_estimator, 因为用early_stopping_rounds使得auc最优\n",
    "                             )"
   ]
  },
  {
   "cell_type": "code",
   "execution_count": 130,
   "metadata": {},
   "outputs": [],
   "source": [
    "train_X_xgb_resampling, val_X_xgb_resampling, train_y_xgb_resampling, val_y_xgb_resampling = train_test_split(X_resampled_naive, \n",
    "                                                                                                              y_resampled_naive, test_size=0.1)"
   ]
  },
  {
   "cell_type": "code",
   "execution_count": 133,
   "metadata": {
    "collapsed": true
   },
   "outputs": [
    {
     "name": "stdout",
     "output_type": "stream",
     "text": [
      "[0]\tvalidation_0-auc:0.886017\n",
      "Will train until validation_0-auc hasn't improved in 10 rounds.\n",
      "[1]\tvalidation_0-auc:0.905806\n",
      "[2]\tvalidation_0-auc:0.915614\n",
      "[3]\tvalidation_0-auc:0.918769\n",
      "[4]\tvalidation_0-auc:0.921832\n",
      "[5]\tvalidation_0-auc:0.924807\n",
      "[6]\tvalidation_0-auc:0.928618\n",
      "[7]\tvalidation_0-auc:0.929565\n",
      "[8]\tvalidation_0-auc:0.93053\n",
      "[9]\tvalidation_0-auc:0.932309\n",
      "[10]\tvalidation_0-auc:0.933128\n",
      "[11]\tvalidation_0-auc:0.93371\n",
      "[12]\tvalidation_0-auc:0.93435\n",
      "[13]\tvalidation_0-auc:0.935839\n",
      "[14]\tvalidation_0-auc:0.936477\n",
      "[15]\tvalidation_0-auc:0.937258\n",
      "[16]\tvalidation_0-auc:0.937936\n",
      "[17]\tvalidation_0-auc:0.938323\n",
      "[18]\tvalidation_0-auc:0.939058\n",
      "[19]\tvalidation_0-auc:0.939879\n",
      "[20]\tvalidation_0-auc:0.940327\n",
      "[21]\tvalidation_0-auc:0.940667\n",
      "[22]\tvalidation_0-auc:0.941178\n",
      "[23]\tvalidation_0-auc:0.9414\n",
      "[24]\tvalidation_0-auc:0.941844\n",
      "[25]\tvalidation_0-auc:0.942548\n",
      "[26]\tvalidation_0-auc:0.942782\n",
      "[27]\tvalidation_0-auc:0.943135\n",
      "[28]\tvalidation_0-auc:0.94411\n",
      "[29]\tvalidation_0-auc:0.94464\n",
      "[30]\tvalidation_0-auc:0.945162\n",
      "[31]\tvalidation_0-auc:0.945646\n",
      "[32]\tvalidation_0-auc:0.946041\n",
      "[33]\tvalidation_0-auc:0.946326\n",
      "[34]\tvalidation_0-auc:0.946679\n",
      "[35]\tvalidation_0-auc:0.946848\n",
      "[36]\tvalidation_0-auc:0.947286\n",
      "[37]\tvalidation_0-auc:0.94757\n",
      "[38]\tvalidation_0-auc:0.947773\n",
      "[39]\tvalidation_0-auc:0.948114\n",
      "[40]\tvalidation_0-auc:0.948542\n",
      "[41]\tvalidation_0-auc:0.949013\n",
      "[42]\tvalidation_0-auc:0.94929\n",
      "[43]\tvalidation_0-auc:0.949643\n",
      "[44]\tvalidation_0-auc:0.94973\n",
      "[45]\tvalidation_0-auc:0.950133\n",
      "[46]\tvalidation_0-auc:0.950522\n",
      "[47]\tvalidation_0-auc:0.950809\n",
      "[48]\tvalidation_0-auc:0.951151\n",
      "[49]\tvalidation_0-auc:0.951409\n",
      "[50]\tvalidation_0-auc:0.95177\n",
      "[51]\tvalidation_0-auc:0.952038\n",
      "[52]\tvalidation_0-auc:0.952332\n",
      "[53]\tvalidation_0-auc:0.952592\n",
      "[54]\tvalidation_0-auc:0.952851\n",
      "[55]\tvalidation_0-auc:0.953236\n",
      "[56]\tvalidation_0-auc:0.953632\n",
      "[57]\tvalidation_0-auc:0.953895\n",
      "[58]\tvalidation_0-auc:0.954107\n",
      "[59]\tvalidation_0-auc:0.954399\n",
      "[60]\tvalidation_0-auc:0.95463\n",
      "[61]\tvalidation_0-auc:0.954849\n",
      "[62]\tvalidation_0-auc:0.955068\n",
      "[63]\tvalidation_0-auc:0.955419\n",
      "[64]\tvalidation_0-auc:0.955624\n",
      "[65]\tvalidation_0-auc:0.955838\n",
      "[66]\tvalidation_0-auc:0.956078\n",
      "[67]\tvalidation_0-auc:0.956403\n",
      "[68]\tvalidation_0-auc:0.956644\n",
      "[69]\tvalidation_0-auc:0.956791\n",
      "[70]\tvalidation_0-auc:0.957054\n",
      "[71]\tvalidation_0-auc:0.957347\n",
      "[72]\tvalidation_0-auc:0.957592\n",
      "[73]\tvalidation_0-auc:0.95779\n",
      "[74]\tvalidation_0-auc:0.958074\n",
      "[75]\tvalidation_0-auc:0.958329\n",
      "[76]\tvalidation_0-auc:0.958589\n",
      "[77]\tvalidation_0-auc:0.95872\n",
      "[78]\tvalidation_0-auc:0.95892\n",
      "[79]\tvalidation_0-auc:0.959122\n",
      "[80]\tvalidation_0-auc:0.959248\n",
      "[81]\tvalidation_0-auc:0.95935\n",
      "[82]\tvalidation_0-auc:0.959487\n",
      "[83]\tvalidation_0-auc:0.959705\n",
      "[84]\tvalidation_0-auc:0.959906\n",
      "[85]\tvalidation_0-auc:0.960068\n",
      "[86]\tvalidation_0-auc:0.960229\n",
      "[87]\tvalidation_0-auc:0.960422\n",
      "[88]\tvalidation_0-auc:0.960617\n",
      "[89]\tvalidation_0-auc:0.960825\n",
      "[90]\tvalidation_0-auc:0.961013\n",
      "[91]\tvalidation_0-auc:0.961199\n",
      "[92]\tvalidation_0-auc:0.961431\n",
      "[93]\tvalidation_0-auc:0.961608\n",
      "[94]\tvalidation_0-auc:0.961814\n",
      "[95]\tvalidation_0-auc:0.962029\n",
      "[96]\tvalidation_0-auc:0.962183\n",
      "[97]\tvalidation_0-auc:0.962356\n",
      "[98]\tvalidation_0-auc:0.962523\n",
      "[99]\tvalidation_0-auc:0.962628\n"
     ]
    },
    {
     "data": {
      "text/plain": [
       "115.35608506202698"
      ]
     },
     "execution_count": 133,
     "metadata": {},
     "output_type": "execute_result"
    }
   ],
   "source": [
    "startTime = time.time()\n",
    "\n",
    "xgb_model.fit(train_X_xgb_resampling, train_y_xgb_resampling, early_stopping_rounds=10, eval_metric=\"auc\",\n",
    "        eval_set=[(val_X_xgb_resampling, val_y_xgb_resampling)])\n",
    "\n",
    "usedTime = time.time() - startTime\n",
    "usedTime"
   ]
  },
  {
   "cell_type": "code",
   "execution_count": null,
   "metadata": {},
   "outputs": [],
   "source": []
  },
  {
   "cell_type": "code",
   "execution_count": 143,
   "metadata": {
    "scrolled": true
   },
   "outputs": [],
   "source": [
    "y_pred_xgb_resampling = xgb_model.predict(test_X_xgb_resampling.values)"
   ]
  },
  {
   "cell_type": "code",
   "execution_count": 144,
   "metadata": {},
   "outputs": [
    {
     "name": "stdout",
     "output_type": "stream",
     "text": [
      "              precision    recall  f1-score   support\n",
      "\n",
      "           0     0.9814    0.8690    0.9218     10486\n",
      "           1     0.4320    0.8580    0.5746      1218\n",
      "\n",
      "    accuracy                         0.8678     11704\n",
      "   macro avg     0.7067    0.8635    0.7482     11704\n",
      "weighted avg     0.9242    0.8678    0.8856     11704\n",
      "\n"
     ]
    }
   ],
   "source": [
    "print(classification_report(test_y_xgb_resampling, y_pred_xgb_resampling,digits=4))"
   ]
  },
  {
   "cell_type": "code",
   "execution_count": 145,
   "metadata": {},
   "outputs": [
    {
     "data": {
      "image/png": "[encoded data removed]",
      "text/plain": [
       "<Figure size 432x288 with 1 Axes>"
      ]
     },
     "metadata": {
      "needs_background": "light"
     },
     "output_type": "display_data"
    }
   ],
   "source": [
    "mat = confusion_matrix(y_pred_xgb_resampling,test_y_xgb_resampling)\n",
    "sns.heatmap(mat, square=True, annot=True, cbar=False,fmt='.20g')\n",
    "plt.xlabel(\"Actual Result\")\n",
    "plt.ylabel(\"Predicted Result\")\n",
    "a, b = plt.ylim() \n",
    "a += 0.5 \n",
    "b -= 0.5 \n",
    "plt.ylim(a, b) \n",
    "plt.show() "
   ]
  },
  {
   "cell_type": "code",
   "execution_count": 150,
   "metadata": {},
   "outputs": [],
   "source": [
    "test_result_xgb = generate_result_data(test_xgb_resampling,y_pred_xgb_resampling)"
   ]
  },
  {
   "cell_type": "code",
   "execution_count": 152,
   "metadata": {},
   "outputs": [
    {
     "data": {
      "text/plain": [
       "(60, 4)"
      ]
     },
     "execution_count": 152,
     "metadata": {},
     "output_type": "execute_result"
    }
   ],
   "source": [
    "test_result_xgb[(test_result_xgb.actual_neg != 0) & \n",
    "               (test_result_xgb.predictive_neg == 0)].shape  # 有60篇实际负的预测为正"
   ]
  },
  {
   "cell_type": "code",
   "execution_count": 153,
   "metadata": {},
   "outputs": [
    {
     "data": {
      "text/plain": [
       "(757, 4)"
      ]
     },
     "execution_count": 153,
     "metadata": {},
     "output_type": "execute_result"
    }
   ],
   "source": [
    "test_result_xgb[(test_result_xgb.predictive_neg != 0)].shape   # 共返回757篇文章"
   ]
  },
  {
   "cell_type": "code",
   "execution_count": null,
   "metadata": {},
   "outputs": [],
   "source": []
  },
  {
   "cell_type": "code",
   "execution_count": null,
   "metadata": {},
   "outputs": [],
   "source": []
  },
  {
   "cell_type": "code",
   "execution_count": null,
   "metadata": {},
   "outputs": [],
   "source": []
  },
  {
   "cell_type": "code",
   "execution_count": null,
   "metadata": {},
   "outputs": [],
   "source": []
  },
  {
   "cell_type": "code",
   "execution_count": null,
   "metadata": {},
   "outputs": [],
   "source": []
  },
  {
   "cell_type": "code",
   "execution_count": null,
   "metadata": {},
   "outputs": [],
   "source": []
  },
  {
   "cell_type": "code",
   "execution_count": 81,
   "metadata": {},
   "outputs": [],
   "source": [
    "paramGrid = {\"max_depth\" : [8,9,10]}\n",
    "cv_times = 3"
   ]
  },
  {
   "cell_type": "code",
   "execution_count": 86,
   "metadata": {},
   "outputs": [],
   "source": [
    "fit_params={\"early_stopping_rounds\":5, \n",
    "            \"eval_metric\" : 'auc', \n",
    "            \"eval_set\" : [[val_X_xgb, val_y_xgb]]}"
   ]
  },
  {
   "cell_type": "code",
   "execution_count": 87,
   "metadata": {
    "scrolled": true
   },
   "outputs": [
    {
     "name": "stdout",
     "output_type": "stream",
     "text": [
      "Fitting 3 folds for each of 3 candidates, totalling 9 fits\n"
     ]
    },
    {
     "name": "stderr",
     "output_type": "stream",
     "text": [
      "[Parallel(n_jobs=-1)]: Using backend LokyBackend with 8 concurrent workers.\n",
      "[Parallel(n_jobs=-1)]: Done   4 out of   9 | elapsed:  1.9min remaining:  2.4min\n",
      "[Parallel(n_jobs=-1)]: Done   9 out of   9 | elapsed:  2.9min finished\n"
     ]
    },
    {
     "name": "stdout",
     "output_type": "stream",
     "text": [
      "[0]\tvalidation_0-logloss:0.659568\n",
      "Will train until validation_0-logloss hasn't improved in 5 rounds.\n",
      "[1]\tvalidation_0-logloss:0.627912\n",
      "[2]\tvalidation_0-logloss:0.600301\n",
      "[3]\tvalidation_0-logloss:0.573926\n",
      "[4]\tvalidation_0-logloss:0.549139\n",
      "[5]\tvalidation_0-logloss:0.52651\n",
      "[6]\tvalidation_0-logloss:0.505765\n",
      "[7]\tvalidation_0-logloss:0.486284\n",
      "[8]\tvalidation_0-logloss:0.467674\n",
      "[9]\tvalidation_0-logloss:0.450605\n",
      "[10]\tvalidation_0-logloss:0.435083\n",
      "[11]\tvalidation_0-logloss:0.419815\n",
      "[12]\tvalidation_0-logloss:0.406147\n",
      "[13]\tvalidation_0-logloss:0.393491\n",
      "[14]\tvalidation_0-logloss:0.381565\n",
      "[15]\tvalidation_0-logloss:0.370211\n",
      "[16]\tvalidation_0-logloss:0.359332\n",
      "[17]\tvalidation_0-logloss:0.349467\n",
      "[18]\tvalidation_0-logloss:0.339885\n",
      "[19]\tvalidation_0-logloss:0.330913\n",
      "[20]\tvalidation_0-logloss:0.322336\n",
      "[21]\tvalidation_0-logloss:0.314567\n",
      "[22]\tvalidation_0-logloss:0.307152\n",
      "[23]\tvalidation_0-logloss:0.300415\n",
      "[24]\tvalidation_0-logloss:0.293942\n",
      "[25]\tvalidation_0-logloss:0.287739\n",
      "[26]\tvalidation_0-logloss:0.281579\n",
      "[27]\tvalidation_0-logloss:0.276107\n",
      "[28]\tvalidation_0-logloss:0.270608\n",
      "[29]\tvalidation_0-logloss:0.265657\n",
      "[30]\tvalidation_0-logloss:0.260706\n",
      "[31]\tvalidation_0-logloss:0.25604\n",
      "[32]\tvalidation_0-logloss:0.251555\n",
      "[33]\tvalidation_0-logloss:0.247307\n",
      "[34]\tvalidation_0-logloss:0.243254\n",
      "[35]\tvalidation_0-logloss:0.239635\n",
      "[36]\tvalidation_0-logloss:0.235893\n",
      "[37]\tvalidation_0-logloss:0.232614\n",
      "[38]\tvalidation_0-logloss:0.229459\n",
      "[39]\tvalidation_0-logloss:0.226646\n",
      "[40]\tvalidation_0-logloss:0.223903\n",
      "[41]\tvalidation_0-logloss:0.221188\n",
      "[42]\tvalidation_0-logloss:0.218468\n",
      "[43]\tvalidation_0-logloss:0.215914\n",
      "[44]\tvalidation_0-logloss:0.21345\n",
      "[45]\tvalidation_0-logloss:0.211316\n",
      "[46]\tvalidation_0-logloss:0.209013\n",
      "[47]\tvalidation_0-logloss:0.20699\n",
      "[48]\tvalidation_0-logloss:0.204937\n",
      "[49]\tvalidation_0-logloss:0.203052\n",
      "[50]\tvalidation_0-logloss:0.20124\n",
      "[51]\tvalidation_0-logloss:0.199595\n",
      "[52]\tvalidation_0-logloss:0.198074\n",
      "[53]\tvalidation_0-logloss:0.19657\n",
      "[54]\tvalidation_0-logloss:0.19532\n",
      "[55]\tvalidation_0-logloss:0.193771\n",
      "[56]\tvalidation_0-logloss:0.192528\n",
      "[57]\tvalidation_0-logloss:0.191402\n",
      "[58]\tvalidation_0-logloss:0.19032\n",
      "[59]\tvalidation_0-logloss:0.189368\n",
      "[60]\tvalidation_0-logloss:0.18815\n",
      "[61]\tvalidation_0-logloss:0.187182\n",
      "[62]\tvalidation_0-logloss:0.185992\n",
      "[63]\tvalidation_0-logloss:0.185015\n",
      "[64]\tvalidation_0-logloss:0.184122\n",
      "[65]\tvalidation_0-logloss:0.183486\n",
      "[66]\tvalidation_0-logloss:0.182592\n",
      "[67]\tvalidation_0-logloss:0.18184\n",
      "[68]\tvalidation_0-logloss:0.181219\n",
      "[69]\tvalidation_0-logloss:0.180448\n",
      "[70]\tvalidation_0-logloss:0.179753\n",
      "[71]\tvalidation_0-logloss:0.179124\n",
      "[72]\tvalidation_0-logloss:0.178346\n",
      "[73]\tvalidation_0-logloss:0.177718\n",
      "[74]\tvalidation_0-logloss:0.177044\n",
      "[75]\tvalidation_0-logloss:0.176436\n",
      "[76]\tvalidation_0-logloss:0.175853\n",
      "[77]\tvalidation_0-logloss:0.175348\n",
      "[78]\tvalidation_0-logloss:0.174701\n",
      "[79]\tvalidation_0-logloss:0.174267\n",
      "[80]\tvalidation_0-logloss:0.174054\n",
      "[81]\tvalidation_0-logloss:0.173703\n",
      "[82]\tvalidation_0-logloss:0.173347\n",
      "[83]\tvalidation_0-logloss:0.173066\n",
      "[84]\tvalidation_0-logloss:0.172403\n",
      "[85]\tvalidation_0-logloss:0.172123\n",
      "[86]\tvalidation_0-logloss:0.171704\n",
      "[87]\tvalidation_0-logloss:0.171407\n",
      "[88]\tvalidation_0-logloss:0.170958\n",
      "[89]\tvalidation_0-logloss:0.17066\n",
      "[90]\tvalidation_0-logloss:0.170485\n",
      "[91]\tvalidation_0-logloss:0.170238\n",
      "[92]\tvalidation_0-logloss:0.170053\n",
      "[93]\tvalidation_0-logloss:0.169899\n",
      "[94]\tvalidation_0-logloss:0.169671\n",
      "[95]\tvalidation_0-logloss:0.169404\n",
      "[96]\tvalidation_0-logloss:0.16916\n",
      "[97]\tvalidation_0-logloss:0.168944\n",
      "[98]\tvalidation_0-logloss:0.168672\n",
      "[99]\tvalidation_0-logloss:0.168462\n"
     ]
    },
    {
     "data": {
      "text/plain": [
       "GridSearchCV(cv=3,\n",
       "             estimator=XGBRegressor(colsample_bytree=0.7, learning_rate=0.05,\n",
       "                                    nthreads=-1, objective='binary:logistic',\n",
       "                                    random_state=1,\n",
       "                                    scale_pos_weight=2.6412020275162926,\n",
       "                                    subsample=0.7, verbosity=0),\n",
       "             n_jobs=-1, param_grid={'max_depth': [8, 9, 10]}, verbose=1)"
      ]
     },
     "execution_count": 87,
     "metadata": {},
     "output_type": "execute_result"
    }
   ],
   "source": [
    "xgb_model = xgb.XGBRegressor(learning_rate= 0.05, \n",
    "                             verbosity=0,\n",
    "                             objective='binary:logistic',\n",
    "                             subsample = 0.8,\n",
    "                             colsample_bytree = 0.8,\n",
    "                             scale_pos_weight = 43770/16572,\n",
    "                             random_state=1,\n",
    "                             nthreads = -1)\n",
    "\n",
    "gridsearch = GridSearchCV(xgb_model, paramGrid, verbose=1,cv = cv_times,\n",
    "                        n_jobs = -1)\n",
    "\n",
    "gridsearch.fit(train_X_xgb, train_y_xgb, **fit_params)"
   ]
  },
  {
   "cell_type": "code",
   "execution_count": 88,
   "metadata": {},
   "outputs": [
    {
     "name": "stdout",
     "output_type": "stream",
     "text": [
      "0.491522036468328\n",
      "{'max_depth': 10}\n"
     ]
    }
   ],
   "source": [
    "print(gridsearch.best_score_)\n",
    "print(gridsearch.best_params_)"
   ]
  },
  {
   "cell_type": "code",
   "execution_count": 89,
   "metadata": {
    "scrolled": true
   },
   "outputs": [
    {
     "name": "stdout",
     "output_type": "stream",
     "text": [
      "[0]\tvalidation_0-auc:0.866246\n",
      "Will train until validation_0-auc hasn't improved in 5 rounds.\n",
      "[1]\tvalidation_0-auc:0.897873\n",
      "[2]\tvalidation_0-auc:0.907112\n",
      "[3]\tvalidation_0-auc:0.916266\n",
      "[4]\tvalidation_0-auc:0.920136\n",
      "[5]\tvalidation_0-auc:0.925894\n",
      "[6]\tvalidation_0-auc:0.928139\n",
      "[7]\tvalidation_0-auc:0.929567\n",
      "[8]\tvalidation_0-auc:0.93136\n",
      "[9]\tvalidation_0-auc:0.93253\n",
      "[10]\tvalidation_0-auc:0.933752\n",
      "[11]\tvalidation_0-auc:0.935397\n",
      "[12]\tvalidation_0-auc:0.936204\n",
      "[13]\tvalidation_0-auc:0.936111\n",
      "[14]\tvalidation_0-auc:0.936116\n",
      "[15]\tvalidation_0-auc:0.936942\n",
      "[16]\tvalidation_0-auc:0.939575\n",
      "[17]\tvalidation_0-auc:0.939392\n",
      "[18]\tvalidation_0-auc:0.940461\n",
      "[19]\tvalidation_0-auc:0.940586\n",
      "[20]\tvalidation_0-auc:0.940798\n",
      "[21]\tvalidation_0-auc:0.94124\n",
      "[22]\tvalidation_0-auc:0.940914\n",
      "[23]\tvalidation_0-auc:0.940903\n",
      "[24]\tvalidation_0-auc:0.941545\n",
      "[25]\tvalidation_0-auc:0.94174\n",
      "[26]\tvalidation_0-auc:0.942237\n",
      "[27]\tvalidation_0-auc:0.942717\n",
      "[28]\tvalidation_0-auc:0.943222\n",
      "[29]\tvalidation_0-auc:0.943514\n",
      "[30]\tvalidation_0-auc:0.944168\n",
      "[31]\tvalidation_0-auc:0.944614\n",
      "[32]\tvalidation_0-auc:0.944875\n",
      "[33]\tvalidation_0-auc:0.945341\n",
      "[34]\tvalidation_0-auc:0.945744\n",
      "[35]\tvalidation_0-auc:0.945748\n",
      "[36]\tvalidation_0-auc:0.946051\n",
      "[37]\tvalidation_0-auc:0.946089\n",
      "[38]\tvalidation_0-auc:0.946597\n",
      "[39]\tvalidation_0-auc:0.946467\n",
      "[40]\tvalidation_0-auc:0.946359\n",
      "[41]\tvalidation_0-auc:0.946287\n",
      "[42]\tvalidation_0-auc:0.946326\n",
      "[43]\tvalidation_0-auc:0.946563\n",
      "Stopping. Best iteration:\n",
      "[38]\tvalidation_0-auc:0.946597\n",
      "\n"
     ]
    }
   ],
   "source": [
    "gridsearch_test = xgb.XGBRegressor(learning_rate= 0.05, \n",
    "                         verbosity=1,\n",
    "                         objective='binary:logistic',\n",
    "                         subsample = 0.7,\n",
    "                         colsample_bytree = 0.7,\n",
    "                         scale_pos_weight = 43770/16572,\n",
    "                         random_state=1,\n",
    "                        max_depth = 10)\n",
    "gridsearch_test.fit(train_X_xgb, train_y_xgb, early_stopping_rounds=5, eval_metric=\"auc\",\n",
    "        eval_set=[(val_X_xgb, val_y_xgb)])\n",
    "y_pred_xgb_test = gridsearch_test.predict(test_X_xgb)"
   ]
  },
  {
   "cell_type": "code",
   "execution_count": 90,
   "metadata": {},
   "outputs": [
    {
     "data": {
      "text/plain": [
       "array([0.09797329, 0.09006947, 0.0724839 , ..., 0.19242084, 0.42110378,\n",
       "       0.12949386], dtype=float32)"
      ]
     },
     "execution_count": 90,
     "metadata": {},
     "output_type": "execute_result"
    }
   ],
   "source": [
    "y_pred_xgb_test"
   ]
  },
  {
   "cell_type": "code",
   "execution_count": 71,
   "metadata": {},
   "outputs": [],
   "source": [
    "y_pred_xgb_label_test = []\n",
    "for i in y_pred_xgb_test:\n",
    "    if i >= 0.5:\n",
    "        label = 1\n",
    "        y_pred_xgb_label_test.append(label)\n",
    "    else:\n",
    "        label = 0\n",
    "        y_pred_xgb_label_test.append(label)"
   ]
  },
  {
   "cell_type": "code",
   "execution_count": 72,
   "metadata": {},
   "outputs": [
    {
     "name": "stdout",
     "output_type": "stream",
     "text": [
      "              precision    recall  f1-score   support\n",
      "\n",
      "           0     0.9570    0.9591    0.9580     10486\n",
      "           1     0.6410    0.6289    0.6349      1218\n",
      "\n",
      "    accuracy                         0.9247     11704\n",
      "   macro avg     0.7990    0.7940    0.7965     11704\n",
      "weighted avg     0.9241    0.9247    0.9244     11704\n",
      "\n"
     ]
    }
   ],
   "source": [
    "print(classification_report(test_y_xgb, y_pred_xgb_label_test,digits=4))"
   ]
  },
  {
   "cell_type": "code",
   "execution_count": null,
   "metadata": {},
   "outputs": [],
   "source": [
    "test_result_xgb = generate_result_data(test_xgb,y_pred_xgb)"
   ]
  },
  {
   "cell_type": "code",
   "execution_count": null,
   "metadata": {},
   "outputs": [],
   "source": []
  },
  {
   "cell_type": "code",
   "execution_count": null,
   "metadata": {},
   "outputs": [],
   "source": []
  },
  {
   "cell_type": "code",
   "execution_count": null,
   "metadata": {},
   "outputs": [],
   "source": []
  },
  {
   "cell_type": "code",
   "execution_count": null,
   "metadata": {},
   "outputs": [],
   "source": []
  },
  {
   "cell_type": "code",
   "execution_count": null,
   "metadata": {},
   "outputs": [],
   "source": []
  },
  {
   "cell_type": "code",
   "execution_count": null,
   "metadata": {},
   "outputs": [],
   "source": []
  },
  {
   "cell_type": "code",
   "execution_count": null,
   "metadata": {},
   "outputs": [],
   "source": []
  },
  {
   "cell_type": "code",
   "execution_count": null,
   "metadata": {},
   "outputs": [],
   "source": []
  },
  {
   "cell_type": "code",
   "execution_count": null,
   "metadata": {},
   "outputs": [],
   "source": []
  },
  {
   "cell_type": "code",
   "execution_count": null,
   "metadata": {},
   "outputs": [],
   "source": []
  },
  {
   "cell_type": "code",
   "execution_count": null,
   "metadata": {},
   "outputs": [],
   "source": []
  },
  {
   "cell_type": "code",
   "execution_count": null,
   "metadata": {},
   "outputs": [],
   "source": []
  },
  {
   "cell_type": "code",
   "execution_count": null,
   "metadata": {},
   "outputs": [],
   "source": []
  },
  {
   "cell_type": "code",
   "execution_count": null,
   "metadata": {},
   "outputs": [],
   "source": []
  },
  {
   "cell_type": "code",
   "execution_count": null,
   "metadata": {},
   "outputs": [],
   "source": []
  },
  {
   "cell_type": "code",
   "execution_count": null,
   "metadata": {},
   "outputs": [],
   "source": []
  },
  {
   "cell_type": "code",
   "execution_count": null,
   "metadata": {},
   "outputs": [],
   "source": []
  },
  {
   "cell_type": "code",
   "execution_count": null,
   "metadata": {},
   "outputs": [],
   "source": []
  },
  {
   "cell_type": "code",
   "execution_count": null,
   "metadata": {},
   "outputs": [],
   "source": []
  },
  {
   "cell_type": "code",
   "execution_count": null,
   "metadata": {},
   "outputs": [],
   "source": []
  },
  {
   "cell_type": "code",
   "execution_count": null,
   "metadata": {},
   "outputs": [],
   "source": []
  },
  {
   "cell_type": "code",
   "execution_count": null,
   "metadata": {},
   "outputs": [],
   "source": []
  },
  {
   "cell_type": "code",
   "execution_count": null,
   "metadata": {},
   "outputs": [],
   "source": []
  }
 ],
 "metadata": {
  "kernelspec": {
   "display_name": "Python 3",
   "language": "python",
   "name": "python3"
  },
  "language_info": {
   "codemirror_mode": {
    "name": "ipython",
    "version": 3
   },
   "file_extension": ".py",
   "mimetype": "text/x-python",
   "name": "python",
   "nbconvert_exporter": "python",
   "pygments_lexer": "ipython3",
   "version": "3.7.9"
  }
 },
 "nbformat": 4,
 "nbformat_minor": 4
}
