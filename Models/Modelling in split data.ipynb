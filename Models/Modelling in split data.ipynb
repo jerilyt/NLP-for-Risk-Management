{
 "cells": [
  {
   "cell_type": "code",
   "execution_count": 1,
   "metadata": {},
   "outputs": [
    {
     "name": "stdout",
     "output_type": "stream",
     "text": [
      "/Users/yantong/Desktop/NLP for Risk/Code\n"
     ]
    }
   ],
   "source": [
    "%cd /Users/yantong/Desktop/NLP\\ for\\ Risk/Code/"
   ]
  },
  {
   "cell_type": "markdown",
   "metadata": {},
   "source": [
    "## Import Libraries\n"
   ]
  },
  {
   "cell_type": "code",
   "execution_count": 2,
   "metadata": {},
   "outputs": [],
   "source": [
    "import numpy as np\n",
    "import pandas as pd\n",
    "import matplotlib.pyplot as plt\n",
    "import seaborn as sns"
   ]
  },
  {
   "cell_type": "code",
   "execution_count": 3,
   "metadata": {},
   "outputs": [],
   "source": [
    "import matplotlib.pyplot as plt\n",
    "from scipy.stats import gaussian_kde"
   ]
  },
  {
   "cell_type": "code",
   "execution_count": 4,
   "metadata": {},
   "outputs": [],
   "source": [
    "import jieba as jb\n",
    "import re"
   ]
  },
  {
   "cell_type": "code",
   "execution_count": 5,
   "metadata": {},
   "outputs": [],
   "source": [
    "from tensorflow.keras.preprocessing.text import Tokenizer\n",
    "from tensorflow.keras.preprocessing.sequence import pad_sequences\n",
    "from tensorflow.keras.utils import to_categorical\n",
    "import numpy as np\n",
    "\n",
    "from tensorflow.keras.layers import Dense, Input, Flatten, Dropout\n",
    "from tensorflow.keras.layers import Conv1D, MaxPooling1D, Embedding\n",
    "from tensorflow.keras.models import Sequential\n"
   ]
  },
  {
   "cell_type": "code",
   "execution_count": 6,
   "metadata": {},
   "outputs": [],
   "source": [
    "from sklearn.linear_model import LogisticRegression\n",
    "from sklearn.ensemble import RandomForestClassifier\n",
    "from sklearn.naive_bayes import MultinomialNB\n",
    "from sklearn.svm import LinearSVC\n",
    " \n",
    "from sklearn.model_selection import cross_val_score\n"
   ]
  },
  {
   "cell_type": "code",
   "execution_count": 7,
   "metadata": {},
   "outputs": [],
   "source": [
    "from sklearn.model_selection import GridSearchCV\n"
   ]
  },
  {
   "cell_type": "code",
   "execution_count": 8,
   "metadata": {},
   "outputs": [],
   "source": [
    "pd.set_option('display.max_rows', None)\n",
    "pd.set_option('display.max_columns', None)\n",
    "pd.set_option(\"display.max_colwidth\",None)\n",
    "pd.set_option('display.width',None)"
   ]
  },
  {
   "cell_type": "code",
   "execution_count": 9,
   "metadata": {},
   "outputs": [],
   "source": [
    "import json"
   ]
  },
  {
   "cell_type": "markdown",
   "metadata": {},
   "source": [
    "## Read Data"
   ]
  },
  {
   "cell_type": "code",
   "execution_count": 37,
   "metadata": {},
   "outputs": [],
   "source": [
    "split_data = pd.read_csv('split.csv')"
   ]
  },
  {
   "cell_type": "code",
   "execution_count": 38,
   "metadata": {},
   "outputs": [],
   "source": [
    "split_data = split_data.drop(['Unnamed: 0'],axis = 1)"
   ]
  },
  {
   "cell_type": "code",
   "execution_count": 39,
   "metadata": {},
   "outputs": [],
   "source": [
    "c = [1012,956,1835]\n",
    "split_data = split_data.drop(c)\n",
    "split_data = split_data.reset_index()"
   ]
  },
  {
   "cell_type": "code",
   "execution_count": null,
   "metadata": {},
   "outputs": [],
   "source": []
  },
  {
   "cell_type": "markdown",
   "metadata": {},
   "source": [
    "## Data Preparation"
   ]
  },
  {
   "cell_type": "code",
   "execution_count": 40,
   "metadata": {},
   "outputs": [],
   "source": [
    "seg_data = split_data[['cleaned_content','baidu_seg','baidu_prob']]"
   ]
  },
  {
   "cell_type": "code",
   "execution_count": 41,
   "metadata": {},
   "outputs": [],
   "source": [
    "seg_data_tran = seg_data.copy()"
   ]
  },
  {
   "cell_type": "code",
   "execution_count": 42,
   "metadata": {},
   "outputs": [],
   "source": [
    "seg_data_tran['baidu_seg'] = seg_data_tran['baidu_seg'].apply(lambda row: eval(row))\n",
    "seg_data_tran['baidu_prob'] = seg_data_tran['baidu_prob'].apply(lambda row: eval(row))"
   ]
  },
  {
   "cell_type": "code",
   "execution_count": null,
   "metadata": {},
   "outputs": [],
   "source": []
  },
  {
   "cell_type": "code",
   "execution_count": 43,
   "metadata": {},
   "outputs": [],
   "source": [
    "seg = []\n",
    "prob = []\n",
    "content = []\n",
    "for row_idx in range(seg_data_tran.shape[0]):\n",
    "    row_seg = seg_data_tran.loc[row_idx,'baidu_seg']\n",
    "    row_prob = seg_data_tran.loc[row_idx,'baidu_prob']\n",
    "    row_content = seg_data_tran.loc[row_idx,'cleaned_content']\n",
    "    list_num = len(row_seg)\n",
    "    for j in range(list_num):\n",
    "        content.append(row_content)\n",
    "        seg.append(row_seg[j])\n",
    "        prob.append(row_prob[j])\n",
    "        "
   ]
  },
  {
   "cell_type": "code",
   "execution_count": 44,
   "metadata": {},
   "outputs": [],
   "source": [
    "newvalues = pd.DataFrame()\n",
    "newvalues['content'] = content\n",
    "newvalues['baidu_seg'] = seg\n",
    "newvalues['baidu_prob'] = prob"
   ]
  },
  {
   "cell_type": "code",
   "execution_count": null,
   "metadata": {},
   "outputs": [],
   "source": []
  },
  {
   "cell_type": "code",
   "execution_count": 45,
   "metadata": {},
   "outputs": [],
   "source": [
    "newvalues['label'] = newvalues['baidu_prob'].apply(lambda row: 1 if row>0.5 else 0)"
   ]
  },
  {
   "cell_type": "code",
   "execution_count": null,
   "metadata": {},
   "outputs": [],
   "source": []
  },
  {
   "cell_type": "code",
   "execution_count": 46,
   "metadata": {},
   "outputs": [
    {
     "data": {
      "text/plain": [
       "0    29727\n",
       "1    11879\n",
       "Name: label, dtype: int64"
      ]
     },
     "execution_count": 46,
     "metadata": {},
     "output_type": "execute_result"
    }
   ],
   "source": [
    "newvalues.label.value_counts()"
   ]
  },
  {
   "cell_type": "code",
   "execution_count": null,
   "metadata": {},
   "outputs": [],
   "source": []
  },
  {
   "cell_type": "markdown",
   "metadata": {},
   "source": [
    "#### 统计segmentation字数"
   ]
  },
  {
   "cell_type": "code",
   "execution_count": 47,
   "metadata": {},
   "outputs": [
    {
     "data": {
      "text/plain": [
       "498"
      ]
     },
     "execution_count": 47,
     "metadata": {},
     "output_type": "execute_result"
    }
   ],
   "source": [
    "len(''.join(newvalues.loc[19852,'baidu_seg']))"
   ]
  },
  {
   "cell_type": "code",
   "execution_count": 48,
   "metadata": {},
   "outputs": [],
   "source": [
    "newvalues['word_counts'] = newvalues.baidu_seg.apply(lambda row: len(''.join(row)))"
   ]
  },
  {
   "cell_type": "code",
   "execution_count": 49,
   "metadata": {},
   "outputs": [
    {
     "data": {
      "text/plain": [
       "<AxesSubplot:>"
      ]
     },
     "execution_count": 49,
     "metadata": {},
     "output_type": "execute_result"
    },
    {
     "data": {
      "image/png": "[encoded data removed]",
      "text/plain": [
       "<Figure size 432x288 with 1 Axes>"
      ]
     },
     "metadata": {
      "needs_background": "light"
     },
     "output_type": "display_data"
    }
   ],
   "source": [
    "newvalues.word_counts.hist()"
   ]
  },
  {
   "cell_type": "code",
   "execution_count": 50,
   "metadata": {},
   "outputs": [
    {
     "data": {
      "text/plain": [
       "(219, 5)"
      ]
     },
     "execution_count": 50,
     "metadata": {},
     "output_type": "execute_result"
    }
   ],
   "source": [
    "newvalues[newvalues.word_counts <= 20].shape"
   ]
  },
  {
   "cell_type": "code",
   "execution_count": 51,
   "metadata": {},
   "outputs": [],
   "source": [
    "newvalues = newvalues[newvalues.word_counts >250]\n",
    "newvalues = newvalues.reset_index()"
   ]
  },
  {
   "cell_type": "code",
   "execution_count": null,
   "metadata": {},
   "outputs": [],
   "source": []
  },
  {
   "cell_type": "code",
   "execution_count": 52,
   "metadata": {},
   "outputs": [],
   "source": [
    "#c = [3245,5861,5863,6678,6681,10257]"
   ]
  },
  {
   "cell_type": "code",
   "execution_count": 53,
   "metadata": {},
   "outputs": [],
   "source": [
    "#newvalues = newvalues.drop(c)"
   ]
  },
  {
   "cell_type": "code",
   "execution_count": 54,
   "metadata": {},
   "outputs": [],
   "source": [
    "newvalues = newvalues.drop(['index'],axis = 1)"
   ]
  },
  {
   "cell_type": "code",
   "execution_count": 55,
   "metadata": {
    "scrolled": true
   },
   "outputs": [],
   "source": [
    "#newvalues.loc[10257]"
   ]
  },
  {
   "cell_type": "code",
   "execution_count": null,
   "metadata": {},
   "outputs": [],
   "source": []
  },
  {
   "cell_type": "code",
   "execution_count": 56,
   "metadata": {},
   "outputs": [
    {
     "name": "stdout",
     "output_type": "stream",
     "text": [
      "19852\n"
     ]
    }
   ],
   "source": [
    "for i in range(newvalues.shape[0]):\n",
    "    if len(newvalues.loc[i,'baidu_seg']) == 20:\n",
    "        print(i)"
   ]
  },
  {
   "cell_type": "code",
   "execution_count": 57,
   "metadata": {},
   "outputs": [
    {
     "data": {
      "text/plain": [
       "0.0951973"
      ]
     },
     "execution_count": 57,
     "metadata": {},
     "output_type": "execute_result"
    }
   ],
   "source": [
    "newvalues.loc[19852,'baidu_prob']"
   ]
  },
  {
   "cell_type": "code",
   "execution_count": 58,
   "metadata": {},
   "outputs": [
    {
     "data": {
      "text/plain": [
       "['Additional',\n",
       " 'Guidance',\n",
       " 'on',\n",
       " 'A',\n",
       " 'septic',\n",
       " 'Processing',\n",
       " '无菌',\n",
       " '加工',\n",
       " '指南',\n",
       " 'SeeFDA’sguidancedocumentSterileDrugProductsProducedbyAsepticProcessing—CurrentGoodManufacturingPracticetohelpyoumeettheCGMPrequirementswhenmanufacturingsteriledrugsusingasepticprocessingathttps://www.fda.gov/media/71026/download.',\n",
       " '参见',\n",
       " 'FDA',\n",
       " '指南',\n",
       " '文件',\n",
       " '无菌',\n",
       " '工艺',\n",
       " '生产',\n",
       " '无菌',\n",
       " '药品',\n",
       " 'CGMP']"
      ]
     },
     "execution_count": 58,
     "metadata": {},
     "output_type": "execute_result"
    }
   ],
   "source": [
    "newvalues.loc[19852,'baidu_seg']"
   ]
  },
  {
   "cell_type": "code",
   "execution_count": 94,
   "metadata": {},
   "outputs": [],
   "source": [
    "# 19852,28322\n",
    "newvalues = newvalues.drop(28322)"
   ]
  },
  {
   "cell_type": "code",
   "execution_count": 95,
   "metadata": {},
   "outputs": [],
   "source": [
    "newvalues = newvalues.reset_index()"
   ]
  },
  {
   "cell_type": "code",
   "execution_count": null,
   "metadata": {},
   "outputs": [],
   "source": []
  },
  {
   "cell_type": "code",
   "execution_count": null,
   "metadata": {},
   "outputs": [],
   "source": []
  },
  {
   "cell_type": "markdown",
   "metadata": {},
   "source": [
    "## Imbalanced"
   ]
  },
  {
   "cell_type": "code",
   "execution_count": 96,
   "metadata": {},
   "outputs": [
    {
     "data": {
      "text/plain": [
       "Counter({0: 24819, 1: 10544})"
      ]
     },
     "execution_count": 96,
     "metadata": {},
     "output_type": "execute_result"
    }
   ],
   "source": [
    "from collections import Counter\n",
    "Counter(newvalues.label)"
   ]
  },
  {
   "cell_type": "markdown",
   "metadata": {},
   "source": [
    "### Resampling -- Oversampling"
   ]
  },
  {
   "cell_type": "code",
   "execution_count": 97,
   "metadata": {},
   "outputs": [],
   "source": [
    "X = np.array(newvalues.baidu_seg).reshape(-1,1)\n",
    "y = newvalues.label"
   ]
  },
  {
   "cell_type": "markdown",
   "metadata": {},
   "source": [
    "#### Naive Ramdom Over-sampling"
   ]
  },
  {
   "cell_type": "code",
   "execution_count": 98,
   "metadata": {},
   "outputs": [],
   "source": [
    "from imblearn.over_sampling import RandomOverSampler"
   ]
  },
  {
   "cell_type": "code",
   "execution_count": 99,
   "metadata": {},
   "outputs": [],
   "source": [
    "ros = RandomOverSampler(random_state=0)\n",
    "X_resampled_naive, y_resampled_naive = ros.fit_resample(X, y)"
   ]
  },
  {
   "cell_type": "code",
   "execution_count": null,
   "metadata": {},
   "outputs": [],
   "source": []
  },
  {
   "cell_type": "code",
   "execution_count": null,
   "metadata": {},
   "outputs": [],
   "source": []
  },
  {
   "cell_type": "code",
   "execution_count": null,
   "metadata": {},
   "outputs": [],
   "source": []
  },
  {
   "cell_type": "code",
   "execution_count": null,
   "metadata": {},
   "outputs": [],
   "source": []
  },
  {
   "cell_type": "code",
   "execution_count": null,
   "metadata": {
    "scrolled": true
   },
   "outputs": [],
   "source": []
  },
  {
   "cell_type": "code",
   "execution_count": null,
   "metadata": {},
   "outputs": [],
   "source": []
  },
  {
   "cell_type": "code",
   "execution_count": 100,
   "metadata": {},
   "outputs": [],
   "source": [
    "X = newvalues['baidu_seg']\n",
    "y = newvalues['label']"
   ]
  },
  {
   "cell_type": "markdown",
   "metadata": {},
   "source": [
    "## Modelling"
   ]
  },
  {
   "cell_type": "markdown",
   "metadata": {},
   "source": [
    "### Model 1.1: TF-IDF + CNN"
   ]
  },
  {
   "cell_type": "code",
   "execution_count": 101,
   "metadata": {},
   "outputs": [],
   "source": [
    "import kashgari\n",
    "from kashgari import utils\n",
    "from kashgari.embeddings import BertEmbedding\n",
    "from kashgari.tasks.labeling import BiLSTM_CRF_Model\n",
    "# from data_load import DataReader"
   ]
  },
  {
   "cell_type": "code",
   "execution_count": 65,
   "metadata": {},
   "outputs": [],
   "source": [
    "from sklearn.model_selection import train_test_split\n"
   ]
  },
  {
   "cell_type": "code",
   "execution_count": 66,
   "metadata": {},
   "outputs": [],
   "source": [
    "from tensorflow.keras.callbacks import TensorBoard\n",
    "from kashgari.tasks.classification import CNN_Model"
   ]
  },
  {
   "cell_type": "code",
   "execution_count": 67,
   "metadata": {},
   "outputs": [],
   "source": [
    "#from sklearn.feature_extraction.text import TfidfVectorizer\n",
    " \n",
    "#tfidf = TfidfVectorizer(norm='l2', ngram_range=(1, 2))\n",
    "#vectorizer = CountVectorizer()    \n",
    "#features = tfidf.fit_transform(vectorizer.fit_transform(labeled_data_3.content_cut))\n",
    "#labels = labeled_data_3.label\n",
    "#print(features.shape)\n",
    "#print('-----------------------------')\n",
    "#print(features)\n",
    "#print(labels)"
   ]
  },
  {
   "cell_type": "code",
   "execution_count": 68,
   "metadata": {},
   "outputs": [],
   "source": [
    "X_train, X_test, y_train, y_test, indices_train, indices_test = train_test_split(X, y, \n",
    "                                                                                 newvalues.index, \n",
    "                                                                                 test_size=0.2, stratify=y, random_state=0)\n",
    "X_test = X_test.tolist()\n",
    "y_test = y_test.tolist()\n",
    "\n",
    "\n",
    "\n",
    "X_train, X_val, y_train, y_val, indices_train, indices_val = train_test_split(X_train, y_train, \n",
    "                                                                                 indices_train, \n",
    "                                                                                 test_size=0.05, stratify=y_train, random_state=0)\n",
    "\n",
    "X_train = X_train.tolist()\n",
    "y_train = y_train.tolist()\n",
    "X_val = X_val.tolist()\n",
    "y_val = y_val.tolist()\n",
    "\n"
   ]
  },
  {
   "cell_type": "code",
   "execution_count": null,
   "metadata": {},
   "outputs": [],
   "source": []
  },
  {
   "cell_type": "code",
   "execution_count": 69,
   "metadata": {},
   "outputs": [],
   "source": [
    "# Using TensorBoard record training process\n",
    "tf_board = TensorBoard(log_dir='tf_dir/cnn_model_split',\n",
    "                       histogram_freq=5,\n",
    "                       update_freq='batch')\n"
   ]
  },
  {
   "cell_type": "code",
   "execution_count": 70,
   "metadata": {
    "scrolled": true
   },
   "outputs": [
    {
     "name": "stderr",
     "output_type": "stream",
     "text": [
      "Preparing text vocab dict: 100%|██████████| 26876/26876 [00:02<00:00, 10400.13it/s]\n",
      "Preparing text vocab dict: 100%|██████████| 1415/1415 [00:00<00:00, 17272.52it/s]\n",
      "2020-12-30 10:11:35,745 [DEBUG] kashgari - --- Build vocab dict finished, Total: 67846 ---\n",
      "2020-12-30 10:11:35,746 [DEBUG] kashgari - Top-10: ['[PAD]', '[UNK]', '[CLS]', '[SEP]', ';', 'amp', '项目', '工程', '企业', '施工']\n",
      "Preparing classification label vocab dict: 100%|██████████| 26876/26876 [00:00<00:00, 1288342.62it/s]\n",
      "Preparing classification label vocab dict: 100%|██████████| 1415/1415 [00:00<00:00, 917585.06it/s]\n",
      "Calculating sequence length: 100%|██████████| 26876/26876 [00:00<00:00, 1110448.95it/s]\n",
      "Calculating sequence length: 100%|██████████| 1415/1415 [00:00<00:00, 683591.36it/s]\n",
      "2020-12-30 10:11:35,908 [DEBUG] kashgari - Calculated sequence length = 220\n",
      "2020-12-30 10:11:35,961 [DEBUG] kashgari - Model: \"model_1\"\n",
      "_________________________________________________________________\n",
      "Layer (type)                 Output Shape              Param #   \n",
      "=================================================================\n",
      "input (InputLayer)           [(None, None)]            0         \n",
      "_________________________________________________________________\n",
      "layer_embedding (Embedding)  (None, None, 100)         6784600   \n",
      "_________________________________________________________________\n",
      "conv1d (Conv1D)              (None, None, 128)         64128     \n",
      "_________________________________________________________________\n",
      "global_max_pooling1d (Global (None, 128)               0         \n",
      "_________________________________________________________________\n",
      "dense (Dense)                (None, 64)                8256      \n",
      "_________________________________________________________________\n",
      "dense_1 (Dense)              (None, 2)                 130       \n",
      "_________________________________________________________________\n",
      "activation (Activation)      (None, 2)                 0         \n",
      "=================================================================\n",
      "Total params: 6,857,114\n",
      "Trainable params: 6,857,114\n",
      "Non-trainable params: 0\n",
      "_________________________________________________________________\n"
     ]
    },
    {
     "name": "stdout",
     "output_type": "stream",
     "text": [
      "Epoch 1/5\n",
      "209/209 [==============================] - 24s 111ms/step - loss: 0.4913 - accuracy: 0.7579 - val_loss: 0.3027 - val_accuracy: 0.8693\n",
      "Epoch 2/5\n",
      "209/209 [==============================] - 23s 109ms/step - loss: 0.2134 - accuracy: 0.9107 - val_loss: 0.3387 - val_accuracy: 0.8665\n",
      "Epoch 3/5\n",
      "209/209 [==============================] - 23s 110ms/step - loss: 0.0546 - accuracy: 0.9841 - val_loss: 0.3904 - val_accuracy: 0.8729\n",
      "Epoch 4/5\n",
      "209/209 [==============================] - 23s 112ms/step - loss: 0.0142 - accuracy: 0.9971 - val_loss: 0.4311 - val_accuracy: 0.8693\n",
      "Epoch 5/5\n",
      "209/209 [==============================] - 23s 110ms/step - loss: 0.0080 - accuracy: 0.9984 - val_loss: 0.4891 - val_accuracy: 0.8750\n"
     ]
    },
    {
     "data": {
      "text/plain": [
       "<tensorflow.python.keras.callbacks.History at 0x7fca28971f50>"
      ]
     },
     "execution_count": 70,
     "metadata": {},
     "output_type": "execute_result"
    }
   ],
   "source": [
    "model = CNN_Model()\n",
    "model.fit(X_train, y_train, X_val, y_val,\n",
    "          batch_size=128,\n",
    "          callbacks=[tf_board])"
   ]
  },
  {
   "cell_type": "code",
   "execution_count": 71,
   "metadata": {},
   "outputs": [
    {
     "name": "stderr",
     "output_type": "stream",
     "text": [
      "2020-12-30 10:13:33,097 [INFO] kashgari - model saved to /Users/yantong/Desktop/NLP for Risk/Code/saved_model_split/tfidf_cnn\n"
     ]
    },
    {
     "data": {
      "text/plain": [
       "'/Users/yantong/Desktop/NLP for Risk/Code/saved_model_split/tfidf_cnn'"
      ]
     },
     "execution_count": 71,
     "metadata": {},
     "output_type": "execute_result"
    }
   ],
   "source": [
    "import os\n",
    "import joblib\n",
    "os.chdir(\"saved_model_split\")\n",
    "model.save('tfidf_cnn')"
   ]
  },
  {
   "cell_type": "code",
   "execution_count": 72,
   "metadata": {},
   "outputs": [],
   "source": [
    "os.chdir(\"..\")"
   ]
  },
  {
   "cell_type": "code",
   "execution_count": 73,
   "metadata": {},
   "outputs": [
    {
     "name": "stderr",
     "output_type": "stream",
     "text": [
      "2020-12-30 10:13:33,111 [WARNING] kashgari - Sequence length is None, will use the max length of the samples, which is 279\n",
      "2020-12-30 10:13:33,847 [DEBUG] kashgari - predict input shape (7073, 279) x: \n",
      "[[   2    5    4 ...    0    0    0]\n",
      " [   2 1280 4530 ...    0    0    0]\n",
      " [   2  494 6847 ...    0    0    0]\n",
      " ...\n",
      " [   2 2165    4 ...    0    0    0]\n",
      " [   2    6 1121 ...    0    0    0]\n",
      " [   2 1057 4973 ...    0    0    0]]\n",
      "2020-12-30 10:13:35,360 [DEBUG] kashgari - predict output shape (7073, 2)\n",
      "2020-12-30 10:13:35,365 [DEBUG] kashgari - predict output argmax: [0 1 0 ... 0 0 0]\n"
     ]
    },
    {
     "name": "stdout",
     "output_type": "stream",
     "text": [
      "              precision    recall  f1-score   support\n",
      "\n",
      "           0     0.8747    0.9519    0.9116      4964\n",
      "           1     0.8570    0.6790    0.7577      2109\n",
      "\n",
      "    accuracy                         0.8705      7073\n",
      "   macro avg     0.8658    0.8154    0.8347      7073\n",
      "weighted avg     0.8694    0.8705    0.8657      7073\n",
      "\n"
     ]
    },
    {
     "data": {
      "text/plain": [
       "{'detail': {'0': {'precision': 0.8746760459089227,\n",
       "   'recall': 0.951853344077357,\n",
       "   'f1-score': 0.9116341886938067,\n",
       "   'support': 4964},\n",
       "  '1': {'precision': 0.8569718731298623,\n",
       "   'recall': 0.6789947842579421,\n",
       "   'f1-score': 0.7576719576719577,\n",
       "   'support': 2109},\n",
       "  'accuracy': 0.8704934257033791,\n",
       "  'macro avg': {'precision': 0.8658239595193925,\n",
       "   'recall': 0.8154240641676496,\n",
       "   'f1-score': 0.8346530731828823,\n",
       "   'support': 7073},\n",
       "  'weighted avg': {'precision': 0.8693970836028238,\n",
       "   'recall': 0.8704934257033791,\n",
       "   'f1-score': 0.8657263214203613,\n",
       "   'support': 7073}},\n",
       " 'precision': 0.8693970836028238,\n",
       " 'recall': 0.8704934257033791,\n",
       " 'f1-score': 0.8657263214203613,\n",
       " 'support': 7073}"
      ]
     },
     "execution_count": 73,
     "metadata": {},
     "output_type": "execute_result"
    }
   ],
   "source": [
    "model.evaluate(X_test, y_test)"
   ]
  },
  {
   "cell_type": "code",
   "execution_count": null,
   "metadata": {},
   "outputs": [],
   "source": []
  },
  {
   "cell_type": "code",
   "execution_count": null,
   "metadata": {},
   "outputs": [],
   "source": []
  },
  {
   "cell_type": "markdown",
   "metadata": {},
   "source": [
    "### Model 1.2: TF-IDF + CNN + Naive Random Sampling"
   ]
  },
  {
   "cell_type": "code",
   "execution_count": 74,
   "metadata": {},
   "outputs": [],
   "source": [
    "X_train, X_test, y_train, y_test, indices_train, indices_test = train_test_split(X, y, \n",
    "                                                                                 newvalues.index, \n",
    "                                                                                 test_size=0.2, stratify=y, random_state=0)\n",
    "X_test = X_test.tolist()\n",
    "y_test = y_test.tolist()\n",
    "\n",
    "X_train, X_val, y_train, y_val, indices_train, indices_val = train_test_split(X_train, y_train, \n",
    "                                                                                 indices_train, \n",
    "                                                                                 test_size=0.05, stratify=y_train, random_state=0)\n",
    "\n",
    "X_train = X_train.tolist()\n",
    "y_train = y_train.tolist()\n",
    "X_val = X_val.tolist()\n",
    "y_val = y_val.tolist()"
   ]
  },
  {
   "cell_type": "code",
   "execution_count": null,
   "metadata": {},
   "outputs": [],
   "source": []
  },
  {
   "cell_type": "code",
   "execution_count": 77,
   "metadata": {},
   "outputs": [
    {
     "name": "stderr",
     "output_type": "stream",
     "text": [
      "/opt/anaconda3/envs/tf2/lib/python3.7/site-packages/ipykernel_launcher.py:1: VisibleDeprecationWarning: Creating an ndarray from ragged nested sequences (which is a list-or-tuple of lists-or-tuples-or ndarrays with different lengths or shapes) is deprecated. If you meant to do this, you must specify 'dtype=object' when creating the ndarray\n",
      "  \"\"\"Entry point for launching an IPython kernel.\n"
     ]
    }
   ],
   "source": [
    "X_resampling = np.array(X_train).reshape(-1,1)\n",
    "y_resampling = y_train\n",
    "ros = RandomOverSampler(random_state=0)\n",
    "X_resampled_naive, y_resampled_naive = ros.fit_resample(X_resampling, y_resampling)"
   ]
  },
  {
   "cell_type": "code",
   "execution_count": null,
   "metadata": {},
   "outputs": [],
   "source": []
  },
  {
   "cell_type": "code",
   "execution_count": null,
   "metadata": {},
   "outputs": [],
   "source": []
  },
  {
   "cell_type": "code",
   "execution_count": 78,
   "metadata": {},
   "outputs": [],
   "source": [
    "# Using TensorBoard record training process\n",
    "tf_board = TensorBoard(log_dir='tf_dir/cnn_model_naive_resampling_split',\n",
    "                       histogram_freq=5,\n",
    "                       update_freq='batch')\n"
   ]
  },
  {
   "cell_type": "code",
   "execution_count": 79,
   "metadata": {},
   "outputs": [
    {
     "name": "stderr",
     "output_type": "stream",
     "text": [
      "Preparing text vocab dict: 100%|██████████| 26876/26876 [00:01<00:00, 20122.84it/s]\n",
      "Preparing text vocab dict: 100%|██████████| 1415/1415 [00:00<00:00, 17103.87it/s]\n",
      "2020-12-30 10:14:10,119 [DEBUG] kashgari - --- Build vocab dict finished, Total: 67846 ---\n",
      "2020-12-30 10:14:10,120 [DEBUG] kashgari - Top-10: ['[PAD]', '[UNK]', '[CLS]', '[SEP]', ';', 'amp', '项目', '工程', '企业', '施工']\n",
      "Preparing classification label vocab dict: 100%|██████████| 26876/26876 [00:00<00:00, 1020238.16it/s]\n",
      "Preparing classification label vocab dict: 100%|██████████| 1415/1415 [00:00<00:00, 950198.55it/s]\n",
      "Calculating sequence length: 100%|██████████| 26876/26876 [00:00<00:00, 1060532.44it/s]\n",
      "Calculating sequence length: 100%|██████████| 1415/1415 [00:00<00:00, 1022384.18it/s]\n",
      "2020-12-30 10:14:10,269 [DEBUG] kashgari - Calculated sequence length = 220\n",
      "2020-12-30 10:14:10,315 [DEBUG] kashgari - Model: \"model_3\"\n",
      "_________________________________________________________________\n",
      "Layer (type)                 Output Shape              Param #   \n",
      "=================================================================\n",
      "input (InputLayer)           [(None, None)]            0         \n",
      "_________________________________________________________________\n",
      "layer_embedding (Embedding)  (None, None, 100)         6784600   \n",
      "_________________________________________________________________\n",
      "conv1d_1 (Conv1D)            (None, None, 128)         64128     \n",
      "_________________________________________________________________\n",
      "global_max_pooling1d_1 (Glob (None, 128)               0         \n",
      "_________________________________________________________________\n",
      "dense_2 (Dense)              (None, 64)                8256      \n",
      "_________________________________________________________________\n",
      "dense_3 (Dense)              (None, 2)                 130       \n",
      "_________________________________________________________________\n",
      "activation_1 (Activation)    (None, 2)                 0         \n",
      "=================================================================\n",
      "Total params: 6,857,114\n",
      "Trainable params: 6,857,114\n",
      "Non-trainable params: 0\n",
      "_________________________________________________________________\n"
     ]
    },
    {
     "name": "stdout",
     "output_type": "stream",
     "text": [
      "Epoch 1/5\n",
      "209/209 [==============================] - 23s 109ms/step - loss: 0.5124 - accuracy: 0.7329 - val_loss: 0.3181 - val_accuracy: 0.8572\n",
      "Epoch 2/5\n",
      "209/209 [==============================] - 23s 108ms/step - loss: 0.2348 - accuracy: 0.9002 - val_loss: 0.3312 - val_accuracy: 0.8636\n",
      "Epoch 3/5\n",
      "209/209 [==============================] - 24s 116ms/step - loss: 0.0723 - accuracy: 0.9773 - val_loss: 0.4113 - val_accuracy: 0.8679\n",
      "Epoch 4/5\n",
      "209/209 [==============================] - 25s 122ms/step - loss: 0.0175 - accuracy: 0.9958 - val_loss: 0.4478 - val_accuracy: 0.8686\n",
      "Epoch 5/5\n",
      "209/209 [==============================] - 23s 110ms/step - loss: 0.0078 - accuracy: 0.9986 - val_loss: 0.4855 - val_accuracy: 0.8679\n"
     ]
    },
    {
     "data": {
      "text/plain": [
       "<tensorflow.python.keras.callbacks.History at 0x7fca14ec13d0>"
      ]
     },
     "execution_count": 79,
     "metadata": {},
     "output_type": "execute_result"
    }
   ],
   "source": [
    "model = CNN_Model()\n",
    "model.fit(X_train, y_train, X_val, y_val,\n",
    "          batch_size=128,\n",
    "          callbacks=[tf_board])"
   ]
  },
  {
   "cell_type": "code",
   "execution_count": 80,
   "metadata": {},
   "outputs": [
    {
     "name": "stderr",
     "output_type": "stream",
     "text": [
      "2020-12-30 10:16:09,565 [INFO] kashgari - model saved to /Users/yantong/Desktop/NLP for Risk/Code/saved_model_split/tfidf_cnn_naive_resampling\n"
     ]
    },
    {
     "data": {
      "text/plain": [
       "'/Users/yantong/Desktop/NLP for Risk/Code/saved_model_split/tfidf_cnn_naive_resampling'"
      ]
     },
     "execution_count": 80,
     "metadata": {},
     "output_type": "execute_result"
    }
   ],
   "source": [
    "import os\n",
    "import joblib\n",
    "os.chdir(\"saved_model_split\")\n",
    "model.save('tfidf_cnn_naive_resampling')"
   ]
  },
  {
   "cell_type": "code",
   "execution_count": 81,
   "metadata": {},
   "outputs": [],
   "source": [
    "os.chdir(\"..\")"
   ]
  },
  {
   "cell_type": "code",
   "execution_count": 82,
   "metadata": {},
   "outputs": [
    {
     "name": "stderr",
     "output_type": "stream",
     "text": [
      "2020-12-30 10:16:09,585 [WARNING] kashgari - Sequence length is None, will use the max length of the samples, which is 279\n",
      "2020-12-30 10:16:10,125 [DEBUG] kashgari - predict input shape (7073, 279) x: \n",
      "[[   2    5    4 ...    0    0    0]\n",
      " [   2 1280 4530 ...    0    0    0]\n",
      " [   2  494 6847 ...    0    0    0]\n",
      " ...\n",
      " [   2 2165    4 ...    0    0    0]\n",
      " [   2    6 1121 ...    0    0    0]\n",
      " [   2 1057 4973 ...    0    0    0]]\n",
      "2020-12-30 10:16:11,623 [DEBUG] kashgari - predict output shape (7073, 2)\n",
      "2020-12-30 10:16:11,628 [DEBUG] kashgari - predict output argmax: [0 1 0 ... 0 0 0]\n"
     ]
    },
    {
     "name": "stdout",
     "output_type": "stream",
     "text": [
      "              precision    recall  f1-score   support\n",
      "\n",
      "           0     0.8971    0.9154    0.9062      4964\n",
      "           1     0.7908    0.7530    0.7714      2109\n",
      "\n",
      "    accuracy                         0.8670      7073\n",
      "   macro avg     0.8440    0.8342    0.8388      7073\n",
      "weighted avg     0.8654    0.8670    0.8660      7073\n",
      "\n"
     ]
    },
    {
     "data": {
      "text/plain": [
       "{'detail': {'0': {'precision': 0.897137216189536,\n",
       "   'recall': 0.9153908138597905,\n",
       "   'f1-score': 0.9061721009073687,\n",
       "   'support': 4964},\n",
       "  '1': {'precision': 0.7908366533864541,\n",
       "   'recall': 0.752963489805595,\n",
       "   'f1-score': 0.7714355112946321,\n",
       "   'support': 2109},\n",
       "  'accuracy': 0.866958857627598,\n",
       "  'macro avg': {'precision': 0.8439869347879951,\n",
       "   'recall': 0.8341771518326928,\n",
       "   'f1-score': 0.8388038061010004,\n",
       "   'support': 7073},\n",
       "  'weighted avg': {'precision': 0.8654409222616836,\n",
       "   'recall': 0.866958857627598,\n",
       "   'f1-score': 0.8659968616180626,\n",
       "   'support': 7073}},\n",
       " 'precision': 0.8654409222616836,\n",
       " 'recall': 0.866958857627598,\n",
       " 'f1-score': 0.8659968616180626,\n",
       " 'support': 7073}"
      ]
     },
     "execution_count": 82,
     "metadata": {},
     "output_type": "execute_result"
    }
   ],
   "source": [
    "model.evaluate(X_test, y_test)"
   ]
  },
  {
   "cell_type": "code",
   "execution_count": null,
   "metadata": {
    "scrolled": false
   },
   "outputs": [],
   "source": []
  },
  {
   "cell_type": "code",
   "execution_count": null,
   "metadata": {},
   "outputs": [],
   "source": []
  },
  {
   "cell_type": "code",
   "execution_count": null,
   "metadata": {},
   "outputs": [],
   "source": []
  },
  {
   "cell_type": "code",
   "execution_count": null,
   "metadata": {},
   "outputs": [],
   "source": []
  },
  {
   "cell_type": "markdown",
   "metadata": {},
   "source": [
    "### Model 2.1: 现有样本训练Word2Vec + LR"
   ]
  },
  {
   "cell_type": "code",
   "execution_count": 102,
   "metadata": {},
   "outputs": [
    {
     "name": "stdout",
     "output_type": "stream",
     "text": [
      "停顿词列表，即变量stopword_list中共有778个元素\n",
      "停顿词集合，即变量stopword_set中共有778个元素\n"
     ]
    }
   ],
   "source": [
    "with open('./stopwords.txt', encoding='utf8') as file:\n",
    "    line_list = file.readlines()\n",
    "    stopword_list = [k.strip() for k in line_list]\n",
    "    stopword_set = set(stopword_list)\n",
    "    print('停顿词列表，即变量stopword_list中共有%d个元素' %len(stopword_list))\n",
    "    print('停顿词集合，即变量stopword_set中共有%d个元素' %len(stopword_set))"
   ]
  },
  {
   "cell_type": "code",
   "execution_count": 103,
   "metadata": {},
   "outputs": [],
   "source": [
    "#cutWords_List = []\n",
    "#startTime = time.time()\n",
    "#content_series = newvalues['baidu_seg']\n",
    "#for i in range(len(content_series)):\n",
    "#    content = content_series.iloc[i]\n",
    "#    cutWords = [k for k in content]\n",
    "#    if (i + 1) % 3000 == 0:\n",
    "#        usedTime = time.time() - startTime\n",
    "#        print('前%d篇文章分词共花费%.2f秒' %(i+1, usedTime))\n",
    "#    cutWords_list.append(cutWords)"
   ]
  },
  {
   "cell_type": "code",
   "execution_count": 104,
   "metadata": {},
   "outputs": [],
   "source": [
    "cutWords_list = newvalues['baidu_seg']"
   ]
  },
  {
   "cell_type": "code",
   "execution_count": 105,
   "metadata": {},
   "outputs": [
    {
     "name": "stdout",
     "output_type": "stream",
     "text": [
      "形成word2vec模型共花费43.09秒\n"
     ]
    }
   ],
   "source": [
    "import time\n",
    "from gensim.models import Word2Vec\n",
    "startTime = time.time()\n",
    "word2vec_model = Word2Vec(cutWords_list, size=200, iter=10, min_count=20)\n",
    "usedTime = time.time() - startTime\n",
    "print('形成word2vec模型共花费%.2f秒' %usedTime)"
   ]
  },
  {
   "cell_type": "code",
   "execution_count": 106,
   "metadata": {},
   "outputs": [],
   "source": [
    "import warnings\n",
    "warnings.filterwarnings('ignore')"
   ]
  },
  {
   "cell_type": "code",
   "execution_count": 107,
   "metadata": {},
   "outputs": [
    {
     "data": {
      "text/plain": [
       "[('建筑工程', 0.5852578282356262),\n",
       " ('市政工程', 0.45775464177131653),\n",
       " ('装配式建筑', 0.4472390413284302),\n",
       " ('修缮', 0.43000537157058716),\n",
       " ('建筑业', 0.41388386487960815),\n",
       " ('建筑类', 0.41131076216697693),\n",
       " ('建造', 0.38067078590393066),\n",
       " ('装修', 0.3663729131221771),\n",
       " ('建筑设计', 0.36396342515945435),\n",
       " ('工程造价', 0.35552978515625)]"
      ]
     },
     "execution_count": 107,
     "metadata": {},
     "output_type": "execute_result"
    }
   ],
   "source": [
    "word2vec_model.wv.most_similar('建筑')\n",
    "# word2vec_model.similarity('治愈','感染')"
   ]
  },
  {
   "cell_type": "markdown",
   "metadata": {},
   "source": [
    "#### Word2Vec "
   ]
  },
  {
   "cell_type": "code",
   "execution_count": 108,
   "metadata": {},
   "outputs": [],
   "source": [
    "import numpy as np\n",
    "\n",
    "def get_contentVector(cutWords, word2vec_model):\n",
    "    vector_list = [word2vec_model.wv[k] for k in cutWords if k in word2vec_model]\n",
    "    contentVector = np.array(vector_list).mean(axis=0)\n",
    "    return contentVector"
   ]
  },
  {
   "cell_type": "code",
   "execution_count": 109,
   "metadata": {},
   "outputs": [],
   "source": [
    "import time\n",
    "\n",
    "startTime = time.time()\n",
    "contentVector_list = []\n",
    "for i in range(len(cutWords_list)):\n",
    "    cutWords = cutWords_list[i]\n",
    "#    if (i+1) % 3000 == 0:\n",
    "#        usedTime = time.time() - startTime\n",
    "#        print('前%d篇文章内容表示成向量共花费%.2f秒' %(i+1, usedTime))\n",
    "    contentVector_list.append(list(get_contentVector(cutWords, word2vec_model)))\n",
    "X = np.array(contentVector_list)"
   ]
  },
  {
   "cell_type": "code",
   "execution_count": 110,
   "metadata": {},
   "outputs": [
    {
     "data": {
      "text/plain": [
       "(35363, 200)"
      ]
     },
     "execution_count": 110,
     "metadata": {},
     "output_type": "execute_result"
    }
   ],
   "source": [
    "X.shape # check"
   ]
  },
  {
   "cell_type": "code",
   "execution_count": null,
   "metadata": {},
   "outputs": [],
   "source": []
  },
  {
   "cell_type": "code",
   "execution_count": null,
   "metadata": {},
   "outputs": [],
   "source": []
  },
  {
   "cell_type": "code",
   "execution_count": null,
   "metadata": {},
   "outputs": [],
   "source": []
  },
  {
   "cell_type": "code",
   "execution_count": null,
   "metadata": {},
   "outputs": [],
   "source": []
  },
  {
   "cell_type": "code",
   "execution_count": null,
   "metadata": {},
   "outputs": [],
   "source": []
  },
  {
   "cell_type": "markdown",
   "metadata": {},
   "source": [
    "#### Logistic Regression Models"
   ]
  },
  {
   "cell_type": "code",
   "execution_count": 112,
   "metadata": {},
   "outputs": [],
   "source": [
    "from sklearn.preprocessing import LabelEncoder\n",
    "\n",
    "labelEncoder = LabelEncoder()\n",
    "y = labelEncoder.fit_transform(newvalues['label'])"
   ]
  },
  {
   "cell_type": "code",
   "execution_count": 113,
   "metadata": {},
   "outputs": [],
   "source": [
    "from sklearn.linear_model import LogisticRegression\n",
    "from sklearn.ensemble import RandomForestClassifier\n",
    "from sklearn.naive_bayes import MultinomialNB\n",
    "from sklearn.svm import LinearSVC\n",
    "from sklearn.model_selection import train_test_split\n",
    "from sklearn.metrics import accuracy_score, confusion_matrix, classification_report"
   ]
  },
  {
   "cell_type": "code",
   "execution_count": 114,
   "metadata": {},
   "outputs": [],
   "source": [
    "from sklearn.linear_model import LogisticRegression\n",
    "from sklearn.model_selection import train_test_split"
   ]
  },
  {
   "cell_type": "code",
   "execution_count": 115,
   "metadata": {},
   "outputs": [],
   "source": [
    "X = np.array(X)"
   ]
  },
  {
   "cell_type": "code",
   "execution_count": 116,
   "metadata": {},
   "outputs": [],
   "source": [
    "train_X_lr, test_X_lr, train_y_lr, test_y_lr = train_test_split(X, y, test_size=0.2)"
   ]
  },
  {
   "cell_type": "code",
   "execution_count": 117,
   "metadata": {},
   "outputs": [
    {
     "data": {
      "text/plain": [
       "0.8604552523681606"
      ]
     },
     "execution_count": 117,
     "metadata": {},
     "output_type": "execute_result"
    }
   ],
   "source": [
    "logisticRegression_model = LogisticRegression()\n",
    "logisticRegression_model.fit(train_X_lr, train_y_lr)\n",
    "logisticRegression_model.score(test_X_lr, test_y_lr)"
   ]
  },
  {
   "cell_type": "code",
   "execution_count": 118,
   "metadata": {},
   "outputs": [],
   "source": [
    "y_pred_lr = logisticRegression_model.predict(test_X_lr)"
   ]
  },
  {
   "cell_type": "code",
   "execution_count": 119,
   "metadata": {},
   "outputs": [
    {
     "name": "stdout",
     "output_type": "stream",
     "text": [
      "              precision    recall  f1-score   support\n",
      "\n",
      "           0     0.8868    0.9184    0.9023      4964\n",
      "           1     0.7904    0.7240    0.7558      2109\n",
      "\n",
      "    accuracy                         0.8605      7073\n",
      "   macro avg     0.8386    0.8212    0.8290      7073\n",
      "weighted avg     0.8580    0.8605    0.8586      7073\n",
      "\n"
     ]
    }
   ],
   "source": [
    "print(classification_report(test_y_lr, y_pred_lr,digits=4))"
   ]
  },
  {
   "cell_type": "code",
   "execution_count": 120,
   "metadata": {},
   "outputs": [
    {
     "data": {
      "image/png": "[encoded data removed]",
      "text/plain": [
       "<Figure size 432x288 with 1 Axes>"
      ]
     },
     "metadata": {
      "needs_background": "light"
     },
     "output_type": "display_data"
    }
   ],
   "source": [
    "mat = confusion_matrix( y_pred_lr,test_y_lr)\n",
    "sns.heatmap(mat, square=True, annot=True, cbar=False,fmt='.20g')\n",
    "plt.xlabel(\"Actual Result\")\n",
    "plt.ylabel(\"Predicted Result\")\n",
    "a, b = plt.ylim() \n",
    "a += 0.5 \n",
    "b -= 0.5 \n",
    "plt.ylim(a, b) \n",
    "plt.show() "
   ]
  },
  {
   "cell_type": "code",
   "execution_count": 121,
   "metadata": {},
   "outputs": [],
   "source": [
    "from sklearn.metrics import roc_curve, auc\n",
    "from sklearn import metrics"
   ]
  },
  {
   "cell_type": "code",
   "execution_count": 122,
   "metadata": {},
   "outputs": [
    {
     "data": {
      "text/plain": [
       "0.9226925088708879"
      ]
     },
     "execution_count": 122,
     "metadata": {},
     "output_type": "execute_result"
    }
   ],
   "source": [
    "predslog = logisticRegression_model.predict_proba(test_X_lr)[:,1]\n",
    "metrics.roc_auc_score(test_y_lr,predslog, average='macro', sample_weight=None)"
   ]
  },
  {
   "cell_type": "code",
   "execution_count": 123,
   "metadata": {},
   "outputs": [],
   "source": [
    "def plot_roc(labels, predict_prob):\n",
    "    false_positive_rate,true_positive_rate,thresholds=roc_curve(labels, predict_prob)\n",
    "    roc_auc=auc(false_positive_rate, true_positive_rate)\n",
    "    plt.title('ROC')\n",
    "    plt.plot(false_positive_rate, true_positive_rate,'b',label='AUC = %0.4f'% roc_auc)\n",
    "    plt.legend(loc='lower right')\n",
    "    plt.plot([0,1],[0,1],'r--')\n",
    "    plt.ylabel('TPR')\n",
    "    plt.xlabel('FPR')"
   ]
  },
  {
   "cell_type": "code",
   "execution_count": 124,
   "metadata": {},
   "outputs": [
    {
     "data": {
      "image/png": "[encoded data removed]",
      "text/plain": [
       "<Figure size 432x288 with 1 Axes>"
      ]
     },
     "metadata": {
      "needs_background": "light"
     },
     "output_type": "display_data"
    }
   ],
   "source": [
    "plot_roc(test_y_lr,predslog)"
   ]
  },
  {
   "cell_type": "code",
   "execution_count": null,
   "metadata": {},
   "outputs": [],
   "source": []
  },
  {
   "cell_type": "code",
   "execution_count": null,
   "metadata": {},
   "outputs": [],
   "source": []
  },
  {
   "cell_type": "code",
   "execution_count": null,
   "metadata": {},
   "outputs": [],
   "source": []
  },
  {
   "cell_type": "code",
   "execution_count": null,
   "metadata": {},
   "outputs": [],
   "source": []
  },
  {
   "cell_type": "code",
   "execution_count": null,
   "metadata": {},
   "outputs": [],
   "source": []
  },
  {
   "cell_type": "markdown",
   "metadata": {},
   "source": [
    "### Model 2.2: 现有样本训练Word2Vec + LR + Naive Resampling"
   ]
  },
  {
   "cell_type": "code",
   "execution_count": 125,
   "metadata": {},
   "outputs": [],
   "source": [
    "X = newvalues['baidu_seg']\n",
    "y = newvalues['label']"
   ]
  },
  {
   "cell_type": "code",
   "execution_count": null,
   "metadata": {},
   "outputs": [],
   "source": []
  },
  {
   "cell_type": "code",
   "execution_count": null,
   "metadata": {},
   "outputs": [],
   "source": []
  },
  {
   "cell_type": "markdown",
   "metadata": {},
   "source": [
    "#### Word2Vec"
   ]
  },
  {
   "cell_type": "code",
   "execution_count": 126,
   "metadata": {},
   "outputs": [],
   "source": [
    "cutWords_list = newvalues['baidu_seg']\n",
    "\n",
    "startTime = time.time()\n",
    "contentVector_list = []\n",
    "for i in range(len(cutWords_list)):\n",
    "    cutWords = cutWords_list[i]\n",
    "#    if (i+1) % 3000 == 0:\n",
    "#        usedTime = time.time() - startTime\n",
    "#        print('前%d篇文章内容表示成向量共花费%.2f秒' %(i+1, usedTime))\n",
    "    contentVector_list.append(list(get_contentVector(cutWords, word2vec_model)))\n",
    "X = np.array(contentVector_list)"
   ]
  },
  {
   "cell_type": "code",
   "execution_count": 127,
   "metadata": {},
   "outputs": [],
   "source": [
    "X = np.array(X)"
   ]
  },
  {
   "cell_type": "code",
   "execution_count": 128,
   "metadata": {},
   "outputs": [],
   "source": [
    "train_X_lr, test_X_lr, train_y_lr, test_y_lr = train_test_split(X, y, test_size=0.2)"
   ]
  },
  {
   "cell_type": "code",
   "execution_count": 129,
   "metadata": {},
   "outputs": [],
   "source": [
    "X_resampling = np.array(train_X_lr)\n",
    "y_resampling = train_y_lr\n",
    "ros = RandomOverSampler(random_state=0)\n",
    "X_resampled_naive, y_resampled_naive = ros.fit_resample(X_resampling, y_resampling)"
   ]
  },
  {
   "cell_type": "code",
   "execution_count": 130,
   "metadata": {},
   "outputs": [
    {
     "data": {
      "text/plain": [
       "0.8608794005372543"
      ]
     },
     "execution_count": 130,
     "metadata": {},
     "output_type": "execute_result"
    }
   ],
   "source": [
    "logisticRegression_model = LogisticRegression()\n",
    "logisticRegression_model.fit(X_resampling, y_resampling)\n",
    "logisticRegression_model.score(test_X_lr, test_y_lr)\n",
    "#logisticRegression_model.score(X_resampling, y_resampling)"
   ]
  },
  {
   "cell_type": "code",
   "execution_count": 131,
   "metadata": {},
   "outputs": [],
   "source": [
    "y_pred_lr = logisticRegression_model.predict(test_X_lr)"
   ]
  },
  {
   "cell_type": "code",
   "execution_count": 132,
   "metadata": {},
   "outputs": [
    {
     "name": "stdout",
     "output_type": "stream",
     "text": [
      "              precision    recall  f1-score   support\n",
      "\n",
      "           0     0.8850    0.9208    0.9026      4950\n",
      "           1     0.7962    0.7211    0.7568      2123\n",
      "\n",
      "    accuracy                         0.8609      7073\n",
      "   macro avg     0.8406    0.8210    0.8297      7073\n",
      "weighted avg     0.8584    0.8609    0.8588      7073\n",
      "\n"
     ]
    }
   ],
   "source": [
    "print(classification_report(test_y_lr, y_pred_lr,digits=4))"
   ]
  },
  {
   "cell_type": "code",
   "execution_count": 133,
   "metadata": {},
   "outputs": [
    {
     "data": {
      "image/png": "[encoded data removed]",
      "text/plain": [
       "<Figure size 432x288 with 1 Axes>"
      ]
     },
     "metadata": {
      "needs_background": "light"
     },
     "output_type": "display_data"
    }
   ],
   "source": [
    "mat = confusion_matrix( y_pred_lr,test_y_lr)\n",
    "sns.heatmap(mat, square=True, annot=True, cbar=False,fmt='.20g')\n",
    "plt.xlabel(\"Actual Result\")\n",
    "plt.ylabel(\"Predicted Result\")\n",
    "a, b = plt.ylim() \n",
    "a += 0.5 \n",
    "b -= 0.5 \n",
    "plt.ylim(a, b) \n",
    "plt.show() "
   ]
  },
  {
   "cell_type": "code",
   "execution_count": 134,
   "metadata": {},
   "outputs": [
    {
     "data": {
      "text/plain": [
       "0.9286124552163177"
      ]
     },
     "execution_count": 134,
     "metadata": {},
     "output_type": "execute_result"
    }
   ],
   "source": [
    "predslog = logisticRegression_model.predict_proba(test_X_lr)[:,1]\n",
    "metrics.roc_auc_score(test_y_lr,predslog, average='macro', sample_weight=None)"
   ]
  },
  {
   "cell_type": "code",
   "execution_count": 135,
   "metadata": {},
   "outputs": [
    {
     "data": {
      "image/png": "[encoded data removed]",
      "text/plain": [
       "<Figure size 432x288 with 1 Axes>"
      ]
     },
     "metadata": {
      "needs_background": "light"
     },
     "output_type": "display_data"
    }
   ],
   "source": [
    "plot_roc(test_y_lr,predslog)"
   ]
  },
  {
   "cell_type": "code",
   "execution_count": null,
   "metadata": {},
   "outputs": [],
   "source": []
  },
  {
   "cell_type": "code",
   "execution_count": null,
   "metadata": {},
   "outputs": [],
   "source": []
  },
  {
   "cell_type": "markdown",
   "metadata": {},
   "source": [
    "### Model 3.1: 现有样本训练Word2Vec + SVM"
   ]
  },
  {
   "cell_type": "code",
   "execution_count": 136,
   "metadata": {},
   "outputs": [],
   "source": [
    "#训练模型\n",
    "model_svm = LinearSVC()\n",
    "train_X_svm, test_X_svm, train_y_svm, test_y_svm = train_test_split(X, y, test_size=0.2)\n"
   ]
  },
  {
   "cell_type": "code",
   "execution_count": 137,
   "metadata": {},
   "outputs": [],
   "source": [
    "model_svm.fit(train_X_svm, train_y_svm)\n",
    "y_pred_svm = model_svm.predict(test_X_svm)"
   ]
  },
  {
   "cell_type": "code",
   "execution_count": 138,
   "metadata": {
    "scrolled": false
   },
   "outputs": [
    {
     "name": "stdout",
     "output_type": "stream",
     "text": [
      "              precision    recall  f1-score   support\n",
      "\n",
      "           0     0.8879    0.9240    0.9056      5025\n",
      "           1     0.7928    0.7139    0.7513      2048\n",
      "\n",
      "    accuracy                         0.8631      7073\n",
      "   macro avg     0.8404    0.8189    0.8284      7073\n",
      "weighted avg     0.8604    0.8631    0.8609      7073\n",
      "\n"
     ]
    }
   ],
   "source": [
    "print(classification_report(test_y_svm, y_pred_svm,digits=4))"
   ]
  },
  {
   "cell_type": "code",
   "execution_count": 139,
   "metadata": {},
   "outputs": [
    {
     "data": {
      "image/png": "[encoded data removed]",
      "text/plain": [
       "<Figure size 432x288 with 1 Axes>"
      ]
     },
     "metadata": {
      "needs_background": "light"
     },
     "output_type": "display_data"
    }
   ],
   "source": [
    "mat = confusion_matrix( y_pred_svm,test_y_svm)\n",
    "sns.heatmap(mat, square=True, annot=True, cbar=False,fmt='.20g')\n",
    "plt.xlabel(\"Actual Result\")\n",
    "plt.ylabel(\"Predicted Result\")\n",
    "a, b = plt.ylim() \n",
    "a += 0.5 \n",
    "b -= 0.5 \n",
    "plt.ylim(a, b) \n",
    "plt.show() "
   ]
  },
  {
   "cell_type": "code",
   "execution_count": null,
   "metadata": {},
   "outputs": [],
   "source": []
  },
  {
   "cell_type": "code",
   "execution_count": null,
   "metadata": {},
   "outputs": [],
   "source": [
    "\n"
   ]
  },
  {
   "cell_type": "markdown",
   "metadata": {},
   "source": [
    "### Model 3.2 现有样本训练Word2Vec + SVM + Naive Resampling"
   ]
  },
  {
   "cell_type": "code",
   "execution_count": null,
   "metadata": {},
   "outputs": [],
   "source": []
  },
  {
   "cell_type": "code",
   "execution_count": 146,
   "metadata": {},
   "outputs": [],
   "source": [
    "X_resampling = np.array(train_X_svm)\n",
    "y_resampling = train_y_svm\n",
    "ros = RandomOverSampler(random_state=0)\n",
    "X_resampled_naive, y_resampled_naive = ros.fit_resample(X_resampling, y_resampling)\n"
   ]
  },
  {
   "cell_type": "code",
   "execution_count": 147,
   "metadata": {},
   "outputs": [],
   "source": [
    "model_svm_sampling.fit(X_resampled_naive, y_resampled_naive)\n",
    "y_pred_svm = model_svm.predict(test_X_svm)"
   ]
  },
  {
   "cell_type": "code",
   "execution_count": 148,
   "metadata": {},
   "outputs": [
    {
     "name": "stdout",
     "output_type": "stream",
     "text": [
      "              precision    recall  f1-score   support\n",
      "\n",
      "           0     0.8917    0.9203    0.9058      4967\n",
      "           1     0.7966    0.7365    0.7654      2106\n",
      "\n",
      "    accuracy                         0.8655      7073\n",
      "   macro avg     0.8442    0.8284    0.8356      7073\n",
      "weighted avg     0.8634    0.8655    0.8640      7073\n",
      "\n"
     ]
    }
   ],
   "source": [
    "print(classification_report(test_y_svm, y_pred_svm,digits=4))"
   ]
  },
  {
   "cell_type": "code",
   "execution_count": 149,
   "metadata": {},
   "outputs": [
    {
     "data": {
      "image/png": "[encoded data removed]",
      "text/plain": [
       "<Figure size 432x288 with 1 Axes>"
      ]
     },
     "metadata": {
      "needs_background": "light"
     },
     "output_type": "display_data"
    }
   ],
   "source": [
    "mat = confusion_matrix( y_pred_svm,test_y_svm)\n",
    "sns.heatmap(mat, square=True, annot=True, cbar=False,fmt='.20g')\n",
    "plt.xlabel(\"Actual Result\")\n",
    "plt.ylabel(\"Predicted Result\")\n",
    "a, b = plt.ylim() \n",
    "a += 0.5 \n",
    "b -= 0.5 \n",
    "plt.ylim(a, b) \n",
    "plt.show() "
   ]
  },
  {
   "cell_type": "code",
   "execution_count": null,
   "metadata": {},
   "outputs": [],
   "source": []
  },
  {
   "cell_type": "markdown",
   "metadata": {},
   "source": [
    "### Model 3.3 现有样本训练Word2Vec + kernal_SVM"
   ]
  },
  {
   "cell_type": "code",
   "execution_count": null,
   "metadata": {},
   "outputs": [],
   "source": [
    "from sklearn.svm import SVC"
   ]
  },
  {
   "cell_type": "code",
   "execution_count": null,
   "metadata": {},
   "outputs": [],
   "source": []
  },
  {
   "cell_type": "markdown",
   "metadata": {},
   "source": [
    "#### SVC(kernel = 'poly', C = 0.1)"
   ]
  },
  {
   "cell_type": "code",
   "execution_count": 185,
   "metadata": {},
   "outputs": [
    {
     "data": {
      "text/plain": [
       "SVC(C=0.1, kernel='poly')"
      ]
     },
     "execution_count": 185,
     "metadata": {},
     "output_type": "execute_result"
    }
   ],
   "source": [
    "kernal_svm = SVC(kernel = 'poly', C = 0.1)\n",
    "kernal_svm.fit(train_X_svm,train_y_svm)"
   ]
  },
  {
   "cell_type": "code",
   "execution_count": 186,
   "metadata": {},
   "outputs": [],
   "source": [
    "y_pred_svm = kernal_svm.predict(test_X_svm)"
   ]
  },
  {
   "cell_type": "code",
   "execution_count": 187,
   "metadata": {},
   "outputs": [
    {
     "name": "stdout",
     "output_type": "stream",
     "text": [
      "              precision    recall  f1-score   support\n",
      "\n",
      "           0     0.8285    0.9530    0.8864      4974\n",
      "           1     0.8269    0.5326    0.6479      2099\n",
      "\n",
      "    accuracy                         0.8282      7073\n",
      "   macro avg     0.8277    0.7428    0.7672      7073\n",
      "weighted avg     0.8281    0.8282    0.8156      7073\n",
      "\n"
     ]
    }
   ],
   "source": [
    "print(classification_report(test_y_svm, y_pred_svm,digits=4))"
   ]
  },
  {
   "cell_type": "code",
   "execution_count": 188,
   "metadata": {},
   "outputs": [
    {
     "data": {
      "image/png": "[encoded data removed]",
      "text/plain": [
       "<Figure size 432x288 with 1 Axes>"
      ]
     },
     "metadata": {
      "needs_background": "light"
     },
     "output_type": "display_data"
    }
   ],
   "source": [
    "mat = confusion_matrix( y_pred_svm,test_y_svm)\n",
    "sns.heatmap(mat, square=True, annot=True, cbar=False,fmt='.20g')\n",
    "plt.xlabel(\"Actual Result\")\n",
    "plt.ylabel(\"Predicted Result\")\n",
    "a, b = plt.ylim() \n",
    "a += 0.5 \n",
    "b -= 0.5 \n",
    "plt.ylim(a, b) \n",
    "plt.show() "
   ]
  },
  {
   "cell_type": "code",
   "execution_count": null,
   "metadata": {},
   "outputs": [],
   "source": []
  },
  {
   "cell_type": "markdown",
   "metadata": {},
   "source": [
    "#### kernal_svm = SVC(kernel = 'poly', C = 1)"
   ]
  },
  {
   "cell_type": "code",
   "execution_count": 199,
   "metadata": {},
   "outputs": [
    {
     "data": {
      "text/plain": [
       "SVC(C=1, kernel='poly')"
      ]
     },
     "execution_count": 199,
     "metadata": {},
     "output_type": "execute_result"
    }
   ],
   "source": [
    "kernal_svm = SVC(kernel = 'poly', C = 1)\n",
    "kernal_svm.fit(train_X_svm,train_y_svm)"
   ]
  },
  {
   "cell_type": "code",
   "execution_count": 200,
   "metadata": {},
   "outputs": [],
   "source": [
    "y_pred_svm = kernal_svm.predict(test_X_svm)"
   ]
  },
  {
   "cell_type": "code",
   "execution_count": 183,
   "metadata": {},
   "outputs": [
    {
     "name": "stdout",
     "output_type": "stream",
     "text": [
      "              precision    recall  f1-score   support\n",
      "\n",
      "           0     0.8743    0.9355    0.9038      4974\n",
      "           1     0.8167    0.6813    0.7429      2099\n",
      "\n",
      "    accuracy                         0.8600      7073\n",
      "   macro avg     0.8455    0.8084    0.8234      7073\n",
      "weighted avg     0.8572    0.8600    0.8561      7073\n",
      "\n"
     ]
    }
   ],
   "source": [
    "print(classification_report(test_y_svm, y_pred_svm,digits=4))"
   ]
  },
  {
   "cell_type": "code",
   "execution_count": 184,
   "metadata": {},
   "outputs": [
    {
     "data": {
      "image/png": "[encoded data removed]",
      "text/plain": [
       "<Figure size 432x288 with 1 Axes>"
      ]
     },
     "metadata": {
      "needs_background": "light"
     },
     "output_type": "display_data"
    }
   ],
   "source": [
    "mat = confusion_matrix( y_pred_svm,test_y_svm)\n",
    "sns.heatmap(mat, square=True, annot=True, cbar=False,fmt='.20g')\n",
    "plt.xlabel(\"Actual Result\")\n",
    "plt.ylabel(\"Predicted Result\")\n",
    "a, b = plt.ylim() \n",
    "a += 0.5 \n",
    "b -= 0.5 \n",
    "plt.ylim(a, b) \n",
    "plt.show() "
   ]
  },
  {
   "cell_type": "code",
   "execution_count": null,
   "metadata": {},
   "outputs": [],
   "source": []
  },
  {
   "cell_type": "markdown",
   "metadata": {},
   "source": [
    "### Model 3.4 现有样本训练Word2Vec + kernal_SVM + Naive Resampling\n",
    "可能是做了不平衡处理的原因，模型更偏向于预测样本为负类。不过也不算一件坏事。"
   ]
  },
  {
   "cell_type": "code",
   "execution_count": null,
   "metadata": {},
   "outputs": [],
   "source": []
  },
  {
   "cell_type": "code",
   "execution_count": 162,
   "metadata": {},
   "outputs": [],
   "source": [
    "X_resampling = np.array(train_X_svm)\n",
    "y_resampling = train_y_svm\n",
    "ros = RandomOverSampler(random_state=0)\n",
    "X_resampled_naive, y_resampled_naive = ros.fit_resample(X_resampling, y_resampling)\n"
   ]
  },
  {
   "cell_type": "code",
   "execution_count": null,
   "metadata": {},
   "outputs": [],
   "source": []
  },
  {
   "cell_type": "markdown",
   "metadata": {},
   "source": [
    "#### kernal_svm = SVC(kernel = 'poly', C = 0.1)"
   ]
  },
  {
   "cell_type": "code",
   "execution_count": 173,
   "metadata": {},
   "outputs": [
    {
     "data": {
      "text/plain": [
       "SVC(C=0.1, kernel='poly')"
      ]
     },
     "execution_count": 173,
     "metadata": {},
     "output_type": "execute_result"
    }
   ],
   "source": [
    "kernal_svm = SVC(kernel = 'poly', C = 0.1)\n",
    "kernal_svm.fit(X_resampled_naive,y_resampled_naive)"
   ]
  },
  {
   "cell_type": "code",
   "execution_count": 174,
   "metadata": {},
   "outputs": [],
   "source": [
    "y_pred_svm = kernal_svm.predict(test_X_svm)"
   ]
  },
  {
   "cell_type": "code",
   "execution_count": 175,
   "metadata": {},
   "outputs": [
    {
     "name": "stdout",
     "output_type": "stream",
     "text": [
      "              precision    recall  f1-score   support\n",
      "\n",
      "           0     0.9322    0.7994    0.8607      4974\n",
      "           1     0.6446    0.8623    0.7377      2099\n",
      "\n",
      "    accuracy                         0.8180      7073\n",
      "   macro avg     0.7884    0.8308    0.7992      7073\n",
      "weighted avg     0.8469    0.8180    0.8242      7073\n",
      "\n"
     ]
    }
   ],
   "source": [
    "print(classification_report(test_y_svm, y_pred_svm,digits=4))"
   ]
  },
  {
   "cell_type": "code",
   "execution_count": 176,
   "metadata": {},
   "outputs": [
    {
     "data": {
      "image/png": "[encoded data removed]",
      "text/plain": [
       "<Figure size 432x288 with 1 Axes>"
      ]
     },
     "metadata": {
      "needs_background": "light"
     },
     "output_type": "display_data"
    }
   ],
   "source": [
    "mat = confusion_matrix( y_pred_svm,test_y_svm)\n",
    "sns.heatmap(mat, square=True, annot=True, cbar=False,fmt='.20g')\n",
    "plt.xlabel(\"Actual Result\")\n",
    "plt.ylabel(\"Predicted Result\")\n",
    "a, b = plt.ylim() \n",
    "a += 0.5 \n",
    "b -= 0.5 \n",
    "plt.ylim(a, b) \n",
    "plt.show() "
   ]
  },
  {
   "cell_type": "code",
   "execution_count": null,
   "metadata": {},
   "outputs": [],
   "source": []
  },
  {
   "cell_type": "markdown",
   "metadata": {},
   "source": [
    "#### kernal_svm = SVC(kernel = 'poly', C = 1)\n"
   ]
  },
  {
   "cell_type": "code",
   "execution_count": 177,
   "metadata": {},
   "outputs": [
    {
     "data": {
      "text/plain": [
       "SVC(C=1, kernel='poly')"
      ]
     },
     "execution_count": 177,
     "metadata": {},
     "output_type": "execute_result"
    }
   ],
   "source": [
    "kernal_svm = SVC(kernel = 'poly', C = 1)\n",
    "kernal_svm.fit(X_resampled_naive,y_resampled_naive)"
   ]
  },
  {
   "cell_type": "code",
   "execution_count": 178,
   "metadata": {},
   "outputs": [],
   "source": [
    "y_pred_svm = kernal_svm.predict(test_X_svm)"
   ]
  },
  {
   "cell_type": "code",
   "execution_count": 179,
   "metadata": {},
   "outputs": [
    {
     "name": "stdout",
     "output_type": "stream",
     "text": [
      "              precision    recall  f1-score   support\n",
      "\n",
      "           0     0.9311    0.8398    0.8831      4974\n",
      "           1     0.6919    0.8528    0.7640      2099\n",
      "\n",
      "    accuracy                         0.8436      7073\n",
      "   macro avg     0.8115    0.8463    0.8235      7073\n",
      "weighted avg     0.8601    0.8436    0.8477      7073\n",
      "\n"
     ]
    }
   ],
   "source": [
    "print(classification_report(test_y_svm, y_pred_svm,digits=4))"
   ]
  },
  {
   "cell_type": "code",
   "execution_count": 180,
   "metadata": {},
   "outputs": [
    {
     "data": {
      "image/png": "[encoded data removed]",
      "text/plain": [
       "<Figure size 432x288 with 1 Axes>"
      ]
     },
     "metadata": {
      "needs_background": "light"
     },
     "output_type": "display_data"
    }
   ],
   "source": [
    "mat = confusion_matrix( y_pred_svm,test_y_svm)\n",
    "sns.heatmap(mat, square=True, annot=True, cbar=False,fmt='.20g')\n",
    "plt.xlabel(\"Actual Result\")\n",
    "plt.ylabel(\"Predicted Result\")\n",
    "a, b = plt.ylim() \n",
    "a += 0.5 \n",
    "b -= 0.5 \n",
    "plt.ylim(a, b) \n",
    "plt.show() "
   ]
  },
  {
   "cell_type": "code",
   "execution_count": null,
   "metadata": {},
   "outputs": [],
   "source": []
  },
  {
   "cell_type": "markdown",
   "metadata": {},
   "source": [
    "### Model 3.5 现有样本训练Word2Vec + RBF_SVM \n"
   ]
  },
  {
   "cell_type": "code",
   "execution_count": 201,
   "metadata": {},
   "outputs": [
    {
     "data": {
      "text/plain": [
       "SVC(gamma=0.1)"
      ]
     },
     "execution_count": 201,
     "metadata": {},
     "output_type": "execute_result"
    }
   ],
   "source": [
    "rbf_svm = SVC(C=1.0, kernel='rbf', gamma=0.1)\n",
    "rbf_svm.fit(train_X_svm,train_y_svm)"
   ]
  },
  {
   "cell_type": "code",
   "execution_count": 202,
   "metadata": {},
   "outputs": [],
   "source": [
    "y_pred_svm = rbf_svm.predict(test_X_svm)"
   ]
  },
  {
   "cell_type": "code",
   "execution_count": 203,
   "metadata": {},
   "outputs": [
    {
     "name": "stdout",
     "output_type": "stream",
     "text": [
      "              precision    recall  f1-score   support\n",
      "\n",
      "           0     0.8879    0.9254    0.9063      4974\n",
      "           1     0.8036    0.7232    0.7613      2099\n",
      "\n",
      "    accuracy                         0.8654      7073\n",
      "   macro avg     0.8458    0.8243    0.8338      7073\n",
      "weighted avg     0.8629    0.8654    0.8633      7073\n",
      "\n"
     ]
    }
   ],
   "source": [
    "print(classification_report(test_y_svm, y_pred_svm,digits=4))"
   ]
  },
  {
   "cell_type": "code",
   "execution_count": 204,
   "metadata": {},
   "outputs": [
    {
     "data": {
      "image/png": "[encoded data removed]",
      "text/plain": [
       "<Figure size 432x288 with 1 Axes>"
      ]
     },
     "metadata": {
      "needs_background": "light"
     },
     "output_type": "display_data"
    }
   ],
   "source": [
    "mat = confusion_matrix( y_pred_svm,test_y_svm)\n",
    "sns.heatmap(mat, square=True, annot=True, cbar=False,fmt='.20g')\n",
    "plt.xlabel(\"Actual Result\")\n",
    "plt.ylabel(\"Predicted Result\")\n",
    "a, b = plt.ylim() \n",
    "a += 0.5 \n",
    "b -= 0.5 \n",
    "plt.ylim(a, b) \n",
    "plt.show() "
   ]
  },
  {
   "cell_type": "markdown",
   "metadata": {},
   "source": [
    "### Model 3.6 现有样本训练Word2Vec + RBF_SVM + Naive Resampling"
   ]
  },
  {
   "cell_type": "code",
   "execution_count": 205,
   "metadata": {},
   "outputs": [
    {
     "data": {
      "text/plain": [
       "SVC(gamma=0.1)"
      ]
     },
     "execution_count": 205,
     "metadata": {},
     "output_type": "execute_result"
    }
   ],
   "source": [
    "rbf_svm = SVC(C=1.0, kernel='rbf', gamma=0.1)\n",
    "rbf_svm.fit(X_resampled_naive,y_resampled_naive)"
   ]
  },
  {
   "cell_type": "code",
   "execution_count": 206,
   "metadata": {},
   "outputs": [],
   "source": [
    "y_pred_svm = rbf_svm.predict(test_X_svm)"
   ]
  },
  {
   "cell_type": "code",
   "execution_count": 207,
   "metadata": {},
   "outputs": [
    {
     "name": "stdout",
     "output_type": "stream",
     "text": [
      "              precision    recall  f1-score   support\n",
      "\n",
      "           0     0.9226    0.8647    0.8927      4974\n",
      "           1     0.7209    0.8280    0.7707      2099\n",
      "\n",
      "    accuracy                         0.8538      7073\n",
      "   macro avg     0.8217    0.8464    0.8317      7073\n",
      "weighted avg     0.8627    0.8538    0.8565      7073\n",
      "\n"
     ]
    }
   ],
   "source": [
    "print(classification_report(test_y_svm, y_pred_svm,digits=4))"
   ]
  },
  {
   "cell_type": "code",
   "execution_count": 208,
   "metadata": {},
   "outputs": [
    {
     "data": {
      "image/png": "[encoded data removed]",
      "text/plain": [
       "<Figure size 432x288 with 1 Axes>"
      ]
     },
     "metadata": {
      "needs_background": "light"
     },
     "output_type": "display_data"
    }
   ],
   "source": [
    "mat = confusion_matrix( y_pred_svm,test_y_svm)\n",
    "sns.heatmap(mat, square=True, annot=True, cbar=False,fmt='.20g')\n",
    "plt.xlabel(\"Actual Result\")\n",
    "plt.ylabel(\"Predicted Result\")\n",
    "a, b = plt.ylim() \n",
    "a += 0.5 \n",
    "b -= 0.5 \n",
    "plt.ylim(a, b) \n",
    "plt.show() "
   ]
  },
  {
   "cell_type": "markdown",
   "metadata": {},
   "source": [
    "### Model 4.1 现有样本训练Word2Vec + XGBoost"
   ]
  },
  {
   "cell_type": "code",
   "execution_count": 220,
   "metadata": {},
   "outputs": [],
   "source": [
    "import xgboost as xgb "
   ]
  },
  {
   "cell_type": "code",
   "execution_count": 212,
   "metadata": {},
   "outputs": [],
   "source": [
    "train_X_xgb = train_X_svm.copy()\n",
    "test_X_xgb = test_X_svm.copy()\n",
    "train_y_xgb = train_y_svm.copy()\n",
    "test_y_xgb = test_y_svm.copy()\n"
   ]
  },
  {
   "cell_type": "code",
   "execution_count": 216,
   "metadata": {},
   "outputs": [
    {
     "data": {
      "text/plain": [
       "(28290, 200)"
      ]
     },
     "execution_count": 216,
     "metadata": {},
     "output_type": "execute_result"
    }
   ],
   "source": [
    "train_X_xgb.shape"
   ]
  },
  {
   "cell_type": "code",
   "execution_count": 245,
   "metadata": {},
   "outputs": [],
   "source": [
    "params={\n",
    "'booster':'gbtree', \n",
    "# 这里手写数字是0-9，是一个多类的问题，因此采用了multisoft多分类器，\n",
    "'objective': 'binary:logistic',  #二分类的逻辑回归问题，输出为概率\n",
    "'eval_metric' : 'auc',\n",
    "'gamma':0.05,  # 在树的叶子节点下一个分区的最小损失，越大算法模型越保守 。[0:]\n",
    "'n_estimators' : 10,\n",
    "'max_depth':4, # 构建树的深度 [1:]\n",
    "#'lambda':450,  # L2 正则项权重\n",
    "'subsample':0.7, # 采样训练数据，设置为0.5，随机选择一般的数据实例 (0:1]\n",
    "'colsample_bytree':0.7, # 构建树树时的采样比率 (0:1]\n",
    "#'min_child_weight':12, # 节点的最少特征数\n",
    "'scale_pos_weight' : 2.349911190053286,\n",
    "'silent':0 ,\n",
    "'eta': 0.05, # 如同学习率http://localhost:8889/notebooks/Test.ipynb#\n",
    "'seed':701,\n",
    "'nthreads':-1,# cpu 线程数,根据自己U的个数适当调整\n",
    "}"
   ]
  },
  {
   "cell_type": "code",
   "execution_count": null,
   "metadata": {},
   "outputs": [],
   "source": []
  },
  {
   "cell_type": "code",
   "execution_count": 275,
   "metadata": {},
   "outputs": [],
   "source": [
    "sklearn_model_new = xgb.XGBClassifier(max_depth=5,\n",
    "                                      learning_rate= 0.05, \n",
    "                                      verbosity=1, \n",
    "                                      objective='binary:logistic',\n",
    "                                      subsample = 0.7,\n",
    "                                      colsample_bytree = 0.7,\n",
    "                                      scale_pos_weight = 2.349911190053286,\n",
    "                                      random_state=1)"
   ]
  },
  {
   "cell_type": "code",
   "execution_count": 272,
   "metadata": {},
   "outputs": [],
   "source": [
    "train_X_xgb, val_X_xgb, train_y_xgb, val_y_xgb = train_test_split(X, y, test_size=0.05)"
   ]
  },
  {
   "cell_type": "code",
   "execution_count": 276,
   "metadata": {
    "scrolled": true
   },
   "outputs": [
    {
     "name": "stdout",
     "output_type": "stream",
     "text": [
      "[0]\tvalidation_0-auc:0.849186\n",
      "Will train until validation_0-auc hasn't improved in 10 rounds.\n",
      "[1]\tvalidation_0-auc:0.878202\n",
      "[2]\tvalidation_0-auc:0.877414\n",
      "[3]\tvalidation_0-auc:0.880505\n",
      "[4]\tvalidation_0-auc:0.883067\n",
      "[5]\tvalidation_0-auc:0.885838\n",
      "[6]\tvalidation_0-auc:0.888724\n",
      "[7]\tvalidation_0-auc:0.890981\n",
      "[8]\tvalidation_0-auc:0.891121\n",
      "[9]\tvalidation_0-auc:0.892434\n",
      "[10]\tvalidation_0-auc:0.893584\n",
      "[11]\tvalidation_0-auc:0.894864\n",
      "[12]\tvalidation_0-auc:0.895439\n",
      "[13]\tvalidation_0-auc:0.895722\n",
      "[14]\tvalidation_0-auc:0.895696\n",
      "[15]\tvalidation_0-auc:0.89571\n",
      "[16]\tvalidation_0-auc:0.89603\n",
      "[17]\tvalidation_0-auc:0.897556\n",
      "[18]\tvalidation_0-auc:0.898382\n",
      "[19]\tvalidation_0-auc:0.898597\n",
      "[20]\tvalidation_0-auc:0.899176\n",
      "[21]\tvalidation_0-auc:0.899345\n",
      "[22]\tvalidation_0-auc:0.899867\n",
      "[23]\tvalidation_0-auc:0.899843\n",
      "[24]\tvalidation_0-auc:0.900845\n",
      "[25]\tvalidation_0-auc:0.901522\n",
      "[26]\tvalidation_0-auc:0.90233\n",
      "[27]\tvalidation_0-auc:0.90262\n",
      "[28]\tvalidation_0-auc:0.903502\n",
      "[29]\tvalidation_0-auc:0.904483\n",
      "[30]\tvalidation_0-auc:0.904392\n",
      "[31]\tvalidation_0-auc:0.905037\n",
      "[32]\tvalidation_0-auc:0.905787\n",
      "[33]\tvalidation_0-auc:0.906129\n",
      "[34]\tvalidation_0-auc:0.906959\n",
      "[35]\tvalidation_0-auc:0.907224\n",
      "[36]\tvalidation_0-auc:0.907529\n",
      "[37]\tvalidation_0-auc:0.90807\n",
      "[38]\tvalidation_0-auc:0.907813\n",
      "[39]\tvalidation_0-auc:0.90819\n",
      "[40]\tvalidation_0-auc:0.908309\n",
      "[41]\tvalidation_0-auc:0.908796\n",
      "[42]\tvalidation_0-auc:0.909131\n",
      "[43]\tvalidation_0-auc:0.909193\n",
      "[44]\tvalidation_0-auc:0.909193\n",
      "[45]\tvalidation_0-auc:0.909337\n",
      "[46]\tvalidation_0-auc:0.909631\n",
      "[47]\tvalidation_0-auc:0.909908\n",
      "[48]\tvalidation_0-auc:0.909982\n",
      "[49]\tvalidation_0-auc:0.909985\n",
      "[50]\tvalidation_0-auc:0.910185\n",
      "[51]\tvalidation_0-auc:0.910434\n",
      "[52]\tvalidation_0-auc:0.910651\n",
      "[53]\tvalidation_0-auc:0.910702\n",
      "[54]\tvalidation_0-auc:0.910923\n",
      "[55]\tvalidation_0-auc:0.911451\n",
      "[56]\tvalidation_0-auc:0.911771\n",
      "[57]\tvalidation_0-auc:0.912141\n",
      "[58]\tvalidation_0-auc:0.912346\n",
      "[59]\tvalidation_0-auc:0.912359\n",
      "[60]\tvalidation_0-auc:0.912648\n",
      "[61]\tvalidation_0-auc:0.912962\n",
      "[62]\tvalidation_0-auc:0.912972\n",
      "[63]\tvalidation_0-auc:0.913359\n",
      "[64]\tvalidation_0-auc:0.913602\n",
      "[65]\tvalidation_0-auc:0.913815\n",
      "[66]\tvalidation_0-auc:0.91412\n",
      "[67]\tvalidation_0-auc:0.914447\n",
      "[68]\tvalidation_0-auc:0.914617\n",
      "[69]\tvalidation_0-auc:0.914697\n",
      "[70]\tvalidation_0-auc:0.915149\n",
      "[71]\tvalidation_0-auc:0.915359\n",
      "[72]\tvalidation_0-auc:0.915574\n",
      "[73]\tvalidation_0-auc:0.91558\n",
      "[74]\tvalidation_0-auc:0.915717\n",
      "[75]\tvalidation_0-auc:0.915946\n",
      "[76]\tvalidation_0-auc:0.915998\n",
      "[77]\tvalidation_0-auc:0.916365\n",
      "[78]\tvalidation_0-auc:0.916274\n",
      "[79]\tvalidation_0-auc:0.916508\n",
      "[80]\tvalidation_0-auc:0.916728\n",
      "[81]\tvalidation_0-auc:0.916807\n",
      "[82]\tvalidation_0-auc:0.916865\n",
      "[83]\tvalidation_0-auc:0.917097\n",
      "[84]\tvalidation_0-auc:0.917188\n",
      "[85]\tvalidation_0-auc:0.917414\n",
      "[86]\tvalidation_0-auc:0.9175\n",
      "[87]\tvalidation_0-auc:0.917717\n",
      "[88]\tvalidation_0-auc:0.917757\n",
      "[89]\tvalidation_0-auc:0.9178\n",
      "[90]\tvalidation_0-auc:0.918145\n",
      "[91]\tvalidation_0-auc:0.918162\n",
      "[92]\tvalidation_0-auc:0.918322\n",
      "[93]\tvalidation_0-auc:0.918554\n",
      "[94]\tvalidation_0-auc:0.918545\n",
      "[95]\tvalidation_0-auc:0.91866\n",
      "[96]\tvalidation_0-auc:0.918838\n",
      "[97]\tvalidation_0-auc:0.918911\n",
      "[98]\tvalidation_0-auc:0.919094\n",
      "[99]\tvalidation_0-auc:0.919207\n"
     ]
    },
    {
     "data": {
      "text/plain": [
       "XGBClassifier(colsample_bytree=0.7, learning_rate=0.05, max_depth=5,\n",
       "              random_state=1, scale_pos_weight=2.349911190053286,\n",
       "              subsample=0.7)"
      ]
     },
     "execution_count": 276,
     "metadata": {},
     "output_type": "execute_result"
    }
   ],
   "source": [
    "sklearn_model_new.fit(train_X_xgb, train_y_xgb, early_stopping_rounds=10, eval_metric=\"auc\",\n",
    "        eval_set=[(val_X_xgb, val_y_xgb)])"
   ]
  },
  {
   "cell_type": "code",
   "execution_count": 289,
   "metadata": {},
   "outputs": [],
   "source": [
    "y_pred_xgb = sklearn_model_new.predict(test_X_xgb)"
   ]
  },
  {
   "cell_type": "code",
   "execution_count": 290,
   "metadata": {},
   "outputs": [
    {
     "name": "stdout",
     "output_type": "stream",
     "text": [
      "              precision    recall  f1-score   support\n",
      "\n",
      "           0     0.9467    0.8357    0.8878      4974\n",
      "           1     0.6954    0.8885    0.7802      2099\n",
      "\n",
      "    accuracy                         0.8514      7073\n",
      "   macro avg     0.8210    0.8621    0.8340      7073\n",
      "weighted avg     0.8721    0.8514    0.8558      7073\n",
      "\n"
     ]
    }
   ],
   "source": [
    "print(classification_report(test_y_xgb, y_pred_xgb,digits=4))"
   ]
  },
  {
   "cell_type": "code",
   "execution_count": 291,
   "metadata": {},
   "outputs": [
    {
     "data": {
      "image/png": "[encoded data removed]",
      "text/plain": [
       "<Figure size 432x288 with 1 Axes>"
      ]
     },
     "metadata": {},
     "output_type": "display_data"
    }
   ],
   "source": [
    "mat = confusion_matrix(y_pred_xgb,test_y_xgb)\n",
    "sns.heatmap(mat, square=True, annot=True, cbar=False,fmt='.20g')\n",
    "plt.xlabel(\"Actual Result\")\n",
    "plt.ylabel(\"Predicted Result\")\n",
    "a, b = plt.ylim() \n",
    "a += 0.5 \n",
    "b -= 0.5 \n",
    "plt.ylim(a, b) \n",
    "plt.show() "
   ]
  },
  {
   "cell_type": "code",
   "execution_count": null,
   "metadata": {},
   "outputs": [],
   "source": []
  },
  {
   "cell_type": "code",
   "execution_count": 266,
   "metadata": {},
   "outputs": [],
   "source": [
    "from sklearn.model_selection import GridSearchCV"
   ]
  },
  {
   "cell_type": "code",
   "execution_count": 332,
   "metadata": {},
   "outputs": [],
   "source": [
    "paramGrid = {\"max_depth\" : [5,6,7,8,9,10]}\n",
    "cv = 2"
   ]
  },
  {
   "cell_type": "code",
   "execution_count": 333,
   "metadata": {},
   "outputs": [],
   "source": [
    "fit_params={\"early_stopping_rounds\":5, \n",
    "            \"eval_metric\" : \"auc\", \n",
    "            \"eval_set\" : [[val_X_xgb, val_y_xgb]]}"
   ]
  },
  {
   "cell_type": "code",
   "execution_count": 334,
   "metadata": {
    "scrolled": true
   },
   "outputs": [
    {
     "name": "stdout",
     "output_type": "stream",
     "text": [
      "Fitting 2 folds for each of 6 candidates, totalling 12 fits\n"
     ]
    },
    {
     "name": "stderr",
     "output_type": "stream",
     "text": [
      "[Parallel(n_jobs=-1)]: Using backend LokyBackend with 8 concurrent workers.\n",
      "[Parallel(n_jobs=-1)]: Done  10 out of  12 | elapsed:  1.3min remaining:   15.5s\n",
      "[Parallel(n_jobs=-1)]: Done  12 out of  12 | elapsed:  2.0min finished\n"
     ]
    },
    {
     "name": "stdout",
     "output_type": "stream",
     "text": [
      "[0]\tvalidation_0-auc:0.862506\n",
      "Will train until validation_0-auc hasn't improved in 5 rounds.\n",
      "[1]\tvalidation_0-auc:0.883963\n",
      "[2]\tvalidation_0-auc:0.892269\n",
      "[3]\tvalidation_0-auc:0.899534\n",
      "[4]\tvalidation_0-auc:0.902337\n",
      "[5]\tvalidation_0-auc:0.905057\n",
      "[6]\tvalidation_0-auc:0.907803\n",
      "[7]\tvalidation_0-auc:0.908734\n",
      "[8]\tvalidation_0-auc:0.907833\n",
      "[9]\tvalidation_0-auc:0.9092\n",
      "[10]\tvalidation_0-auc:0.91059\n",
      "[11]\tvalidation_0-auc:0.911343\n",
      "[12]\tvalidation_0-auc:0.911638\n",
      "[13]\tvalidation_0-auc:0.91207\n",
      "[14]\tvalidation_0-auc:0.912862\n",
      "[15]\tvalidation_0-auc:0.913734\n",
      "[16]\tvalidation_0-auc:0.914234\n",
      "[17]\tvalidation_0-auc:0.91447\n",
      "[18]\tvalidation_0-auc:0.915312\n",
      "[19]\tvalidation_0-auc:0.91593\n",
      "[20]\tvalidation_0-auc:0.916336\n",
      "[21]\tvalidation_0-auc:0.917199\n",
      "[22]\tvalidation_0-auc:0.917462\n",
      "[23]\tvalidation_0-auc:0.917856\n",
      "[24]\tvalidation_0-auc:0.918561\n",
      "[25]\tvalidation_0-auc:0.918727\n",
      "[26]\tvalidation_0-auc:0.919605\n",
      "[27]\tvalidation_0-auc:0.920208\n",
      "[28]\tvalidation_0-auc:0.920403\n",
      "[29]\tvalidation_0-auc:0.921049\n",
      "[30]\tvalidation_0-auc:0.92147\n",
      "[31]\tvalidation_0-auc:0.922266\n",
      "[32]\tvalidation_0-auc:0.922705\n",
      "[33]\tvalidation_0-auc:0.922968\n",
      "[34]\tvalidation_0-auc:0.922962\n",
      "[35]\tvalidation_0-auc:0.923289\n",
      "[36]\tvalidation_0-auc:0.923537\n",
      "[37]\tvalidation_0-auc:0.92399\n",
      "[38]\tvalidation_0-auc:0.924114\n",
      "[39]\tvalidation_0-auc:0.924189\n",
      "[40]\tvalidation_0-auc:0.924329\n",
      "[41]\tvalidation_0-auc:0.924716\n",
      "[42]\tvalidation_0-auc:0.92523\n",
      "[43]\tvalidation_0-auc:0.925833\n",
      "[44]\tvalidation_0-auc:0.926096\n",
      "[45]\tvalidation_0-auc:0.926054\n",
      "[46]\tvalidation_0-auc:0.926282\n",
      "[47]\tvalidation_0-auc:0.92636\n",
      "[48]\tvalidation_0-auc:0.926559\n",
      "[49]\tvalidation_0-auc:0.926828\n",
      "[50]\tvalidation_0-auc:0.92701\n",
      "[51]\tvalidation_0-auc:0.926933\n",
      "[52]\tvalidation_0-auc:0.927266\n",
      "[53]\tvalidation_0-auc:0.92714\n",
      "[54]\tvalidation_0-auc:0.927236\n",
      "[55]\tvalidation_0-auc:0.927477\n",
      "[56]\tvalidation_0-auc:0.927686\n",
      "[57]\tvalidation_0-auc:0.927706\n",
      "[58]\tvalidation_0-auc:0.927897\n",
      "[59]\tvalidation_0-auc:0.928158\n",
      "[60]\tvalidation_0-auc:0.928348\n",
      "[61]\tvalidation_0-auc:0.928827\n",
      "[62]\tvalidation_0-auc:0.928972\n",
      "[63]\tvalidation_0-auc:0.929298\n",
      "[64]\tvalidation_0-auc:0.929456\n",
      "[65]\tvalidation_0-auc:0.92967\n",
      "[66]\tvalidation_0-auc:0.92979\n",
      "[67]\tvalidation_0-auc:0.93013\n",
      "[68]\tvalidation_0-auc:0.930284\n",
      "[69]\tvalidation_0-auc:0.930201\n",
      "[70]\tvalidation_0-auc:0.930255\n",
      "[71]\tvalidation_0-auc:0.93039\n",
      "[72]\tvalidation_0-auc:0.930272\n",
      "[73]\tvalidation_0-auc:0.930305\n",
      "[74]\tvalidation_0-auc:0.930545\n",
      "[75]\tvalidation_0-auc:0.93065\n",
      "[76]\tvalidation_0-auc:0.930708\n",
      "[77]\tvalidation_0-auc:0.930813\n",
      "[78]\tvalidation_0-auc:0.931031\n",
      "[79]\tvalidation_0-auc:0.931245\n",
      "[80]\tvalidation_0-auc:0.931231\n",
      "[81]\tvalidation_0-auc:0.931185\n",
      "[82]\tvalidation_0-auc:0.931208\n",
      "[83]\tvalidation_0-auc:0.931434\n",
      "[84]\tvalidation_0-auc:0.931523\n",
      "[85]\tvalidation_0-auc:0.931682\n",
      "[86]\tvalidation_0-auc:0.931817\n",
      "[87]\tvalidation_0-auc:0.932051\n",
      "[88]\tvalidation_0-auc:0.932042\n",
      "[89]\tvalidation_0-auc:0.932179\n",
      "[90]\tvalidation_0-auc:0.932231\n",
      "[91]\tvalidation_0-auc:0.932442\n",
      "[92]\tvalidation_0-auc:0.932502\n",
      "[93]\tvalidation_0-auc:0.932577\n",
      "[94]\tvalidation_0-auc:0.932688\n",
      "[95]\tvalidation_0-auc:0.932689\n",
      "[96]\tvalidation_0-auc:0.93278\n",
      "[97]\tvalidation_0-auc:0.932985\n",
      "[98]\tvalidation_0-auc:0.932925\n",
      "[99]\tvalidation_0-auc:0.932938\n"
     ]
    },
    {
     "data": {
      "text/plain": [
       "GridSearchCV(cv=2,\n",
       "             estimator=XGBRegressor(colsample_bytree=0.7, learning_rate=0.05,\n",
       "                                    objective='binary:logistic', random_state=1,\n",
       "                                    scale_pos_weight=2.349911190053286,\n",
       "                                    subsample=0.7),\n",
       "             n_jobs=-1, param_grid={'max_depth': [5, 6, 7, 8, 9, 10]},\n",
       "             verbose=1)"
      ]
     },
     "execution_count": 334,
     "metadata": {},
     "output_type": "execute_result"
    }
   ],
   "source": [
    "model = xgb.XGBRegressor(learning_rate= 0.05, \n",
    "                         verbosity=1,\n",
    "                         objective='binary:logistic',\n",
    "                         subsample = 0.7,\n",
    "                         colsample_bytree = 0.7,\n",
    "                         scale_pos_weight = 2.349911190053286,\n",
    "                         random_state=1)\n",
    "\n",
    "gridsearch = GridSearchCV(model, paramGrid, verbose=1,cv = 2,\n",
    "                        n_jobs = -1)\n",
    "\n",
    "gridsearch.fit(train_X_xgb, train_y_xgb, **fit_params)"
   ]
  },
  {
   "cell_type": "code",
   "execution_count": 335,
   "metadata": {
    "scrolled": true
   },
   "outputs": [
    {
     "name": "stdout",
     "output_type": "stream",
     "text": [
      "0.5112642258986644\n",
      "{'max_depth': 9}\n"
     ]
    }
   ],
   "source": [
    "print(gridsearch.best_score_)\n",
    "print(gridsearch.best_params_)"
   ]
  },
  {
   "cell_type": "code",
   "execution_count": 336,
   "metadata": {
    "scrolled": true
   },
   "outputs": [
    {
     "name": "stdout",
     "output_type": "stream",
     "text": [
      "[0]\tvalidation_0-auc:0.849186\n",
      "Will train until validation_0-auc hasn't improved in 10 rounds.\n",
      "[1]\tvalidation_0-auc:0.878202\n",
      "[2]\tvalidation_0-auc:0.877414\n",
      "[3]\tvalidation_0-auc:0.880505\n",
      "[4]\tvalidation_0-auc:0.883067\n",
      "[5]\tvalidation_0-auc:0.885838\n",
      "[6]\tvalidation_0-auc:0.888724\n",
      "[7]\tvalidation_0-auc:0.890981\n",
      "[8]\tvalidation_0-auc:0.891121\n",
      "[9]\tvalidation_0-auc:0.892434\n",
      "[10]\tvalidation_0-auc:0.893584\n",
      "[11]\tvalidation_0-auc:0.894864\n",
      "[12]\tvalidation_0-auc:0.895439\n",
      "[13]\tvalidation_0-auc:0.895722\n",
      "[14]\tvalidation_0-auc:0.895696\n",
      "[15]\tvalidation_0-auc:0.89571\n",
      "[16]\tvalidation_0-auc:0.89603\n",
      "[17]\tvalidation_0-auc:0.897556\n",
      "[18]\tvalidation_0-auc:0.898382\n",
      "[19]\tvalidation_0-auc:0.898597\n",
      "[20]\tvalidation_0-auc:0.899176\n",
      "[21]\tvalidation_0-auc:0.899345\n",
      "[22]\tvalidation_0-auc:0.899867\n",
      "[23]\tvalidation_0-auc:0.899843\n",
      "[24]\tvalidation_0-auc:0.900845\n",
      "[25]\tvalidation_0-auc:0.901522\n",
      "[26]\tvalidation_0-auc:0.90233\n",
      "[27]\tvalidation_0-auc:0.90262\n",
      "[28]\tvalidation_0-auc:0.903502\n",
      "[29]\tvalidation_0-auc:0.904483\n",
      "[30]\tvalidation_0-auc:0.904392\n",
      "[31]\tvalidation_0-auc:0.905037\n",
      "[32]\tvalidation_0-auc:0.905787\n",
      "[33]\tvalidation_0-auc:0.906129\n",
      "[34]\tvalidation_0-auc:0.906959\n",
      "[35]\tvalidation_0-auc:0.907224\n",
      "[36]\tvalidation_0-auc:0.907529\n",
      "[37]\tvalidation_0-auc:0.90807\n",
      "[38]\tvalidation_0-auc:0.907813\n",
      "[39]\tvalidation_0-auc:0.90819\n",
      "[40]\tvalidation_0-auc:0.908309\n",
      "[41]\tvalidation_0-auc:0.908796\n",
      "[42]\tvalidation_0-auc:0.909131\n",
      "[43]\tvalidation_0-auc:0.909193\n",
      "[44]\tvalidation_0-auc:0.909193\n",
      "[45]\tvalidation_0-auc:0.909337\n",
      "[46]\tvalidation_0-auc:0.909631\n",
      "[47]\tvalidation_0-auc:0.909908\n",
      "[48]\tvalidation_0-auc:0.909982\n",
      "[49]\tvalidation_0-auc:0.909985\n",
      "[50]\tvalidation_0-auc:0.910185\n",
      "[51]\tvalidation_0-auc:0.910434\n",
      "[52]\tvalidation_0-auc:0.910651\n",
      "[53]\tvalidation_0-auc:0.910702\n",
      "[54]\tvalidation_0-auc:0.910923\n",
      "[55]\tvalidation_0-auc:0.911451\n",
      "[56]\tvalidation_0-auc:0.911771\n",
      "[57]\tvalidation_0-auc:0.912141\n",
      "[58]\tvalidation_0-auc:0.912346\n",
      "[59]\tvalidation_0-auc:0.912359\n",
      "[60]\tvalidation_0-auc:0.912648\n",
      "[61]\tvalidation_0-auc:0.912962\n",
      "[62]\tvalidation_0-auc:0.912972\n",
      "[63]\tvalidation_0-auc:0.913359\n",
      "[64]\tvalidation_0-auc:0.913602\n",
      "[65]\tvalidation_0-auc:0.913815\n",
      "[66]\tvalidation_0-auc:0.91412\n",
      "[67]\tvalidation_0-auc:0.914447\n",
      "[68]\tvalidation_0-auc:0.914617\n",
      "[69]\tvalidation_0-auc:0.914697\n",
      "[70]\tvalidation_0-auc:0.915149\n",
      "[71]\tvalidation_0-auc:0.915359\n",
      "[72]\tvalidation_0-auc:0.915574\n",
      "[73]\tvalidation_0-auc:0.91558\n",
      "[74]\tvalidation_0-auc:0.915717\n",
      "[75]\tvalidation_0-auc:0.915946\n",
      "[76]\tvalidation_0-auc:0.915998\n",
      "[77]\tvalidation_0-auc:0.916365\n",
      "[78]\tvalidation_0-auc:0.916274\n",
      "[79]\tvalidation_0-auc:0.916508\n",
      "[80]\tvalidation_0-auc:0.916728\n",
      "[81]\tvalidation_0-auc:0.916807\n",
      "[82]\tvalidation_0-auc:0.916865\n",
      "[83]\tvalidation_0-auc:0.917097\n",
      "[84]\tvalidation_0-auc:0.917188\n",
      "[85]\tvalidation_0-auc:0.917414\n",
      "[86]\tvalidation_0-auc:0.9175\n",
      "[87]\tvalidation_0-auc:0.917717\n",
      "[88]\tvalidation_0-auc:0.917757\n",
      "[89]\tvalidation_0-auc:0.9178\n",
      "[90]\tvalidation_0-auc:0.918145\n",
      "[91]\tvalidation_0-auc:0.918162\n",
      "[92]\tvalidation_0-auc:0.918322\n",
      "[93]\tvalidation_0-auc:0.918554\n",
      "[94]\tvalidation_0-auc:0.918545\n",
      "[95]\tvalidation_0-auc:0.91866\n",
      "[96]\tvalidation_0-auc:0.918838\n",
      "[97]\tvalidation_0-auc:0.918911\n",
      "[98]\tvalidation_0-auc:0.919094\n",
      "[99]\tvalidation_0-auc:0.919207\n"
     ]
    }
   ],
   "source": [
    "model = xgb.XGBRegressor(learning_rate= 0.05, \n",
    "                         verbosity=1,\n",
    "                         objective='binary:logistic',\n",
    "                         subsample = 0.7,\n",
    "                         colsample_bytree = 0.7,\n",
    "                         scale_pos_weight = 2.349911190053286,\n",
    "                         random_state=1,\n",
    "                        max_depth = 5)\n",
    "model.fit(train_X_xgb, train_y_xgb, early_stopping_rounds=10, eval_metric=\"auc\",\n",
    "        eval_set=[(val_X_xgb, val_y_xgb)])\n",
    "y_pred_xgb = model.predict(test_X_xgb)"
   ]
  },
  {
   "cell_type": "code",
   "execution_count": 337,
   "metadata": {
    "scrolled": true
   },
   "outputs": [],
   "source": [
    "y_pred_xgb_label = []\n",
    "for i in y_pred_xgb:\n",
    "    if i >= 0.5:\n",
    "        label = 1\n",
    "        y_pred_xgb_label.append(label)\n",
    "    else:\n",
    "        label = 0\n",
    "        y_pred_xgb_label.append(label)\n"
   ]
  },
  {
   "cell_type": "code",
   "execution_count": 338,
   "metadata": {},
   "outputs": [
    {
     "name": "stdout",
     "output_type": "stream",
     "text": [
      "              precision    recall  f1-score   support\n",
      "\n",
      "           0     0.9467    0.8357    0.8878      4974\n",
      "           1     0.6954    0.8885    0.7802      2099\n",
      "\n",
      "    accuracy                         0.8514      7073\n",
      "   macro avg     0.8210    0.8621    0.8340      7073\n",
      "weighted avg     0.8721    0.8514    0.8558      7073\n",
      "\n"
     ]
    }
   ],
   "source": [
    "print(classification_report(test_y_xgb, y_pred_xgb_label,digits=4))"
   ]
  },
  {
   "cell_type": "code",
   "execution_count": 339,
   "metadata": {},
   "outputs": [
    {
     "data": {
      "image/png": "[encoded data removed]",
      "text/plain": [
       "<Figure size 432x288 with 1 Axes>"
      ]
     },
     "metadata": {},
     "output_type": "display_data"
    }
   ],
   "source": [
    "mat = confusion_matrix(y_pred_xgb_label,test_y_xgb)\n",
    "sns.heatmap(mat, square=True, annot=True, cbar=False,fmt='.20g')\n",
    "plt.xlabel(\"Actual Result\")\n",
    "plt.ylabel(\"Predicted Result\")\n",
    "a, b = plt.ylim() \n",
    "a += 0.5 \n",
    "b -= 0.5 \n",
    "plt.ylim(a, b) \n",
    "plt.show() "
   ]
  },
  {
   "cell_type": "code",
   "execution_count": null,
   "metadata": {},
   "outputs": [],
   "source": []
  },
  {
   "cell_type": "code",
   "execution_count": null,
   "metadata": {},
   "outputs": [],
   "source": []
  },
  {
   "cell_type": "code",
   "execution_count": null,
   "metadata": {},
   "outputs": [],
   "source": []
  },
  {
   "cell_type": "code",
   "execution_count": null,
   "metadata": {},
   "outputs": [],
   "source": []
  },
  {
   "cell_type": "code",
   "execution_count": null,
   "metadata": {},
   "outputs": [],
   "source": []
  },
  {
   "cell_type": "code",
   "execution_count": null,
   "metadata": {},
   "outputs": [],
   "source": []
  },
  {
   "cell_type": "code",
   "execution_count": null,
   "metadata": {},
   "outputs": [],
   "source": []
  },
  {
   "cell_type": "code",
   "execution_count": null,
   "metadata": {},
   "outputs": [],
   "source": []
  },
  {
   "cell_type": "code",
   "execution_count": 225,
   "metadata": {},
   "outputs": [],
   "source": [
    "from xgboost import XGBClassifier\n",
    "from matplotlib import pyplot\n",
    "import matplotlib.pyplot as plt"
   ]
  },
  {
   "cell_type": "code",
   "execution_count": 228,
   "metadata": {},
   "outputs": [
    {
     "data": {
      "text/plain": [
       "XGBClassifier()"
      ]
     },
     "execution_count": 228,
     "metadata": {},
     "output_type": "execute_result"
    }
   ],
   "source": [
    "model = XGBClassifier()\n",
    "eval_set = [(train_X_xgb, train_y_xgb), (test_X_xgb, test_y_xgb)]\n",
    "model.fit(train_X_xgb, train_y_xgb, eval_metric=[\"error\", \"logloss\",'auc'], eval_set=eval_set, verbose=False)"
   ]
  },
  {
   "cell_type": "code",
   "execution_count": 229,
   "metadata": {},
   "outputs": [
    {
     "name": "stdout",
     "output_type": "stream",
     "text": [
      "Accuracy: 84.59%\n"
     ]
    }
   ],
   "source": [
    "y_pred = model.predict(test_X_xgb)\n",
    "predictions = [round(value) for value in y_pred]\n",
    "\n",
    "accuracy = accuracy_score(test_y_xgb, predictions)\n",
    "print(\"Accuracy: %.2f%%\" % (accuracy * 100.0))\n",
    "results = model.evals_result()\n",
    "epochs = len(results[\"validation_0\"][\"error\"])\n",
    "x_axis = range(0, epochs)"
   ]
  },
  {
   "cell_type": "code",
   "execution_count": 226,
   "metadata": {},
   "outputs": [
    {
     "data": {
      "image/png": "[encoded data removed]",
      "text/plain": [
       "<Figure size 864x864 with 1 Axes>"
      ]
     },
     "metadata": {
      "needs_background": "light"
     },
     "output_type": "display_data"
    }
   ],
   "source": [
    "# plot log loss\n",
    "fig, ax = pyplot.subplots(figsize=(12,12))\n",
    "ax.plot(x_axis, results[\"validation_0\"][\"logloss\"], label=\"Train\")\n",
    "ax.plot(x_axis, results[\"validation_1\"][\"logloss\"], label=\"Test\")\n",
    "ax.legend()\n",
    "pyplot.ylabel(\"Log Loss\")\n",
    "pyplot.title(\"XGBoost Log Loss\")\n",
    "pyplot.show()"
   ]
  },
  {
   "cell_type": "code",
   "execution_count": 227,
   "metadata": {},
   "outputs": [
    {
     "data": {
      "image/png": "[encoded data removed]",
      "text/plain": [
       "<Figure size 864x864 with 1 Axes>"
      ]
     },
     "metadata": {
      "needs_background": "light"
     },
     "output_type": "display_data"
    }
   ],
   "source": [
    "# plot classification error\n",
    "fig, ax = pyplot.subplots(figsize=(12,12))\n",
    "ax.plot(x_axis, results[\"validation_0\"][\"error\"], label=\"Train\")\n",
    "ax.plot(x_axis, results[\"validation_1\"][\"error\"], label=\"Test\")\n",
    "ax.legend()\n",
    "pyplot.ylabel(\"Classification Error\")\n",
    "pyplot.title(\"XGBoost Classification Error\")\n",
    "pyplot.show()"
   ]
  },
  {
   "cell_type": "code",
   "execution_count": 231,
   "metadata": {},
   "outputs": [
    {
     "data": {
      "image/png": "[encoded data removed]",
      "text/plain": [
       "<Figure size 864x864 with 1 Axes>"
      ]
     },
     "metadata": {
      "needs_background": "light"
     },
     "output_type": "display_data"
    }
   ],
   "source": [
    "# plot log loss\n",
    "fig, ax = pyplot.subplots(figsize=(12,12))\n",
    "ax.plot(x_axis, results[\"validation_0\"][\"auc\"], label=\"Train\")\n",
    "ax.plot(x_axis, results[\"validation_1\"][\"auc\"], label=\"Test\")\n",
    "ax.legend()\n",
    "pyplot.ylabel(\"AUC\")\n",
    "pyplot.title(\"XGBoost AUC\")\n",
    "pyplot.show()"
   ]
  },
  {
   "cell_type": "code",
   "execution_count": null,
   "metadata": {},
   "outputs": [],
   "source": []
  },
  {
   "cell_type": "code",
   "execution_count": null,
   "metadata": {},
   "outputs": [],
   "source": []
  },
  {
   "cell_type": "code",
   "execution_count": null,
   "metadata": {},
   "outputs": [],
   "source": []
  },
  {
   "cell_type": "code",
   "execution_count": null,
   "metadata": {},
   "outputs": [],
   "source": []
  },
  {
   "cell_type": "code",
   "execution_count": null,
   "metadata": {},
   "outputs": [],
   "source": []
  },
  {
   "cell_type": "code",
   "execution_count": null,
   "metadata": {},
   "outputs": [],
   "source": []
  },
  {
   "cell_type": "code",
   "execution_count": null,
   "metadata": {},
   "outputs": [],
   "source": []
  },
  {
   "cell_type": "code",
   "execution_count": null,
   "metadata": {},
   "outputs": [],
   "source": []
  },
  {
   "cell_type": "code",
   "execution_count": null,
   "metadata": {},
   "outputs": [],
   "source": []
  },
  {
   "cell_type": "code",
   "execution_count": null,
   "metadata": {},
   "outputs": [],
   "source": []
  },
  {
   "cell_type": "code",
   "execution_count": null,
   "metadata": {},
   "outputs": [],
   "source": []
  },
  {
   "cell_type": "code",
   "execution_count": null,
   "metadata": {},
   "outputs": [],
   "source": []
  },
  {
   "cell_type": "code",
   "execution_count": null,
   "metadata": {},
   "outputs": [],
   "source": []
  },
  {
   "cell_type": "code",
   "execution_count": null,
   "metadata": {},
   "outputs": [],
   "source": []
  },
  {
   "cell_type": "code",
   "execution_count": null,
   "metadata": {},
   "outputs": [],
   "source": []
  },
  {
   "cell_type": "code",
   "execution_count": null,
   "metadata": {},
   "outputs": [],
   "source": []
  },
  {
   "cell_type": "code",
   "execution_count": null,
   "metadata": {},
   "outputs": [],
   "source": []
  },
  {
   "cell_type": "code",
   "execution_count": null,
   "metadata": {},
   "outputs": [],
   "source": []
  },
  {
   "cell_type": "markdown",
   "metadata": {},
   "source": [
    "### Model 4.1: zhihu word vectors + cnn"
   ]
  },
  {
   "cell_type": "markdown",
   "metadata": {},
   "source": [
    "#### 0.需要的库"
   ]
  },
  {
   "cell_type": "code",
   "execution_count": null,
   "metadata": {},
   "outputs": [],
   "source": [
    "# 首先加载必用的库，jieba和gensim专门中文 \n",
    "# %matplotlib inline功能是可以内嵌绘图，并且可以省略掉plt.show()这一步\n",
    "%matplotlib inline \n",
    "import numpy as np\n",
    "import matplotlib.pyplot as plt\n",
    "import re #正则化用\n",
    "import jieba # 中文必须用【结巴分词】，因为计算机不会断句\n",
    "# gensim用来加载预训练word vector\n",
    "from gensim.models import KeyedVectors\n",
    "#KeyedVectors实现实体（单词、文档、图片都可以）和向量之间的映射，实体都用string id表示\n",
    "#有时候运行代码时会有很多warning输出，如提醒新版本之类的，如果不想乱糟糟的输出可以这样\n",
    "import warnings\n",
    "warnings.filterwarnings(\"ignore\")"
   ]
  },
  {
   "cell_type": "markdown",
   "metadata": {},
   "source": [
    "#### 1.预训练词向量"
   ]
  },
  {
   "cell_type": "code",
   "execution_count": null,
   "metadata": {},
   "outputs": [],
   "source": [
    "cn_model = KeyedVectors.load_word2vec_format('sgns.zhihu.bigram', \n",
    "                                          binary=False)"
   ]
  },
  {
   "cell_type": "markdown",
   "metadata": {},
   "source": [
    "#### 2.词向量模型"
   ]
  },
  {
   "cell_type": "code",
   "execution_count": null,
   "metadata": {},
   "outputs": [],
   "source": [
    "# 由此可见每一个词都对应一个长度为300的向量\n",
    "embedding_dim = cn_model['建筑'].shape[0]  #一词山东大学，shape[0]返回行数\n",
    "print('词向量的长度为{}'.format(embedding_dim))\n",
    "#cn_model['建筑']"
   ]
  },
  {
   "cell_type": "code",
   "execution_count": null,
   "metadata": {},
   "outputs": [],
   "source": [
    "# 计算相似度\n",
    "cn_model.similarity('伤亡', '事故')"
   ]
  },
  {
   "cell_type": "code",
   "execution_count": null,
   "metadata": {},
   "outputs": [],
   "source": [
    "# dot（'橘子'/|'橘子'|， '橙子'/|'橙子'| ），余弦相似度\n",
    "np.dot(cn_model['伤亡']/np.linalg.norm(cn_model['伤亡']), \n",
    "cn_model['事故']/np.linalg.norm(cn_model['事故']))"
   ]
  },
  {
   "cell_type": "code",
   "execution_count": null,
   "metadata": {},
   "outputs": [],
   "source": [
    "# 找出最相近的词，余弦相似度\n",
    "cn_model.most_similar(positive=['事故'], topn=10)"
   ]
  },
  {
   "cell_type": "code",
   "execution_count": null,
   "metadata": {},
   "outputs": [],
   "source": [
    "# 找出不同的词\n",
    "test_words = '事故 故障 爆炸事件 死亡 建筑'\n",
    "test_words_result = cn_model.doesnt_match(test_words.split())\n",
    "print('在 '+test_words+' 中:\\n不是同一类别的词为: %s' %test_words_result)"
   ]
  },
  {
   "cell_type": "code",
   "execution_count": null,
   "metadata": {},
   "outputs": [],
   "source": [
    "cn_model.most_similar(positive=['建筑','事故'], negative=['工程'], topn=1)"
   ]
  },
  {
   "cell_type": "markdown",
   "metadata": {},
   "source": [
    "#### 3.训练语料 （数据集）"
   ]
  },
  {
   "cell_type": "code",
   "execution_count": null,
   "metadata": {},
   "outputs": [],
   "source": [
    "# 我们使用tensorflow的keras接口来建模\n",
    "from tensorflow.keras.models import Sequential\n",
    "from tensorflow.keras.layers import Dense, GRU, Embedding, LSTM, Bidirectional#Dense全连接\n",
    "#Bidirectional双向LSTM  callbacks用来调参\n",
    "from tensorflow.keras.preprocessing.text import Tokenizer\n",
    "from tensorflow.keras.preprocessing.sequence import pad_sequences\n",
    "from tensorflow.keras.optimizers import RMSprop\n",
    "from tensorflow.keras.optimizers import Adam\n",
    "from tensorflow.keras.callbacks import EarlyStopping, ModelCheckpoint, TensorBoard, ReduceLROnPlateau\n",
    "from tensorflow.keras import models"
   ]
  },
  {
   "cell_type": "code",
   "execution_count": null,
   "metadata": {},
   "outputs": [],
   "source": [
    "# 我们使用tensorflow的keras接口来建模\n",
    "from keras.models import Sequential\n",
    "from keras.layers import Dense, GRU, Embedding, LSTM, Bidirectional#Dense全连接\n",
    "#Bidirectional双向LSTM  callbacks用来调参\n",
    "from keras.preprocessing.text import Tokenizer\n",
    "from keras.preprocessing.sequence import pad_sequences\n",
    "from keras.optimizers import RMSprop\n",
    "from keras.optimizers import Adam\n",
    "from keras.callbacks import EarlyStopping, ModelCheckpoint, TensorBoard, ReduceLROnPlateau\n"
   ]
  },
  {
   "cell_type": "markdown",
   "metadata": {},
   "source": [
    "#### 4.分词和tokenize"
   ]
  },
  {
   "cell_type": "code",
   "execution_count": null,
   "metadata": {},
   "outputs": [],
   "source": []
  },
  {
   "cell_type": "code",
   "execution_count": null,
   "metadata": {},
   "outputs": [],
   "source": [
    "train_tokens = newvalues['baidu_seg'].tolist()"
   ]
  },
  {
   "cell_type": "code",
   "execution_count": null,
   "metadata": {},
   "outputs": [],
   "source": [
    "train_tokens = []\n",
    "for row_idx in range(newvalues.shape[0]):\n",
    "    cut_list = newvalues.loc[row_idx, 'baidu_seg'].copy()\n",
    "    for i, word in enumerate(cut_list):\n",
    "        try:\n",
    "            cut_list[i] = cn_model.vocab[word].index\n",
    "        except KeyError:\n",
    "            cut_list[i] = 0\n",
    "    train_tokens.append(cut_list)"
   ]
  },
  {
   "cell_type": "code",
   "execution_count": null,
   "metadata": {},
   "outputs": [],
   "source": []
  },
  {
   "cell_type": "code",
   "execution_count": null,
   "metadata": {},
   "outputs": [],
   "source": [
    "newvalues.loc[0, 'baidu_seg']"
   ]
  },
  {
   "cell_type": "code",
   "execution_count": null,
   "metadata": {},
   "outputs": [],
   "source": []
  },
  {
   "cell_type": "code",
   "execution_count": null,
   "metadata": {},
   "outputs": [],
   "source": []
  },
  {
   "cell_type": "markdown",
   "metadata": {},
   "source": [
    "#### 5.索引长度标准化\n",
    "因为每段评语的长度是不一样的，我们如果单纯取最长的一个评语，并把其他评填充成同样的长度，这样十分浪费计算资源，所以我们取一个折衷的长度。"
   ]
  },
  {
   "cell_type": "code",
   "execution_count": null,
   "metadata": {},
   "outputs": [],
   "source": [
    "# 获得所有tokens的长度\n",
    "num_tokens = [ len(tokens) for tokens in train_tokens ]\n",
    "num_tokens = np.array(num_tokens)\n"
   ]
  },
  {
   "cell_type": "code",
   "execution_count": null,
   "metadata": {},
   "outputs": [],
   "source": [
    "# 平均tokens的长度\n",
    "np.mean(num_tokens)"
   ]
  },
  {
   "cell_type": "code",
   "execution_count": null,
   "metadata": {},
   "outputs": [],
   "source": [
    "# 最长的评价tokens的长度\n",
    "np.max(num_tokens)"
   ]
  },
  {
   "cell_type": "code",
   "execution_count": null,
   "metadata": {},
   "outputs": [],
   "source": [
    "plt.hist(np.log(num_tokens), bins = 100)#有大有小取对数\n",
    "plt.xlim((3,6))\n",
    "plt.ylabel('number of tokens')\n",
    "plt.xlabel('length of tokens')\n",
    "plt.title('Distribution of tokens length')\n",
    "plt.show()"
   ]
  },
  {
   "cell_type": "code",
   "execution_count": null,
   "metadata": {},
   "outputs": [],
   "source": [
    "# 取tokens平均值并加上两个tokens的标准差，\n",
    "# 假设tokens长度的分布为正态分布，则max_tokens这个值可以涵盖95%左右的样本\n",
    "max_tokens = np.mean(num_tokens) + 2 * np.std(num_tokens)\n",
    "max_tokens = int(max_tokens)\n",
    "max_tokens"
   ]
  },
  {
   "cell_type": "code",
   "execution_count": null,
   "metadata": {},
   "outputs": [],
   "source": [
    "# 取tokens的长度为1806时，大约95%的样本被涵盖\n",
    "# 我们对长度不足的进行padding，超长的进行修剪\n",
    "np.sum( num_tokens < max_tokens) / len(num_tokens)"
   ]
  },
  {
   "cell_type": "markdown",
   "metadata": {},
   "source": [
    "#### 6.反向tokenize\n",
    "为了之后来验证 我们定义一个function，用来把索引转换成可阅读的文本，这对于debug很重要。"
   ]
  },
  {
   "cell_type": "code",
   "execution_count": null,
   "metadata": {},
   "outputs": [],
   "source": [
    "# 用来将tokens转换为文本\n",
    "def reverse_tokens(tokens):\n",
    "    text = ''\n",
    "    for i in tokens:\n",
    "        if i != 0:\n",
    "            text = text + cn_model.index2word[i]\n",
    "        else:\n",
    "            text = text + ' '\n",
    "    return text\n"
   ]
  },
  {
   "cell_type": "code",
   "execution_count": null,
   "metadata": {},
   "outputs": [],
   "source": [
    "reverse = reverse_tokens(train_tokens[100])\n",
    "reverse"
   ]
  },
  {
   "cell_type": "code",
   "execution_count": null,
   "metadata": {},
   "outputs": [],
   "source": [
    "newvalues.loc[100, 'baidu_seg']"
   ]
  },
  {
   "cell_type": "markdown",
   "metadata": {},
   "source": [
    "#### 7.构建embedding matrix\n",
    "现在我们来为模型准备embedding matrix（词向量矩阵），根据keras的要求，我们需要准备一个维度为(numwords, embeddingdim)的矩阵【num words代表我们使用的词汇的数量，emdedding dimension在我们现在使用的预训练词向量模型中是300，每一个词汇都用一个长度为300的向量表示】注意我们只选择使用前50k个使用频率最高的词，在这个预训练词向量模型中，一共有260万词汇量，如果全部使用在分类问题上会很浪费计算资源，因为我们的训练样本很小，一共只有4k，如果我们有100k，200k甚至更多的训练样本时，在分类问题上可以考虑减少使用的词汇量。"
   ]
  },
  {
   "cell_type": "code",
   "execution_count": null,
   "metadata": {},
   "outputs": [],
   "source": [
    "# 只使用大库前50000个词\n",
    "num_words = 100000\n",
    "# 初始化embedding_matrix，之后在keras上进行应用\n",
    "embedding_matrix = np.zeros((num_words, embedding_dim))\n",
    "# embedding_matrix为一个 [num_words，embedding_dim] 的矩阵\n",
    "# 维度为 50000 * 300\n",
    "for i in range(num_words):\n",
    "    embedding_matrix[i,:] = cn_model[cn_model.index2word[i]]\n",
    "embedding_matrix = embedding_matrix.astype('float32')\n"
   ]
  },
  {
   "cell_type": "code",
   "execution_count": null,
   "metadata": {},
   "outputs": [],
   "source": [
    "# 检查index是否对应，\n",
    "# 输出300意义为长度为300的embedding向量一一对应\n",
    "np.sum( cn_model[cn_model.index2word[333]] == embedding_matrix[333] )"
   ]
  },
  {
   "cell_type": "code",
   "execution_count": null,
   "metadata": {},
   "outputs": [],
   "source": [
    "# embedding_matrix的维度，\n",
    "# 这个维度为keras的要求，后续会在模型中用到\n",
    "embedding_matrix.shape"
   ]
  },
  {
   "cell_type": "code",
   "execution_count": null,
   "metadata": {},
   "outputs": [],
   "source": [
    "train_tokens[0]"
   ]
  },
  {
   "cell_type": "code",
   "execution_count": null,
   "metadata": {},
   "outputs": [],
   "source": [
    "# 进行padding和truncating， 输入的train_tokens是一个list\n",
    "# 返回的train_pad是一个numpy array\n",
    "train_pad = pad_sequences(train_tokens, maxlen=max_tokens,\n",
    "                            padding='pre', truncating='pre')\n"
   ]
  },
  {
   "cell_type": "code",
   "execution_count": null,
   "metadata": {},
   "outputs": [],
   "source": [
    "len(train_pad[1])"
   ]
  },
  {
   "cell_type": "code",
   "execution_count": null,
   "metadata": {},
   "outputs": [],
   "source": [
    "pd.DataFrame(train_pad[11]).shape"
   ]
  },
  {
   "cell_type": "code",
   "execution_count": null,
   "metadata": {},
   "outputs": [],
   "source": [
    "# 超出9000个词向量的词用0代替\n",
    "train_pad[train_pad >= num_words ] = 0"
   ]
  },
  {
   "cell_type": "code",
   "execution_count": null,
   "metadata": {},
   "outputs": [],
   "source": [
    "# 可见padding之后前面的tokens全变成0，文本在最后面\n",
    "train_pad[1003]"
   ]
  },
  {
   "cell_type": "code",
   "execution_count": null,
   "metadata": {
    "scrolled": true
   },
   "outputs": [],
   "source": [
    "# pd.DataFrame(train_pad[10])[0].value_counts()\n",
    "# 训练样本专业性很强，而预训练的词向量所用文本包含许多领域"
   ]
  },
  {
   "cell_type": "code",
   "execution_count": null,
   "metadata": {},
   "outputs": [],
   "source": [
    "train_target = newvalues.label"
   ]
  },
  {
   "cell_type": "code",
   "execution_count": null,
   "metadata": {},
   "outputs": [],
   "source": [
    "# 进行训练和测试样本的分割\n",
    "from sklearn.model_selection import train_test_split\n"
   ]
  },
  {
   "cell_type": "code",
   "execution_count": null,
   "metadata": {},
   "outputs": [],
   "source": [
    "train_target.shape\n",
    "train_pad.shape"
   ]
  },
  {
   "cell_type": "code",
   "execution_count": null,
   "metadata": {},
   "outputs": [],
   "source": [
    "# 90%的样本用来训练，剩余10%用来测试\n",
    "#因为前2000个文件夹都是neg一类，所以打乱顺序来训练 random_state\n",
    "X_train, X_test, y_train, y_test = train_test_split(train_pad,\n",
    "                                                    train_target,\n",
    "                                                    test_size=0.1,\n",
    "                                                    random_state=12\n",
    "                                                    )\n"
   ]
  },
  {
   "cell_type": "code",
   "execution_count": null,
   "metadata": {},
   "outputs": [],
   "source": [
    "import random\n",
    "X_train = random.sample(train_pad.tolist(), train_pad.shape[0]*0.7) # 结果['a', 'd', 'b', 'f', 'c']，每次运行结果不同。"
   ]
  },
  {
   "cell_type": "code",
   "execution_count": null,
   "metadata": {},
   "outputs": [],
   "source": []
  },
  {
   "cell_type": "code",
   "execution_count": null,
   "metadata": {},
   "outputs": [],
   "source": []
  },
  {
   "cell_type": "code",
   "execution_count": null,
   "metadata": {},
   "outputs": [],
   "source": [
    "reverse = reverse_tokens(train_tokens[0])\n",
    "reverse"
   ]
  },
  {
   "cell_type": "code",
   "execution_count": null,
   "metadata": {},
   "outputs": [],
   "source": []
  },
  {
   "cell_type": "code",
   "execution_count": null,
   "metadata": {},
   "outputs": [],
   "source": []
  },
  {
   "cell_type": "code",
   "execution_count": null,
   "metadata": {},
   "outputs": [],
   "source": []
  }
 ],
 "metadata": {
  "kernelspec": {
   "display_name": "Python 3",
   "language": "python",
   "name": "python3"
  },
  "language_info": {
   "codemirror_mode": {
    "name": "ipython",
    "version": 3
   },
   "file_extension": ".py",
   "mimetype": "text/x-python",
   "name": "python",
   "nbconvert_exporter": "python",
   "pygments_lexer": "ipython3",
   "version": "3.7.9"
  }
 },
 "nbformat": 4,
 "nbformat_minor": 4
}
