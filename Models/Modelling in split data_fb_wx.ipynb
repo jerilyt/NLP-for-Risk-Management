{
 "cells": [
  {
   "cell_type": "code",
   "execution_count": 389,
   "metadata": {},
   "outputs": [
    {
     "name": "stdout",
     "output_type": "stream",
     "text": [
      "/Users/yantong/Desktop/NLP for Risk/Code\n"
     ]
    }
   ],
   "source": [
    "%cd /Users/yantong/Desktop/NLP\\ for\\ Risk/Code/"
   ]
  },
  {
   "cell_type": "markdown",
   "metadata": {},
   "source": [
    "## Import Libraries\n"
   ]
  },
  {
   "cell_type": "code",
   "execution_count": 2,
   "metadata": {},
   "outputs": [],
   "source": [
    "import numpy as np\n",
    "import pandas as pd\n",
    "import matplotlib.pyplot as plt\n",
    "import seaborn as sns"
   ]
  },
  {
   "cell_type": "code",
   "execution_count": 3,
   "metadata": {},
   "outputs": [],
   "source": [
    "import matplotlib.pyplot as plt\n",
    "from scipy.stats import gaussian_kde"
   ]
  },
  {
   "cell_type": "code",
   "execution_count": 4,
   "metadata": {},
   "outputs": [],
   "source": [
    "import jieba as jb\n",
    "import re"
   ]
  },
  {
   "cell_type": "code",
   "execution_count": 5,
   "metadata": {},
   "outputs": [],
   "source": [
    "from tensorflow.keras.preprocessing.text import Tokenizer\n",
    "from tensorflow.keras.preprocessing.sequence import pad_sequences\n",
    "from tensorflow.keras.utils import to_categorical\n",
    "import numpy as np\n",
    "\n",
    "from tensorflow.keras.layers import Dense, Input, Flatten, Dropout\n",
    "from tensorflow.keras.layers import Conv1D, MaxPooling1D, Embedding\n",
    "from tensorflow.keras.models import Sequential\n"
   ]
  },
  {
   "cell_type": "code",
   "execution_count": 6,
   "metadata": {},
   "outputs": [],
   "source": [
    "from sklearn.linear_model import LogisticRegression\n",
    "from sklearn.ensemble import RandomForestClassifier\n",
    "from sklearn.naive_bayes import MultinomialNB\n",
    "from sklearn.svm import LinearSVC\n",
    " \n",
    "from sklearn.model_selection import cross_val_score\n"
   ]
  },
  {
   "cell_type": "code",
   "execution_count": 7,
   "metadata": {},
   "outputs": [],
   "source": [
    "from sklearn.model_selection import GridSearchCV\n"
   ]
  },
  {
   "cell_type": "code",
   "execution_count": 8,
   "metadata": {},
   "outputs": [],
   "source": [
    "pd.set_option('display.max_rows', None)\n",
    "pd.set_option('display.max_columns', None)\n",
    "pd.set_option(\"display.max_colwidth\",None)\n",
    "pd.set_option('display.width',None)"
   ]
  },
  {
   "cell_type": "code",
   "execution_count": 9,
   "metadata": {},
   "outputs": [],
   "source": [
    "import json"
   ]
  },
  {
   "cell_type": "markdown",
   "metadata": {},
   "source": [
    "## Read Data"
   ]
  },
  {
   "cell_type": "code",
   "execution_count": 129,
   "metadata": {},
   "outputs": [],
   "source": [
    "split_data = pd.read_csv('data_sim.csv')"
   ]
  },
  {
   "cell_type": "code",
   "execution_count": null,
   "metadata": {},
   "outputs": [],
   "source": []
  },
  {
   "cell_type": "code",
   "execution_count": null,
   "metadata": {},
   "outputs": [],
   "source": []
  },
  {
   "cell_type": "code",
   "execution_count": 130,
   "metadata": {},
   "outputs": [],
   "source": [
    "from ast import literal_eval"
   ]
  },
  {
   "cell_type": "code",
   "execution_count": 131,
   "metadata": {},
   "outputs": [],
   "source": [
    "newvalues = split_data.copy()\n",
    "newvalues['baidu_seg'] = newvalues['baidu_seg'].apply(lambda row: literal_eval(row))"
   ]
  },
  {
   "cell_type": "code",
   "execution_count": 132,
   "metadata": {},
   "outputs": [
    {
     "data": {
      "text/plain": [
       "421"
      ]
     },
     "execution_count": 132,
     "metadata": {},
     "output_type": "execute_result"
    }
   ],
   "source": [
    "len(''.join(newvalues.loc[19852,'baidu_seg']))"
   ]
  },
  {
   "cell_type": "code",
   "execution_count": 133,
   "metadata": {},
   "outputs": [
    {
     "data": {
      "text/plain": [
       "Unnamed: 0                                                                                                                                                                                                                                                                                                                                                                                                                                                                                                                                        19852\n",
       "baidu_seg     [报告, 大厅, 权威, 发布, 2020年, 中国, LED, 显示屏, 上市公司, 利润, 规模, 排行榜, 一季度, 2020年, 一季度, LED, 显示屏, 上市公司, 利润, 总额, 7149.86万元, 前, 2家, 企业利润, 总额, 占, 2.21%, 榜单, 2家, 公司, 利润, 规模, 超过, 568万元, 大关, 排名前, 两家, 突破, 411万元, 568万元, 深圳雷曼光电科技股份有限公司, 太龙(福建)商业照明股份有限公司, 深圳雷曼光电科技股份有限公司, 成为, 2020年, LED, 显示屏, 利润, 规模, 最大, 中国, 公司, 利润, 高达, 411.13万元, 太龙(福建)商业照明股份有限公司, 紧随, 其后, 利润, 达到, 568.84万元, 具体, 详细, 排名, 情况, 报告, 大厅, 2020年, 中国, LED, 显示屏, 上市公司, 利润, 规模, 排行榜, 一季度, 数据, 统计, 显示, 前, 4家, 利润, 总额, 企业, 注册, 地址, 深圳市, 企业, 数量, 最多, 共有, 2家, 企业, 上榜, 占据, 榜单, 总数, 50%, 注册, 地址, ...]\n",
       "baidu_prob                                                                                                                                                                                                                                                                                                                                                                                                                                                                                                                                    0.0829678\n",
       "Name: 19852, dtype: object"
      ]
     },
     "execution_count": 133,
     "metadata": {},
     "output_type": "execute_result"
    }
   ],
   "source": [
    "newvalues.loc[19852]"
   ]
  },
  {
   "cell_type": "code",
   "execution_count": 134,
   "metadata": {},
   "outputs": [],
   "source": [
    "newvalues = newvalues[['baidu_seg','baidu_prob']]"
   ]
  },
  {
   "cell_type": "markdown",
   "metadata": {},
   "source": [
    "## Data Preparation"
   ]
  },
  {
   "cell_type": "code",
   "execution_count": 135,
   "metadata": {},
   "outputs": [],
   "source": [
    "newvalues['label'] = newvalues['baidu_prob'].apply(lambda row: 1 if row>0.5 else 0)"
   ]
  },
  {
   "cell_type": "code",
   "execution_count": 678,
   "metadata": {},
   "outputs": [
    {
     "data": {
      "text/plain": [
       "<AxesSubplot:>"
      ]
     },
     "execution_count": 678,
     "metadata": {},
     "output_type": "execute_result"
    },
    {
     "data": {
      "image/png": "[encoded data removed]",
      "text/plain": [
       "<Figure size 864x288 with 1 Axes>"
      ]
     },
     "metadata": {
      "needs_background": "light"
     },
     "output_type": "display_data"
    }
   ],
   "source": [
    "newvalues.baidu_prob.hist(bins = 100)"
   ]
  },
  {
   "cell_type": "code",
   "execution_count": 136,
   "metadata": {},
   "outputs": [
    {
     "data": {
      "text/plain": [
       "0    48947\n",
       "1    17813\n",
       "Name: label, dtype: int64"
      ]
     },
     "execution_count": 136,
     "metadata": {},
     "output_type": "execute_result"
    }
   ],
   "source": [
    "newvalues.label.value_counts()"
   ]
  },
  {
   "cell_type": "code",
   "execution_count": 137,
   "metadata": {},
   "outputs": [
    {
     "data": {
      "text/plain": [
       "(66760, 3)"
      ]
     },
     "execution_count": 137,
     "metadata": {},
     "output_type": "execute_result"
    }
   ],
   "source": [
    "newvalues.shape"
   ]
  },
  {
   "cell_type": "code",
   "execution_count": null,
   "metadata": {},
   "outputs": [],
   "source": []
  },
  {
   "cell_type": "code",
   "execution_count": null,
   "metadata": {},
   "outputs": [],
   "source": []
  },
  {
   "cell_type": "markdown",
   "metadata": {},
   "source": [
    "#### 删除 \\u3000"
   ]
  },
  {
   "cell_type": "code",
   "execution_count": 161,
   "metadata": {},
   "outputs": [],
   "source": [
    "def del_u3000(lst):\n",
    "    lst = [x for x in lst if not '\\\\u3000' in x]\n",
    "    return lst"
   ]
  },
  {
   "cell_type": "code",
   "execution_count": 162,
   "metadata": {},
   "outputs": [],
   "source": [
    "newvalues.baidu_seg = newvalues.baidu_seg.apply(lambda s: [x for x in s if not '\\\\u3000' in x])"
   ]
  },
  {
   "cell_type": "markdown",
   "metadata": {},
   "source": [
    "#### 统计segmentation字数"
   ]
  },
  {
   "cell_type": "code",
   "execution_count": 163,
   "metadata": {},
   "outputs": [
    {
     "data": {
      "text/plain": [
       "421"
      ]
     },
     "execution_count": 163,
     "metadata": {},
     "output_type": "execute_result"
    }
   ],
   "source": [
    "len(''.join(newvalues.loc[19852,'baidu_seg']))"
   ]
  },
  {
   "cell_type": "code",
   "execution_count": 164,
   "metadata": {},
   "outputs": [],
   "source": [
    "newvalues['word_counts'] = newvalues.baidu_seg.apply(lambda row: len(''.join(row)))"
   ]
  },
  {
   "cell_type": "code",
   "execution_count": 165,
   "metadata": {
    "scrolled": true
   },
   "outputs": [
    {
     "data": {
      "text/plain": [
       "<AxesSubplot:>"
      ]
     },
     "execution_count": 165,
     "metadata": {},
     "output_type": "execute_result"
    },
    {
     "data": {
      "image/png": "[encoded data removed]",
      "text/plain": [
       "<Figure size 432x288 with 1 Axes>"
      ]
     },
     "metadata": {
      "needs_background": "light"
     },
     "output_type": "display_data"
    }
   ],
   "source": [
    "newvalues.word_counts.hist()"
   ]
  },
  {
   "cell_type": "code",
   "execution_count": 186,
   "metadata": {},
   "outputs": [
    {
     "data": {
      "text/plain": [
       "(6402, 4)"
      ]
     },
     "execution_count": 186,
     "metadata": {},
     "output_type": "execute_result"
    }
   ],
   "source": [
    "newvalues[newvalues.word_counts <= 150].shape"
   ]
  },
  {
   "cell_type": "code",
   "execution_count": 187,
   "metadata": {},
   "outputs": [],
   "source": [
    "newvalues = newvalues[newvalues.word_counts > 150]\n",
    "newvalues = newvalues.reset_index()"
   ]
  },
  {
   "cell_type": "code",
   "execution_count": null,
   "metadata": {},
   "outputs": [],
   "source": []
  },
  {
   "cell_type": "code",
   "execution_count": 52,
   "metadata": {},
   "outputs": [],
   "source": []
  },
  {
   "cell_type": "code",
   "execution_count": 53,
   "metadata": {},
   "outputs": [],
   "source": []
  },
  {
   "cell_type": "code",
   "execution_count": 188,
   "metadata": {},
   "outputs": [],
   "source": [
    "newvalues = newvalues.drop(['index'],axis = 1)"
   ]
  },
  {
   "cell_type": "code",
   "execution_count": 55,
   "metadata": {
    "scrolled": true
   },
   "outputs": [],
   "source": [
    "#newvalues.loc[10257]"
   ]
  },
  {
   "cell_type": "code",
   "execution_count": null,
   "metadata": {},
   "outputs": [],
   "source": []
  },
  {
   "cell_type": "code",
   "execution_count": 189,
   "metadata": {},
   "outputs": [],
   "source": [
    "for i in range(newvalues.shape[0]):\n",
    "    if len(newvalues.loc[i,'baidu_seg']) == 20:\n",
    "        print(i)"
   ]
  },
  {
   "cell_type": "code",
   "execution_count": 190,
   "metadata": {},
   "outputs": [
    {
     "data": {
      "text/plain": [
       "0.441775"
      ]
     },
     "execution_count": 190,
     "metadata": {},
     "output_type": "execute_result"
    }
   ],
   "source": [
    "newvalues.loc[19852,'baidu_prob']"
   ]
  },
  {
   "cell_type": "code",
   "execution_count": 404,
   "metadata": {},
   "outputs": [],
   "source": [
    "#newvalues.loc[19852,'baidu_seg']"
   ]
  },
  {
   "cell_type": "code",
   "execution_count": 94,
   "metadata": {},
   "outputs": [],
   "source": [
    "# 19852,28322\n",
    "newvalues = newvalues.drop(28322)"
   ]
  },
  {
   "cell_type": "code",
   "execution_count": 95,
   "metadata": {},
   "outputs": [],
   "source": [
    "# 19852,28322\n",
    "newvalues = newvalues.drop(28322)\n",
    "newvalues = newvalues.reset_index()"
   ]
  },
  {
   "cell_type": "code",
   "execution_count": null,
   "metadata": {},
   "outputs": [],
   "source": []
  },
  {
   "cell_type": "code",
   "execution_count": null,
   "metadata": {},
   "outputs": [],
   "source": []
  },
  {
   "cell_type": "markdown",
   "metadata": {},
   "source": [
    "## Imbalanced"
   ]
  },
  {
   "cell_type": "code",
   "execution_count": 192,
   "metadata": {},
   "outputs": [
    {
     "data": {
      "text/plain": [
       "Counter({0: 43784, 1: 16574})"
      ]
     },
     "execution_count": 192,
     "metadata": {},
     "output_type": "execute_result"
    }
   ],
   "source": [
    "from collections import Counter\n",
    "Counter(newvalues.label)"
   ]
  },
  {
   "cell_type": "markdown",
   "metadata": {},
   "source": [
    "### Resampling -- Oversampling"
   ]
  },
  {
   "cell_type": "code",
   "execution_count": 97,
   "metadata": {},
   "outputs": [],
   "source": [
    "X = np.array(newvalues.baidu_seg).reshape(-1,1)\n",
    "y = newvalues.label"
   ]
  },
  {
   "cell_type": "markdown",
   "metadata": {},
   "source": [
    "#### Naive Ramdom Over-sampling"
   ]
  },
  {
   "cell_type": "code",
   "execution_count": 373,
   "metadata": {},
   "outputs": [],
   "source": [
    "from imblearn.over_sampling import RandomOverSampler"
   ]
  },
  {
   "cell_type": "code",
   "execution_count": null,
   "metadata": {},
   "outputs": [],
   "source": []
  },
  {
   "cell_type": "code",
   "execution_count": null,
   "metadata": {},
   "outputs": [],
   "source": []
  },
  {
   "cell_type": "code",
   "execution_count": null,
   "metadata": {},
   "outputs": [],
   "source": []
  },
  {
   "cell_type": "code",
   "execution_count": null,
   "metadata": {},
   "outputs": [],
   "source": []
  },
  {
   "cell_type": "code",
   "execution_count": null,
   "metadata": {},
   "outputs": [],
   "source": []
  },
  {
   "cell_type": "code",
   "execution_count": null,
   "metadata": {
    "scrolled": true
   },
   "outputs": [],
   "source": []
  },
  {
   "cell_type": "code",
   "execution_count": null,
   "metadata": {},
   "outputs": [],
   "source": []
  },
  {
   "cell_type": "code",
   "execution_count": 376,
   "metadata": {},
   "outputs": [],
   "source": [
    "X = newvalues['baidu_seg']\n",
    "y = newvalues['label']"
   ]
  },
  {
   "cell_type": "markdown",
   "metadata": {},
   "source": [
    "## Modelling"
   ]
  },
  {
   "cell_type": "code",
   "execution_count": 533,
   "metadata": {},
   "outputs": [],
   "source": [
    "# performance\n",
    "performance_df = pd.DataFrame()\n"
   ]
  },
  {
   "cell_type": "code",
   "execution_count": 534,
   "metadata": {},
   "outputs": [],
   "source": [
    "def perform(model_name,performance,performance_df):\n",
    "    perform_1 = pd.DataFrame(performance['detail']['1'],index = [model_name])\n",
    "    perform_0 = pd.DataFrame(performance['detail']['0'],index = [model_name])\n",
    "    perform_macro = pd.DataFrame(performance['detail']['macro avg'],index = [model_name])\n",
    "    perform_weighted = pd.DataFrame(performance['detail']['weighted avg'],index = [model_name])\n",
    "    performance_model = pd.DataFrame()\n",
    "    performance_model.loc[model_name,'accuracy'] = performance['detail']['accuracy']    \n",
    "    \n",
    "    performance_model = pd.concat([performance_model,perform_1,perform_0,perform_macro,perform_weighted],axis = 1)    \n",
    "    performance_df = pd.concat([performance_df,performance_model],axis = 0)\n",
    "    return performance_df"
   ]
  },
  {
   "cell_type": "code",
   "execution_count": 535,
   "metadata": {},
   "outputs": [],
   "source": [
    "# performance = cnn_performance\n",
    "# model_name = 'cnn'\n",
    "# performance_df = perform(model_name,performance,performance_df)\n",
    "# performance_df"
   ]
  },
  {
   "cell_type": "code",
   "execution_count": 536,
   "metadata": {},
   "outputs": [],
   "source": [
    "# performance\n",
    "\n",
    "def sklearn_perform(model_name,performance,performance_df):\n",
    "    perform_1 = pd.DataFrame(performance['1'],index = [model_name])\n",
    "    perform_0 = pd.DataFrame(performance['0'],index = [model_name])\n",
    "    perform_macro = pd.DataFrame(performance['macro avg'],index = [model_name])\n",
    "    perform_weighted = pd.DataFrame(performance['weighted avg'],index = [model_name])\n",
    "    performance_model = pd.DataFrame()\n",
    "    performance_model.loc[model_name,'accuracy'] = performance['accuracy']    \n",
    "    \n",
    "    performance_model = pd.concat([performance_model,perform_1,perform_0,perform_macro,perform_weighted],axis = 1)    \n",
    "    performance_df = pd.concat([performance_df,performance_model],axis = 0)\n",
    "    return performance_df"
   ]
  },
  {
   "cell_type": "code",
   "execution_count": null,
   "metadata": {},
   "outputs": [],
   "source": []
  },
  {
   "cell_type": "markdown",
   "metadata": {},
   "source": [
    "### Model 1.1: TF-IDF + CNN"
   ]
  },
  {
   "cell_type": "code",
   "execution_count": 198,
   "metadata": {},
   "outputs": [],
   "source": [
    "import kashgari\n",
    "from kashgari import utils\n",
    "from kashgari.embeddings import BertEmbedding\n",
    "from kashgari.tasks.labeling import BiLSTM_CRF_Model\n",
    "# from data_load import DataReader"
   ]
  },
  {
   "cell_type": "code",
   "execution_count": 199,
   "metadata": {},
   "outputs": [],
   "source": [
    "from sklearn.model_selection import train_test_split\n"
   ]
  },
  {
   "cell_type": "code",
   "execution_count": 200,
   "metadata": {},
   "outputs": [],
   "source": [
    "from tensorflow.keras.callbacks import TensorBoard\n",
    "from kashgari.tasks.classification import CNN_Model"
   ]
  },
  {
   "cell_type": "code",
   "execution_count": 201,
   "metadata": {},
   "outputs": [],
   "source": [
    "#from sklearn.feature_extraction.text import TfidfVectorizer\n",
    " \n",
    "#tfidf = TfidfVectorizer(norm='l2', ngram_range=(1, 2))\n",
    "#vectorizer = CountVectorizer()    \n",
    "#features = tfidf.fit_transform(vectorizer.fit_transform(labeled_data_3.content_cut))\n",
    "#labels = labeled_data_3.label\n",
    "#print(features.shape)\n",
    "#print('-----------------------------')\n",
    "#print(features)\n",
    "#print(labels)"
   ]
  },
  {
   "cell_type": "code",
   "execution_count": 202,
   "metadata": {},
   "outputs": [],
   "source": [
    "X_train, X_test, y_train, y_test, indices_train, indices_test = train_test_split(X, y, \n",
    "                                                                                 newvalues.index, \n",
    "                                                                                 test_size=0.2, stratify=y, random_state=0)\n",
    "X_test = X_test.tolist()\n",
    "y_test = y_test.tolist()\n",
    "\n",
    "\n",
    "\n",
    "X_train, X_val, y_train, y_val, indices_train, indices_val = train_test_split(X_train, y_train, \n",
    "                                                                                 indices_train, \n",
    "                                                                                 test_size=0.05, stratify=y_train, random_state=0)\n",
    "\n",
    "X_train = X_train.tolist()\n",
    "y_train = y_train.tolist()\n",
    "X_val = X_val.tolist()\n",
    "y_val = y_val.tolist()\n",
    "\n"
   ]
  },
  {
   "cell_type": "code",
   "execution_count": null,
   "metadata": {},
   "outputs": [],
   "source": []
  },
  {
   "cell_type": "code",
   "execution_count": 204,
   "metadata": {},
   "outputs": [],
   "source": [
    "# Using TensorBoard record training process\n",
    "tf_board = TensorBoard(log_dir='tf_dir/cnn_model_split_fb_wx',\n",
    "                       histogram_freq=5,\n",
    "                       update_freq='batch')\n"
   ]
  },
  {
   "cell_type": "code",
   "execution_count": 205,
   "metadata": {
    "scrolled": true
   },
   "outputs": [
    {
     "name": "stderr",
     "output_type": "stream",
     "text": [
      "Preparing text vocab dict: 100%|██████████| 45871/45871 [00:02<00:00, 18535.01it/s]\n",
      "Preparing text vocab dict: 100%|██████████| 2415/2415 [00:00<00:00, 17442.62it/s]\n",
      "2021-01-04 10:50:12,169 [DEBUG] kashgari - --- Build vocab dict finished, Total: 100895 ---\n",
      "2021-01-04 10:50:12,170 [DEBUG] kashgari - Top-10: ['[PAD]', '[UNK]', '[CLS]', '[SEP]', '项目', '企业', '工程', '建设', '公司', '施工']\n",
      "Preparing classification label vocab dict: 100%|██████████| 45871/45871 [00:00<00:00, 1151408.58it/s]\n",
      "Preparing classification label vocab dict: 100%|██████████| 2415/2415 [00:00<00:00, 1149483.00it/s]\n",
      "Calculating sequence length: 100%|██████████| 45871/45871 [00:00<00:00, 1124286.61it/s]\n",
      "Calculating sequence length: 100%|██████████| 2415/2415 [00:00<00:00, 1132644.99it/s]\n",
      "2021-01-04 10:50:12,443 [DEBUG] kashgari - Calculated sequence length = 185\n",
      "2021-01-04 10:50:12,509 [DEBUG] kashgari - Model: \"model_1\"\n",
      "_________________________________________________________________\n",
      "Layer (type)                 Output Shape              Param #   \n",
      "=================================================================\n",
      "input (InputLayer)           [(None, None)]            0         \n",
      "_________________________________________________________________\n",
      "layer_embedding (Embedding)  (None, None, 100)         10089500  \n",
      "_________________________________________________________________\n",
      "conv1d (Conv1D)              (None, None, 128)         64128     \n",
      "_________________________________________________________________\n",
      "global_max_pooling1d (Global (None, 128)               0         \n",
      "_________________________________________________________________\n",
      "dense (Dense)                (None, 64)                8256      \n",
      "_________________________________________________________________\n",
      "dense_1 (Dense)              (None, 2)                 130       \n",
      "_________________________________________________________________\n",
      "activation (Activation)      (None, 2)                 0         \n",
      "=================================================================\n",
      "Total params: 10,162,014\n",
      "Trainable params: 10,162,014\n",
      "Non-trainable params: 0\n",
      "_________________________________________________________________\n"
     ]
    },
    {
     "name": "stdout",
     "output_type": "stream",
     "text": [
      "Epoch 1/5\n",
      "358/358 [==============================] - 46s 126ms/step - loss: 0.4591 - accuracy: 0.7834 - val_loss: 0.2712 - val_accuracy: 0.8819\n",
      "Epoch 2/5\n",
      "358/358 [==============================] - 41s 115ms/step - loss: 0.1991 - accuracy: 0.9170 - val_loss: 0.3077 - val_accuracy: 0.8811\n",
      "Epoch 3/5\n",
      "358/358 [==============================] - 44s 123ms/step - loss: 0.0496 - accuracy: 0.9851 - val_loss: 0.3724 - val_accuracy: 0.8789\n",
      "Epoch 4/5\n",
      "358/358 [==============================] - 44s 122ms/step - loss: 0.0149 - accuracy: 0.9967 - val_loss: 0.3754 - val_accuracy: 0.8824\n",
      "Epoch 5/5\n",
      "358/358 [==============================] - 44s 124ms/step - loss: 0.0074 - accuracy: 0.9987 - val_loss: 0.4024 - val_accuracy: 0.8828\n"
     ]
    },
    {
     "data": {
      "text/plain": [
       "<tensorflow.python.keras.callbacks.History at 0x7fc398678390>"
      ]
     },
     "execution_count": 205,
     "metadata": {},
     "output_type": "execute_result"
    }
   ],
   "source": [
    "model = CNN_Model()\n",
    "model.fit(X_train, y_train, X_val, y_val,\n",
    "          batch_size=128,\n",
    "          callbacks=[tf_board])"
   ]
  },
  {
   "cell_type": "code",
   "execution_count": 206,
   "metadata": {},
   "outputs": [
    {
     "ename": "FileNotFoundError",
     "evalue": "[Errno 2] No such file or directory: 'saved_model_split_fb_wx'",
     "output_type": "error",
     "traceback": [
      "\u001b[0;31m---------------------------------------------------------------------------\u001b[0m",
      "\u001b[0;31mFileNotFoundError\u001b[0m                         Traceback (most recent call last)",
      "\u001b[0;32m<ipython-input-206-52d84545a6cf>\u001b[0m in \u001b[0;36m<module>\u001b[0;34m\u001b[0m\n\u001b[1;32m      1\u001b[0m \u001b[0;32mimport\u001b[0m \u001b[0mos\u001b[0m\u001b[0;34m\u001b[0m\u001b[0;34m\u001b[0m\u001b[0m\n\u001b[1;32m      2\u001b[0m \u001b[0;32mimport\u001b[0m \u001b[0mjoblib\u001b[0m\u001b[0;34m\u001b[0m\u001b[0;34m\u001b[0m\u001b[0m\n\u001b[0;32m----> 3\u001b[0;31m \u001b[0mos\u001b[0m\u001b[0;34m.\u001b[0m\u001b[0mchdir\u001b[0m\u001b[0;34m(\u001b[0m\u001b[0;34m\"saved_model_split_fb_wx\"\u001b[0m\u001b[0;34m)\u001b[0m\u001b[0;34m\u001b[0m\u001b[0;34m\u001b[0m\u001b[0m\n\u001b[0m\u001b[1;32m      4\u001b[0m \u001b[0mmodel\u001b[0m\u001b[0;34m.\u001b[0m\u001b[0msave\u001b[0m\u001b[0;34m(\u001b[0m\u001b[0;34m'tfidf_cnn'\u001b[0m\u001b[0;34m)\u001b[0m\u001b[0;34m\u001b[0m\u001b[0;34m\u001b[0m\u001b[0m\n",
      "\u001b[0;31mFileNotFoundError\u001b[0m: [Errno 2] No such file or directory: 'saved_model_split_fb_wx'"
     ]
    }
   ],
   "source": [
    "import os\n",
    "import joblib\n",
    "os.chdir(\"saved_model_split_fb_wx\")\n",
    "model.save('tfidf_cnn')"
   ]
  },
  {
   "cell_type": "code",
   "execution_count": 207,
   "metadata": {},
   "outputs": [],
   "source": [
    "os.chdir(\"..\")"
   ]
  },
  {
   "cell_type": "code",
   "execution_count": 358,
   "metadata": {},
   "outputs": [
    {
     "name": "stderr",
     "output_type": "stream",
     "text": [
      "2021-01-04 14:15:20,315 [DEBUG] kashgari - predict input shape (12072, 235) x: \n",
      "[[    2 11479  4327 ...     0     0     0]\n",
      " [    2   192  1224 ...     0     0     0]\n",
      " [    2  4194  3815 ...     0     0     0]\n",
      " ...\n",
      " [    2   800  2610 ...     0     0     0]\n",
      " [    2  3817  9021 ...     0     0     0]\n",
      " [    2   423  4906 ...     0     0     0]]\n",
      "2021-01-04 14:15:22,420 [DEBUG] kashgari - predict output shape (12072, 2)\n",
      "2021-01-04 14:15:22,429 [DEBUG] kashgari - predict output argmax: [0 1 1 ... 0 0 0]\n"
     ]
    },
    {
     "name": "stdout",
     "output_type": "stream",
     "text": [
      "              precision    recall  f1-score   support\n",
      "\n",
      "           0     0.9229    0.9026    0.9126      8757\n",
      "           1     0.7568    0.8009    0.7783      3315\n",
      "\n",
      "    accuracy                         0.8747     12072\n",
      "   macro avg     0.8399    0.8517    0.8454     12072\n",
      "weighted avg     0.8773    0.8747    0.8757     12072\n",
      "\n"
     ]
    }
   ],
   "source": [
    "tf_idf_cnn_performance = model.evaluate(X_test, y_test)"
   ]
  },
  {
   "cell_type": "code",
   "execution_count": null,
   "metadata": {},
   "outputs": [],
   "source": []
  },
  {
   "cell_type": "code",
   "execution_count": 537,
   "metadata": {},
   "outputs": [
    {
     "data": {
      "text/html": [
       "<div>\n",
       "<style scoped>\n",
       "    .dataframe tbody tr th:only-of-type {\n",
       "        vertical-align: middle;\n",
       "    }\n",
       "\n",
       "    .dataframe tbody tr th {\n",
       "        vertical-align: top;\n",
       "    }\n",
       "\n",
       "    .dataframe thead th {\n",
       "        text-align: right;\n",
       "    }\n",
       "</style>\n",
       "<table border=\"1\" class=\"dataframe\">\n",
       "  <thead>\n",
       "    <tr style=\"text-align: right;\">\n",
       "      <th></th>\n",
       "      <th>accuracy</th>\n",
       "      <th>precision</th>\n",
       "      <th>recall</th>\n",
       "      <th>f1-score</th>\n",
       "      <th>support</th>\n",
       "      <th>precision</th>\n",
       "      <th>recall</th>\n",
       "      <th>f1-score</th>\n",
       "      <th>support</th>\n",
       "      <th>precision</th>\n",
       "      <th>recall</th>\n",
       "      <th>f1-score</th>\n",
       "      <th>support</th>\n",
       "      <th>precision</th>\n",
       "      <th>recall</th>\n",
       "      <th>f1-score</th>\n",
       "      <th>support</th>\n",
       "    </tr>\n",
       "  </thead>\n",
       "  <tbody>\n",
       "    <tr>\n",
       "      <th>TF-IDF_CNN</th>\n",
       "      <td>0.874669</td>\n",
       "      <td>0.756842</td>\n",
       "      <td>0.800905</td>\n",
       "      <td>0.77825</td>\n",
       "      <td>3315</td>\n",
       "      <td>0.922933</td>\n",
       "      <td>0.902592</td>\n",
       "      <td>0.912649</td>\n",
       "      <td>8757</td>\n",
       "      <td>0.839887</td>\n",
       "      <td>0.851749</td>\n",
       "      <td>0.84545</td>\n",
       "      <td>12072</td>\n",
       "      <td>0.877324</td>\n",
       "      <td>0.874669</td>\n",
       "      <td>0.875743</td>\n",
       "      <td>12072</td>\n",
       "    </tr>\n",
       "  </tbody>\n",
       "</table>\n",
       "</div>"
      ],
      "text/plain": [
       "            accuracy  precision    recall  f1-score  support  precision  \\\n",
       "TF-IDF_CNN  0.874669   0.756842  0.800905   0.77825     3315   0.922933   \n",
       "\n",
       "              recall  f1-score  support  precision    recall  f1-score  \\\n",
       "TF-IDF_CNN  0.902592  0.912649     8757   0.839887  0.851749   0.84545   \n",
       "\n",
       "            support  precision    recall  f1-score  support  \n",
       "TF-IDF_CNN    12072   0.877324  0.874669  0.875743    12072  "
      ]
     },
     "execution_count": 537,
     "metadata": {},
     "output_type": "execute_result"
    }
   ],
   "source": [
    "performance = tf_idf_cnn_performance\n",
    "model_name = 'TF-IDF_CNN'\n",
    "performance_df = perform(model_name,performance,performance_df)\n",
    "performance_df"
   ]
  },
  {
   "cell_type": "code",
   "execution_count": null,
   "metadata": {},
   "outputs": [],
   "source": []
  },
  {
   "cell_type": "markdown",
   "metadata": {},
   "source": [
    "### Model 1.2: TF-IDF + CNN + Naive Random Sampling"
   ]
  },
  {
   "cell_type": "code",
   "execution_count": 377,
   "metadata": {},
   "outputs": [],
   "source": [
    "X_train, X_test, y_train, y_test, indices_train, indices_test = train_test_split(X, y, \n",
    "                                                                                 newvalues.index, \n",
    "                                                                                 test_size=0.2, stratify=y, random_state=0)\n",
    "X_test = X_test.tolist()\n",
    "y_test = y_test.tolist()\n",
    "\n",
    "X_train, X_val, y_train, y_val, indices_train, indices_val = train_test_split(X_train, y_train, \n",
    "                                                                                 indices_train, \n",
    "                                                                                 test_size=0.05, stratify=y_train, random_state=0)\n",
    "\n",
    "X_train = X_train.tolist()\n",
    "y_train = y_train.tolist()\n",
    "X_val = X_val.tolist()\n",
    "y_val = y_val.tolist()"
   ]
  },
  {
   "cell_type": "code",
   "execution_count": null,
   "metadata": {},
   "outputs": [],
   "source": []
  },
  {
   "cell_type": "code",
   "execution_count": 378,
   "metadata": {},
   "outputs": [
    {
     "name": "stderr",
     "output_type": "stream",
     "text": [
      "/opt/anaconda3/envs/tf2/lib/python3.7/site-packages/ipykernel_launcher.py:1: VisibleDeprecationWarning: Creating an ndarray from ragged nested sequences (which is a list-or-tuple of lists-or-tuples-or ndarrays with different lengths or shapes) is deprecated. If you meant to do this, you must specify 'dtype=object' when creating the ndarray\n",
      "  \"\"\"Entry point for launching an IPython kernel.\n"
     ]
    }
   ],
   "source": [
    "X_resampling = np.array(X_train).reshape(-1,1)\n",
    "y_resampling = y_train\n",
    "ros = RandomOverSampler(random_state=0)\n",
    "X_resampled_naive, y_resampled_naive = ros.fit_resample(X_resampling, y_resampling)"
   ]
  },
  {
   "cell_type": "code",
   "execution_count": null,
   "metadata": {},
   "outputs": [],
   "source": []
  },
  {
   "cell_type": "code",
   "execution_count": null,
   "metadata": {},
   "outputs": [],
   "source": []
  },
  {
   "cell_type": "code",
   "execution_count": 379,
   "metadata": {},
   "outputs": [],
   "source": [
    "# Using TensorBoard record training process\n",
    "tf_board = TensorBoard(log_dir='tf_dir/cnn_model_naive_resampling_split_fb_wx',\n",
    "                       histogram_freq=5,\n",
    "                       update_freq='batch')\n"
   ]
  },
  {
   "cell_type": "code",
   "execution_count": 381,
   "metadata": {},
   "outputs": [
    {
     "name": "stderr",
     "output_type": "stream",
     "text": [
      "Preparing text vocab dict: 100%|██████████| 45871/45871 [00:02<00:00, 21585.31it/s]\n",
      "Preparing text vocab dict: 100%|██████████| 2415/2415 [00:00<00:00, 25104.76it/s]\n",
      "2021-01-04 14:19:52,294 [DEBUG] kashgari - --- Build vocab dict finished, Total: 100895 ---\n",
      "2021-01-04 14:19:52,295 [DEBUG] kashgari - Top-10: ['[PAD]', '[UNK]', '[CLS]', '[SEP]', '项目', '企业', '工程', '建设', '公司', '施工']\n",
      "Preparing classification label vocab dict: 100%|██████████| 45871/45871 [00:00<00:00, 1202157.66it/s]\n",
      "Preparing classification label vocab dict: 100%|██████████| 2415/2415 [00:00<00:00, 956040.03it/s]\n",
      "Calculating sequence length: 100%|██████████| 45871/45871 [00:00<00:00, 1131553.55it/s]\n",
      "Calculating sequence length: 100%|██████████| 2415/2415 [00:00<00:00, 1187345.46it/s]\n",
      "2021-01-04 14:19:52,504 [DEBUG] kashgari - Calculated sequence length = 185\n",
      "2021-01-04 14:19:52,546 [DEBUG] kashgari - Model: \"model_7\"\n",
      "_________________________________________________________________\n",
      "Layer (type)                 Output Shape              Param #   \n",
      "=================================================================\n",
      "input (InputLayer)           [(None, None)]            0         \n",
      "_________________________________________________________________\n",
      "layer_embedding (Embedding)  (None, None, 100)         10089500  \n",
      "_________________________________________________________________\n",
      "conv1d_3 (Conv1D)            (None, None, 128)         64128     \n",
      "_________________________________________________________________\n",
      "global_max_pooling1d_3 (Glob (None, 128)               0         \n",
      "_________________________________________________________________\n",
      "dense_6 (Dense)              (None, 64)                8256      \n",
      "_________________________________________________________________\n",
      "dense_7 (Dense)              (None, 2)                 130       \n",
      "_________________________________________________________________\n",
      "activation_3 (Activation)    (None, 2)                 0         \n",
      "=================================================================\n",
      "Total params: 10,162,014\n",
      "Trainable params: 10,162,014\n",
      "Non-trainable params: 0\n",
      "_________________________________________________________________\n"
     ]
    },
    {
     "name": "stdout",
     "output_type": "stream",
     "text": [
      "Epoch 1/5\n",
      "358/358 [==============================] - 47s 130ms/step - loss: 0.4612 - accuracy: 0.7763 - val_loss: 0.2643 - val_accuracy: 0.8906\n",
      "Epoch 2/5\n",
      "358/358 [==============================] - 47s 131ms/step - loss: 0.1984 - accuracy: 0.9173 - val_loss: 0.3045 - val_accuracy: 0.8789\n",
      "Epoch 3/5\n",
      "358/358 [==============================] - 45s 126ms/step - loss: 0.0520 - accuracy: 0.9839 - val_loss: 0.3800 - val_accuracy: 0.8845\n",
      "Epoch 4/5\n",
      "358/358 [==============================] - 46s 128ms/step - loss: 0.0174 - accuracy: 0.9960 - val_loss: 0.4136 - val_accuracy: 0.8872\n",
      "Epoch 5/5\n",
      "358/358 [==============================] - 45s 126ms/step - loss: 0.0082 - accuracy: 0.9985 - val_loss: 0.4391 - val_accuracy: 0.8845\n"
     ]
    },
    {
     "data": {
      "text/plain": [
       "<tensorflow.python.keras.callbacks.History at 0x7fc2c834e290>"
      ]
     },
     "execution_count": 381,
     "metadata": {},
     "output_type": "execute_result"
    }
   ],
   "source": [
    "model = CNN_Model()\n",
    "model.fit(X_train, y_train, X_val, y_val,\n",
    "          batch_size=128,\n",
    "          callbacks=[tf_board])"
   ]
  },
  {
   "cell_type": "code",
   "execution_count": 390,
   "metadata": {},
   "outputs": [
    {
     "name": "stderr",
     "output_type": "stream",
     "text": [
      "2021-01-04 14:25:07,781 [INFO] kashgari - model saved to /Users/yantong/Desktop/NLP for Risk/Code/saved_model_split_fb_wx/tfidf_cnn_naive_resampling\n"
     ]
    },
    {
     "data": {
      "text/plain": [
       "'/Users/yantong/Desktop/NLP for Risk/Code/saved_model_split_fb_wx/tfidf_cnn_naive_resampling'"
      ]
     },
     "execution_count": 390,
     "metadata": {},
     "output_type": "execute_result"
    }
   ],
   "source": [
    "import os\n",
    "import joblib\n",
    "os.chdir(\"saved_model_split_fb_wx\")\n",
    "model.save('tfidf_cnn_naive_resampling')"
   ]
  },
  {
   "cell_type": "code",
   "execution_count": 391,
   "metadata": {},
   "outputs": [],
   "source": [
    "os.chdir(\"..\")"
   ]
  },
  {
   "cell_type": "code",
   "execution_count": 392,
   "metadata": {},
   "outputs": [
    {
     "name": "stderr",
     "output_type": "stream",
     "text": [
      "2021-01-04 14:25:19,876 [WARNING] kashgari - Sequence length is None, will use the max length of the samples, which is 235\n",
      "2021-01-04 14:25:21,075 [DEBUG] kashgari - predict input shape (12072, 235) x: \n",
      "[[    2 11479  4327 ...     0     0     0]\n",
      " [    2   192  1224 ...     0     0     0]\n",
      " [    2  4194  3815 ...     0     0     0]\n",
      " ...\n",
      " [    2   800  2610 ...     0     0     0]\n",
      " [    2  3817  9021 ...     0     0     0]\n",
      " [    2   423  4906 ...     0     0     0]]\n",
      "2021-01-04 14:25:22,925 [DEBUG] kashgari - predict output shape (12072, 2)\n",
      "2021-01-04 14:25:22,934 [DEBUG] kashgari - predict output argmax: [0 1 1 ... 0 0 0]\n"
     ]
    },
    {
     "name": "stdout",
     "output_type": "stream",
     "text": [
      "              precision    recall  f1-score   support\n",
      "\n",
      "           0     0.9009    0.9415    0.9208      8757\n",
      "           1     0.8247    0.7264    0.7724      3315\n",
      "\n",
      "    accuracy                         0.8825     12072\n",
      "   macro avg     0.8628    0.8340    0.8466     12072\n",
      "weighted avg     0.8800    0.8825    0.8800     12072\n",
      "\n"
     ]
    }
   ],
   "source": [
    "tfidf_cnn_naive_resampling_performance = model.evaluate(X_test, y_test)"
   ]
  },
  {
   "cell_type": "code",
   "execution_count": null,
   "metadata": {
    "scrolled": false
   },
   "outputs": [],
   "source": []
  },
  {
   "cell_type": "code",
   "execution_count": 538,
   "metadata": {},
   "outputs": [
    {
     "data": {
      "text/html": [
       "<div>\n",
       "<style scoped>\n",
       "    .dataframe tbody tr th:only-of-type {\n",
       "        vertical-align: middle;\n",
       "    }\n",
       "\n",
       "    .dataframe tbody tr th {\n",
       "        vertical-align: top;\n",
       "    }\n",
       "\n",
       "    .dataframe thead th {\n",
       "        text-align: right;\n",
       "    }\n",
       "</style>\n",
       "<table border=\"1\" class=\"dataframe\">\n",
       "  <thead>\n",
       "    <tr style=\"text-align: right;\">\n",
       "      <th></th>\n",
       "      <th>accuracy</th>\n",
       "      <th>precision</th>\n",
       "      <th>recall</th>\n",
       "      <th>f1-score</th>\n",
       "      <th>support</th>\n",
       "      <th>precision</th>\n",
       "      <th>recall</th>\n",
       "      <th>f1-score</th>\n",
       "      <th>support</th>\n",
       "      <th>precision</th>\n",
       "      <th>recall</th>\n",
       "      <th>f1-score</th>\n",
       "      <th>support</th>\n",
       "      <th>precision</th>\n",
       "      <th>recall</th>\n",
       "      <th>f1-score</th>\n",
       "      <th>support</th>\n",
       "    </tr>\n",
       "  </thead>\n",
       "  <tbody>\n",
       "    <tr>\n",
       "      <th>TF-IDF_CNN</th>\n",
       "      <td>0.874669</td>\n",
       "      <td>0.756842</td>\n",
       "      <td>0.800905</td>\n",
       "      <td>0.778250</td>\n",
       "      <td>3315</td>\n",
       "      <td>0.922933</td>\n",
       "      <td>0.902592</td>\n",
       "      <td>0.912649</td>\n",
       "      <td>8757</td>\n",
       "      <td>0.839887</td>\n",
       "      <td>0.851749</td>\n",
       "      <td>0.84545</td>\n",
       "      <td>12072</td>\n",
       "      <td>0.877324</td>\n",
       "      <td>0.874669</td>\n",
       "      <td>0.875743</td>\n",
       "      <td>12072</td>\n",
       "    </tr>\n",
       "    <tr>\n",
       "      <th>TF-IDF_CNN_naive_resampling</th>\n",
       "      <td>0.882455</td>\n",
       "      <td>0.824658</td>\n",
       "      <td>0.726395</td>\n",
       "      <td>0.772414</td>\n",
       "      <td>3315</td>\n",
       "      <td>0.900896</td>\n",
       "      <td>0.941532</td>\n",
       "      <td>0.920766</td>\n",
       "      <td>8757</td>\n",
       "      <td>0.862777</td>\n",
       "      <td>0.833964</td>\n",
       "      <td>0.84659</td>\n",
       "      <td>12072</td>\n",
       "      <td>0.879961</td>\n",
       "      <td>0.882455</td>\n",
       "      <td>0.880028</td>\n",
       "      <td>12072</td>\n",
       "    </tr>\n",
       "  </tbody>\n",
       "</table>\n",
       "</div>"
      ],
      "text/plain": [
       "                             accuracy  precision    recall  f1-score  support  \\\n",
       "TF-IDF_CNN                   0.874669   0.756842  0.800905  0.778250     3315   \n",
       "TF-IDF_CNN_naive_resampling  0.882455   0.824658  0.726395  0.772414     3315   \n",
       "\n",
       "                             precision    recall  f1-score  support  \\\n",
       "TF-IDF_CNN                    0.922933  0.902592  0.912649     8757   \n",
       "TF-IDF_CNN_naive_resampling   0.900896  0.941532  0.920766     8757   \n",
       "\n",
       "                             precision    recall  f1-score  support  \\\n",
       "TF-IDF_CNN                    0.839887  0.851749   0.84545    12072   \n",
       "TF-IDF_CNN_naive_resampling   0.862777  0.833964   0.84659    12072   \n",
       "\n",
       "                             precision    recall  f1-score  support  \n",
       "TF-IDF_CNN                    0.877324  0.874669  0.875743    12072  \n",
       "TF-IDF_CNN_naive_resampling   0.879961  0.882455  0.880028    12072  "
      ]
     },
     "execution_count": 538,
     "metadata": {},
     "output_type": "execute_result"
    }
   ],
   "source": [
    "performance = tfidf_cnn_naive_resampling_performance\n",
    "model_name = 'TF-IDF_CNN_naive_resampling'\n",
    "performance_df = perform(model_name,performance,performance_df)\n",
    "performance_df"
   ]
  },
  {
   "cell_type": "code",
   "execution_count": null,
   "metadata": {},
   "outputs": [],
   "source": []
  },
  {
   "cell_type": "code",
   "execution_count": null,
   "metadata": {},
   "outputs": [],
   "source": []
  },
  {
   "cell_type": "markdown",
   "metadata": {},
   "source": [
    "### Model 2.1: 现有样本训练Word2Vec + LR"
   ]
  },
  {
   "cell_type": "code",
   "execution_count": 474,
   "metadata": {},
   "outputs": [
    {
     "name": "stdout",
     "output_type": "stream",
     "text": [
      "停顿词列表，即变量stopword_list中共有782个元素\n",
      "停顿词集合，即变量stopword_set中共有782个元素\n"
     ]
    }
   ],
   "source": [
    "with open('./stopwords.txt', encoding='utf8') as file:\n",
    "    line_list = file.readlines()\n",
    "    stopword_list = [k.strip() for k in line_list]\n",
    "    stopword_set = set(stopword_list)\n",
    "    print('停顿词列表，即变量stopword_list中共有%d个元素' %len(stopword_list))\n",
    "    print('停顿词集合，即变量stopword_set中共有%d个元素' %len(stopword_set))"
   ]
  },
  {
   "cell_type": "code",
   "execution_count": 475,
   "metadata": {},
   "outputs": [],
   "source": [
    "#cutWords_List = []\n",
    "#startTime = time.time()\n",
    "#content_series = newvalues['baidu_seg']\n",
    "#for i in range(len(content_series)):\n",
    "#    content = content_series.iloc[i]\n",
    "#    cutWords = [k for k in content]\n",
    "#    if (i + 1) % 3000 == 0:\n",
    "#        usedTime = time.time() - startTime\n",
    "#        print('前%d篇文章分词共花费%.2f秒' %(i+1, usedTime))\n",
    "#    cutWords_list.append(cutWords)"
   ]
  },
  {
   "cell_type": "code",
   "execution_count": 476,
   "metadata": {},
   "outputs": [],
   "source": [
    "cutWords_list = newvalues['baidu_seg']"
   ]
  },
  {
   "cell_type": "code",
   "execution_count": 477,
   "metadata": {},
   "outputs": [
    {
     "name": "stdout",
     "output_type": "stream",
     "text": [
      "形成word2vec模型共花费77.95秒\n"
     ]
    }
   ],
   "source": [
    "import time\n",
    "from gensim.models import Word2Vec\n",
    "startTime = time.time()\n",
    "word2vec_model = Word2Vec(cutWords_list, size=200, iter=10, min_count=20)\n",
    "usedTime = time.time() - startTime\n",
    "print('形成word2vec模型共花费%.2f秒' %usedTime)"
   ]
  },
  {
   "cell_type": "code",
   "execution_count": 478,
   "metadata": {},
   "outputs": [],
   "source": [
    "import warnings\n",
    "warnings.filterwarnings('ignore')"
   ]
  },
  {
   "cell_type": "code",
   "execution_count": 479,
   "metadata": {},
   "outputs": [
    {
     "data": {
      "text/plain": [
       "[('建筑工程', 0.6472513675689697),\n",
       " ('建筑业', 0.4788665175437927),\n",
       " ('建筑类', 0.4670443832874298),\n",
       " ('装配式建筑', 0.4594500958919525),\n",
       " ('建筑设计', 0.4360891282558441),\n",
       " ('绿色建筑', 0.4348108470439911),\n",
       " ('钢结构', 0.417186975479126),\n",
       " ('装修', 0.40588676929473877),\n",
       " ('市政工程', 0.40299978852272034),\n",
       " ('工程造价', 0.3887310326099396)]"
      ]
     },
     "execution_count": 479,
     "metadata": {},
     "output_type": "execute_result"
    }
   ],
   "source": [
    "word2vec_model.wv.most_similar('建筑')\n",
    "# word2vec_model.similarity('治愈','感染')"
   ]
  },
  {
   "cell_type": "markdown",
   "metadata": {},
   "source": [
    "#### Word2Vec "
   ]
  },
  {
   "cell_type": "code",
   "execution_count": 480,
   "metadata": {},
   "outputs": [],
   "source": [
    "import numpy as np\n",
    "\n",
    "def get_contentVector(cutWords, word2vec_model):\n",
    "    vector_list = [word2vec_model.wv[k] for k in cutWords if k in word2vec_model]\n",
    "    contentVector = np.array(vector_list).mean(axis=0)\n",
    "    return contentVector"
   ]
  },
  {
   "cell_type": "code",
   "execution_count": 481,
   "metadata": {},
   "outputs": [],
   "source": [
    "import time\n",
    "\n",
    "startTime = time.time()\n",
    "contentVector_list = []\n",
    "for i in range(len(cutWords_list)):\n",
    "    cutWords = cutWords_list[i]\n",
    "    if (i+1) % 3000 == 0:\n",
    "        usedTime = time.time() - startTime\n",
    "        print('前%d篇文章内容表示成向量共花费%.2f秒' %(i+1, usedTime))\n",
    "    contentVector_list.append(list(get_contentVector(cutWords, word2vec_model)))\n",
    "X = np.array(contentVector_list)"
   ]
  },
  {
   "cell_type": "code",
   "execution_count": null,
   "metadata": {},
   "outputs": [],
   "source": []
  },
  {
   "cell_type": "code",
   "execution_count": null,
   "metadata": {},
   "outputs": [],
   "source": []
  },
  {
   "cell_type": "code",
   "execution_count": 498,
   "metadata": {},
   "outputs": [
    {
     "data": {
      "text/plain": [
       "(60342, 200)"
      ]
     },
     "execution_count": 498,
     "metadata": {},
     "output_type": "execute_result"
    }
   ],
   "source": [
    "X.shape # check"
   ]
  },
  {
   "cell_type": "code",
   "execution_count": null,
   "metadata": {},
   "outputs": [],
   "source": []
  },
  {
   "cell_type": "code",
   "execution_count": 504,
   "metadata": {},
   "outputs": [],
   "source": [
    "from sklearn.preprocessing import LabelEncoder\n",
    "\n",
    "labelEncoder = LabelEncoder()\n",
    "y = list(labelEncoder.fit_transform(newvalues['label']))"
   ]
  },
  {
   "cell_type": "code",
   "execution_count": 506,
   "metadata": {},
   "outputs": [],
   "source": [
    "#word2vec_gb_wx = pd.DataFrame(X)\n",
    "#word2vec_gb_wx['label'] = y"
   ]
  },
  {
   "cell_type": "code",
   "execution_count": 509,
   "metadata": {},
   "outputs": [],
   "source": [
    "#word2vec_gb_wx.to_csv('word2vec_gb_wx.csv')"
   ]
  },
  {
   "cell_type": "code",
   "execution_count": null,
   "metadata": {},
   "outputs": [],
   "source": []
  },
  {
   "cell_type": "code",
   "execution_count": null,
   "metadata": {},
   "outputs": [],
   "source": []
  },
  {
   "cell_type": "code",
   "execution_count": 472,
   "metadata": {},
   "outputs": [],
   "source": [
    "# remove data points\n",
    "# 13709 * 5 ,29981 * 2,37189, 37764 * 4\n",
    "# 地名 重复数字\n",
    "#newvalues = newvalues.drop(37764)\n",
    "#newvalues = newvalues.reset_index()\n",
    "#newvalues = newvalues.drop(['index'],axis = 1)\n"
   ]
  },
  {
   "cell_type": "code",
   "execution_count": 473,
   "metadata": {},
   "outputs": [
    {
     "data": {
      "text/plain": [
       "baidu_seg      [工程, 建设, 项目, 建设, 团队, 始终, 坚持, 严格, 控, 项目, 质量, 管理, 不断, 完善, 各项, 质量, 管理, 制度, 注重, 过程, 监督, 检查, 加强, 试验, 测量, 原材料, 管控, 影响, 工程, 实体, 质量, 环节, 进行, 重点, 检查, 开展, 质量, 通病, 治理, 不断, 改进, 施工, 工艺, 工程, 质量, 管理, 取得, 显著, 成效, 检测, 桥梁, 涵洞, 几何, 尺寸, 控制, 准确, 曲线, 流畅, 混凝土, 平整, 密实, 光洁, 美观, 隧道, 工程, 结构, 安全, 可靠, 沥青, 路面, 行车, 平稳, 舒适, 绿化, 实现, 全, 覆盖, 互通, 隧道, 两端, 采用, 保护, 原生, 植物, 方式, 极大, 提高, 绿化, 观赏性, 实现, 工程, 自然景观, 完美, 融合, 项目, 竣工, 验收, 综合, 得分, 96.5分, ...]\n",
       "baidu_prob                                                                                                                                                                                                                                                                                                                                                                                                                      0.00104759\n",
       "label                                                                                                                                                                                                                                                                                                                                                                                                                                    0\n",
       "word_counts                                                                                                                                                                                                                                                                                                                                                                                                                            318\n",
       "Name: 37764, dtype: object"
      ]
     },
     "execution_count": 473,
     "metadata": {},
     "output_type": "execute_result"
    }
   ],
   "source": [
    "#newvalues.loc[37189]"
   ]
  },
  {
   "cell_type": "code",
   "execution_count": null,
   "metadata": {},
   "outputs": [],
   "source": []
  },
  {
   "cell_type": "code",
   "execution_count": null,
   "metadata": {},
   "outputs": [],
   "source": []
  },
  {
   "cell_type": "markdown",
   "metadata": {},
   "source": [
    "#### Logistic Regression Models"
   ]
  },
  {
   "cell_type": "code",
   "execution_count": 112,
   "metadata": {},
   "outputs": [],
   "source": []
  },
  {
   "cell_type": "code",
   "execution_count": 510,
   "metadata": {},
   "outputs": [],
   "source": [
    "from sklearn.linear_model import LogisticRegression\n",
    "from sklearn.ensemble import RandomForestClassifier\n",
    "from sklearn.naive_bayes import MultinomialNB\n",
    "from sklearn.svm import LinearSVC\n",
    "from sklearn.model_selection import train_test_split\n",
    "from sklearn.metrics import accuracy_score, confusion_matrix, classification_report"
   ]
  },
  {
   "cell_type": "code",
   "execution_count": 511,
   "metadata": {},
   "outputs": [],
   "source": [
    "from sklearn.linear_model import LogisticRegression\n",
    "from sklearn.model_selection import train_test_split"
   ]
  },
  {
   "cell_type": "code",
   "execution_count": 512,
   "metadata": {},
   "outputs": [],
   "source": [
    "X = np.array(X)"
   ]
  },
  {
   "cell_type": "code",
   "execution_count": 513,
   "metadata": {},
   "outputs": [],
   "source": [
    "train_X_lr, test_X_lr, train_y_lr, test_y_lr = train_test_split(X, y, test_size=0.2)"
   ]
  },
  {
   "cell_type": "code",
   "execution_count": 514,
   "metadata": {},
   "outputs": [
    {
     "data": {
      "text/plain": [
       "0.8692518021377081"
      ]
     },
     "execution_count": 514,
     "metadata": {},
     "output_type": "execute_result"
    }
   ],
   "source": [
    "logisticRegression_model = LogisticRegression()\n",
    "logisticRegression_model.fit(train_X_lr, train_y_lr)\n",
    "logisticRegression_model.score(test_X_lr, test_y_lr)"
   ]
  },
  {
   "cell_type": "code",
   "execution_count": 515,
   "metadata": {},
   "outputs": [],
   "source": [
    "y_pred_lr = logisticRegression_model.predict(test_X_lr)"
   ]
  },
  {
   "cell_type": "code",
   "execution_count": 516,
   "metadata": {},
   "outputs": [
    {
     "name": "stdout",
     "output_type": "stream",
     "text": [
      "              precision    recall  f1-score   support\n",
      "\n",
      "           0     0.8928    0.9312    0.9116      8741\n",
      "           1     0.7964    0.7064    0.7487      3328\n",
      "\n",
      "    accuracy                         0.8693     12069\n",
      "   macro avg     0.8446    0.8188    0.8302     12069\n",
      "weighted avg     0.8662    0.8693    0.8667     12069\n",
      "\n"
     ]
    }
   ],
   "source": [
    "print(classification_report(test_y_lr, y_pred_lr,digits=4))"
   ]
  },
  {
   "cell_type": "code",
   "execution_count": 517,
   "metadata": {},
   "outputs": [
    {
     "data": {
      "image/png": "[encoded data removed]",
      "text/plain": [
       "<Figure size 432x288 with 1 Axes>"
      ]
     },
     "metadata": {
      "needs_background": "light"
     },
     "output_type": "display_data"
    }
   ],
   "source": [
    "mat = confusion_matrix( y_pred_lr,test_y_lr)\n",
    "sns.heatmap(mat, square=True, annot=True, cbar=False,fmt='.20g')\n",
    "plt.xlabel(\"Actual Result\")\n",
    "plt.ylabel(\"Predicted Result\")\n",
    "a, b = plt.ylim() \n",
    "a += 0.5 \n",
    "b -= 0.5 \n",
    "plt.ylim(a, b) \n",
    "plt.show() "
   ]
  },
  {
   "cell_type": "code",
   "execution_count": 518,
   "metadata": {},
   "outputs": [],
   "source": [
    "from sklearn.metrics import roc_curve, auc\n",
    "from sklearn import metrics"
   ]
  },
  {
   "cell_type": "code",
   "execution_count": 519,
   "metadata": {},
   "outputs": [
    {
     "data": {
      "text/plain": [
       "0.9287204682508602"
      ]
     },
     "execution_count": 519,
     "metadata": {},
     "output_type": "execute_result"
    }
   ],
   "source": [
    "predslog = logisticRegression_model.predict_proba(test_X_lr)[:,1]\n",
    "metrics.roc_auc_score(test_y_lr,predslog, average='macro', sample_weight=None)"
   ]
  },
  {
   "cell_type": "code",
   "execution_count": 520,
   "metadata": {},
   "outputs": [],
   "source": [
    "def plot_roc(labels, predict_prob):\n",
    "    false_positive_rate,true_positive_rate,thresholds=roc_curve(labels, predict_prob)\n",
    "    roc_auc=auc(false_positive_rate, true_positive_rate)\n",
    "    plt.title('ROC')\n",
    "    plt.plot(false_positive_rate, true_positive_rate,'b',label='AUC = %0.4f'% roc_auc)\n",
    "    plt.legend(loc='lower right')\n",
    "    plt.plot([0,1],[0,1],'r--')\n",
    "    plt.ylabel('TPR')\n",
    "    plt.xlabel('FPR')"
   ]
  },
  {
   "cell_type": "code",
   "execution_count": 521,
   "metadata": {},
   "outputs": [
    {
     "data": {
      "image/png": "[encoded data removed]",
      "text/plain": [
       "<Figure size 432x288 with 1 Axes>"
      ]
     },
     "metadata": {
      "needs_background": "light"
     },
     "output_type": "display_data"
    }
   ],
   "source": [
    "plot_roc(test_y_lr,predslog)"
   ]
  },
  {
   "cell_type": "code",
   "execution_count": null,
   "metadata": {},
   "outputs": [],
   "source": []
  },
  {
   "cell_type": "code",
   "execution_count": null,
   "metadata": {},
   "outputs": [],
   "source": []
  },
  {
   "cell_type": "code",
   "execution_count": 540,
   "metadata": {},
   "outputs": [
    {
     "data": {
      "text/html": [
       "<div>\n",
       "<style scoped>\n",
       "    .dataframe tbody tr th:only-of-type {\n",
       "        vertical-align: middle;\n",
       "    }\n",
       "\n",
       "    .dataframe tbody tr th {\n",
       "        vertical-align: top;\n",
       "    }\n",
       "\n",
       "    .dataframe thead th {\n",
       "        text-align: right;\n",
       "    }\n",
       "</style>\n",
       "<table border=\"1\" class=\"dataframe\">\n",
       "  <thead>\n",
       "    <tr style=\"text-align: right;\">\n",
       "      <th></th>\n",
       "      <th>accuracy</th>\n",
       "      <th>precision</th>\n",
       "      <th>recall</th>\n",
       "      <th>f1-score</th>\n",
       "      <th>support</th>\n",
       "      <th>precision</th>\n",
       "      <th>recall</th>\n",
       "      <th>f1-score</th>\n",
       "      <th>support</th>\n",
       "      <th>precision</th>\n",
       "      <th>recall</th>\n",
       "      <th>f1-score</th>\n",
       "      <th>support</th>\n",
       "      <th>precision</th>\n",
       "      <th>recall</th>\n",
       "      <th>f1-score</th>\n",
       "      <th>support</th>\n",
       "    </tr>\n",
       "  </thead>\n",
       "  <tbody>\n",
       "    <tr>\n",
       "      <th>TF-IDF_CNN</th>\n",
       "      <td>0.874669</td>\n",
       "      <td>0.756842</td>\n",
       "      <td>0.800905</td>\n",
       "      <td>0.778250</td>\n",
       "      <td>3315</td>\n",
       "      <td>0.922933</td>\n",
       "      <td>0.902592</td>\n",
       "      <td>0.912649</td>\n",
       "      <td>8757</td>\n",
       "      <td>0.839887</td>\n",
       "      <td>0.851749</td>\n",
       "      <td>0.845450</td>\n",
       "      <td>12072</td>\n",
       "      <td>0.877324</td>\n",
       "      <td>0.874669</td>\n",
       "      <td>0.875743</td>\n",
       "      <td>12072</td>\n",
       "    </tr>\n",
       "    <tr>\n",
       "      <th>TF-IDF_CNN_naive_resampling</th>\n",
       "      <td>0.882455</td>\n",
       "      <td>0.824658</td>\n",
       "      <td>0.726395</td>\n",
       "      <td>0.772414</td>\n",
       "      <td>3315</td>\n",
       "      <td>0.900896</td>\n",
       "      <td>0.941532</td>\n",
       "      <td>0.920766</td>\n",
       "      <td>8757</td>\n",
       "      <td>0.862777</td>\n",
       "      <td>0.833964</td>\n",
       "      <td>0.846590</td>\n",
       "      <td>12072</td>\n",
       "      <td>0.879961</td>\n",
       "      <td>0.882455</td>\n",
       "      <td>0.880028</td>\n",
       "      <td>12072</td>\n",
       "    </tr>\n",
       "    <tr>\n",
       "      <th>fbwx_w2v_LR</th>\n",
       "      <td>0.869252</td>\n",
       "      <td>0.796409</td>\n",
       "      <td>0.706430</td>\n",
       "      <td>0.748726</td>\n",
       "      <td>3328</td>\n",
       "      <td>0.892838</td>\n",
       "      <td>0.931244</td>\n",
       "      <td>0.911636</td>\n",
       "      <td>8741</td>\n",
       "      <td>0.844623</td>\n",
       "      <td>0.818837</td>\n",
       "      <td>0.830181</td>\n",
       "      <td>12069</td>\n",
       "      <td>0.866248</td>\n",
       "      <td>0.869252</td>\n",
       "      <td>0.866714</td>\n",
       "      <td>12069</td>\n",
       "    </tr>\n",
       "  </tbody>\n",
       "</table>\n",
       "</div>"
      ],
      "text/plain": [
       "                             accuracy  precision    recall  f1-score  support  \\\n",
       "TF-IDF_CNN                   0.874669   0.756842  0.800905  0.778250     3315   \n",
       "TF-IDF_CNN_naive_resampling  0.882455   0.824658  0.726395  0.772414     3315   \n",
       "fbwx_w2v_LR                  0.869252   0.796409  0.706430  0.748726     3328   \n",
       "\n",
       "                             precision    recall  f1-score  support  \\\n",
       "TF-IDF_CNN                    0.922933  0.902592  0.912649     8757   \n",
       "TF-IDF_CNN_naive_resampling   0.900896  0.941532  0.920766     8757   \n",
       "fbwx_w2v_LR                   0.892838  0.931244  0.911636     8741   \n",
       "\n",
       "                             precision    recall  f1-score  support  \\\n",
       "TF-IDF_CNN                    0.839887  0.851749  0.845450    12072   \n",
       "TF-IDF_CNN_naive_resampling   0.862777  0.833964  0.846590    12072   \n",
       "fbwx_w2v_LR                   0.844623  0.818837  0.830181    12069   \n",
       "\n",
       "                             precision    recall  f1-score  support  \n",
       "TF-IDF_CNN                    0.877324  0.874669  0.875743    12072  \n",
       "TF-IDF_CNN_naive_resampling   0.879961  0.882455  0.880028    12072  \n",
       "fbwx_w2v_LR                   0.866248  0.869252  0.866714    12069  "
      ]
     },
     "execution_count": 540,
     "metadata": {},
     "output_type": "execute_result"
    }
   ],
   "source": [
    "fbwx_w2v_lr_performance = classification_report(test_y_lr, y_pred_lr,digits=4,output_dict=True)\n",
    "performance = fbwx_w2v_lr_performance\n",
    "model_name = 'fbwx_w2v_LR'\n",
    "performance_df = sklearn_perform(model_name,performance,performance_df)\n",
    "performance_df"
   ]
  },
  {
   "cell_type": "code",
   "execution_count": null,
   "metadata": {},
   "outputs": [],
   "source": []
  },
  {
   "cell_type": "code",
   "execution_count": null,
   "metadata": {},
   "outputs": [],
   "source": []
  },
  {
   "cell_type": "markdown",
   "metadata": {},
   "source": [
    "### Model 2.2: 现有样本训练Word2Vec + LR + Naive Resampling"
   ]
  },
  {
   "cell_type": "code",
   "execution_count": 541,
   "metadata": {},
   "outputs": [],
   "source": [
    "X = newvalues['baidu_seg']\n",
    "y = newvalues['label']"
   ]
  },
  {
   "cell_type": "code",
   "execution_count": null,
   "metadata": {},
   "outputs": [],
   "source": []
  },
  {
   "cell_type": "code",
   "execution_count": 680,
   "metadata": {},
   "outputs": [
    {
     "ename": "AttributeError",
     "evalue": "'numpy.ndarray' object has no attribute 'head'",
     "output_type": "error",
     "traceback": [
      "\u001b[0;31m---------------------------------------------------------------------------\u001b[0m",
      "\u001b[0;31mAttributeError\u001b[0m                            Traceback (most recent call last)",
      "\u001b[0;32m<ipython-input-680-ae5cd47bda90>\u001b[0m in \u001b[0;36m<module>\u001b[0;34m\u001b[0m\n\u001b[0;32m----> 1\u001b[0;31m \u001b[0mX\u001b[0m\u001b[0;34m.\u001b[0m\u001b[0mhead\u001b[0m\u001b[0;34m(\u001b[0m\u001b[0;34m)\u001b[0m\u001b[0;34m\u001b[0m\u001b[0;34m\u001b[0m\u001b[0m\n\u001b[0m",
      "\u001b[0;31mAttributeError\u001b[0m: 'numpy.ndarray' object has no attribute 'head'"
     ]
    }
   ],
   "source": []
  },
  {
   "cell_type": "markdown",
   "metadata": {},
   "source": [
    "#### Word2Vec"
   ]
  },
  {
   "cell_type": "code",
   "execution_count": 542,
   "metadata": {},
   "outputs": [],
   "source": [
    "cutWords_list = newvalues['baidu_seg']\n",
    "\n",
    "startTime = time.time()\n",
    "contentVector_list = []\n",
    "for i in range(len(cutWords_list)):\n",
    "    cutWords = cutWords_list[i]\n",
    "#    if (i+1) % 3000 == 0:\n",
    "#        usedTime = time.time() - startTime\n",
    "#        print('前%d篇文章内容表示成向量共花费%.2f秒' %(i+1, usedTime))\n",
    "    contentVector_list.append(list(get_contentVector(cutWords, word2vec_model)))\n",
    "X = np.array(contentVector_list)"
   ]
  },
  {
   "cell_type": "code",
   "execution_count": 543,
   "metadata": {},
   "outputs": [],
   "source": [
    "X = np.array(X)"
   ]
  },
  {
   "cell_type": "code",
   "execution_count": 544,
   "metadata": {},
   "outputs": [],
   "source": [
    "train_X_lr, test_X_lr, train_y_lr, test_y_lr = train_test_split(X, y, test_size=0.2)"
   ]
  },
  {
   "cell_type": "code",
   "execution_count": 545,
   "metadata": {},
   "outputs": [],
   "source": [
    "X_resampling = np.array(train_X_lr)\n",
    "y_resampling = train_y_lr\n",
    "ros = RandomOverSampler(random_state=0)\n",
    "X_resampled_naive, y_resampled_naive = ros.fit_resample(X_resampling, y_resampling)"
   ]
  },
  {
   "cell_type": "code",
   "execution_count": 546,
   "metadata": {},
   "outputs": [
    {
     "data": {
      "text/plain": [
       "0.869086088325462"
      ]
     },
     "execution_count": 546,
     "metadata": {},
     "output_type": "execute_result"
    }
   ],
   "source": [
    "logisticRegression_model = LogisticRegression()\n",
    "logisticRegression_model.fit(X_resampled_naive, y_resampled_naive)\n",
    "logisticRegression_model.score(test_X_lr, test_y_lr)\n",
    "#logisticRegression_model.score(X_resampling, y_resampling)"
   ]
  },
  {
   "cell_type": "code",
   "execution_count": 547,
   "metadata": {},
   "outputs": [],
   "source": [
    "y_pred_lr = logisticRegression_model.predict(test_X_lr)"
   ]
  },
  {
   "cell_type": "code",
   "execution_count": 548,
   "metadata": {},
   "outputs": [
    {
     "name": "stdout",
     "output_type": "stream",
     "text": [
      "              precision    recall  f1-score   support\n",
      "\n",
      "           0     0.8930    0.9320    0.9121      8792\n",
      "           1     0.7933    0.7003    0.7439      3277\n",
      "\n",
      "    accuracy                         0.8691     12069\n",
      "   macro avg     0.8431    0.8162    0.8280     12069\n",
      "weighted avg     0.8659    0.8691    0.8664     12069\n",
      "\n"
     ]
    }
   ],
   "source": [
    "print(classification_report(test_y_lr, y_pred_lr,digits=4))"
   ]
  },
  {
   "cell_type": "code",
   "execution_count": 549,
   "metadata": {},
   "outputs": [
    {
     "data": {
      "image/png": "[encoded data removed]",
      "text/plain": [
       "<Figure size 432x288 with 1 Axes>"
      ]
     },
     "metadata": {
      "needs_background": "light"
     },
     "output_type": "display_data"
    }
   ],
   "source": [
    "mat = confusion_matrix( y_pred_lr,test_y_lr)\n",
    "sns.heatmap(mat, square=True, annot=True, cbar=False,fmt='.20g')\n",
    "plt.xlabel(\"Actual Result\")\n",
    "plt.ylabel(\"Predicted Result\")\n",
    "a, b = plt.ylim() \n",
    "a += 0.5 \n",
    "b -= 0.5 \n",
    "plt.ylim(a, b) \n",
    "plt.show() "
   ]
  },
  {
   "cell_type": "code",
   "execution_count": 550,
   "metadata": {},
   "outputs": [
    {
     "data": {
      "text/plain": [
       "0.9280954014565909"
      ]
     },
     "execution_count": 550,
     "metadata": {},
     "output_type": "execute_result"
    }
   ],
   "source": [
    "predslog = logisticRegression_model.predict_proba(test_X_lr)[:,1]\n",
    "metrics.roc_auc_score(test_y_lr,predslog, average='macro', sample_weight=None)"
   ]
  },
  {
   "cell_type": "code",
   "execution_count": 551,
   "metadata": {},
   "outputs": [
    {
     "data": {
      "image/png": "[encoded data removed]",
      "text/plain": [
       "<Figure size 432x288 with 1 Axes>"
      ]
     },
     "metadata": {
      "needs_background": "light"
     },
     "output_type": "display_data"
    }
   ],
   "source": [
    "plot_roc(test_y_lr,predslog)"
   ]
  },
  {
   "cell_type": "code",
   "execution_count": null,
   "metadata": {},
   "outputs": [],
   "source": []
  },
  {
   "cell_type": "code",
   "execution_count": 552,
   "metadata": {},
   "outputs": [
    {
     "data": {
      "text/html": [
       "<div>\n",
       "<style scoped>\n",
       "    .dataframe tbody tr th:only-of-type {\n",
       "        vertical-align: middle;\n",
       "    }\n",
       "\n",
       "    .dataframe tbody tr th {\n",
       "        vertical-align: top;\n",
       "    }\n",
       "\n",
       "    .dataframe thead th {\n",
       "        text-align: right;\n",
       "    }\n",
       "</style>\n",
       "<table border=\"1\" class=\"dataframe\">\n",
       "  <thead>\n",
       "    <tr style=\"text-align: right;\">\n",
       "      <th></th>\n",
       "      <th>accuracy</th>\n",
       "      <th>precision</th>\n",
       "      <th>recall</th>\n",
       "      <th>f1-score</th>\n",
       "      <th>support</th>\n",
       "      <th>precision</th>\n",
       "      <th>recall</th>\n",
       "      <th>f1-score</th>\n",
       "      <th>support</th>\n",
       "      <th>precision</th>\n",
       "      <th>recall</th>\n",
       "      <th>f1-score</th>\n",
       "      <th>support</th>\n",
       "      <th>precision</th>\n",
       "      <th>recall</th>\n",
       "      <th>f1-score</th>\n",
       "      <th>support</th>\n",
       "    </tr>\n",
       "  </thead>\n",
       "  <tbody>\n",
       "    <tr>\n",
       "      <th>TF-IDF_CNN</th>\n",
       "      <td>0.874669</td>\n",
       "      <td>0.756842</td>\n",
       "      <td>0.800905</td>\n",
       "      <td>0.778250</td>\n",
       "      <td>3315</td>\n",
       "      <td>0.922933</td>\n",
       "      <td>0.902592</td>\n",
       "      <td>0.912649</td>\n",
       "      <td>8757</td>\n",
       "      <td>0.839887</td>\n",
       "      <td>0.851749</td>\n",
       "      <td>0.845450</td>\n",
       "      <td>12072</td>\n",
       "      <td>0.877324</td>\n",
       "      <td>0.874669</td>\n",
       "      <td>0.875743</td>\n",
       "      <td>12072</td>\n",
       "    </tr>\n",
       "    <tr>\n",
       "      <th>TF-IDF_CNN_naive_resampling</th>\n",
       "      <td>0.882455</td>\n",
       "      <td>0.824658</td>\n",
       "      <td>0.726395</td>\n",
       "      <td>0.772414</td>\n",
       "      <td>3315</td>\n",
       "      <td>0.900896</td>\n",
       "      <td>0.941532</td>\n",
       "      <td>0.920766</td>\n",
       "      <td>8757</td>\n",
       "      <td>0.862777</td>\n",
       "      <td>0.833964</td>\n",
       "      <td>0.846590</td>\n",
       "      <td>12072</td>\n",
       "      <td>0.879961</td>\n",
       "      <td>0.882455</td>\n",
       "      <td>0.880028</td>\n",
       "      <td>12072</td>\n",
       "    </tr>\n",
       "    <tr>\n",
       "      <th>fbwx_w2v_LR</th>\n",
       "      <td>0.869252</td>\n",
       "      <td>0.796409</td>\n",
       "      <td>0.706430</td>\n",
       "      <td>0.748726</td>\n",
       "      <td>3328</td>\n",
       "      <td>0.892838</td>\n",
       "      <td>0.931244</td>\n",
       "      <td>0.911636</td>\n",
       "      <td>8741</td>\n",
       "      <td>0.844623</td>\n",
       "      <td>0.818837</td>\n",
       "      <td>0.830181</td>\n",
       "      <td>12069</td>\n",
       "      <td>0.866248</td>\n",
       "      <td>0.869252</td>\n",
       "      <td>0.866714</td>\n",
       "      <td>12069</td>\n",
       "    </tr>\n",
       "    <tr>\n",
       "      <th>fbwx_w2v_LR_naive_resampling</th>\n",
       "      <td>0.869086</td>\n",
       "      <td>0.793294</td>\n",
       "      <td>0.700336</td>\n",
       "      <td>0.743922</td>\n",
       "      <td>3277</td>\n",
       "      <td>0.892982</td>\n",
       "      <td>0.931984</td>\n",
       "      <td>0.912066</td>\n",
       "      <td>8792</td>\n",
       "      <td>0.843138</td>\n",
       "      <td>0.816160</td>\n",
       "      <td>0.827994</td>\n",
       "      <td>12069</td>\n",
       "      <td>0.865914</td>\n",
       "      <td>0.869086</td>\n",
       "      <td>0.866411</td>\n",
       "      <td>12069</td>\n",
       "    </tr>\n",
       "  </tbody>\n",
       "</table>\n",
       "</div>"
      ],
      "text/plain": [
       "                              accuracy  precision    recall  f1-score  \\\n",
       "TF-IDF_CNN                    0.874669   0.756842  0.800905  0.778250   \n",
       "TF-IDF_CNN_naive_resampling   0.882455   0.824658  0.726395  0.772414   \n",
       "fbwx_w2v_LR                   0.869252   0.796409  0.706430  0.748726   \n",
       "fbwx_w2v_LR_naive_resampling  0.869086   0.793294  0.700336  0.743922   \n",
       "\n",
       "                              support  precision    recall  f1-score  support  \\\n",
       "TF-IDF_CNN                       3315   0.922933  0.902592  0.912649     8757   \n",
       "TF-IDF_CNN_naive_resampling      3315   0.900896  0.941532  0.920766     8757   \n",
       "fbwx_w2v_LR                      3328   0.892838  0.931244  0.911636     8741   \n",
       "fbwx_w2v_LR_naive_resampling     3277   0.892982  0.931984  0.912066     8792   \n",
       "\n",
       "                              precision    recall  f1-score  support  \\\n",
       "TF-IDF_CNN                     0.839887  0.851749  0.845450    12072   \n",
       "TF-IDF_CNN_naive_resampling    0.862777  0.833964  0.846590    12072   \n",
       "fbwx_w2v_LR                    0.844623  0.818837  0.830181    12069   \n",
       "fbwx_w2v_LR_naive_resampling   0.843138  0.816160  0.827994    12069   \n",
       "\n",
       "                              precision    recall  f1-score  support  \n",
       "TF-IDF_CNN                     0.877324  0.874669  0.875743    12072  \n",
       "TF-IDF_CNN_naive_resampling    0.879961  0.882455  0.880028    12072  \n",
       "fbwx_w2v_LR                    0.866248  0.869252  0.866714    12069  \n",
       "fbwx_w2v_LR_naive_resampling   0.865914  0.869086  0.866411    12069  "
      ]
     },
     "execution_count": 552,
     "metadata": {},
     "output_type": "execute_result"
    }
   ],
   "source": [
    "fbwx_w2v_lr_naive_resampling_performance = classification_report(test_y_lr, y_pred_lr,digits=4,output_dict=True)\n",
    "performance = fbwx_w2v_lr_naive_resampling_performance\n",
    "model_name = 'fbwx_w2v_LR_naive_resampling'\n",
    "performance_df = sklearn_perform(model_name,performance,performance_df)\n",
    "performance_df"
   ]
  },
  {
   "cell_type": "code",
   "execution_count": null,
   "metadata": {},
   "outputs": [],
   "source": []
  },
  {
   "cell_type": "code",
   "execution_count": null,
   "metadata": {},
   "outputs": [],
   "source": []
  },
  {
   "cell_type": "markdown",
   "metadata": {},
   "source": [
    "### Model 3.1: 现有样本训练Word2Vec + SVM"
   ]
  },
  {
   "cell_type": "code",
   "execution_count": 553,
   "metadata": {},
   "outputs": [],
   "source": [
    "#训练模型\n",
    "model_svm = LinearSVC()\n",
    "train_X_svm, test_X_svm, train_y_svm, test_y_svm = train_test_split(X, y, test_size=0.2)\n"
   ]
  },
  {
   "cell_type": "code",
   "execution_count": 554,
   "metadata": {},
   "outputs": [],
   "source": [
    "model_svm.fit(train_X_svm, train_y_svm)\n",
    "y_pred_svm = model_svm.predict(test_X_svm)"
   ]
  },
  {
   "cell_type": "code",
   "execution_count": 555,
   "metadata": {
    "scrolled": false
   },
   "outputs": [
    {
     "name": "stdout",
     "output_type": "stream",
     "text": [
      "              precision    recall  f1-score   support\n",
      "\n",
      "           0     0.8896    0.9320    0.9103      8716\n",
      "           1     0.7982    0.6994    0.7455      3353\n",
      "\n",
      "    accuracy                         0.8673     12069\n",
      "   macro avg     0.8439    0.8157    0.8279     12069\n",
      "weighted avg     0.8642    0.8673    0.8645     12069\n",
      "\n"
     ]
    }
   ],
   "source": [
    "print(classification_report(test_y_svm, y_pred_svm,digits=4))"
   ]
  },
  {
   "cell_type": "code",
   "execution_count": 556,
   "metadata": {},
   "outputs": [
    {
     "data": {
      "image/png": "[encoded data removed]",
      "text/plain": [
       "<Figure size 432x288 with 1 Axes>"
      ]
     },
     "metadata": {
      "needs_background": "light"
     },
     "output_type": "display_data"
    }
   ],
   "source": [
    "mat = confusion_matrix( y_pred_svm,test_y_svm)\n",
    "sns.heatmap(mat, square=True, annot=True, cbar=False,fmt='.20g')\n",
    "plt.xlabel(\"Actual Result\")\n",
    "plt.ylabel(\"Predicted Result\")\n",
    "a, b = plt.ylim() \n",
    "a += 0.5 \n",
    "b -= 0.5 \n",
    "plt.ylim(a, b) \n",
    "plt.show() "
   ]
  },
  {
   "cell_type": "code",
   "execution_count": null,
   "metadata": {},
   "outputs": [],
   "source": []
  },
  {
   "cell_type": "code",
   "execution_count": 561,
   "metadata": {},
   "outputs": [
    {
     "data": {
      "text/html": [
       "<div>\n",
       "<style scoped>\n",
       "    .dataframe tbody tr th:only-of-type {\n",
       "        vertical-align: middle;\n",
       "    }\n",
       "\n",
       "    .dataframe tbody tr th {\n",
       "        vertical-align: top;\n",
       "    }\n",
       "\n",
       "    .dataframe thead th {\n",
       "        text-align: right;\n",
       "    }\n",
       "</style>\n",
       "<table border=\"1\" class=\"dataframe\">\n",
       "  <thead>\n",
       "    <tr style=\"text-align: right;\">\n",
       "      <th></th>\n",
       "      <th>accuracy</th>\n",
       "      <th>precision</th>\n",
       "      <th>recall</th>\n",
       "      <th>f1-score</th>\n",
       "      <th>support</th>\n",
       "      <th>precision</th>\n",
       "      <th>recall</th>\n",
       "      <th>f1-score</th>\n",
       "      <th>support</th>\n",
       "      <th>precision</th>\n",
       "      <th>recall</th>\n",
       "      <th>f1-score</th>\n",
       "      <th>support</th>\n",
       "      <th>precision</th>\n",
       "      <th>recall</th>\n",
       "      <th>f1-score</th>\n",
       "      <th>support</th>\n",
       "    </tr>\n",
       "  </thead>\n",
       "  <tbody>\n",
       "    <tr>\n",
       "      <th>TF-IDF_CNN</th>\n",
       "      <td>0.874669</td>\n",
       "      <td>0.756842</td>\n",
       "      <td>0.800905</td>\n",
       "      <td>0.778250</td>\n",
       "      <td>3315</td>\n",
       "      <td>0.922933</td>\n",
       "      <td>0.902592</td>\n",
       "      <td>0.912649</td>\n",
       "      <td>8757</td>\n",
       "      <td>0.839887</td>\n",
       "      <td>0.851749</td>\n",
       "      <td>0.845450</td>\n",
       "      <td>12072</td>\n",
       "      <td>0.877324</td>\n",
       "      <td>0.874669</td>\n",
       "      <td>0.875743</td>\n",
       "      <td>12072</td>\n",
       "    </tr>\n",
       "    <tr>\n",
       "      <th>TF-IDF_CNN_naive_resampling</th>\n",
       "      <td>0.882455</td>\n",
       "      <td>0.824658</td>\n",
       "      <td>0.726395</td>\n",
       "      <td>0.772414</td>\n",
       "      <td>3315</td>\n",
       "      <td>0.900896</td>\n",
       "      <td>0.941532</td>\n",
       "      <td>0.920766</td>\n",
       "      <td>8757</td>\n",
       "      <td>0.862777</td>\n",
       "      <td>0.833964</td>\n",
       "      <td>0.846590</td>\n",
       "      <td>12072</td>\n",
       "      <td>0.879961</td>\n",
       "      <td>0.882455</td>\n",
       "      <td>0.880028</td>\n",
       "      <td>12072</td>\n",
       "    </tr>\n",
       "    <tr>\n",
       "      <th>fbwx_w2v_LR</th>\n",
       "      <td>0.869252</td>\n",
       "      <td>0.796409</td>\n",
       "      <td>0.706430</td>\n",
       "      <td>0.748726</td>\n",
       "      <td>3328</td>\n",
       "      <td>0.892838</td>\n",
       "      <td>0.931244</td>\n",
       "      <td>0.911636</td>\n",
       "      <td>8741</td>\n",
       "      <td>0.844623</td>\n",
       "      <td>0.818837</td>\n",
       "      <td>0.830181</td>\n",
       "      <td>12069</td>\n",
       "      <td>0.866248</td>\n",
       "      <td>0.869252</td>\n",
       "      <td>0.866714</td>\n",
       "      <td>12069</td>\n",
       "    </tr>\n",
       "    <tr>\n",
       "      <th>fbwx_w2v_LR_naive_resampling</th>\n",
       "      <td>0.869086</td>\n",
       "      <td>0.793294</td>\n",
       "      <td>0.700336</td>\n",
       "      <td>0.743922</td>\n",
       "      <td>3277</td>\n",
       "      <td>0.892982</td>\n",
       "      <td>0.931984</td>\n",
       "      <td>0.912066</td>\n",
       "      <td>8792</td>\n",
       "      <td>0.843138</td>\n",
       "      <td>0.816160</td>\n",
       "      <td>0.827994</td>\n",
       "      <td>12069</td>\n",
       "      <td>0.865914</td>\n",
       "      <td>0.869086</td>\n",
       "      <td>0.866411</td>\n",
       "      <td>12069</td>\n",
       "    </tr>\n",
       "    <tr>\n",
       "      <th>fbwx_w2v_linear_SVM</th>\n",
       "      <td>0.867346</td>\n",
       "      <td>0.798162</td>\n",
       "      <td>0.699374</td>\n",
       "      <td>0.745509</td>\n",
       "      <td>3353</td>\n",
       "      <td>0.889607</td>\n",
       "      <td>0.931964</td>\n",
       "      <td>0.910293</td>\n",
       "      <td>8716</td>\n",
       "      <td>0.843884</td>\n",
       "      <td>0.815669</td>\n",
       "      <td>0.827901</td>\n",
       "      <td>12069</td>\n",
       "      <td>0.864202</td>\n",
       "      <td>0.867346</td>\n",
       "      <td>0.864513</td>\n",
       "      <td>12069</td>\n",
       "    </tr>\n",
       "  </tbody>\n",
       "</table>\n",
       "</div>"
      ],
      "text/plain": [
       "                              accuracy  precision    recall  f1-score  \\\n",
       "TF-IDF_CNN                    0.874669   0.756842  0.800905  0.778250   \n",
       "TF-IDF_CNN_naive_resampling   0.882455   0.824658  0.726395  0.772414   \n",
       "fbwx_w2v_LR                   0.869252   0.796409  0.706430  0.748726   \n",
       "fbwx_w2v_LR_naive_resampling  0.869086   0.793294  0.700336  0.743922   \n",
       "fbwx_w2v_linear_SVM           0.867346   0.798162  0.699374  0.745509   \n",
       "\n",
       "                              support  precision    recall  f1-score  support  \\\n",
       "TF-IDF_CNN                       3315   0.922933  0.902592  0.912649     8757   \n",
       "TF-IDF_CNN_naive_resampling      3315   0.900896  0.941532  0.920766     8757   \n",
       "fbwx_w2v_LR                      3328   0.892838  0.931244  0.911636     8741   \n",
       "fbwx_w2v_LR_naive_resampling     3277   0.892982  0.931984  0.912066     8792   \n",
       "fbwx_w2v_linear_SVM              3353   0.889607  0.931964  0.910293     8716   \n",
       "\n",
       "                              precision    recall  f1-score  support  \\\n",
       "TF-IDF_CNN                     0.839887  0.851749  0.845450    12072   \n",
       "TF-IDF_CNN_naive_resampling    0.862777  0.833964  0.846590    12072   \n",
       "fbwx_w2v_LR                    0.844623  0.818837  0.830181    12069   \n",
       "fbwx_w2v_LR_naive_resampling   0.843138  0.816160  0.827994    12069   \n",
       "fbwx_w2v_linear_SVM            0.843884  0.815669  0.827901    12069   \n",
       "\n",
       "                              precision    recall  f1-score  support  \n",
       "TF-IDF_CNN                     0.877324  0.874669  0.875743    12072  \n",
       "TF-IDF_CNN_naive_resampling    0.879961  0.882455  0.880028    12072  \n",
       "fbwx_w2v_LR                    0.866248  0.869252  0.866714    12069  \n",
       "fbwx_w2v_LR_naive_resampling   0.865914  0.869086  0.866411    12069  \n",
       "fbwx_w2v_linear_SVM            0.864202  0.867346  0.864513    12069  "
      ]
     },
     "execution_count": 561,
     "metadata": {},
     "output_type": "execute_result"
    }
   ],
   "source": [
    "fbwx_w2v_linear_SVM_performance = classification_report(test_y_svm, y_pred_svm,digits=4,output_dict=True)\n",
    "performance = fbwx_w2v_linear_SVM_performance\n",
    "model_name = 'fbwx_w2v_linear_SVM'\n",
    "performance_df = sklearn_perform(model_name,performance,performance_df)\n",
    "performance_df"
   ]
  },
  {
   "cell_type": "code",
   "execution_count": null,
   "metadata": {},
   "outputs": [],
   "source": []
  },
  {
   "cell_type": "markdown",
   "metadata": {},
   "source": [
    "### Model 3.2 现有样本训练Word2Vec + SVM + Naive Resampling"
   ]
  },
  {
   "cell_type": "code",
   "execution_count": 566,
   "metadata": {},
   "outputs": [],
   "source": [
    "model_svm_sampling = LinearSVC()\n"
   ]
  },
  {
   "cell_type": "code",
   "execution_count": 567,
   "metadata": {},
   "outputs": [],
   "source": [
    "X_resampling = np.array(train_X_svm)\n",
    "y_resampling = train_y_svm\n",
    "ros = RandomOverSampler(random_state=0)\n",
    "X_resampled_naive, y_resampled_naive = ros.fit_resample(X_resampling, y_resampling)\n"
   ]
  },
  {
   "cell_type": "code",
   "execution_count": 575,
   "metadata": {},
   "outputs": [],
   "source": [
    "model_svm_sampling.fit(X_resampled_naive, y_resampled_naive)\n",
    "y_pred_svm = model_svm_sampling.predict(test_X_svm)"
   ]
  },
  {
   "cell_type": "code",
   "execution_count": 576,
   "metadata": {},
   "outputs": [
    {
     "name": "stdout",
     "output_type": "stream",
     "text": [
      "              precision    recall  f1-score   support\n",
      "\n",
      "           0     0.9386    0.8347    0.8836      8716\n",
      "           1     0.6663    0.8580    0.7501      3353\n",
      "\n",
      "    accuracy                         0.8412     12069\n",
      "   macro avg     0.8024    0.8464    0.8168     12069\n",
      "weighted avg     0.8629    0.8412    0.8465     12069\n",
      "\n"
     ]
    }
   ],
   "source": [
    "print(classification_report(test_y_svm, y_pred_svm,digits=4))"
   ]
  },
  {
   "cell_type": "code",
   "execution_count": 578,
   "metadata": {},
   "outputs": [
    {
     "data": {
      "image/png": "[encoded data removed]",
      "text/plain": [
       "<Figure size 432x288 with 1 Axes>"
      ]
     },
     "metadata": {
      "needs_background": "light"
     },
     "output_type": "display_data"
    }
   ],
   "source": [
    "mat = confusion_matrix( y_pred_svm,test_y_svm)\n",
    "sns.heatmap(mat, square=True, annot=True, cbar=False,fmt='.20g')\n",
    "plt.xlabel(\"Actual Result\")\n",
    "plt.ylabel(\"Predicted Result\")\n",
    "a, b = plt.ylim() \n",
    "a += 0.5 \n",
    "b -= 0.5 \n",
    "plt.ylim(a, b) \n",
    "plt.show() "
   ]
  },
  {
   "cell_type": "code",
   "execution_count": null,
   "metadata": {},
   "outputs": [],
   "source": []
  },
  {
   "cell_type": "code",
   "execution_count": 579,
   "metadata": {},
   "outputs": [
    {
     "data": {
      "text/html": [
       "<div>\n",
       "<style scoped>\n",
       "    .dataframe tbody tr th:only-of-type {\n",
       "        vertical-align: middle;\n",
       "    }\n",
       "\n",
       "    .dataframe tbody tr th {\n",
       "        vertical-align: top;\n",
       "    }\n",
       "\n",
       "    .dataframe thead th {\n",
       "        text-align: right;\n",
       "    }\n",
       "</style>\n",
       "<table border=\"1\" class=\"dataframe\">\n",
       "  <thead>\n",
       "    <tr style=\"text-align: right;\">\n",
       "      <th></th>\n",
       "      <th>accuracy</th>\n",
       "      <th>precision</th>\n",
       "      <th>recall</th>\n",
       "      <th>f1-score</th>\n",
       "      <th>support</th>\n",
       "      <th>precision</th>\n",
       "      <th>recall</th>\n",
       "      <th>f1-score</th>\n",
       "      <th>support</th>\n",
       "      <th>precision</th>\n",
       "      <th>recall</th>\n",
       "      <th>f1-score</th>\n",
       "      <th>support</th>\n",
       "      <th>precision</th>\n",
       "      <th>recall</th>\n",
       "      <th>f1-score</th>\n",
       "      <th>support</th>\n",
       "    </tr>\n",
       "  </thead>\n",
       "  <tbody>\n",
       "    <tr>\n",
       "      <th>TF-IDF_CNN</th>\n",
       "      <td>0.874669</td>\n",
       "      <td>0.756842</td>\n",
       "      <td>0.800905</td>\n",
       "      <td>0.778250</td>\n",
       "      <td>3315</td>\n",
       "      <td>0.922933</td>\n",
       "      <td>0.902592</td>\n",
       "      <td>0.912649</td>\n",
       "      <td>8757</td>\n",
       "      <td>0.839887</td>\n",
       "      <td>0.851749</td>\n",
       "      <td>0.845450</td>\n",
       "      <td>12072</td>\n",
       "      <td>0.877324</td>\n",
       "      <td>0.874669</td>\n",
       "      <td>0.875743</td>\n",
       "      <td>12072</td>\n",
       "    </tr>\n",
       "    <tr>\n",
       "      <th>TF-IDF_CNN_naive_resampling</th>\n",
       "      <td>0.882455</td>\n",
       "      <td>0.824658</td>\n",
       "      <td>0.726395</td>\n",
       "      <td>0.772414</td>\n",
       "      <td>3315</td>\n",
       "      <td>0.900896</td>\n",
       "      <td>0.941532</td>\n",
       "      <td>0.920766</td>\n",
       "      <td>8757</td>\n",
       "      <td>0.862777</td>\n",
       "      <td>0.833964</td>\n",
       "      <td>0.846590</td>\n",
       "      <td>12072</td>\n",
       "      <td>0.879961</td>\n",
       "      <td>0.882455</td>\n",
       "      <td>0.880028</td>\n",
       "      <td>12072</td>\n",
       "    </tr>\n",
       "    <tr>\n",
       "      <th>fbwx_w2v_LR</th>\n",
       "      <td>0.869252</td>\n",
       "      <td>0.796409</td>\n",
       "      <td>0.706430</td>\n",
       "      <td>0.748726</td>\n",
       "      <td>3328</td>\n",
       "      <td>0.892838</td>\n",
       "      <td>0.931244</td>\n",
       "      <td>0.911636</td>\n",
       "      <td>8741</td>\n",
       "      <td>0.844623</td>\n",
       "      <td>0.818837</td>\n",
       "      <td>0.830181</td>\n",
       "      <td>12069</td>\n",
       "      <td>0.866248</td>\n",
       "      <td>0.869252</td>\n",
       "      <td>0.866714</td>\n",
       "      <td>12069</td>\n",
       "    </tr>\n",
       "    <tr>\n",
       "      <th>fbwx_w2v_LR_naive_resampling</th>\n",
       "      <td>0.869086</td>\n",
       "      <td>0.793294</td>\n",
       "      <td>0.700336</td>\n",
       "      <td>0.743922</td>\n",
       "      <td>3277</td>\n",
       "      <td>0.892982</td>\n",
       "      <td>0.931984</td>\n",
       "      <td>0.912066</td>\n",
       "      <td>8792</td>\n",
       "      <td>0.843138</td>\n",
       "      <td>0.816160</td>\n",
       "      <td>0.827994</td>\n",
       "      <td>12069</td>\n",
       "      <td>0.865914</td>\n",
       "      <td>0.869086</td>\n",
       "      <td>0.866411</td>\n",
       "      <td>12069</td>\n",
       "    </tr>\n",
       "    <tr>\n",
       "      <th>fbwx_w2v_linear_SVM</th>\n",
       "      <td>0.867346</td>\n",
       "      <td>0.798162</td>\n",
       "      <td>0.699374</td>\n",
       "      <td>0.745509</td>\n",
       "      <td>3353</td>\n",
       "      <td>0.889607</td>\n",
       "      <td>0.931964</td>\n",
       "      <td>0.910293</td>\n",
       "      <td>8716</td>\n",
       "      <td>0.843884</td>\n",
       "      <td>0.815669</td>\n",
       "      <td>0.827901</td>\n",
       "      <td>12069</td>\n",
       "      <td>0.864202</td>\n",
       "      <td>0.867346</td>\n",
       "      <td>0.864513</td>\n",
       "      <td>12069</td>\n",
       "    </tr>\n",
       "    <tr>\n",
       "      <th>fbwx_w2v_linear_SVM_naive_resampling</th>\n",
       "      <td>0.841163</td>\n",
       "      <td>0.666281</td>\n",
       "      <td>0.858038</td>\n",
       "      <td>0.750098</td>\n",
       "      <td>3353</td>\n",
       "      <td>0.938589</td>\n",
       "      <td>0.834672</td>\n",
       "      <td>0.883585</td>\n",
       "      <td>8716</td>\n",
       "      <td>0.802435</td>\n",
       "      <td>0.846355</td>\n",
       "      <td>0.816842</td>\n",
       "      <td>12069</td>\n",
       "      <td>0.862936</td>\n",
       "      <td>0.841163</td>\n",
       "      <td>0.846500</td>\n",
       "      <td>12069</td>\n",
       "    </tr>\n",
       "  </tbody>\n",
       "</table>\n",
       "</div>"
      ],
      "text/plain": [
       "                                      accuracy  precision    recall  f1-score  \\\n",
       "TF-IDF_CNN                            0.874669   0.756842  0.800905  0.778250   \n",
       "TF-IDF_CNN_naive_resampling           0.882455   0.824658  0.726395  0.772414   \n",
       "fbwx_w2v_LR                           0.869252   0.796409  0.706430  0.748726   \n",
       "fbwx_w2v_LR_naive_resampling          0.869086   0.793294  0.700336  0.743922   \n",
       "fbwx_w2v_linear_SVM                   0.867346   0.798162  0.699374  0.745509   \n",
       "fbwx_w2v_linear_SVM_naive_resampling  0.841163   0.666281  0.858038  0.750098   \n",
       "\n",
       "                                      support  precision    recall  f1-score  \\\n",
       "TF-IDF_CNN                               3315   0.922933  0.902592  0.912649   \n",
       "TF-IDF_CNN_naive_resampling              3315   0.900896  0.941532  0.920766   \n",
       "fbwx_w2v_LR                              3328   0.892838  0.931244  0.911636   \n",
       "fbwx_w2v_LR_naive_resampling             3277   0.892982  0.931984  0.912066   \n",
       "fbwx_w2v_linear_SVM                      3353   0.889607  0.931964  0.910293   \n",
       "fbwx_w2v_linear_SVM_naive_resampling     3353   0.938589  0.834672  0.883585   \n",
       "\n",
       "                                      support  precision    recall  f1-score  \\\n",
       "TF-IDF_CNN                               8757   0.839887  0.851749  0.845450   \n",
       "TF-IDF_CNN_naive_resampling              8757   0.862777  0.833964  0.846590   \n",
       "fbwx_w2v_LR                              8741   0.844623  0.818837  0.830181   \n",
       "fbwx_w2v_LR_naive_resampling             8792   0.843138  0.816160  0.827994   \n",
       "fbwx_w2v_linear_SVM                      8716   0.843884  0.815669  0.827901   \n",
       "fbwx_w2v_linear_SVM_naive_resampling     8716   0.802435  0.846355  0.816842   \n",
       "\n",
       "                                      support  precision    recall  f1-score  \\\n",
       "TF-IDF_CNN                              12072   0.877324  0.874669  0.875743   \n",
       "TF-IDF_CNN_naive_resampling             12072   0.879961  0.882455  0.880028   \n",
       "fbwx_w2v_LR                             12069   0.866248  0.869252  0.866714   \n",
       "fbwx_w2v_LR_naive_resampling            12069   0.865914  0.869086  0.866411   \n",
       "fbwx_w2v_linear_SVM                     12069   0.864202  0.867346  0.864513   \n",
       "fbwx_w2v_linear_SVM_naive_resampling    12069   0.862936  0.841163  0.846500   \n",
       "\n",
       "                                      support  \n",
       "TF-IDF_CNN                              12072  \n",
       "TF-IDF_CNN_naive_resampling             12072  \n",
       "fbwx_w2v_LR                             12069  \n",
       "fbwx_w2v_LR_naive_resampling            12069  \n",
       "fbwx_w2v_linear_SVM                     12069  \n",
       "fbwx_w2v_linear_SVM_naive_resampling    12069  "
      ]
     },
     "execution_count": 579,
     "metadata": {},
     "output_type": "execute_result"
    }
   ],
   "source": [
    "fbwx_w2v_linear_SVM_naive_resampling_performance = classification_report(test_y_svm, y_pred_svm,digits=4,output_dict=True)\n",
    "performance = fbwx_w2v_linear_SVM_naive_resampling_performance\n",
    "model_name = 'fbwx_w2v_linear_SVM_naive_resampling'\n",
    "performance_df = sklearn_perform(model_name,performance,performance_df)\n",
    "performance_df\n"
   ]
  },
  {
   "cell_type": "code",
   "execution_count": null,
   "metadata": {},
   "outputs": [],
   "source": []
  },
  {
   "cell_type": "code",
   "execution_count": null,
   "metadata": {},
   "outputs": [],
   "source": []
  },
  {
   "cell_type": "code",
   "execution_count": null,
   "metadata": {},
   "outputs": [],
   "source": []
  },
  {
   "cell_type": "markdown",
   "metadata": {},
   "source": [
    "### Model 3.3 现有样本训练Word2Vec + kernal_SVM"
   ]
  },
  {
   "cell_type": "code",
   "execution_count": 580,
   "metadata": {},
   "outputs": [],
   "source": [
    "from sklearn.svm import SVC"
   ]
  },
  {
   "cell_type": "code",
   "execution_count": null,
   "metadata": {},
   "outputs": [],
   "source": []
  },
  {
   "cell_type": "markdown",
   "metadata": {},
   "source": [
    "#### SVC(kernel = 'poly', C = 0.1)"
   ]
  },
  {
   "cell_type": "code",
   "execution_count": 581,
   "metadata": {},
   "outputs": [
    {
     "data": {
      "text/plain": [
       "SVC(C=0.1, kernel='poly')"
      ]
     },
     "execution_count": 581,
     "metadata": {},
     "output_type": "execute_result"
    }
   ],
   "source": [
    "kernal_svm = SVC(kernel = 'poly', C = 0.1)\n",
    "kernal_svm.fit(train_X_svm,train_y_svm)"
   ]
  },
  {
   "cell_type": "code",
   "execution_count": 582,
   "metadata": {},
   "outputs": [],
   "source": [
    "y_pred_svm = kernal_svm.predict(test_X_svm)"
   ]
  },
  {
   "cell_type": "code",
   "execution_count": 583,
   "metadata": {},
   "outputs": [
    {
     "name": "stdout",
     "output_type": "stream",
     "text": [
      "              precision    recall  f1-score   support\n",
      "\n",
      "           0     0.8517    0.9615    0.9033      8716\n",
      "           1     0.8493    0.5649    0.6785      3353\n",
      "\n",
      "    accuracy                         0.8513     12069\n",
      "   macro avg     0.8505    0.7632    0.7909     12069\n",
      "weighted avg     0.8510    0.8513    0.8408     12069\n",
      "\n"
     ]
    }
   ],
   "source": [
    "print(classification_report(test_y_svm, y_pred_svm,digits=4))"
   ]
  },
  {
   "cell_type": "code",
   "execution_count": 584,
   "metadata": {},
   "outputs": [
    {
     "data": {
      "image/png": "[encoded data removed]",
      "text/plain": [
       "<Figure size 432x288 with 1 Axes>"
      ]
     },
     "metadata": {
      "needs_background": "light"
     },
     "output_type": "display_data"
    }
   ],
   "source": [
    "mat = confusion_matrix( y_pred_svm,test_y_svm)\n",
    "sns.heatmap(mat, square=True, annot=True, cbar=False,fmt='.20g')\n",
    "plt.xlabel(\"Actual Result\")\n",
    "plt.ylabel(\"Predicted Result\")\n",
    "a, b = plt.ylim() \n",
    "a += 0.5 \n",
    "b -= 0.5 \n",
    "plt.ylim(a, b) \n",
    "plt.show() "
   ]
  },
  {
   "cell_type": "code",
   "execution_count": 585,
   "metadata": {},
   "outputs": [
    {
     "data": {
      "text/html": [
       "<div>\n",
       "<style scoped>\n",
       "    .dataframe tbody tr th:only-of-type {\n",
       "        vertical-align: middle;\n",
       "    }\n",
       "\n",
       "    .dataframe tbody tr th {\n",
       "        vertical-align: top;\n",
       "    }\n",
       "\n",
       "    .dataframe thead th {\n",
       "        text-align: right;\n",
       "    }\n",
       "</style>\n",
       "<table border=\"1\" class=\"dataframe\">\n",
       "  <thead>\n",
       "    <tr style=\"text-align: right;\">\n",
       "      <th></th>\n",
       "      <th>accuracy</th>\n",
       "      <th>precision</th>\n",
       "      <th>recall</th>\n",
       "      <th>f1-score</th>\n",
       "      <th>support</th>\n",
       "      <th>precision</th>\n",
       "      <th>recall</th>\n",
       "      <th>f1-score</th>\n",
       "      <th>support</th>\n",
       "      <th>precision</th>\n",
       "      <th>recall</th>\n",
       "      <th>f1-score</th>\n",
       "      <th>support</th>\n",
       "      <th>precision</th>\n",
       "      <th>recall</th>\n",
       "      <th>f1-score</th>\n",
       "      <th>support</th>\n",
       "    </tr>\n",
       "  </thead>\n",
       "  <tbody>\n",
       "    <tr>\n",
       "      <th>TF-IDF_CNN</th>\n",
       "      <td>0.874669</td>\n",
       "      <td>0.756842</td>\n",
       "      <td>0.800905</td>\n",
       "      <td>0.778250</td>\n",
       "      <td>3315</td>\n",
       "      <td>0.922933</td>\n",
       "      <td>0.902592</td>\n",
       "      <td>0.912649</td>\n",
       "      <td>8757</td>\n",
       "      <td>0.839887</td>\n",
       "      <td>0.851749</td>\n",
       "      <td>0.845450</td>\n",
       "      <td>12072</td>\n",
       "      <td>0.877324</td>\n",
       "      <td>0.874669</td>\n",
       "      <td>0.875743</td>\n",
       "      <td>12072</td>\n",
       "    </tr>\n",
       "    <tr>\n",
       "      <th>TF-IDF_CNN_naive_resampling</th>\n",
       "      <td>0.882455</td>\n",
       "      <td>0.824658</td>\n",
       "      <td>0.726395</td>\n",
       "      <td>0.772414</td>\n",
       "      <td>3315</td>\n",
       "      <td>0.900896</td>\n",
       "      <td>0.941532</td>\n",
       "      <td>0.920766</td>\n",
       "      <td>8757</td>\n",
       "      <td>0.862777</td>\n",
       "      <td>0.833964</td>\n",
       "      <td>0.846590</td>\n",
       "      <td>12072</td>\n",
       "      <td>0.879961</td>\n",
       "      <td>0.882455</td>\n",
       "      <td>0.880028</td>\n",
       "      <td>12072</td>\n",
       "    </tr>\n",
       "    <tr>\n",
       "      <th>fbwx_w2v_LR</th>\n",
       "      <td>0.869252</td>\n",
       "      <td>0.796409</td>\n",
       "      <td>0.706430</td>\n",
       "      <td>0.748726</td>\n",
       "      <td>3328</td>\n",
       "      <td>0.892838</td>\n",
       "      <td>0.931244</td>\n",
       "      <td>0.911636</td>\n",
       "      <td>8741</td>\n",
       "      <td>0.844623</td>\n",
       "      <td>0.818837</td>\n",
       "      <td>0.830181</td>\n",
       "      <td>12069</td>\n",
       "      <td>0.866248</td>\n",
       "      <td>0.869252</td>\n",
       "      <td>0.866714</td>\n",
       "      <td>12069</td>\n",
       "    </tr>\n",
       "    <tr>\n",
       "      <th>fbwx_w2v_LR_naive_resampling</th>\n",
       "      <td>0.869086</td>\n",
       "      <td>0.793294</td>\n",
       "      <td>0.700336</td>\n",
       "      <td>0.743922</td>\n",
       "      <td>3277</td>\n",
       "      <td>0.892982</td>\n",
       "      <td>0.931984</td>\n",
       "      <td>0.912066</td>\n",
       "      <td>8792</td>\n",
       "      <td>0.843138</td>\n",
       "      <td>0.816160</td>\n",
       "      <td>0.827994</td>\n",
       "      <td>12069</td>\n",
       "      <td>0.865914</td>\n",
       "      <td>0.869086</td>\n",
       "      <td>0.866411</td>\n",
       "      <td>12069</td>\n",
       "    </tr>\n",
       "    <tr>\n",
       "      <th>fbwx_w2v_linear_SVM</th>\n",
       "      <td>0.867346</td>\n",
       "      <td>0.798162</td>\n",
       "      <td>0.699374</td>\n",
       "      <td>0.745509</td>\n",
       "      <td>3353</td>\n",
       "      <td>0.889607</td>\n",
       "      <td>0.931964</td>\n",
       "      <td>0.910293</td>\n",
       "      <td>8716</td>\n",
       "      <td>0.843884</td>\n",
       "      <td>0.815669</td>\n",
       "      <td>0.827901</td>\n",
       "      <td>12069</td>\n",
       "      <td>0.864202</td>\n",
       "      <td>0.867346</td>\n",
       "      <td>0.864513</td>\n",
       "      <td>12069</td>\n",
       "    </tr>\n",
       "    <tr>\n",
       "      <th>fbwx_w2v_linear_SVM_naive_resampling</th>\n",
       "      <td>0.841163</td>\n",
       "      <td>0.666281</td>\n",
       "      <td>0.858038</td>\n",
       "      <td>0.750098</td>\n",
       "      <td>3353</td>\n",
       "      <td>0.938589</td>\n",
       "      <td>0.834672</td>\n",
       "      <td>0.883585</td>\n",
       "      <td>8716</td>\n",
       "      <td>0.802435</td>\n",
       "      <td>0.846355</td>\n",
       "      <td>0.816842</td>\n",
       "      <td>12069</td>\n",
       "      <td>0.862936</td>\n",
       "      <td>0.841163</td>\n",
       "      <td>0.846500</td>\n",
       "      <td>12069</td>\n",
       "    </tr>\n",
       "    <tr>\n",
       "      <th>fbwx_w2v_poly_SVM C=0.1</th>\n",
       "      <td>0.851272</td>\n",
       "      <td>0.849327</td>\n",
       "      <td>0.564867</td>\n",
       "      <td>0.678488</td>\n",
       "      <td>3353</td>\n",
       "      <td>0.851713</td>\n",
       "      <td>0.961450</td>\n",
       "      <td>0.903261</td>\n",
       "      <td>8716</td>\n",
       "      <td>0.850520</td>\n",
       "      <td>0.763159</td>\n",
       "      <td>0.790874</td>\n",
       "      <td>12069</td>\n",
       "      <td>0.851050</td>\n",
       "      <td>0.851272</td>\n",
       "      <td>0.840815</td>\n",
       "      <td>12069</td>\n",
       "    </tr>\n",
       "  </tbody>\n",
       "</table>\n",
       "</div>"
      ],
      "text/plain": [
       "                                      accuracy  precision    recall  f1-score  \\\n",
       "TF-IDF_CNN                            0.874669   0.756842  0.800905  0.778250   \n",
       "TF-IDF_CNN_naive_resampling           0.882455   0.824658  0.726395  0.772414   \n",
       "fbwx_w2v_LR                           0.869252   0.796409  0.706430  0.748726   \n",
       "fbwx_w2v_LR_naive_resampling          0.869086   0.793294  0.700336  0.743922   \n",
       "fbwx_w2v_linear_SVM                   0.867346   0.798162  0.699374  0.745509   \n",
       "fbwx_w2v_linear_SVM_naive_resampling  0.841163   0.666281  0.858038  0.750098   \n",
       "fbwx_w2v_poly_SVM C=0.1               0.851272   0.849327  0.564867  0.678488   \n",
       "\n",
       "                                      support  precision    recall  f1-score  \\\n",
       "TF-IDF_CNN                               3315   0.922933  0.902592  0.912649   \n",
       "TF-IDF_CNN_naive_resampling              3315   0.900896  0.941532  0.920766   \n",
       "fbwx_w2v_LR                              3328   0.892838  0.931244  0.911636   \n",
       "fbwx_w2v_LR_naive_resampling             3277   0.892982  0.931984  0.912066   \n",
       "fbwx_w2v_linear_SVM                      3353   0.889607  0.931964  0.910293   \n",
       "fbwx_w2v_linear_SVM_naive_resampling     3353   0.938589  0.834672  0.883585   \n",
       "fbwx_w2v_poly_SVM C=0.1                  3353   0.851713  0.961450  0.903261   \n",
       "\n",
       "                                      support  precision    recall  f1-score  \\\n",
       "TF-IDF_CNN                               8757   0.839887  0.851749  0.845450   \n",
       "TF-IDF_CNN_naive_resampling              8757   0.862777  0.833964  0.846590   \n",
       "fbwx_w2v_LR                              8741   0.844623  0.818837  0.830181   \n",
       "fbwx_w2v_LR_naive_resampling             8792   0.843138  0.816160  0.827994   \n",
       "fbwx_w2v_linear_SVM                      8716   0.843884  0.815669  0.827901   \n",
       "fbwx_w2v_linear_SVM_naive_resampling     8716   0.802435  0.846355  0.816842   \n",
       "fbwx_w2v_poly_SVM C=0.1                  8716   0.850520  0.763159  0.790874   \n",
       "\n",
       "                                      support  precision    recall  f1-score  \\\n",
       "TF-IDF_CNN                              12072   0.877324  0.874669  0.875743   \n",
       "TF-IDF_CNN_naive_resampling             12072   0.879961  0.882455  0.880028   \n",
       "fbwx_w2v_LR                             12069   0.866248  0.869252  0.866714   \n",
       "fbwx_w2v_LR_naive_resampling            12069   0.865914  0.869086  0.866411   \n",
       "fbwx_w2v_linear_SVM                     12069   0.864202  0.867346  0.864513   \n",
       "fbwx_w2v_linear_SVM_naive_resampling    12069   0.862936  0.841163  0.846500   \n",
       "fbwx_w2v_poly_SVM C=0.1                 12069   0.851050  0.851272  0.840815   \n",
       "\n",
       "                                      support  \n",
       "TF-IDF_CNN                              12072  \n",
       "TF-IDF_CNN_naive_resampling             12072  \n",
       "fbwx_w2v_LR                             12069  \n",
       "fbwx_w2v_LR_naive_resampling            12069  \n",
       "fbwx_w2v_linear_SVM                     12069  \n",
       "fbwx_w2v_linear_SVM_naive_resampling    12069  \n",
       "fbwx_w2v_poly_SVM C=0.1                 12069  "
      ]
     },
     "execution_count": 585,
     "metadata": {},
     "output_type": "execute_result"
    }
   ],
   "source": [
    "fbwx_w2v_poly_SVM_C0_1_performance = classification_report(test_y_svm, y_pred_svm,digits=4,output_dict=True)\n",
    "performance = fbwx_w2v_poly_SVM_C0_1_performance\n",
    "model_name = 'fbwx_w2v_poly_SVM C=0.1'\n",
    "performance_df = sklearn_perform(model_name,performance,performance_df)\n",
    "performance_df\n"
   ]
  },
  {
   "cell_type": "code",
   "execution_count": null,
   "metadata": {},
   "outputs": [],
   "source": []
  },
  {
   "cell_type": "code",
   "execution_count": null,
   "metadata": {},
   "outputs": [],
   "source": []
  },
  {
   "cell_type": "markdown",
   "metadata": {},
   "source": [
    "#### kernal_svm = SVC(kernel = 'poly', C = 1)"
   ]
  },
  {
   "cell_type": "code",
   "execution_count": 587,
   "metadata": {},
   "outputs": [
    {
     "data": {
      "text/plain": [
       "SVC(C=1, kernel='poly')"
      ]
     },
     "execution_count": 587,
     "metadata": {},
     "output_type": "execute_result"
    }
   ],
   "source": [
    "kernal_svm = SVC(kernel = 'poly', C = 1)\n",
    "kernal_svm.fit(train_X_svm,train_y_svm)"
   ]
  },
  {
   "cell_type": "code",
   "execution_count": 588,
   "metadata": {},
   "outputs": [],
   "source": [
    "y_pred_svm = kernal_svm.predict(test_X_svm)"
   ]
  },
  {
   "cell_type": "code",
   "execution_count": 589,
   "metadata": {},
   "outputs": [
    {
     "name": "stdout",
     "output_type": "stream",
     "text": [
      "              precision    recall  f1-score   support\n",
      "\n",
      "           0     0.8890    0.9469    0.9171      8716\n",
      "           1     0.8338    0.6928    0.7568      3353\n",
      "\n",
      "    accuracy                         0.8763     12069\n",
      "   macro avg     0.8614    0.8198    0.8369     12069\n",
      "weighted avg     0.8737    0.8763    0.8725     12069\n",
      "\n"
     ]
    }
   ],
   "source": [
    "print(classification_report(test_y_svm, y_pred_svm,digits=4))"
   ]
  },
  {
   "cell_type": "code",
   "execution_count": 590,
   "metadata": {},
   "outputs": [
    {
     "data": {
      "image/png": "[encoded data removed]",
      "text/plain": [
       "<Figure size 432x288 with 1 Axes>"
      ]
     },
     "metadata": {
      "needs_background": "light"
     },
     "output_type": "display_data"
    }
   ],
   "source": [
    "mat = confusion_matrix( y_pred_svm,test_y_svm)\n",
    "sns.heatmap(mat, square=True, annot=True, cbar=False,fmt='.20g')\n",
    "plt.xlabel(\"Actual Result\")\n",
    "plt.ylabel(\"Predicted Result\")\n",
    "a, b = plt.ylim() \n",
    "a += 0.5 \n",
    "b -= 0.5 \n",
    "plt.ylim(a, b) \n",
    "plt.show() "
   ]
  },
  {
   "cell_type": "code",
   "execution_count": 591,
   "metadata": {},
   "outputs": [
    {
     "data": {
      "text/html": [
       "<div>\n",
       "<style scoped>\n",
       "    .dataframe tbody tr th:only-of-type {\n",
       "        vertical-align: middle;\n",
       "    }\n",
       "\n",
       "    .dataframe tbody tr th {\n",
       "        vertical-align: top;\n",
       "    }\n",
       "\n",
       "    .dataframe thead th {\n",
       "        text-align: right;\n",
       "    }\n",
       "</style>\n",
       "<table border=\"1\" class=\"dataframe\">\n",
       "  <thead>\n",
       "    <tr style=\"text-align: right;\">\n",
       "      <th></th>\n",
       "      <th>accuracy</th>\n",
       "      <th>precision</th>\n",
       "      <th>recall</th>\n",
       "      <th>f1-score</th>\n",
       "      <th>support</th>\n",
       "      <th>precision</th>\n",
       "      <th>recall</th>\n",
       "      <th>f1-score</th>\n",
       "      <th>support</th>\n",
       "      <th>precision</th>\n",
       "      <th>recall</th>\n",
       "      <th>f1-score</th>\n",
       "      <th>support</th>\n",
       "      <th>precision</th>\n",
       "      <th>recall</th>\n",
       "      <th>f1-score</th>\n",
       "      <th>support</th>\n",
       "    </tr>\n",
       "  </thead>\n",
       "  <tbody>\n",
       "    <tr>\n",
       "      <th>TF-IDF_CNN</th>\n",
       "      <td>0.874669</td>\n",
       "      <td>0.756842</td>\n",
       "      <td>0.800905</td>\n",
       "      <td>0.778250</td>\n",
       "      <td>3315</td>\n",
       "      <td>0.922933</td>\n",
       "      <td>0.902592</td>\n",
       "      <td>0.912649</td>\n",
       "      <td>8757</td>\n",
       "      <td>0.839887</td>\n",
       "      <td>0.851749</td>\n",
       "      <td>0.845450</td>\n",
       "      <td>12072</td>\n",
       "      <td>0.877324</td>\n",
       "      <td>0.874669</td>\n",
       "      <td>0.875743</td>\n",
       "      <td>12072</td>\n",
       "    </tr>\n",
       "    <tr>\n",
       "      <th>TF-IDF_CNN_naive_resampling</th>\n",
       "      <td>0.882455</td>\n",
       "      <td>0.824658</td>\n",
       "      <td>0.726395</td>\n",
       "      <td>0.772414</td>\n",
       "      <td>3315</td>\n",
       "      <td>0.900896</td>\n",
       "      <td>0.941532</td>\n",
       "      <td>0.920766</td>\n",
       "      <td>8757</td>\n",
       "      <td>0.862777</td>\n",
       "      <td>0.833964</td>\n",
       "      <td>0.846590</td>\n",
       "      <td>12072</td>\n",
       "      <td>0.879961</td>\n",
       "      <td>0.882455</td>\n",
       "      <td>0.880028</td>\n",
       "      <td>12072</td>\n",
       "    </tr>\n",
       "    <tr>\n",
       "      <th>fbwx_w2v_LR</th>\n",
       "      <td>0.869252</td>\n",
       "      <td>0.796409</td>\n",
       "      <td>0.706430</td>\n",
       "      <td>0.748726</td>\n",
       "      <td>3328</td>\n",
       "      <td>0.892838</td>\n",
       "      <td>0.931244</td>\n",
       "      <td>0.911636</td>\n",
       "      <td>8741</td>\n",
       "      <td>0.844623</td>\n",
       "      <td>0.818837</td>\n",
       "      <td>0.830181</td>\n",
       "      <td>12069</td>\n",
       "      <td>0.866248</td>\n",
       "      <td>0.869252</td>\n",
       "      <td>0.866714</td>\n",
       "      <td>12069</td>\n",
       "    </tr>\n",
       "    <tr>\n",
       "      <th>fbwx_w2v_LR_naive_resampling</th>\n",
       "      <td>0.869086</td>\n",
       "      <td>0.793294</td>\n",
       "      <td>0.700336</td>\n",
       "      <td>0.743922</td>\n",
       "      <td>3277</td>\n",
       "      <td>0.892982</td>\n",
       "      <td>0.931984</td>\n",
       "      <td>0.912066</td>\n",
       "      <td>8792</td>\n",
       "      <td>0.843138</td>\n",
       "      <td>0.816160</td>\n",
       "      <td>0.827994</td>\n",
       "      <td>12069</td>\n",
       "      <td>0.865914</td>\n",
       "      <td>0.869086</td>\n",
       "      <td>0.866411</td>\n",
       "      <td>12069</td>\n",
       "    </tr>\n",
       "    <tr>\n",
       "      <th>fbwx_w2v_linear_SVM</th>\n",
       "      <td>0.867346</td>\n",
       "      <td>0.798162</td>\n",
       "      <td>0.699374</td>\n",
       "      <td>0.745509</td>\n",
       "      <td>3353</td>\n",
       "      <td>0.889607</td>\n",
       "      <td>0.931964</td>\n",
       "      <td>0.910293</td>\n",
       "      <td>8716</td>\n",
       "      <td>0.843884</td>\n",
       "      <td>0.815669</td>\n",
       "      <td>0.827901</td>\n",
       "      <td>12069</td>\n",
       "      <td>0.864202</td>\n",
       "      <td>0.867346</td>\n",
       "      <td>0.864513</td>\n",
       "      <td>12069</td>\n",
       "    </tr>\n",
       "    <tr>\n",
       "      <th>fbwx_w2v_linear_SVM_naive_resampling</th>\n",
       "      <td>0.841163</td>\n",
       "      <td>0.666281</td>\n",
       "      <td>0.858038</td>\n",
       "      <td>0.750098</td>\n",
       "      <td>3353</td>\n",
       "      <td>0.938589</td>\n",
       "      <td>0.834672</td>\n",
       "      <td>0.883585</td>\n",
       "      <td>8716</td>\n",
       "      <td>0.802435</td>\n",
       "      <td>0.846355</td>\n",
       "      <td>0.816842</td>\n",
       "      <td>12069</td>\n",
       "      <td>0.862936</td>\n",
       "      <td>0.841163</td>\n",
       "      <td>0.846500</td>\n",
       "      <td>12069</td>\n",
       "    </tr>\n",
       "    <tr>\n",
       "      <th>fbwx_w2v_poly_SVM C=0.1</th>\n",
       "      <td>0.851272</td>\n",
       "      <td>0.849327</td>\n",
       "      <td>0.564867</td>\n",
       "      <td>0.678488</td>\n",
       "      <td>3353</td>\n",
       "      <td>0.851713</td>\n",
       "      <td>0.961450</td>\n",
       "      <td>0.903261</td>\n",
       "      <td>8716</td>\n",
       "      <td>0.850520</td>\n",
       "      <td>0.763159</td>\n",
       "      <td>0.790874</td>\n",
       "      <td>12069</td>\n",
       "      <td>0.851050</td>\n",
       "      <td>0.851272</td>\n",
       "      <td>0.840815</td>\n",
       "      <td>12069</td>\n",
       "    </tr>\n",
       "    <tr>\n",
       "      <th>fbwx_w2v_poly_SVM C=1</th>\n",
       "      <td>0.876295</td>\n",
       "      <td>0.833812</td>\n",
       "      <td>0.692812</td>\n",
       "      <td>0.756801</td>\n",
       "      <td>3353</td>\n",
       "      <td>0.889044</td>\n",
       "      <td>0.946879</td>\n",
       "      <td>0.917051</td>\n",
       "      <td>8716</td>\n",
       "      <td>0.861428</td>\n",
       "      <td>0.819846</td>\n",
       "      <td>0.836926</td>\n",
       "      <td>12069</td>\n",
       "      <td>0.873700</td>\n",
       "      <td>0.876295</td>\n",
       "      <td>0.872530</td>\n",
       "      <td>12069</td>\n",
       "    </tr>\n",
       "  </tbody>\n",
       "</table>\n",
       "</div>"
      ],
      "text/plain": [
       "                                      accuracy  precision    recall  f1-score  \\\n",
       "TF-IDF_CNN                            0.874669   0.756842  0.800905  0.778250   \n",
       "TF-IDF_CNN_naive_resampling           0.882455   0.824658  0.726395  0.772414   \n",
       "fbwx_w2v_LR                           0.869252   0.796409  0.706430  0.748726   \n",
       "fbwx_w2v_LR_naive_resampling          0.869086   0.793294  0.700336  0.743922   \n",
       "fbwx_w2v_linear_SVM                   0.867346   0.798162  0.699374  0.745509   \n",
       "fbwx_w2v_linear_SVM_naive_resampling  0.841163   0.666281  0.858038  0.750098   \n",
       "fbwx_w2v_poly_SVM C=0.1               0.851272   0.849327  0.564867  0.678488   \n",
       "fbwx_w2v_poly_SVM C=1                 0.876295   0.833812  0.692812  0.756801   \n",
       "\n",
       "                                      support  precision    recall  f1-score  \\\n",
       "TF-IDF_CNN                               3315   0.922933  0.902592  0.912649   \n",
       "TF-IDF_CNN_naive_resampling              3315   0.900896  0.941532  0.920766   \n",
       "fbwx_w2v_LR                              3328   0.892838  0.931244  0.911636   \n",
       "fbwx_w2v_LR_naive_resampling             3277   0.892982  0.931984  0.912066   \n",
       "fbwx_w2v_linear_SVM                      3353   0.889607  0.931964  0.910293   \n",
       "fbwx_w2v_linear_SVM_naive_resampling     3353   0.938589  0.834672  0.883585   \n",
       "fbwx_w2v_poly_SVM C=0.1                  3353   0.851713  0.961450  0.903261   \n",
       "fbwx_w2v_poly_SVM C=1                    3353   0.889044  0.946879  0.917051   \n",
       "\n",
       "                                      support  precision    recall  f1-score  \\\n",
       "TF-IDF_CNN                               8757   0.839887  0.851749  0.845450   \n",
       "TF-IDF_CNN_naive_resampling              8757   0.862777  0.833964  0.846590   \n",
       "fbwx_w2v_LR                              8741   0.844623  0.818837  0.830181   \n",
       "fbwx_w2v_LR_naive_resampling             8792   0.843138  0.816160  0.827994   \n",
       "fbwx_w2v_linear_SVM                      8716   0.843884  0.815669  0.827901   \n",
       "fbwx_w2v_linear_SVM_naive_resampling     8716   0.802435  0.846355  0.816842   \n",
       "fbwx_w2v_poly_SVM C=0.1                  8716   0.850520  0.763159  0.790874   \n",
       "fbwx_w2v_poly_SVM C=1                    8716   0.861428  0.819846  0.836926   \n",
       "\n",
       "                                      support  precision    recall  f1-score  \\\n",
       "TF-IDF_CNN                              12072   0.877324  0.874669  0.875743   \n",
       "TF-IDF_CNN_naive_resampling             12072   0.879961  0.882455  0.880028   \n",
       "fbwx_w2v_LR                             12069   0.866248  0.869252  0.866714   \n",
       "fbwx_w2v_LR_naive_resampling            12069   0.865914  0.869086  0.866411   \n",
       "fbwx_w2v_linear_SVM                     12069   0.864202  0.867346  0.864513   \n",
       "fbwx_w2v_linear_SVM_naive_resampling    12069   0.862936  0.841163  0.846500   \n",
       "fbwx_w2v_poly_SVM C=0.1                 12069   0.851050  0.851272  0.840815   \n",
       "fbwx_w2v_poly_SVM C=1                   12069   0.873700  0.876295  0.872530   \n",
       "\n",
       "                                      support  \n",
       "TF-IDF_CNN                              12072  \n",
       "TF-IDF_CNN_naive_resampling             12072  \n",
       "fbwx_w2v_LR                             12069  \n",
       "fbwx_w2v_LR_naive_resampling            12069  \n",
       "fbwx_w2v_linear_SVM                     12069  \n",
       "fbwx_w2v_linear_SVM_naive_resampling    12069  \n",
       "fbwx_w2v_poly_SVM C=0.1                 12069  \n",
       "fbwx_w2v_poly_SVM C=1                   12069  "
      ]
     },
     "execution_count": 591,
     "metadata": {},
     "output_type": "execute_result"
    }
   ],
   "source": [
    "fbwx_w2v_poly_SVM_C1_performance = classification_report(test_y_svm, y_pred_svm,digits=4,output_dict=True)\n",
    "performance = fbwx_w2v_poly_SVM_C1_performance\n",
    "model_name = 'fbwx_w2v_poly_SVM C=1'\n",
    "performance_df = sklearn_perform(model_name,performance,performance_df)\n",
    "performance_df"
   ]
  },
  {
   "cell_type": "code",
   "execution_count": null,
   "metadata": {},
   "outputs": [],
   "source": []
  },
  {
   "cell_type": "code",
   "execution_count": null,
   "metadata": {},
   "outputs": [],
   "source": []
  },
  {
   "cell_type": "markdown",
   "metadata": {},
   "source": [
    "### Model 3.4 现有样本训练Word2Vec + kernal_SVM + Naive Resampling\n",
    "* 可能是做了不平衡处理的原因，模型更偏向于预测样本为负类。不过也不算一件坏事。recall得以提升，代价是降低的precision。模型更为贪婪。\n",
    "    * recall高：宁错杀不放过\n",
    "    * precision高：不冤枉好人\n",
    "* 样本增加 调整参数C的值。C = 1 的表现由于 C = 0.1"
   ]
  },
  {
   "cell_type": "code",
   "execution_count": null,
   "metadata": {},
   "outputs": [],
   "source": []
  },
  {
   "cell_type": "code",
   "execution_count": 592,
   "metadata": {},
   "outputs": [],
   "source": [
    "X_resampling = np.array(train_X_svm)\n",
    "y_resampling = train_y_svm\n",
    "ros = RandomOverSampler(random_state=0)\n",
    "X_resampled_naive, y_resampled_naive = ros.fit_resample(X_resampling, y_resampling)\n"
   ]
  },
  {
   "cell_type": "code",
   "execution_count": null,
   "metadata": {},
   "outputs": [],
   "source": []
  },
  {
   "cell_type": "markdown",
   "metadata": {},
   "source": [
    "#### kernal_svm = SVC(kernel = 'poly', C = 0.1)"
   ]
  },
  {
   "cell_type": "code",
   "execution_count": 593,
   "metadata": {},
   "outputs": [
    {
     "data": {
      "text/plain": [
       "SVC(C=0.1, kernel='poly')"
      ]
     },
     "execution_count": 593,
     "metadata": {},
     "output_type": "execute_result"
    }
   ],
   "source": [
    "kernal_svm = SVC(kernel = 'poly', C = 0.1)\n",
    "kernal_svm.fit(X_resampled_naive,y_resampled_naive)"
   ]
  },
  {
   "cell_type": "code",
   "execution_count": 594,
   "metadata": {},
   "outputs": [],
   "source": [
    "y_pred_svm = kernal_svm.predict(test_X_svm)"
   ]
  },
  {
   "cell_type": "code",
   "execution_count": 595,
   "metadata": {},
   "outputs": [
    {
     "name": "stdout",
     "output_type": "stream",
     "text": [
      "              precision    recall  f1-score   support\n",
      "\n",
      "           0     0.9406    0.8341    0.8842      8716\n",
      "           1     0.6668    0.8631    0.7524      3353\n",
      "\n",
      "    accuracy                         0.8422     12069\n",
      "   macro avg     0.8037    0.8486    0.8183     12069\n",
      "weighted avg     0.8645    0.8422    0.8475     12069\n",
      "\n"
     ]
    }
   ],
   "source": [
    "print(classification_report(test_y_svm, y_pred_svm,digits=4))"
   ]
  },
  {
   "cell_type": "code",
   "execution_count": 596,
   "metadata": {},
   "outputs": [
    {
     "data": {
      "image/png": "[encoded data removed]",
      "text/plain": [
       "<Figure size 432x288 with 1 Axes>"
      ]
     },
     "metadata": {
      "needs_background": "light"
     },
     "output_type": "display_data"
    }
   ],
   "source": [
    "mat = confusion_matrix( y_pred_svm,test_y_svm)\n",
    "sns.heatmap(mat, square=True, annot=True, cbar=False,fmt='.20g')\n",
    "plt.xlabel(\"Actual Result\")\n",
    "plt.ylabel(\"Predicted Result\")\n",
    "a, b = plt.ylim()\n",
    "a += 0.5 \n",
    "b -= 0.5 \n",
    "plt.ylim(a, b)\n",
    "plt.show()"
   ]
  },
  {
   "cell_type": "code",
   "execution_count": 597,
   "metadata": {},
   "outputs": [
    {
     "data": {
      "text/html": [
       "<div>\n",
       "<style scoped>\n",
       "    .dataframe tbody tr th:only-of-type {\n",
       "        vertical-align: middle;\n",
       "    }\n",
       "\n",
       "    .dataframe tbody tr th {\n",
       "        vertical-align: top;\n",
       "    }\n",
       "\n",
       "    .dataframe thead th {\n",
       "        text-align: right;\n",
       "    }\n",
       "</style>\n",
       "<table border=\"1\" class=\"dataframe\">\n",
       "  <thead>\n",
       "    <tr style=\"text-align: right;\">\n",
       "      <th></th>\n",
       "      <th>accuracy</th>\n",
       "      <th>precision</th>\n",
       "      <th>recall</th>\n",
       "      <th>f1-score</th>\n",
       "      <th>support</th>\n",
       "      <th>precision</th>\n",
       "      <th>recall</th>\n",
       "      <th>f1-score</th>\n",
       "      <th>support</th>\n",
       "      <th>precision</th>\n",
       "      <th>recall</th>\n",
       "      <th>f1-score</th>\n",
       "      <th>support</th>\n",
       "      <th>precision</th>\n",
       "      <th>recall</th>\n",
       "      <th>f1-score</th>\n",
       "      <th>support</th>\n",
       "    </tr>\n",
       "  </thead>\n",
       "  <tbody>\n",
       "    <tr>\n",
       "      <th>TF-IDF_CNN</th>\n",
       "      <td>0.874669</td>\n",
       "      <td>0.756842</td>\n",
       "      <td>0.800905</td>\n",
       "      <td>0.778250</td>\n",
       "      <td>3315</td>\n",
       "      <td>0.922933</td>\n",
       "      <td>0.902592</td>\n",
       "      <td>0.912649</td>\n",
       "      <td>8757</td>\n",
       "      <td>0.839887</td>\n",
       "      <td>0.851749</td>\n",
       "      <td>0.845450</td>\n",
       "      <td>12072</td>\n",
       "      <td>0.877324</td>\n",
       "      <td>0.874669</td>\n",
       "      <td>0.875743</td>\n",
       "      <td>12072</td>\n",
       "    </tr>\n",
       "    <tr>\n",
       "      <th>TF-IDF_CNN_naive_resampling</th>\n",
       "      <td>0.882455</td>\n",
       "      <td>0.824658</td>\n",
       "      <td>0.726395</td>\n",
       "      <td>0.772414</td>\n",
       "      <td>3315</td>\n",
       "      <td>0.900896</td>\n",
       "      <td>0.941532</td>\n",
       "      <td>0.920766</td>\n",
       "      <td>8757</td>\n",
       "      <td>0.862777</td>\n",
       "      <td>0.833964</td>\n",
       "      <td>0.846590</td>\n",
       "      <td>12072</td>\n",
       "      <td>0.879961</td>\n",
       "      <td>0.882455</td>\n",
       "      <td>0.880028</td>\n",
       "      <td>12072</td>\n",
       "    </tr>\n",
       "    <tr>\n",
       "      <th>fbwx_w2v_LR</th>\n",
       "      <td>0.869252</td>\n",
       "      <td>0.796409</td>\n",
       "      <td>0.706430</td>\n",
       "      <td>0.748726</td>\n",
       "      <td>3328</td>\n",
       "      <td>0.892838</td>\n",
       "      <td>0.931244</td>\n",
       "      <td>0.911636</td>\n",
       "      <td>8741</td>\n",
       "      <td>0.844623</td>\n",
       "      <td>0.818837</td>\n",
       "      <td>0.830181</td>\n",
       "      <td>12069</td>\n",
       "      <td>0.866248</td>\n",
       "      <td>0.869252</td>\n",
       "      <td>0.866714</td>\n",
       "      <td>12069</td>\n",
       "    </tr>\n",
       "    <tr>\n",
       "      <th>fbwx_w2v_LR_naive_resampling</th>\n",
       "      <td>0.869086</td>\n",
       "      <td>0.793294</td>\n",
       "      <td>0.700336</td>\n",
       "      <td>0.743922</td>\n",
       "      <td>3277</td>\n",
       "      <td>0.892982</td>\n",
       "      <td>0.931984</td>\n",
       "      <td>0.912066</td>\n",
       "      <td>8792</td>\n",
       "      <td>0.843138</td>\n",
       "      <td>0.816160</td>\n",
       "      <td>0.827994</td>\n",
       "      <td>12069</td>\n",
       "      <td>0.865914</td>\n",
       "      <td>0.869086</td>\n",
       "      <td>0.866411</td>\n",
       "      <td>12069</td>\n",
       "    </tr>\n",
       "    <tr>\n",
       "      <th>fbwx_w2v_linear_SVM</th>\n",
       "      <td>0.867346</td>\n",
       "      <td>0.798162</td>\n",
       "      <td>0.699374</td>\n",
       "      <td>0.745509</td>\n",
       "      <td>3353</td>\n",
       "      <td>0.889607</td>\n",
       "      <td>0.931964</td>\n",
       "      <td>0.910293</td>\n",
       "      <td>8716</td>\n",
       "      <td>0.843884</td>\n",
       "      <td>0.815669</td>\n",
       "      <td>0.827901</td>\n",
       "      <td>12069</td>\n",
       "      <td>0.864202</td>\n",
       "      <td>0.867346</td>\n",
       "      <td>0.864513</td>\n",
       "      <td>12069</td>\n",
       "    </tr>\n",
       "    <tr>\n",
       "      <th>fbwx_w2v_linear_SVM_naive_resampling</th>\n",
       "      <td>0.841163</td>\n",
       "      <td>0.666281</td>\n",
       "      <td>0.858038</td>\n",
       "      <td>0.750098</td>\n",
       "      <td>3353</td>\n",
       "      <td>0.938589</td>\n",
       "      <td>0.834672</td>\n",
       "      <td>0.883585</td>\n",
       "      <td>8716</td>\n",
       "      <td>0.802435</td>\n",
       "      <td>0.846355</td>\n",
       "      <td>0.816842</td>\n",
       "      <td>12069</td>\n",
       "      <td>0.862936</td>\n",
       "      <td>0.841163</td>\n",
       "      <td>0.846500</td>\n",
       "      <td>12069</td>\n",
       "    </tr>\n",
       "    <tr>\n",
       "      <th>fbwx_w2v_poly_SVM C=0.1</th>\n",
       "      <td>0.851272</td>\n",
       "      <td>0.849327</td>\n",
       "      <td>0.564867</td>\n",
       "      <td>0.678488</td>\n",
       "      <td>3353</td>\n",
       "      <td>0.851713</td>\n",
       "      <td>0.961450</td>\n",
       "      <td>0.903261</td>\n",
       "      <td>8716</td>\n",
       "      <td>0.850520</td>\n",
       "      <td>0.763159</td>\n",
       "      <td>0.790874</td>\n",
       "      <td>12069</td>\n",
       "      <td>0.851050</td>\n",
       "      <td>0.851272</td>\n",
       "      <td>0.840815</td>\n",
       "      <td>12069</td>\n",
       "    </tr>\n",
       "    <tr>\n",
       "      <th>fbwx_w2v_poly_SVM C=1</th>\n",
       "      <td>0.876295</td>\n",
       "      <td>0.833812</td>\n",
       "      <td>0.692812</td>\n",
       "      <td>0.756801</td>\n",
       "      <td>3353</td>\n",
       "      <td>0.889044</td>\n",
       "      <td>0.946879</td>\n",
       "      <td>0.917051</td>\n",
       "      <td>8716</td>\n",
       "      <td>0.861428</td>\n",
       "      <td>0.819846</td>\n",
       "      <td>0.836926</td>\n",
       "      <td>12069</td>\n",
       "      <td>0.873700</td>\n",
       "      <td>0.876295</td>\n",
       "      <td>0.872530</td>\n",
       "      <td>12069</td>\n",
       "    </tr>\n",
       "    <tr>\n",
       "      <th>fbwx_w2v_poly_SVM(C=0.1)_naive_resampling</th>\n",
       "      <td>0.842158</td>\n",
       "      <td>0.666820</td>\n",
       "      <td>0.863108</td>\n",
       "      <td>0.752372</td>\n",
       "      <td>3353</td>\n",
       "      <td>0.940613</td>\n",
       "      <td>0.834098</td>\n",
       "      <td>0.884159</td>\n",
       "      <td>8716</td>\n",
       "      <td>0.803717</td>\n",
       "      <td>0.848603</td>\n",
       "      <td>0.818266</td>\n",
       "      <td>12069</td>\n",
       "      <td>0.864548</td>\n",
       "      <td>0.842158</td>\n",
       "      <td>0.847546</td>\n",
       "      <td>12069</td>\n",
       "    </tr>\n",
       "  </tbody>\n",
       "</table>\n",
       "</div>"
      ],
      "text/plain": [
       "                                           accuracy  precision    recall  \\\n",
       "TF-IDF_CNN                                 0.874669   0.756842  0.800905   \n",
       "TF-IDF_CNN_naive_resampling                0.882455   0.824658  0.726395   \n",
       "fbwx_w2v_LR                                0.869252   0.796409  0.706430   \n",
       "fbwx_w2v_LR_naive_resampling               0.869086   0.793294  0.700336   \n",
       "fbwx_w2v_linear_SVM                        0.867346   0.798162  0.699374   \n",
       "fbwx_w2v_linear_SVM_naive_resampling       0.841163   0.666281  0.858038   \n",
       "fbwx_w2v_poly_SVM C=0.1                    0.851272   0.849327  0.564867   \n",
       "fbwx_w2v_poly_SVM C=1                      0.876295   0.833812  0.692812   \n",
       "fbwx_w2v_poly_SVM(C=0.1)_naive_resampling  0.842158   0.666820  0.863108   \n",
       "\n",
       "                                           f1-score  support  precision  \\\n",
       "TF-IDF_CNN                                 0.778250     3315   0.922933   \n",
       "TF-IDF_CNN_naive_resampling                0.772414     3315   0.900896   \n",
       "fbwx_w2v_LR                                0.748726     3328   0.892838   \n",
       "fbwx_w2v_LR_naive_resampling               0.743922     3277   0.892982   \n",
       "fbwx_w2v_linear_SVM                        0.745509     3353   0.889607   \n",
       "fbwx_w2v_linear_SVM_naive_resampling       0.750098     3353   0.938589   \n",
       "fbwx_w2v_poly_SVM C=0.1                    0.678488     3353   0.851713   \n",
       "fbwx_w2v_poly_SVM C=1                      0.756801     3353   0.889044   \n",
       "fbwx_w2v_poly_SVM(C=0.1)_naive_resampling  0.752372     3353   0.940613   \n",
       "\n",
       "                                             recall  f1-score  support  \\\n",
       "TF-IDF_CNN                                 0.902592  0.912649     8757   \n",
       "TF-IDF_CNN_naive_resampling                0.941532  0.920766     8757   \n",
       "fbwx_w2v_LR                                0.931244  0.911636     8741   \n",
       "fbwx_w2v_LR_naive_resampling               0.931984  0.912066     8792   \n",
       "fbwx_w2v_linear_SVM                        0.931964  0.910293     8716   \n",
       "fbwx_w2v_linear_SVM_naive_resampling       0.834672  0.883585     8716   \n",
       "fbwx_w2v_poly_SVM C=0.1                    0.961450  0.903261     8716   \n",
       "fbwx_w2v_poly_SVM C=1                      0.946879  0.917051     8716   \n",
       "fbwx_w2v_poly_SVM(C=0.1)_naive_resampling  0.834098  0.884159     8716   \n",
       "\n",
       "                                           precision    recall  f1-score  \\\n",
       "TF-IDF_CNN                                  0.839887  0.851749  0.845450   \n",
       "TF-IDF_CNN_naive_resampling                 0.862777  0.833964  0.846590   \n",
       "fbwx_w2v_LR                                 0.844623  0.818837  0.830181   \n",
       "fbwx_w2v_LR_naive_resampling                0.843138  0.816160  0.827994   \n",
       "fbwx_w2v_linear_SVM                         0.843884  0.815669  0.827901   \n",
       "fbwx_w2v_linear_SVM_naive_resampling        0.802435  0.846355  0.816842   \n",
       "fbwx_w2v_poly_SVM C=0.1                     0.850520  0.763159  0.790874   \n",
       "fbwx_w2v_poly_SVM C=1                       0.861428  0.819846  0.836926   \n",
       "fbwx_w2v_poly_SVM(C=0.1)_naive_resampling   0.803717  0.848603  0.818266   \n",
       "\n",
       "                                           support  precision    recall  \\\n",
       "TF-IDF_CNN                                   12072   0.877324  0.874669   \n",
       "TF-IDF_CNN_naive_resampling                  12072   0.879961  0.882455   \n",
       "fbwx_w2v_LR                                  12069   0.866248  0.869252   \n",
       "fbwx_w2v_LR_naive_resampling                 12069   0.865914  0.869086   \n",
       "fbwx_w2v_linear_SVM                          12069   0.864202  0.867346   \n",
       "fbwx_w2v_linear_SVM_naive_resampling         12069   0.862936  0.841163   \n",
       "fbwx_w2v_poly_SVM C=0.1                      12069   0.851050  0.851272   \n",
       "fbwx_w2v_poly_SVM C=1                        12069   0.873700  0.876295   \n",
       "fbwx_w2v_poly_SVM(C=0.1)_naive_resampling    12069   0.864548  0.842158   \n",
       "\n",
       "                                           f1-score  support  \n",
       "TF-IDF_CNN                                 0.875743    12072  \n",
       "TF-IDF_CNN_naive_resampling                0.880028    12072  \n",
       "fbwx_w2v_LR                                0.866714    12069  \n",
       "fbwx_w2v_LR_naive_resampling               0.866411    12069  \n",
       "fbwx_w2v_linear_SVM                        0.864513    12069  \n",
       "fbwx_w2v_linear_SVM_naive_resampling       0.846500    12069  \n",
       "fbwx_w2v_poly_SVM C=0.1                    0.840815    12069  \n",
       "fbwx_w2v_poly_SVM C=1                      0.872530    12069  \n",
       "fbwx_w2v_poly_SVM(C=0.1)_naive_resampling  0.847546    12069  "
      ]
     },
     "execution_count": 597,
     "metadata": {},
     "output_type": "execute_result"
    }
   ],
   "source": [
    "fbwx_w2v_poly_SVM_C0_1_naive_resampling_performance = classification_report(test_y_svm, y_pred_svm,digits=4,output_dict=True)\n",
    "performance = fbwx_w2v_poly_SVM_C0_1_naive_resampling_performance\n",
    "model_name = 'fbwx_w2v_poly_SVM(C=0.1)_naive_resampling'\n",
    "performance_df = sklearn_perform(model_name,performance,performance_df)\n",
    "performance_df\n"
   ]
  },
  {
   "cell_type": "code",
   "execution_count": null,
   "metadata": {},
   "outputs": [],
   "source": []
  },
  {
   "cell_type": "markdown",
   "metadata": {},
   "source": [
    "#### kernal_svm = SVC(kernel = 'poly', C = 1)\n"
   ]
  },
  {
   "cell_type": "code",
   "execution_count": 598,
   "metadata": {},
   "outputs": [
    {
     "data": {
      "text/plain": [
       "SVC(C=1, kernel='poly')"
      ]
     },
     "execution_count": 598,
     "metadata": {},
     "output_type": "execute_result"
    }
   ],
   "source": [
    "kernal_svm = SVC(kernel = 'poly', C = 1)\n",
    "kernal_svm.fit(X_resampled_naive,y_resampled_naive)"
   ]
  },
  {
   "cell_type": "code",
   "execution_count": 599,
   "metadata": {},
   "outputs": [],
   "source": [
    "y_pred_svm = kernal_svm.predict(test_X_svm)"
   ]
  },
  {
   "cell_type": "code",
   "execution_count": 600,
   "metadata": {},
   "outputs": [
    {
     "name": "stdout",
     "output_type": "stream",
     "text": [
      "              precision    recall  f1-score   support\n",
      "\n",
      "           0     0.9428    0.8630    0.9012      8716\n",
      "           1     0.7081    0.8640    0.7783      3353\n",
      "\n",
      "    accuracy                         0.8633     12069\n",
      "   macro avg     0.8255    0.8635    0.8398     12069\n",
      "weighted avg     0.8776    0.8633    0.8670     12069\n",
      "\n"
     ]
    }
   ],
   "source": [
    "print(classification_report(test_y_svm, y_pred_svm,digits=4))"
   ]
  },
  {
   "cell_type": "code",
   "execution_count": 601,
   "metadata": {},
   "outputs": [
    {
     "data": {
      "image/png": "[encoded data removed]",
      "text/plain": [
       "<Figure size 432x288 with 1 Axes>"
      ]
     },
     "metadata": {
      "needs_background": "light"
     },
     "output_type": "display_data"
    }
   ],
   "source": [
    "mat = confusion_matrix( y_pred_svm,test_y_svm)\n",
    "sns.heatmap(mat, square=True, annot=True, cbar=False,fmt='.20g')\n",
    "plt.xlabel(\"Actual Result\")\n",
    "plt.ylabel(\"Predicted Result\")\n",
    "a, b = plt.ylim() \n",
    "a += 0.5 \n",
    "b -= 0.5 \n",
    "plt.ylim(a, b) \n",
    "plt.show() "
   ]
  },
  {
   "cell_type": "code",
   "execution_count": 602,
   "metadata": {},
   "outputs": [
    {
     "data": {
      "text/html": [
       "<div>\n",
       "<style scoped>\n",
       "    .dataframe tbody tr th:only-of-type {\n",
       "        vertical-align: middle;\n",
       "    }\n",
       "\n",
       "    .dataframe tbody tr th {\n",
       "        vertical-align: top;\n",
       "    }\n",
       "\n",
       "    .dataframe thead th {\n",
       "        text-align: right;\n",
       "    }\n",
       "</style>\n",
       "<table border=\"1\" class=\"dataframe\">\n",
       "  <thead>\n",
       "    <tr style=\"text-align: right;\">\n",
       "      <th></th>\n",
       "      <th>accuracy</th>\n",
       "      <th>precision</th>\n",
       "      <th>recall</th>\n",
       "      <th>f1-score</th>\n",
       "      <th>support</th>\n",
       "      <th>precision</th>\n",
       "      <th>recall</th>\n",
       "      <th>f1-score</th>\n",
       "      <th>support</th>\n",
       "      <th>precision</th>\n",
       "      <th>recall</th>\n",
       "      <th>f1-score</th>\n",
       "      <th>support</th>\n",
       "      <th>precision</th>\n",
       "      <th>recall</th>\n",
       "      <th>f1-score</th>\n",
       "      <th>support</th>\n",
       "    </tr>\n",
       "  </thead>\n",
       "  <tbody>\n",
       "    <tr>\n",
       "      <th>TF-IDF_CNN</th>\n",
       "      <td>0.874669</td>\n",
       "      <td>0.756842</td>\n",
       "      <td>0.800905</td>\n",
       "      <td>0.778250</td>\n",
       "      <td>3315</td>\n",
       "      <td>0.922933</td>\n",
       "      <td>0.902592</td>\n",
       "      <td>0.912649</td>\n",
       "      <td>8757</td>\n",
       "      <td>0.839887</td>\n",
       "      <td>0.851749</td>\n",
       "      <td>0.845450</td>\n",
       "      <td>12072</td>\n",
       "      <td>0.877324</td>\n",
       "      <td>0.874669</td>\n",
       "      <td>0.875743</td>\n",
       "      <td>12072</td>\n",
       "    </tr>\n",
       "    <tr>\n",
       "      <th>TF-IDF_CNN_naive_resampling</th>\n",
       "      <td>0.882455</td>\n",
       "      <td>0.824658</td>\n",
       "      <td>0.726395</td>\n",
       "      <td>0.772414</td>\n",
       "      <td>3315</td>\n",
       "      <td>0.900896</td>\n",
       "      <td>0.941532</td>\n",
       "      <td>0.920766</td>\n",
       "      <td>8757</td>\n",
       "      <td>0.862777</td>\n",
       "      <td>0.833964</td>\n",
       "      <td>0.846590</td>\n",
       "      <td>12072</td>\n",
       "      <td>0.879961</td>\n",
       "      <td>0.882455</td>\n",
       "      <td>0.880028</td>\n",
       "      <td>12072</td>\n",
       "    </tr>\n",
       "    <tr>\n",
       "      <th>fbwx_w2v_LR</th>\n",
       "      <td>0.869252</td>\n",
       "      <td>0.796409</td>\n",
       "      <td>0.706430</td>\n",
       "      <td>0.748726</td>\n",
       "      <td>3328</td>\n",
       "      <td>0.892838</td>\n",
       "      <td>0.931244</td>\n",
       "      <td>0.911636</td>\n",
       "      <td>8741</td>\n",
       "      <td>0.844623</td>\n",
       "      <td>0.818837</td>\n",
       "      <td>0.830181</td>\n",
       "      <td>12069</td>\n",
       "      <td>0.866248</td>\n",
       "      <td>0.869252</td>\n",
       "      <td>0.866714</td>\n",
       "      <td>12069</td>\n",
       "    </tr>\n",
       "    <tr>\n",
       "      <th>fbwx_w2v_LR_naive_resampling</th>\n",
       "      <td>0.869086</td>\n",
       "      <td>0.793294</td>\n",
       "      <td>0.700336</td>\n",
       "      <td>0.743922</td>\n",
       "      <td>3277</td>\n",
       "      <td>0.892982</td>\n",
       "      <td>0.931984</td>\n",
       "      <td>0.912066</td>\n",
       "      <td>8792</td>\n",
       "      <td>0.843138</td>\n",
       "      <td>0.816160</td>\n",
       "      <td>0.827994</td>\n",
       "      <td>12069</td>\n",
       "      <td>0.865914</td>\n",
       "      <td>0.869086</td>\n",
       "      <td>0.866411</td>\n",
       "      <td>12069</td>\n",
       "    </tr>\n",
       "    <tr>\n",
       "      <th>fbwx_w2v_linear_SVM</th>\n",
       "      <td>0.867346</td>\n",
       "      <td>0.798162</td>\n",
       "      <td>0.699374</td>\n",
       "      <td>0.745509</td>\n",
       "      <td>3353</td>\n",
       "      <td>0.889607</td>\n",
       "      <td>0.931964</td>\n",
       "      <td>0.910293</td>\n",
       "      <td>8716</td>\n",
       "      <td>0.843884</td>\n",
       "      <td>0.815669</td>\n",
       "      <td>0.827901</td>\n",
       "      <td>12069</td>\n",
       "      <td>0.864202</td>\n",
       "      <td>0.867346</td>\n",
       "      <td>0.864513</td>\n",
       "      <td>12069</td>\n",
       "    </tr>\n",
       "    <tr>\n",
       "      <th>fbwx_w2v_linear_SVM_naive_resampling</th>\n",
       "      <td>0.841163</td>\n",
       "      <td>0.666281</td>\n",
       "      <td>0.858038</td>\n",
       "      <td>0.750098</td>\n",
       "      <td>3353</td>\n",
       "      <td>0.938589</td>\n",
       "      <td>0.834672</td>\n",
       "      <td>0.883585</td>\n",
       "      <td>8716</td>\n",
       "      <td>0.802435</td>\n",
       "      <td>0.846355</td>\n",
       "      <td>0.816842</td>\n",
       "      <td>12069</td>\n",
       "      <td>0.862936</td>\n",
       "      <td>0.841163</td>\n",
       "      <td>0.846500</td>\n",
       "      <td>12069</td>\n",
       "    </tr>\n",
       "    <tr>\n",
       "      <th>fbwx_w2v_poly_SVM C=0.1</th>\n",
       "      <td>0.851272</td>\n",
       "      <td>0.849327</td>\n",
       "      <td>0.564867</td>\n",
       "      <td>0.678488</td>\n",
       "      <td>3353</td>\n",
       "      <td>0.851713</td>\n",
       "      <td>0.961450</td>\n",
       "      <td>0.903261</td>\n",
       "      <td>8716</td>\n",
       "      <td>0.850520</td>\n",
       "      <td>0.763159</td>\n",
       "      <td>0.790874</td>\n",
       "      <td>12069</td>\n",
       "      <td>0.851050</td>\n",
       "      <td>0.851272</td>\n",
       "      <td>0.840815</td>\n",
       "      <td>12069</td>\n",
       "    </tr>\n",
       "    <tr>\n",
       "      <th>fbwx_w2v_poly_SVM C=1</th>\n",
       "      <td>0.876295</td>\n",
       "      <td>0.833812</td>\n",
       "      <td>0.692812</td>\n",
       "      <td>0.756801</td>\n",
       "      <td>3353</td>\n",
       "      <td>0.889044</td>\n",
       "      <td>0.946879</td>\n",
       "      <td>0.917051</td>\n",
       "      <td>8716</td>\n",
       "      <td>0.861428</td>\n",
       "      <td>0.819846</td>\n",
       "      <td>0.836926</td>\n",
       "      <td>12069</td>\n",
       "      <td>0.873700</td>\n",
       "      <td>0.876295</td>\n",
       "      <td>0.872530</td>\n",
       "      <td>12069</td>\n",
       "    </tr>\n",
       "    <tr>\n",
       "      <th>fbwx_w2v_poly_SVM(C=0.1)_naive_resampling</th>\n",
       "      <td>0.842158</td>\n",
       "      <td>0.666820</td>\n",
       "      <td>0.863108</td>\n",
       "      <td>0.752372</td>\n",
       "      <td>3353</td>\n",
       "      <td>0.940613</td>\n",
       "      <td>0.834098</td>\n",
       "      <td>0.884159</td>\n",
       "      <td>8716</td>\n",
       "      <td>0.803717</td>\n",
       "      <td>0.848603</td>\n",
       "      <td>0.818266</td>\n",
       "      <td>12069</td>\n",
       "      <td>0.864548</td>\n",
       "      <td>0.842158</td>\n",
       "      <td>0.847546</td>\n",
       "      <td>12069</td>\n",
       "    </tr>\n",
       "    <tr>\n",
       "      <th>fbwx_w2v_poly_SVM(C=1)_naive_resampling</th>\n",
       "      <td>0.863286</td>\n",
       "      <td>0.708140</td>\n",
       "      <td>0.864002</td>\n",
       "      <td>0.778345</td>\n",
       "      <td>3353</td>\n",
       "      <td>0.942843</td>\n",
       "      <td>0.863011</td>\n",
       "      <td>0.901162</td>\n",
       "      <td>8716</td>\n",
       "      <td>0.825491</td>\n",
       "      <td>0.863506</td>\n",
       "      <td>0.839754</td>\n",
       "      <td>12069</td>\n",
       "      <td>0.877638</td>\n",
       "      <td>0.863286</td>\n",
       "      <td>0.867041</td>\n",
       "      <td>12069</td>\n",
       "    </tr>\n",
       "  </tbody>\n",
       "</table>\n",
       "</div>"
      ],
      "text/plain": [
       "                                           accuracy  precision    recall  \\\n",
       "TF-IDF_CNN                                 0.874669   0.756842  0.800905   \n",
       "TF-IDF_CNN_naive_resampling                0.882455   0.824658  0.726395   \n",
       "fbwx_w2v_LR                                0.869252   0.796409  0.706430   \n",
       "fbwx_w2v_LR_naive_resampling               0.869086   0.793294  0.700336   \n",
       "fbwx_w2v_linear_SVM                        0.867346   0.798162  0.699374   \n",
       "fbwx_w2v_linear_SVM_naive_resampling       0.841163   0.666281  0.858038   \n",
       "fbwx_w2v_poly_SVM C=0.1                    0.851272   0.849327  0.564867   \n",
       "fbwx_w2v_poly_SVM C=1                      0.876295   0.833812  0.692812   \n",
       "fbwx_w2v_poly_SVM(C=0.1)_naive_resampling  0.842158   0.666820  0.863108   \n",
       "fbwx_w2v_poly_SVM(C=1)_naive_resampling    0.863286   0.708140  0.864002   \n",
       "\n",
       "                                           f1-score  support  precision  \\\n",
       "TF-IDF_CNN                                 0.778250     3315   0.922933   \n",
       "TF-IDF_CNN_naive_resampling                0.772414     3315   0.900896   \n",
       "fbwx_w2v_LR                                0.748726     3328   0.892838   \n",
       "fbwx_w2v_LR_naive_resampling               0.743922     3277   0.892982   \n",
       "fbwx_w2v_linear_SVM                        0.745509     3353   0.889607   \n",
       "fbwx_w2v_linear_SVM_naive_resampling       0.750098     3353   0.938589   \n",
       "fbwx_w2v_poly_SVM C=0.1                    0.678488     3353   0.851713   \n",
       "fbwx_w2v_poly_SVM C=1                      0.756801     3353   0.889044   \n",
       "fbwx_w2v_poly_SVM(C=0.1)_naive_resampling  0.752372     3353   0.940613   \n",
       "fbwx_w2v_poly_SVM(C=1)_naive_resampling    0.778345     3353   0.942843   \n",
       "\n",
       "                                             recall  f1-score  support  \\\n",
       "TF-IDF_CNN                                 0.902592  0.912649     8757   \n",
       "TF-IDF_CNN_naive_resampling                0.941532  0.920766     8757   \n",
       "fbwx_w2v_LR                                0.931244  0.911636     8741   \n",
       "fbwx_w2v_LR_naive_resampling               0.931984  0.912066     8792   \n",
       "fbwx_w2v_linear_SVM                        0.931964  0.910293     8716   \n",
       "fbwx_w2v_linear_SVM_naive_resampling       0.834672  0.883585     8716   \n",
       "fbwx_w2v_poly_SVM C=0.1                    0.961450  0.903261     8716   \n",
       "fbwx_w2v_poly_SVM C=1                      0.946879  0.917051     8716   \n",
       "fbwx_w2v_poly_SVM(C=0.1)_naive_resampling  0.834098  0.884159     8716   \n",
       "fbwx_w2v_poly_SVM(C=1)_naive_resampling    0.863011  0.901162     8716   \n",
       "\n",
       "                                           precision    recall  f1-score  \\\n",
       "TF-IDF_CNN                                  0.839887  0.851749  0.845450   \n",
       "TF-IDF_CNN_naive_resampling                 0.862777  0.833964  0.846590   \n",
       "fbwx_w2v_LR                                 0.844623  0.818837  0.830181   \n",
       "fbwx_w2v_LR_naive_resampling                0.843138  0.816160  0.827994   \n",
       "fbwx_w2v_linear_SVM                         0.843884  0.815669  0.827901   \n",
       "fbwx_w2v_linear_SVM_naive_resampling        0.802435  0.846355  0.816842   \n",
       "fbwx_w2v_poly_SVM C=0.1                     0.850520  0.763159  0.790874   \n",
       "fbwx_w2v_poly_SVM C=1                       0.861428  0.819846  0.836926   \n",
       "fbwx_w2v_poly_SVM(C=0.1)_naive_resampling   0.803717  0.848603  0.818266   \n",
       "fbwx_w2v_poly_SVM(C=1)_naive_resampling     0.825491  0.863506  0.839754   \n",
       "\n",
       "                                           support  precision    recall  \\\n",
       "TF-IDF_CNN                                   12072   0.877324  0.874669   \n",
       "TF-IDF_CNN_naive_resampling                  12072   0.879961  0.882455   \n",
       "fbwx_w2v_LR                                  12069   0.866248  0.869252   \n",
       "fbwx_w2v_LR_naive_resampling                 12069   0.865914  0.869086   \n",
       "fbwx_w2v_linear_SVM                          12069   0.864202  0.867346   \n",
       "fbwx_w2v_linear_SVM_naive_resampling         12069   0.862936  0.841163   \n",
       "fbwx_w2v_poly_SVM C=0.1                      12069   0.851050  0.851272   \n",
       "fbwx_w2v_poly_SVM C=1                        12069   0.873700  0.876295   \n",
       "fbwx_w2v_poly_SVM(C=0.1)_naive_resampling    12069   0.864548  0.842158   \n",
       "fbwx_w2v_poly_SVM(C=1)_naive_resampling      12069   0.877638  0.863286   \n",
       "\n",
       "                                           f1-score  support  \n",
       "TF-IDF_CNN                                 0.875743    12072  \n",
       "TF-IDF_CNN_naive_resampling                0.880028    12072  \n",
       "fbwx_w2v_LR                                0.866714    12069  \n",
       "fbwx_w2v_LR_naive_resampling               0.866411    12069  \n",
       "fbwx_w2v_linear_SVM                        0.864513    12069  \n",
       "fbwx_w2v_linear_SVM_naive_resampling       0.846500    12069  \n",
       "fbwx_w2v_poly_SVM C=0.1                    0.840815    12069  \n",
       "fbwx_w2v_poly_SVM C=1                      0.872530    12069  \n",
       "fbwx_w2v_poly_SVM(C=0.1)_naive_resampling  0.847546    12069  \n",
       "fbwx_w2v_poly_SVM(C=1)_naive_resampling    0.867041    12069  "
      ]
     },
     "execution_count": 602,
     "metadata": {},
     "output_type": "execute_result"
    }
   ],
   "source": [
    "fbwx_w2v_poly_SVM_C1_naive_resampling_performance = classification_report(test_y_svm, y_pred_svm,digits=4,output_dict=True)\n",
    "performance = fbwx_w2v_poly_SVM_C1_naive_resampling_performance\n",
    "model_name = 'fbwx_w2v_poly_SVM(C=1)_naive_resampling'\n",
    "performance_df = sklearn_perform(model_name,performance,performance_df)\n",
    "performance_df"
   ]
  },
  {
   "cell_type": "code",
   "execution_count": null,
   "metadata": {},
   "outputs": [],
   "source": []
  },
  {
   "cell_type": "code",
   "execution_count": null,
   "metadata": {},
   "outputs": [],
   "source": []
  },
  {
   "cell_type": "code",
   "execution_count": null,
   "metadata": {},
   "outputs": [],
   "source": []
  },
  {
   "cell_type": "markdown",
   "metadata": {},
   "source": [
    "### Model 3.5 现有样本训练Word2Vec + RBF_SVM \n",
    "rbf SVM 有较大的提升\n",
    "计算时间太长，一个模型跑了30+ min"
   ]
  },
  {
   "cell_type": "code",
   "execution_count": 603,
   "metadata": {},
   "outputs": [
    {
     "data": {
      "text/plain": [
       "SVC(gamma=0.1)"
      ]
     },
     "execution_count": 603,
     "metadata": {},
     "output_type": "execute_result"
    }
   ],
   "source": [
    "rbf_svm = SVC(C=1.0, kernel='rbf', gamma=0.1)\n",
    "rbf_svm.fit(train_X_svm,train_y_svm)"
   ]
  },
  {
   "cell_type": "code",
   "execution_count": 604,
   "metadata": {},
   "outputs": [],
   "source": [
    "y_pred_svm = rbf_svm.predict(test_X_svm)"
   ]
  },
  {
   "cell_type": "code",
   "execution_count": 605,
   "metadata": {},
   "outputs": [
    {
     "name": "stdout",
     "output_type": "stream",
     "text": [
      "              precision    recall  f1-score   support\n",
      "\n",
      "           0     0.8978    0.9433    0.9200      8716\n",
      "           1     0.8303    0.7208    0.7717      3353\n",
      "\n",
      "    accuracy                         0.8815     12069\n",
      "   macro avg     0.8640    0.8321    0.8459     12069\n",
      "weighted avg     0.8790    0.8815    0.8788     12069\n",
      "\n"
     ]
    }
   ],
   "source": [
    "print(classification_report(test_y_svm, y_pred_svm,digits=4))"
   ]
  },
  {
   "cell_type": "code",
   "execution_count": 606,
   "metadata": {},
   "outputs": [
    {
     "data": {
      "image/png": "[encoded data removed]",
      "text/plain": [
       "<Figure size 432x288 with 1 Axes>"
      ]
     },
     "metadata": {
      "needs_background": "light"
     },
     "output_type": "display_data"
    }
   ],
   "source": [
    "mat = confusion_matrix( y_pred_svm,test_y_svm)\n",
    "sns.heatmap(mat, square=True, annot=True, cbar=False,fmt='.20g')\n",
    "plt.xlabel(\"Actual Result\")\n",
    "plt.ylabel(\"Predicted Result\")\n",
    "a, b = plt.ylim() \n",
    "a += 0.5 \n",
    "b -= 0.5 \n",
    "plt.ylim(a, b) \n",
    "plt.show() "
   ]
  },
  {
   "cell_type": "code",
   "execution_count": 607,
   "metadata": {},
   "outputs": [
    {
     "data": {
      "text/html": [
       "<div>\n",
       "<style scoped>\n",
       "    .dataframe tbody tr th:only-of-type {\n",
       "        vertical-align: middle;\n",
       "    }\n",
       "\n",
       "    .dataframe tbody tr th {\n",
       "        vertical-align: top;\n",
       "    }\n",
       "\n",
       "    .dataframe thead th {\n",
       "        text-align: right;\n",
       "    }\n",
       "</style>\n",
       "<table border=\"1\" class=\"dataframe\">\n",
       "  <thead>\n",
       "    <tr style=\"text-align: right;\">\n",
       "      <th></th>\n",
       "      <th>accuracy</th>\n",
       "      <th>precision</th>\n",
       "      <th>recall</th>\n",
       "      <th>f1-score</th>\n",
       "      <th>support</th>\n",
       "      <th>precision</th>\n",
       "      <th>recall</th>\n",
       "      <th>f1-score</th>\n",
       "      <th>support</th>\n",
       "      <th>precision</th>\n",
       "      <th>recall</th>\n",
       "      <th>f1-score</th>\n",
       "      <th>support</th>\n",
       "      <th>precision</th>\n",
       "      <th>recall</th>\n",
       "      <th>f1-score</th>\n",
       "      <th>support</th>\n",
       "    </tr>\n",
       "  </thead>\n",
       "  <tbody>\n",
       "    <tr>\n",
       "      <th>TF-IDF_CNN</th>\n",
       "      <td>0.874669</td>\n",
       "      <td>0.756842</td>\n",
       "      <td>0.800905</td>\n",
       "      <td>0.778250</td>\n",
       "      <td>3315</td>\n",
       "      <td>0.922933</td>\n",
       "      <td>0.902592</td>\n",
       "      <td>0.912649</td>\n",
       "      <td>8757</td>\n",
       "      <td>0.839887</td>\n",
       "      <td>0.851749</td>\n",
       "      <td>0.845450</td>\n",
       "      <td>12072</td>\n",
       "      <td>0.877324</td>\n",
       "      <td>0.874669</td>\n",
       "      <td>0.875743</td>\n",
       "      <td>12072</td>\n",
       "    </tr>\n",
       "    <tr>\n",
       "      <th>TF-IDF_CNN_naive_resampling</th>\n",
       "      <td>0.882455</td>\n",
       "      <td>0.824658</td>\n",
       "      <td>0.726395</td>\n",
       "      <td>0.772414</td>\n",
       "      <td>3315</td>\n",
       "      <td>0.900896</td>\n",
       "      <td>0.941532</td>\n",
       "      <td>0.920766</td>\n",
       "      <td>8757</td>\n",
       "      <td>0.862777</td>\n",
       "      <td>0.833964</td>\n",
       "      <td>0.846590</td>\n",
       "      <td>12072</td>\n",
       "      <td>0.879961</td>\n",
       "      <td>0.882455</td>\n",
       "      <td>0.880028</td>\n",
       "      <td>12072</td>\n",
       "    </tr>\n",
       "    <tr>\n",
       "      <th>fbwx_w2v_LR</th>\n",
       "      <td>0.869252</td>\n",
       "      <td>0.796409</td>\n",
       "      <td>0.706430</td>\n",
       "      <td>0.748726</td>\n",
       "      <td>3328</td>\n",
       "      <td>0.892838</td>\n",
       "      <td>0.931244</td>\n",
       "      <td>0.911636</td>\n",
       "      <td>8741</td>\n",
       "      <td>0.844623</td>\n",
       "      <td>0.818837</td>\n",
       "      <td>0.830181</td>\n",
       "      <td>12069</td>\n",
       "      <td>0.866248</td>\n",
       "      <td>0.869252</td>\n",
       "      <td>0.866714</td>\n",
       "      <td>12069</td>\n",
       "    </tr>\n",
       "    <tr>\n",
       "      <th>fbwx_w2v_LR_naive_resampling</th>\n",
       "      <td>0.869086</td>\n",
       "      <td>0.793294</td>\n",
       "      <td>0.700336</td>\n",
       "      <td>0.743922</td>\n",
       "      <td>3277</td>\n",
       "      <td>0.892982</td>\n",
       "      <td>0.931984</td>\n",
       "      <td>0.912066</td>\n",
       "      <td>8792</td>\n",
       "      <td>0.843138</td>\n",
       "      <td>0.816160</td>\n",
       "      <td>0.827994</td>\n",
       "      <td>12069</td>\n",
       "      <td>0.865914</td>\n",
       "      <td>0.869086</td>\n",
       "      <td>0.866411</td>\n",
       "      <td>12069</td>\n",
       "    </tr>\n",
       "    <tr>\n",
       "      <th>fbwx_w2v_linear_SVM</th>\n",
       "      <td>0.867346</td>\n",
       "      <td>0.798162</td>\n",
       "      <td>0.699374</td>\n",
       "      <td>0.745509</td>\n",
       "      <td>3353</td>\n",
       "      <td>0.889607</td>\n",
       "      <td>0.931964</td>\n",
       "      <td>0.910293</td>\n",
       "      <td>8716</td>\n",
       "      <td>0.843884</td>\n",
       "      <td>0.815669</td>\n",
       "      <td>0.827901</td>\n",
       "      <td>12069</td>\n",
       "      <td>0.864202</td>\n",
       "      <td>0.867346</td>\n",
       "      <td>0.864513</td>\n",
       "      <td>12069</td>\n",
       "    </tr>\n",
       "    <tr>\n",
       "      <th>fbwx_w2v_linear_SVM_naive_resampling</th>\n",
       "      <td>0.841163</td>\n",
       "      <td>0.666281</td>\n",
       "      <td>0.858038</td>\n",
       "      <td>0.750098</td>\n",
       "      <td>3353</td>\n",
       "      <td>0.938589</td>\n",
       "      <td>0.834672</td>\n",
       "      <td>0.883585</td>\n",
       "      <td>8716</td>\n",
       "      <td>0.802435</td>\n",
       "      <td>0.846355</td>\n",
       "      <td>0.816842</td>\n",
       "      <td>12069</td>\n",
       "      <td>0.862936</td>\n",
       "      <td>0.841163</td>\n",
       "      <td>0.846500</td>\n",
       "      <td>12069</td>\n",
       "    </tr>\n",
       "    <tr>\n",
       "      <th>fbwx_w2v_poly_SVM C=0.1</th>\n",
       "      <td>0.851272</td>\n",
       "      <td>0.849327</td>\n",
       "      <td>0.564867</td>\n",
       "      <td>0.678488</td>\n",
       "      <td>3353</td>\n",
       "      <td>0.851713</td>\n",
       "      <td>0.961450</td>\n",
       "      <td>0.903261</td>\n",
       "      <td>8716</td>\n",
       "      <td>0.850520</td>\n",
       "      <td>0.763159</td>\n",
       "      <td>0.790874</td>\n",
       "      <td>12069</td>\n",
       "      <td>0.851050</td>\n",
       "      <td>0.851272</td>\n",
       "      <td>0.840815</td>\n",
       "      <td>12069</td>\n",
       "    </tr>\n",
       "    <tr>\n",
       "      <th>fbwx_w2v_poly_SVM C=1</th>\n",
       "      <td>0.876295</td>\n",
       "      <td>0.833812</td>\n",
       "      <td>0.692812</td>\n",
       "      <td>0.756801</td>\n",
       "      <td>3353</td>\n",
       "      <td>0.889044</td>\n",
       "      <td>0.946879</td>\n",
       "      <td>0.917051</td>\n",
       "      <td>8716</td>\n",
       "      <td>0.861428</td>\n",
       "      <td>0.819846</td>\n",
       "      <td>0.836926</td>\n",
       "      <td>12069</td>\n",
       "      <td>0.873700</td>\n",
       "      <td>0.876295</td>\n",
       "      <td>0.872530</td>\n",
       "      <td>12069</td>\n",
       "    </tr>\n",
       "    <tr>\n",
       "      <th>fbwx_w2v_poly_SVM(C=0.1)_naive_resampling</th>\n",
       "      <td>0.842158</td>\n",
       "      <td>0.666820</td>\n",
       "      <td>0.863108</td>\n",
       "      <td>0.752372</td>\n",
       "      <td>3353</td>\n",
       "      <td>0.940613</td>\n",
       "      <td>0.834098</td>\n",
       "      <td>0.884159</td>\n",
       "      <td>8716</td>\n",
       "      <td>0.803717</td>\n",
       "      <td>0.848603</td>\n",
       "      <td>0.818266</td>\n",
       "      <td>12069</td>\n",
       "      <td>0.864548</td>\n",
       "      <td>0.842158</td>\n",
       "      <td>0.847546</td>\n",
       "      <td>12069</td>\n",
       "    </tr>\n",
       "    <tr>\n",
       "      <th>fbwx_w2v_poly_SVM(C=1)_naive_resampling</th>\n",
       "      <td>0.863286</td>\n",
       "      <td>0.708140</td>\n",
       "      <td>0.864002</td>\n",
       "      <td>0.778345</td>\n",
       "      <td>3353</td>\n",
       "      <td>0.942843</td>\n",
       "      <td>0.863011</td>\n",
       "      <td>0.901162</td>\n",
       "      <td>8716</td>\n",
       "      <td>0.825491</td>\n",
       "      <td>0.863506</td>\n",
       "      <td>0.839754</td>\n",
       "      <td>12069</td>\n",
       "      <td>0.877638</td>\n",
       "      <td>0.863286</td>\n",
       "      <td>0.867041</td>\n",
       "      <td>12069</td>\n",
       "    </tr>\n",
       "    <tr>\n",
       "      <th>fbwx_w2v_rbf_SVM(gamma=0.1)</th>\n",
       "      <td>0.881515</td>\n",
       "      <td>0.830299</td>\n",
       "      <td>0.720847</td>\n",
       "      <td>0.771711</td>\n",
       "      <td>3353</td>\n",
       "      <td>0.897794</td>\n",
       "      <td>0.943323</td>\n",
       "      <td>0.919996</td>\n",
       "      <td>8716</td>\n",
       "      <td>0.864047</td>\n",
       "      <td>0.832085</td>\n",
       "      <td>0.845853</td>\n",
       "      <td>12069</td>\n",
       "      <td>0.879043</td>\n",
       "      <td>0.881515</td>\n",
       "      <td>0.878799</td>\n",
       "      <td>12069</td>\n",
       "    </tr>\n",
       "  </tbody>\n",
       "</table>\n",
       "</div>"
      ],
      "text/plain": [
       "                                           accuracy  precision    recall  \\\n",
       "TF-IDF_CNN                                 0.874669   0.756842  0.800905   \n",
       "TF-IDF_CNN_naive_resampling                0.882455   0.824658  0.726395   \n",
       "fbwx_w2v_LR                                0.869252   0.796409  0.706430   \n",
       "fbwx_w2v_LR_naive_resampling               0.869086   0.793294  0.700336   \n",
       "fbwx_w2v_linear_SVM                        0.867346   0.798162  0.699374   \n",
       "fbwx_w2v_linear_SVM_naive_resampling       0.841163   0.666281  0.858038   \n",
       "fbwx_w2v_poly_SVM C=0.1                    0.851272   0.849327  0.564867   \n",
       "fbwx_w2v_poly_SVM C=1                      0.876295   0.833812  0.692812   \n",
       "fbwx_w2v_poly_SVM(C=0.1)_naive_resampling  0.842158   0.666820  0.863108   \n",
       "fbwx_w2v_poly_SVM(C=1)_naive_resampling    0.863286   0.708140  0.864002   \n",
       "fbwx_w2v_rbf_SVM(gamma=0.1)                0.881515   0.830299  0.720847   \n",
       "\n",
       "                                           f1-score  support  precision  \\\n",
       "TF-IDF_CNN                                 0.778250     3315   0.922933   \n",
       "TF-IDF_CNN_naive_resampling                0.772414     3315   0.900896   \n",
       "fbwx_w2v_LR                                0.748726     3328   0.892838   \n",
       "fbwx_w2v_LR_naive_resampling               0.743922     3277   0.892982   \n",
       "fbwx_w2v_linear_SVM                        0.745509     3353   0.889607   \n",
       "fbwx_w2v_linear_SVM_naive_resampling       0.750098     3353   0.938589   \n",
       "fbwx_w2v_poly_SVM C=0.1                    0.678488     3353   0.851713   \n",
       "fbwx_w2v_poly_SVM C=1                      0.756801     3353   0.889044   \n",
       "fbwx_w2v_poly_SVM(C=0.1)_naive_resampling  0.752372     3353   0.940613   \n",
       "fbwx_w2v_poly_SVM(C=1)_naive_resampling    0.778345     3353   0.942843   \n",
       "fbwx_w2v_rbf_SVM(gamma=0.1)                0.771711     3353   0.897794   \n",
       "\n",
       "                                             recall  f1-score  support  \\\n",
       "TF-IDF_CNN                                 0.902592  0.912649     8757   \n",
       "TF-IDF_CNN_naive_resampling                0.941532  0.920766     8757   \n",
       "fbwx_w2v_LR                                0.931244  0.911636     8741   \n",
       "fbwx_w2v_LR_naive_resampling               0.931984  0.912066     8792   \n",
       "fbwx_w2v_linear_SVM                        0.931964  0.910293     8716   \n",
       "fbwx_w2v_linear_SVM_naive_resampling       0.834672  0.883585     8716   \n",
       "fbwx_w2v_poly_SVM C=0.1                    0.961450  0.903261     8716   \n",
       "fbwx_w2v_poly_SVM C=1                      0.946879  0.917051     8716   \n",
       "fbwx_w2v_poly_SVM(C=0.1)_naive_resampling  0.834098  0.884159     8716   \n",
       "fbwx_w2v_poly_SVM(C=1)_naive_resampling    0.863011  0.901162     8716   \n",
       "fbwx_w2v_rbf_SVM(gamma=0.1)                0.943323  0.919996     8716   \n",
       "\n",
       "                                           precision    recall  f1-score  \\\n",
       "TF-IDF_CNN                                  0.839887  0.851749  0.845450   \n",
       "TF-IDF_CNN_naive_resampling                 0.862777  0.833964  0.846590   \n",
       "fbwx_w2v_LR                                 0.844623  0.818837  0.830181   \n",
       "fbwx_w2v_LR_naive_resampling                0.843138  0.816160  0.827994   \n",
       "fbwx_w2v_linear_SVM                         0.843884  0.815669  0.827901   \n",
       "fbwx_w2v_linear_SVM_naive_resampling        0.802435  0.846355  0.816842   \n",
       "fbwx_w2v_poly_SVM C=0.1                     0.850520  0.763159  0.790874   \n",
       "fbwx_w2v_poly_SVM C=1                       0.861428  0.819846  0.836926   \n",
       "fbwx_w2v_poly_SVM(C=0.1)_naive_resampling   0.803717  0.848603  0.818266   \n",
       "fbwx_w2v_poly_SVM(C=1)_naive_resampling     0.825491  0.863506  0.839754   \n",
       "fbwx_w2v_rbf_SVM(gamma=0.1)                 0.864047  0.832085  0.845853   \n",
       "\n",
       "                                           support  precision    recall  \\\n",
       "TF-IDF_CNN                                   12072   0.877324  0.874669   \n",
       "TF-IDF_CNN_naive_resampling                  12072   0.879961  0.882455   \n",
       "fbwx_w2v_LR                                  12069   0.866248  0.869252   \n",
       "fbwx_w2v_LR_naive_resampling                 12069   0.865914  0.869086   \n",
       "fbwx_w2v_linear_SVM                          12069   0.864202  0.867346   \n",
       "fbwx_w2v_linear_SVM_naive_resampling         12069   0.862936  0.841163   \n",
       "fbwx_w2v_poly_SVM C=0.1                      12069   0.851050  0.851272   \n",
       "fbwx_w2v_poly_SVM C=1                        12069   0.873700  0.876295   \n",
       "fbwx_w2v_poly_SVM(C=0.1)_naive_resampling    12069   0.864548  0.842158   \n",
       "fbwx_w2v_poly_SVM(C=1)_naive_resampling      12069   0.877638  0.863286   \n",
       "fbwx_w2v_rbf_SVM(gamma=0.1)                  12069   0.879043  0.881515   \n",
       "\n",
       "                                           f1-score  support  \n",
       "TF-IDF_CNN                                 0.875743    12072  \n",
       "TF-IDF_CNN_naive_resampling                0.880028    12072  \n",
       "fbwx_w2v_LR                                0.866714    12069  \n",
       "fbwx_w2v_LR_naive_resampling               0.866411    12069  \n",
       "fbwx_w2v_linear_SVM                        0.864513    12069  \n",
       "fbwx_w2v_linear_SVM_naive_resampling       0.846500    12069  \n",
       "fbwx_w2v_poly_SVM C=0.1                    0.840815    12069  \n",
       "fbwx_w2v_poly_SVM C=1                      0.872530    12069  \n",
       "fbwx_w2v_poly_SVM(C=0.1)_naive_resampling  0.847546    12069  \n",
       "fbwx_w2v_poly_SVM(C=1)_naive_resampling    0.867041    12069  \n",
       "fbwx_w2v_rbf_SVM(gamma=0.1)                0.878799    12069  "
      ]
     },
     "execution_count": 607,
     "metadata": {},
     "output_type": "execute_result"
    }
   ],
   "source": [
    "fbwx_w2v_rbf_SVM_gm0_1_performance = classification_report(test_y_svm, y_pred_svm,digits=4,output_dict=True)\n",
    "performance = fbwx_w2v_rbf_SVM_gm0_1_performance\n",
    "model_name = 'fbwx_w2v_rbf_SVM(gamma=0.1)'\n",
    "performance_df = sklearn_perform(model_name,performance,performance_df)\n",
    "performance_df\n"
   ]
  },
  {
   "cell_type": "code",
   "execution_count": null,
   "metadata": {},
   "outputs": [],
   "source": []
  },
  {
   "cell_type": "markdown",
   "metadata": {},
   "source": [
    "### Model 3.6 现有样本训练Word2Vec + RBF_SVM + Naive Resampling"
   ]
  },
  {
   "cell_type": "code",
   "execution_count": 608,
   "metadata": {},
   "outputs": [
    {
     "data": {
      "text/plain": [
       "SVC(gamma=0.1)"
      ]
     },
     "execution_count": 608,
     "metadata": {},
     "output_type": "execute_result"
    }
   ],
   "source": [
    "rbf_svm = SVC(C=1.0, kernel='rbf', gamma=0.1)\n",
    "rbf_svm.fit(X_resampled_naive,y_resampled_naive)"
   ]
  },
  {
   "cell_type": "code",
   "execution_count": 609,
   "metadata": {},
   "outputs": [],
   "source": [
    "y_pred_svm = rbf_svm.predict(test_X_svm)"
   ]
  },
  {
   "cell_type": "code",
   "execution_count": 610,
   "metadata": {},
   "outputs": [
    {
     "name": "stdout",
     "output_type": "stream",
     "text": [
      "              precision    recall  f1-score   support\n",
      "\n",
      "           0     0.9309    0.8869    0.9083      8716\n",
      "           1     0.7381    0.8288    0.7808      3353\n",
      "\n",
      "    accuracy                         0.8707     12069\n",
      "   macro avg     0.8345    0.8578    0.8446     12069\n",
      "weighted avg     0.8773    0.8707    0.8729     12069\n",
      "\n"
     ]
    }
   ],
   "source": [
    "print(classification_report(test_y_svm, y_pred_svm,digits=4))"
   ]
  },
  {
   "cell_type": "code",
   "execution_count": 611,
   "metadata": {},
   "outputs": [
    {
     "data": {
      "image/png": "[encoded data removed]",
      "text/plain": [
       "<Figure size 432x288 with 1 Axes>"
      ]
     },
     "metadata": {
      "needs_background": "light"
     },
     "output_type": "display_data"
    }
   ],
   "source": [
    "mat = confusion_matrix( y_pred_svm,test_y_svm)\n",
    "sns.heatmap(mat, square=True, annot=True, cbar=False,fmt='.20g')\n",
    "plt.xlabel(\"Actual Result\")\n",
    "plt.ylabel(\"Predicted Result\")\n",
    "a, b = plt.ylim() \n",
    "a += 0.5 \n",
    "b -= 0.5 \n",
    "plt.ylim(a, b) \n",
    "plt.show() "
   ]
  },
  {
   "cell_type": "code",
   "execution_count": 612,
   "metadata": {},
   "outputs": [
    {
     "data": {
      "text/html": [
       "<div>\n",
       "<style scoped>\n",
       "    .dataframe tbody tr th:only-of-type {\n",
       "        vertical-align: middle;\n",
       "    }\n",
       "\n",
       "    .dataframe tbody tr th {\n",
       "        vertical-align: top;\n",
       "    }\n",
       "\n",
       "    .dataframe thead th {\n",
       "        text-align: right;\n",
       "    }\n",
       "</style>\n",
       "<table border=\"1\" class=\"dataframe\">\n",
       "  <thead>\n",
       "    <tr style=\"text-align: right;\">\n",
       "      <th></th>\n",
       "      <th>accuracy</th>\n",
       "      <th>precision</th>\n",
       "      <th>recall</th>\n",
       "      <th>f1-score</th>\n",
       "      <th>support</th>\n",
       "      <th>precision</th>\n",
       "      <th>recall</th>\n",
       "      <th>f1-score</th>\n",
       "      <th>support</th>\n",
       "      <th>precision</th>\n",
       "      <th>recall</th>\n",
       "      <th>f1-score</th>\n",
       "      <th>support</th>\n",
       "      <th>precision</th>\n",
       "      <th>recall</th>\n",
       "      <th>f1-score</th>\n",
       "      <th>support</th>\n",
       "    </tr>\n",
       "  </thead>\n",
       "  <tbody>\n",
       "    <tr>\n",
       "      <th>TF-IDF_CNN</th>\n",
       "      <td>0.874669</td>\n",
       "      <td>0.756842</td>\n",
       "      <td>0.800905</td>\n",
       "      <td>0.778250</td>\n",
       "      <td>3315</td>\n",
       "      <td>0.922933</td>\n",
       "      <td>0.902592</td>\n",
       "      <td>0.912649</td>\n",
       "      <td>8757</td>\n",
       "      <td>0.839887</td>\n",
       "      <td>0.851749</td>\n",
       "      <td>0.845450</td>\n",
       "      <td>12072</td>\n",
       "      <td>0.877324</td>\n",
       "      <td>0.874669</td>\n",
       "      <td>0.875743</td>\n",
       "      <td>12072</td>\n",
       "    </tr>\n",
       "    <tr>\n",
       "      <th>TF-IDF_CNN_naive_resampling</th>\n",
       "      <td>0.882455</td>\n",
       "      <td>0.824658</td>\n",
       "      <td>0.726395</td>\n",
       "      <td>0.772414</td>\n",
       "      <td>3315</td>\n",
       "      <td>0.900896</td>\n",
       "      <td>0.941532</td>\n",
       "      <td>0.920766</td>\n",
       "      <td>8757</td>\n",
       "      <td>0.862777</td>\n",
       "      <td>0.833964</td>\n",
       "      <td>0.846590</td>\n",
       "      <td>12072</td>\n",
       "      <td>0.879961</td>\n",
       "      <td>0.882455</td>\n",
       "      <td>0.880028</td>\n",
       "      <td>12072</td>\n",
       "    </tr>\n",
       "    <tr>\n",
       "      <th>fbwx_w2v_LR</th>\n",
       "      <td>0.869252</td>\n",
       "      <td>0.796409</td>\n",
       "      <td>0.706430</td>\n",
       "      <td>0.748726</td>\n",
       "      <td>3328</td>\n",
       "      <td>0.892838</td>\n",
       "      <td>0.931244</td>\n",
       "      <td>0.911636</td>\n",
       "      <td>8741</td>\n",
       "      <td>0.844623</td>\n",
       "      <td>0.818837</td>\n",
       "      <td>0.830181</td>\n",
       "      <td>12069</td>\n",
       "      <td>0.866248</td>\n",
       "      <td>0.869252</td>\n",
       "      <td>0.866714</td>\n",
       "      <td>12069</td>\n",
       "    </tr>\n",
       "    <tr>\n",
       "      <th>fbwx_w2v_LR_naive_resampling</th>\n",
       "      <td>0.869086</td>\n",
       "      <td>0.793294</td>\n",
       "      <td>0.700336</td>\n",
       "      <td>0.743922</td>\n",
       "      <td>3277</td>\n",
       "      <td>0.892982</td>\n",
       "      <td>0.931984</td>\n",
       "      <td>0.912066</td>\n",
       "      <td>8792</td>\n",
       "      <td>0.843138</td>\n",
       "      <td>0.816160</td>\n",
       "      <td>0.827994</td>\n",
       "      <td>12069</td>\n",
       "      <td>0.865914</td>\n",
       "      <td>0.869086</td>\n",
       "      <td>0.866411</td>\n",
       "      <td>12069</td>\n",
       "    </tr>\n",
       "    <tr>\n",
       "      <th>fbwx_w2v_linear_SVM</th>\n",
       "      <td>0.867346</td>\n",
       "      <td>0.798162</td>\n",
       "      <td>0.699374</td>\n",
       "      <td>0.745509</td>\n",
       "      <td>3353</td>\n",
       "      <td>0.889607</td>\n",
       "      <td>0.931964</td>\n",
       "      <td>0.910293</td>\n",
       "      <td>8716</td>\n",
       "      <td>0.843884</td>\n",
       "      <td>0.815669</td>\n",
       "      <td>0.827901</td>\n",
       "      <td>12069</td>\n",
       "      <td>0.864202</td>\n",
       "      <td>0.867346</td>\n",
       "      <td>0.864513</td>\n",
       "      <td>12069</td>\n",
       "    </tr>\n",
       "    <tr>\n",
       "      <th>fbwx_w2v_linear_SVM_naive_resampling</th>\n",
       "      <td>0.841163</td>\n",
       "      <td>0.666281</td>\n",
       "      <td>0.858038</td>\n",
       "      <td>0.750098</td>\n",
       "      <td>3353</td>\n",
       "      <td>0.938589</td>\n",
       "      <td>0.834672</td>\n",
       "      <td>0.883585</td>\n",
       "      <td>8716</td>\n",
       "      <td>0.802435</td>\n",
       "      <td>0.846355</td>\n",
       "      <td>0.816842</td>\n",
       "      <td>12069</td>\n",
       "      <td>0.862936</td>\n",
       "      <td>0.841163</td>\n",
       "      <td>0.846500</td>\n",
       "      <td>12069</td>\n",
       "    </tr>\n",
       "    <tr>\n",
       "      <th>fbwx_w2v_poly_SVM C=0.1</th>\n",
       "      <td>0.851272</td>\n",
       "      <td>0.849327</td>\n",
       "      <td>0.564867</td>\n",
       "      <td>0.678488</td>\n",
       "      <td>3353</td>\n",
       "      <td>0.851713</td>\n",
       "      <td>0.961450</td>\n",
       "      <td>0.903261</td>\n",
       "      <td>8716</td>\n",
       "      <td>0.850520</td>\n",
       "      <td>0.763159</td>\n",
       "      <td>0.790874</td>\n",
       "      <td>12069</td>\n",
       "      <td>0.851050</td>\n",
       "      <td>0.851272</td>\n",
       "      <td>0.840815</td>\n",
       "      <td>12069</td>\n",
       "    </tr>\n",
       "    <tr>\n",
       "      <th>fbwx_w2v_poly_SVM C=1</th>\n",
       "      <td>0.876295</td>\n",
       "      <td>0.833812</td>\n",
       "      <td>0.692812</td>\n",
       "      <td>0.756801</td>\n",
       "      <td>3353</td>\n",
       "      <td>0.889044</td>\n",
       "      <td>0.946879</td>\n",
       "      <td>0.917051</td>\n",
       "      <td>8716</td>\n",
       "      <td>0.861428</td>\n",
       "      <td>0.819846</td>\n",
       "      <td>0.836926</td>\n",
       "      <td>12069</td>\n",
       "      <td>0.873700</td>\n",
       "      <td>0.876295</td>\n",
       "      <td>0.872530</td>\n",
       "      <td>12069</td>\n",
       "    </tr>\n",
       "    <tr>\n",
       "      <th>fbwx_w2v_poly_SVM(C=0.1)_naive_resampling</th>\n",
       "      <td>0.842158</td>\n",
       "      <td>0.666820</td>\n",
       "      <td>0.863108</td>\n",
       "      <td>0.752372</td>\n",
       "      <td>3353</td>\n",
       "      <td>0.940613</td>\n",
       "      <td>0.834098</td>\n",
       "      <td>0.884159</td>\n",
       "      <td>8716</td>\n",
       "      <td>0.803717</td>\n",
       "      <td>0.848603</td>\n",
       "      <td>0.818266</td>\n",
       "      <td>12069</td>\n",
       "      <td>0.864548</td>\n",
       "      <td>0.842158</td>\n",
       "      <td>0.847546</td>\n",
       "      <td>12069</td>\n",
       "    </tr>\n",
       "    <tr>\n",
       "      <th>fbwx_w2v_poly_SVM(C=1)_naive_resampling</th>\n",
       "      <td>0.863286</td>\n",
       "      <td>0.708140</td>\n",
       "      <td>0.864002</td>\n",
       "      <td>0.778345</td>\n",
       "      <td>3353</td>\n",
       "      <td>0.942843</td>\n",
       "      <td>0.863011</td>\n",
       "      <td>0.901162</td>\n",
       "      <td>8716</td>\n",
       "      <td>0.825491</td>\n",
       "      <td>0.863506</td>\n",
       "      <td>0.839754</td>\n",
       "      <td>12069</td>\n",
       "      <td>0.877638</td>\n",
       "      <td>0.863286</td>\n",
       "      <td>0.867041</td>\n",
       "      <td>12069</td>\n",
       "    </tr>\n",
       "    <tr>\n",
       "      <th>fbwx_w2v_rbf_SVM(gamma=0.1)</th>\n",
       "      <td>0.881515</td>\n",
       "      <td>0.830299</td>\n",
       "      <td>0.720847</td>\n",
       "      <td>0.771711</td>\n",
       "      <td>3353</td>\n",
       "      <td>0.897794</td>\n",
       "      <td>0.943323</td>\n",
       "      <td>0.919996</td>\n",
       "      <td>8716</td>\n",
       "      <td>0.864047</td>\n",
       "      <td>0.832085</td>\n",
       "      <td>0.845853</td>\n",
       "      <td>12069</td>\n",
       "      <td>0.879043</td>\n",
       "      <td>0.881515</td>\n",
       "      <td>0.878799</td>\n",
       "      <td>12069</td>\n",
       "    </tr>\n",
       "    <tr>\n",
       "      <th>fbwx_w2v_rbf_SVM(gamma=0.1)_naive_resampling</th>\n",
       "      <td>0.870743</td>\n",
       "      <td>0.738114</td>\n",
       "      <td>0.828810</td>\n",
       "      <td>0.780837</td>\n",
       "      <td>3353</td>\n",
       "      <td>0.930877</td>\n",
       "      <td>0.886875</td>\n",
       "      <td>0.908343</td>\n",
       "      <td>8716</td>\n",
       "      <td>0.834495</td>\n",
       "      <td>0.857842</td>\n",
       "      <td>0.844590</td>\n",
       "      <td>12069</td>\n",
       "      <td>0.877324</td>\n",
       "      <td>0.870743</td>\n",
       "      <td>0.872920</td>\n",
       "      <td>12069</td>\n",
       "    </tr>\n",
       "  </tbody>\n",
       "</table>\n",
       "</div>"
      ],
      "text/plain": [
       "                                              accuracy  precision    recall  \\\n",
       "TF-IDF_CNN                                    0.874669   0.756842  0.800905   \n",
       "TF-IDF_CNN_naive_resampling                   0.882455   0.824658  0.726395   \n",
       "fbwx_w2v_LR                                   0.869252   0.796409  0.706430   \n",
       "fbwx_w2v_LR_naive_resampling                  0.869086   0.793294  0.700336   \n",
       "fbwx_w2v_linear_SVM                           0.867346   0.798162  0.699374   \n",
       "fbwx_w2v_linear_SVM_naive_resampling          0.841163   0.666281  0.858038   \n",
       "fbwx_w2v_poly_SVM C=0.1                       0.851272   0.849327  0.564867   \n",
       "fbwx_w2v_poly_SVM C=1                         0.876295   0.833812  0.692812   \n",
       "fbwx_w2v_poly_SVM(C=0.1)_naive_resampling     0.842158   0.666820  0.863108   \n",
       "fbwx_w2v_poly_SVM(C=1)_naive_resampling       0.863286   0.708140  0.864002   \n",
       "fbwx_w2v_rbf_SVM(gamma=0.1)                   0.881515   0.830299  0.720847   \n",
       "fbwx_w2v_rbf_SVM(gamma=0.1)_naive_resampling  0.870743   0.738114  0.828810   \n",
       "\n",
       "                                              f1-score  support  precision  \\\n",
       "TF-IDF_CNN                                    0.778250     3315   0.922933   \n",
       "TF-IDF_CNN_naive_resampling                   0.772414     3315   0.900896   \n",
       "fbwx_w2v_LR                                   0.748726     3328   0.892838   \n",
       "fbwx_w2v_LR_naive_resampling                  0.743922     3277   0.892982   \n",
       "fbwx_w2v_linear_SVM                           0.745509     3353   0.889607   \n",
       "fbwx_w2v_linear_SVM_naive_resampling          0.750098     3353   0.938589   \n",
       "fbwx_w2v_poly_SVM C=0.1                       0.678488     3353   0.851713   \n",
       "fbwx_w2v_poly_SVM C=1                         0.756801     3353   0.889044   \n",
       "fbwx_w2v_poly_SVM(C=0.1)_naive_resampling     0.752372     3353   0.940613   \n",
       "fbwx_w2v_poly_SVM(C=1)_naive_resampling       0.778345     3353   0.942843   \n",
       "fbwx_w2v_rbf_SVM(gamma=0.1)                   0.771711     3353   0.897794   \n",
       "fbwx_w2v_rbf_SVM(gamma=0.1)_naive_resampling  0.780837     3353   0.930877   \n",
       "\n",
       "                                                recall  f1-score  support  \\\n",
       "TF-IDF_CNN                                    0.902592  0.912649     8757   \n",
       "TF-IDF_CNN_naive_resampling                   0.941532  0.920766     8757   \n",
       "fbwx_w2v_LR                                   0.931244  0.911636     8741   \n",
       "fbwx_w2v_LR_naive_resampling                  0.931984  0.912066     8792   \n",
       "fbwx_w2v_linear_SVM                           0.931964  0.910293     8716   \n",
       "fbwx_w2v_linear_SVM_naive_resampling          0.834672  0.883585     8716   \n",
       "fbwx_w2v_poly_SVM C=0.1                       0.961450  0.903261     8716   \n",
       "fbwx_w2v_poly_SVM C=1                         0.946879  0.917051     8716   \n",
       "fbwx_w2v_poly_SVM(C=0.1)_naive_resampling     0.834098  0.884159     8716   \n",
       "fbwx_w2v_poly_SVM(C=1)_naive_resampling       0.863011  0.901162     8716   \n",
       "fbwx_w2v_rbf_SVM(gamma=0.1)                   0.943323  0.919996     8716   \n",
       "fbwx_w2v_rbf_SVM(gamma=0.1)_naive_resampling  0.886875  0.908343     8716   \n",
       "\n",
       "                                              precision    recall  f1-score  \\\n",
       "TF-IDF_CNN                                     0.839887  0.851749  0.845450   \n",
       "TF-IDF_CNN_naive_resampling                    0.862777  0.833964  0.846590   \n",
       "fbwx_w2v_LR                                    0.844623  0.818837  0.830181   \n",
       "fbwx_w2v_LR_naive_resampling                   0.843138  0.816160  0.827994   \n",
       "fbwx_w2v_linear_SVM                            0.843884  0.815669  0.827901   \n",
       "fbwx_w2v_linear_SVM_naive_resampling           0.802435  0.846355  0.816842   \n",
       "fbwx_w2v_poly_SVM C=0.1                        0.850520  0.763159  0.790874   \n",
       "fbwx_w2v_poly_SVM C=1                          0.861428  0.819846  0.836926   \n",
       "fbwx_w2v_poly_SVM(C=0.1)_naive_resampling      0.803717  0.848603  0.818266   \n",
       "fbwx_w2v_poly_SVM(C=1)_naive_resampling        0.825491  0.863506  0.839754   \n",
       "fbwx_w2v_rbf_SVM(gamma=0.1)                    0.864047  0.832085  0.845853   \n",
       "fbwx_w2v_rbf_SVM(gamma=0.1)_naive_resampling   0.834495  0.857842  0.844590   \n",
       "\n",
       "                                              support  precision    recall  \\\n",
       "TF-IDF_CNN                                      12072   0.877324  0.874669   \n",
       "TF-IDF_CNN_naive_resampling                     12072   0.879961  0.882455   \n",
       "fbwx_w2v_LR                                     12069   0.866248  0.869252   \n",
       "fbwx_w2v_LR_naive_resampling                    12069   0.865914  0.869086   \n",
       "fbwx_w2v_linear_SVM                             12069   0.864202  0.867346   \n",
       "fbwx_w2v_linear_SVM_naive_resampling            12069   0.862936  0.841163   \n",
       "fbwx_w2v_poly_SVM C=0.1                         12069   0.851050  0.851272   \n",
       "fbwx_w2v_poly_SVM C=1                           12069   0.873700  0.876295   \n",
       "fbwx_w2v_poly_SVM(C=0.1)_naive_resampling       12069   0.864548  0.842158   \n",
       "fbwx_w2v_poly_SVM(C=1)_naive_resampling         12069   0.877638  0.863286   \n",
       "fbwx_w2v_rbf_SVM(gamma=0.1)                     12069   0.879043  0.881515   \n",
       "fbwx_w2v_rbf_SVM(gamma=0.1)_naive_resampling    12069   0.877324  0.870743   \n",
       "\n",
       "                                              f1-score  support  \n",
       "TF-IDF_CNN                                    0.875743    12072  \n",
       "TF-IDF_CNN_naive_resampling                   0.880028    12072  \n",
       "fbwx_w2v_LR                                   0.866714    12069  \n",
       "fbwx_w2v_LR_naive_resampling                  0.866411    12069  \n",
       "fbwx_w2v_linear_SVM                           0.864513    12069  \n",
       "fbwx_w2v_linear_SVM_naive_resampling          0.846500    12069  \n",
       "fbwx_w2v_poly_SVM C=0.1                       0.840815    12069  \n",
       "fbwx_w2v_poly_SVM C=1                         0.872530    12069  \n",
       "fbwx_w2v_poly_SVM(C=0.1)_naive_resampling     0.847546    12069  \n",
       "fbwx_w2v_poly_SVM(C=1)_naive_resampling       0.867041    12069  \n",
       "fbwx_w2v_rbf_SVM(gamma=0.1)                   0.878799    12069  \n",
       "fbwx_w2v_rbf_SVM(gamma=0.1)_naive_resampling  0.872920    12069  "
      ]
     },
     "execution_count": 612,
     "metadata": {},
     "output_type": "execute_result"
    }
   ],
   "source": [
    "fbwx_w2v_rbf_SVM_gm0_1_naive_resampling_performance = classification_report(test_y_svm, y_pred_svm,digits=4,output_dict=True)\n",
    "performance = fbwx_w2v_rbf_SVM_gm0_1_naive_resampling_performance\n",
    "model_name = 'fbwx_w2v_rbf_SVM(gamma=0.1)_naive_resampling'\n",
    "performance_df = sklearn_perform(model_name,performance,performance_df)\n",
    "performance_df"
   ]
  },
  {
   "cell_type": "code",
   "execution_count": null,
   "metadata": {},
   "outputs": [],
   "source": []
  },
  {
   "cell_type": "markdown",
   "metadata": {},
   "source": [
    "### Model 3.7 现有样本训练Word2Vec + RBF_SVM + gamma = 1/k"
   ]
  },
  {
   "cell_type": "code",
   "execution_count": 614,
   "metadata": {},
   "outputs": [],
   "source": [
    "startTime = time.time()\n",
    "rbf_svm = SVC(kernel='rbf')\n",
    "rbf_svm.fit(train_X_svm,train_y_svm)\n",
    "usedTime = time.time() - startTime"
   ]
  },
  {
   "cell_type": "code",
   "execution_count": 615,
   "metadata": {},
   "outputs": [
    {
     "name": "stdout",
     "output_type": "stream",
     "text": [
      "292.0272710323334\n"
     ]
    }
   ],
   "source": [
    "print(usedTime)"
   ]
  },
  {
   "cell_type": "code",
   "execution_count": 616,
   "metadata": {},
   "outputs": [],
   "source": [
    "y_pred_svm = rbf_svm.predict(test_X_svm)"
   ]
  },
  {
   "cell_type": "code",
   "execution_count": 617,
   "metadata": {},
   "outputs": [
    {
     "name": "stdout",
     "output_type": "stream",
     "text": [
      "              precision    recall  f1-score   support\n",
      "\n",
      "           0     0.8982    0.9429    0.9200      8716\n",
      "           1     0.8295    0.7223    0.7722      3353\n",
      "\n",
      "    accuracy                         0.8816     12069\n",
      "   macro avg     0.8638    0.8326    0.8461     12069\n",
      "weighted avg     0.8791    0.8816    0.8789     12069\n",
      "\n"
     ]
    }
   ],
   "source": [
    "print(classification_report(test_y_svm, y_pred_svm,digits=4))"
   ]
  },
  {
   "cell_type": "code",
   "execution_count": 618,
   "metadata": {},
   "outputs": [
    {
     "data": {
      "image/png": "[encoded data removed]",
      "text/plain": [
       "<Figure size 432x288 with 1 Axes>"
      ]
     },
     "metadata": {
      "needs_background": "light"
     },
     "output_type": "display_data"
    }
   ],
   "source": [
    "mat = confusion_matrix( y_pred_svm,test_y_svm)\n",
    "sns.heatmap(mat, square=True, annot=True, cbar=False,fmt='.20g')\n",
    "plt.xlabel(\"Actual Result\")\n",
    "plt.ylabel(\"Predicted Result\")\n",
    "a, b = plt.ylim() \n",
    "a += 0.5 \n",
    "b -= 0.5 \n",
    "plt.ylim(a, b) \n",
    "plt.show() "
   ]
  },
  {
   "cell_type": "code",
   "execution_count": 619,
   "metadata": {},
   "outputs": [
    {
     "data": {
      "text/html": [
       "<div>\n",
       "<style scoped>\n",
       "    .dataframe tbody tr th:only-of-type {\n",
       "        vertical-align: middle;\n",
       "    }\n",
       "\n",
       "    .dataframe tbody tr th {\n",
       "        vertical-align: top;\n",
       "    }\n",
       "\n",
       "    .dataframe thead th {\n",
       "        text-align: right;\n",
       "    }\n",
       "</style>\n",
       "<table border=\"1\" class=\"dataframe\">\n",
       "  <thead>\n",
       "    <tr style=\"text-align: right;\">\n",
       "      <th></th>\n",
       "      <th>accuracy</th>\n",
       "      <th>precision</th>\n",
       "      <th>recall</th>\n",
       "      <th>f1-score</th>\n",
       "      <th>support</th>\n",
       "      <th>precision</th>\n",
       "      <th>recall</th>\n",
       "      <th>f1-score</th>\n",
       "      <th>support</th>\n",
       "      <th>precision</th>\n",
       "      <th>recall</th>\n",
       "      <th>f1-score</th>\n",
       "      <th>support</th>\n",
       "      <th>precision</th>\n",
       "      <th>recall</th>\n",
       "      <th>f1-score</th>\n",
       "      <th>support</th>\n",
       "    </tr>\n",
       "  </thead>\n",
       "  <tbody>\n",
       "    <tr>\n",
       "      <th>TF-IDF_CNN</th>\n",
       "      <td>0.874669</td>\n",
       "      <td>0.756842</td>\n",
       "      <td>0.800905</td>\n",
       "      <td>0.778250</td>\n",
       "      <td>3315</td>\n",
       "      <td>0.922933</td>\n",
       "      <td>0.902592</td>\n",
       "      <td>0.912649</td>\n",
       "      <td>8757</td>\n",
       "      <td>0.839887</td>\n",
       "      <td>0.851749</td>\n",
       "      <td>0.845450</td>\n",
       "      <td>12072</td>\n",
       "      <td>0.877324</td>\n",
       "      <td>0.874669</td>\n",
       "      <td>0.875743</td>\n",
       "      <td>12072</td>\n",
       "    </tr>\n",
       "    <tr>\n",
       "      <th>TF-IDF_CNN_naive_resampling</th>\n",
       "      <td>0.882455</td>\n",
       "      <td>0.824658</td>\n",
       "      <td>0.726395</td>\n",
       "      <td>0.772414</td>\n",
       "      <td>3315</td>\n",
       "      <td>0.900896</td>\n",
       "      <td>0.941532</td>\n",
       "      <td>0.920766</td>\n",
       "      <td>8757</td>\n",
       "      <td>0.862777</td>\n",
       "      <td>0.833964</td>\n",
       "      <td>0.846590</td>\n",
       "      <td>12072</td>\n",
       "      <td>0.879961</td>\n",
       "      <td>0.882455</td>\n",
       "      <td>0.880028</td>\n",
       "      <td>12072</td>\n",
       "    </tr>\n",
       "    <tr>\n",
       "      <th>fbwx_w2v_LR</th>\n",
       "      <td>0.869252</td>\n",
       "      <td>0.796409</td>\n",
       "      <td>0.706430</td>\n",
       "      <td>0.748726</td>\n",
       "      <td>3328</td>\n",
       "      <td>0.892838</td>\n",
       "      <td>0.931244</td>\n",
       "      <td>0.911636</td>\n",
       "      <td>8741</td>\n",
       "      <td>0.844623</td>\n",
       "      <td>0.818837</td>\n",
       "      <td>0.830181</td>\n",
       "      <td>12069</td>\n",
       "      <td>0.866248</td>\n",
       "      <td>0.869252</td>\n",
       "      <td>0.866714</td>\n",
       "      <td>12069</td>\n",
       "    </tr>\n",
       "    <tr>\n",
       "      <th>fbwx_w2v_LR_naive_resampling</th>\n",
       "      <td>0.869086</td>\n",
       "      <td>0.793294</td>\n",
       "      <td>0.700336</td>\n",
       "      <td>0.743922</td>\n",
       "      <td>3277</td>\n",
       "      <td>0.892982</td>\n",
       "      <td>0.931984</td>\n",
       "      <td>0.912066</td>\n",
       "      <td>8792</td>\n",
       "      <td>0.843138</td>\n",
       "      <td>0.816160</td>\n",
       "      <td>0.827994</td>\n",
       "      <td>12069</td>\n",
       "      <td>0.865914</td>\n",
       "      <td>0.869086</td>\n",
       "      <td>0.866411</td>\n",
       "      <td>12069</td>\n",
       "    </tr>\n",
       "    <tr>\n",
       "      <th>fbwx_w2v_linear_SVM</th>\n",
       "      <td>0.867346</td>\n",
       "      <td>0.798162</td>\n",
       "      <td>0.699374</td>\n",
       "      <td>0.745509</td>\n",
       "      <td>3353</td>\n",
       "      <td>0.889607</td>\n",
       "      <td>0.931964</td>\n",
       "      <td>0.910293</td>\n",
       "      <td>8716</td>\n",
       "      <td>0.843884</td>\n",
       "      <td>0.815669</td>\n",
       "      <td>0.827901</td>\n",
       "      <td>12069</td>\n",
       "      <td>0.864202</td>\n",
       "      <td>0.867346</td>\n",
       "      <td>0.864513</td>\n",
       "      <td>12069</td>\n",
       "    </tr>\n",
       "    <tr>\n",
       "      <th>fbwx_w2v_linear_SVM_naive_resampling</th>\n",
       "      <td>0.841163</td>\n",
       "      <td>0.666281</td>\n",
       "      <td>0.858038</td>\n",
       "      <td>0.750098</td>\n",
       "      <td>3353</td>\n",
       "      <td>0.938589</td>\n",
       "      <td>0.834672</td>\n",
       "      <td>0.883585</td>\n",
       "      <td>8716</td>\n",
       "      <td>0.802435</td>\n",
       "      <td>0.846355</td>\n",
       "      <td>0.816842</td>\n",
       "      <td>12069</td>\n",
       "      <td>0.862936</td>\n",
       "      <td>0.841163</td>\n",
       "      <td>0.846500</td>\n",
       "      <td>12069</td>\n",
       "    </tr>\n",
       "    <tr>\n",
       "      <th>fbwx_w2v_poly_SVM C=0.1</th>\n",
       "      <td>0.851272</td>\n",
       "      <td>0.849327</td>\n",
       "      <td>0.564867</td>\n",
       "      <td>0.678488</td>\n",
       "      <td>3353</td>\n",
       "      <td>0.851713</td>\n",
       "      <td>0.961450</td>\n",
       "      <td>0.903261</td>\n",
       "      <td>8716</td>\n",
       "      <td>0.850520</td>\n",
       "      <td>0.763159</td>\n",
       "      <td>0.790874</td>\n",
       "      <td>12069</td>\n",
       "      <td>0.851050</td>\n",
       "      <td>0.851272</td>\n",
       "      <td>0.840815</td>\n",
       "      <td>12069</td>\n",
       "    </tr>\n",
       "    <tr>\n",
       "      <th>fbwx_w2v_poly_SVM C=1</th>\n",
       "      <td>0.876295</td>\n",
       "      <td>0.833812</td>\n",
       "      <td>0.692812</td>\n",
       "      <td>0.756801</td>\n",
       "      <td>3353</td>\n",
       "      <td>0.889044</td>\n",
       "      <td>0.946879</td>\n",
       "      <td>0.917051</td>\n",
       "      <td>8716</td>\n",
       "      <td>0.861428</td>\n",
       "      <td>0.819846</td>\n",
       "      <td>0.836926</td>\n",
       "      <td>12069</td>\n",
       "      <td>0.873700</td>\n",
       "      <td>0.876295</td>\n",
       "      <td>0.872530</td>\n",
       "      <td>12069</td>\n",
       "    </tr>\n",
       "    <tr>\n",
       "      <th>fbwx_w2v_poly_SVM(C=0.1)_naive_resampling</th>\n",
       "      <td>0.842158</td>\n",
       "      <td>0.666820</td>\n",
       "      <td>0.863108</td>\n",
       "      <td>0.752372</td>\n",
       "      <td>3353</td>\n",
       "      <td>0.940613</td>\n",
       "      <td>0.834098</td>\n",
       "      <td>0.884159</td>\n",
       "      <td>8716</td>\n",
       "      <td>0.803717</td>\n",
       "      <td>0.848603</td>\n",
       "      <td>0.818266</td>\n",
       "      <td>12069</td>\n",
       "      <td>0.864548</td>\n",
       "      <td>0.842158</td>\n",
       "      <td>0.847546</td>\n",
       "      <td>12069</td>\n",
       "    </tr>\n",
       "    <tr>\n",
       "      <th>fbwx_w2v_poly_SVM(C=1)_naive_resampling</th>\n",
       "      <td>0.863286</td>\n",
       "      <td>0.708140</td>\n",
       "      <td>0.864002</td>\n",
       "      <td>0.778345</td>\n",
       "      <td>3353</td>\n",
       "      <td>0.942843</td>\n",
       "      <td>0.863011</td>\n",
       "      <td>0.901162</td>\n",
       "      <td>8716</td>\n",
       "      <td>0.825491</td>\n",
       "      <td>0.863506</td>\n",
       "      <td>0.839754</td>\n",
       "      <td>12069</td>\n",
       "      <td>0.877638</td>\n",
       "      <td>0.863286</td>\n",
       "      <td>0.867041</td>\n",
       "      <td>12069</td>\n",
       "    </tr>\n",
       "    <tr>\n",
       "      <th>fbwx_w2v_rbf_SVM(gamma=0.1)</th>\n",
       "      <td>0.881515</td>\n",
       "      <td>0.830299</td>\n",
       "      <td>0.720847</td>\n",
       "      <td>0.771711</td>\n",
       "      <td>3353</td>\n",
       "      <td>0.897794</td>\n",
       "      <td>0.943323</td>\n",
       "      <td>0.919996</td>\n",
       "      <td>8716</td>\n",
       "      <td>0.864047</td>\n",
       "      <td>0.832085</td>\n",
       "      <td>0.845853</td>\n",
       "      <td>12069</td>\n",
       "      <td>0.879043</td>\n",
       "      <td>0.881515</td>\n",
       "      <td>0.878799</td>\n",
       "      <td>12069</td>\n",
       "    </tr>\n",
       "    <tr>\n",
       "      <th>fbwx_w2v_rbf_SVM(gamma=0.1)_naive_resampling</th>\n",
       "      <td>0.870743</td>\n",
       "      <td>0.738114</td>\n",
       "      <td>0.828810</td>\n",
       "      <td>0.780837</td>\n",
       "      <td>3353</td>\n",
       "      <td>0.930877</td>\n",
       "      <td>0.886875</td>\n",
       "      <td>0.908343</td>\n",
       "      <td>8716</td>\n",
       "      <td>0.834495</td>\n",
       "      <td>0.857842</td>\n",
       "      <td>0.844590</td>\n",
       "      <td>12069</td>\n",
       "      <td>0.877324</td>\n",
       "      <td>0.870743</td>\n",
       "      <td>0.872920</td>\n",
       "      <td>12069</td>\n",
       "    </tr>\n",
       "    <tr>\n",
       "      <th>fbwx_w2v_rbf_SVM(gamma=1/k)</th>\n",
       "      <td>0.881597</td>\n",
       "      <td>0.829452</td>\n",
       "      <td>0.722338</td>\n",
       "      <td>0.772198</td>\n",
       "      <td>3353</td>\n",
       "      <td>0.898240</td>\n",
       "      <td>0.942864</td>\n",
       "      <td>0.920011</td>\n",
       "      <td>8716</td>\n",
       "      <td>0.863846</td>\n",
       "      <td>0.832601</td>\n",
       "      <td>0.846105</td>\n",
       "      <td>12069</td>\n",
       "      <td>0.879130</td>\n",
       "      <td>0.881597</td>\n",
       "      <td>0.878946</td>\n",
       "      <td>12069</td>\n",
       "    </tr>\n",
       "  </tbody>\n",
       "</table>\n",
       "</div>"
      ],
      "text/plain": [
       "                                              accuracy  precision    recall  \\\n",
       "TF-IDF_CNN                                    0.874669   0.756842  0.800905   \n",
       "TF-IDF_CNN_naive_resampling                   0.882455   0.824658  0.726395   \n",
       "fbwx_w2v_LR                                   0.869252   0.796409  0.706430   \n",
       "fbwx_w2v_LR_naive_resampling                  0.869086   0.793294  0.700336   \n",
       "fbwx_w2v_linear_SVM                           0.867346   0.798162  0.699374   \n",
       "fbwx_w2v_linear_SVM_naive_resampling          0.841163   0.666281  0.858038   \n",
       "fbwx_w2v_poly_SVM C=0.1                       0.851272   0.849327  0.564867   \n",
       "fbwx_w2v_poly_SVM C=1                         0.876295   0.833812  0.692812   \n",
       "fbwx_w2v_poly_SVM(C=0.1)_naive_resampling     0.842158   0.666820  0.863108   \n",
       "fbwx_w2v_poly_SVM(C=1)_naive_resampling       0.863286   0.708140  0.864002   \n",
       "fbwx_w2v_rbf_SVM(gamma=0.1)                   0.881515   0.830299  0.720847   \n",
       "fbwx_w2v_rbf_SVM(gamma=0.1)_naive_resampling  0.870743   0.738114  0.828810   \n",
       "fbwx_w2v_rbf_SVM(gamma=1/k)                   0.881597   0.829452  0.722338   \n",
       "\n",
       "                                              f1-score  support  precision  \\\n",
       "TF-IDF_CNN                                    0.778250     3315   0.922933   \n",
       "TF-IDF_CNN_naive_resampling                   0.772414     3315   0.900896   \n",
       "fbwx_w2v_LR                                   0.748726     3328   0.892838   \n",
       "fbwx_w2v_LR_naive_resampling                  0.743922     3277   0.892982   \n",
       "fbwx_w2v_linear_SVM                           0.745509     3353   0.889607   \n",
       "fbwx_w2v_linear_SVM_naive_resampling          0.750098     3353   0.938589   \n",
       "fbwx_w2v_poly_SVM C=0.1                       0.678488     3353   0.851713   \n",
       "fbwx_w2v_poly_SVM C=1                         0.756801     3353   0.889044   \n",
       "fbwx_w2v_poly_SVM(C=0.1)_naive_resampling     0.752372     3353   0.940613   \n",
       "fbwx_w2v_poly_SVM(C=1)_naive_resampling       0.778345     3353   0.942843   \n",
       "fbwx_w2v_rbf_SVM(gamma=0.1)                   0.771711     3353   0.897794   \n",
       "fbwx_w2v_rbf_SVM(gamma=0.1)_naive_resampling  0.780837     3353   0.930877   \n",
       "fbwx_w2v_rbf_SVM(gamma=1/k)                   0.772198     3353   0.898240   \n",
       "\n",
       "                                                recall  f1-score  support  \\\n",
       "TF-IDF_CNN                                    0.902592  0.912649     8757   \n",
       "TF-IDF_CNN_naive_resampling                   0.941532  0.920766     8757   \n",
       "fbwx_w2v_LR                                   0.931244  0.911636     8741   \n",
       "fbwx_w2v_LR_naive_resampling                  0.931984  0.912066     8792   \n",
       "fbwx_w2v_linear_SVM                           0.931964  0.910293     8716   \n",
       "fbwx_w2v_linear_SVM_naive_resampling          0.834672  0.883585     8716   \n",
       "fbwx_w2v_poly_SVM C=0.1                       0.961450  0.903261     8716   \n",
       "fbwx_w2v_poly_SVM C=1                         0.946879  0.917051     8716   \n",
       "fbwx_w2v_poly_SVM(C=0.1)_naive_resampling     0.834098  0.884159     8716   \n",
       "fbwx_w2v_poly_SVM(C=1)_naive_resampling       0.863011  0.901162     8716   \n",
       "fbwx_w2v_rbf_SVM(gamma=0.1)                   0.943323  0.919996     8716   \n",
       "fbwx_w2v_rbf_SVM(gamma=0.1)_naive_resampling  0.886875  0.908343     8716   \n",
       "fbwx_w2v_rbf_SVM(gamma=1/k)                   0.942864  0.920011     8716   \n",
       "\n",
       "                                              precision    recall  f1-score  \\\n",
       "TF-IDF_CNN                                     0.839887  0.851749  0.845450   \n",
       "TF-IDF_CNN_naive_resampling                    0.862777  0.833964  0.846590   \n",
       "fbwx_w2v_LR                                    0.844623  0.818837  0.830181   \n",
       "fbwx_w2v_LR_naive_resampling                   0.843138  0.816160  0.827994   \n",
       "fbwx_w2v_linear_SVM                            0.843884  0.815669  0.827901   \n",
       "fbwx_w2v_linear_SVM_naive_resampling           0.802435  0.846355  0.816842   \n",
       "fbwx_w2v_poly_SVM C=0.1                        0.850520  0.763159  0.790874   \n",
       "fbwx_w2v_poly_SVM C=1                          0.861428  0.819846  0.836926   \n",
       "fbwx_w2v_poly_SVM(C=0.1)_naive_resampling      0.803717  0.848603  0.818266   \n",
       "fbwx_w2v_poly_SVM(C=1)_naive_resampling        0.825491  0.863506  0.839754   \n",
       "fbwx_w2v_rbf_SVM(gamma=0.1)                    0.864047  0.832085  0.845853   \n",
       "fbwx_w2v_rbf_SVM(gamma=0.1)_naive_resampling   0.834495  0.857842  0.844590   \n",
       "fbwx_w2v_rbf_SVM(gamma=1/k)                    0.863846  0.832601  0.846105   \n",
       "\n",
       "                                              support  precision    recall  \\\n",
       "TF-IDF_CNN                                      12072   0.877324  0.874669   \n",
       "TF-IDF_CNN_naive_resampling                     12072   0.879961  0.882455   \n",
       "fbwx_w2v_LR                                     12069   0.866248  0.869252   \n",
       "fbwx_w2v_LR_naive_resampling                    12069   0.865914  0.869086   \n",
       "fbwx_w2v_linear_SVM                             12069   0.864202  0.867346   \n",
       "fbwx_w2v_linear_SVM_naive_resampling            12069   0.862936  0.841163   \n",
       "fbwx_w2v_poly_SVM C=0.1                         12069   0.851050  0.851272   \n",
       "fbwx_w2v_poly_SVM C=1                           12069   0.873700  0.876295   \n",
       "fbwx_w2v_poly_SVM(C=0.1)_naive_resampling       12069   0.864548  0.842158   \n",
       "fbwx_w2v_poly_SVM(C=1)_naive_resampling         12069   0.877638  0.863286   \n",
       "fbwx_w2v_rbf_SVM(gamma=0.1)                     12069   0.879043  0.881515   \n",
       "fbwx_w2v_rbf_SVM(gamma=0.1)_naive_resampling    12069   0.877324  0.870743   \n",
       "fbwx_w2v_rbf_SVM(gamma=1/k)                     12069   0.879130  0.881597   \n",
       "\n",
       "                                              f1-score  support  \n",
       "TF-IDF_CNN                                    0.875743    12072  \n",
       "TF-IDF_CNN_naive_resampling                   0.880028    12072  \n",
       "fbwx_w2v_LR                                   0.866714    12069  \n",
       "fbwx_w2v_LR_naive_resampling                  0.866411    12069  \n",
       "fbwx_w2v_linear_SVM                           0.864513    12069  \n",
       "fbwx_w2v_linear_SVM_naive_resampling          0.846500    12069  \n",
       "fbwx_w2v_poly_SVM C=0.1                       0.840815    12069  \n",
       "fbwx_w2v_poly_SVM C=1                         0.872530    12069  \n",
       "fbwx_w2v_poly_SVM(C=0.1)_naive_resampling     0.847546    12069  \n",
       "fbwx_w2v_poly_SVM(C=1)_naive_resampling       0.867041    12069  \n",
       "fbwx_w2v_rbf_SVM(gamma=0.1)                   0.878799    12069  \n",
       "fbwx_w2v_rbf_SVM(gamma=0.1)_naive_resampling  0.872920    12069  \n",
       "fbwx_w2v_rbf_SVM(gamma=1/k)                   0.878946    12069  "
      ]
     },
     "execution_count": 619,
     "metadata": {},
     "output_type": "execute_result"
    }
   ],
   "source": [
    "fbwx_w2v_rbf_SVM_performance = classification_report(test_y_svm, y_pred_svm,digits=4,output_dict=True)\n",
    "performance = fbwx_w2v_rbf_SVM_performance\n",
    "model_name = 'fbwx_w2v_rbf_SVM(gamma=1/k)'\n",
    "performance_df = sklearn_perform(model_name,performance,performance_df)\n",
    "performance_df\n"
   ]
  },
  {
   "cell_type": "code",
   "execution_count": null,
   "metadata": {},
   "outputs": [],
   "source": []
  },
  {
   "cell_type": "markdown",
   "metadata": {},
   "source": [
    "### Model 3.8 现有样本训练Word2Vec + RBF_SVM + gamma = 1/k + Naive Resampling"
   ]
  },
  {
   "cell_type": "code",
   "execution_count": 620,
   "metadata": {},
   "outputs": [],
   "source": [
    "startTime = time.time()\n",
    "rbf_svm = SVC(kernel='rbf')\n",
    "rbf_svm.fit(X_resampled_naive,y_resampled_naive)\n",
    "usedTime = time.time() - startTime"
   ]
  },
  {
   "cell_type": "code",
   "execution_count": 621,
   "metadata": {},
   "outputs": [
    {
     "name": "stdout",
     "output_type": "stream",
     "text": [
      "687.4958000183105\n"
     ]
    }
   ],
   "source": [
    "print(usedTime)"
   ]
  },
  {
   "cell_type": "code",
   "execution_count": 622,
   "metadata": {},
   "outputs": [],
   "source": [
    "y_pred_svm = rbf_svm.predict(test_X_svm)"
   ]
  },
  {
   "cell_type": "code",
   "execution_count": 623,
   "metadata": {},
   "outputs": [
    {
     "name": "stdout",
     "output_type": "stream",
     "text": [
      "              precision    recall  f1-score   support\n",
      "\n",
      "           0     0.9437    0.8574    0.8985      8716\n",
      "           1     0.7005    0.8670    0.7749      3353\n",
      "\n",
      "    accuracy                         0.8601     12069\n",
      "   macro avg     0.8221    0.8622    0.8367     12069\n",
      "weighted avg     0.8761    0.8601    0.8641     12069\n",
      "\n"
     ]
    }
   ],
   "source": [
    "print(classification_report(test_y_svm, y_pred_svm,digits=4))"
   ]
  },
  {
   "cell_type": "code",
   "execution_count": 624,
   "metadata": {},
   "outputs": [
    {
     "data": {
      "image/png": "[encoded data removed]",
      "text/plain": [
       "<Figure size 432x288 with 1 Axes>"
      ]
     },
     "metadata": {
      "needs_background": "light"
     },
     "output_type": "display_data"
    }
   ],
   "source": [
    "mat = confusion_matrix( y_pred_svm,test_y_svm)\n",
    "sns.heatmap(mat, square=True, annot=True, cbar=False,fmt='.20g')\n",
    "plt.xlabel(\"Actual Result\")\n",
    "plt.ylabel(\"Predicted Result\")\n",
    "a, b = plt.ylim() \n",
    "a += 0.5 \n",
    "b -= 0.5 \n",
    "plt.ylim(a, b) \n",
    "plt.show() "
   ]
  },
  {
   "cell_type": "code",
   "execution_count": 625,
   "metadata": {},
   "outputs": [
    {
     "data": {
      "text/html": [
       "<div>\n",
       "<style scoped>\n",
       "    .dataframe tbody tr th:only-of-type {\n",
       "        vertical-align: middle;\n",
       "    }\n",
       "\n",
       "    .dataframe tbody tr th {\n",
       "        vertical-align: top;\n",
       "    }\n",
       "\n",
       "    .dataframe thead th {\n",
       "        text-align: right;\n",
       "    }\n",
       "</style>\n",
       "<table border=\"1\" class=\"dataframe\">\n",
       "  <thead>\n",
       "    <tr style=\"text-align: right;\">\n",
       "      <th></th>\n",
       "      <th>accuracy</th>\n",
       "      <th>precision</th>\n",
       "      <th>recall</th>\n",
       "      <th>f1-score</th>\n",
       "      <th>support</th>\n",
       "      <th>precision</th>\n",
       "      <th>recall</th>\n",
       "      <th>f1-score</th>\n",
       "      <th>support</th>\n",
       "      <th>precision</th>\n",
       "      <th>recall</th>\n",
       "      <th>f1-score</th>\n",
       "      <th>support</th>\n",
       "      <th>precision</th>\n",
       "      <th>recall</th>\n",
       "      <th>f1-score</th>\n",
       "      <th>support</th>\n",
       "    </tr>\n",
       "  </thead>\n",
       "  <tbody>\n",
       "    <tr>\n",
       "      <th>TF-IDF_CNN</th>\n",
       "      <td>0.874669</td>\n",
       "      <td>0.756842</td>\n",
       "      <td>0.800905</td>\n",
       "      <td>0.778250</td>\n",
       "      <td>3315</td>\n",
       "      <td>0.922933</td>\n",
       "      <td>0.902592</td>\n",
       "      <td>0.912649</td>\n",
       "      <td>8757</td>\n",
       "      <td>0.839887</td>\n",
       "      <td>0.851749</td>\n",
       "      <td>0.845450</td>\n",
       "      <td>12072</td>\n",
       "      <td>0.877324</td>\n",
       "      <td>0.874669</td>\n",
       "      <td>0.875743</td>\n",
       "      <td>12072</td>\n",
       "    </tr>\n",
       "    <tr>\n",
       "      <th>TF-IDF_CNN_naive_resampling</th>\n",
       "      <td>0.882455</td>\n",
       "      <td>0.824658</td>\n",
       "      <td>0.726395</td>\n",
       "      <td>0.772414</td>\n",
       "      <td>3315</td>\n",
       "      <td>0.900896</td>\n",
       "      <td>0.941532</td>\n",
       "      <td>0.920766</td>\n",
       "      <td>8757</td>\n",
       "      <td>0.862777</td>\n",
       "      <td>0.833964</td>\n",
       "      <td>0.846590</td>\n",
       "      <td>12072</td>\n",
       "      <td>0.879961</td>\n",
       "      <td>0.882455</td>\n",
       "      <td>0.880028</td>\n",
       "      <td>12072</td>\n",
       "    </tr>\n",
       "    <tr>\n",
       "      <th>fbwx_w2v_LR</th>\n",
       "      <td>0.869252</td>\n",
       "      <td>0.796409</td>\n",
       "      <td>0.706430</td>\n",
       "      <td>0.748726</td>\n",
       "      <td>3328</td>\n",
       "      <td>0.892838</td>\n",
       "      <td>0.931244</td>\n",
       "      <td>0.911636</td>\n",
       "      <td>8741</td>\n",
       "      <td>0.844623</td>\n",
       "      <td>0.818837</td>\n",
       "      <td>0.830181</td>\n",
       "      <td>12069</td>\n",
       "      <td>0.866248</td>\n",
       "      <td>0.869252</td>\n",
       "      <td>0.866714</td>\n",
       "      <td>12069</td>\n",
       "    </tr>\n",
       "    <tr>\n",
       "      <th>fbwx_w2v_LR_naive_resampling</th>\n",
       "      <td>0.869086</td>\n",
       "      <td>0.793294</td>\n",
       "      <td>0.700336</td>\n",
       "      <td>0.743922</td>\n",
       "      <td>3277</td>\n",
       "      <td>0.892982</td>\n",
       "      <td>0.931984</td>\n",
       "      <td>0.912066</td>\n",
       "      <td>8792</td>\n",
       "      <td>0.843138</td>\n",
       "      <td>0.816160</td>\n",
       "      <td>0.827994</td>\n",
       "      <td>12069</td>\n",
       "      <td>0.865914</td>\n",
       "      <td>0.869086</td>\n",
       "      <td>0.866411</td>\n",
       "      <td>12069</td>\n",
       "    </tr>\n",
       "    <tr>\n",
       "      <th>fbwx_w2v_linear_SVM</th>\n",
       "      <td>0.867346</td>\n",
       "      <td>0.798162</td>\n",
       "      <td>0.699374</td>\n",
       "      <td>0.745509</td>\n",
       "      <td>3353</td>\n",
       "      <td>0.889607</td>\n",
       "      <td>0.931964</td>\n",
       "      <td>0.910293</td>\n",
       "      <td>8716</td>\n",
       "      <td>0.843884</td>\n",
       "      <td>0.815669</td>\n",
       "      <td>0.827901</td>\n",
       "      <td>12069</td>\n",
       "      <td>0.864202</td>\n",
       "      <td>0.867346</td>\n",
       "      <td>0.864513</td>\n",
       "      <td>12069</td>\n",
       "    </tr>\n",
       "    <tr>\n",
       "      <th>fbwx_w2v_linear_SVM_naive_resampling</th>\n",
       "      <td>0.841163</td>\n",
       "      <td>0.666281</td>\n",
       "      <td>0.858038</td>\n",
       "      <td>0.750098</td>\n",
       "      <td>3353</td>\n",
       "      <td>0.938589</td>\n",
       "      <td>0.834672</td>\n",
       "      <td>0.883585</td>\n",
       "      <td>8716</td>\n",
       "      <td>0.802435</td>\n",
       "      <td>0.846355</td>\n",
       "      <td>0.816842</td>\n",
       "      <td>12069</td>\n",
       "      <td>0.862936</td>\n",
       "      <td>0.841163</td>\n",
       "      <td>0.846500</td>\n",
       "      <td>12069</td>\n",
       "    </tr>\n",
       "    <tr>\n",
       "      <th>fbwx_w2v_poly_SVM C=0.1</th>\n",
       "      <td>0.851272</td>\n",
       "      <td>0.849327</td>\n",
       "      <td>0.564867</td>\n",
       "      <td>0.678488</td>\n",
       "      <td>3353</td>\n",
       "      <td>0.851713</td>\n",
       "      <td>0.961450</td>\n",
       "      <td>0.903261</td>\n",
       "      <td>8716</td>\n",
       "      <td>0.850520</td>\n",
       "      <td>0.763159</td>\n",
       "      <td>0.790874</td>\n",
       "      <td>12069</td>\n",
       "      <td>0.851050</td>\n",
       "      <td>0.851272</td>\n",
       "      <td>0.840815</td>\n",
       "      <td>12069</td>\n",
       "    </tr>\n",
       "    <tr>\n",
       "      <th>fbwx_w2v_poly_SVM C=1</th>\n",
       "      <td>0.876295</td>\n",
       "      <td>0.833812</td>\n",
       "      <td>0.692812</td>\n",
       "      <td>0.756801</td>\n",
       "      <td>3353</td>\n",
       "      <td>0.889044</td>\n",
       "      <td>0.946879</td>\n",
       "      <td>0.917051</td>\n",
       "      <td>8716</td>\n",
       "      <td>0.861428</td>\n",
       "      <td>0.819846</td>\n",
       "      <td>0.836926</td>\n",
       "      <td>12069</td>\n",
       "      <td>0.873700</td>\n",
       "      <td>0.876295</td>\n",
       "      <td>0.872530</td>\n",
       "      <td>12069</td>\n",
       "    </tr>\n",
       "    <tr>\n",
       "      <th>fbwx_w2v_poly_SVM(C=0.1)_naive_resampling</th>\n",
       "      <td>0.842158</td>\n",
       "      <td>0.666820</td>\n",
       "      <td>0.863108</td>\n",
       "      <td>0.752372</td>\n",
       "      <td>3353</td>\n",
       "      <td>0.940613</td>\n",
       "      <td>0.834098</td>\n",
       "      <td>0.884159</td>\n",
       "      <td>8716</td>\n",
       "      <td>0.803717</td>\n",
       "      <td>0.848603</td>\n",
       "      <td>0.818266</td>\n",
       "      <td>12069</td>\n",
       "      <td>0.864548</td>\n",
       "      <td>0.842158</td>\n",
       "      <td>0.847546</td>\n",
       "      <td>12069</td>\n",
       "    </tr>\n",
       "    <tr>\n",
       "      <th>fbwx_w2v_poly_SVM(C=1)_naive_resampling</th>\n",
       "      <td>0.863286</td>\n",
       "      <td>0.708140</td>\n",
       "      <td>0.864002</td>\n",
       "      <td>0.778345</td>\n",
       "      <td>3353</td>\n",
       "      <td>0.942843</td>\n",
       "      <td>0.863011</td>\n",
       "      <td>0.901162</td>\n",
       "      <td>8716</td>\n",
       "      <td>0.825491</td>\n",
       "      <td>0.863506</td>\n",
       "      <td>0.839754</td>\n",
       "      <td>12069</td>\n",
       "      <td>0.877638</td>\n",
       "      <td>0.863286</td>\n",
       "      <td>0.867041</td>\n",
       "      <td>12069</td>\n",
       "    </tr>\n",
       "    <tr>\n",
       "      <th>fbwx_w2v_rbf_SVM(gamma=0.1)</th>\n",
       "      <td>0.881515</td>\n",
       "      <td>0.830299</td>\n",
       "      <td>0.720847</td>\n",
       "      <td>0.771711</td>\n",
       "      <td>3353</td>\n",
       "      <td>0.897794</td>\n",
       "      <td>0.943323</td>\n",
       "      <td>0.919996</td>\n",
       "      <td>8716</td>\n",
       "      <td>0.864047</td>\n",
       "      <td>0.832085</td>\n",
       "      <td>0.845853</td>\n",
       "      <td>12069</td>\n",
       "      <td>0.879043</td>\n",
       "      <td>0.881515</td>\n",
       "      <td>0.878799</td>\n",
       "      <td>12069</td>\n",
       "    </tr>\n",
       "    <tr>\n",
       "      <th>fbwx_w2v_rbf_SVM(gamma=0.1)_naive_resampling</th>\n",
       "      <td>0.870743</td>\n",
       "      <td>0.738114</td>\n",
       "      <td>0.828810</td>\n",
       "      <td>0.780837</td>\n",
       "      <td>3353</td>\n",
       "      <td>0.930877</td>\n",
       "      <td>0.886875</td>\n",
       "      <td>0.908343</td>\n",
       "      <td>8716</td>\n",
       "      <td>0.834495</td>\n",
       "      <td>0.857842</td>\n",
       "      <td>0.844590</td>\n",
       "      <td>12069</td>\n",
       "      <td>0.877324</td>\n",
       "      <td>0.870743</td>\n",
       "      <td>0.872920</td>\n",
       "      <td>12069</td>\n",
       "    </tr>\n",
       "    <tr>\n",
       "      <th>fbwx_w2v_rbf_SVM(gamma=1/k)</th>\n",
       "      <td>0.881597</td>\n",
       "      <td>0.829452</td>\n",
       "      <td>0.722338</td>\n",
       "      <td>0.772198</td>\n",
       "      <td>3353</td>\n",
       "      <td>0.898240</td>\n",
       "      <td>0.942864</td>\n",
       "      <td>0.920011</td>\n",
       "      <td>8716</td>\n",
       "      <td>0.863846</td>\n",
       "      <td>0.832601</td>\n",
       "      <td>0.846105</td>\n",
       "      <td>12069</td>\n",
       "      <td>0.879130</td>\n",
       "      <td>0.881597</td>\n",
       "      <td>0.878946</td>\n",
       "      <td>12069</td>\n",
       "    </tr>\n",
       "    <tr>\n",
       "      <th>fbwx_w2v_rbf_SVM(gamma=1/k)_naive_resampling</th>\n",
       "      <td>0.860055</td>\n",
       "      <td>0.700482</td>\n",
       "      <td>0.866985</td>\n",
       "      <td>0.774890</td>\n",
       "      <td>3353</td>\n",
       "      <td>0.943680</td>\n",
       "      <td>0.857389</td>\n",
       "      <td>0.898467</td>\n",
       "      <td>8716</td>\n",
       "      <td>0.822081</td>\n",
       "      <td>0.862187</td>\n",
       "      <td>0.836679</td>\n",
       "      <td>12069</td>\n",
       "      <td>0.876115</td>\n",
       "      <td>0.860055</td>\n",
       "      <td>0.864135</td>\n",
       "      <td>12069</td>\n",
       "    </tr>\n",
       "  </tbody>\n",
       "</table>\n",
       "</div>"
      ],
      "text/plain": [
       "                                              accuracy  precision    recall  \\\n",
       "TF-IDF_CNN                                    0.874669   0.756842  0.800905   \n",
       "TF-IDF_CNN_naive_resampling                   0.882455   0.824658  0.726395   \n",
       "fbwx_w2v_LR                                   0.869252   0.796409  0.706430   \n",
       "fbwx_w2v_LR_naive_resampling                  0.869086   0.793294  0.700336   \n",
       "fbwx_w2v_linear_SVM                           0.867346   0.798162  0.699374   \n",
       "fbwx_w2v_linear_SVM_naive_resampling          0.841163   0.666281  0.858038   \n",
       "fbwx_w2v_poly_SVM C=0.1                       0.851272   0.849327  0.564867   \n",
       "fbwx_w2v_poly_SVM C=1                         0.876295   0.833812  0.692812   \n",
       "fbwx_w2v_poly_SVM(C=0.1)_naive_resampling     0.842158   0.666820  0.863108   \n",
       "fbwx_w2v_poly_SVM(C=1)_naive_resampling       0.863286   0.708140  0.864002   \n",
       "fbwx_w2v_rbf_SVM(gamma=0.1)                   0.881515   0.830299  0.720847   \n",
       "fbwx_w2v_rbf_SVM(gamma=0.1)_naive_resampling  0.870743   0.738114  0.828810   \n",
       "fbwx_w2v_rbf_SVM(gamma=1/k)                   0.881597   0.829452  0.722338   \n",
       "fbwx_w2v_rbf_SVM(gamma=1/k)_naive_resampling  0.860055   0.700482  0.866985   \n",
       "\n",
       "                                              f1-score  support  precision  \\\n",
       "TF-IDF_CNN                                    0.778250     3315   0.922933   \n",
       "TF-IDF_CNN_naive_resampling                   0.772414     3315   0.900896   \n",
       "fbwx_w2v_LR                                   0.748726     3328   0.892838   \n",
       "fbwx_w2v_LR_naive_resampling                  0.743922     3277   0.892982   \n",
       "fbwx_w2v_linear_SVM                           0.745509     3353   0.889607   \n",
       "fbwx_w2v_linear_SVM_naive_resampling          0.750098     3353   0.938589   \n",
       "fbwx_w2v_poly_SVM C=0.1                       0.678488     3353   0.851713   \n",
       "fbwx_w2v_poly_SVM C=1                         0.756801     3353   0.889044   \n",
       "fbwx_w2v_poly_SVM(C=0.1)_naive_resampling     0.752372     3353   0.940613   \n",
       "fbwx_w2v_poly_SVM(C=1)_naive_resampling       0.778345     3353   0.942843   \n",
       "fbwx_w2v_rbf_SVM(gamma=0.1)                   0.771711     3353   0.897794   \n",
       "fbwx_w2v_rbf_SVM(gamma=0.1)_naive_resampling  0.780837     3353   0.930877   \n",
       "fbwx_w2v_rbf_SVM(gamma=1/k)                   0.772198     3353   0.898240   \n",
       "fbwx_w2v_rbf_SVM(gamma=1/k)_naive_resampling  0.774890     3353   0.943680   \n",
       "\n",
       "                                                recall  f1-score  support  \\\n",
       "TF-IDF_CNN                                    0.902592  0.912649     8757   \n",
       "TF-IDF_CNN_naive_resampling                   0.941532  0.920766     8757   \n",
       "fbwx_w2v_LR                                   0.931244  0.911636     8741   \n",
       "fbwx_w2v_LR_naive_resampling                  0.931984  0.912066     8792   \n",
       "fbwx_w2v_linear_SVM                           0.931964  0.910293     8716   \n",
       "fbwx_w2v_linear_SVM_naive_resampling          0.834672  0.883585     8716   \n",
       "fbwx_w2v_poly_SVM C=0.1                       0.961450  0.903261     8716   \n",
       "fbwx_w2v_poly_SVM C=1                         0.946879  0.917051     8716   \n",
       "fbwx_w2v_poly_SVM(C=0.1)_naive_resampling     0.834098  0.884159     8716   \n",
       "fbwx_w2v_poly_SVM(C=1)_naive_resampling       0.863011  0.901162     8716   \n",
       "fbwx_w2v_rbf_SVM(gamma=0.1)                   0.943323  0.919996     8716   \n",
       "fbwx_w2v_rbf_SVM(gamma=0.1)_naive_resampling  0.886875  0.908343     8716   \n",
       "fbwx_w2v_rbf_SVM(gamma=1/k)                   0.942864  0.920011     8716   \n",
       "fbwx_w2v_rbf_SVM(gamma=1/k)_naive_resampling  0.857389  0.898467     8716   \n",
       "\n",
       "                                              precision    recall  f1-score  \\\n",
       "TF-IDF_CNN                                     0.839887  0.851749  0.845450   \n",
       "TF-IDF_CNN_naive_resampling                    0.862777  0.833964  0.846590   \n",
       "fbwx_w2v_LR                                    0.844623  0.818837  0.830181   \n",
       "fbwx_w2v_LR_naive_resampling                   0.843138  0.816160  0.827994   \n",
       "fbwx_w2v_linear_SVM                            0.843884  0.815669  0.827901   \n",
       "fbwx_w2v_linear_SVM_naive_resampling           0.802435  0.846355  0.816842   \n",
       "fbwx_w2v_poly_SVM C=0.1                        0.850520  0.763159  0.790874   \n",
       "fbwx_w2v_poly_SVM C=1                          0.861428  0.819846  0.836926   \n",
       "fbwx_w2v_poly_SVM(C=0.1)_naive_resampling      0.803717  0.848603  0.818266   \n",
       "fbwx_w2v_poly_SVM(C=1)_naive_resampling        0.825491  0.863506  0.839754   \n",
       "fbwx_w2v_rbf_SVM(gamma=0.1)                    0.864047  0.832085  0.845853   \n",
       "fbwx_w2v_rbf_SVM(gamma=0.1)_naive_resampling   0.834495  0.857842  0.844590   \n",
       "fbwx_w2v_rbf_SVM(gamma=1/k)                    0.863846  0.832601  0.846105   \n",
       "fbwx_w2v_rbf_SVM(gamma=1/k)_naive_resampling   0.822081  0.862187  0.836679   \n",
       "\n",
       "                                              support  precision    recall  \\\n",
       "TF-IDF_CNN                                      12072   0.877324  0.874669   \n",
       "TF-IDF_CNN_naive_resampling                     12072   0.879961  0.882455   \n",
       "fbwx_w2v_LR                                     12069   0.866248  0.869252   \n",
       "fbwx_w2v_LR_naive_resampling                    12069   0.865914  0.869086   \n",
       "fbwx_w2v_linear_SVM                             12069   0.864202  0.867346   \n",
       "fbwx_w2v_linear_SVM_naive_resampling            12069   0.862936  0.841163   \n",
       "fbwx_w2v_poly_SVM C=0.1                         12069   0.851050  0.851272   \n",
       "fbwx_w2v_poly_SVM C=1                           12069   0.873700  0.876295   \n",
       "fbwx_w2v_poly_SVM(C=0.1)_naive_resampling       12069   0.864548  0.842158   \n",
       "fbwx_w2v_poly_SVM(C=1)_naive_resampling         12069   0.877638  0.863286   \n",
       "fbwx_w2v_rbf_SVM(gamma=0.1)                     12069   0.879043  0.881515   \n",
       "fbwx_w2v_rbf_SVM(gamma=0.1)_naive_resampling    12069   0.877324  0.870743   \n",
       "fbwx_w2v_rbf_SVM(gamma=1/k)                     12069   0.879130  0.881597   \n",
       "fbwx_w2v_rbf_SVM(gamma=1/k)_naive_resampling    12069   0.876115  0.860055   \n",
       "\n",
       "                                              f1-score  support  \n",
       "TF-IDF_CNN                                    0.875743    12072  \n",
       "TF-IDF_CNN_naive_resampling                   0.880028    12072  \n",
       "fbwx_w2v_LR                                   0.866714    12069  \n",
       "fbwx_w2v_LR_naive_resampling                  0.866411    12069  \n",
       "fbwx_w2v_linear_SVM                           0.864513    12069  \n",
       "fbwx_w2v_linear_SVM_naive_resampling          0.846500    12069  \n",
       "fbwx_w2v_poly_SVM C=0.1                       0.840815    12069  \n",
       "fbwx_w2v_poly_SVM C=1                         0.872530    12069  \n",
       "fbwx_w2v_poly_SVM(C=0.1)_naive_resampling     0.847546    12069  \n",
       "fbwx_w2v_poly_SVM(C=1)_naive_resampling       0.867041    12069  \n",
       "fbwx_w2v_rbf_SVM(gamma=0.1)                   0.878799    12069  \n",
       "fbwx_w2v_rbf_SVM(gamma=0.1)_naive_resampling  0.872920    12069  \n",
       "fbwx_w2v_rbf_SVM(gamma=1/k)                   0.878946    12069  \n",
       "fbwx_w2v_rbf_SVM(gamma=1/k)_naive_resampling  0.864135    12069  "
      ]
     },
     "execution_count": 625,
     "metadata": {},
     "output_type": "execute_result"
    }
   ],
   "source": [
    "fbwx_w2v_rbf_SVM_naive_resampling_performance = classification_report(test_y_svm, y_pred_svm,digits=4,output_dict=True)\n",
    "performance = fbwx_w2v_rbf_SVM_naive_resampling_performance\n",
    "model_name = 'fbwx_w2v_rbf_SVM(gamma=1/k)_naive_resampling'\n",
    "performance_df = sklearn_perform(model_name,performance,performance_df)\n",
    "performance_df"
   ]
  },
  {
   "cell_type": "code",
   "execution_count": 682,
   "metadata": {},
   "outputs": [],
   "source": [
    "fbwx_w2v_rbf_SVM_naive_resampling_data = newvalues.copy()"
   ]
  },
  {
   "cell_type": "code",
   "execution_count": 683,
   "metadata": {},
   "outputs": [
    {
     "data": {
      "text/plain": [
       "(60342, 4)"
      ]
     },
     "execution_count": 683,
     "metadata": {},
     "output_type": "execute_result"
    }
   ],
   "source": [
    "fbwx_w2v_rbf_SVM_naive_resampling_data.shape"
   ]
  },
  {
   "cell_type": "code",
   "execution_count": 684,
   "metadata": {},
   "outputs": [
    {
     "ename": "ValueError",
     "evalue": "Length of values (12069) does not match length of index (60342)",
     "output_type": "error",
     "traceback": [
      "\u001b[0;31m---------------------------------------------------------------------------\u001b[0m",
      "\u001b[0;31mValueError\u001b[0m                                Traceback (most recent call last)",
      "\u001b[0;32m<ipython-input-684-7c8695390d8b>\u001b[0m in \u001b[0;36m<module>\u001b[0;34m\u001b[0m\n\u001b[0;32m----> 1\u001b[0;31m \u001b[0mfbwx_w2v_rbf_SVM_naive_resampling_data\u001b[0m\u001b[0;34m[\u001b[0m\u001b[0;34m'prediction'\u001b[0m\u001b[0;34m]\u001b[0m \u001b[0;34m=\u001b[0m \u001b[0my_pred_svm\u001b[0m\u001b[0;34m\u001b[0m\u001b[0;34m\u001b[0m\u001b[0m\n\u001b[0m",
      "\u001b[0;32m/opt/anaconda3/envs/tf2/lib/python3.7/site-packages/pandas/core/frame.py\u001b[0m in \u001b[0;36m__setitem__\u001b[0;34m(self, key, value)\u001b[0m\n\u001b[1;32m   3042\u001b[0m         \u001b[0;32melse\u001b[0m\u001b[0;34m:\u001b[0m\u001b[0;34m\u001b[0m\u001b[0;34m\u001b[0m\u001b[0m\n\u001b[1;32m   3043\u001b[0m             \u001b[0;31m# set column\u001b[0m\u001b[0;34m\u001b[0m\u001b[0;34m\u001b[0m\u001b[0;34m\u001b[0m\u001b[0m\n\u001b[0;32m-> 3044\u001b[0;31m             \u001b[0mself\u001b[0m\u001b[0;34m.\u001b[0m\u001b[0m_set_item\u001b[0m\u001b[0;34m(\u001b[0m\u001b[0mkey\u001b[0m\u001b[0;34m,\u001b[0m \u001b[0mvalue\u001b[0m\u001b[0;34m)\u001b[0m\u001b[0;34m\u001b[0m\u001b[0;34m\u001b[0m\u001b[0m\n\u001b[0m\u001b[1;32m   3045\u001b[0m \u001b[0;34m\u001b[0m\u001b[0m\n\u001b[1;32m   3046\u001b[0m     \u001b[0;32mdef\u001b[0m \u001b[0m_setitem_slice\u001b[0m\u001b[0;34m(\u001b[0m\u001b[0mself\u001b[0m\u001b[0;34m,\u001b[0m \u001b[0mkey\u001b[0m\u001b[0;34m:\u001b[0m \u001b[0mslice\u001b[0m\u001b[0;34m,\u001b[0m \u001b[0mvalue\u001b[0m\u001b[0;34m)\u001b[0m\u001b[0;34m:\u001b[0m\u001b[0;34m\u001b[0m\u001b[0;34m\u001b[0m\u001b[0m\n",
      "\u001b[0;32m/opt/anaconda3/envs/tf2/lib/python3.7/site-packages/pandas/core/frame.py\u001b[0m in \u001b[0;36m_set_item\u001b[0;34m(self, key, value)\u001b[0m\n\u001b[1;32m   3118\u001b[0m         \"\"\"\n\u001b[1;32m   3119\u001b[0m         \u001b[0mself\u001b[0m\u001b[0;34m.\u001b[0m\u001b[0m_ensure_valid_index\u001b[0m\u001b[0;34m(\u001b[0m\u001b[0mvalue\u001b[0m\u001b[0;34m)\u001b[0m\u001b[0;34m\u001b[0m\u001b[0;34m\u001b[0m\u001b[0m\n\u001b[0;32m-> 3120\u001b[0;31m         \u001b[0mvalue\u001b[0m \u001b[0;34m=\u001b[0m \u001b[0mself\u001b[0m\u001b[0;34m.\u001b[0m\u001b[0m_sanitize_column\u001b[0m\u001b[0;34m(\u001b[0m\u001b[0mkey\u001b[0m\u001b[0;34m,\u001b[0m \u001b[0mvalue\u001b[0m\u001b[0;34m)\u001b[0m\u001b[0;34m\u001b[0m\u001b[0;34m\u001b[0m\u001b[0m\n\u001b[0m\u001b[1;32m   3121\u001b[0m         \u001b[0mNDFrame\u001b[0m\u001b[0;34m.\u001b[0m\u001b[0m_set_item\u001b[0m\u001b[0;34m(\u001b[0m\u001b[0mself\u001b[0m\u001b[0;34m,\u001b[0m \u001b[0mkey\u001b[0m\u001b[0;34m,\u001b[0m \u001b[0mvalue\u001b[0m\u001b[0;34m)\u001b[0m\u001b[0;34m\u001b[0m\u001b[0;34m\u001b[0m\u001b[0m\n\u001b[1;32m   3122\u001b[0m \u001b[0;34m\u001b[0m\u001b[0m\n",
      "\u001b[0;32m/opt/anaconda3/envs/tf2/lib/python3.7/site-packages/pandas/core/frame.py\u001b[0m in \u001b[0;36m_sanitize_column\u001b[0;34m(self, key, value, broadcast)\u001b[0m\n\u001b[1;32m   3766\u001b[0m \u001b[0;34m\u001b[0m\u001b[0m\n\u001b[1;32m   3767\u001b[0m             \u001b[0;31m# turn me into an ndarray\u001b[0m\u001b[0;34m\u001b[0m\u001b[0;34m\u001b[0m\u001b[0;34m\u001b[0m\u001b[0m\n\u001b[0;32m-> 3768\u001b[0;31m             \u001b[0mvalue\u001b[0m \u001b[0;34m=\u001b[0m \u001b[0msanitize_index\u001b[0m\u001b[0;34m(\u001b[0m\u001b[0mvalue\u001b[0m\u001b[0;34m,\u001b[0m \u001b[0mself\u001b[0m\u001b[0;34m.\u001b[0m\u001b[0mindex\u001b[0m\u001b[0;34m)\u001b[0m\u001b[0;34m\u001b[0m\u001b[0;34m\u001b[0m\u001b[0m\n\u001b[0m\u001b[1;32m   3769\u001b[0m             \u001b[0;32mif\u001b[0m \u001b[0;32mnot\u001b[0m \u001b[0misinstance\u001b[0m\u001b[0;34m(\u001b[0m\u001b[0mvalue\u001b[0m\u001b[0;34m,\u001b[0m \u001b[0;34m(\u001b[0m\u001b[0mnp\u001b[0m\u001b[0;34m.\u001b[0m\u001b[0mndarray\u001b[0m\u001b[0;34m,\u001b[0m \u001b[0mIndex\u001b[0m\u001b[0;34m)\u001b[0m\u001b[0;34m)\u001b[0m\u001b[0;34m:\u001b[0m\u001b[0;34m\u001b[0m\u001b[0;34m\u001b[0m\u001b[0m\n\u001b[1;32m   3770\u001b[0m                 \u001b[0;32mif\u001b[0m \u001b[0misinstance\u001b[0m\u001b[0;34m(\u001b[0m\u001b[0mvalue\u001b[0m\u001b[0;34m,\u001b[0m \u001b[0mlist\u001b[0m\u001b[0;34m)\u001b[0m \u001b[0;32mand\u001b[0m \u001b[0mlen\u001b[0m\u001b[0;34m(\u001b[0m\u001b[0mvalue\u001b[0m\u001b[0;34m)\u001b[0m \u001b[0;34m>\u001b[0m \u001b[0;36m0\u001b[0m\u001b[0;34m:\u001b[0m\u001b[0;34m\u001b[0m\u001b[0;34m\u001b[0m\u001b[0m\n",
      "\u001b[0;32m/opt/anaconda3/envs/tf2/lib/python3.7/site-packages/pandas/core/internals/construction.py\u001b[0m in \u001b[0;36msanitize_index\u001b[0;34m(data, index)\u001b[0m\n\u001b[1;32m    746\u001b[0m     \u001b[0;32mif\u001b[0m \u001b[0mlen\u001b[0m\u001b[0;34m(\u001b[0m\u001b[0mdata\u001b[0m\u001b[0;34m)\u001b[0m \u001b[0;34m!=\u001b[0m \u001b[0mlen\u001b[0m\u001b[0;34m(\u001b[0m\u001b[0mindex\u001b[0m\u001b[0;34m)\u001b[0m\u001b[0;34m:\u001b[0m\u001b[0;34m\u001b[0m\u001b[0;34m\u001b[0m\u001b[0m\n\u001b[1;32m    747\u001b[0m         raise ValueError(\n\u001b[0;32m--> 748\u001b[0;31m             \u001b[0;34m\"Length of values \"\u001b[0m\u001b[0;34m\u001b[0m\u001b[0;34m\u001b[0m\u001b[0m\n\u001b[0m\u001b[1;32m    749\u001b[0m             \u001b[0;34mf\"({len(data)}) \"\u001b[0m\u001b[0;34m\u001b[0m\u001b[0;34m\u001b[0m\u001b[0m\n\u001b[1;32m    750\u001b[0m             \u001b[0;34m\"does not match length of index \"\u001b[0m\u001b[0;34m\u001b[0m\u001b[0;34m\u001b[0m\u001b[0m\n",
      "\u001b[0;31mValueError\u001b[0m: Length of values (12069) does not match length of index (60342)"
     ]
    }
   ],
   "source": [
    "fbwx_w2v_rbf_SVM_naive_resampling_data['prediction'] = y_pred_svm"
   ]
  },
  {
   "cell_type": "code",
   "execution_count": null,
   "metadata": {},
   "outputs": [],
   "source": []
  },
  {
   "cell_type": "markdown",
   "metadata": {},
   "source": [
    "### Model 4.1 现有样本训练Word2Vec + XGBoost"
   ]
  },
  {
   "cell_type": "code",
   "execution_count": 626,
   "metadata": {},
   "outputs": [],
   "source": [
    "import xgboost as xgb"
   ]
  },
  {
   "cell_type": "code",
   "execution_count": 627,
   "metadata": {},
   "outputs": [],
   "source": [
    "train_X_xgb = train_X_svm.copy()\n",
    "test_X_xgb = test_X_svm.copy()\n",
    "train_y_xgb = train_y_svm.copy()\n",
    "test_y_xgb = test_y_svm.copy()"
   ]
  },
  {
   "cell_type": "code",
   "execution_count": 628,
   "metadata": {},
   "outputs": [
    {
     "data": {
      "text/plain": [
       "(48273, 200)"
      ]
     },
     "execution_count": 628,
     "metadata": {},
     "output_type": "execute_result"
    }
   ],
   "source": [
    "train_X_xgb.shape"
   ]
  },
  {
   "cell_type": "code",
   "execution_count": 629,
   "metadata": {},
   "outputs": [],
   "source": [
    "params={\n",
    "'booster':'gbtree', \n",
    "# 这里手写数字是0-9，是一个多类的问题，因此采用了multisoft多分类器，\n",
    "'objective': 'binary:logistic',  #二分类的逻辑回归问题，输出为概率\n",
    "'eval_metric' : 'auc',\n",
    "'gamma':0.05,  # 在树的叶子节点下一个分区的最小损失，越大算法模型越保守 。[0:]\n",
    "'n_estimators' : 10,\n",
    "'max_depth':4, # 构建树的深度 [1:] 需要用单颗树较少的深度来减少偏差 一般3-10 这里调低深度使得模型更为贪婪\n",
    "#'lambda':450,  # L2 正则项权重\n",
    "'subsample':0.7, # 采样训练数据，设置为0.5，随机选择一般的数据实例 (0:1]\n",
    "'colsample_bytree':0.7, # 构建树树时的采样比率 (0:1]\n",
    "#'min_child_weight':12, # 节点的最少特征数\n",
    "'scale_pos_weight' : 2.349911190053286,\n",
    "'silent':0 ,\n",
    "'eta': 0.05, # 如同学习率http://localhost:8889/notebooks/Test.ipynb#\n",
    "'seed':701,\n",
    "'nthreads':-1,# cpu 线程数,根据自己U的个数适当调整\n",
    "}"
   ]
  },
  {
   "cell_type": "code",
   "execution_count": 636,
   "metadata": {},
   "outputs": [
    {
     "data": {
      "text/plain": [
       "0    43770\n",
       "1    16572\n",
       "Name: label, dtype: int64"
      ]
     },
     "execution_count": 636,
     "metadata": {},
     "output_type": "execute_result"
    }
   ],
   "source": [
    "word2vec_gb_wx.label.value_counts()"
   ]
  },
  {
   "cell_type": "code",
   "execution_count": 637,
   "metadata": {},
   "outputs": [],
   "source": [
    "sklearn_model_new = xgb.XGBClassifier(max_depth=5,\n",
    "                                      learning_rate= 0.05, #0.0001到0.1之间 太小速度很慢\n",
    "                                      verbosity=1, \n",
    "                                      objective='binary:logistic',\n",
    "                                      subsample = 0.7,\n",
    "                                      colsample_bytree = 0.7,\n",
    "                                      scale_pos_weight = 43770/16572,\n",
    "                                      random_state=1\n",
    "                                     # 这里没有用到n_estimator, 因为用early_stopping_rounds使得auc最优)"
   ]
  },
  {
   "cell_type": "code",
   "execution_count": 638,
   "metadata": {},
   "outputs": [],
   "source": [
    "train_X_xgb, val_X_xgb, train_y_xgb, val_y_xgb = train_test_split(X, y, test_size=0.05)"
   ]
  },
  {
   "cell_type": "code",
   "execution_count": 639,
   "metadata": {
    "scrolled": true
   },
   "outputs": [
    {
     "name": "stdout",
     "output_type": "stream",
     "text": [
      "[0]\tvalidation_0-auc:0.834877\n",
      "Will train until validation_0-auc hasn't improved in 10 rounds.\n",
      "[1]\tvalidation_0-auc:0.87369\n",
      "[2]\tvalidation_0-auc:0.877923\n",
      "[3]\tvalidation_0-auc:0.883487\n",
      "[4]\tvalidation_0-auc:0.885268\n",
      "[5]\tvalidation_0-auc:0.887156\n",
      "[6]\tvalidation_0-auc:0.888427\n",
      "[7]\tvalidation_0-auc:0.888421\n",
      "[8]\tvalidation_0-auc:0.8882\n",
      "[9]\tvalidation_0-auc:0.888612\n",
      "[10]\tvalidation_0-auc:0.889117\n",
      "[11]\tvalidation_0-auc:0.890345\n",
      "[12]\tvalidation_0-auc:0.891183\n",
      "[13]\tvalidation_0-auc:0.891934\n",
      "[14]\tvalidation_0-auc:0.892814\n",
      "[15]\tvalidation_0-auc:0.893858\n",
      "[16]\tvalidation_0-auc:0.894098\n",
      "[17]\tvalidation_0-auc:0.894823\n",
      "[18]\tvalidation_0-auc:0.895078\n",
      "[19]\tvalidation_0-auc:0.895482\n",
      "[20]\tvalidation_0-auc:0.895415\n",
      "[21]\tvalidation_0-auc:0.896357\n",
      "[22]\tvalidation_0-auc:0.897197\n",
      "[23]\tvalidation_0-auc:0.897998\n",
      "[24]\tvalidation_0-auc:0.898762\n",
      "[25]\tvalidation_0-auc:0.899002\n",
      "[26]\tvalidation_0-auc:0.899427\n",
      "[27]\tvalidation_0-auc:0.899916\n",
      "[28]\tvalidation_0-auc:0.900265\n",
      "[29]\tvalidation_0-auc:0.900666\n",
      "[30]\tvalidation_0-auc:0.900637\n",
      "[31]\tvalidation_0-auc:0.900933\n",
      "[32]\tvalidation_0-auc:0.901182\n",
      "[33]\tvalidation_0-auc:0.901564\n",
      "[34]\tvalidation_0-auc:0.902017\n",
      "[35]\tvalidation_0-auc:0.901895\n",
      "[36]\tvalidation_0-auc:0.902373\n",
      "[37]\tvalidation_0-auc:0.902879\n",
      "[38]\tvalidation_0-auc:0.903463\n",
      "[39]\tvalidation_0-auc:0.903757\n",
      "[40]\tvalidation_0-auc:0.904242\n",
      "[41]\tvalidation_0-auc:0.904624\n",
      "[42]\tvalidation_0-auc:0.904607\n",
      "[43]\tvalidation_0-auc:0.905244\n",
      "[44]\tvalidation_0-auc:0.905828\n",
      "[45]\tvalidation_0-auc:0.906069\n",
      "[46]\tvalidation_0-auc:0.906238\n",
      "[47]\tvalidation_0-auc:0.906419\n",
      "[48]\tvalidation_0-auc:0.906808\n",
      "[49]\tvalidation_0-auc:0.907057\n",
      "[50]\tvalidation_0-auc:0.90737\n",
      "[51]\tvalidation_0-auc:0.90767\n",
      "[52]\tvalidation_0-auc:0.907825\n",
      "[53]\tvalidation_0-auc:0.908069\n",
      "[54]\tvalidation_0-auc:0.908401\n",
      "[55]\tvalidation_0-auc:0.908439\n",
      "[56]\tvalidation_0-auc:0.908867\n",
      "[57]\tvalidation_0-auc:0.909138\n",
      "[58]\tvalidation_0-auc:0.909322\n",
      "[59]\tvalidation_0-auc:0.909319\n",
      "[60]\tvalidation_0-auc:0.909596\n",
      "[61]\tvalidation_0-auc:0.909696\n",
      "[62]\tvalidation_0-auc:0.910033\n",
      "[63]\tvalidation_0-auc:0.910259\n",
      "[64]\tvalidation_0-auc:0.910356\n",
      "[65]\tvalidation_0-auc:0.910776\n",
      "[66]\tvalidation_0-auc:0.911029\n",
      "[67]\tvalidation_0-auc:0.911181\n",
      "[68]\tvalidation_0-auc:0.91141\n",
      "[69]\tvalidation_0-auc:0.911569\n",
      "[70]\tvalidation_0-auc:0.911828\n",
      "[71]\tvalidation_0-auc:0.91202\n",
      "[72]\tvalidation_0-auc:0.912245\n",
      "[73]\tvalidation_0-auc:0.912464\n",
      "[74]\tvalidation_0-auc:0.912442\n",
      "[75]\tvalidation_0-auc:0.912699\n",
      "[76]\tvalidation_0-auc:0.912699\n",
      "[77]\tvalidation_0-auc:0.912812\n",
      "[78]\tvalidation_0-auc:0.913182\n",
      "[79]\tvalidation_0-auc:0.913352\n",
      "[80]\tvalidation_0-auc:0.913474\n",
      "[81]\tvalidation_0-auc:0.913575\n",
      "[82]\tvalidation_0-auc:0.913704\n",
      "[83]\tvalidation_0-auc:0.913848\n",
      "[84]\tvalidation_0-auc:0.914175\n",
      "[85]\tvalidation_0-auc:0.914337\n",
      "[86]\tvalidation_0-auc:0.914354\n",
      "[87]\tvalidation_0-auc:0.914522\n",
      "[88]\tvalidation_0-auc:0.914629\n",
      "[89]\tvalidation_0-auc:0.914854\n",
      "[90]\tvalidation_0-auc:0.914962\n",
      "[91]\tvalidation_0-auc:0.915202\n",
      "[92]\tvalidation_0-auc:0.915427\n",
      "[93]\tvalidation_0-auc:0.915653\n",
      "[94]\tvalidation_0-auc:0.915834\n",
      "[95]\tvalidation_0-auc:0.915988\n",
      "[96]\tvalidation_0-auc:0.916127\n",
      "[97]\tvalidation_0-auc:0.916288\n",
      "[98]\tvalidation_0-auc:0.916365\n",
      "[99]\tvalidation_0-auc:0.916455\n"
     ]
    },
    {
     "data": {
      "text/plain": [
       "XGBClassifier(colsample_bytree=0.7, learning_rate=0.05, max_depth=5,\n",
       "              random_state=1, scale_pos_weight=2.6412020275162926,\n",
       "              subsample=0.7)"
      ]
     },
     "execution_count": 639,
     "metadata": {},
     "output_type": "execute_result"
    }
   ],
   "source": [
    "sklearn_model_new.fit(train_X_xgb, train_y_xgb, early_stopping_rounds=10, eval_metric=\"auc\",\n",
    "        eval_set=[(val_X_xgb, val_y_xgb)])"
   ]
  },
  {
   "cell_type": "code",
   "execution_count": 640,
   "metadata": {},
   "outputs": [],
   "source": [
    "y_pred_xgb = sklearn_model_new.predict(test_X_xgb)"
   ]
  },
  {
   "cell_type": "code",
   "execution_count": 641,
   "metadata": {},
   "outputs": [
    {
     "name": "stdout",
     "output_type": "stream",
     "text": [
      "              precision    recall  f1-score   support\n",
      "\n",
      "           0     0.9492    0.8237    0.8820      8716\n",
      "           1     0.6589    0.8855    0.7556      3353\n",
      "\n",
      "    accuracy                         0.8408     12069\n",
      "   macro avg     0.8041    0.8546    0.8188     12069\n",
      "weighted avg     0.8686    0.8408    0.8469     12069\n",
      "\n"
     ]
    }
   ],
   "source": [
    "print(classification_report(test_y_xgb, y_pred_xgb,digits=4))"
   ]
  },
  {
   "cell_type": "code",
   "execution_count": 642,
   "metadata": {},
   "outputs": [
    {
     "data": {
      "image/png": "[encoded data removed]",
      "text/plain": [
       "<Figure size 432x288 with 1 Axes>"
      ]
     },
     "metadata": {
      "needs_background": "light"
     },
     "output_type": "display_data"
    }
   ],
   "source": [
    "mat = confusion_matrix(y_pred_xgb,test_y_xgb)\n",
    "sns.heatmap(mat, square=True, annot=True, cbar=False,fmt='.20g')\n",
    "plt.xlabel(\"Actual Result\")\n",
    "plt.ylabel(\"Predicted Result\")\n",
    "a, b = plt.ylim() \n",
    "a += 0.5 \n",
    "b -= 0.5 \n",
    "plt.ylim(a, b) \n",
    "plt.show() "
   ]
  },
  {
   "cell_type": "code",
   "execution_count": null,
   "metadata": {},
   "outputs": [],
   "source": []
  },
  {
   "cell_type": "code",
   "execution_count": null,
   "metadata": {},
   "outputs": [],
   "source": []
  },
  {
   "cell_type": "code",
   "execution_count": null,
   "metadata": {},
   "outputs": [],
   "source": []
  },
  {
   "cell_type": "code",
   "execution_count": null,
   "metadata": {},
   "outputs": [],
   "source": []
  },
  {
   "cell_type": "code",
   "execution_count": null,
   "metadata": {},
   "outputs": [],
   "source": []
  },
  {
   "cell_type": "code",
   "execution_count": 266,
   "metadata": {},
   "outputs": [],
   "source": [
    "from sklearn.model_selection import GridSearchCV"
   ]
  },
  {
   "cell_type": "code",
   "execution_count": 332,
   "metadata": {},
   "outputs": [],
   "source": [
    "paramGrid = {\"max_depth\" : [5,6,7,8,9,10]}\n",
    "cv = 2"
   ]
  },
  {
   "cell_type": "code",
   "execution_count": 333,
   "metadata": {},
   "outputs": [],
   "source": [
    "fit_params={\"early_stopping_rounds\":5, \n",
    "            \"eval_metric\" : \"auc\", \n",
    "            \"eval_set\" : [[val_X_xgb, val_y_xgb]]}"
   ]
  },
  {
   "cell_type": "code",
   "execution_count": 334,
   "metadata": {
    "scrolled": true
   },
   "outputs": [
    {
     "name": "stdout",
     "output_type": "stream",
     "text": [
      "Fitting 2 folds for each of 6 candidates, totalling 12 fits\n"
     ]
    },
    {
     "name": "stderr",
     "output_type": "stream",
     "text": [
      "[Parallel(n_jobs=-1)]: Using backend LokyBackend with 8 concurrent workers.\n",
      "[Parallel(n_jobs=-1)]: Done  10 out of  12 | elapsed:  1.3min remaining:   15.5s\n",
      "[Parallel(n_jobs=-1)]: Done  12 out of  12 | elapsed:  2.0min finished\n"
     ]
    },
    {
     "name": "stdout",
     "output_type": "stream",
     "text": [
      "[0]\tvalidation_0-auc:0.862506\n",
      "Will train until validation_0-auc hasn't improved in 5 rounds.\n",
      "[1]\tvalidation_0-auc:0.883963\n",
      "[2]\tvalidation_0-auc:0.892269\n",
      "[3]\tvalidation_0-auc:0.899534\n",
      "[4]\tvalidation_0-auc:0.902337\n",
      "[5]\tvalidation_0-auc:0.905057\n",
      "[6]\tvalidation_0-auc:0.907803\n",
      "[7]\tvalidation_0-auc:0.908734\n",
      "[8]\tvalidation_0-auc:0.907833\n",
      "[9]\tvalidation_0-auc:0.9092\n",
      "[10]\tvalidation_0-auc:0.91059\n",
      "[11]\tvalidation_0-auc:0.911343\n",
      "[12]\tvalidation_0-auc:0.911638\n",
      "[13]\tvalidation_0-auc:0.91207\n",
      "[14]\tvalidation_0-auc:0.912862\n",
      "[15]\tvalidation_0-auc:0.913734\n",
      "[16]\tvalidation_0-auc:0.914234\n",
      "[17]\tvalidation_0-auc:0.91447\n",
      "[18]\tvalidation_0-auc:0.915312\n",
      "[19]\tvalidation_0-auc:0.91593\n",
      "[20]\tvalidation_0-auc:0.916336\n",
      "[21]\tvalidation_0-auc:0.917199\n",
      "[22]\tvalidation_0-auc:0.917462\n",
      "[23]\tvalidation_0-auc:0.917856\n",
      "[24]\tvalidation_0-auc:0.918561\n",
      "[25]\tvalidation_0-auc:0.918727\n",
      "[26]\tvalidation_0-auc:0.919605\n",
      "[27]\tvalidation_0-auc:0.920208\n",
      "[28]\tvalidation_0-auc:0.920403\n",
      "[29]\tvalidation_0-auc:0.921049\n",
      "[30]\tvalidation_0-auc:0.92147\n",
      "[31]\tvalidation_0-auc:0.922266\n",
      "[32]\tvalidation_0-auc:0.922705\n",
      "[33]\tvalidation_0-auc:0.922968\n",
      "[34]\tvalidation_0-auc:0.922962\n",
      "[35]\tvalidation_0-auc:0.923289\n",
      "[36]\tvalidation_0-auc:0.923537\n",
      "[37]\tvalidation_0-auc:0.92399\n",
      "[38]\tvalidation_0-auc:0.924114\n",
      "[39]\tvalidation_0-auc:0.924189\n",
      "[40]\tvalidation_0-auc:0.924329\n",
      "[41]\tvalidation_0-auc:0.924716\n",
      "[42]\tvalidation_0-auc:0.92523\n",
      "[43]\tvalidation_0-auc:0.925833\n",
      "[44]\tvalidation_0-auc:0.926096\n",
      "[45]\tvalidation_0-auc:0.926054\n",
      "[46]\tvalidation_0-auc:0.926282\n",
      "[47]\tvalidation_0-auc:0.92636\n",
      "[48]\tvalidation_0-auc:0.926559\n",
      "[49]\tvalidation_0-auc:0.926828\n",
      "[50]\tvalidation_0-auc:0.92701\n",
      "[51]\tvalidation_0-auc:0.926933\n",
      "[52]\tvalidation_0-auc:0.927266\n",
      "[53]\tvalidation_0-auc:0.92714\n",
      "[54]\tvalidation_0-auc:0.927236\n",
      "[55]\tvalidation_0-auc:0.927477\n",
      "[56]\tvalidation_0-auc:0.927686\n",
      "[57]\tvalidation_0-auc:0.927706\n",
      "[58]\tvalidation_0-auc:0.927897\n",
      "[59]\tvalidation_0-auc:0.928158\n",
      "[60]\tvalidation_0-auc:0.928348\n",
      "[61]\tvalidation_0-auc:0.928827\n",
      "[62]\tvalidation_0-auc:0.928972\n",
      "[63]\tvalidation_0-auc:0.929298\n",
      "[64]\tvalidation_0-auc:0.929456\n",
      "[65]\tvalidation_0-auc:0.92967\n",
      "[66]\tvalidation_0-auc:0.92979\n",
      "[67]\tvalidation_0-auc:0.93013\n",
      "[68]\tvalidation_0-auc:0.930284\n",
      "[69]\tvalidation_0-auc:0.930201\n",
      "[70]\tvalidation_0-auc:0.930255\n",
      "[71]\tvalidation_0-auc:0.93039\n",
      "[72]\tvalidation_0-auc:0.930272\n",
      "[73]\tvalidation_0-auc:0.930305\n",
      "[74]\tvalidation_0-auc:0.930545\n",
      "[75]\tvalidation_0-auc:0.93065\n",
      "[76]\tvalidation_0-auc:0.930708\n",
      "[77]\tvalidation_0-auc:0.930813\n",
      "[78]\tvalidation_0-auc:0.931031\n",
      "[79]\tvalidation_0-auc:0.931245\n",
      "[80]\tvalidation_0-auc:0.931231\n",
      "[81]\tvalidation_0-auc:0.931185\n",
      "[82]\tvalidation_0-auc:0.931208\n",
      "[83]\tvalidation_0-auc:0.931434\n",
      "[84]\tvalidation_0-auc:0.931523\n",
      "[85]\tvalidation_0-auc:0.931682\n",
      "[86]\tvalidation_0-auc:0.931817\n",
      "[87]\tvalidation_0-auc:0.932051\n",
      "[88]\tvalidation_0-auc:0.932042\n",
      "[89]\tvalidation_0-auc:0.932179\n",
      "[90]\tvalidation_0-auc:0.932231\n",
      "[91]\tvalidation_0-auc:0.932442\n",
      "[92]\tvalidation_0-auc:0.932502\n",
      "[93]\tvalidation_0-auc:0.932577\n",
      "[94]\tvalidation_0-auc:0.932688\n",
      "[95]\tvalidation_0-auc:0.932689\n",
      "[96]\tvalidation_0-auc:0.93278\n",
      "[97]\tvalidation_0-auc:0.932985\n",
      "[98]\tvalidation_0-auc:0.932925\n",
      "[99]\tvalidation_0-auc:0.932938\n"
     ]
    },
    {
     "data": {
      "text/plain": [
       "GridSearchCV(cv=2,\n",
       "             estimator=XGBRegressor(colsample_bytree=0.7, learning_rate=0.05,\n",
       "                                    objective='binary:logistic', random_state=1,\n",
       "                                    scale_pos_weight=2.349911190053286,\n",
       "                                    subsample=0.7),\n",
       "             n_jobs=-1, param_grid={'max_depth': [5, 6, 7, 8, 9, 10]},\n",
       "             verbose=1)"
      ]
     },
     "execution_count": 334,
     "metadata": {},
     "output_type": "execute_result"
    }
   ],
   "source": [
    "model = xgb.XGBRegressor(learning_rate= 0.05, \n",
    "                         verbosity=1,\n",
    "                         objective='binary:logistic',\n",
    "                         subsample = 0.7,\n",
    "                         colsample_bytree = 0.7,\n",
    "                         scale_pos_weight = 2.349911190053286,\n",
    "                         random_state=1)\n",
    "\n",
    "gridsearch = GridSearchCV(model, paramGrid, verbose=1,cv = 2,\n",
    "                        n_jobs = -1)\n",
    "\n",
    "gridsearch.fit(train_X_xgb, train_y_xgb, **fit_params)"
   ]
  },
  {
   "cell_type": "code",
   "execution_count": 335,
   "metadata": {
    "scrolled": true
   },
   "outputs": [
    {
     "name": "stdout",
     "output_type": "stream",
     "text": [
      "0.5112642258986644\n",
      "{'max_depth': 9}\n"
     ]
    }
   ],
   "source": [
    "print(gridsearch.best_score_)\n",
    "print(gridsearch.best_params_)"
   ]
  },
  {
   "cell_type": "code",
   "execution_count": 336,
   "metadata": {
    "scrolled": true
   },
   "outputs": [
    {
     "name": "stdout",
     "output_type": "stream",
     "text": [
      "[0]\tvalidation_0-auc:0.849186\n",
      "Will train until validation_0-auc hasn't improved in 10 rounds.\n",
      "[1]\tvalidation_0-auc:0.878202\n",
      "[2]\tvalidation_0-auc:0.877414\n",
      "[3]\tvalidation_0-auc:0.880505\n",
      "[4]\tvalidation_0-auc:0.883067\n",
      "[5]\tvalidation_0-auc:0.885838\n",
      "[6]\tvalidation_0-auc:0.888724\n",
      "[7]\tvalidation_0-auc:0.890981\n",
      "[8]\tvalidation_0-auc:0.891121\n",
      "[9]\tvalidation_0-auc:0.892434\n",
      "[10]\tvalidation_0-auc:0.893584\n",
      "[11]\tvalidation_0-auc:0.894864\n",
      "[12]\tvalidation_0-auc:0.895439\n",
      "[13]\tvalidation_0-auc:0.895722\n",
      "[14]\tvalidation_0-auc:0.895696\n",
      "[15]\tvalidation_0-auc:0.89571\n",
      "[16]\tvalidation_0-auc:0.89603\n",
      "[17]\tvalidation_0-auc:0.897556\n",
      "[18]\tvalidation_0-auc:0.898382\n",
      "[19]\tvalidation_0-auc:0.898597\n",
      "[20]\tvalidation_0-auc:0.899176\n",
      "[21]\tvalidation_0-auc:0.899345\n",
      "[22]\tvalidation_0-auc:0.899867\n",
      "[23]\tvalidation_0-auc:0.899843\n",
      "[24]\tvalidation_0-auc:0.900845\n",
      "[25]\tvalidation_0-auc:0.901522\n",
      "[26]\tvalidation_0-auc:0.90233\n",
      "[27]\tvalidation_0-auc:0.90262\n",
      "[28]\tvalidation_0-auc:0.903502\n",
      "[29]\tvalidation_0-auc:0.904483\n",
      "[30]\tvalidation_0-auc:0.904392\n",
      "[31]\tvalidation_0-auc:0.905037\n",
      "[32]\tvalidation_0-auc:0.905787\n",
      "[33]\tvalidation_0-auc:0.906129\n",
      "[34]\tvalidation_0-auc:0.906959\n",
      "[35]\tvalidation_0-auc:0.907224\n",
      "[36]\tvalidation_0-auc:0.907529\n",
      "[37]\tvalidation_0-auc:0.90807\n",
      "[38]\tvalidation_0-auc:0.907813\n",
      "[39]\tvalidation_0-auc:0.90819\n",
      "[40]\tvalidation_0-auc:0.908309\n",
      "[41]\tvalidation_0-auc:0.908796\n",
      "[42]\tvalidation_0-auc:0.909131\n",
      "[43]\tvalidation_0-auc:0.909193\n",
      "[44]\tvalidation_0-auc:0.909193\n",
      "[45]\tvalidation_0-auc:0.909337\n",
      "[46]\tvalidation_0-auc:0.909631\n",
      "[47]\tvalidation_0-auc:0.909908\n",
      "[48]\tvalidation_0-auc:0.909982\n",
      "[49]\tvalidation_0-auc:0.909985\n",
      "[50]\tvalidation_0-auc:0.910185\n",
      "[51]\tvalidation_0-auc:0.910434\n",
      "[52]\tvalidation_0-auc:0.910651\n",
      "[53]\tvalidation_0-auc:0.910702\n",
      "[54]\tvalidation_0-auc:0.910923\n",
      "[55]\tvalidation_0-auc:0.911451\n",
      "[56]\tvalidation_0-auc:0.911771\n",
      "[57]\tvalidation_0-auc:0.912141\n",
      "[58]\tvalidation_0-auc:0.912346\n",
      "[59]\tvalidation_0-auc:0.912359\n",
      "[60]\tvalidation_0-auc:0.912648\n",
      "[61]\tvalidation_0-auc:0.912962\n",
      "[62]\tvalidation_0-auc:0.912972\n",
      "[63]\tvalidation_0-auc:0.913359\n",
      "[64]\tvalidation_0-auc:0.913602\n",
      "[65]\tvalidation_0-auc:0.913815\n",
      "[66]\tvalidation_0-auc:0.91412\n",
      "[67]\tvalidation_0-auc:0.914447\n",
      "[68]\tvalidation_0-auc:0.914617\n",
      "[69]\tvalidation_0-auc:0.914697\n",
      "[70]\tvalidation_0-auc:0.915149\n",
      "[71]\tvalidation_0-auc:0.915359\n",
      "[72]\tvalidation_0-auc:0.915574\n",
      "[73]\tvalidation_0-auc:0.91558\n",
      "[74]\tvalidation_0-auc:0.915717\n",
      "[75]\tvalidation_0-auc:0.915946\n",
      "[76]\tvalidation_0-auc:0.915998\n",
      "[77]\tvalidation_0-auc:0.916365\n",
      "[78]\tvalidation_0-auc:0.916274\n",
      "[79]\tvalidation_0-auc:0.916508\n",
      "[80]\tvalidation_0-auc:0.916728\n",
      "[81]\tvalidation_0-auc:0.916807\n",
      "[82]\tvalidation_0-auc:0.916865\n",
      "[83]\tvalidation_0-auc:0.917097\n",
      "[84]\tvalidation_0-auc:0.917188\n",
      "[85]\tvalidation_0-auc:0.917414\n",
      "[86]\tvalidation_0-auc:0.9175\n",
      "[87]\tvalidation_0-auc:0.917717\n",
      "[88]\tvalidation_0-auc:0.917757\n",
      "[89]\tvalidation_0-auc:0.9178\n",
      "[90]\tvalidation_0-auc:0.918145\n",
      "[91]\tvalidation_0-auc:0.918162\n",
      "[92]\tvalidation_0-auc:0.918322\n",
      "[93]\tvalidation_0-auc:0.918554\n",
      "[94]\tvalidation_0-auc:0.918545\n",
      "[95]\tvalidation_0-auc:0.91866\n",
      "[96]\tvalidation_0-auc:0.918838\n",
      "[97]\tvalidation_0-auc:0.918911\n",
      "[98]\tvalidation_0-auc:0.919094\n",
      "[99]\tvalidation_0-auc:0.919207\n"
     ]
    }
   ],
   "source": [
    "model = xgb.XGBRegressor(learning_rate= 0.05, \n",
    "                         verbosity=1,\n",
    "                         objective='binary:logistic',\n",
    "                         subsample = 0.7,\n",
    "                         colsample_bytree = 0.7,\n",
    "                         scale_pos_weight = 2.349911190053286,\n",
    "                         random_state=1,\n",
    "                        max_depth = 5)\n",
    "model.fit(train_X_xgb, train_y_xgb, early_stopping_rounds=10, eval_metric=\"auc\",\n",
    "        eval_set=[(val_X_xgb, val_y_xgb)])\n",
    "y_pred_xgb = model.predict(test_X_xgb)"
   ]
  },
  {
   "cell_type": "code",
   "execution_count": 337,
   "metadata": {
    "scrolled": true
   },
   "outputs": [],
   "source": [
    "y_pred_xgb_label = []\n",
    "for i in y_pred_xgb:\n",
    "    if i >= 0.5:\n",
    "        label = 1\n",
    "        y_pred_xgb_label.append(label)\n",
    "    else:\n",
    "        label = 0\n",
    "        y_pred_xgb_label.append(label)\n"
   ]
  },
  {
   "cell_type": "code",
   "execution_count": 338,
   "metadata": {},
   "outputs": [
    {
     "name": "stdout",
     "output_type": "stream",
     "text": [
      "              precision    recall  f1-score   support\n",
      "\n",
      "           0     0.9467    0.8357    0.8878      4974\n",
      "           1     0.6954    0.8885    0.7802      2099\n",
      "\n",
      "    accuracy                         0.8514      7073\n",
      "   macro avg     0.8210    0.8621    0.8340      7073\n",
      "weighted avg     0.8721    0.8514    0.8558      7073\n",
      "\n"
     ]
    }
   ],
   "source": [
    "print(classification_report(test_y_xgb, y_pred_xgb_label,digits=4))"
   ]
  },
  {
   "cell_type": "code",
   "execution_count": 339,
   "metadata": {},
   "outputs": [
    {
     "data": {
      "image/png": "[encoded data removed]",
      "text/plain": [
       "<Figure size 432x288 with 1 Axes>"
      ]
     },
     "metadata": {},
     "output_type": "display_data"
    }
   ],
   "source": [
    "mat = confusion_matrix(y_pred_xgb_label,test_y_xgb)\n",
    "sns.heatmap(mat, square=True, annot=True, cbar=False,fmt='.20g')\n",
    "plt.xlabel(\"Actual Result\")\n",
    "plt.ylabel(\"Predicted Result\")\n",
    "a, b = plt.ylim() \n",
    "a += 0.5 \n",
    "b -= 0.5 \n",
    "plt.ylim(a, b) \n",
    "plt.show() "
   ]
  },
  {
   "cell_type": "code",
   "execution_count": null,
   "metadata": {},
   "outputs": [],
   "source": []
  },
  {
   "cell_type": "code",
   "execution_count": null,
   "metadata": {},
   "outputs": [],
   "source": []
  },
  {
   "cell_type": "code",
   "execution_count": null,
   "metadata": {},
   "outputs": [],
   "source": []
  },
  {
   "cell_type": "code",
   "execution_count": null,
   "metadata": {},
   "outputs": [],
   "source": []
  },
  {
   "cell_type": "code",
   "execution_count": null,
   "metadata": {},
   "outputs": [],
   "source": []
  },
  {
   "cell_type": "code",
   "execution_count": null,
   "metadata": {},
   "outputs": [],
   "source": []
  },
  {
   "cell_type": "code",
   "execution_count": null,
   "metadata": {},
   "outputs": [],
   "source": []
  },
  {
   "cell_type": "code",
   "execution_count": null,
   "metadata": {},
   "outputs": [],
   "source": []
  },
  {
   "cell_type": "code",
   "execution_count": 643,
   "metadata": {},
   "outputs": [],
   "source": [
    "from xgboost import XGBClassifier\n",
    "from matplotlib import pyplot\n",
    "import matplotlib.pyplot as plt"
   ]
  },
  {
   "cell_type": "code",
   "execution_count": 650,
   "metadata": {},
   "outputs": [
    {
     "data": {
      "text/plain": [
       "XGBClassifier(colsample_bytree=0.7, learning_rate=0.05, max_depth=5,\n",
       "              n_estimators=200, random_state=1,\n",
       "              scale_pos_weight=2.6412020275162926, subsample=0.7)"
      ]
     },
     "execution_count": 650,
     "metadata": {},
     "output_type": "execute_result"
    }
   ],
   "source": [
    "model = XGBClassifier(max_depth = 5,\n",
    "                      learning_rate = 0.05,\n",
    "                      n_estimators = 200,\n",
    "                      colsample_bytree = 0.7,\n",
    "                      subsample = 0.7,\n",
    "                      scale_pos_weight =43770/16572,\n",
    "                     random_state = 1)\n",
    "eval_set = [(train_X_xgb, train_y_xgb), (val_X_xgb, val_y_xgb)]\n",
    "model.fit(train_X_xgb, train_y_xgb, eval_metric=[\"error\", \"logloss\",'auc'], eval_set=eval_set, verbose=False)"
   ]
  },
  {
   "cell_type": "code",
   "execution_count": 651,
   "metadata": {},
   "outputs": [
    {
     "name": "stdout",
     "output_type": "stream",
     "text": [
      "Accuracy: 87.05%\n"
     ]
    }
   ],
   "source": [
    "y_pred = model.predict(test_X_xgb)\n",
    "predictions = [round(value) for value in y_pred]\n",
    "\n",
    "accuracy = accuracy_score(test_y_xgb, predictions)\n",
    "print(\"Accuracy: %.2f%%\" % (accuracy * 100.0))\n",
    "results = model.evals_result()\n",
    "epochs = len(results[\"validation_0\"][\"error\"])\n",
    "x_axis = range(0, epochs)"
   ]
  },
  {
   "cell_type": "code",
   "execution_count": 652,
   "metadata": {},
   "outputs": [
    {
     "data": {
      "image/png": "[encoded data removed]",
      "text/plain": [
       "<Figure size 864x864 with 1 Axes>"
      ]
     },
     "metadata": {
      "needs_background": "light"
     },
     "output_type": "display_data"
    }
   ],
   "source": [
    "# plot log loss\n",
    "fig, ax = pyplot.subplots(figsize=(12,12))\n",
    "ax.plot(x_axis, results[\"validation_0\"][\"logloss\"], label=\"Train\")\n",
    "ax.plot(x_axis, results[\"validation_1\"][\"logloss\"], label=\"Test\")\n",
    "ax.legend()\n",
    "pyplot.ylabel(\"Log Loss\")\n",
    "pyplot.title(\"XGBoost Log Loss\")\n",
    "pyplot.show()"
   ]
  },
  {
   "cell_type": "code",
   "execution_count": 653,
   "metadata": {},
   "outputs": [
    {
     "data": {
      "image/png": "[encoded data removed]",
      "text/plain": [
       "<Figure size 864x864 with 1 Axes>"
      ]
     },
     "metadata": {
      "needs_background": "light"
     },
     "output_type": "display_data"
    }
   ],
   "source": [
    "# plot classification error\n",
    "fig, ax = pyplot.subplots(figsize=(12,12))\n",
    "ax.plot(x_axis, results[\"validation_0\"][\"error\"], label=\"Train\")\n",
    "ax.plot(x_axis, results[\"validation_1\"][\"error\"], label=\"Test\")\n",
    "ax.legend()\n",
    "pyplot.ylabel(\"Classification Error\")\n",
    "pyplot.title(\"XGBoost Classification Error\")\n",
    "pyplot.show()"
   ]
  },
  {
   "cell_type": "code",
   "execution_count": 654,
   "metadata": {},
   "outputs": [
    {
     "data": {
      "image/png": "[encoded data removed]",
      "text/plain": [
       "<Figure size 864x864 with 1 Axes>"
      ]
     },
     "metadata": {
      "needs_background": "light"
     },
     "output_type": "display_data"
    }
   ],
   "source": [
    "# plot log loss\n",
    "fig, ax = pyplot.subplots(figsize=(12,12))\n",
    "ax.plot(x_axis, results[\"validation_0\"][\"auc\"], label=\"Train\")\n",
    "ax.plot(x_axis, results[\"validation_1\"][\"auc\"], label=\"Test\")\n",
    "ax.legend()\n",
    "pyplot.ylabel(\"AUC\")\n",
    "pyplot.title(\"XGBoost AUC\")\n",
    "pyplot.show()"
   ]
  },
  {
   "cell_type": "code",
   "execution_count": null,
   "metadata": {},
   "outputs": [],
   "source": []
  },
  {
   "cell_type": "markdown",
   "metadata": {},
   "source": [
    "**XGBoost模型参数调优**"
   ]
  },
  {
   "cell_type": "code",
   "execution_count": 672,
   "metadata": {},
   "outputs": [],
   "source": [
    "import pandas as pd\n",
    "import numpy as np\n",
    "import xgboost as xgb\n",
    "from xgboost.sklearn import XGBClassifier\n",
    "from sklearn import metrics   #Additional     scklearn functions\n",
    "from sklearn.model_selection import GridSearchCV #Perforing grid search\n",
    "\n",
    "import matplotlib.pylab as plt\n",
    "%matplotlib inline\n",
    "from matplotlib.pylab import rcParams\n",
    "rcParams['figure.figsize'] = 12, 4"
   ]
  },
  {
   "cell_type": "code",
   "execution_count": 673,
   "metadata": {},
   "outputs": [],
   "source": [
    "target = 'Disbursed'\n",
    "IDcol = 'ID'"
   ]
  },
  {
   "cell_type": "code",
   "execution_count": 675,
   "metadata": {},
   "outputs": [],
   "source": [
    "def modelfit(alg, X,y, predictors,useTrainCV=True, cv_folds=5, early_stopping_rounds=50):\n",
    "    if useTrainCV:\n",
    "        xgb_param = alg.get_xgb_params()\n",
    "        xgtrain = xgb.DMatrix(dtrain[predictors].values, label=dtrain[target].values)\n",
    "        cvresult = xgb.cv(xgb_param, xgtrain, num_boost_round=alg.get_params()['n_estimators'], nfold=cv_folds,\n",
    "            metrics='auc', early_stopping_rounds=early_stopping_rounds, show_progress=False)\n",
    "        alg.set_params(n_estimators=cvresult.shape[0])\n",
    "     \n",
    "    #Fit the algorithm on the data\n",
    "    alg.fit(dtrain[predictors], dtrain['Disbursed'],eval_metric='auc')\n",
    " \n",
    "    #Predict training set:\n",
    "    dtrain_predictions = alg.predict(dtrain[predictors])\n",
    "    dtrain_predprob = alg.predict_proba(dtrain[predictors])[:,1]\n",
    " \n",
    "    #Print model report:\n",
    "    print(\"\\nModel Report\")\n",
    "    print(\"Accuracy : %.4g\" % metrics.accuracy_score(dtrain['Disbursed'].values, dtrain_predictions))\n",
    "    print(\"AUC Score (Train): %f\" % metrics.roc_auc_score(dtrain['Disbursed'], dtrain_predprob))\n",
    " \n",
    "    feat_imp = pd.Series(alg.booster().get_fscore()).sort_values(ascending=False)\n",
    "    feat_imp.plot(kind='bar', title='Feature Importances')\n",
    "    plt.ylabel('Feature Importance Score')"
   ]
  },
  {
   "cell_type": "code",
   "execution_count": null,
   "metadata": {},
   "outputs": [],
   "source": []
  },
  {
   "cell_type": "code",
   "execution_count": null,
   "metadata": {},
   "outputs": [],
   "source": []
  },
  {
   "cell_type": "markdown",
   "metadata": {},
   "source": [
    "##### 第一步：确定学习速率和tree_based 参数调优的估计器数目。\n",
    "为了确定boosting 参数，要先给其它参数一个初始值。先按如下方法取值：\n",
    "1. max_depth = 5 :这个参数的取值最好在3-10之间。我选的起始值为5，但是你也可以选择其它的值。起始值在4-6之间都是不错的选择。\n",
    "2. min_child_weight = 1:在这里选了一个比较小的值，因为这是一个极不平衡的分类问题。因此，某些叶子节点下的值会比较小。\n",
    "3. gamma = 0: 起始值也可以选其它比较小的值，在0.1到0.2之间就可以。这个参数后继也是要调整的。\n",
    "4. subsample,colsample_bytree = 0.8: 这个是最常见的初始值了。典型值的范围在0.5-0.9之间。\n",
    "5. scale_pos_weight = 1: 这个值是因为类别十分不平衡。\n",
    "\n",
    "注意: 上面这些参数的值只是一个初始的估计值，后继需要调优。这里把学习速率就设成默认的0.1。然后用xgboost中的cv函数来确定最佳的决策树数量。前文中的函数可以完成这个工作。"
   ]
  },
  {
   "cell_type": "code",
   "execution_count": 676,
   "metadata": {},
   "outputs": [
    {
     "ename": "NameError",
     "evalue": "name 'train' is not defined",
     "output_type": "error",
     "traceback": [
      "\u001b[0;31m---------------------------------------------------------------------------\u001b[0m",
      "\u001b[0;31mNameError\u001b[0m                                 Traceback (most recent call last)",
      "\u001b[0;32m<ipython-input-676-8c5896766bd9>\u001b[0m in \u001b[0;36m<module>\u001b[0;34m\u001b[0m\n\u001b[1;32m      1\u001b[0m \u001b[0;31m#Choose all predictors except target & IDcols\u001b[0m\u001b[0;34m\u001b[0m\u001b[0;34m\u001b[0m\u001b[0;34m\u001b[0m\u001b[0m\n\u001b[0;32m----> 2\u001b[0;31m \u001b[0mpredictors\u001b[0m \u001b[0;34m=\u001b[0m \u001b[0;34m[\u001b[0m\u001b[0mx\u001b[0m \u001b[0;32mfor\u001b[0m \u001b[0mx\u001b[0m \u001b[0;32min\u001b[0m \u001b[0mtrain\u001b[0m\u001b[0;34m.\u001b[0m\u001b[0mcolumns\u001b[0m \u001b[0;32mif\u001b[0m \u001b[0mx\u001b[0m \u001b[0;32mnot\u001b[0m \u001b[0;32min\u001b[0m \u001b[0;34m[\u001b[0m\u001b[0mtarget\u001b[0m\u001b[0;34m,\u001b[0m\u001b[0mIDcol\u001b[0m\u001b[0;34m]\u001b[0m\u001b[0;34m]\u001b[0m\u001b[0;34m\u001b[0m\u001b[0;34m\u001b[0m\u001b[0m\n\u001b[0m\u001b[1;32m      3\u001b[0m xgb1 = XGBClassifier(\n\u001b[1;32m      4\u001b[0m  \u001b[0mlearning_rate\u001b[0m \u001b[0;34m=\u001b[0m\u001b[0;36m0.1\u001b[0m\u001b[0;34m,\u001b[0m\u001b[0;34m\u001b[0m\u001b[0;34m\u001b[0m\u001b[0m\n\u001b[1;32m      5\u001b[0m  \u001b[0mn_estimators\u001b[0m\u001b[0;34m=\u001b[0m\u001b[0;36m1000\u001b[0m\u001b[0;34m,\u001b[0m\u001b[0;34m\u001b[0m\u001b[0;34m\u001b[0m\u001b[0m\n",
      "\u001b[0;31mNameError\u001b[0m: name 'train' is not defined"
     ]
    }
   ],
   "source": [
    "#Choose all predictors except target & IDcols\n",
    "predictors = [x for x in train.columns if x not in [target,IDcol]]\n",
    "xgb1 = XGBClassifier(\n",
    " learning_rate =0.1,\n",
    " n_estimators=1000,\n",
    " max_depth=5,\n",
    " min_child_weight=1,\n",
    " gamma=0,\n",
    " subsample=0.8,\n",
    " colsample_bytree=0.8,\n",
    " objective= 'binary:logistic',\n",
    " nthread=4,\n",
    " scale_pos_weight=1,\n",
    " seed=27)\n",
    "modelfit(xgb1, train, predictors)"
   ]
  },
  {
   "cell_type": "code",
   "execution_count": null,
   "metadata": {},
   "outputs": [],
   "source": []
  },
  {
   "cell_type": "code",
   "execution_count": null,
   "metadata": {},
   "outputs": [],
   "source": []
  },
  {
   "cell_type": "code",
   "execution_count": null,
   "metadata": {},
   "outputs": [],
   "source": []
  },
  {
   "cell_type": "code",
   "execution_count": null,
   "metadata": {},
   "outputs": [],
   "source": []
  },
  {
   "cell_type": "code",
   "execution_count": null,
   "metadata": {},
   "outputs": [],
   "source": []
  },
  {
   "cell_type": "code",
   "execution_count": null,
   "metadata": {},
   "outputs": [],
   "source": []
  },
  {
   "cell_type": "code",
   "execution_count": null,
   "metadata": {},
   "outputs": [],
   "source": []
  },
  {
   "cell_type": "code",
   "execution_count": null,
   "metadata": {},
   "outputs": [],
   "source": []
  },
  {
   "cell_type": "code",
   "execution_count": null,
   "metadata": {},
   "outputs": [],
   "source": []
  },
  {
   "cell_type": "markdown",
   "metadata": {},
   "source": [
    "### Model 5.1 现有样本数据训练word2vec + Random Forest"
   ]
  },
  {
   "cell_type": "code",
   "execution_count": 656,
   "metadata": {},
   "outputs": [],
   "source": [
    "from sklearn.ensemble import RandomForestClassifier\n",
    "rfc_model=RandomForestClassifier()"
   ]
  },
  {
   "cell_type": "code",
   "execution_count": 655,
   "metadata": {},
   "outputs": [],
   "source": [
    "train_X_rf = train_X_svm.copy()\n",
    "test_X_rf = test_X_svm.copy()\n",
    "train_y_rf = train_y_svm.copy()\n",
    "test_y_rf = test_y_svm.copy()\n"
   ]
  },
  {
   "cell_type": "code",
   "execution_count": 658,
   "metadata": {},
   "outputs": [
    {
     "data": {
      "text/plain": [
       "73.7234570980072"
      ]
     },
     "execution_count": 658,
     "metadata": {},
     "output_type": "execute_result"
    }
   ],
   "source": [
    "startTime = time.time()\n",
    "rfc_model.fit(train_X_rf,train_y_rf)\n",
    "usedTime = time.time() - startTime\n",
    "usedTime"
   ]
  },
  {
   "cell_type": "code",
   "execution_count": 659,
   "metadata": {},
   "outputs": [],
   "source": [
    "y_pred_rf = rfc_model.predict(test_X_rf)"
   ]
  },
  {
   "cell_type": "code",
   "execution_count": 660,
   "metadata": {},
   "outputs": [
    {
     "name": "stdout",
     "output_type": "stream",
     "text": [
      "              precision    recall  f1-score   support\n",
      "\n",
      "           0     0.8820    0.9444    0.9121      8716\n",
      "           1     0.8228    0.6716    0.7396      3353\n",
      "\n",
      "    accuracy                         0.8686     12069\n",
      "   macro avg     0.8524    0.8080    0.8258     12069\n",
      "weighted avg     0.8656    0.8686    0.8642     12069\n",
      "\n"
     ]
    }
   ],
   "source": [
    "print(classification_report(test_y_rf, y_pred_rf,digits=4))"
   ]
  },
  {
   "cell_type": "code",
   "execution_count": 661,
   "metadata": {},
   "outputs": [
    {
     "data": {
      "image/png": "[encoded data removed]",
      "text/plain": [
       "<Figure size 432x288 with 1 Axes>"
      ]
     },
     "metadata": {
      "needs_background": "light"
     },
     "output_type": "display_data"
    }
   ],
   "source": [
    "mat = confusion_matrix(y_pred_rf,test_y_rf)\n",
    "sns.heatmap(mat, square=True, annot=True, cbar=False,fmt='.20g')\n",
    "plt.xlabel(\"Actual Result\")\n",
    "plt.ylabel(\"Predicted Result\")\n",
    "a, b = plt.ylim() \n",
    "a += 0.5 \n",
    "b -= 0.5 \n",
    "plt.ylim(a, b) \n",
    "plt.show() "
   ]
  },
  {
   "cell_type": "code",
   "execution_count": 663,
   "metadata": {},
   "outputs": [
    {
     "data": {
      "text/html": [
       "<div>\n",
       "<style scoped>\n",
       "    .dataframe tbody tr th:only-of-type {\n",
       "        vertical-align: middle;\n",
       "    }\n",
       "\n",
       "    .dataframe tbody tr th {\n",
       "        vertical-align: top;\n",
       "    }\n",
       "\n",
       "    .dataframe thead th {\n",
       "        text-align: right;\n",
       "    }\n",
       "</style>\n",
       "<table border=\"1\" class=\"dataframe\">\n",
       "  <thead>\n",
       "    <tr style=\"text-align: right;\">\n",
       "      <th></th>\n",
       "      <th>accuracy</th>\n",
       "      <th>precision</th>\n",
       "      <th>recall</th>\n",
       "      <th>f1-score</th>\n",
       "      <th>support</th>\n",
       "      <th>precision</th>\n",
       "      <th>recall</th>\n",
       "      <th>f1-score</th>\n",
       "      <th>support</th>\n",
       "      <th>precision</th>\n",
       "      <th>recall</th>\n",
       "      <th>f1-score</th>\n",
       "      <th>support</th>\n",
       "      <th>precision</th>\n",
       "      <th>recall</th>\n",
       "      <th>f1-score</th>\n",
       "      <th>support</th>\n",
       "    </tr>\n",
       "  </thead>\n",
       "  <tbody>\n",
       "    <tr>\n",
       "      <th>TF-IDF_CNN</th>\n",
       "      <td>0.874669</td>\n",
       "      <td>0.756842</td>\n",
       "      <td>0.800905</td>\n",
       "      <td>0.778250</td>\n",
       "      <td>3315</td>\n",
       "      <td>0.922933</td>\n",
       "      <td>0.902592</td>\n",
       "      <td>0.912649</td>\n",
       "      <td>8757</td>\n",
       "      <td>0.839887</td>\n",
       "      <td>0.851749</td>\n",
       "      <td>0.845450</td>\n",
       "      <td>12072</td>\n",
       "      <td>0.877324</td>\n",
       "      <td>0.874669</td>\n",
       "      <td>0.875743</td>\n",
       "      <td>12072</td>\n",
       "    </tr>\n",
       "    <tr>\n",
       "      <th>TF-IDF_CNN_naive_resampling</th>\n",
       "      <td>0.882455</td>\n",
       "      <td>0.824658</td>\n",
       "      <td>0.726395</td>\n",
       "      <td>0.772414</td>\n",
       "      <td>3315</td>\n",
       "      <td>0.900896</td>\n",
       "      <td>0.941532</td>\n",
       "      <td>0.920766</td>\n",
       "      <td>8757</td>\n",
       "      <td>0.862777</td>\n",
       "      <td>0.833964</td>\n",
       "      <td>0.846590</td>\n",
       "      <td>12072</td>\n",
       "      <td>0.879961</td>\n",
       "      <td>0.882455</td>\n",
       "      <td>0.880028</td>\n",
       "      <td>12072</td>\n",
       "    </tr>\n",
       "    <tr>\n",
       "      <th>fbwx_w2v_LR</th>\n",
       "      <td>0.869252</td>\n",
       "      <td>0.796409</td>\n",
       "      <td>0.706430</td>\n",
       "      <td>0.748726</td>\n",
       "      <td>3328</td>\n",
       "      <td>0.892838</td>\n",
       "      <td>0.931244</td>\n",
       "      <td>0.911636</td>\n",
       "      <td>8741</td>\n",
       "      <td>0.844623</td>\n",
       "      <td>0.818837</td>\n",
       "      <td>0.830181</td>\n",
       "      <td>12069</td>\n",
       "      <td>0.866248</td>\n",
       "      <td>0.869252</td>\n",
       "      <td>0.866714</td>\n",
       "      <td>12069</td>\n",
       "    </tr>\n",
       "    <tr>\n",
       "      <th>fbwx_w2v_LR_naive_resampling</th>\n",
       "      <td>0.869086</td>\n",
       "      <td>0.793294</td>\n",
       "      <td>0.700336</td>\n",
       "      <td>0.743922</td>\n",
       "      <td>3277</td>\n",
       "      <td>0.892982</td>\n",
       "      <td>0.931984</td>\n",
       "      <td>0.912066</td>\n",
       "      <td>8792</td>\n",
       "      <td>0.843138</td>\n",
       "      <td>0.816160</td>\n",
       "      <td>0.827994</td>\n",
       "      <td>12069</td>\n",
       "      <td>0.865914</td>\n",
       "      <td>0.869086</td>\n",
       "      <td>0.866411</td>\n",
       "      <td>12069</td>\n",
       "    </tr>\n",
       "    <tr>\n",
       "      <th>fbwx_w2v_linear_SVM</th>\n",
       "      <td>0.867346</td>\n",
       "      <td>0.798162</td>\n",
       "      <td>0.699374</td>\n",
       "      <td>0.745509</td>\n",
       "      <td>3353</td>\n",
       "      <td>0.889607</td>\n",
       "      <td>0.931964</td>\n",
       "      <td>0.910293</td>\n",
       "      <td>8716</td>\n",
       "      <td>0.843884</td>\n",
       "      <td>0.815669</td>\n",
       "      <td>0.827901</td>\n",
       "      <td>12069</td>\n",
       "      <td>0.864202</td>\n",
       "      <td>0.867346</td>\n",
       "      <td>0.864513</td>\n",
       "      <td>12069</td>\n",
       "    </tr>\n",
       "    <tr>\n",
       "      <th>fbwx_w2v_linear_SVM_naive_resampling</th>\n",
       "      <td>0.841163</td>\n",
       "      <td>0.666281</td>\n",
       "      <td>0.858038</td>\n",
       "      <td>0.750098</td>\n",
       "      <td>3353</td>\n",
       "      <td>0.938589</td>\n",
       "      <td>0.834672</td>\n",
       "      <td>0.883585</td>\n",
       "      <td>8716</td>\n",
       "      <td>0.802435</td>\n",
       "      <td>0.846355</td>\n",
       "      <td>0.816842</td>\n",
       "      <td>12069</td>\n",
       "      <td>0.862936</td>\n",
       "      <td>0.841163</td>\n",
       "      <td>0.846500</td>\n",
       "      <td>12069</td>\n",
       "    </tr>\n",
       "    <tr>\n",
       "      <th>fbwx_w2v_poly_SVM C=0.1</th>\n",
       "      <td>0.851272</td>\n",
       "      <td>0.849327</td>\n",
       "      <td>0.564867</td>\n",
       "      <td>0.678488</td>\n",
       "      <td>3353</td>\n",
       "      <td>0.851713</td>\n",
       "      <td>0.961450</td>\n",
       "      <td>0.903261</td>\n",
       "      <td>8716</td>\n",
       "      <td>0.850520</td>\n",
       "      <td>0.763159</td>\n",
       "      <td>0.790874</td>\n",
       "      <td>12069</td>\n",
       "      <td>0.851050</td>\n",
       "      <td>0.851272</td>\n",
       "      <td>0.840815</td>\n",
       "      <td>12069</td>\n",
       "    </tr>\n",
       "    <tr>\n",
       "      <th>fbwx_w2v_poly_SVM C=1</th>\n",
       "      <td>0.876295</td>\n",
       "      <td>0.833812</td>\n",
       "      <td>0.692812</td>\n",
       "      <td>0.756801</td>\n",
       "      <td>3353</td>\n",
       "      <td>0.889044</td>\n",
       "      <td>0.946879</td>\n",
       "      <td>0.917051</td>\n",
       "      <td>8716</td>\n",
       "      <td>0.861428</td>\n",
       "      <td>0.819846</td>\n",
       "      <td>0.836926</td>\n",
       "      <td>12069</td>\n",
       "      <td>0.873700</td>\n",
       "      <td>0.876295</td>\n",
       "      <td>0.872530</td>\n",
       "      <td>12069</td>\n",
       "    </tr>\n",
       "    <tr>\n",
       "      <th>fbwx_w2v_poly_SVM(C=0.1)_naive_resampling</th>\n",
       "      <td>0.842158</td>\n",
       "      <td>0.666820</td>\n",
       "      <td>0.863108</td>\n",
       "      <td>0.752372</td>\n",
       "      <td>3353</td>\n",
       "      <td>0.940613</td>\n",
       "      <td>0.834098</td>\n",
       "      <td>0.884159</td>\n",
       "      <td>8716</td>\n",
       "      <td>0.803717</td>\n",
       "      <td>0.848603</td>\n",
       "      <td>0.818266</td>\n",
       "      <td>12069</td>\n",
       "      <td>0.864548</td>\n",
       "      <td>0.842158</td>\n",
       "      <td>0.847546</td>\n",
       "      <td>12069</td>\n",
       "    </tr>\n",
       "    <tr>\n",
       "      <th>fbwx_w2v_poly_SVM(C=1)_naive_resampling</th>\n",
       "      <td>0.863286</td>\n",
       "      <td>0.708140</td>\n",
       "      <td>0.864002</td>\n",
       "      <td>0.778345</td>\n",
       "      <td>3353</td>\n",
       "      <td>0.942843</td>\n",
       "      <td>0.863011</td>\n",
       "      <td>0.901162</td>\n",
       "      <td>8716</td>\n",
       "      <td>0.825491</td>\n",
       "      <td>0.863506</td>\n",
       "      <td>0.839754</td>\n",
       "      <td>12069</td>\n",
       "      <td>0.877638</td>\n",
       "      <td>0.863286</td>\n",
       "      <td>0.867041</td>\n",
       "      <td>12069</td>\n",
       "    </tr>\n",
       "    <tr>\n",
       "      <th>fbwx_w2v_rbf_SVM(gamma=0.1)</th>\n",
       "      <td>0.881515</td>\n",
       "      <td>0.830299</td>\n",
       "      <td>0.720847</td>\n",
       "      <td>0.771711</td>\n",
       "      <td>3353</td>\n",
       "      <td>0.897794</td>\n",
       "      <td>0.943323</td>\n",
       "      <td>0.919996</td>\n",
       "      <td>8716</td>\n",
       "      <td>0.864047</td>\n",
       "      <td>0.832085</td>\n",
       "      <td>0.845853</td>\n",
       "      <td>12069</td>\n",
       "      <td>0.879043</td>\n",
       "      <td>0.881515</td>\n",
       "      <td>0.878799</td>\n",
       "      <td>12069</td>\n",
       "    </tr>\n",
       "    <tr>\n",
       "      <th>fbwx_w2v_rbf_SVM(gamma=0.1)_naive_resampling</th>\n",
       "      <td>0.870743</td>\n",
       "      <td>0.738114</td>\n",
       "      <td>0.828810</td>\n",
       "      <td>0.780837</td>\n",
       "      <td>3353</td>\n",
       "      <td>0.930877</td>\n",
       "      <td>0.886875</td>\n",
       "      <td>0.908343</td>\n",
       "      <td>8716</td>\n",
       "      <td>0.834495</td>\n",
       "      <td>0.857842</td>\n",
       "      <td>0.844590</td>\n",
       "      <td>12069</td>\n",
       "      <td>0.877324</td>\n",
       "      <td>0.870743</td>\n",
       "      <td>0.872920</td>\n",
       "      <td>12069</td>\n",
       "    </tr>\n",
       "    <tr>\n",
       "      <th>fbwx_w2v_rbf_SVM(gamma=1/k)</th>\n",
       "      <td>0.881597</td>\n",
       "      <td>0.829452</td>\n",
       "      <td>0.722338</td>\n",
       "      <td>0.772198</td>\n",
       "      <td>3353</td>\n",
       "      <td>0.898240</td>\n",
       "      <td>0.942864</td>\n",
       "      <td>0.920011</td>\n",
       "      <td>8716</td>\n",
       "      <td>0.863846</td>\n",
       "      <td>0.832601</td>\n",
       "      <td>0.846105</td>\n",
       "      <td>12069</td>\n",
       "      <td>0.879130</td>\n",
       "      <td>0.881597</td>\n",
       "      <td>0.878946</td>\n",
       "      <td>12069</td>\n",
       "    </tr>\n",
       "    <tr>\n",
       "      <th>fbwx_w2v_rbf_SVM(gamma=1/k)_naive_resampling</th>\n",
       "      <td>0.860055</td>\n",
       "      <td>0.700482</td>\n",
       "      <td>0.866985</td>\n",
       "      <td>0.774890</td>\n",
       "      <td>3353</td>\n",
       "      <td>0.943680</td>\n",
       "      <td>0.857389</td>\n",
       "      <td>0.898467</td>\n",
       "      <td>8716</td>\n",
       "      <td>0.822081</td>\n",
       "      <td>0.862187</td>\n",
       "      <td>0.836679</td>\n",
       "      <td>12069</td>\n",
       "      <td>0.876115</td>\n",
       "      <td>0.860055</td>\n",
       "      <td>0.864135</td>\n",
       "      <td>12069</td>\n",
       "    </tr>\n",
       "    <tr>\n",
       "      <th>fbwx_w2v_Ramdom Forest</th>\n",
       "      <td>0.868589</td>\n",
       "      <td>0.822799</td>\n",
       "      <td>0.671637</td>\n",
       "      <td>0.739573</td>\n",
       "      <td>3353</td>\n",
       "      <td>0.882019</td>\n",
       "      <td>0.944355</td>\n",
       "      <td>0.912123</td>\n",
       "      <td>8716</td>\n",
       "      <td>0.852409</td>\n",
       "      <td>0.807996</td>\n",
       "      <td>0.825848</td>\n",
       "      <td>12069</td>\n",
       "      <td>0.865566</td>\n",
       "      <td>0.868589</td>\n",
       "      <td>0.864185</td>\n",
       "      <td>12069</td>\n",
       "    </tr>\n",
       "  </tbody>\n",
       "</table>\n",
       "</div>"
      ],
      "text/plain": [
       "                                              accuracy  precision    recall  \\\n",
       "TF-IDF_CNN                                    0.874669   0.756842  0.800905   \n",
       "TF-IDF_CNN_naive_resampling                   0.882455   0.824658  0.726395   \n",
       "fbwx_w2v_LR                                   0.869252   0.796409  0.706430   \n",
       "fbwx_w2v_LR_naive_resampling                  0.869086   0.793294  0.700336   \n",
       "fbwx_w2v_linear_SVM                           0.867346   0.798162  0.699374   \n",
       "fbwx_w2v_linear_SVM_naive_resampling          0.841163   0.666281  0.858038   \n",
       "fbwx_w2v_poly_SVM C=0.1                       0.851272   0.849327  0.564867   \n",
       "fbwx_w2v_poly_SVM C=1                         0.876295   0.833812  0.692812   \n",
       "fbwx_w2v_poly_SVM(C=0.1)_naive_resampling     0.842158   0.666820  0.863108   \n",
       "fbwx_w2v_poly_SVM(C=1)_naive_resampling       0.863286   0.708140  0.864002   \n",
       "fbwx_w2v_rbf_SVM(gamma=0.1)                   0.881515   0.830299  0.720847   \n",
       "fbwx_w2v_rbf_SVM(gamma=0.1)_naive_resampling  0.870743   0.738114  0.828810   \n",
       "fbwx_w2v_rbf_SVM(gamma=1/k)                   0.881597   0.829452  0.722338   \n",
       "fbwx_w2v_rbf_SVM(gamma=1/k)_naive_resampling  0.860055   0.700482  0.866985   \n",
       "fbwx_w2v_Ramdom Forest                        0.868589   0.822799  0.671637   \n",
       "\n",
       "                                              f1-score  support  precision  \\\n",
       "TF-IDF_CNN                                    0.778250     3315   0.922933   \n",
       "TF-IDF_CNN_naive_resampling                   0.772414     3315   0.900896   \n",
       "fbwx_w2v_LR                                   0.748726     3328   0.892838   \n",
       "fbwx_w2v_LR_naive_resampling                  0.743922     3277   0.892982   \n",
       "fbwx_w2v_linear_SVM                           0.745509     3353   0.889607   \n",
       "fbwx_w2v_linear_SVM_naive_resampling          0.750098     3353   0.938589   \n",
       "fbwx_w2v_poly_SVM C=0.1                       0.678488     3353   0.851713   \n",
       "fbwx_w2v_poly_SVM C=1                         0.756801     3353   0.889044   \n",
       "fbwx_w2v_poly_SVM(C=0.1)_naive_resampling     0.752372     3353   0.940613   \n",
       "fbwx_w2v_poly_SVM(C=1)_naive_resampling       0.778345     3353   0.942843   \n",
       "fbwx_w2v_rbf_SVM(gamma=0.1)                   0.771711     3353   0.897794   \n",
       "fbwx_w2v_rbf_SVM(gamma=0.1)_naive_resampling  0.780837     3353   0.930877   \n",
       "fbwx_w2v_rbf_SVM(gamma=1/k)                   0.772198     3353   0.898240   \n",
       "fbwx_w2v_rbf_SVM(gamma=1/k)_naive_resampling  0.774890     3353   0.943680   \n",
       "fbwx_w2v_Ramdom Forest                        0.739573     3353   0.882019   \n",
       "\n",
       "                                                recall  f1-score  support  \\\n",
       "TF-IDF_CNN                                    0.902592  0.912649     8757   \n",
       "TF-IDF_CNN_naive_resampling                   0.941532  0.920766     8757   \n",
       "fbwx_w2v_LR                                   0.931244  0.911636     8741   \n",
       "fbwx_w2v_LR_naive_resampling                  0.931984  0.912066     8792   \n",
       "fbwx_w2v_linear_SVM                           0.931964  0.910293     8716   \n",
       "fbwx_w2v_linear_SVM_naive_resampling          0.834672  0.883585     8716   \n",
       "fbwx_w2v_poly_SVM C=0.1                       0.961450  0.903261     8716   \n",
       "fbwx_w2v_poly_SVM C=1                         0.946879  0.917051     8716   \n",
       "fbwx_w2v_poly_SVM(C=0.1)_naive_resampling     0.834098  0.884159     8716   \n",
       "fbwx_w2v_poly_SVM(C=1)_naive_resampling       0.863011  0.901162     8716   \n",
       "fbwx_w2v_rbf_SVM(gamma=0.1)                   0.943323  0.919996     8716   \n",
       "fbwx_w2v_rbf_SVM(gamma=0.1)_naive_resampling  0.886875  0.908343     8716   \n",
       "fbwx_w2v_rbf_SVM(gamma=1/k)                   0.942864  0.920011     8716   \n",
       "fbwx_w2v_rbf_SVM(gamma=1/k)_naive_resampling  0.857389  0.898467     8716   \n",
       "fbwx_w2v_Ramdom Forest                        0.944355  0.912123     8716   \n",
       "\n",
       "                                              precision    recall  f1-score  \\\n",
       "TF-IDF_CNN                                     0.839887  0.851749  0.845450   \n",
       "TF-IDF_CNN_naive_resampling                    0.862777  0.833964  0.846590   \n",
       "fbwx_w2v_LR                                    0.844623  0.818837  0.830181   \n",
       "fbwx_w2v_LR_naive_resampling                   0.843138  0.816160  0.827994   \n",
       "fbwx_w2v_linear_SVM                            0.843884  0.815669  0.827901   \n",
       "fbwx_w2v_linear_SVM_naive_resampling           0.802435  0.846355  0.816842   \n",
       "fbwx_w2v_poly_SVM C=0.1                        0.850520  0.763159  0.790874   \n",
       "fbwx_w2v_poly_SVM C=1                          0.861428  0.819846  0.836926   \n",
       "fbwx_w2v_poly_SVM(C=0.1)_naive_resampling      0.803717  0.848603  0.818266   \n",
       "fbwx_w2v_poly_SVM(C=1)_naive_resampling        0.825491  0.863506  0.839754   \n",
       "fbwx_w2v_rbf_SVM(gamma=0.1)                    0.864047  0.832085  0.845853   \n",
       "fbwx_w2v_rbf_SVM(gamma=0.1)_naive_resampling   0.834495  0.857842  0.844590   \n",
       "fbwx_w2v_rbf_SVM(gamma=1/k)                    0.863846  0.832601  0.846105   \n",
       "fbwx_w2v_rbf_SVM(gamma=1/k)_naive_resampling   0.822081  0.862187  0.836679   \n",
       "fbwx_w2v_Ramdom Forest                         0.852409  0.807996  0.825848   \n",
       "\n",
       "                                              support  precision    recall  \\\n",
       "TF-IDF_CNN                                      12072   0.877324  0.874669   \n",
       "TF-IDF_CNN_naive_resampling                     12072   0.879961  0.882455   \n",
       "fbwx_w2v_LR                                     12069   0.866248  0.869252   \n",
       "fbwx_w2v_LR_naive_resampling                    12069   0.865914  0.869086   \n",
       "fbwx_w2v_linear_SVM                             12069   0.864202  0.867346   \n",
       "fbwx_w2v_linear_SVM_naive_resampling            12069   0.862936  0.841163   \n",
       "fbwx_w2v_poly_SVM C=0.1                         12069   0.851050  0.851272   \n",
       "fbwx_w2v_poly_SVM C=1                           12069   0.873700  0.876295   \n",
       "fbwx_w2v_poly_SVM(C=0.1)_naive_resampling       12069   0.864548  0.842158   \n",
       "fbwx_w2v_poly_SVM(C=1)_naive_resampling         12069   0.877638  0.863286   \n",
       "fbwx_w2v_rbf_SVM(gamma=0.1)                     12069   0.879043  0.881515   \n",
       "fbwx_w2v_rbf_SVM(gamma=0.1)_naive_resampling    12069   0.877324  0.870743   \n",
       "fbwx_w2v_rbf_SVM(gamma=1/k)                     12069   0.879130  0.881597   \n",
       "fbwx_w2v_rbf_SVM(gamma=1/k)_naive_resampling    12069   0.876115  0.860055   \n",
       "fbwx_w2v_Ramdom Forest                          12069   0.865566  0.868589   \n",
       "\n",
       "                                              f1-score  support  \n",
       "TF-IDF_CNN                                    0.875743    12072  \n",
       "TF-IDF_CNN_naive_resampling                   0.880028    12072  \n",
       "fbwx_w2v_LR                                   0.866714    12069  \n",
       "fbwx_w2v_LR_naive_resampling                  0.866411    12069  \n",
       "fbwx_w2v_linear_SVM                           0.864513    12069  \n",
       "fbwx_w2v_linear_SVM_naive_resampling          0.846500    12069  \n",
       "fbwx_w2v_poly_SVM C=0.1                       0.840815    12069  \n",
       "fbwx_w2v_poly_SVM C=1                         0.872530    12069  \n",
       "fbwx_w2v_poly_SVM(C=0.1)_naive_resampling     0.847546    12069  \n",
       "fbwx_w2v_poly_SVM(C=1)_naive_resampling       0.867041    12069  \n",
       "fbwx_w2v_rbf_SVM(gamma=0.1)                   0.878799    12069  \n",
       "fbwx_w2v_rbf_SVM(gamma=0.1)_naive_resampling  0.872920    12069  \n",
       "fbwx_w2v_rbf_SVM(gamma=1/k)                   0.878946    12069  \n",
       "fbwx_w2v_rbf_SVM(gamma=1/k)_naive_resampling  0.864135    12069  \n",
       "fbwx_w2v_Ramdom Forest                        0.864185    12069  "
      ]
     },
     "execution_count": 663,
     "metadata": {},
     "output_type": "execute_result"
    }
   ],
   "source": [
    "fbwx_w2v_rf_performance = classification_report(test_y_rf, y_pred_rf,digits=4,output_dict=True)\n",
    "performance = fbwx_w2v_rf_performance\n",
    "model_name = 'fbwx_w2v_Ramdom Forest'\n",
    "performance_df = sklearn_perform(model_name,performance,performance_df)\n",
    "performance_df"
   ]
  },
  {
   "cell_type": "code",
   "execution_count": null,
   "metadata": {},
   "outputs": [],
   "source": []
  },
  {
   "cell_type": "code",
   "execution_count": null,
   "metadata": {},
   "outputs": [],
   "source": []
  },
  {
   "cell_type": "markdown",
   "metadata": {},
   "source": [
    "### Model 5.2 现有样本数据训练word2vec + Random Forest + Random Naive Resampling"
   ]
  },
  {
   "cell_type": "code",
   "execution_count": 664,
   "metadata": {},
   "outputs": [],
   "source": [
    "X_resampling = np.array(train_X_rf)\n",
    "y_resampling = train_y_rf\n",
    "ros = RandomOverSampler(random_state=0)\n",
    "X_resampled_naive, y_resampled_naive = ros.fit_resample(X_resampling, y_resampling)"
   ]
  },
  {
   "cell_type": "code",
   "execution_count": 665,
   "metadata": {},
   "outputs": [
    {
     "data": {
      "text/plain": [
       "107.5807843208313"
      ]
     },
     "execution_count": 665,
     "metadata": {},
     "output_type": "execute_result"
    }
   ],
   "source": [
    "startTime = time.time()\n",
    "rfc_model.fit(X_resampled_naive,y_resampled_naive)\n",
    "usedTime = time.time() - startTime\n",
    "usedTime"
   ]
  },
  {
   "cell_type": "code",
   "execution_count": 666,
   "metadata": {},
   "outputs": [
    {
     "name": "stdout",
     "output_type": "stream",
     "text": [
      "              precision    recall  f1-score   support\n",
      "\n",
      "           0     0.9016    0.9259    0.9136      8716\n",
      "           1     0.7928    0.7373    0.7640      3353\n",
      "\n",
      "    accuracy                         0.8735     12069\n",
      "   macro avg     0.8472    0.8316    0.8388     12069\n",
      "weighted avg     0.8714    0.8735    0.8720     12069\n",
      "\n"
     ]
    }
   ],
   "source": [
    "y_pred_rf = rfc_model.predict(test_X_rf)\n",
    "print(classification_report(test_y_rf, y_pred_rf,digits=4))"
   ]
  },
  {
   "cell_type": "code",
   "execution_count": 667,
   "metadata": {},
   "outputs": [
    {
     "data": {
      "image/png": "[encoded data removed]",
      "text/plain": [
       "<Figure size 432x288 with 1 Axes>"
      ]
     },
     "metadata": {
      "needs_background": "light"
     },
     "output_type": "display_data"
    }
   ],
   "source": [
    "mat = confusion_matrix(y_pred_rf,test_y_rf)\n",
    "sns.heatmap(mat, square=True, annot=True, cbar=False,fmt='.20g')\n",
    "plt.xlabel(\"Actual Result\")\n",
    "plt.ylabel(\"Predicted Result\")\n",
    "a, b = plt.ylim() \n",
    "a += 0.5 \n",
    "b -= 0.5 \n",
    "plt.ylim(a, b) \n",
    "plt.show() "
   ]
  },
  {
   "cell_type": "code",
   "execution_count": 668,
   "metadata": {},
   "outputs": [
    {
     "data": {
      "text/html": [
       "<div>\n",
       "<style scoped>\n",
       "    .dataframe tbody tr th:only-of-type {\n",
       "        vertical-align: middle;\n",
       "    }\n",
       "\n",
       "    .dataframe tbody tr th {\n",
       "        vertical-align: top;\n",
       "    }\n",
       "\n",
       "    .dataframe thead th {\n",
       "        text-align: right;\n",
       "    }\n",
       "</style>\n",
       "<table border=\"1\" class=\"dataframe\">\n",
       "  <thead>\n",
       "    <tr style=\"text-align: right;\">\n",
       "      <th></th>\n",
       "      <th>accuracy</th>\n",
       "      <th>precision</th>\n",
       "      <th>recall</th>\n",
       "      <th>f1-score</th>\n",
       "      <th>support</th>\n",
       "      <th>precision</th>\n",
       "      <th>recall</th>\n",
       "      <th>f1-score</th>\n",
       "      <th>support</th>\n",
       "      <th>precision</th>\n",
       "      <th>recall</th>\n",
       "      <th>f1-score</th>\n",
       "      <th>support</th>\n",
       "      <th>precision</th>\n",
       "      <th>recall</th>\n",
       "      <th>f1-score</th>\n",
       "      <th>support</th>\n",
       "    </tr>\n",
       "  </thead>\n",
       "  <tbody>\n",
       "    <tr>\n",
       "      <th>TF-IDF_CNN</th>\n",
       "      <td>0.874669</td>\n",
       "      <td>0.756842</td>\n",
       "      <td>0.800905</td>\n",
       "      <td>0.778250</td>\n",
       "      <td>3315</td>\n",
       "      <td>0.922933</td>\n",
       "      <td>0.902592</td>\n",
       "      <td>0.912649</td>\n",
       "      <td>8757</td>\n",
       "      <td>0.839887</td>\n",
       "      <td>0.851749</td>\n",
       "      <td>0.845450</td>\n",
       "      <td>12072</td>\n",
       "      <td>0.877324</td>\n",
       "      <td>0.874669</td>\n",
       "      <td>0.875743</td>\n",
       "      <td>12072</td>\n",
       "    </tr>\n",
       "    <tr>\n",
       "      <th>TF-IDF_CNN_naive_resampling</th>\n",
       "      <td>0.882455</td>\n",
       "      <td>0.824658</td>\n",
       "      <td>0.726395</td>\n",
       "      <td>0.772414</td>\n",
       "      <td>3315</td>\n",
       "      <td>0.900896</td>\n",
       "      <td>0.941532</td>\n",
       "      <td>0.920766</td>\n",
       "      <td>8757</td>\n",
       "      <td>0.862777</td>\n",
       "      <td>0.833964</td>\n",
       "      <td>0.846590</td>\n",
       "      <td>12072</td>\n",
       "      <td>0.879961</td>\n",
       "      <td>0.882455</td>\n",
       "      <td>0.880028</td>\n",
       "      <td>12072</td>\n",
       "    </tr>\n",
       "    <tr>\n",
       "      <th>fbwx_w2v_LR</th>\n",
       "      <td>0.869252</td>\n",
       "      <td>0.796409</td>\n",
       "      <td>0.706430</td>\n",
       "      <td>0.748726</td>\n",
       "      <td>3328</td>\n",
       "      <td>0.892838</td>\n",
       "      <td>0.931244</td>\n",
       "      <td>0.911636</td>\n",
       "      <td>8741</td>\n",
       "      <td>0.844623</td>\n",
       "      <td>0.818837</td>\n",
       "      <td>0.830181</td>\n",
       "      <td>12069</td>\n",
       "      <td>0.866248</td>\n",
       "      <td>0.869252</td>\n",
       "      <td>0.866714</td>\n",
       "      <td>12069</td>\n",
       "    </tr>\n",
       "    <tr>\n",
       "      <th>fbwx_w2v_LR_naive_resampling</th>\n",
       "      <td>0.869086</td>\n",
       "      <td>0.793294</td>\n",
       "      <td>0.700336</td>\n",
       "      <td>0.743922</td>\n",
       "      <td>3277</td>\n",
       "      <td>0.892982</td>\n",
       "      <td>0.931984</td>\n",
       "      <td>0.912066</td>\n",
       "      <td>8792</td>\n",
       "      <td>0.843138</td>\n",
       "      <td>0.816160</td>\n",
       "      <td>0.827994</td>\n",
       "      <td>12069</td>\n",
       "      <td>0.865914</td>\n",
       "      <td>0.869086</td>\n",
       "      <td>0.866411</td>\n",
       "      <td>12069</td>\n",
       "    </tr>\n",
       "    <tr>\n",
       "      <th>fbwx_w2v_linear_SVM</th>\n",
       "      <td>0.867346</td>\n",
       "      <td>0.798162</td>\n",
       "      <td>0.699374</td>\n",
       "      <td>0.745509</td>\n",
       "      <td>3353</td>\n",
       "      <td>0.889607</td>\n",
       "      <td>0.931964</td>\n",
       "      <td>0.910293</td>\n",
       "      <td>8716</td>\n",
       "      <td>0.843884</td>\n",
       "      <td>0.815669</td>\n",
       "      <td>0.827901</td>\n",
       "      <td>12069</td>\n",
       "      <td>0.864202</td>\n",
       "      <td>0.867346</td>\n",
       "      <td>0.864513</td>\n",
       "      <td>12069</td>\n",
       "    </tr>\n",
       "    <tr>\n",
       "      <th>fbwx_w2v_linear_SVM_naive_resampling</th>\n",
       "      <td>0.841163</td>\n",
       "      <td>0.666281</td>\n",
       "      <td>0.858038</td>\n",
       "      <td>0.750098</td>\n",
       "      <td>3353</td>\n",
       "      <td>0.938589</td>\n",
       "      <td>0.834672</td>\n",
       "      <td>0.883585</td>\n",
       "      <td>8716</td>\n",
       "      <td>0.802435</td>\n",
       "      <td>0.846355</td>\n",
       "      <td>0.816842</td>\n",
       "      <td>12069</td>\n",
       "      <td>0.862936</td>\n",
       "      <td>0.841163</td>\n",
       "      <td>0.846500</td>\n",
       "      <td>12069</td>\n",
       "    </tr>\n",
       "    <tr>\n",
       "      <th>fbwx_w2v_poly_SVM C=0.1</th>\n",
       "      <td>0.851272</td>\n",
       "      <td>0.849327</td>\n",
       "      <td>0.564867</td>\n",
       "      <td>0.678488</td>\n",
       "      <td>3353</td>\n",
       "      <td>0.851713</td>\n",
       "      <td>0.961450</td>\n",
       "      <td>0.903261</td>\n",
       "      <td>8716</td>\n",
       "      <td>0.850520</td>\n",
       "      <td>0.763159</td>\n",
       "      <td>0.790874</td>\n",
       "      <td>12069</td>\n",
       "      <td>0.851050</td>\n",
       "      <td>0.851272</td>\n",
       "      <td>0.840815</td>\n",
       "      <td>12069</td>\n",
       "    </tr>\n",
       "    <tr>\n",
       "      <th>fbwx_w2v_poly_SVM C=1</th>\n",
       "      <td>0.876295</td>\n",
       "      <td>0.833812</td>\n",
       "      <td>0.692812</td>\n",
       "      <td>0.756801</td>\n",
       "      <td>3353</td>\n",
       "      <td>0.889044</td>\n",
       "      <td>0.946879</td>\n",
       "      <td>0.917051</td>\n",
       "      <td>8716</td>\n",
       "      <td>0.861428</td>\n",
       "      <td>0.819846</td>\n",
       "      <td>0.836926</td>\n",
       "      <td>12069</td>\n",
       "      <td>0.873700</td>\n",
       "      <td>0.876295</td>\n",
       "      <td>0.872530</td>\n",
       "      <td>12069</td>\n",
       "    </tr>\n",
       "    <tr>\n",
       "      <th>fbwx_w2v_poly_SVM(C=0.1)_naive_resampling</th>\n",
       "      <td>0.842158</td>\n",
       "      <td>0.666820</td>\n",
       "      <td>0.863108</td>\n",
       "      <td>0.752372</td>\n",
       "      <td>3353</td>\n",
       "      <td>0.940613</td>\n",
       "      <td>0.834098</td>\n",
       "      <td>0.884159</td>\n",
       "      <td>8716</td>\n",
       "      <td>0.803717</td>\n",
       "      <td>0.848603</td>\n",
       "      <td>0.818266</td>\n",
       "      <td>12069</td>\n",
       "      <td>0.864548</td>\n",
       "      <td>0.842158</td>\n",
       "      <td>0.847546</td>\n",
       "      <td>12069</td>\n",
       "    </tr>\n",
       "    <tr>\n",
       "      <th>fbwx_w2v_poly_SVM(C=1)_naive_resampling</th>\n",
       "      <td>0.863286</td>\n",
       "      <td>0.708140</td>\n",
       "      <td>0.864002</td>\n",
       "      <td>0.778345</td>\n",
       "      <td>3353</td>\n",
       "      <td>0.942843</td>\n",
       "      <td>0.863011</td>\n",
       "      <td>0.901162</td>\n",
       "      <td>8716</td>\n",
       "      <td>0.825491</td>\n",
       "      <td>0.863506</td>\n",
       "      <td>0.839754</td>\n",
       "      <td>12069</td>\n",
       "      <td>0.877638</td>\n",
       "      <td>0.863286</td>\n",
       "      <td>0.867041</td>\n",
       "      <td>12069</td>\n",
       "    </tr>\n",
       "    <tr>\n",
       "      <th>fbwx_w2v_rbf_SVM(gamma=0.1)</th>\n",
       "      <td>0.881515</td>\n",
       "      <td>0.830299</td>\n",
       "      <td>0.720847</td>\n",
       "      <td>0.771711</td>\n",
       "      <td>3353</td>\n",
       "      <td>0.897794</td>\n",
       "      <td>0.943323</td>\n",
       "      <td>0.919996</td>\n",
       "      <td>8716</td>\n",
       "      <td>0.864047</td>\n",
       "      <td>0.832085</td>\n",
       "      <td>0.845853</td>\n",
       "      <td>12069</td>\n",
       "      <td>0.879043</td>\n",
       "      <td>0.881515</td>\n",
       "      <td>0.878799</td>\n",
       "      <td>12069</td>\n",
       "    </tr>\n",
       "    <tr>\n",
       "      <th>fbwx_w2v_rbf_SVM(gamma=0.1)_naive_resampling</th>\n",
       "      <td>0.870743</td>\n",
       "      <td>0.738114</td>\n",
       "      <td>0.828810</td>\n",
       "      <td>0.780837</td>\n",
       "      <td>3353</td>\n",
       "      <td>0.930877</td>\n",
       "      <td>0.886875</td>\n",
       "      <td>0.908343</td>\n",
       "      <td>8716</td>\n",
       "      <td>0.834495</td>\n",
       "      <td>0.857842</td>\n",
       "      <td>0.844590</td>\n",
       "      <td>12069</td>\n",
       "      <td>0.877324</td>\n",
       "      <td>0.870743</td>\n",
       "      <td>0.872920</td>\n",
       "      <td>12069</td>\n",
       "    </tr>\n",
       "    <tr>\n",
       "      <th>fbwx_w2v_rbf_SVM(gamma=1/k)</th>\n",
       "      <td>0.881597</td>\n",
       "      <td>0.829452</td>\n",
       "      <td>0.722338</td>\n",
       "      <td>0.772198</td>\n",
       "      <td>3353</td>\n",
       "      <td>0.898240</td>\n",
       "      <td>0.942864</td>\n",
       "      <td>0.920011</td>\n",
       "      <td>8716</td>\n",
       "      <td>0.863846</td>\n",
       "      <td>0.832601</td>\n",
       "      <td>0.846105</td>\n",
       "      <td>12069</td>\n",
       "      <td>0.879130</td>\n",
       "      <td>0.881597</td>\n",
       "      <td>0.878946</td>\n",
       "      <td>12069</td>\n",
       "    </tr>\n",
       "    <tr>\n",
       "      <th>fbwx_w2v_rbf_SVM(gamma=1/k)_naive_resampling</th>\n",
       "      <td>0.860055</td>\n",
       "      <td>0.700482</td>\n",
       "      <td>0.866985</td>\n",
       "      <td>0.774890</td>\n",
       "      <td>3353</td>\n",
       "      <td>0.943680</td>\n",
       "      <td>0.857389</td>\n",
       "      <td>0.898467</td>\n",
       "      <td>8716</td>\n",
       "      <td>0.822081</td>\n",
       "      <td>0.862187</td>\n",
       "      <td>0.836679</td>\n",
       "      <td>12069</td>\n",
       "      <td>0.876115</td>\n",
       "      <td>0.860055</td>\n",
       "      <td>0.864135</td>\n",
       "      <td>12069</td>\n",
       "    </tr>\n",
       "    <tr>\n",
       "      <th>fbwx_w2v_Ramdom Forest</th>\n",
       "      <td>0.868589</td>\n",
       "      <td>0.822799</td>\n",
       "      <td>0.671637</td>\n",
       "      <td>0.739573</td>\n",
       "      <td>3353</td>\n",
       "      <td>0.882019</td>\n",
       "      <td>0.944355</td>\n",
       "      <td>0.912123</td>\n",
       "      <td>8716</td>\n",
       "      <td>0.852409</td>\n",
       "      <td>0.807996</td>\n",
       "      <td>0.825848</td>\n",
       "      <td>12069</td>\n",
       "      <td>0.865566</td>\n",
       "      <td>0.868589</td>\n",
       "      <td>0.864185</td>\n",
       "      <td>12069</td>\n",
       "    </tr>\n",
       "    <tr>\n",
       "      <th>fbwx_w2v_Ramdom Forest naive_resampling</th>\n",
       "      <td>0.873478</td>\n",
       "      <td>0.792816</td>\n",
       "      <td>0.737250</td>\n",
       "      <td>0.764024</td>\n",
       "      <td>3353</td>\n",
       "      <td>0.901575</td>\n",
       "      <td>0.925883</td>\n",
       "      <td>0.913568</td>\n",
       "      <td>8716</td>\n",
       "      <td>0.847196</td>\n",
       "      <td>0.831567</td>\n",
       "      <td>0.838796</td>\n",
       "      <td>12069</td>\n",
       "      <td>0.871360</td>\n",
       "      <td>0.873478</td>\n",
       "      <td>0.872022</td>\n",
       "      <td>12069</td>\n",
       "    </tr>\n",
       "  </tbody>\n",
       "</table>\n",
       "</div>"
      ],
      "text/plain": [
       "                                              accuracy  precision    recall  \\\n",
       "TF-IDF_CNN                                    0.874669   0.756842  0.800905   \n",
       "TF-IDF_CNN_naive_resampling                   0.882455   0.824658  0.726395   \n",
       "fbwx_w2v_LR                                   0.869252   0.796409  0.706430   \n",
       "fbwx_w2v_LR_naive_resampling                  0.869086   0.793294  0.700336   \n",
       "fbwx_w2v_linear_SVM                           0.867346   0.798162  0.699374   \n",
       "fbwx_w2v_linear_SVM_naive_resampling          0.841163   0.666281  0.858038   \n",
       "fbwx_w2v_poly_SVM C=0.1                       0.851272   0.849327  0.564867   \n",
       "fbwx_w2v_poly_SVM C=1                         0.876295   0.833812  0.692812   \n",
       "fbwx_w2v_poly_SVM(C=0.1)_naive_resampling     0.842158   0.666820  0.863108   \n",
       "fbwx_w2v_poly_SVM(C=1)_naive_resampling       0.863286   0.708140  0.864002   \n",
       "fbwx_w2v_rbf_SVM(gamma=0.1)                   0.881515   0.830299  0.720847   \n",
       "fbwx_w2v_rbf_SVM(gamma=0.1)_naive_resampling  0.870743   0.738114  0.828810   \n",
       "fbwx_w2v_rbf_SVM(gamma=1/k)                   0.881597   0.829452  0.722338   \n",
       "fbwx_w2v_rbf_SVM(gamma=1/k)_naive_resampling  0.860055   0.700482  0.866985   \n",
       "fbwx_w2v_Ramdom Forest                        0.868589   0.822799  0.671637   \n",
       "fbwx_w2v_Ramdom Forest naive_resampling       0.873478   0.792816  0.737250   \n",
       "\n",
       "                                              f1-score  support  precision  \\\n",
       "TF-IDF_CNN                                    0.778250     3315   0.922933   \n",
       "TF-IDF_CNN_naive_resampling                   0.772414     3315   0.900896   \n",
       "fbwx_w2v_LR                                   0.748726     3328   0.892838   \n",
       "fbwx_w2v_LR_naive_resampling                  0.743922     3277   0.892982   \n",
       "fbwx_w2v_linear_SVM                           0.745509     3353   0.889607   \n",
       "fbwx_w2v_linear_SVM_naive_resampling          0.750098     3353   0.938589   \n",
       "fbwx_w2v_poly_SVM C=0.1                       0.678488     3353   0.851713   \n",
       "fbwx_w2v_poly_SVM C=1                         0.756801     3353   0.889044   \n",
       "fbwx_w2v_poly_SVM(C=0.1)_naive_resampling     0.752372     3353   0.940613   \n",
       "fbwx_w2v_poly_SVM(C=1)_naive_resampling       0.778345     3353   0.942843   \n",
       "fbwx_w2v_rbf_SVM(gamma=0.1)                   0.771711     3353   0.897794   \n",
       "fbwx_w2v_rbf_SVM(gamma=0.1)_naive_resampling  0.780837     3353   0.930877   \n",
       "fbwx_w2v_rbf_SVM(gamma=1/k)                   0.772198     3353   0.898240   \n",
       "fbwx_w2v_rbf_SVM(gamma=1/k)_naive_resampling  0.774890     3353   0.943680   \n",
       "fbwx_w2v_Ramdom Forest                        0.739573     3353   0.882019   \n",
       "fbwx_w2v_Ramdom Forest naive_resampling       0.764024     3353   0.901575   \n",
       "\n",
       "                                                recall  f1-score  support  \\\n",
       "TF-IDF_CNN                                    0.902592  0.912649     8757   \n",
       "TF-IDF_CNN_naive_resampling                   0.941532  0.920766     8757   \n",
       "fbwx_w2v_LR                                   0.931244  0.911636     8741   \n",
       "fbwx_w2v_LR_naive_resampling                  0.931984  0.912066     8792   \n",
       "fbwx_w2v_linear_SVM                           0.931964  0.910293     8716   \n",
       "fbwx_w2v_linear_SVM_naive_resampling          0.834672  0.883585     8716   \n",
       "fbwx_w2v_poly_SVM C=0.1                       0.961450  0.903261     8716   \n",
       "fbwx_w2v_poly_SVM C=1                         0.946879  0.917051     8716   \n",
       "fbwx_w2v_poly_SVM(C=0.1)_naive_resampling     0.834098  0.884159     8716   \n",
       "fbwx_w2v_poly_SVM(C=1)_naive_resampling       0.863011  0.901162     8716   \n",
       "fbwx_w2v_rbf_SVM(gamma=0.1)                   0.943323  0.919996     8716   \n",
       "fbwx_w2v_rbf_SVM(gamma=0.1)_naive_resampling  0.886875  0.908343     8716   \n",
       "fbwx_w2v_rbf_SVM(gamma=1/k)                   0.942864  0.920011     8716   \n",
       "fbwx_w2v_rbf_SVM(gamma=1/k)_naive_resampling  0.857389  0.898467     8716   \n",
       "fbwx_w2v_Ramdom Forest                        0.944355  0.912123     8716   \n",
       "fbwx_w2v_Ramdom Forest naive_resampling       0.925883  0.913568     8716   \n",
       "\n",
       "                                              precision    recall  f1-score  \\\n",
       "TF-IDF_CNN                                     0.839887  0.851749  0.845450   \n",
       "TF-IDF_CNN_naive_resampling                    0.862777  0.833964  0.846590   \n",
       "fbwx_w2v_LR                                    0.844623  0.818837  0.830181   \n",
       "fbwx_w2v_LR_naive_resampling                   0.843138  0.816160  0.827994   \n",
       "fbwx_w2v_linear_SVM                            0.843884  0.815669  0.827901   \n",
       "fbwx_w2v_linear_SVM_naive_resampling           0.802435  0.846355  0.816842   \n",
       "fbwx_w2v_poly_SVM C=0.1                        0.850520  0.763159  0.790874   \n",
       "fbwx_w2v_poly_SVM C=1                          0.861428  0.819846  0.836926   \n",
       "fbwx_w2v_poly_SVM(C=0.1)_naive_resampling      0.803717  0.848603  0.818266   \n",
       "fbwx_w2v_poly_SVM(C=1)_naive_resampling        0.825491  0.863506  0.839754   \n",
       "fbwx_w2v_rbf_SVM(gamma=0.1)                    0.864047  0.832085  0.845853   \n",
       "fbwx_w2v_rbf_SVM(gamma=0.1)_naive_resampling   0.834495  0.857842  0.844590   \n",
       "fbwx_w2v_rbf_SVM(gamma=1/k)                    0.863846  0.832601  0.846105   \n",
       "fbwx_w2v_rbf_SVM(gamma=1/k)_naive_resampling   0.822081  0.862187  0.836679   \n",
       "fbwx_w2v_Ramdom Forest                         0.852409  0.807996  0.825848   \n",
       "fbwx_w2v_Ramdom Forest naive_resampling        0.847196  0.831567  0.838796   \n",
       "\n",
       "                                              support  precision    recall  \\\n",
       "TF-IDF_CNN                                      12072   0.877324  0.874669   \n",
       "TF-IDF_CNN_naive_resampling                     12072   0.879961  0.882455   \n",
       "fbwx_w2v_LR                                     12069   0.866248  0.869252   \n",
       "fbwx_w2v_LR_naive_resampling                    12069   0.865914  0.869086   \n",
       "fbwx_w2v_linear_SVM                             12069   0.864202  0.867346   \n",
       "fbwx_w2v_linear_SVM_naive_resampling            12069   0.862936  0.841163   \n",
       "fbwx_w2v_poly_SVM C=0.1                         12069   0.851050  0.851272   \n",
       "fbwx_w2v_poly_SVM C=1                           12069   0.873700  0.876295   \n",
       "fbwx_w2v_poly_SVM(C=0.1)_naive_resampling       12069   0.864548  0.842158   \n",
       "fbwx_w2v_poly_SVM(C=1)_naive_resampling         12069   0.877638  0.863286   \n",
       "fbwx_w2v_rbf_SVM(gamma=0.1)                     12069   0.879043  0.881515   \n",
       "fbwx_w2v_rbf_SVM(gamma=0.1)_naive_resampling    12069   0.877324  0.870743   \n",
       "fbwx_w2v_rbf_SVM(gamma=1/k)                     12069   0.879130  0.881597   \n",
       "fbwx_w2v_rbf_SVM(gamma=1/k)_naive_resampling    12069   0.876115  0.860055   \n",
       "fbwx_w2v_Ramdom Forest                          12069   0.865566  0.868589   \n",
       "fbwx_w2v_Ramdom Forest naive_resampling         12069   0.871360  0.873478   \n",
       "\n",
       "                                              f1-score  support  \n",
       "TF-IDF_CNN                                    0.875743    12072  \n",
       "TF-IDF_CNN_naive_resampling                   0.880028    12072  \n",
       "fbwx_w2v_LR                                   0.866714    12069  \n",
       "fbwx_w2v_LR_naive_resampling                  0.866411    12069  \n",
       "fbwx_w2v_linear_SVM                           0.864513    12069  \n",
       "fbwx_w2v_linear_SVM_naive_resampling          0.846500    12069  \n",
       "fbwx_w2v_poly_SVM C=0.1                       0.840815    12069  \n",
       "fbwx_w2v_poly_SVM C=1                         0.872530    12069  \n",
       "fbwx_w2v_poly_SVM(C=0.1)_naive_resampling     0.847546    12069  \n",
       "fbwx_w2v_poly_SVM(C=1)_naive_resampling       0.867041    12069  \n",
       "fbwx_w2v_rbf_SVM(gamma=0.1)                   0.878799    12069  \n",
       "fbwx_w2v_rbf_SVM(gamma=0.1)_naive_resampling  0.872920    12069  \n",
       "fbwx_w2v_rbf_SVM(gamma=1/k)                   0.878946    12069  \n",
       "fbwx_w2v_rbf_SVM(gamma=1/k)_naive_resampling  0.864135    12069  \n",
       "fbwx_w2v_Ramdom Forest                        0.864185    12069  \n",
       "fbwx_w2v_Ramdom Forest naive_resampling       0.872022    12069  "
      ]
     },
     "execution_count": 668,
     "metadata": {},
     "output_type": "execute_result"
    }
   ],
   "source": [
    "fbwx_w2v_rf_naive_resampling_performance = classification_report(test_y_rf, y_pred_rf,digits=4,output_dict=True)\n",
    "performance = fbwx_w2v_rf_naive_resampling_performance\n",
    "model_name = 'fbwx_w2v_Ramdom Forest naive_resampling'\n",
    "performance_df = sklearn_perform(model_name,performance,performance_df)\n",
    "performance_df"
   ]
  },
  {
   "cell_type": "code",
   "execution_count": null,
   "metadata": {},
   "outputs": [],
   "source": []
  },
  {
   "cell_type": "code",
   "execution_count": null,
   "metadata": {},
   "outputs": [],
   "source": []
  },
  {
   "cell_type": "code",
   "execution_count": null,
   "metadata": {},
   "outputs": [],
   "source": []
  },
  {
   "cell_type": "code",
   "execution_count": null,
   "metadata": {},
   "outputs": [],
   "source": []
  },
  {
   "cell_type": "code",
   "execution_count": null,
   "metadata": {},
   "outputs": [],
   "source": []
  },
  {
   "cell_type": "code",
   "execution_count": null,
   "metadata": {},
   "outputs": [],
   "source": []
  },
  {
   "cell_type": "markdown",
   "metadata": {},
   "source": [
    "### Model 6.1 现有样本数据训练word2vec + Extra Trees"
   ]
  },
  {
   "cell_type": "code",
   "execution_count": null,
   "metadata": {},
   "outputs": [],
   "source": [
    "from sklearn.ensemble import ExtraTreesClassifier\n",
    "et_model=ExtraTreesClassifier()"
   ]
  },
  {
   "cell_type": "code",
   "execution_count": null,
   "metadata": {},
   "outputs": [],
   "source": []
  },
  {
   "cell_type": "code",
   "execution_count": null,
   "metadata": {},
   "outputs": [],
   "source": []
  },
  {
   "cell_type": "code",
   "execution_count": null,
   "metadata": {},
   "outputs": [],
   "source": []
  },
  {
   "cell_type": "code",
   "execution_count": null,
   "metadata": {},
   "outputs": [],
   "source": []
  },
  {
   "cell_type": "markdown",
   "metadata": {},
   "source": [
    "### Model 7.1 现有样本数据训练word2vec + Naive Bayes"
   ]
  },
  {
   "cell_type": "code",
   "execution_count": null,
   "metadata": {},
   "outputs": [],
   "source": [
    "from sklearn.naive_bayes import GaussianNB\n",
    "gnb_model=GaussianNB()"
   ]
  },
  {
   "cell_type": "code",
   "execution_count": null,
   "metadata": {},
   "outputs": [],
   "source": []
  },
  {
   "cell_type": "code",
   "execution_count": null,
   "metadata": {},
   "outputs": [],
   "source": []
  },
  {
   "cell_type": "code",
   "execution_count": null,
   "metadata": {},
   "outputs": [],
   "source": []
  },
  {
   "cell_type": "code",
   "execution_count": null,
   "metadata": {},
   "outputs": [],
   "source": []
  },
  {
   "cell_type": "markdown",
   "metadata": {},
   "source": [
    "### Model 8.1 现有样本数据训练word2vec + KNN"
   ]
  },
  {
   "cell_type": "code",
   "execution_count": null,
   "metadata": {},
   "outputs": [],
   "source": [
    "from sklearn.neighbors import KNeighborsClassifier\n",
    "knn_model=KNeighborsClassifier()"
   ]
  },
  {
   "cell_type": "code",
   "execution_count": null,
   "metadata": {},
   "outputs": [],
   "source": []
  },
  {
   "cell_type": "code",
   "execution_count": null,
   "metadata": {},
   "outputs": [],
   "source": []
  },
  {
   "cell_type": "code",
   "execution_count": null,
   "metadata": {},
   "outputs": [],
   "source": []
  },
  {
   "cell_type": "code",
   "execution_count": null,
   "metadata": {},
   "outputs": [],
   "source": []
  },
  {
   "cell_type": "code",
   "execution_count": null,
   "metadata": {},
   "outputs": [],
   "source": []
  },
  {
   "cell_type": "code",
   "execution_count": null,
   "metadata": {},
   "outputs": [],
   "source": []
  },
  {
   "cell_type": "code",
   "execution_count": null,
   "metadata": {},
   "outputs": [],
   "source": []
  },
  {
   "cell_type": "code",
   "execution_count": null,
   "metadata": {},
   "outputs": [],
   "source": []
  },
  {
   "cell_type": "code",
   "execution_count": null,
   "metadata": {},
   "outputs": [],
   "source": []
  },
  {
   "cell_type": "code",
   "execution_count": null,
   "metadata": {},
   "outputs": [],
   "source": []
  },
  {
   "cell_type": "code",
   "execution_count": null,
   "metadata": {},
   "outputs": [],
   "source": []
  },
  {
   "cell_type": "code",
   "execution_count": null,
   "metadata": {},
   "outputs": [],
   "source": []
  },
  {
   "cell_type": "code",
   "execution_count": null,
   "metadata": {},
   "outputs": [],
   "source": []
  },
  {
   "cell_type": "code",
   "execution_count": null,
   "metadata": {},
   "outputs": [],
   "source": []
  },
  {
   "cell_type": "code",
   "execution_count": null,
   "metadata": {},
   "outputs": [],
   "source": []
  },
  {
   "cell_type": "markdown",
   "metadata": {},
   "source": [
    "### Model 4.1: zhihu word vectors + cnn"
   ]
  },
  {
   "cell_type": "markdown",
   "metadata": {},
   "source": [
    "#### 0.需要的库"
   ]
  },
  {
   "cell_type": "code",
   "execution_count": null,
   "metadata": {},
   "outputs": [],
   "source": [
    "# 首先加载必用的库，jieba和gensim专门中文 \n",
    "# %matplotlib inline功能是可以内嵌绘图，并且可以省略掉plt.show()这一步\n",
    "%matplotlib inline \n",
    "import numpy as np\n",
    "import matplotlib.pyplot as plt\n",
    "import re #正则化用\n",
    "import jieba # 中文必须用【结巴分词】，因为计算机不会断句\n",
    "# gensim用来加载预训练word vector\n",
    "from gensim.models import KeyedVectors\n",
    "#KeyedVectors实现实体（单词、文档、图片都可以）和向量之间的映射，实体都用string id表示\n",
    "#有时候运行代码时会有很多warning输出，如提醒新版本之类的，如果不想乱糟糟的输出可以这样\n",
    "import warnings\n",
    "warnings.filterwarnings(\"ignore\")"
   ]
  },
  {
   "cell_type": "markdown",
   "metadata": {},
   "source": [
    "#### 1.预训练词向量"
   ]
  },
  {
   "cell_type": "code",
   "execution_count": null,
   "metadata": {},
   "outputs": [],
   "source": [
    "cn_model = KeyedVectors.load_word2vec_format('sgns.zhihu.bigram', \n",
    "                                          binary=False)"
   ]
  },
  {
   "cell_type": "markdown",
   "metadata": {},
   "source": [
    "#### 2.词向量模型"
   ]
  },
  {
   "cell_type": "code",
   "execution_count": null,
   "metadata": {},
   "outputs": [],
   "source": [
    "# 由此可见每一个词都对应一个长度为300的向量\n",
    "embedding_dim = cn_model['建筑'].shape[0]  #一词山东大学，shape[0]返回行数\n",
    "print('词向量的长度为{}'.format(embedding_dim))\n",
    "#cn_model['建筑']"
   ]
  },
  {
   "cell_type": "code",
   "execution_count": null,
   "metadata": {},
   "outputs": [],
   "source": [
    "# 计算相似度\n",
    "cn_model.similarity('伤亡', '事故')"
   ]
  },
  {
   "cell_type": "code",
   "execution_count": null,
   "metadata": {},
   "outputs": [],
   "source": [
    "# dot（'橘子'/|'橘子'|， '橙子'/|'橙子'| ），余弦相似度\n",
    "np.dot(cn_model['伤亡']/np.linalg.norm(cn_model['伤亡']), \n",
    "cn_model['事故']/np.linalg.norm(cn_model['事故']))"
   ]
  },
  {
   "cell_type": "code",
   "execution_count": null,
   "metadata": {},
   "outputs": [],
   "source": [
    "# 找出最相近的词，余弦相似度\n",
    "cn_model.most_similar(positive=['事故'], topn=10)"
   ]
  },
  {
   "cell_type": "code",
   "execution_count": null,
   "metadata": {},
   "outputs": [],
   "source": [
    "# 找出不同的词\n",
    "test_words = '事故 故障 爆炸事件 死亡 建筑'\n",
    "test_words_result = cn_model.doesnt_match(test_words.split())\n",
    "print('在 '+test_words+' 中:\\n不是同一类别的词为: %s' %test_words_result)"
   ]
  },
  {
   "cell_type": "code",
   "execution_count": null,
   "metadata": {},
   "outputs": [],
   "source": [
    "cn_model.most_similar(positive=['建筑','事故'], negative=['工程'], topn=1)"
   ]
  },
  {
   "cell_type": "markdown",
   "metadata": {},
   "source": [
    "#### 3.训练语料 （数据集）"
   ]
  },
  {
   "cell_type": "code",
   "execution_count": null,
   "metadata": {},
   "outputs": [],
   "source": [
    "# 我们使用tensorflow的keras接口来建模\n",
    "from tensorflow.keras.models import Sequential\n",
    "from tensorflow.keras.layers import Dense, GRU, Embedding, LSTM, Bidirectional#Dense全连接\n",
    "#Bidirectional双向LSTM  callbacks用来调参\n",
    "from tensorflow.keras.preprocessing.text import Tokenizer\n",
    "from tensorflow.keras.preprocessing.sequence import pad_sequences\n",
    "from tensorflow.keras.optimizers import RMSprop\n",
    "from tensorflow.keras.optimizers import Adam\n",
    "from tensorflow.keras.callbacks import EarlyStopping, ModelCheckpoint, TensorBoard, ReduceLROnPlateau\n",
    "from tensorflow.keras import models"
   ]
  },
  {
   "cell_type": "code",
   "execution_count": null,
   "metadata": {},
   "outputs": [],
   "source": [
    "# 我们使用tensorflow的keras接口来建模\n",
    "from keras.models import Sequential\n",
    "from keras.layers import Dense, GRU, Embedding, LSTM, Bidirectional#Dense全连接\n",
    "#Bidirectional双向LSTM  callbacks用来调参\n",
    "from keras.preprocessing.text import Tokenizer\n",
    "from keras.preprocessing.sequence import pad_sequences\n",
    "from keras.optimizers import RMSprop\n",
    "from keras.optimizers import Adam\n",
    "from keras.callbacks import EarlyStopping, ModelCheckpoint, TensorBoard, ReduceLROnPlateau\n"
   ]
  },
  {
   "cell_type": "markdown",
   "metadata": {},
   "source": [
    "#### 4.分词和tokenize"
   ]
  },
  {
   "cell_type": "code",
   "execution_count": null,
   "metadata": {},
   "outputs": [],
   "source": []
  },
  {
   "cell_type": "code",
   "execution_count": null,
   "metadata": {},
   "outputs": [],
   "source": [
    "train_tokens = newvalues['baidu_seg'].tolist()"
   ]
  },
  {
   "cell_type": "code",
   "execution_count": null,
   "metadata": {},
   "outputs": [],
   "source": [
    "train_tokens = []\n",
    "for row_idx in range(newvalues.shape[0]):\n",
    "    cut_list = newvalues.loc[row_idx, 'baidu_seg'].copy()\n",
    "    for i, word in enumerate(cut_list):\n",
    "        try:\n",
    "            cut_list[i] = cn_model.vocab[word].index\n",
    "        except KeyError:\n",
    "            cut_list[i] = 0\n",
    "    train_tokens.append(cut_list)"
   ]
  },
  {
   "cell_type": "code",
   "execution_count": null,
   "metadata": {},
   "outputs": [],
   "source": []
  },
  {
   "cell_type": "code",
   "execution_count": null,
   "metadata": {},
   "outputs": [],
   "source": [
    "newvalues.loc[0, 'baidu_seg']"
   ]
  },
  {
   "cell_type": "code",
   "execution_count": null,
   "metadata": {},
   "outputs": [],
   "source": []
  },
  {
   "cell_type": "code",
   "execution_count": null,
   "metadata": {},
   "outputs": [],
   "source": []
  },
  {
   "cell_type": "markdown",
   "metadata": {},
   "source": [
    "#### 5.索引长度标准化\n",
    "因为每段评语的长度是不一样的，我们如果单纯取最长的一个评语，并把其他评填充成同样的长度，这样十分浪费计算资源，所以我们取一个折衷的长度。"
   ]
  },
  {
   "cell_type": "code",
   "execution_count": null,
   "metadata": {},
   "outputs": [],
   "source": [
    "# 获得所有tokens的长度\n",
    "num_tokens = [ len(tokens) for tokens in train_tokens ]\n",
    "num_tokens = np.array(num_tokens)\n"
   ]
  },
  {
   "cell_type": "code",
   "execution_count": null,
   "metadata": {},
   "outputs": [],
   "source": [
    "# 平均tokens的长度\n",
    "np.mean(num_tokens)"
   ]
  },
  {
   "cell_type": "code",
   "execution_count": null,
   "metadata": {},
   "outputs": [],
   "source": [
    "# 最长的评价tokens的长度\n",
    "np.max(num_tokens)"
   ]
  },
  {
   "cell_type": "code",
   "execution_count": null,
   "metadata": {},
   "outputs": [],
   "source": [
    "plt.hist(np.log(num_tokens), bins = 100)#有大有小取对数\n",
    "plt.xlim((3,6))\n",
    "plt.ylabel('number of tokens')\n",
    "plt.xlabel('length of tokens')\n",
    "plt.title('Distribution of tokens length')\n",
    "plt.show()"
   ]
  },
  {
   "cell_type": "code",
   "execution_count": null,
   "metadata": {},
   "outputs": [],
   "source": [
    "# 取tokens平均值并加上两个tokens的标准差，\n",
    "# 假设tokens长度的分布为正态分布，则max_tokens这个值可以涵盖95%左右的样本\n",
    "max_tokens = np.mean(num_tokens) + 2 * np.std(num_tokens)\n",
    "max_tokens = int(max_tokens)\n",
    "max_tokens"
   ]
  },
  {
   "cell_type": "code",
   "execution_count": null,
   "metadata": {},
   "outputs": [],
   "source": [
    "# 取tokens的长度为1806时，大约95%的样本被涵盖\n",
    "# 我们对长度不足的进行padding，超长的进行修剪\n",
    "np.sum( num_tokens < max_tokens ) / len(num_tokens)"
   ]
  },
  {
   "cell_type": "markdown",
   "metadata": {},
   "source": [
    "#### 6.反向tokenize\n",
    "为了之后来验证 我们定义一个function，用来把索引转换成可阅读的文本，这对于debug很重要。"
   ]
  },
  {
   "cell_type": "code",
   "execution_count": null,
   "metadata": {},
   "outputs": [],
   "source": [
    "# 用来将tokens转换为文本\n",
    "def reverse_tokens(tokens):\n",
    "    text = ''\n",
    "    for i in tokens:\n",
    "        if i != 0:\n",
    "            text = text + cn_model.index2word[i]\n",
    "        else:\n",
    "            text = text + ' '\n",
    "    return text\n"
   ]
  },
  {
   "cell_type": "code",
   "execution_count": null,
   "metadata": {},
   "outputs": [],
   "source": [
    "reverse = reverse_tokens(train_tokens[100])\n",
    "reverse"
   ]
  },
  {
   "cell_type": "code",
   "execution_count": null,
   "metadata": {},
   "outputs": [],
   "source": [
    "newvalues.loc[100, 'baidu_seg']"
   ]
  },
  {
   "cell_type": "markdown",
   "metadata": {},
   "source": [
    "#### 7.构建embedding matrix\n",
    "现在我们来为模型准备embedding matrix（词向量矩阵），根据keras的要求，我们需要准备一个维度为(numwords, embeddingdim)的矩阵【num words代表我们使用的词汇的数量，emdedding dimension在我们现在使用的预训练词向量模型中是300，每一个词汇都用一个长度为300的向量表示】注意我们只选择使用前50k个使用频率最高的词，在这个预训练词向量模型中，一共有260万词汇量，如果全部使用在分类问题上会很浪费计算资源，因为我们的训练样本很小，一共只有4k，如果我们有100k，200k甚至更多的训练样本时，在分类问题上可以考虑减少使用的词汇量。"
   ]
  },
  {
   "cell_type": "code",
   "execution_count": null,
   "metadata": {},
   "outputs": [],
   "source": [
    "# 只使用大库前50000个词\n",
    "num_words = 100000\n",
    "# 初始化embedding_matrix，之后在keras上进行应用\n",
    "embedding_matrix = np.zeros((num_words, embedding_dim))\n",
    "# embedding_matrix为一个 [num_words，embedding_dim] 的矩阵\n",
    "# 维度为 50000 * 300\n",
    "for i in range(num_words):\n",
    "    embedding_matrix[i,:] = cn_model[cn_model.index2word[i]]\n",
    "embedding_matrix = embedding_matrix.astype('float32')\n"
   ]
  },
  {
   "cell_type": "code",
   "execution_count": null,
   "metadata": {},
   "outputs": [],
   "source": [
    "# 检查index是否对应，\n",
    "# 输出300意义为长度为300的embedding向量一一对应\n",
    "np.sum( cn_model[cn_model.index2word[333]] == embedding_matrix[333] )"
   ]
  },
  {
   "cell_type": "code",
   "execution_count": null,
   "metadata": {},
   "outputs": [],
   "source": [
    "# embedding_matrix的维度，\n",
    "# 这个维度为keras的要求，后续会在模型中用到\n",
    "embedding_matrix.shape"
   ]
  },
  {
   "cell_type": "code",
   "execution_count": null,
   "metadata": {},
   "outputs": [],
   "source": [
    "train_tokens[0]"
   ]
  },
  {
   "cell_type": "code",
   "execution_count": null,
   "metadata": {},
   "outputs": [],
   "source": [
    "# 进行padding和truncating， 输入的train_tokens是一个list\n",
    "# 返回的train_pad是一个numpy array\n",
    "train_pad = pad_sequences(train_tokens, maxlen=max_tokens,\n",
    "                            padding='pre', truncating='pre')\n"
   ]
  },
  {
   "cell_type": "code",
   "execution_count": null,
   "metadata": {},
   "outputs": [],
   "source": [
    "len(train_pad[1])"
   ]
  },
  {
   "cell_type": "code",
   "execution_count": null,
   "metadata": {},
   "outputs": [],
   "source": [
    "pd.DataFrame(train_pad[11]).shape"
   ]
  },
  {
   "cell_type": "code",
   "execution_count": null,
   "metadata": {},
   "outputs": [],
   "source": [
    "# 超出9000个词向量的词用0代替\n",
    "train_pad[train_pad >= num_words ] = 0"
   ]
  },
  {
   "cell_type": "code",
   "execution_count": null,
   "metadata": {},
   "outputs": [],
   "source": [
    "# 可见padding之后前面的tokens全变成0，文本在最后面\n",
    "train_pad[1003]"
   ]
  },
  {
   "cell_type": "code",
   "execution_count": null,
   "metadata": {
    "scrolled": true
   },
   "outputs": [],
   "source": [
    "# pd.DataFrame(train_pad[10])[0].value_counts()\n",
    "# 训练样本专业性很强，而预训练的词向量所用文本包含许多领域"
   ]
  },
  {
   "cell_type": "code",
   "execution_count": null,
   "metadata": {},
   "outputs": [],
   "source": [
    "train_target = newvalues.label"
   ]
  },
  {
   "cell_type": "code",
   "execution_count": null,
   "metadata": {},
   "outputs": [],
   "source": [
    "# 进行训练和测试样本的分割\n",
    "from sklearn.model_selection import train_test_split\n"
   ]
  },
  {
   "cell_type": "code",
   "execution_count": null,
   "metadata": {},
   "outputs": [],
   "source": [
    "train_target.shape\n",
    "train_pad.shape"
   ]
  },
  {
   "cell_type": "code",
   "execution_count": null,
   "metadata": {},
   "outputs": [],
   "source": [
    "# 90%的样本用来训练，剩余10%用来测试\n",
    "#因为前2000个文件夹都是neg一类，所以打乱顺序来训练 random_state\n",
    "X_train, X_test, y_train, y_test = train_test_split(train_pad,\n",
    "                                                    train_target,\n",
    "                                                    test_size=0.1,\n",
    "                                                    random_state=12\n",
    "                                                    )\n"
   ]
  },
  {
   "cell_type": "code",
   "execution_count": null,
   "metadata": {},
   "outputs": [],
   "source": [
    "import random\n",
    "X_train = random.sample(train_pad.tolist(), train_pad.shape[0]*0.7) # 结果['a', 'd', 'b', 'f', 'c']，每次运行结果不同。"
   ]
  },
  {
   "cell_type": "code",
   "execution_count": null,
   "metadata": {},
   "outputs": [],
   "source": []
  },
  {
   "cell_type": "code",
   "execution_count": null,
   "metadata": {},
   "outputs": [],
   "source": []
  },
  {
   "cell_type": "code",
   "execution_count": null,
   "metadata": {},
   "outputs": [],
   "source": [
    "reverse = reverse_tokens(train_tokens[0])\n",
    "reverse"
   ]
  },
  {
   "cell_type": "code",
   "execution_count": null,
   "metadata": {},
   "outputs": [],
   "source": []
  },
  {
   "cell_type": "code",
   "execution_count": null,
   "metadata": {},
   "outputs": [],
   "source": []
  },
  {
   "cell_type": "code",
   "execution_count": null,
   "metadata": {},
   "outputs": [],
   "source": []
  }
 ],
 "metadata": {
  "kernelspec": {
   "display_name": "Python 3",
   "language": "python",
   "name": "python3"
  },
  "language_info": {
   "codemirror_mode": {
    "name": "ipython",
    "version": 3
   },
   "file_extension": ".py",
   "mimetype": "text/x-python",
   "name": "python",
   "nbconvert_exporter": "python",
   "pygments_lexer": "ipython3",
   "version": "3.7.9"
  }
 },
 "nbformat": 4,
 "nbformat_minor": 4
}
