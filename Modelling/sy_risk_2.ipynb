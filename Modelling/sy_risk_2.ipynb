{
 "cells": [
  {
   "cell_type": "markdown",
   "metadata": {},
   "source": [
    "样本分布"
   ]
  },
  {
   "cell_type": "code",
   "execution_count": 1,
   "metadata": {},
   "outputs": [
    {
     "name": "stdout",
     "output_type": "stream",
     "text": [
      "/Users/yantong/Desktop/NLP for Risk/Code\n"
     ]
    }
   ],
   "source": [
    "%cd /Users/yantong/Desktop/NLP\\ for\\ Risk/Code/"
   ]
  },
  {
   "cell_type": "code",
   "execution_count": 2,
   "metadata": {},
   "outputs": [],
   "source": [
    "#importing all the libraries\n",
    "import numpy as np\n",
    "import pandas as pd\n",
    "import matplotlib.pyplot as plt\n",
    "import seaborn as sns\n",
    "\n",
    "\n",
    "import matplotlib.pyplot as plt\n",
    "import numpy as np\n",
    "from scipy.stats import gaussian_kde"
   ]
  },
  {
   "cell_type": "code",
   "execution_count": 3,
   "metadata": {},
   "outputs": [],
   "source": [
    "\n",
    "import jieba as jb\n",
    "import re\n",
    "\n"
   ]
  },
  {
   "cell_type": "code",
   "execution_count": 4,
   "metadata": {},
   "outputs": [],
   "source": [
    "from keras.preprocessing.text import Tokenizer\n",
    "from keras.preprocessing.sequence import pad_sequences\n",
    "from keras.utils import to_categorical\n",
    "import numpy as np\n",
    "\n",
    "from keras.layers import Dense, Input, Flatten, Dropout\n",
    "from keras.layers import Conv1D, MaxPooling1D, Embedding\n",
    "from keras.models import Sequential\n"
   ]
  },
  {
   "cell_type": "code",
   "execution_count": null,
   "metadata": {},
   "outputs": [],
   "source": []
  },
  {
   "cell_type": "code",
   "execution_count": 5,
   "metadata": {},
   "outputs": [],
   "source": [
    "plt.rcParams['font.family'] = ['Arial Unicode MS'] #正常显示中文 \n",
    "plt.rcParams['font.sans-serif'] = ['KaiTi']#作图的中文\n",
    "plt.rcParams['font.serif'] = ['KaiTi']#作图的中文\n",
    "plt.rcParams['axes.unicode_minus'] = False # 解决保存图像是负号'-'显示为方块的问题"
   ]
  },
  {
   "cell_type": "code",
   "execution_count": 56,
   "metadata": {},
   "outputs": [],
   "source": [
    "pd.set_option('display.max_rows', None)\n",
    "pd.set_option('display.max_columns', None)\n",
    "pd.set_option(\"display.max_colwidth\",None)\n",
    "pd.set_option('display.width',None)"
   ]
  },
  {
   "cell_type": "code",
   "execution_count": 7,
   "metadata": {},
   "outputs": [],
   "source": [
    "data = pd.read_csv(\"SY_RISK.csv\")"
   ]
  },
  {
   "cell_type": "code",
   "execution_count": null,
   "metadata": {},
   "outputs": [],
   "source": []
  },
  {
   "cell_type": "markdown",
   "metadata": {},
   "source": [
    "## Obtain Data"
   ]
  },
  {
   "cell_type": "code",
   "execution_count": 8,
   "metadata": {},
   "outputs": [],
   "source": [
    "data['content_long'] = data.apply(lambda r: len(r['content.1']) > len(r['content']),axis=1)"
   ]
  },
  {
   "cell_type": "code",
   "execution_count": 9,
   "metadata": {},
   "outputs": [
    {
     "data": {
      "text/plain": [
       "(29, 19)"
      ]
     },
     "execution_count": 9,
     "metadata": {},
     "output_type": "execute_result"
    }
   ],
   "source": [
    "data[data.content_long == True].shape"
   ]
  },
  {
   "cell_type": "code",
   "execution_count": 10,
   "metadata": {},
   "outputs": [],
   "source": [
    "def ff(x):\n",
    "    if x[\"content_long\"] == True:\n",
    "        return x[\"content.1\"]\n",
    "    return x[\"content\"]\n",
    " \n",
    "    pass\n",
    "data['content_'] = data.apply(lambda r: ff(r),axis=1)\n"
   ]
  },
  {
   "cell_type": "code",
   "execution_count": 11,
   "metadata": {},
   "outputs": [
    {
     "data": {
      "text/html": [
       "<div>\n",
       "<style scoped>\n",
       "    .dataframe tbody tr th:only-of-type {\n",
       "        vertical-align: middle;\n",
       "    }\n",
       "\n",
       "    .dataframe tbody tr th {\n",
       "        vertical-align: top;\n",
       "    }\n",
       "\n",
       "    .dataframe thead th {\n",
       "        text-align: right;\n",
       "    }\n",
       "</style>\n",
       "<table border=\"1\" class=\"dataframe\">\n",
       "  <thead>\n",
       "    <tr style=\"text-align: right;\">\n",
       "      <th></th>\n",
       "      <th>id</th>\n",
       "      <th>record_id</th>\n",
       "      <th>content</th>\n",
       "      <th>create_time</th>\n",
       "      <th>id.1</th>\n",
       "      <th>customer_id</th>\n",
       "      <th>credit_code</th>\n",
       "      <th>register_no</th>\n",
       "      <th>data_id</th>\n",
       "      <th>title</th>\n",
       "      <th>content.1</th>\n",
       "      <th>url</th>\n",
       "      <th>event_time</th>\n",
       "      <th>item_id</th>\n",
       "      <th>item_name</th>\n",
       "      <th>parent_item_name</th>\n",
       "      <th>create_time.1</th>\n",
       "      <th>update_time</th>\n",
       "      <th>content_long</th>\n",
       "      <th>content_</th>\n",
       "    </tr>\n",
       "  </thead>\n",
       "  <tbody>\n",
       "    <tr>\n",
       "      <th>0</th>\n",
       "      <td>1</td>\n",
       "      <td>1</td>\n",
       "      <td>{\"accord\":[\"《福州市城市道路建设与管理办法》第二十九条第二项\"],\"caseName\":\"未经批准挖掘城市道路\",\"decideDate\":\"2019-04-02\",\"decideDetail\":[\"罚款\"],\"decideOrgName\":[\"福建省福州城管委\"],\"documentNumber\":\"0000277\",\"eventTime\":\"2019-04-02\",\"form\":{\"处罚日期\":\"2019-04-02\",\"处罚事由\":\"未经批准挖掘城市道路\",\"企业名称\":\"中国建筑一局（集团）有限公司\",\"作出处罚机构\":\"福建省福州城管委\",\"处罚名称\":\"未经批准挖掘城市道路\",\"处罚依据\":\"《福州市城市道路建设与管理办法》第二十九条第二项\",\"统一社会信用代码\":\"91110000101107173B\",\"法定代表人姓名\":\"罗世威\",\"更新时间\":\"2019-12-14\",\"处罚类别1\":\"罚款\",\"决定书文号\":\"0000277\"},\"issueDate\":\"2019-12-14\",\"litigants\":[{\"detail\":[{\"type\":\"罚款\"}],\"name\":\"中国建筑一局（集团）有限公司\"}],\"reason\":[\"未经批准挖掘城市道路\"],\"title\":\"案件名称：未经批准挖掘城市道路\"}</td>\n",
       "      <td>2019-12-31 15:20:34</td>\n",
       "      <td>1</td>\n",
       "      <td>3</td>\n",
       "      <td>91110000101107173B</td>\n",
       "      <td>NaN</td>\n",
       "      <td>f2064830627aa9858659378f62740aa3</td>\n",
       "      <td>NaN</td>\n",
       "      <td>案件名称：未经批准挖掘城市道路</td>\n",
       "      <td>NaN</td>\n",
       "      <td>2019-12-14 00:00:00</td>\n",
       "      <td>40</td>\n",
       "      <td>高管变动</td>\n",
       "      <td>新闻事件</td>\n",
       "      <td>2019-12-31 15:20:34</td>\n",
       "      <td>2019-12-31 15:20:34</td>\n",
       "      <td>False</td>\n",
       "      <td>{\"accord\":[\"《福州市城市道路建设与管理办法》第二十九条第二项\"],\"caseName\":\"未经批准挖掘城市道路\",\"decideDate\":\"2019-04-02\",\"decideDetail\":[\"罚款\"],\"decideOrgName\":[\"福建省福州城管委\"],\"documentNumber\":\"0000277\",\"eventTime\":\"2019-04-02\",\"form\":{\"处罚日期\":\"2019-04-02\",\"处罚事由\":\"未经批准挖掘城市道路\",\"企业名称\":\"中国建筑一局（集团）有限公司\",\"作出处罚机构\":\"福建省福州城管委\",\"处罚名称\":\"未经批准挖掘城市道路\",\"处罚依据\":\"《福州市城市道路建设与管理办法》第二十九条第二项\",\"统一社会信用代码\":\"91110000101107173B\",\"法定代表人姓名\":\"罗世威\",\"更新时间\":\"2019-12-14\",\"处罚类别1\":\"罚款\",\"决定书文号\":\"0000277\"},\"issueDate\":\"2019-12-14\",\"litigants\":[{\"detail\":[{\"type\":\"罚款\"}],\"name\":\"中国建筑一局（集团）有限公司\"}],\"reason\":[\"未经批准挖掘城市道路\"],\"title\":\"案件名称：未经批准挖掘城市道路\"}</td>\n",
       "    </tr>\n",
       "    <tr>\n",
       "      <th>1</th>\n",
       "      <td>81555</td>\n",
       "      <td>81555</td>\n",
       "      <td>本网讯（通讯员 孙静娴）12月13日上午，中建一局房地产公司组织召开第七次中心组学习（扩大）会，第一时间对中建一局第五次党代会精神进行专题学习宣贯。此次会议在公司总部会议室设主会场1个，各下属经营机构共设分会场11个，参会人员涉及公司领导班子成员、总部部门负责人及以上干部、各下属经营机构负责人、全体党员及群众代表近100余人。会议由局党委委员、公司党委书记、董事长樊飞军主持。\\n\\n会上，传达学习了罗世威同志在中建一局第五次党代会上所作的《坚持党建引领强化战略执行 永葆组织活力 为创建中国建筑旗下最具核心竞争力的世界一流企业不懈奋斗》的党委工作报告、王希强同志在中建一局第五次党代会上所作的《推进“两个责任”落实 坚决做到“两个维护” 忠实履行党章和宪法赋予的职责 为实现中建一局战略目标提供坚强保障》的纪委工作报告，参会人员对两个报告的内容进行了热烈讨论，并结合企业实际进行了交流研讨。\\n\\n一是以实施“五大聚焦”和“一化三线”战略为主线，加速实现规模发展。深度聚焦国家重点战略地区，聚焦北京、天津、江苏、浙江和上海等战略区域重点城市，并建立研究工作机制，以“政策性住房”产品线为核心，以普通商品住宅产品线为助力，重点突破苏南、南京、北京、天津、南通、宁波等城市。\\n\\n二是以推进公司化建设和精细化管理为核心，加速提升竞争优势。要眼界向外，不断对标学习标杆房企、中建系统内优势企业的先进思想和举措，推进企业治理体系建设和公司化建设，强化精细化管理，以规范、科学的工作机制推动企业高质量发展。\\n\\n三是以紧抓投融资管理和降杠杆减负债为抓手，加速推进高质发展。坚持“两金”压降过程监控，全力降低带息负债。建立健全过程监控管理体系，构建覆盖全生命周期的管理体系，及时识别、防控、化解风险问题，建立风险事项清单及销项制度，加强风险防控与应对能力。\\n\\n四是坚持党的领导，聚焦新时代高质量党建引领高质量发展，夯实成为中建一局价值和效益新担当。必须坚持思想引领，坚定政治站位，将习近平新时代中国特色社会主义思想和党的十九大、十九届四中全会精神贯穿经营发展全过程。深入践行155大党建工作格局，进一步深化党建工作与生产经营一体化；始终锁定“中建一局效益贡献骨干子企业”的战略目标；始终强化战略执行，做到使命必达；始终强化党风廉政建设，营造风清气正政治生态；始终坚持不懈加强领导班子建设和干部...</td>\n",
       "      <td>2020-01-02 11:10:51</td>\n",
       "      <td>81555</td>\n",
       "      <td>20</td>\n",
       "      <td>91110000101715726A</td>\n",
       "      <td>NaN</td>\n",
       "      <td>5df9d8d54e0b810d790cfdd2_16</td>\n",
       "      <td>中建一局房地产公司学习宣贯局第五次党代会精神</td>\n",
       "      <td>将中建一局党委和纪委的各项工作要求落到实处,为实现公司五年后营业收入300亿,利润总额30亿的目标不懈奋斗!</td>\n",
       "      <td>http://news.jschina.com.cn/qyxw/201912/t20191218_2444769.shtml</td>\n",
       "      <td>2019-12-18 13:44:21</td>\n",
       "      <td>52</td>\n",
       "      <td>亏损盈利</td>\n",
       "      <td>新闻事件</td>\n",
       "      <td>2020-01-02 11:10:51</td>\n",
       "      <td>2020-01-02 11:10:51</td>\n",
       "      <td>False</td>\n",
       "      <td>本网讯（通讯员 孙静娴）12月13日上午，中建一局房地产公司组织召开第七次中心组学习（扩大）会，第一时间对中建一局第五次党代会精神进行专题学习宣贯。此次会议在公司总部会议室设主会场1个，各下属经营机构共设分会场11个，参会人员涉及公司领导班子成员、总部部门负责人及以上干部、各下属经营机构负责人、全体党员及群众代表近100余人。会议由局党委委员、公司党委书记、董事长樊飞军主持。\\n\\n会上，传达学习了罗世威同志在中建一局第五次党代会上所作的《坚持党建引领强化战略执行 永葆组织活力 为创建中国建筑旗下最具核心竞争力的世界一流企业不懈奋斗》的党委工作报告、王希强同志在中建一局第五次党代会上所作的《推进“两个责任”落实 坚决做到“两个维护” 忠实履行党章和宪法赋予的职责 为实现中建一局战略目标提供坚强保障》的纪委工作报告，参会人员对两个报告的内容进行了热烈讨论，并结合企业实际进行了交流研讨。\\n\\n一是以实施“五大聚焦”和“一化三线”战略为主线，加速实现规模发展。深度聚焦国家重点战略地区，聚焦北京、天津、江苏、浙江和上海等战略区域重点城市，并建立研究工作机制，以“政策性住房”产品线为核心，以普通商品住宅产品线为助力，重点突破苏南、南京、北京、天津、南通、宁波等城市。\\n\\n二是以推进公司化建设和精细化管理为核心，加速提升竞争优势。要眼界向外，不断对标学习标杆房企、中建系统内优势企业的先进思想和举措，推进企业治理体系建设和公司化建设，强化精细化管理，以规范、科学的工作机制推动企业高质量发展。\\n\\n三是以紧抓投融资管理和降杠杆减负债为抓手，加速推进高质发展。坚持“两金”压降过程监控，全力降低带息负债。建立健全过程监控管理体系，构建覆盖全生命周期的管理体系，及时识别、防控、化解风险问题，建立风险事项清单及销项制度，加强风险防控与应对能力。\\n\\n四是坚持党的领导，聚焦新时代高质量党建引领高质量发展，夯实成为中建一局价值和效益新担当。必须坚持思想引领，坚定政治站位，将习近平新时代中国特色社会主义思想和党的十九大、十九届四中全会精神贯穿经营发展全过程。深入践行155大党建工作格局，进一步深化党建工作与生产经营一体化；始终锁定“中建一局效益贡献骨干子企业”的战略目标；始终强化战略执行，做到使命必达；始终强化党风廉政建设，营造风清气正政治生态；始终坚持不懈加强领导班子建设和干部...</td>\n",
       "    </tr>\n",
       "    <tr>\n",
       "      <th>2</th>\n",
       "      <td>81556</td>\n",
       "      <td>81556</td>\n",
       "      <td>原标题：三项制度改革让“能者上、平者让、庸者下”\\n\\n11月11日，中建一局二公司生产组织中心主任公开竞聘面试正在进行，经过前期的资料审核、岗位资格审查和管理测评，共有3名竞聘人员进入最终的结构化面试环节。\\n\\n孟繁健是参加本次竞聘的人员之一，而这并不是他第一次参加公司的市场化公开竞聘。3年前，孟繁健通过竞聘成为公司某项目的总监，3年后，尝到竞聘“甜头”的孟繁健决定挑战新岗位、迎接新任务。\\n\\n随着改革的深入推进，中建一局二公司在市场化经营机制改革方面不断强化升级，近两年完成了公司总部部门副职以上的全员公开竞聘上岗，为进一步实施市场化选聘和契约化管理奠定了基础。\\n\\n2018年，中建一局二公司入选国企改革“双百行动”企业，成为中建集团旗下入选“双百企业”的两家单位之一。近两年来，中建一局二公司按照“完善治理、强化激励、突出主业、提高效率”的方针，稳妥推进股权多元化和混合所有制改革、完善市场化经营机制、健全激励约束机制，并取得阶段性成果。\\n\\n随着企业整体规模的快速扩张，转型升级战略的不断深入，中建一局二公司人均创效水平不高，“人员短缺”与“人员冗余”同时存在；基础设施、海外以及投融资等转型板块高端人才引进渠道略为单一，对企业转型升级支撑力度不够；市场化程度不高，激励方式相对单一，差异化和业绩导向不够明确等问题逐渐显现。\\n\\n为此，中建一局二公司以深化人事、劳动、分配三项制度改革为抓手，推行与市场化经营机制相匹配的选人用人机制、用工分配体系改革，实现“干部能上能下，员工能进能出，薪酬能增能减”，让三项制度改革成为企业改革的助推器。\\n\\n为激发管理团队活力，中建一局二公司建立标准明确、程序规范、结果公平的选人用人工作机制，逐步做到“能者上、平者让、庸者下”，不断提升领导人员五位一体能力素养。同时，坚持业绩与能力导向，通过定期开展薪酬盘点、三维六指模型人力资源价值指数的对标晾晒，差异化设计薪酬标准，让企业的资源投入更精准。\\n\\n经过近两年的探索和实践，改革对企业发展的促进作用日益凸显。预计2019年，中建一局二公司合同额将达320亿元、营业收入达125亿元，企业的竞争力、创新力、控制力、影响力、抗风险能力不断增强，改革红利持续释放。\\n\\n“希望通过中建一局二公司‘双百行动’这个点上的示范突破，探索形成可复制、可推广的改革经验，带动全局的改革向纵深...</td>\n",
       "      <td>2020-01-02 11:10:51</td>\n",
       "      <td>81556</td>\n",
       "      <td>20</td>\n",
       "      <td>91110000101715726A</td>\n",
       "      <td>NaN</td>\n",
       "      <td>5df2a1004e0b810d79704540_13</td>\n",
       "      <td>三项制度改革让“能者上、平者让、庸者下”</td>\n",
       "      <td>预计2019年,中建一局二公司合同额将达320亿元、营业收入达125亿元,企业的竞争力、创新力、控制力、影响力、抗风险能力不断增强,改革红利持续释放。</td>\n",
       "      <td>https://tech.sina.com.cn/roll/2019-12-13/doc-iihnzhfz5511088.shtml</td>\n",
       "      <td>2019-12-13 04:08:16</td>\n",
       "      <td>52</td>\n",
       "      <td>亏损盈利</td>\n",
       "      <td>新闻事件</td>\n",
       "      <td>2020-01-02 11:10:51</td>\n",
       "      <td>2020-01-02 11:10:51</td>\n",
       "      <td>False</td>\n",
       "      <td>原标题：三项制度改革让“能者上、平者让、庸者下”\\n\\n11月11日，中建一局二公司生产组织中心主任公开竞聘面试正在进行，经过前期的资料审核、岗位资格审查和管理测评，共有3名竞聘人员进入最终的结构化面试环节。\\n\\n孟繁健是参加本次竞聘的人员之一，而这并不是他第一次参加公司的市场化公开竞聘。3年前，孟繁健通过竞聘成为公司某项目的总监，3年后，尝到竞聘“甜头”的孟繁健决定挑战新岗位、迎接新任务。\\n\\n随着改革的深入推进，中建一局二公司在市场化经营机制改革方面不断强化升级，近两年完成了公司总部部门副职以上的全员公开竞聘上岗，为进一步实施市场化选聘和契约化管理奠定了基础。\\n\\n2018年，中建一局二公司入选国企改革“双百行动”企业，成为中建集团旗下入选“双百企业”的两家单位之一。近两年来，中建一局二公司按照“完善治理、强化激励、突出主业、提高效率”的方针，稳妥推进股权多元化和混合所有制改革、完善市场化经营机制、健全激励约束机制，并取得阶段性成果。\\n\\n随着企业整体规模的快速扩张，转型升级战略的不断深入，中建一局二公司人均创效水平不高，“人员短缺”与“人员冗余”同时存在；基础设施、海外以及投融资等转型板块高端人才引进渠道略为单一，对企业转型升级支撑力度不够；市场化程度不高，激励方式相对单一，差异化和业绩导向不够明确等问题逐渐显现。\\n\\n为此，中建一局二公司以深化人事、劳动、分配三项制度改革为抓手，推行与市场化经营机制相匹配的选人用人机制、用工分配体系改革，实现“干部能上能下，员工能进能出，薪酬能增能减”，让三项制度改革成为企业改革的助推器。\\n\\n为激发管理团队活力，中建一局二公司建立标准明确、程序规范、结果公平的选人用人工作机制，逐步做到“能者上、平者让、庸者下”，不断提升领导人员五位一体能力素养。同时，坚持业绩与能力导向，通过定期开展薪酬盘点、三维六指模型人力资源价值指数的对标晾晒，差异化设计薪酬标准，让企业的资源投入更精准。\\n\\n经过近两年的探索和实践，改革对企业发展的促进作用日益凸显。预计2019年，中建一局二公司合同额将达320亿元、营业收入达125亿元，企业的竞争力、创新力、控制力、影响力、抗风险能力不断增强，改革红利持续释放。\\n\\n“希望通过中建一局二公司‘双百行动’这个点上的示范突破，探索形成可复制、可推广的改革经验，带动全局的改革向纵深...</td>\n",
       "    </tr>\n",
       "    <tr>\n",
       "      <th>3</th>\n",
       "      <td>81557</td>\n",
       "      <td>81557</td>\n",
       "      <td>开展此次检查，旨在持续做好重污染橙色预警期间的应急管控及省生态环境厅定点帮扶暨驻点执法第六工作组交办问题的整改工作。当日，出动了11个现场组、近80人次，先后检查建筑工地41个、企业13家、餐饮店2家、机动车179辆，共发现问题20个，其中建筑工地14个、企业2个、餐饮1家、机动车3辆。\\n\\n根据检查结果，建筑工地存在的问题主要是现场砂石裸露、渣土未覆盖、清洗车池设置不规范等。如中建一局施工工地在进行土方作业，检查组现场责令停工，要求覆盖裸土。汉阳市政挖机在施工，检查组现场责令停工。在掇刀地税路，检查组发现有大型机械作业，责令施工方停工。在荆门高新区·掇刀区精忠大道金福源院内，有两家木材加工厂，均存在未办理环保相关手续、木材切割过程中产生木屑未进行收集处理的问题。</td>\n",
       "      <td>2020-01-02 11:10:52</td>\n",
       "      <td>81557</td>\n",
       "      <td>20</td>\n",
       "      <td>91110000101715726A</td>\n",
       "      <td>NaN</td>\n",
       "      <td>5df098c24e0b810d79f7bc0f_4</td>\n",
       "      <td>荆门市大气污染防治百日攻坚专班全面检查大气污染问题</td>\n",
       "      <td>如中建一局施工工地在进行土方作业,检查组现场责令停工,要求覆盖裸土。</td>\n",
       "      <td>http://news.cnhubei.com/jingmen/p/12536180.html</td>\n",
       "      <td>2019-12-11 10:20:34</td>\n",
       "      <td>62</td>\n",
       "      <td>停业暂停</td>\n",
       "      <td>新闻事件</td>\n",
       "      <td>2020-01-02 11:10:52</td>\n",
       "      <td>2020-01-02 11:10:52</td>\n",
       "      <td>False</td>\n",
       "      <td>开展此次检查，旨在持续做好重污染橙色预警期间的应急管控及省生态环境厅定点帮扶暨驻点执法第六工作组交办问题的整改工作。当日，出动了11个现场组、近80人次，先后检查建筑工地41个、企业13家、餐饮店2家、机动车179辆，共发现问题20个，其中建筑工地14个、企业2个、餐饮1家、机动车3辆。\\n\\n根据检查结果，建筑工地存在的问题主要是现场砂石裸露、渣土未覆盖、清洗车池设置不规范等。如中建一局施工工地在进行土方作业，检查组现场责令停工，要求覆盖裸土。汉阳市政挖机在施工，检查组现场责令停工。在掇刀地税路，检查组发现有大型机械作业，责令施工方停工。在荆门高新区·掇刀区精忠大道金福源院内，有两家木材加工厂，均存在未办理环保相关手续、木材切割过程中产生木屑未进行收集处理的问题。</td>\n",
       "    </tr>\n",
       "    <tr>\n",
       "      <th>4</th>\n",
       "      <td>81558</td>\n",
       "      <td>81558</td>\n",
       "      <td>原标题：六家工地劳动用工标准受到通报表彰记者29日从郑州城乡建设局了解到，今年第四季度，有6个建设工程项目被评为建设工程劳动用工标准化工地，因此受到郑州城建局的通报表彰。6个建设工程项目包括：宏江金贸\\n\\n记者29日从郑州城乡建设局了解到，今年第四季度，有6个建设工程项目被评为建设工程劳动用工标准化工地，因此受到郑州城建局的通报表彰。\\n\\n6个建设工程项目包括：宏江金贸中心[河南省对外建设有限公司承建]，新田印象商业中心[中国建筑一局（集团）有限公司承建]，郑州轨道交通6号线市政配套工程土建施工03标段[中国建筑一局（集团）有限公司承建]，中原区·郑州中原新区庙王安置区西地块一标段[河南六建建筑集团有限公司承建]，中原区·郑州中原新区马庄安置区东地块二标段[郑州一建集团有限公司承建]，荥阳市·瀚宇天悦湾2号院一期[河南领域建设工程有限公司承建]。</td>\n",
       "      <td>2020-01-02 11:10:53</td>\n",
       "      <td>81558</td>\n",
       "      <td>58</td>\n",
       "      <td>91440300708582376K</td>\n",
       "      <td>NaN</td>\n",
       "      <td>5e094e714e0b810d79213e6e_4</td>\n",
       "      <td>郑州六家工地劳动用工标准受到通报表彰</td>\n",
       "      <td>6个建设工程项目包括:宏江金贸中心[河南省对外建设有限公司承建],新田印象商业中心[中国建筑一局(集团)有限公司承建],郑州轨道交通6号线市政配套工程土建施工03标段[中国建筑一局(集团)有限公司承建],中原区·郑州中原新区庙王安置区西地块一标段[河南六建建筑集团有限公司承建],中原区·郑州中原新区马庄安置区东地块二标段[郑州一建集团有限公司承建],荥阳市·瀚宇天悦湾2号院一期[河南领域建设工程有限公司承建]。</td>\n",
       "      <td>http://hn.ifeng.com/a/20191230/8046050_0.shtml</td>\n",
       "      <td>2019-12-30 08:31:09</td>\n",
       "      <td>50</td>\n",
       "      <td>经营业务</td>\n",
       "      <td>新闻事件</td>\n",
       "      <td>2020-01-02 11:10:53</td>\n",
       "      <td>2020-01-02 11:10:53</td>\n",
       "      <td>False</td>\n",
       "      <td>原标题：六家工地劳动用工标准受到通报表彰记者29日从郑州城乡建设局了解到，今年第四季度，有6个建设工程项目被评为建设工程劳动用工标准化工地，因此受到郑州城建局的通报表彰。6个建设工程项目包括：宏江金贸\\n\\n记者29日从郑州城乡建设局了解到，今年第四季度，有6个建设工程项目被评为建设工程劳动用工标准化工地，因此受到郑州城建局的通报表彰。\\n\\n6个建设工程项目包括：宏江金贸中心[河南省对外建设有限公司承建]，新田印象商业中心[中国建筑一局（集团）有限公司承建]，郑州轨道交通6号线市政配套工程土建施工03标段[中国建筑一局（集团）有限公司承建]，中原区·郑州中原新区庙王安置区西地块一标段[河南六建建筑集团有限公司承建]，中原区·郑州中原新区马庄安置区东地块二标段[郑州一建集团有限公司承建]，荥阳市·瀚宇天悦湾2号院一期[河南领域建设工程有限公司承建]。</td>\n",
       "    </tr>\n",
       "  </tbody>\n",
       "</table>\n",
       "</div>"
      ],
      "text/plain": [
       "      id  record_id  \\\n",
       "0      1          1   \n",
       "1  81555      81555   \n",
       "2  81556      81556   \n",
       "3  81557      81557   \n",
       "4  81558      81558   \n",
       "\n",
       "                                                                                                                                                                                                                                                                                                                                                                                                                                                                                                                                                                                                                                                                                                                                                                                                                                                                                                                                                                                                                                   content  \\\n",
       "0                                                                                                                                                                                                                                                                                                                                                                                                                                       {\"accord\":[\"《福州市城市道路建设与管理办法》第二十九条第二项\"],\"caseName\":\"未经批准挖掘城市道路\",\"decideDate\":\"2019-04-02\",\"decideDetail\":[\"罚款\"],\"decideOrgName\":[\"福建省福州城管委\"],\"documentNumber\":\"0000277\",\"eventTime\":\"2019-04-02\",\"form\":{\"处罚日期\":\"2019-04-02\",\"处罚事由\":\"未经批准挖掘城市道路\",\"企业名称\":\"中国建筑一局（集团）有限公司\",\"作出处罚机构\":\"福建省福州城管委\",\"处罚名称\":\"未经批准挖掘城市道路\",\"处罚依据\":\"《福州市城市道路建设与管理办法》第二十九条第二项\",\"统一社会信用代码\":\"91110000101107173B\",\"法定代表人姓名\":\"罗世威\",\"更新时间\":\"2019-12-14\",\"处罚类别1\":\"罚款\",\"决定书文号\":\"0000277\"},\"issueDate\":\"2019-12-14\",\"litigants\":[{\"detail\":[{\"type\":\"罚款\"}],\"name\":\"中国建筑一局（集团）有限公司\"}],\"reason\":[\"未经批准挖掘城市道路\"],\"title\":\"案件名称：未经批准挖掘城市道路\"}   \n",
       "1  本网讯（通讯员 孙静娴）12月13日上午，中建一局房地产公司组织召开第七次中心组学习（扩大）会，第一时间对中建一局第五次党代会精神进行专题学习宣贯。此次会议在公司总部会议室设主会场1个，各下属经营机构共设分会场11个，参会人员涉及公司领导班子成员、总部部门负责人及以上干部、各下属经营机构负责人、全体党员及群众代表近100余人。会议由局党委委员、公司党委书记、董事长樊飞军主持。\\n\\n会上，传达学习了罗世威同志在中建一局第五次党代会上所作的《坚持党建引领强化战略执行 永葆组织活力 为创建中国建筑旗下最具核心竞争力的世界一流企业不懈奋斗》的党委工作报告、王希强同志在中建一局第五次党代会上所作的《推进“两个责任”落实 坚决做到“两个维护” 忠实履行党章和宪法赋予的职责 为实现中建一局战略目标提供坚强保障》的纪委工作报告，参会人员对两个报告的内容进行了热烈讨论，并结合企业实际进行了交流研讨。\\n\\n一是以实施“五大聚焦”和“一化三线”战略为主线，加速实现规模发展。深度聚焦国家重点战略地区，聚焦北京、天津、江苏、浙江和上海等战略区域重点城市，并建立研究工作机制，以“政策性住房”产品线为核心，以普通商品住宅产品线为助力，重点突破苏南、南京、北京、天津、南通、宁波等城市。\\n\\n二是以推进公司化建设和精细化管理为核心，加速提升竞争优势。要眼界向外，不断对标学习标杆房企、中建系统内优势企业的先进思想和举措，推进企业治理体系建设和公司化建设，强化精细化管理，以规范、科学的工作机制推动企业高质量发展。\\n\\n三是以紧抓投融资管理和降杠杆减负债为抓手，加速推进高质发展。坚持“两金”压降过程监控，全力降低带息负债。建立健全过程监控管理体系，构建覆盖全生命周期的管理体系，及时识别、防控、化解风险问题，建立风险事项清单及销项制度，加强风险防控与应对能力。\\n\\n四是坚持党的领导，聚焦新时代高质量党建引领高质量发展，夯实成为中建一局价值和效益新担当。必须坚持思想引领，坚定政治站位，将习近平新时代中国特色社会主义思想和党的十九大、十九届四中全会精神贯穿经营发展全过程。深入践行155大党建工作格局，进一步深化党建工作与生产经营一体化；始终锁定“中建一局效益贡献骨干子企业”的战略目标；始终强化战略执行，做到使命必达；始终强化党风廉政建设，营造风清气正政治生态；始终坚持不懈加强领导班子建设和干部...   \n",
       "2  原标题：三项制度改革让“能者上、平者让、庸者下”\\n\\n11月11日，中建一局二公司生产组织中心主任公开竞聘面试正在进行，经过前期的资料审核、岗位资格审查和管理测评，共有3名竞聘人员进入最终的结构化面试环节。\\n\\n孟繁健是参加本次竞聘的人员之一，而这并不是他第一次参加公司的市场化公开竞聘。3年前，孟繁健通过竞聘成为公司某项目的总监，3年后，尝到竞聘“甜头”的孟繁健决定挑战新岗位、迎接新任务。\\n\\n随着改革的深入推进，中建一局二公司在市场化经营机制改革方面不断强化升级，近两年完成了公司总部部门副职以上的全员公开竞聘上岗，为进一步实施市场化选聘和契约化管理奠定了基础。\\n\\n2018年，中建一局二公司入选国企改革“双百行动”企业，成为中建集团旗下入选“双百企业”的两家单位之一。近两年来，中建一局二公司按照“完善治理、强化激励、突出主业、提高效率”的方针，稳妥推进股权多元化和混合所有制改革、完善市场化经营机制、健全激励约束机制，并取得阶段性成果。\\n\\n随着企业整体规模的快速扩张，转型升级战略的不断深入，中建一局二公司人均创效水平不高，“人员短缺”与“人员冗余”同时存在；基础设施、海外以及投融资等转型板块高端人才引进渠道略为单一，对企业转型升级支撑力度不够；市场化程度不高，激励方式相对单一，差异化和业绩导向不够明确等问题逐渐显现。\\n\\n为此，中建一局二公司以深化人事、劳动、分配三项制度改革为抓手，推行与市场化经营机制相匹配的选人用人机制、用工分配体系改革，实现“干部能上能下，员工能进能出，薪酬能增能减”，让三项制度改革成为企业改革的助推器。\\n\\n为激发管理团队活力，中建一局二公司建立标准明确、程序规范、结果公平的选人用人工作机制，逐步做到“能者上、平者让、庸者下”，不断提升领导人员五位一体能力素养。同时，坚持业绩与能力导向，通过定期开展薪酬盘点、三维六指模型人力资源价值指数的对标晾晒，差异化设计薪酬标准，让企业的资源投入更精准。\\n\\n经过近两年的探索和实践，改革对企业发展的促进作用日益凸显。预计2019年，中建一局二公司合同额将达320亿元、营业收入达125亿元，企业的竞争力、创新力、控制力、影响力、抗风险能力不断增强，改革红利持续释放。\\n\\n“希望通过中建一局二公司‘双百行动’这个点上的示范突破，探索形成可复制、可推广的改革经验，带动全局的改革向纵深...   \n",
       "3                                                                                                                                                                                                                                                                                                                                                                                                                                                                                                                                                                                                                                                                                        开展此次检查，旨在持续做好重污染橙色预警期间的应急管控及省生态环境厅定点帮扶暨驻点执法第六工作组交办问题的整改工作。当日，出动了11个现场组、近80人次，先后检查建筑工地41个、企业13家、餐饮店2家、机动车179辆，共发现问题20个，其中建筑工地14个、企业2个、餐饮1家、机动车3辆。\\n\\n根据检查结果，建筑工地存在的问题主要是现场砂石裸露、渣土未覆盖、清洗车池设置不规范等。如中建一局施工工地在进行土方作业，检查组现场责令停工，要求覆盖裸土。汉阳市政挖机在施工，检查组现场责令停工。在掇刀地税路，检查组发现有大型机械作业，责令施工方停工。在荆门高新区·掇刀区精忠大道金福源院内，有两家木材加工厂，均存在未办理环保相关手续、木材切割过程中产生木屑未进行收集处理的问题。   \n",
       "4                                                                                                                                                                                                                                                                                                                                                                                                                                                                                                                                                                                                                                             原标题：六家工地劳动用工标准受到通报表彰记者29日从郑州城乡建设局了解到，今年第四季度，有6个建设工程项目被评为建设工程劳动用工标准化工地，因此受到郑州城建局的通报表彰。6个建设工程项目包括：宏江金贸\\n\\n记者29日从郑州城乡建设局了解到，今年第四季度，有6个建设工程项目被评为建设工程劳动用工标准化工地，因此受到郑州城建局的通报表彰。\\n\\n6个建设工程项目包括：宏江金贸中心[河南省对外建设有限公司承建]，新田印象商业中心[中国建筑一局（集团）有限公司承建]，郑州轨道交通6号线市政配套工程土建施工03标段[中国建筑一局（集团）有限公司承建]，中原区·郑州中原新区庙王安置区西地块一标段[河南六建建筑集团有限公司承建]，中原区·郑州中原新区马庄安置区东地块二标段[郑州一建集团有限公司承建]，荥阳市·瀚宇天悦湾2号院一期[河南领域建设工程有限公司承建]。   \n",
       "\n",
       "           create_time   id.1  customer_id         credit_code  register_no                           data_id                      title                                                                                                                                                                                                        content.1                                                                 url           event_time  item_id item_name parent_item_name        create_time.1          update_time  content_long  \\\n",
       "0  2019-12-31 15:20:34      1            3  91110000101107173B          NaN  f2064830627aa9858659378f62740aa3                        NaN                                                                                                                                                                                                  案件名称：未经批准挖掘城市道路                                                                 NaN  2019-12-14 00:00:00       40      高管变动             新闻事件  2019-12-31 15:20:34  2019-12-31 15:20:34         False   \n",
       "1  2020-01-02 11:10:51  81555           20  91110000101715726A          NaN       5df9d8d54e0b810d790cfdd2_16     中建一局房地产公司学习宣贯局第五次党代会精神                                                                                                                                                           将中建一局党委和纪委的各项工作要求落到实处,为实现公司五年后营业收入300亿,利润总额30亿的目标不懈奋斗!      http://news.jschina.com.cn/qyxw/201912/t20191218_2444769.shtml  2019-12-18 13:44:21       52      亏损盈利             新闻事件  2020-01-02 11:10:51  2020-01-02 11:10:51         False   \n",
       "2  2020-01-02 11:10:51  81556           20  91110000101715726A          NaN       5df2a1004e0b810d79704540_13       三项制度改革让“能者上、平者让、庸者下”                                                                                                                                      预计2019年,中建一局二公司合同额将达320亿元、营业收入达125亿元,企业的竞争力、创新力、控制力、影响力、抗风险能力不断增强,改革红利持续释放。  https://tech.sina.com.cn/roll/2019-12-13/doc-iihnzhfz5511088.shtml  2019-12-13 04:08:16       52      亏损盈利             新闻事件  2020-01-02 11:10:51  2020-01-02 11:10:51         False   \n",
       "3  2020-01-02 11:10:52  81557           20  91110000101715726A          NaN        5df098c24e0b810d79f7bc0f_4  荆门市大气污染防治百日攻坚专班全面检查大气污染问题                                                                                                                                                                               如中建一局施工工地在进行土方作业,检查组现场责令停工,要求覆盖裸土。                     http://news.cnhubei.com/jingmen/p/12536180.html  2019-12-11 10:20:34       62      停业暂停             新闻事件  2020-01-02 11:10:52  2020-01-02 11:10:52         False   \n",
       "4  2020-01-02 11:10:53  81558           58  91440300708582376K          NaN        5e094e714e0b810d79213e6e_4         郑州六家工地劳动用工标准受到通报表彰  6个建设工程项目包括:宏江金贸中心[河南省对外建设有限公司承建],新田印象商业中心[中国建筑一局(集团)有限公司承建],郑州轨道交通6号线市政配套工程土建施工03标段[中国建筑一局(集团)有限公司承建],中原区·郑州中原新区庙王安置区西地块一标段[河南六建建筑集团有限公司承建],中原区·郑州中原新区马庄安置区东地块二标段[郑州一建集团有限公司承建],荥阳市·瀚宇天悦湾2号院一期[河南领域建设工程有限公司承建]。                      http://hn.ifeng.com/a/20191230/8046050_0.shtml  2019-12-30 08:31:09       50      经营业务             新闻事件  2020-01-02 11:10:53  2020-01-02 11:10:53         False   \n",
       "\n",
       "                                                                                                                                                                                                                                                                                                                                                                                                                                                                                                                                                                                                                                                                                                                                                                                                                                                                                                                                                                                                                                  content_  \n",
       "0                                                                                                                                                                                                                                                                                                                                                                                                                                       {\"accord\":[\"《福州市城市道路建设与管理办法》第二十九条第二项\"],\"caseName\":\"未经批准挖掘城市道路\",\"decideDate\":\"2019-04-02\",\"decideDetail\":[\"罚款\"],\"decideOrgName\":[\"福建省福州城管委\"],\"documentNumber\":\"0000277\",\"eventTime\":\"2019-04-02\",\"form\":{\"处罚日期\":\"2019-04-02\",\"处罚事由\":\"未经批准挖掘城市道路\",\"企业名称\":\"中国建筑一局（集团）有限公司\",\"作出处罚机构\":\"福建省福州城管委\",\"处罚名称\":\"未经批准挖掘城市道路\",\"处罚依据\":\"《福州市城市道路建设与管理办法》第二十九条第二项\",\"统一社会信用代码\":\"91110000101107173B\",\"法定代表人姓名\":\"罗世威\",\"更新时间\":\"2019-12-14\",\"处罚类别1\":\"罚款\",\"决定书文号\":\"0000277\"},\"issueDate\":\"2019-12-14\",\"litigants\":[{\"detail\":[{\"type\":\"罚款\"}],\"name\":\"中国建筑一局（集团）有限公司\"}],\"reason\":[\"未经批准挖掘城市道路\"],\"title\":\"案件名称：未经批准挖掘城市道路\"}  \n",
       "1  本网讯（通讯员 孙静娴）12月13日上午，中建一局房地产公司组织召开第七次中心组学习（扩大）会，第一时间对中建一局第五次党代会精神进行专题学习宣贯。此次会议在公司总部会议室设主会场1个，各下属经营机构共设分会场11个，参会人员涉及公司领导班子成员、总部部门负责人及以上干部、各下属经营机构负责人、全体党员及群众代表近100余人。会议由局党委委员、公司党委书记、董事长樊飞军主持。\\n\\n会上，传达学习了罗世威同志在中建一局第五次党代会上所作的《坚持党建引领强化战略执行 永葆组织活力 为创建中国建筑旗下最具核心竞争力的世界一流企业不懈奋斗》的党委工作报告、王希强同志在中建一局第五次党代会上所作的《推进“两个责任”落实 坚决做到“两个维护” 忠实履行党章和宪法赋予的职责 为实现中建一局战略目标提供坚强保障》的纪委工作报告，参会人员对两个报告的内容进行了热烈讨论，并结合企业实际进行了交流研讨。\\n\\n一是以实施“五大聚焦”和“一化三线”战略为主线，加速实现规模发展。深度聚焦国家重点战略地区，聚焦北京、天津、江苏、浙江和上海等战略区域重点城市，并建立研究工作机制，以“政策性住房”产品线为核心，以普通商品住宅产品线为助力，重点突破苏南、南京、北京、天津、南通、宁波等城市。\\n\\n二是以推进公司化建设和精细化管理为核心，加速提升竞争优势。要眼界向外，不断对标学习标杆房企、中建系统内优势企业的先进思想和举措，推进企业治理体系建设和公司化建设，强化精细化管理，以规范、科学的工作机制推动企业高质量发展。\\n\\n三是以紧抓投融资管理和降杠杆减负债为抓手，加速推进高质发展。坚持“两金”压降过程监控，全力降低带息负债。建立健全过程监控管理体系，构建覆盖全生命周期的管理体系，及时识别、防控、化解风险问题，建立风险事项清单及销项制度，加强风险防控与应对能力。\\n\\n四是坚持党的领导，聚焦新时代高质量党建引领高质量发展，夯实成为中建一局价值和效益新担当。必须坚持思想引领，坚定政治站位，将习近平新时代中国特色社会主义思想和党的十九大、十九届四中全会精神贯穿经营发展全过程。深入践行155大党建工作格局，进一步深化党建工作与生产经营一体化；始终锁定“中建一局效益贡献骨干子企业”的战略目标；始终强化战略执行，做到使命必达；始终强化党风廉政建设，营造风清气正政治生态；始终坚持不懈加强领导班子建设和干部...  \n",
       "2  原标题：三项制度改革让“能者上、平者让、庸者下”\\n\\n11月11日，中建一局二公司生产组织中心主任公开竞聘面试正在进行，经过前期的资料审核、岗位资格审查和管理测评，共有3名竞聘人员进入最终的结构化面试环节。\\n\\n孟繁健是参加本次竞聘的人员之一，而这并不是他第一次参加公司的市场化公开竞聘。3年前，孟繁健通过竞聘成为公司某项目的总监，3年后，尝到竞聘“甜头”的孟繁健决定挑战新岗位、迎接新任务。\\n\\n随着改革的深入推进，中建一局二公司在市场化经营机制改革方面不断强化升级，近两年完成了公司总部部门副职以上的全员公开竞聘上岗，为进一步实施市场化选聘和契约化管理奠定了基础。\\n\\n2018年，中建一局二公司入选国企改革“双百行动”企业，成为中建集团旗下入选“双百企业”的两家单位之一。近两年来，中建一局二公司按照“完善治理、强化激励、突出主业、提高效率”的方针，稳妥推进股权多元化和混合所有制改革、完善市场化经营机制、健全激励约束机制，并取得阶段性成果。\\n\\n随着企业整体规模的快速扩张，转型升级战略的不断深入，中建一局二公司人均创效水平不高，“人员短缺”与“人员冗余”同时存在；基础设施、海外以及投融资等转型板块高端人才引进渠道略为单一，对企业转型升级支撑力度不够；市场化程度不高，激励方式相对单一，差异化和业绩导向不够明确等问题逐渐显现。\\n\\n为此，中建一局二公司以深化人事、劳动、分配三项制度改革为抓手，推行与市场化经营机制相匹配的选人用人机制、用工分配体系改革，实现“干部能上能下，员工能进能出，薪酬能增能减”，让三项制度改革成为企业改革的助推器。\\n\\n为激发管理团队活力，中建一局二公司建立标准明确、程序规范、结果公平的选人用人工作机制，逐步做到“能者上、平者让、庸者下”，不断提升领导人员五位一体能力素养。同时，坚持业绩与能力导向，通过定期开展薪酬盘点、三维六指模型人力资源价值指数的对标晾晒，差异化设计薪酬标准，让企业的资源投入更精准。\\n\\n经过近两年的探索和实践，改革对企业发展的促进作用日益凸显。预计2019年，中建一局二公司合同额将达320亿元、营业收入达125亿元，企业的竞争力、创新力、控制力、影响力、抗风险能力不断增强，改革红利持续释放。\\n\\n“希望通过中建一局二公司‘双百行动’这个点上的示范突破，探索形成可复制、可推广的改革经验，带动全局的改革向纵深...  \n",
       "3                                                                                                                                                                                                                                                                                                                                                                                                                                                                                                                                                                                                                                                                                        开展此次检查，旨在持续做好重污染橙色预警期间的应急管控及省生态环境厅定点帮扶暨驻点执法第六工作组交办问题的整改工作。当日，出动了11个现场组、近80人次，先后检查建筑工地41个、企业13家、餐饮店2家、机动车179辆，共发现问题20个，其中建筑工地14个、企业2个、餐饮1家、机动车3辆。\\n\\n根据检查结果，建筑工地存在的问题主要是现场砂石裸露、渣土未覆盖、清洗车池设置不规范等。如中建一局施工工地在进行土方作业，检查组现场责令停工，要求覆盖裸土。汉阳市政挖机在施工，检查组现场责令停工。在掇刀地税路，检查组发现有大型机械作业，责令施工方停工。在荆门高新区·掇刀区精忠大道金福源院内，有两家木材加工厂，均存在未办理环保相关手续、木材切割过程中产生木屑未进行收集处理的问题。  \n",
       "4                                                                                                                                                                                                                                                                                                                                                                                                                                                                                                                                                                                                                                             原标题：六家工地劳动用工标准受到通报表彰记者29日从郑州城乡建设局了解到，今年第四季度，有6个建设工程项目被评为建设工程劳动用工标准化工地，因此受到郑州城建局的通报表彰。6个建设工程项目包括：宏江金贸\\n\\n记者29日从郑州城乡建设局了解到，今年第四季度，有6个建设工程项目被评为建设工程劳动用工标准化工地，因此受到郑州城建局的通报表彰。\\n\\n6个建设工程项目包括：宏江金贸中心[河南省对外建设有限公司承建]，新田印象商业中心[中国建筑一局（集团）有限公司承建]，郑州轨道交通6号线市政配套工程土建施工03标段[中国建筑一局（集团）有限公司承建]，中原区·郑州中原新区庙王安置区西地块一标段[河南六建建筑集团有限公司承建]，中原区·郑州中原新区马庄安置区东地块二标段[郑州一建集团有限公司承建]，荥阳市·瀚宇天悦湾2号院一期[河南领域建设工程有限公司承建]。  "
      ]
     },
     "execution_count": 11,
     "metadata": {},
     "output_type": "execute_result"
    }
   ],
   "source": [
    "data.head()"
   ]
  },
  {
   "cell_type": "code",
   "execution_count": 12,
   "metadata": {},
   "outputs": [],
   "source": [
    "sy_risk = data.drop(['id.1','credit_code','register_no','data_id','url','parent_item_name','create_time.1',\n",
    "                     'content_long','create_time.1','content.1','content'],axis =1)"
   ]
  },
  {
   "cell_type": "code",
   "execution_count": 13,
   "metadata": {},
   "outputs": [],
   "source": [
    "sy_risk = sy_risk[sy_risk.title.isnull() == False]"
   ]
  },
  {
   "cell_type": "code",
   "execution_count": 14,
   "metadata": {},
   "outputs": [],
   "source": [
    "colnames = ['id','record_id','customer_id','item_id',  'item_name',\n",
    "         'event_time','create_time',   'update_time', 'title','content_']\n",
    "sy_risk = sy_risk[colnames]"
   ]
  },
  {
   "cell_type": "code",
   "execution_count": null,
   "metadata": {},
   "outputs": [],
   "source": []
  },
  {
   "cell_type": "markdown",
   "metadata": {},
   "source": [
    "##  Data Preparation "
   ]
  },
  {
   "cell_type": "markdown",
   "metadata": {},
   "source": [
    "### Y label"
   ]
  },
  {
   "cell_type": "code",
   "execution_count": 16,
   "metadata": {
    "scrolled": false
   },
   "outputs": [
    {
     "data": {
      "text/plain": [
       "相关提及    8161\n",
       "经营业务    1876\n",
       "成果奖项     944\n",
       "合作经营     890\n",
       "重大交易     494\n",
       "亏损盈利     430\n",
       "员工情况     348\n",
       "投资融资     328\n",
       "产品信息     259\n",
       "安全事件     172\n",
       "收购重组     162\n",
       "涉诉违规     137\n",
       "股权变动     109\n",
       "债务抵押     108\n",
       "停业暂停      69\n",
       "高管变动      52\n",
       "新品升级      51\n",
       "行政处罚      51\n",
       "合同纠纷      39\n",
       "劳务纠纷      38\n",
       "高管负面      37\n",
       "破产清算      36\n",
       "信用信誉      28\n",
       "造假欺诈      22\n",
       "环境保护      20\n",
       "产品质量      15\n",
       "增持减持      11\n",
       "上市退市      11\n",
       "侵权抄袭       9\n",
       "Name: item_name, dtype: int64"
      ]
     },
     "execution_count": 16,
     "metadata": {},
     "output_type": "execute_result"
    }
   ],
   "source": [
    "sy_risk.item_name.value_counts()"
   ]
  },
  {
   "cell_type": "code",
   "execution_count": 17,
   "metadata": {},
   "outputs": [],
   "source": [
    "# sy_risk[sy_risk.item_name == '侵权抄袭']"
   ]
  },
  {
   "cell_type": "code",
   "execution_count": 18,
   "metadata": {},
   "outputs": [],
   "source": [
    "# sy_risk[sy_risk.item_name == '增持减持']"
   ]
  },
  {
   "cell_type": "code",
   "execution_count": 19,
   "metadata": {},
   "outputs": [],
   "source": [
    "# sy_risk[sy_risk.item_name == '上市退市']"
   ]
  },
  {
   "cell_type": "code",
   "execution_count": 20,
   "metadata": {},
   "outputs": [],
   "source": [
    "# sy_risk[sy_risk.item_name == '产品质量']"
   ]
  },
  {
   "cell_type": "code",
   "execution_count": 21,
   "metadata": {},
   "outputs": [],
   "source": [
    "# sy_risk[sy_risk.item_name == '环境保护']"
   ]
  },
  {
   "cell_type": "code",
   "execution_count": 22,
   "metadata": {},
   "outputs": [],
   "source": [
    "# sy_risk.to_csv('sy_risk_2.csv')"
   ]
  },
  {
   "cell_type": "code",
   "execution_count": 23,
   "metadata": {},
   "outputs": [],
   "source": [
    "def ff(x):\n",
    "    if x[\"item_name\"] == '相关提及':\n",
    "        return 0\n",
    "    return 1\n",
    " \n",
    "    pass\n",
    "sy_risk['label'] = sy_risk.apply(lambda r: ff(r),axis=1)\n"
   ]
  },
  {
   "cell_type": "code",
   "execution_count": 24,
   "metadata": {},
   "outputs": [
    {
     "data": {
      "image/png": "[encoded data removed]",
      "text/plain": [
       "<Figure size 648x504 with 1 Axes>"
      ]
     },
     "metadata": {},
     "output_type": "display_data"
    }
   ],
   "source": [
    "plt.rcParams['font.family'] = ['Arial Unicode MS'] #正常显示中文 \n",
    "plt.rcParams['font.sans-serif'] = ['KaiTi']#作图的中文\n",
    "plt.rcParams['font.serif'] = ['KaiTi']#作图的中文\n",
    "plt.rcParams['axes.unicode_minus'] = False # 解决保存图像是负号'-'显示为方块的问题\n",
    "\n",
    "\n",
    "#Adding dark background to the graph\n",
    "plt.style.use(\"tableau-colorblind10\")\n",
    "\n",
    "#Plotting a pie chart\n",
    "plt.figure(figsize=[9,7])\n",
    "sy_risk['item_name'].value_counts().plot.pie()\n",
    "plt.show()\n"
   ]
  },
  {
   "cell_type": "code",
   "execution_count": 25,
   "metadata": {},
   "outputs": [
    {
     "data": {
      "image/png": "[encoded data removed]",
      "text/plain": [
       "<Figure size 648x504 with 1 Axes>"
      ]
     },
     "metadata": {
      "needs_background": "light"
     },
     "output_type": "display_data"
    }
   ],
   "source": [
    "plt.rcParams['font.family'] = ['Arial Unicode MS'] #正常显示中文 \n",
    "plt.rcParams['font.sans-serif'] = ['KaiTi']#作图的中文\n",
    "plt.rcParams['font.serif'] = ['KaiTi']#作图的中文\n",
    "plt.rcParams['axes.unicode_minus'] = False # 解决保存图像是负号'-'显示为方块的问题\n",
    "\n",
    "\n",
    "#Adding dark background to the graph\n",
    "plt.style.use(\"tableau-colorblind10\") #Plotting a bar chart\n",
    "\n",
    "plt.figure(figsize=[9,7])\n",
    "sy_risk['item_name'].value_counts().plot.barh()\n",
    "plt.show()"
   ]
  },
  {
   "cell_type": "code",
   "execution_count": 26,
   "metadata": {},
   "outputs": [
    {
     "data": {
      "image/png": "[encoded data removed]",
      "text/plain": [
       "<Figure size 648x504 with 1 Axes>"
      ]
     },
     "metadata": {},
     "output_type": "display_data"
    }
   ],
   "source": [
    "plt.rcParams['font.family'] = ['Arial Unicode MS'] #正常显示中文 \n",
    "plt.rcParams['font.sans-serif'] = ['KaiTi']#作图的中文\n",
    "plt.rcParams['font.serif'] = ['KaiTi']#作图的中文\n",
    "plt.rcParams['axes.unicode_minus'] = False # 解决保存图像是负号'-'显示为方块的问题\n",
    "\n",
    "\n",
    "#Adding dark background to the graph\n",
    "plt.style.use(\"tableau-colorblind10\")\n",
    "\n",
    "#Plotting a pie chart\n",
    "plt.figure(figsize=[9,7])\n",
    "sy_risk['label'].value_counts().plot.pie()\n",
    "plt.show()\n"
   ]
  },
  {
   "cell_type": "code",
   "execution_count": 27,
   "metadata": {},
   "outputs": [],
   "source": [
    "sy_risk['title_content'] = sy_risk['title'].str.cat(sy_risk['content_'])"
   ]
  },
  {
   "cell_type": "code",
   "execution_count": 28,
   "metadata": {},
   "outputs": [],
   "source": [
    "sy_risk['content_word_count'] = sy_risk.apply( lambda x: len(x['title_content']), axis = 1 )"
   ]
  },
  {
   "cell_type": "code",
   "execution_count": 29,
   "metadata": {},
   "outputs": [
    {
     "data": {
      "image/png": "[encoded data removed]",
      "text/plain": [
       "<Figure size 432x288 with 1 Axes>"
      ]
     },
     "metadata": {
      "needs_background": "light"
     },
     "output_type": "display_data"
    }
   ],
   "source": [
    "word_count = sy_risk['content_word_count']\n",
    "density = gaussian_kde(word_count)\n",
    "xs = np.linspace(word_count.min(),word_count.max(),len(word_count))\n",
    "density.covariance_factor = lambda : .25\n",
    "density._compute_covariance()\n",
    "plt.plot(xs,density(xs))\n",
    "plt.show()"
   ]
  },
  {
   "cell_type": "code",
   "execution_count": 30,
   "metadata": {
    "scrolled": false
   },
   "outputs": [
    {
     "data": {
      "text/plain": [
       "(84, 13)"
      ]
     },
     "execution_count": 30,
     "metadata": {},
     "output_type": "execute_result"
    }
   ],
   "source": [
    "sy_risk[sy_risk['content_word_count'] < 50].shape"
   ]
  },
  {
   "cell_type": "code",
   "execution_count": 31,
   "metadata": {},
   "outputs": [],
   "source": [
    "duplicated_sy_risk = sy_risk[sy_risk.duplicated(subset = ['content_'])== False]"
   ]
  },
  {
   "cell_type": "code",
   "execution_count": 32,
   "metadata": {},
   "outputs": [
    {
     "data": {
      "text/plain": [
       "(9029, 13)"
      ]
     },
     "execution_count": 32,
     "metadata": {},
     "output_type": "execute_result"
    }
   ],
   "source": [
    "duplicated_sy_risk.shape"
   ]
  },
  {
   "cell_type": "code",
   "execution_count": 33,
   "metadata": {},
   "outputs": [
    {
     "data": {
      "text/plain": [
       "(14907, 13)"
      ]
     },
     "execution_count": 33,
     "metadata": {},
     "output_type": "execute_result"
    }
   ],
   "source": [
    "sy_risk.shape"
   ]
  },
  {
   "cell_type": "code",
   "execution_count": 34,
   "metadata": {
    "scrolled": true
   },
   "outputs": [
    {
     "data": {
      "text/plain": [
       "(5878, 13)"
      ]
     },
     "execution_count": 34,
     "metadata": {},
     "output_type": "execute_result"
    }
   ],
   "source": [
    "sy_risk[sy_risk.duplicated(subset = ['content_'])].shape"
   ]
  },
  {
   "cell_type": "code",
   "execution_count": null,
   "metadata": {},
   "outputs": [],
   "source": []
  },
  {
   "cell_type": "markdown",
   "metadata": {},
   "source": [
    "有效样本：duplicated_sy_risk"
   ]
  },
  {
   "cell_type": "code",
   "execution_count": 35,
   "metadata": {},
   "outputs": [
    {
     "data": {
      "image/png": "[encoded data removed]",
      "text/plain": [
       "<Figure size 648x504 with 1 Axes>"
      ]
     },
     "metadata": {},
     "output_type": "display_data"
    }
   ],
   "source": [
    "plt.rcParams['font.family'] = ['Arial Unicode MS'] #正常显示中文 \n",
    "plt.rcParams['font.sans-serif'] = ['KaiTi']#作图的中文\n",
    "plt.rcParams['font.serif'] = ['KaiTi']#作图的中文\n",
    "plt.rcParams['axes.unicode_minus'] = False # 解决保存图像是负号'-'显示为方块的问题\n",
    "\n",
    "\n",
    "#Adding dark background to the graph\n",
    "plt.style.use(\"tableau-colorblind10\")\n",
    "\n",
    "#Plotting a pie chart\n",
    "plt.figure(figsize=[9,7])\n",
    "duplicated_sy_risk['label'].value_counts().plot.pie()\n",
    "plt.show()\n"
   ]
  },
  {
   "cell_type": "code",
   "execution_count": 36,
   "metadata": {},
   "outputs": [
    {
     "data": {
      "image/png": "[encoded data removed]",
      "text/plain": [
       "<Figure size 432x288 with 1 Axes>"
      ]
     },
     "metadata": {
      "needs_background": "light"
     },
     "output_type": "display_data"
    }
   ],
   "source": [
    "word_count = duplicated_sy_risk['content_word_count']\n",
    "density = gaussian_kde(word_count)\n",
    "xs = np.linspace(word_count.min(),word_count.max(),len(word_count))\n",
    "density.covariance_factor = lambda : .25\n",
    "density._compute_covariance()\n",
    "plt.plot(xs,density(xs))\n",
    "plt.show()"
   ]
  },
  {
   "cell_type": "code",
   "execution_count": 37,
   "metadata": {},
   "outputs": [
    {
     "data": {
      "text/plain": [
       "(236, 13)"
      ]
     },
     "execution_count": 37,
     "metadata": {},
     "output_type": "execute_result"
    }
   ],
   "source": [
    "duplicated_sy_risk[duplicated_sy_risk['content_word_count'] > 5000].shape"
   ]
  },
  {
   "cell_type": "markdown",
   "metadata": {},
   "source": [
    "**有344有效样本字数大于5000词**"
   ]
  },
  {
   "cell_type": "code",
   "execution_count": 38,
   "metadata": {
    "scrolled": true
   },
   "outputs": [
    {
     "data": {
      "text/html": [
       "<div>\n",
       "<style scoped>\n",
       "    .dataframe tbody tr th:only-of-type {\n",
       "        vertical-align: middle;\n",
       "    }\n",
       "\n",
       "    .dataframe tbody tr th {\n",
       "        vertical-align: top;\n",
       "    }\n",
       "\n",
       "    .dataframe thead th {\n",
       "        text-align: right;\n",
       "    }\n",
       "</style>\n",
       "<table border=\"1\" class=\"dataframe\">\n",
       "  <thead>\n",
       "    <tr style=\"text-align: right;\">\n",
       "      <th></th>\n",
       "      <th>id</th>\n",
       "      <th>record_id</th>\n",
       "      <th>customer_id</th>\n",
       "      <th>item_id</th>\n",
       "      <th>item_name</th>\n",
       "      <th>event_time</th>\n",
       "      <th>create_time</th>\n",
       "      <th>update_time</th>\n",
       "      <th>title</th>\n",
       "      <th>content_</th>\n",
       "      <th>label</th>\n",
       "      <th>title_content</th>\n",
       "      <th>content_word_count</th>\n",
       "    </tr>\n",
       "  </thead>\n",
       "  <tbody>\n",
       "    <tr>\n",
       "      <th>17</th>\n",
       "      <td>81571</td>\n",
       "      <td>81571</td>\n",
       "      <td>58</td>\n",
       "      <td>50</td>\n",
       "      <td>经营业务</td>\n",
       "      <td>2019-12-18 05:43:34</td>\n",
       "      <td>2020-01-02 11:10:54</td>\n",
       "      <td>2020-01-02 11:10:54</td>\n",
       "      <td>「活力开发区频道」2019年12月18日 星期三</td>\n",
       "      <td>今天是2019年12月18日，星期三，农历十一月二十三，晴转多云，3-4级西北风，气温-16℃/-6℃，让活力开发区频道伴您开始新的一天！\\n\\n为深入贯彻党的十九届四中全会精神，辽河镇把夯实基层基础作为固本之策，进一步完善党组织领导下的自治、法治、德治相结合的基层治理体系，打造充满活力、和谐有序的善治乡村。\\n\\n一是加强党的建设，健全完善基层治理组织保障。辽河镇坚持以提升组织力为重点，把加强基层党组织建设、巩固党的执政基础贯穿基层社会治理体系建设始终，组织实施头雁领航、阵地提升、五事争先、星级创评、四诺一管 “五大专项行动”，充分发挥党组织、党员在社会治理中的示范作用，营造党群携手、共同参与基层治理的良好氛围。\\n\\n二是坚持法治为纲，夯实基层社会治理法治基础。针对近郊村多、群众诉求多样的实际，辽河镇坚持用法治精神引领、用法治思维谋划、用法治方式破解基层社会治理难题。整合司法、信访、公安、综治等方面力量，推行“四心合一”组建矛盾纠纷多元化解中心，邀请有经验的老同志组建信访案件审查委员会，对重点信访案件把脉问效，做到小事不出村、大事不出镇、矛盾不上交。\\n\\n三是坚持德治润心，厚植基层社会治理新风正气。切实发挥新时代文明所（站）作用，持续推进农村精神文明建设，巩固农村思想文化阵地，倡导科学文明生活，深化乡风民风家风建设，注重家庭家风家教，广泛开展星级文明户、文明家庭等群众性精神文明创建活动，引导广大农民由“要我文明”向“我要文明”转变，不断提升乡村整体精神风貌，促进基层治理。\\n\\n四是坚持自治固本，激发基层社会治理群众活力。持续推动“12345”基层自治体系发挥作用，健全完善以基层党组织为领导、村民委员会和村务监督委员会为基础、集体经济组织和农民合作组织为纽带的村级组织体系，实施村级事务“阳光工程”，不断优化完善“532”工作法，依法保障基层群众的知情权、参与权、表达权及监督权。借助开发区“云智慧党建+”平台，推行“一人带十户”红色网格化管理，每个网格由一名党员负责，整合人、地、事、物、情多种因素，寓管理于服务，构建村民自治工作新格局，畅通村民自治渠道，为构建和谐社会、实现乡村振兴奠定坚实基础。（闫宝春）\\n\\n日前，通辽经济技术开发区与美歌联合能源控股有限公司、大连金玛硼业科技集团股份有限公司就“含硼特种材料产业园”项目签订战略合作协议。三方携手共同打...</td>\n",
       "      <td>1</td>\n",
       "      <td>「活力开发区频道」2019年12月18日 星期三今天是2019年12月18日，星期三，农历十一月二十三，晴转多云，3-4级西北风，气温-16℃/-6℃，让活力开发区频道伴您开始新的一天！\\n\\n为深入贯彻党的十九届四中全会精神，辽河镇把夯实基层基础作为固本之策，进一步完善党组织领导下的自治、法治、德治相结合的基层治理体系，打造充满活力、和谐有序的善治乡村。\\n\\n一是加强党的建设，健全完善基层治理组织保障。辽河镇坚持以提升组织力为重点，把加强基层党组织建设、巩固党的执政基础贯穿基层社会治理体系建设始终，组织实施头雁领航、阵地提升、五事争先、星级创评、四诺一管 “五大专项行动”，充分发挥党组织、党员在社会治理中的示范作用，营造党群携手、共同参与基层治理的良好氛围。\\n\\n二是坚持法治为纲，夯实基层社会治理法治基础。针对近郊村多、群众诉求多样的实际，辽河镇坚持用法治精神引领、用法治思维谋划、用法治方式破解基层社会治理难题。整合司法、信访、公安、综治等方面力量，推行“四心合一”组建矛盾纠纷多元化解中心，邀请有经验的老同志组建信访案件审查委员会，对重点信访案件把脉问效，做到小事不出村、大事不出镇、矛盾不上交。\\n\\n三是坚持德治润心，厚植基层社会治理新风正气。切实发挥新时代文明所（站）作用，持续推进农村精神文明建设，巩固农村思想文化阵地，倡导科学文明生活，深化乡风民风家风建设，注重家庭家风家教，广泛开展星级文明户、文明家庭等群众性精神文明创建活动，引导广大农民由“要我文明”向“我要文明”转变，不断提升乡村整体精神风貌，促进基层治理。\\n\\n四是坚持自治固本，激发基层社会治理群众活力。持续推动“12345”基层自治体系发挥作用，健全完善以基层党组织为领导、村民委员会和村务监督委员会为基础、集体经济组织和农民合作组织为纽带的村级组织体系，实施村级事务“阳光工程”，不断优化完善“532”工作法，依法保障基层群众的知情权、参与权、表达权及监督权。借助开发区“云智慧党建+”平台，推行“一人带十户”红色网格化管理，每个网格由一名党员负责，整合人、地、事、物、情多种因素，寓管理于服务，构建村民自治工作新格局，畅通村民自治渠道，为构建和谐社会、实现乡村振兴奠定坚实基础。（闫宝春）\\n\\n日前，通辽经济技术开发区与美歌联合能源控股有限公司、大连金玛硼业科技集团股份有限公司就“含硼特种...</td>\n",
       "      <td>9781</td>\n",
       "    </tr>\n",
       "    <tr>\n",
       "      <th>18</th>\n",
       "      <td>81572</td>\n",
       "      <td>81572</td>\n",
       "      <td>58</td>\n",
       "      <td>50</td>\n",
       "      <td>经营业务</td>\n",
       "      <td>2019-12-17 05:30:00</td>\n",
       "      <td>2020-01-02 11:10:55</td>\n",
       "      <td>2020-01-02 11:10:55</td>\n",
       "      <td>【开发区早间新闻快报】2019年12月17日星期二</td>\n",
       "      <td>今天是2019年12月17日，星期二，农历十一月二十二，晴转多云，3-4级西北风，气温-17℃/-6℃，开始新的一天！学 习 时 间社会治理是国家治理的重要方面。必须加强和创新社会治理，完善党委领导、政府负责、民主协商、社会协同、公众参与、法治保障、科技支撑的社会治理体系，建设人人有责、人人尽责、人人享有的社会治理共同体，确保人民安居乐业、社会安定有序，建设更高水平的平安中国。——《中共中央关于坚持和完善中国特色社会主义制度、推进国家治理体系和治理能力现代化若干重大问题的决定》着力推进社会治理现代化党的十九届四中全会深刻总结了我国国家制度和治理体系具有13个方面的显著优势，这些显著优势是我们坚定“四个自信”的基本依据。全会提出坚持和完善13个方面的制度体系，强调坚持和完善中国特色社会主义制度，推进国家治理体系和治理能力现代化是全党一项重大战略任务。结合开发区社会治理实际，谈几点体会。一是构建社会治理新格局。完善党委领导、政府负责、民主协商、社会协同、公民参与、法治保障、科技支撑的社会治理体系。形成在党的领导下，各方充分发挥积极性的共建共治共享的社会治理新格局，实现各种治理力量各司其职、各尽其力。二是建立社会治理新机制。完善正确处理新形势下人民内部矛盾有效机制、社会治安防控体系，健全公共安全体制机制，优化矛盾化解工作流程，做到及时发现、快速反应、高效处置，确保矛盾纠纷化解在基层、化解在事发地。要健全组织保障机制，构建上下衔接顺畅、职责分工明确、部门协作密切的组织架构，保障社会治理扎实有效推进。三是搭建社会治理新载体。以建设人人有责、人人尽责、人人享有的社会治理共同体为目标，创新社会治理组织形式、工作方式，更好地整合社会治理力量，提升治理效能。推行“四心合一”模式，实现矛盾调处、法律服务、案件受理、治安防控有机结合，共同发力，提升工作实效。建立“开门纳谏”长效机制，及时搜集群众诉求，把解决群众反映强烈的突出问题作为社会治理的重要着力点，组建基层社会治理联合体，集聚区域治理力量，发挥群众主体作用，强化基层治理基础。（田红军）重点关注◆习近平：推动形成优势互补高质量发展的区域经济布局&gt;&gt;&gt;详情：习近平：推动形成优势互补高质量发展的区域经济布局◆李克强：以法治推进更高水平对外开放&gt;&gt;&gt;详情：李克强：以法治推进更高水平对外开放◆关注｜区块链在国家治理与公共事务中的现实应...</td>\n",
       "      <td>1</td>\n",
       "      <td>【开发区早间新闻快报】2019年12月17日星期二今天是2019年12月17日，星期二，农历十一月二十二，晴转多云，3-4级西北风，气温-17℃/-6℃，开始新的一天！学 习 时 间社会治理是国家治理的重要方面。必须加强和创新社会治理，完善党委领导、政府负责、民主协商、社会协同、公众参与、法治保障、科技支撑的社会治理体系，建设人人有责、人人尽责、人人享有的社会治理共同体，确保人民安居乐业、社会安定有序，建设更高水平的平安中国。——《中共中央关于坚持和完善中国特色社会主义制度、推进国家治理体系和治理能力现代化若干重大问题的决定》着力推进社会治理现代化党的十九届四中全会深刻总结了我国国家制度和治理体系具有13个方面的显著优势，这些显著优势是我们坚定“四个自信”的基本依据。全会提出坚持和完善13个方面的制度体系，强调坚持和完善中国特色社会主义制度，推进国家治理体系和治理能力现代化是全党一项重大战略任务。结合开发区社会治理实际，谈几点体会。一是构建社会治理新格局。完善党委领导、政府负责、民主协商、社会协同、公民参与、法治保障、科技支撑的社会治理体系。形成在党的领导下，各方充分发挥积极性的共建共治共享的社会治理新格局，实现各种治理力量各司其职、各尽其力。二是建立社会治理新机制。完善正确处理新形势下人民内部矛盾有效机制、社会治安防控体系，健全公共安全体制机制，优化矛盾化解工作流程，做到及时发现、快速反应、高效处置，确保矛盾纠纷化解在基层、化解在事发地。要健全组织保障机制，构建上下衔接顺畅、职责分工明确、部门协作密切的组织架构，保障社会治理扎实有效推进。三是搭建社会治理新载体。以建设人人有责、人人尽责、人人享有的社会治理共同体为目标，创新社会治理组织形式、工作方式，更好地整合社会治理力量，提升治理效能。推行“四心合一”模式，实现矛盾调处、法律服务、案件受理、治安防控有机结合，共同发力，提升工作实效。建立“开门纳谏”长效机制，及时搜集群众诉求，把解决群众反映强烈的突出问题作为社会治理的重要着力点，组建基层社会治理联合体，集聚区域治理力量，发挥群众主体作用，强化基层治理基础。（田红军）重点关注◆习近平：推动形成优势互补高质量发展的区域经济布局&gt;&gt;&gt;详情：习近平：推动形成优势互补高质量发展的区域经济布局◆李克强：以法治推进更高水平对外开放&gt;&gt;&gt;详情：李克强：以法治推进更高水平对...</td>\n",
       "      <td>9136</td>\n",
       "    </tr>\n",
       "    <tr>\n",
       "      <th>78</th>\n",
       "      <td>81632</td>\n",
       "      <td>81632</td>\n",
       "      <td>20</td>\n",
       "      <td>48</td>\n",
       "      <td>员工情况</td>\n",
       "      <td>2019-12-10 14:20:04</td>\n",
       "      <td>2020-01-02 11:11:10</td>\n",
       "      <td>2020-01-02 11:11:10</td>\n",
       "      <td>“五指工作法”开创退役军人服务新局面</td>\n",
       "      <td>都说军人是最可爱的人，那是因为他们能将祖国的嘱托、人民的安危牢记在心，能够用铮铮铁骨铸就固若金汤的守卫之城。退役军人，退伍不褪色，他们永远是最受尊崇的人。\\n\\n军人为国家和平安宁作出突出贡献、付出巨大牺牲，是党和国家的宝贵财富，也是建设祖国的重要力量。一直以来南山区高度重视退役军人工作，坚持把为退役军人服务作为一项重要政治任务抓牢抓实。从今年4月开始，南山为广大烈属、军属和退役军人等家庭悬挂光荣牌，弘扬拥军优属优良传统、推进军人荣誉体系建设，构建同呼吸、共命运、心连心的军政军民关系，推动军人成为全社会尊崇的职业，助力中国实现强国梦、强军梦。\\n\\n目前南山区共有退役军人约1.5万人，总体上分为五个群体，包括退役士兵群体、军队转业干部群体、优抚对象群体、由政府安排工作的转业士官群体以及无军籍退休职工、残疾军人等。为更好地服务退役军人，南山区积极贯彻落实上级机构改革精神，于今年3月挂牌成立南山区退役军人事务局，此举成为南山机构改革的显著亮点。\\n\\n如今，南山退役军人事务局正以“深圳建设中国特色社会主义先行示范区”为导向，以“五指工作法”为载体，探索建立、完善、创新各项退役军人工作机制，努力形成一批退役军人工作可复制、可推广的经验和做法。破解服务保障退役军人“最后一公里”问题，增强广大退役军人获得感、幸福感、荣誉感，让他们在“先行示范区和粤港澳大湾区”建设中继续发挥先锋作用。\\n\\n为更好地服务社区退伍军人，3月21日下午，南山区桃源街道桃源社区在社区党群服务站举行退伍军人之家成立仪式。目前，桃源社区登记在册的退伍军人有500余名，分别来自两参（参战、参核）、拓荒牛（机械工程兵），深圳武警、边防、消防等各条战线退役军人。退伍军人之家的成立旨在让社区退伍老兵有一个学习、交流、娱乐的平台，让老兵老有所为、老有所乐，继续发挥余热融入到社区的各项建设当中。当天，在社区党委的指导下，还成立了南山首家社区退伍军人党支部，组建了退伍军人之家委员会、社区军人义工服务队。社区退役军人党支部积极投身长者关爱、社区义务巡逻、风灾清理、校园国防大讲堂爱国主义教育等多项社区公益活动中。\\n\\n像桃源社区一样，服务好退役军人，鼓励退役军人参与社会建设，正是南山区退役军人事务局的重要工作内容。南山辖区内的退役军人，是南山退役军人事务局服务的核心对象，是“首屈一指”的重点工作。做好退役军人的...</td>\n",
       "      <td>1</td>\n",
       "      <td>“五指工作法”开创退役军人服务新局面都说军人是最可爱的人，那是因为他们能将祖国的嘱托、人民的安危牢记在心，能够用铮铮铁骨铸就固若金汤的守卫之城。退役军人，退伍不褪色，他们永远是最受尊崇的人。\\n\\n军人为国家和平安宁作出突出贡献、付出巨大牺牲，是党和国家的宝贵财富，也是建设祖国的重要力量。一直以来南山区高度重视退役军人工作，坚持把为退役军人服务作为一项重要政治任务抓牢抓实。从今年4月开始，南山为广大烈属、军属和退役军人等家庭悬挂光荣牌，弘扬拥军优属优良传统、推进军人荣誉体系建设，构建同呼吸、共命运、心连心的军政军民关系，推动军人成为全社会尊崇的职业，助力中国实现强国梦、强军梦。\\n\\n目前南山区共有退役军人约1.5万人，总体上分为五个群体，包括退役士兵群体、军队转业干部群体、优抚对象群体、由政府安排工作的转业士官群体以及无军籍退休职工、残疾军人等。为更好地服务退役军人，南山区积极贯彻落实上级机构改革精神，于今年3月挂牌成立南山区退役军人事务局，此举成为南山机构改革的显著亮点。\\n\\n如今，南山退役军人事务局正以“深圳建设中国特色社会主义先行示范区”为导向，以“五指工作法”为载体，探索建立、完善、创新各项退役军人工作机制，努力形成一批退役军人工作可复制、可推广的经验和做法。破解服务保障退役军人“最后一公里”问题，增强广大退役军人获得感、幸福感、荣誉感，让他们在“先行示范区和粤港澳大湾区”建设中继续发挥先锋作用。\\n\\n为更好地服务社区退伍军人，3月21日下午，南山区桃源街道桃源社区在社区党群服务站举行退伍军人之家成立仪式。目前，桃源社区登记在册的退伍军人有500余名，分别来自两参（参战、参核）、拓荒牛（机械工程兵），深圳武警、边防、消防等各条战线退役军人。退伍军人之家的成立旨在让社区退伍老兵有一个学习、交流、娱乐的平台，让老兵老有所为、老有所乐，继续发挥余热融入到社区的各项建设当中。当天，在社区党委的指导下，还成立了南山首家社区退伍军人党支部，组建了退伍军人之家委员会、社区军人义工服务队。社区退役军人党支部积极投身长者关爱、社区义务巡逻、风灾清理、校园国防大讲堂爱国主义教育等多项社区公益活动中。\\n\\n像桃源社区一样，服务好退役军人，鼓励退役军人参与社会建设，正是南山区退役军人事务局的重要工作内容。南山辖区内的退役军人，是南山退役军人事务局服务的核心对象，是“...</td>\n",
       "      <td>5381</td>\n",
       "    </tr>\n",
       "    <tr>\n",
       "      <th>82</th>\n",
       "      <td>81636</td>\n",
       "      <td>81636</td>\n",
       "      <td>20</td>\n",
       "      <td>60</td>\n",
       "      <td>相关提及</td>\n",
       "      <td>2020-01-01 21:05:00</td>\n",
       "      <td>2020-01-02 11:11:12</td>\n",
       "      <td>2020-01-02 11:11:12</td>\n",
       "      <td>“撮高架”礼赞 ——写在裕溪路高架桥通车之际</td>\n",
       "      <td>中国历史上，城市的发展与变迁，总是承载着政治企望与民生滋养的双重性。, , , , , , , , , , , , , , , , , ,, ,康熙六年（公元1667），千古一\\n\\n中国历史上，城市的发展与变迁，总是承载着政治企望与民生滋养的双重性。\\n\\n康熙六年（公元1667），千古一帝如椽巨笔跨江一刀，纵向把江南省劈成两半，取江宁府、苏州府首字称为“江苏省”；取安庆府、徽州首字称为“安徽省”。自此，安徽逐渐形成淮北、江淮和长江以南三大文化圈。\\n\\n唐杜佑《通典》云：“庐州，今理合肥县，古庐子国也。”由此可知合肥历史至少可追溯至周武王时。后秦置合肥县，属九江郡；三国时扬州刺史刘馥单骑造城，合肥第一次有了分管几个郡国的行政地位；北魏改称合州；隋改合州为庐州，又改庐江郡；明始改庐州府。至辛亥革命废府设县，合肥一直都是地市级以上的名都重镇，所谓名出《史记》，源自两淝，上下三千余载，地域最大时方圆万余平方千米。\\n\\n上世纪六十年代的合肥，辖肥东、肥西、长丰三县。城区设中市、西市、东市，郊区四区。大致环城路以内为中市区，五里墩至大蜀山为西市区，以大通路为主轴的工厂区为东市区。而滨湖新区、经开区、政务区、高新区一带均为乡野，而恰恰是这些个位置，给几十年后合肥的飞跃发展提供了广阔的空间和舞台，一如史诗中的“草蛇灰线”，留下了些许痕迹。\\n\\n和新中国发展同步，合肥城市经济建设在前三十年奠定了坚实的基础，尤其是近三十米宽幅的长江路建设，拉开了合肥城市建设的序幕。省委、省政府、省图书馆、省博物馆、合工大、江淮大戏院、合肥饭店、长江饭店、解放电影院等著名的建筑，给这座凋零破败断垣残壁的旧县城焕发了新的光彩。这种仿苏式的建筑，在融合部分中式传统建筑如飞檐，女儿墙、琉璃瓦的元素后，强烈冲击着国人的神经。身着绿军装，手推自行车在仿苏式建筑背景前的影像，硬生生成为整整一个时代的烙印。\\n\\n合肥人推倒了屹立千年的古城墙，浚河叠岸，修建了举国瞩目的“环城公园”，作为全国城市建筑的典范，被收入全国统编地理教材。东春融西夏荫，南冬趣北秋声，四时润泽着这座既古老又年轻的城市。\\n\\n八十年代初期，金寨路北段寿春路西段的改造又获斐声，引得当时的国家总理亲临视察首肯；西园新村和琥珀山庄的建设，成为中国首批获“联合国人居奖”的居住小区。\\n\\n尽管如此，合肥终究困囿于旧的城市格局，无力谋求...</td>\n",
       "      <td>0</td>\n",
       "      <td>“撮高架”礼赞 ——写在裕溪路高架桥通车之际中国历史上，城市的发展与变迁，总是承载着政治企望与民生滋养的双重性。, , , , , , , , , , , , , , , , , ,, ,康熙六年（公元1667），千古一\\n\\n中国历史上，城市的发展与变迁，总是承载着政治企望与民生滋养的双重性。\\n\\n康熙六年（公元1667），千古一帝如椽巨笔跨江一刀，纵向把江南省劈成两半，取江宁府、苏州府首字称为“江苏省”；取安庆府、徽州首字称为“安徽省”。自此，安徽逐渐形成淮北、江淮和长江以南三大文化圈。\\n\\n唐杜佑《通典》云：“庐州，今理合肥县，古庐子国也。”由此可知合肥历史至少可追溯至周武王时。后秦置合肥县，属九江郡；三国时扬州刺史刘馥单骑造城，合肥第一次有了分管几个郡国的行政地位；北魏改称合州；隋改合州为庐州，又改庐江郡；明始改庐州府。至辛亥革命废府设县，合肥一直都是地市级以上的名都重镇，所谓名出《史记》，源自两淝，上下三千余载，地域最大时方圆万余平方千米。\\n\\n上世纪六十年代的合肥，辖肥东、肥西、长丰三县。城区设中市、西市、东市，郊区四区。大致环城路以内为中市区，五里墩至大蜀山为西市区，以大通路为主轴的工厂区为东市区。而滨湖新区、经开区、政务区、高新区一带均为乡野，而恰恰是这些个位置，给几十年后合肥的飞跃发展提供了广阔的空间和舞台，一如史诗中的“草蛇灰线”，留下了些许痕迹。\\n\\n和新中国发展同步，合肥城市经济建设在前三十年奠定了坚实的基础，尤其是近三十米宽幅的长江路建设，拉开了合肥城市建设的序幕。省委、省政府、省图书馆、省博物馆、合工大、江淮大戏院、合肥饭店、长江饭店、解放电影院等著名的建筑，给这座凋零破败断垣残壁的旧县城焕发了新的光彩。这种仿苏式的建筑，在融合部分中式传统建筑如飞檐，女儿墙、琉璃瓦的元素后，强烈冲击着国人的神经。身着绿军装，手推自行车在仿苏式建筑背景前的影像，硬生生成为整整一个时代的烙印。\\n\\n合肥人推倒了屹立千年的古城墙，浚河叠岸，修建了举国瞩目的“环城公园”，作为全国城市建筑的典范，被收入全国统编地理教材。东春融西夏荫，南冬趣北秋声，四时润泽着这座既古老又年轻的城市。\\n\\n八十年代初期，金寨路北段寿春路西段的改造又获斐声，引得当时的国家总理亲临视察首肯；西园新村和琥珀山庄的建设，成为中国首批获“联合国人居奖”的居住小区。\\n\\n尽...</td>\n",
       "      <td>5175</td>\n",
       "    </tr>\n",
       "    <tr>\n",
       "      <th>615</th>\n",
       "      <td>82169</td>\n",
       "      <td>82169</td>\n",
       "      <td>28</td>\n",
       "      <td>62</td>\n",
       "      <td>停业暂停</td>\n",
       "      <td>2019-12-19 02:16:57</td>\n",
       "      <td>2020-01-02 11:13:46</td>\n",
       "      <td>2020-01-02 11:13:46</td>\n",
       "      <td>行业洗牌 哀其不幸</td>\n",
       "      <td>2019年年底，房地产的江湖仍然暗潮涌动。碧桂园的杨氏家族早早放下了全球第一的执念，以农民的姿态搞起了机器人；万科的郁亮也没有去跑马拉松，而是在云南抚仙湖亲自推荐自家项目；绿地的张玉良一边表示困难是一时的，一边又不得不直面裁员和销量下滑的质疑；中梁的杨剑则在上市敲钟的高光环绕下，大刀阔斧地进行着人事改革和总部裁员；“万通六君子”中最精明的潘石屹被传出“卖楼跑路”后，又亲自站台力证“假摔”；最后还是老大哥冯仑更高一筹，以一句“靠运气赚的钱,今天凭本事又都赔完了”，继续贩卖着地产圈的焦虑。\\n\\n在大佬们的影响下，“共克时艰”成了2019年地产人最爱说的话。中国的房地产市场似乎也一下子从困难模式直接跳到了生存模式。倒闭、跑路、爆雷、碰壁等词汇取代了热销、日光、排队，成为今年的关键词；遭遇困难取代了躺着挣钱成为房地产行业的现状；勒紧腰带也取代歌舞升平成为新的写照。制造了无数财富神话的房地产行业，像被突然按下了重启键一样，行业洗牌加速。\\n\\n房地产生意里有这样一个简单的线条：前期高周转地扩张，建立起遍及全国的规模和自身的品牌优势；后期依靠上市，实现品牌价值的固化，同时通过在资本市场上长袖善舞，为更进一步冲业绩、扩规模添砖加瓦。\\n\\n但今年，这个套路好像不灵了，房地产市场的竞争进行到后半场，比拼就开始变得纯粹。谁手上有钱，谁回款够快，谁就能鹤立鸡群。\\n\\n2019年年初，自称“网红”的房企泰禾率先爆雷，甚至差点栽在了“钱”上。当时媒体爆出泰禾负债超过2000亿元。\\n\\n揭开泰禾资金链问题的，是2018年12月14日泰禾集团连发的三则公告。一是将3家间接持有的子公司全部股权以6.35亿元的价格打包出售；二是将2017年拍得的北京市朝阳区孙河乡北甸西村、西甸村 2902-29号地块的收益权转让给北京信托，以融资35亿元；三是泰禾集团第一大股东泰禾投资集团有限公司及一致行动人向东兴证券等3家公司质押3125万股公司股份，用途为补充质押和融资。\\n\\n由于泰禾连续多年未公布具体销售数额，只公布愿景和目标，因此这三则公告自然迎来了业界对泰禾现金情况的质疑，只是没想到后续的震动来得更快更直接。\\n\\n不久后，泰禾内部也发生变动，2019年1月初财务总监李斌等三名高管离职；1月底泰禾集团总裁助理兼品牌总经理伍小峰离职；不久后，集团副总经理张晋元离职。接连的高层变动似乎坐实了...</td>\n",
       "      <td>1</td>\n",
       "      <td>行业洗牌 哀其不幸2019年年底，房地产的江湖仍然暗潮涌动。碧桂园的杨氏家族早早放下了全球第一的执念，以农民的姿态搞起了机器人；万科的郁亮也没有去跑马拉松，而是在云南抚仙湖亲自推荐自家项目；绿地的张玉良一边表示困难是一时的，一边又不得不直面裁员和销量下滑的质疑；中梁的杨剑则在上市敲钟的高光环绕下，大刀阔斧地进行着人事改革和总部裁员；“万通六君子”中最精明的潘石屹被传出“卖楼跑路”后，又亲自站台力证“假摔”；最后还是老大哥冯仑更高一筹，以一句“靠运气赚的钱,今天凭本事又都赔完了”，继续贩卖着地产圈的焦虑。\\n\\n在大佬们的影响下，“共克时艰”成了2019年地产人最爱说的话。中国的房地产市场似乎也一下子从困难模式直接跳到了生存模式。倒闭、跑路、爆雷、碰壁等词汇取代了热销、日光、排队，成为今年的关键词；遭遇困难取代了躺着挣钱成为房地产行业的现状；勒紧腰带也取代歌舞升平成为新的写照。制造了无数财富神话的房地产行业，像被突然按下了重启键一样，行业洗牌加速。\\n\\n房地产生意里有这样一个简单的线条：前期高周转地扩张，建立起遍及全国的规模和自身的品牌优势；后期依靠上市，实现品牌价值的固化，同时通过在资本市场上长袖善舞，为更进一步冲业绩、扩规模添砖加瓦。\\n\\n但今年，这个套路好像不灵了，房地产市场的竞争进行到后半场，比拼就开始变得纯粹。谁手上有钱，谁回款够快，谁就能鹤立鸡群。\\n\\n2019年年初，自称“网红”的房企泰禾率先爆雷，甚至差点栽在了“钱”上。当时媒体爆出泰禾负债超过2000亿元。\\n\\n揭开泰禾资金链问题的，是2018年12月14日泰禾集团连发的三则公告。一是将3家间接持有的子公司全部股权以6.35亿元的价格打包出售；二是将2017年拍得的北京市朝阳区孙河乡北甸西村、西甸村 2902-29号地块的收益权转让给北京信托，以融资35亿元；三是泰禾集团第一大股东泰禾投资集团有限公司及一致行动人向东兴证券等3家公司质押3125万股公司股份，用途为补充质押和融资。\\n\\n由于泰禾连续多年未公布具体销售数额，只公布愿景和目标，因此这三则公告自然迎来了业界对泰禾现金情况的质疑，只是没想到后续的震动来得更快更直接。\\n\\n不久后，泰禾内部也发生变动，2019年1月初财务总监李斌等三名高管离职；1月底泰禾集团总裁助理兼品牌总经理伍小峰离职；不久后，集团副总经理张晋元离职。接连的...</td>\n",
       "      <td>5240</td>\n",
       "    </tr>\n",
       "  </tbody>\n",
       "</table>\n",
       "</div>"
      ],
      "text/plain": [
       "        id  record_id  customer_id  item_id item_name           event_time          create_time          update_time                      title  \\\n",
       "17   81571      81571           58       50      经营业务  2019-12-18 05:43:34  2020-01-02 11:10:54  2020-01-02 11:10:54   「活力开发区频道」2019年12月18日 星期三   \n",
       "18   81572      81572           58       50      经营业务  2019-12-17 05:30:00  2020-01-02 11:10:55  2020-01-02 11:10:55  【开发区早间新闻快报】2019年12月17日星期二   \n",
       "78   81632      81632           20       48      员工情况  2019-12-10 14:20:04  2020-01-02 11:11:10  2020-01-02 11:11:10         “五指工作法”开创退役军人服务新局面   \n",
       "82   81636      81636           20       60      相关提及  2020-01-01 21:05:00  2020-01-02 11:11:12  2020-01-02 11:11:12     “撮高架”礼赞 ——写在裕溪路高架桥通车之际   \n",
       "615  82169      82169           28       62      停业暂停  2019-12-19 02:16:57  2020-01-02 11:13:46  2020-01-02 11:13:46                  行业洗牌 哀其不幸   \n",
       "\n",
       "                                                                                                                                                                                                                                                                                                                                                                                                                                                                                                                                                                                                                                                                                                                                                                                                                                                                                                                                                                                                                                    content_  \\\n",
       "17   今天是2019年12月18日，星期三，农历十一月二十三，晴转多云，3-4级西北风，气温-16℃/-6℃，让活力开发区频道伴您开始新的一天！\\n\\n为深入贯彻党的十九届四中全会精神，辽河镇把夯实基层基础作为固本之策，进一步完善党组织领导下的自治、法治、德治相结合的基层治理体系，打造充满活力、和谐有序的善治乡村。\\n\\n一是加强党的建设，健全完善基层治理组织保障。辽河镇坚持以提升组织力为重点，把加强基层党组织建设、巩固党的执政基础贯穿基层社会治理体系建设始终，组织实施头雁领航、阵地提升、五事争先、星级创评、四诺一管 “五大专项行动”，充分发挥党组织、党员在社会治理中的示范作用，营造党群携手、共同参与基层治理的良好氛围。\\n\\n二是坚持法治为纲，夯实基层社会治理法治基础。针对近郊村多、群众诉求多样的实际，辽河镇坚持用法治精神引领、用法治思维谋划、用法治方式破解基层社会治理难题。整合司法、信访、公安、综治等方面力量，推行“四心合一”组建矛盾纠纷多元化解中心，邀请有经验的老同志组建信访案件审查委员会，对重点信访案件把脉问效，做到小事不出村、大事不出镇、矛盾不上交。\\n\\n三是坚持德治润心，厚植基层社会治理新风正气。切实发挥新时代文明所（站）作用，持续推进农村精神文明建设，巩固农村思想文化阵地，倡导科学文明生活，深化乡风民风家风建设，注重家庭家风家教，广泛开展星级文明户、文明家庭等群众性精神文明创建活动，引导广大农民由“要我文明”向“我要文明”转变，不断提升乡村整体精神风貌，促进基层治理。\\n\\n四是坚持自治固本，激发基层社会治理群众活力。持续推动“12345”基层自治体系发挥作用，健全完善以基层党组织为领导、村民委员会和村务监督委员会为基础、集体经济组织和农民合作组织为纽带的村级组织体系，实施村级事务“阳光工程”，不断优化完善“532”工作法，依法保障基层群众的知情权、参与权、表达权及监督权。借助开发区“云智慧党建+”平台，推行“一人带十户”红色网格化管理，每个网格由一名党员负责，整合人、地、事、物、情多种因素，寓管理于服务，构建村民自治工作新格局，畅通村民自治渠道，为构建和谐社会、实现乡村振兴奠定坚实基础。（闫宝春）\\n\\n日前，通辽经济技术开发区与美歌联合能源控股有限公司、大连金玛硼业科技集团股份有限公司就“含硼特种材料产业园”项目签订战略合作协议。三方携手共同打...   \n",
       "18   今天是2019年12月17日，星期二，农历十一月二十二，晴转多云，3-4级西北风，气温-17℃/-6℃，开始新的一天！学 习 时 间社会治理是国家治理的重要方面。必须加强和创新社会治理，完善党委领导、政府负责、民主协商、社会协同、公众参与、法治保障、科技支撑的社会治理体系，建设人人有责、人人尽责、人人享有的社会治理共同体，确保人民安居乐业、社会安定有序，建设更高水平的平安中国。——《中共中央关于坚持和完善中国特色社会主义制度、推进国家治理体系和治理能力现代化若干重大问题的决定》着力推进社会治理现代化党的十九届四中全会深刻总结了我国国家制度和治理体系具有13个方面的显著优势，这些显著优势是我们坚定“四个自信”的基本依据。全会提出坚持和完善13个方面的制度体系，强调坚持和完善中国特色社会主义制度，推进国家治理体系和治理能力现代化是全党一项重大战略任务。结合开发区社会治理实际，谈几点体会。一是构建社会治理新格局。完善党委领导、政府负责、民主协商、社会协同、公民参与、法治保障、科技支撑的社会治理体系。形成在党的领导下，各方充分发挥积极性的共建共治共享的社会治理新格局，实现各种治理力量各司其职、各尽其力。二是建立社会治理新机制。完善正确处理新形势下人民内部矛盾有效机制、社会治安防控体系，健全公共安全体制机制，优化矛盾化解工作流程，做到及时发现、快速反应、高效处置，确保矛盾纠纷化解在基层、化解在事发地。要健全组织保障机制，构建上下衔接顺畅、职责分工明确、部门协作密切的组织架构，保障社会治理扎实有效推进。三是搭建社会治理新载体。以建设人人有责、人人尽责、人人享有的社会治理共同体为目标，创新社会治理组织形式、工作方式，更好地整合社会治理力量，提升治理效能。推行“四心合一”模式，实现矛盾调处、法律服务、案件受理、治安防控有机结合，共同发力，提升工作实效。建立“开门纳谏”长效机制，及时搜集群众诉求，把解决群众反映强烈的突出问题作为社会治理的重要着力点，组建基层社会治理联合体，集聚区域治理力量，发挥群众主体作用，强化基层治理基础。（田红军）重点关注◆习近平：推动形成优势互补高质量发展的区域经济布局>>>详情：习近平：推动形成优势互补高质量发展的区域经济布局◆李克强：以法治推进更高水平对外开放>>>详情：李克强：以法治推进更高水平对外开放◆关注｜区块链在国家治理与公共事务中的现实应...   \n",
       "78   都说军人是最可爱的人，那是因为他们能将祖国的嘱托、人民的安危牢记在心，能够用铮铮铁骨铸就固若金汤的守卫之城。退役军人，退伍不褪色，他们永远是最受尊崇的人。\\n\\n军人为国家和平安宁作出突出贡献、付出巨大牺牲，是党和国家的宝贵财富，也是建设祖国的重要力量。一直以来南山区高度重视退役军人工作，坚持把为退役军人服务作为一项重要政治任务抓牢抓实。从今年4月开始，南山为广大烈属、军属和退役军人等家庭悬挂光荣牌，弘扬拥军优属优良传统、推进军人荣誉体系建设，构建同呼吸、共命运、心连心的军政军民关系，推动军人成为全社会尊崇的职业，助力中国实现强国梦、强军梦。\\n\\n目前南山区共有退役军人约1.5万人，总体上分为五个群体，包括退役士兵群体、军队转业干部群体、优抚对象群体、由政府安排工作的转业士官群体以及无军籍退休职工、残疾军人等。为更好地服务退役军人，南山区积极贯彻落实上级机构改革精神，于今年3月挂牌成立南山区退役军人事务局，此举成为南山机构改革的显著亮点。\\n\\n如今，南山退役军人事务局正以“深圳建设中国特色社会主义先行示范区”为导向，以“五指工作法”为载体，探索建立、完善、创新各项退役军人工作机制，努力形成一批退役军人工作可复制、可推广的经验和做法。破解服务保障退役军人“最后一公里”问题，增强广大退役军人获得感、幸福感、荣誉感，让他们在“先行示范区和粤港澳大湾区”建设中继续发挥先锋作用。\\n\\n为更好地服务社区退伍军人，3月21日下午，南山区桃源街道桃源社区在社区党群服务站举行退伍军人之家成立仪式。目前，桃源社区登记在册的退伍军人有500余名，分别来自两参（参战、参核）、拓荒牛（机械工程兵），深圳武警、边防、消防等各条战线退役军人。退伍军人之家的成立旨在让社区退伍老兵有一个学习、交流、娱乐的平台，让老兵老有所为、老有所乐，继续发挥余热融入到社区的各项建设当中。当天，在社区党委的指导下，还成立了南山首家社区退伍军人党支部，组建了退伍军人之家委员会、社区军人义工服务队。社区退役军人党支部积极投身长者关爱、社区义务巡逻、风灾清理、校园国防大讲堂爱国主义教育等多项社区公益活动中。\\n\\n像桃源社区一样，服务好退役军人，鼓励退役军人参与社会建设，正是南山区退役军人事务局的重要工作内容。南山辖区内的退役军人，是南山退役军人事务局服务的核心对象，是“首屈一指”的重点工作。做好退役军人的...   \n",
       "82   中国历史上，城市的发展与变迁，总是承载着政治企望与民生滋养的双重性。, , , , , , , , , , , , , , , , , ,, ,康熙六年（公元1667），千古一\\n\\n中国历史上，城市的发展与变迁，总是承载着政治企望与民生滋养的双重性。\\n\\n康熙六年（公元1667），千古一帝如椽巨笔跨江一刀，纵向把江南省劈成两半，取江宁府、苏州府首字称为“江苏省”；取安庆府、徽州首字称为“安徽省”。自此，安徽逐渐形成淮北、江淮和长江以南三大文化圈。\\n\\n唐杜佑《通典》云：“庐州，今理合肥县，古庐子国也。”由此可知合肥历史至少可追溯至周武王时。后秦置合肥县，属九江郡；三国时扬州刺史刘馥单骑造城，合肥第一次有了分管几个郡国的行政地位；北魏改称合州；隋改合州为庐州，又改庐江郡；明始改庐州府。至辛亥革命废府设县，合肥一直都是地市级以上的名都重镇，所谓名出《史记》，源自两淝，上下三千余载，地域最大时方圆万余平方千米。\\n\\n上世纪六十年代的合肥，辖肥东、肥西、长丰三县。城区设中市、西市、东市，郊区四区。大致环城路以内为中市区，五里墩至大蜀山为西市区，以大通路为主轴的工厂区为东市区。而滨湖新区、经开区、政务区、高新区一带均为乡野，而恰恰是这些个位置，给几十年后合肥的飞跃发展提供了广阔的空间和舞台，一如史诗中的“草蛇灰线”，留下了些许痕迹。\\n\\n和新中国发展同步，合肥城市经济建设在前三十年奠定了坚实的基础，尤其是近三十米宽幅的长江路建设，拉开了合肥城市建设的序幕。省委、省政府、省图书馆、省博物馆、合工大、江淮大戏院、合肥饭店、长江饭店、解放电影院等著名的建筑，给这座凋零破败断垣残壁的旧县城焕发了新的光彩。这种仿苏式的建筑，在融合部分中式传统建筑如飞檐，女儿墙、琉璃瓦的元素后，强烈冲击着国人的神经。身着绿军装，手推自行车在仿苏式建筑背景前的影像，硬生生成为整整一个时代的烙印。\\n\\n合肥人推倒了屹立千年的古城墙，浚河叠岸，修建了举国瞩目的“环城公园”，作为全国城市建筑的典范，被收入全国统编地理教材。东春融西夏荫，南冬趣北秋声，四时润泽着这座既古老又年轻的城市。\\n\\n八十年代初期，金寨路北段寿春路西段的改造又获斐声，引得当时的国家总理亲临视察首肯；西园新村和琥珀山庄的建设，成为中国首批获“联合国人居奖”的居住小区。\\n\\n尽管如此，合肥终究困囿于旧的城市格局，无力谋求...   \n",
       "615  2019年年底，房地产的江湖仍然暗潮涌动。碧桂园的杨氏家族早早放下了全球第一的执念，以农民的姿态搞起了机器人；万科的郁亮也没有去跑马拉松，而是在云南抚仙湖亲自推荐自家项目；绿地的张玉良一边表示困难是一时的，一边又不得不直面裁员和销量下滑的质疑；中梁的杨剑则在上市敲钟的高光环绕下，大刀阔斧地进行着人事改革和总部裁员；“万通六君子”中最精明的潘石屹被传出“卖楼跑路”后，又亲自站台力证“假摔”；最后还是老大哥冯仑更高一筹，以一句“靠运气赚的钱,今天凭本事又都赔完了”，继续贩卖着地产圈的焦虑。\\n\\n在大佬们的影响下，“共克时艰”成了2019年地产人最爱说的话。中国的房地产市场似乎也一下子从困难模式直接跳到了生存模式。倒闭、跑路、爆雷、碰壁等词汇取代了热销、日光、排队，成为今年的关键词；遭遇困难取代了躺着挣钱成为房地产行业的现状；勒紧腰带也取代歌舞升平成为新的写照。制造了无数财富神话的房地产行业，像被突然按下了重启键一样，行业洗牌加速。\\n\\n房地产生意里有这样一个简单的线条：前期高周转地扩张，建立起遍及全国的规模和自身的品牌优势；后期依靠上市，实现品牌价值的固化，同时通过在资本市场上长袖善舞，为更进一步冲业绩、扩规模添砖加瓦。\\n\\n但今年，这个套路好像不灵了，房地产市场的竞争进行到后半场，比拼就开始变得纯粹。谁手上有钱，谁回款够快，谁就能鹤立鸡群。\\n\\n2019年年初，自称“网红”的房企泰禾率先爆雷，甚至差点栽在了“钱”上。当时媒体爆出泰禾负债超过2000亿元。\\n\\n揭开泰禾资金链问题的，是2018年12月14日泰禾集团连发的三则公告。一是将3家间接持有的子公司全部股权以6.35亿元的价格打包出售；二是将2017年拍得的北京市朝阳区孙河乡北甸西村、西甸村 2902-29号地块的收益权转让给北京信托，以融资35亿元；三是泰禾集团第一大股东泰禾投资集团有限公司及一致行动人向东兴证券等3家公司质押3125万股公司股份，用途为补充质押和融资。\\n\\n由于泰禾连续多年未公布具体销售数额，只公布愿景和目标，因此这三则公告自然迎来了业界对泰禾现金情况的质疑，只是没想到后续的震动来得更快更直接。\\n\\n不久后，泰禾内部也发生变动，2019年1月初财务总监李斌等三名高管离职；1月底泰禾集团总裁助理兼品牌总经理伍小峰离职；不久后，集团副总经理张晋元离职。接连的高层变动似乎坐实了...   \n",
       "\n",
       "     label  \\\n",
       "17       1   \n",
       "18       1   \n",
       "78       1   \n",
       "82       0   \n",
       "615      1   \n",
       "\n",
       "                                                                                                                                                                                                                                                                                                                                                                                                                                                                                                                                                                                                                                                                                                                                                                                                                                                                                                                                                                                                                               title_content  \\\n",
       "17   「活力开发区频道」2019年12月18日 星期三今天是2019年12月18日，星期三，农历十一月二十三，晴转多云，3-4级西北风，气温-16℃/-6℃，让活力开发区频道伴您开始新的一天！\\n\\n为深入贯彻党的十九届四中全会精神，辽河镇把夯实基层基础作为固本之策，进一步完善党组织领导下的自治、法治、德治相结合的基层治理体系，打造充满活力、和谐有序的善治乡村。\\n\\n一是加强党的建设，健全完善基层治理组织保障。辽河镇坚持以提升组织力为重点，把加强基层党组织建设、巩固党的执政基础贯穿基层社会治理体系建设始终，组织实施头雁领航、阵地提升、五事争先、星级创评、四诺一管 “五大专项行动”，充分发挥党组织、党员在社会治理中的示范作用，营造党群携手、共同参与基层治理的良好氛围。\\n\\n二是坚持法治为纲，夯实基层社会治理法治基础。针对近郊村多、群众诉求多样的实际，辽河镇坚持用法治精神引领、用法治思维谋划、用法治方式破解基层社会治理难题。整合司法、信访、公安、综治等方面力量，推行“四心合一”组建矛盾纠纷多元化解中心，邀请有经验的老同志组建信访案件审查委员会，对重点信访案件把脉问效，做到小事不出村、大事不出镇、矛盾不上交。\\n\\n三是坚持德治润心，厚植基层社会治理新风正气。切实发挥新时代文明所（站）作用，持续推进农村精神文明建设，巩固农村思想文化阵地，倡导科学文明生活，深化乡风民风家风建设，注重家庭家风家教，广泛开展星级文明户、文明家庭等群众性精神文明创建活动，引导广大农民由“要我文明”向“我要文明”转变，不断提升乡村整体精神风貌，促进基层治理。\\n\\n四是坚持自治固本，激发基层社会治理群众活力。持续推动“12345”基层自治体系发挥作用，健全完善以基层党组织为领导、村民委员会和村务监督委员会为基础、集体经济组织和农民合作组织为纽带的村级组织体系，实施村级事务“阳光工程”，不断优化完善“532”工作法，依法保障基层群众的知情权、参与权、表达权及监督权。借助开发区“云智慧党建+”平台，推行“一人带十户”红色网格化管理，每个网格由一名党员负责，整合人、地、事、物、情多种因素，寓管理于服务，构建村民自治工作新格局，畅通村民自治渠道，为构建和谐社会、实现乡村振兴奠定坚实基础。（闫宝春）\\n\\n日前，通辽经济技术开发区与美歌联合能源控股有限公司、大连金玛硼业科技集团股份有限公司就“含硼特种...   \n",
       "18   【开发区早间新闻快报】2019年12月17日星期二今天是2019年12月17日，星期二，农历十一月二十二，晴转多云，3-4级西北风，气温-17℃/-6℃，开始新的一天！学 习 时 间社会治理是国家治理的重要方面。必须加强和创新社会治理，完善党委领导、政府负责、民主协商、社会协同、公众参与、法治保障、科技支撑的社会治理体系，建设人人有责、人人尽责、人人享有的社会治理共同体，确保人民安居乐业、社会安定有序，建设更高水平的平安中国。——《中共中央关于坚持和完善中国特色社会主义制度、推进国家治理体系和治理能力现代化若干重大问题的决定》着力推进社会治理现代化党的十九届四中全会深刻总结了我国国家制度和治理体系具有13个方面的显著优势，这些显著优势是我们坚定“四个自信”的基本依据。全会提出坚持和完善13个方面的制度体系，强调坚持和完善中国特色社会主义制度，推进国家治理体系和治理能力现代化是全党一项重大战略任务。结合开发区社会治理实际，谈几点体会。一是构建社会治理新格局。完善党委领导、政府负责、民主协商、社会协同、公民参与、法治保障、科技支撑的社会治理体系。形成在党的领导下，各方充分发挥积极性的共建共治共享的社会治理新格局，实现各种治理力量各司其职、各尽其力。二是建立社会治理新机制。完善正确处理新形势下人民内部矛盾有效机制、社会治安防控体系，健全公共安全体制机制，优化矛盾化解工作流程，做到及时发现、快速反应、高效处置，确保矛盾纠纷化解在基层、化解在事发地。要健全组织保障机制，构建上下衔接顺畅、职责分工明确、部门协作密切的组织架构，保障社会治理扎实有效推进。三是搭建社会治理新载体。以建设人人有责、人人尽责、人人享有的社会治理共同体为目标，创新社会治理组织形式、工作方式，更好地整合社会治理力量，提升治理效能。推行“四心合一”模式，实现矛盾调处、法律服务、案件受理、治安防控有机结合，共同发力，提升工作实效。建立“开门纳谏”长效机制，及时搜集群众诉求，把解决群众反映强烈的突出问题作为社会治理的重要着力点，组建基层社会治理联合体，集聚区域治理力量，发挥群众主体作用，强化基层治理基础。（田红军）重点关注◆习近平：推动形成优势互补高质量发展的区域经济布局>>>详情：习近平：推动形成优势互补高质量发展的区域经济布局◆李克强：以法治推进更高水平对外开放>>>详情：李克强：以法治推进更高水平对...   \n",
       "78   “五指工作法”开创退役军人服务新局面都说军人是最可爱的人，那是因为他们能将祖国的嘱托、人民的安危牢记在心，能够用铮铮铁骨铸就固若金汤的守卫之城。退役军人，退伍不褪色，他们永远是最受尊崇的人。\\n\\n军人为国家和平安宁作出突出贡献、付出巨大牺牲，是党和国家的宝贵财富，也是建设祖国的重要力量。一直以来南山区高度重视退役军人工作，坚持把为退役军人服务作为一项重要政治任务抓牢抓实。从今年4月开始，南山为广大烈属、军属和退役军人等家庭悬挂光荣牌，弘扬拥军优属优良传统、推进军人荣誉体系建设，构建同呼吸、共命运、心连心的军政军民关系，推动军人成为全社会尊崇的职业，助力中国实现强国梦、强军梦。\\n\\n目前南山区共有退役军人约1.5万人，总体上分为五个群体，包括退役士兵群体、军队转业干部群体、优抚对象群体、由政府安排工作的转业士官群体以及无军籍退休职工、残疾军人等。为更好地服务退役军人，南山区积极贯彻落实上级机构改革精神，于今年3月挂牌成立南山区退役军人事务局，此举成为南山机构改革的显著亮点。\\n\\n如今，南山退役军人事务局正以“深圳建设中国特色社会主义先行示范区”为导向，以“五指工作法”为载体，探索建立、完善、创新各项退役军人工作机制，努力形成一批退役军人工作可复制、可推广的经验和做法。破解服务保障退役军人“最后一公里”问题，增强广大退役军人获得感、幸福感、荣誉感，让他们在“先行示范区和粤港澳大湾区”建设中继续发挥先锋作用。\\n\\n为更好地服务社区退伍军人，3月21日下午，南山区桃源街道桃源社区在社区党群服务站举行退伍军人之家成立仪式。目前，桃源社区登记在册的退伍军人有500余名，分别来自两参（参战、参核）、拓荒牛（机械工程兵），深圳武警、边防、消防等各条战线退役军人。退伍军人之家的成立旨在让社区退伍老兵有一个学习、交流、娱乐的平台，让老兵老有所为、老有所乐，继续发挥余热融入到社区的各项建设当中。当天，在社区党委的指导下，还成立了南山首家社区退伍军人党支部，组建了退伍军人之家委员会、社区军人义工服务队。社区退役军人党支部积极投身长者关爱、社区义务巡逻、风灾清理、校园国防大讲堂爱国主义教育等多项社区公益活动中。\\n\\n像桃源社区一样，服务好退役军人，鼓励退役军人参与社会建设，正是南山区退役军人事务局的重要工作内容。南山辖区内的退役军人，是南山退役军人事务局服务的核心对象，是“...   \n",
       "82   “撮高架”礼赞 ——写在裕溪路高架桥通车之际中国历史上，城市的发展与变迁，总是承载着政治企望与民生滋养的双重性。, , , , , , , , , , , , , , , , , ,, ,康熙六年（公元1667），千古一\\n\\n中国历史上，城市的发展与变迁，总是承载着政治企望与民生滋养的双重性。\\n\\n康熙六年（公元1667），千古一帝如椽巨笔跨江一刀，纵向把江南省劈成两半，取江宁府、苏州府首字称为“江苏省”；取安庆府、徽州首字称为“安徽省”。自此，安徽逐渐形成淮北、江淮和长江以南三大文化圈。\\n\\n唐杜佑《通典》云：“庐州，今理合肥县，古庐子国也。”由此可知合肥历史至少可追溯至周武王时。后秦置合肥县，属九江郡；三国时扬州刺史刘馥单骑造城，合肥第一次有了分管几个郡国的行政地位；北魏改称合州；隋改合州为庐州，又改庐江郡；明始改庐州府。至辛亥革命废府设县，合肥一直都是地市级以上的名都重镇，所谓名出《史记》，源自两淝，上下三千余载，地域最大时方圆万余平方千米。\\n\\n上世纪六十年代的合肥，辖肥东、肥西、长丰三县。城区设中市、西市、东市，郊区四区。大致环城路以内为中市区，五里墩至大蜀山为西市区，以大通路为主轴的工厂区为东市区。而滨湖新区、经开区、政务区、高新区一带均为乡野，而恰恰是这些个位置，给几十年后合肥的飞跃发展提供了广阔的空间和舞台，一如史诗中的“草蛇灰线”，留下了些许痕迹。\\n\\n和新中国发展同步，合肥城市经济建设在前三十年奠定了坚实的基础，尤其是近三十米宽幅的长江路建设，拉开了合肥城市建设的序幕。省委、省政府、省图书馆、省博物馆、合工大、江淮大戏院、合肥饭店、长江饭店、解放电影院等著名的建筑，给这座凋零破败断垣残壁的旧县城焕发了新的光彩。这种仿苏式的建筑，在融合部分中式传统建筑如飞檐，女儿墙、琉璃瓦的元素后，强烈冲击着国人的神经。身着绿军装，手推自行车在仿苏式建筑背景前的影像，硬生生成为整整一个时代的烙印。\\n\\n合肥人推倒了屹立千年的古城墙，浚河叠岸，修建了举国瞩目的“环城公园”，作为全国城市建筑的典范，被收入全国统编地理教材。东春融西夏荫，南冬趣北秋声，四时润泽着这座既古老又年轻的城市。\\n\\n八十年代初期，金寨路北段寿春路西段的改造又获斐声，引得当时的国家总理亲临视察首肯；西园新村和琥珀山庄的建设，成为中国首批获“联合国人居奖”的居住小区。\\n\\n尽...   \n",
       "615  行业洗牌 哀其不幸2019年年底，房地产的江湖仍然暗潮涌动。碧桂园的杨氏家族早早放下了全球第一的执念，以农民的姿态搞起了机器人；万科的郁亮也没有去跑马拉松，而是在云南抚仙湖亲自推荐自家项目；绿地的张玉良一边表示困难是一时的，一边又不得不直面裁员和销量下滑的质疑；中梁的杨剑则在上市敲钟的高光环绕下，大刀阔斧地进行着人事改革和总部裁员；“万通六君子”中最精明的潘石屹被传出“卖楼跑路”后，又亲自站台力证“假摔”；最后还是老大哥冯仑更高一筹，以一句“靠运气赚的钱,今天凭本事又都赔完了”，继续贩卖着地产圈的焦虑。\\n\\n在大佬们的影响下，“共克时艰”成了2019年地产人最爱说的话。中国的房地产市场似乎也一下子从困难模式直接跳到了生存模式。倒闭、跑路、爆雷、碰壁等词汇取代了热销、日光、排队，成为今年的关键词；遭遇困难取代了躺着挣钱成为房地产行业的现状；勒紧腰带也取代歌舞升平成为新的写照。制造了无数财富神话的房地产行业，像被突然按下了重启键一样，行业洗牌加速。\\n\\n房地产生意里有这样一个简单的线条：前期高周转地扩张，建立起遍及全国的规模和自身的品牌优势；后期依靠上市，实现品牌价值的固化，同时通过在资本市场上长袖善舞，为更进一步冲业绩、扩规模添砖加瓦。\\n\\n但今年，这个套路好像不灵了，房地产市场的竞争进行到后半场，比拼就开始变得纯粹。谁手上有钱，谁回款够快，谁就能鹤立鸡群。\\n\\n2019年年初，自称“网红”的房企泰禾率先爆雷，甚至差点栽在了“钱”上。当时媒体爆出泰禾负债超过2000亿元。\\n\\n揭开泰禾资金链问题的，是2018年12月14日泰禾集团连发的三则公告。一是将3家间接持有的子公司全部股权以6.35亿元的价格打包出售；二是将2017年拍得的北京市朝阳区孙河乡北甸西村、西甸村 2902-29号地块的收益权转让给北京信托，以融资35亿元；三是泰禾集团第一大股东泰禾投资集团有限公司及一致行动人向东兴证券等3家公司质押3125万股公司股份，用途为补充质押和融资。\\n\\n由于泰禾连续多年未公布具体销售数额，只公布愿景和目标，因此这三则公告自然迎来了业界对泰禾现金情况的质疑，只是没想到后续的震动来得更快更直接。\\n\\n不久后，泰禾内部也发生变动，2019年1月初财务总监李斌等三名高管离职；1月底泰禾集团总裁助理兼品牌总经理伍小峰离职；不久后，集团副总经理张晋元离职。接连的...   \n",
       "\n",
       "     content_word_count  \n",
       "17                 9781  \n",
       "18                 9136  \n",
       "78                 5381  \n",
       "82                 5175  \n",
       "615                5240  "
      ]
     },
     "execution_count": 38,
     "metadata": {},
     "output_type": "execute_result"
    }
   ],
   "source": [
    "duplicated_sy_risk[duplicated_sy_risk['content_word_count'] > 5000].head()"
   ]
  },
  {
   "cell_type": "markdown",
   "metadata": {},
   "source": [
    "http://baijiahao.baidu.com/s?id=1653204833050706810&wfr=spider&for=pc"
   ]
  },
  {
   "cell_type": "code",
   "execution_count": 39,
   "metadata": {},
   "outputs": [],
   "source": [
    "#定义删除除字母,数字，汉字以外的所有符号的函数\n",
    "def remove_punctuation(line):\n",
    "    line = str(line)\n",
    "    if line.strip()=='':\n",
    "        return ''\n",
    "    rule = re.compile(u\"[^a-zA-Z0-9\\u4E00-\\u9FA5]\")\n",
    "    line = rule.sub('',line)\n",
    "    return line\n",
    " \n",
    "# def stopwordslist(filepath):  \n",
    "#     stopwords = [line.strip() for line in open(filepath, 'r', encoding='utf-8').readlines()]  \n",
    "#     return stopwords  \n",
    " \n",
    "# #加载停用词\n",
    "# stopwords = stopwordslist(\"./data/chineseStopWords.txt\")"
   ]
  },
  {
   "cell_type": "code",
   "execution_count": 40,
   "metadata": {},
   "outputs": [
    {
     "name": "stderr",
     "output_type": "stream",
     "text": [
      "/opt/anaconda3/envs/tensorflow/lib/python3.6/site-packages/ipykernel_launcher.py:1: SettingWithCopyWarning: \n",
      "A value is trying to be set on a copy of a slice from a DataFrame.\n",
      "Try using .loc[row_indexer,col_indexer] = value instead\n",
      "\n",
      "See the caveats in the documentation: https://pandas.pydata.org/pandas-docs/stable/user_guide/indexing.html#returning-a-view-versus-a-copy\n",
      "  \"\"\"Entry point for launching an IPython kernel.\n"
     ]
    }
   ],
   "source": [
    "duplicated_sy_risk['cleaned_word'] = duplicated_sy_risk['title_content'].apply(remove_punctuation)"
   ]
  },
  {
   "cell_type": "code",
   "execution_count": 41,
   "metadata": {},
   "outputs": [
    {
     "name": "stderr",
     "output_type": "stream",
     "text": [
      "Building prefix dict from the default dictionary ...\n",
      "Loading model from cache /var/folders/_t/sz397vz14zvbvb__stdk6pt00000gn/T/jieba.cache\n",
      "Loading model cost 0.625 seconds.\n",
      "Prefix dict has been built successfully.\n",
      "/opt/anaconda3/envs/tensorflow/lib/python3.6/site-packages/ipykernel_launcher.py:2: SettingWithCopyWarning: \n",
      "A value is trying to be set on a copy of a slice from a DataFrame.\n",
      "Try using .loc[row_indexer,col_indexer] = value instead\n",
      "\n",
      "See the caveats in the documentation: https://pandas.pydata.org/pandas-docs/stable/user_guide/indexing.html#returning-a-view-versus-a-copy\n",
      "  \n"
     ]
    }
   ],
   "source": [
    "# 分词\n",
    "duplicated_sy_risk['cut_word'] = duplicated_sy_risk['cleaned_word'].apply(lambda x: \" \".join([w for w in list(jb.cut(x))]))"
   ]
  },
  {
   "cell_type": "code",
   "execution_count": 57,
   "metadata": {},
   "outputs": [
    {
     "data": {
      "text/html": [
       "<div>\n",
       "<style scoped>\n",
       "    .dataframe tbody tr th:only-of-type {\n",
       "        vertical-align: middle;\n",
       "    }\n",
       "\n",
       "    .dataframe tbody tr th {\n",
       "        vertical-align: top;\n",
       "    }\n",
       "\n",
       "    .dataframe thead th {\n",
       "        text-align: right;\n",
       "    }\n",
       "</style>\n",
       "<table border=\"1\" class=\"dataframe\">\n",
       "  <thead>\n",
       "    <tr style=\"text-align: right;\">\n",
       "      <th></th>\n",
       "      <th>id</th>\n",
       "      <th>record_id</th>\n",
       "      <th>customer_id</th>\n",
       "      <th>item_id</th>\n",
       "      <th>item_name</th>\n",
       "      <th>event_time</th>\n",
       "      <th>create_time</th>\n",
       "      <th>update_time</th>\n",
       "      <th>title</th>\n",
       "      <th>content_</th>\n",
       "      <th>label</th>\n",
       "      <th>title_content</th>\n",
       "      <th>content_word_count</th>\n",
       "      <th>cleaned_word</th>\n",
       "      <th>cut_word</th>\n",
       "    </tr>\n",
       "  </thead>\n",
       "  <tbody>\n",
       "    <tr>\n",
       "      <th>1</th>\n",
       "      <td>81555</td>\n",
       "      <td>81555</td>\n",
       "      <td>20</td>\n",
       "      <td>52</td>\n",
       "      <td>亏损盈利</td>\n",
       "      <td>2019-12-18 13:44:21</td>\n",
       "      <td>2020-01-02 11:10:51</td>\n",
       "      <td>2020-01-02 11:10:51</td>\n",
       "      <td>中建一局房地产公司学习宣贯局第五次党代会精神</td>\n",
       "      <td>本网讯（通讯员 孙静娴）12月13日上午，中建一局房地产公司组织召开第七次中心组学习（扩大）会，第一时间对中建一局第五次党代会精神进行专题学习宣贯。此次会议在公司总部会议室设主会场1个，各下属经营机构共设分会场11个，参会人员涉及公司领导班子成员、总部部门负责人及以上干部、各下属经营机构负责人、全体党员及群众代表近100余人。会议由局党委委员、公司党委书记、董事长樊飞军主持。\\n\\n会上，传达学习了罗世威同志在中建一局第五次党代会上所作的《坚持党建引领强化战略执行 永葆组织活力 为创建中国建筑旗下最具核心竞争力的世界一流企业不懈奋斗》的党委工作报告、王希强同志在中建一局第五次党代会上所作的《推进“两个责任”落实 坚决做到“两个维护” 忠实履行党章和宪法赋予的职责 为实现中建一局战略目标提供坚强保障》的纪委工作报告，参会人员对两个报告的内容进行了热烈讨论，并结合企业实际进行了交流研讨。\\n\\n一是以实施“五大聚焦”和“一化三线”战略为主线，加速实现规模发展。深度聚焦国家重点战略地区，聚焦北京、天津、江苏、浙江和上海等战略区域重点城市，并建立研究工作机制，以“政策性住房”产品线为核心，以普通商品住宅产品线为助力，重点突破苏南、南京、北京、天津、南通、宁波等城市。\\n\\n二是以推进公司化建设和精细化管理为核心，加速提升竞争优势。要眼界向外，不断对标学习标杆房企、中建系统内优势企业的先进思想和举措，推进企业治理体系建设和公司化建设，强化精细化管理，以规范、科学的工作机制推动企业高质量发展。\\n\\n三是以紧抓投融资管理和降杠杆减负债为抓手，加速推进高质发展。坚持“两金”压降过程监控，全力降低带息负债。建立健全过程监控管理体系，构建覆盖全生命周期的管理体系，及时识别、防控、化解风险问题，建立风险事项清单及销项制度，加强风险防控与应对能力。\\n\\n四是坚持党的领导，聚焦新时代高质量党建引领高质量发展，夯实成为中建一局价值和效益新担当。必须坚持思想引领，坚定政治站位，将习近平新时代中国特色社会主义思想和党的十九大、十九届四中全会精神贯穿经营发展全过程。深入践行155大党建工作格局，进一步深化党建工作与生产经营一体化；始终锁定“中建一局效益贡献骨干子企业”的战略目标；始终强化战略执行，做到使命必达；始终强化党风廉政建设，营造风清气正政治生态；始终坚持不懈加强领导班子建设和干部队伍建设，夯实改革发展的组织保障。\\n\\n五是要继续组织全体人员深入学习贯彻中建一局第五次党代会会议精神。将中建一局党委和纪委的各项工作要求落到实处，为实现公司五年后营业收入300亿，利润总额30亿的目标不懈奋斗！</td>\n",
       "      <td>1</td>\n",
       "      <td>中建一局房地产公司学习宣贯局第五次党代会精神本网讯（通讯员 孙静娴）12月13日上午，中建一局房地产公司组织召开第七次中心组学习（扩大）会，第一时间对中建一局第五次党代会精神进行专题学习宣贯。此次会议在公司总部会议室设主会场1个，各下属经营机构共设分会场11个，参会人员涉及公司领导班子成员、总部部门负责人及以上干部、各下属经营机构负责人、全体党员及群众代表近100余人。会议由局党委委员、公司党委书记、董事长樊飞军主持。\\n\\n会上，传达学习了罗世威同志在中建一局第五次党代会上所作的《坚持党建引领强化战略执行 永葆组织活力 为创建中国建筑旗下最具核心竞争力的世界一流企业不懈奋斗》的党委工作报告、王希强同志在中建一局第五次党代会上所作的《推进“两个责任”落实 坚决做到“两个维护” 忠实履行党章和宪法赋予的职责 为实现中建一局战略目标提供坚强保障》的纪委工作报告，参会人员对两个报告的内容进行了热烈讨论，并结合企业实际进行了交流研讨。\\n\\n一是以实施“五大聚焦”和“一化三线”战略为主线，加速实现规模发展。深度聚焦国家重点战略地区，聚焦北京、天津、江苏、浙江和上海等战略区域重点城市，并建立研究工作机制，以“政策性住房”产品线为核心，以普通商品住宅产品线为助力，重点突破苏南、南京、北京、天津、南通、宁波等城市。\\n\\n二是以推进公司化建设和精细化管理为核心，加速提升竞争优势。要眼界向外，不断对标学习标杆房企、中建系统内优势企业的先进思想和举措，推进企业治理体系建设和公司化建设，强化精细化管理，以规范、科学的工作机制推动企业高质量发展。\\n\\n三是以紧抓投融资管理和降杠杆减负债为抓手，加速推进高质发展。坚持“两金”压降过程监控，全力降低带息负债。建立健全过程监控管理体系，构建覆盖全生命周期的管理体系，及时识别、防控、化解风险问题，建立风险事项清单及销项制度，加强风险防控与应对能力。\\n\\n四是坚持党的领导，聚焦新时代高质量党建引领高质量发展，夯实成为中建一局价值和效益新担当。必须坚持思想引领，坚定政治站位，将习近平新时代中国特色社会主义思想和党的十九大、十九届四中全会精神贯穿经营发展全过程。深入践行155大党建工作格局，进一步深化党建工作与生产经营一体化；始终锁定“中建一局效益贡献骨干子企业”的战略目标；始终强化战略执行，做到使命必达；始终强化党风廉政建设，营造风清气正政治生态；始终坚持不懈加强领导班子建设和干部队伍建设，夯实改革发展的组织保障。\\n\\n五是要继续组织全体人员深入学习贯彻中建一局第五次党代会会议精神。将中建一局党委和纪委的各项工作要求落到实处，为实现公司五年后营业收入300亿，利润总额30亿的目标不懈奋斗！</td>\n",
       "      <td>1113</td>\n",
       "      <td>中建一局房地产公司学习宣贯局第五次党代会精神本网讯通讯员孙静娴12月13日上午中建一局房地产公司组织召开第七次中心组学习扩大会第一时间对中建一局第五次党代会精神进行专题学习宣贯此次会议在公司总部会议室设主会场1个各下属经营机构共设分会场11个参会人员涉及公司领导班子成员总部部门负责人及以上干部各下属经营机构负责人全体党员及群众代表近100余人会议由局党委委员公司党委书记董事长樊飞军主持会上传达学习了罗世威同志在中建一局第五次党代会上所作的坚持党建引领强化战略执行永葆组织活力为创建中国建筑旗下最具核心竞争力的世界一流企业不懈奋斗的党委工作报告王希强同志在中建一局第五次党代会上所作的推进两个责任落实坚决做到两个维护忠实履行党章和宪法赋予的职责为实现中建一局战略目标提供坚强保障的纪委工作报告参会人员对两个报告的内容进行了热烈讨论并结合企业实际进行了交流研讨一是以实施五大聚焦和一化三线战略为主线加速实现规模发展深度聚焦国家重点战略地区聚焦北京天津江苏浙江和上海等战略区域重点城市并建立研究工作机制以政策性住房产品线为核心以普通商品住宅产品线为助力重点突破苏南南京北京天津南通宁波等城市二是以推进公司化建设和精细化管理为核心加速提升竞争优势要眼界向外不断对标学习标杆房企中建系统内优势企业的先进思想和举措推进企业治理体系建设和公司化建设强化精细化管理以规范科学的工作机制推动企业高质量发展三是以紧抓投融资管理和降杠杆减负债为抓手加速推进高质发展坚持两金压降过程监控全力降低带息负债建立健全过程监控管理体系构建覆盖全生命周期的管理体系及时识别防控化解风险问题建立风险事项清单及销项制度加强风险防控与应对能力四是坚持党的领导聚焦新时代高质量党建引领高质量发展夯实成为中建一局价值和效益新担当必须坚持思想引领坚定政治站位将习近平新时代中国特色社会主义思想和党的十九大十九届四中全会精神贯穿经营发展全过程深入践行155大党建工作格局进一步深化党建工作与生产经营一体化始终锁定中建一局效益贡献骨干子企业的战略目标始终强化战略执行做到使命必达始终强化党风廉政建设营造风清气正政治生态始终坚持不懈加强领导班子建设和干部队伍建设夯实改革发展的组织保障五是要继续组织全体人员深入学习贯彻中建一局第五次党代会会议精神将中建一局党委和纪委的各项工作要求落到实处为实现公司五年后营业收入300亿利润总额30亿的目标不懈奋斗</td>\n",
       "      <td>中建 一局 房地产 公司 学习 宣贯局 第五次 党代会 精神 本 网讯 通讯员 孙静 娴 12 月 13 日 上午 中建 一局 房地产 公司 组织 召开 第七次 中心组 学习 扩大会 第一 时间 对 中建 一局 第五次 党代会 精神 进行 专题学习 宣贯 此次 会议 在 公司总部 会议室 设 主会场 1 个 各 下属 经营 机构 共设 分会场 11 个 参会 人员 涉及 公司 领导班子 成员 总部 部门 负责人 及 以上 干部 各 下属 经营 机构 负责人 全体 党员 及 群众 代表 近 100 余人 会议 由局 党委委员 公司 党委书记 董事长 樊飞军 主持 会上 传达 学习 了 罗世威 同志 在 中建 一局 第五次 党代会 上 所作 的 坚持 党建 引领 强化 战略 执行 永葆 组织 活力 为 创建 中国 建筑 旗下 最具 核心 竞争力 的 世界 一流 企业 不懈 奋斗 的 党委 工作 报告 王希强 同志 在 中建 一局 第五次 党代会 上 所作 的 推进 两个 责任 落实 坚决 做到 两个 维护 忠实 履行 党章 和 宪法 赋予 的 职责 为 实现 中建 一局 战略目标 提供 坚强 保障 的 纪委 工作 报告 参会 人员 对 两个 报告 的 内容 进行 了 热烈 讨论 并 结合 企业 实际 进行 了 交流 研讨 一是 以 实施 五大 聚焦 和 一化 三线 战略 为主 线 加速 实现 规模 发展 深度 聚焦 国家 重点 战略 地区 聚焦 北京 天津 江苏 浙江 和 上海 等 战略 区域 重点 城市 并 建立 研究 工作 机制 以 政策性 住房 产品线 为 核心 以 普通 商品住宅 产品线 为 助力 重点 突破 苏南 南京 北京 天津 南通 宁波 等 城市 二是 以 推进 公司化 建设 和 精细化 管理 为 核心 加速 提升 竞争 优势 要 眼界 向外 不断 对标 学习 标杆 房企 中建 系统 内 优势 企业 的 先进 思想 和 举措 推进 企业 治理 体系 建设 和 公司化 建设 强化 精细化 管理 以 规范 科学 的 工作 机制 推动 企业 高质量 发展 三是 以 紧抓 投融资 管理 和 降 杠杆 减 负债 为 抓手 加速 推进 高质 发展 坚持 两金 压降 过程 监控 全力 降低 带息 负债 建立健全 过程 监控 管理体系 构建 覆盖 全 生命周期 的 管理体系 及时 识别 防控 化解 风险 问题 建立 风险 事项 清单 及 销项 制度 加强 风险 防控 与 应对 能力 四是 坚持 党的领导 聚焦 新 时代 高质量 党建 引领 高质量 发展 夯实 成为 中建 一局 价值 和 效益 新 担当 必须 坚持 思想 引领 坚定 政治 站位 将 习近平 新 时代 中国 特色 社会主义 思想 和 党 的 十九 大 十九 届 四中全会 精神 贯穿 经营 发展 全过程 深入 践行 155 大 党建 工作 格局 进一步 深化 党建 工作 与 生产 经营 一体化 始终 锁定 中建 一局 效益 贡献 骨干 子 企业 的 战略目标 始终 强化 战略 执行 做到 使命 必达 始终 强化 党风廉政 建设 营造 风清气 正 政治 生态 始终 坚持不懈 加强 领导班子 建设 和 干部队伍 建设 夯实 改革 发展 的 组织 保障 五是 要 继续 组织 全体人员 深入 学习 贯彻 中建 一局 第五次 党代会 会议 精神 将 中建 一局 党委 和 纪委 的 各项 工作 要求 落到实处 为 实现 公司 五年 后 营业 收入 300 亿 利润总额 30 亿 的 目标 不懈 奋斗</td>\n",
       "    </tr>\n",
       "    <tr>\n",
       "      <th>2</th>\n",
       "      <td>81556</td>\n",
       "      <td>81556</td>\n",
       "      <td>20</td>\n",
       "      <td>52</td>\n",
       "      <td>亏损盈利</td>\n",
       "      <td>2019-12-13 04:08:16</td>\n",
       "      <td>2020-01-02 11:10:51</td>\n",
       "      <td>2020-01-02 11:10:51</td>\n",
       "      <td>三项制度改革让“能者上、平者让、庸者下”</td>\n",
       "      <td>原标题：三项制度改革让“能者上、平者让、庸者下”\\n\\n11月11日，中建一局二公司生产组织中心主任公开竞聘面试正在进行，经过前期的资料审核、岗位资格审查和管理测评，共有3名竞聘人员进入最终的结构化面试环节。\\n\\n孟繁健是参加本次竞聘的人员之一，而这并不是他第一次参加公司的市场化公开竞聘。3年前，孟繁健通过竞聘成为公司某项目的总监，3年后，尝到竞聘“甜头”的孟繁健决定挑战新岗位、迎接新任务。\\n\\n随着改革的深入推进，中建一局二公司在市场化经营机制改革方面不断强化升级，近两年完成了公司总部部门副职以上的全员公开竞聘上岗，为进一步实施市场化选聘和契约化管理奠定了基础。\\n\\n2018年，中建一局二公司入选国企改革“双百行动”企业，成为中建集团旗下入选“双百企业”的两家单位之一。近两年来，中建一局二公司按照“完善治理、强化激励、突出主业、提高效率”的方针，稳妥推进股权多元化和混合所有制改革、完善市场化经营机制、健全激励约束机制，并取得阶段性成果。\\n\\n随着企业整体规模的快速扩张，转型升级战略的不断深入，中建一局二公司人均创效水平不高，“人员短缺”与“人员冗余”同时存在；基础设施、海外以及投融资等转型板块高端人才引进渠道略为单一，对企业转型升级支撑力度不够；市场化程度不高，激励方式相对单一，差异化和业绩导向不够明确等问题逐渐显现。\\n\\n为此，中建一局二公司以深化人事、劳动、分配三项制度改革为抓手，推行与市场化经营机制相匹配的选人用人机制、用工分配体系改革，实现“干部能上能下，员工能进能出，薪酬能增能减”，让三项制度改革成为企业改革的助推器。\\n\\n为激发管理团队活力，中建一局二公司建立标准明确、程序规范、结果公平的选人用人工作机制，逐步做到“能者上、平者让、庸者下”，不断提升领导人员五位一体能力素养。同时，坚持业绩与能力导向，通过定期开展薪酬盘点、三维六指模型人力资源价值指数的对标晾晒，差异化设计薪酬标准，让企业的资源投入更精准。\\n\\n经过近两年的探索和实践，改革对企业发展的促进作用日益凸显。预计2019年，中建一局二公司合同额将达320亿元、营业收入达125亿元，企业的竞争力、创新力、控制力、影响力、抗风险能力不断增强，改革红利持续释放。\\n\\n“希望通过中建一局二公司‘双百行动’这个点上的示范突破，探索形成可复制、可推广的改革经验，带动全局的改革向纵深推进，为全面深化国有企业改革提供有效的借鉴。”中建一局党委书记、董事长罗世威说。</td>\n",
       "      <td>1</td>\n",
       "      <td>三项制度改革让“能者上、平者让、庸者下”原标题：三项制度改革让“能者上、平者让、庸者下”\\n\\n11月11日，中建一局二公司生产组织中心主任公开竞聘面试正在进行，经过前期的资料审核、岗位资格审查和管理测评，共有3名竞聘人员进入最终的结构化面试环节。\\n\\n孟繁健是参加本次竞聘的人员之一，而这并不是他第一次参加公司的市场化公开竞聘。3年前，孟繁健通过竞聘成为公司某项目的总监，3年后，尝到竞聘“甜头”的孟繁健决定挑战新岗位、迎接新任务。\\n\\n随着改革的深入推进，中建一局二公司在市场化经营机制改革方面不断强化升级，近两年完成了公司总部部门副职以上的全员公开竞聘上岗，为进一步实施市场化选聘和契约化管理奠定了基础。\\n\\n2018年，中建一局二公司入选国企改革“双百行动”企业，成为中建集团旗下入选“双百企业”的两家单位之一。近两年来，中建一局二公司按照“完善治理、强化激励、突出主业、提高效率”的方针，稳妥推进股权多元化和混合所有制改革、完善市场化经营机制、健全激励约束机制，并取得阶段性成果。\\n\\n随着企业整体规模的快速扩张，转型升级战略的不断深入，中建一局二公司人均创效水平不高，“人员短缺”与“人员冗余”同时存在；基础设施、海外以及投融资等转型板块高端人才引进渠道略为单一，对企业转型升级支撑力度不够；市场化程度不高，激励方式相对单一，差异化和业绩导向不够明确等问题逐渐显现。\\n\\n为此，中建一局二公司以深化人事、劳动、分配三项制度改革为抓手，推行与市场化经营机制相匹配的选人用人机制、用工分配体系改革，实现“干部能上能下，员工能进能出，薪酬能增能减”，让三项制度改革成为企业改革的助推器。\\n\\n为激发管理团队活力，中建一局二公司建立标准明确、程序规范、结果公平的选人用人工作机制，逐步做到“能者上、平者让、庸者下”，不断提升领导人员五位一体能力素养。同时，坚持业绩与能力导向，通过定期开展薪酬盘点、三维六指模型人力资源价值指数的对标晾晒，差异化设计薪酬标准，让企业的资源投入更精准。\\n\\n经过近两年的探索和实践，改革对企业发展的促进作用日益凸显。预计2019年，中建一局二公司合同额将达320亿元、营业收入达125亿元，企业的竞争力、创新力、控制力、影响力、抗风险能力不断增强，改革红利持续释放。\\n\\n“希望通过中建一局二公司‘双百行动’这个点上的示范突破，探索形成可复制、可推广的改革经验，带动全局的改革向纵深推进，为全面深化国有企业改革提供有效的借鉴。”中建一局党委书记、董事长罗世威说。</td>\n",
       "      <td>1038</td>\n",
       "      <td>三项制度改革让能者上平者让庸者下原标题三项制度改革让能者上平者让庸者下11月11日中建一局二公司生产组织中心主任公开竞聘面试正在进行经过前期的资料审核岗位资格审查和管理测评共有3名竞聘人员进入最终的结构化面试环节孟繁健是参加本次竞聘的人员之一而这并不是他第一次参加公司的市场化公开竞聘3年前孟繁健通过竞聘成为公司某项目的总监3年后尝到竞聘甜头的孟繁健决定挑战新岗位迎接新任务随着改革的深入推进中建一局二公司在市场化经营机制改革方面不断强化升级近两年完成了公司总部部门副职以上的全员公开竞聘上岗为进一步实施市场化选聘和契约化管理奠定了基础2018年中建一局二公司入选国企改革双百行动企业成为中建集团旗下入选双百企业的两家单位之一近两年来中建一局二公司按照完善治理强化激励突出主业提高效率的方针稳妥推进股权多元化和混合所有制改革完善市场化经营机制健全激励约束机制并取得阶段性成果随着企业整体规模的快速扩张转型升级战略的不断深入中建一局二公司人均创效水平不高人员短缺与人员冗余同时存在基础设施海外以及投融资等转型板块高端人才引进渠道略为单一对企业转型升级支撑力度不够市场化程度不高激励方式相对单一差异化和业绩导向不够明确等问题逐渐显现为此中建一局二公司以深化人事劳动分配三项制度改革为抓手推行与市场化经营机制相匹配的选人用人机制用工分配体系改革实现干部能上能下员工能进能出薪酬能增能减让三项制度改革成为企业改革的助推器为激发管理团队活力中建一局二公司建立标准明确程序规范结果公平的选人用人工作机制逐步做到能者上平者让庸者下不断提升领导人员五位一体能力素养同时坚持业绩与能力导向通过定期开展薪酬盘点三维六指模型人力资源价值指数的对标晾晒差异化设计薪酬标准让企业的资源投入更精准经过近两年的探索和实践改革对企业发展的促进作用日益凸显预计2019年中建一局二公司合同额将达320亿元营业收入达125亿元企业的竞争力创新力控制力影响力抗风险能力不断增强改革红利持续释放希望通过中建一局二公司双百行动这个点上的示范突破探索形成可复制可推广的改革经验带动全局的改革向纵深推进为全面深化国有企业改革提供有效的借鉴中建一局党委书记董事长罗世威说</td>\n",
       "      <td>三项 制度 改革 让 能者 上 平者 让 庸者 下原 标题 三项 制度 改革 让 能者 上 平者 让 庸者 下 11 月 11 日 中建 一局 二 公司 生产 组织 中心 主任 公开 竞聘 面试 正在 进行 经过 前期 的 资料 审核 岗位 资格 审查 和 管理 测评 共有 3 名 竞聘 人员 进入 最终 的 结构化 面试 环节 孟繁 健是 参加 本次 竞聘 的 人员 之一 而 这 并 不是 他 第一次 参加 公司 的 市场化 公开 竞聘 3 年前 孟繁健 通过 竞聘 成为 公司 某 项目 的 总监 3 年 后 尝到 竞聘 甜头 的 孟 繁健 决定 挑战 新 岗位 迎接 新 任务 随着 改革 的 深入 推进 中建 一局 二 公司 在 市场化 经营机制 改革 方面 不断 强化 升级 近两年 完成 了 公司总部 部门 副职 以上 的 全员 公开 竞聘上岗 为 进一步 实施 市场化 选聘 和 契约化 管理 奠定 了 基础 2018 年 中建 一局 二 公司 入选 国企改革 双百 行动 企业 成为 中建 集团 旗下 入选 双百 企业 的 两家 单位 之一 近两年来 中建 一局 二 公司 按照 完善 治理 强化 激励 突出 主业 提高效率 的 方针 稳妥 推进 股权 多元化 和 混合 所有制 改革 完善 市场化 经营机制 健全 激励 约束 机制 并 取得 阶段性 成果 随着 企业 整体 规模 的 快速 扩张 转型 升级 战略 的 不断深入 中建 一局 二 公司 人均 创效 水平 不高 人员 短缺 与 人员 冗余 同时 存在 基础设施 海外 以及 投融资 等 转型 板块 高端 人才 引进 渠道 略为 单一 对 企业 转型 升级 支撑 力度 不够 市场化 程度 不高 激励 方式 相对 单一 差异化 和 业绩 导向 不够 明确 等 问题 逐渐 显现 为此 中建 一局 二 公司 以 深化 人事 劳动 分配 三项 制度 改革 为 抓手 推行 与 市场化 经营机制 相匹配 的 选人 用人 机制 用工 分配 体系 改革 实现 干部 能上能下 员工 能进能出 薪酬 能增能减 让 三项 制度 改革 成为 企业 改革 的 助推器 为 激发 管理 团队 活力 中建 一局 二 公司 建立 标准 明确 程序 规范 结果 公平 的 选人 用人 工作 机制 逐步 做到 能者 上 平者 让 庸者 下 不断 提升 领导人员 五位一体 能力 素养 同时 坚持 业绩 与 能力 导向 通过 定期 开展 薪酬 盘点 三维 六指 模型 人力资源 价值 指数 的 对标 晾晒 差异化 设计 薪酬 标准 让 企业 的 资源 投入 更 精准 经过 近两年 的 探索 和 实践 改革 对 企业 发展 的 促进作用 日益 凸显 预计 2019 年 中建 一局 二 公司 合同额 将 达 320 亿元 营业 收入 达 125 亿元 企业 的 竞争力 创新力 控制力 影响力 抗 风险 能力 不断 增强 改革 红利 持续 释放 希望 通过 中建 一局 二 公司 双百 行动 这个 点上 的 示范 突破 探索 形成 可 复制 可 推广 的 改革 经验 带动 全局 的 改革 向 纵深 推进 为 全面 深化 国有企业 改革 提供 有效 的 借鉴 中建 一局 党委书记 董事长 罗世威 说</td>\n",
       "    </tr>\n",
       "    <tr>\n",
       "      <th>3</th>\n",
       "      <td>81557</td>\n",
       "      <td>81557</td>\n",
       "      <td>20</td>\n",
       "      <td>62</td>\n",
       "      <td>停业暂停</td>\n",
       "      <td>2019-12-11 10:20:34</td>\n",
       "      <td>2020-01-02 11:10:52</td>\n",
       "      <td>2020-01-02 11:10:52</td>\n",
       "      <td>荆门市大气污染防治百日攻坚专班全面检查大气污染问题</td>\n",
       "      <td>开展此次检查，旨在持续做好重污染橙色预警期间的应急管控及省生态环境厅定点帮扶暨驻点执法第六工作组交办问题的整改工作。当日，出动了11个现场组、近80人次，先后检查建筑工地41个、企业13家、餐饮店2家、机动车179辆，共发现问题20个，其中建筑工地14个、企业2个、餐饮1家、机动车3辆。\\n\\n根据检查结果，建筑工地存在的问题主要是现场砂石裸露、渣土未覆盖、清洗车池设置不规范等。如中建一局施工工地在进行土方作业，检查组现场责令停工，要求覆盖裸土。汉阳市政挖机在施工，检查组现场责令停工。在掇刀地税路，检查组发现有大型机械作业，责令施工方停工。在荆门高新区·掇刀区精忠大道金福源院内，有两家木材加工厂，均存在未办理环保相关手续、木材切割过程中产生木屑未进行收集处理的问题。</td>\n",
       "      <td>1</td>\n",
       "      <td>荆门市大气污染防治百日攻坚专班全面检查大气污染问题开展此次检查，旨在持续做好重污染橙色预警期间的应急管控及省生态环境厅定点帮扶暨驻点执法第六工作组交办问题的整改工作。当日，出动了11个现场组、近80人次，先后检查建筑工地41个、企业13家、餐饮店2家、机动车179辆，共发现问题20个，其中建筑工地14个、企业2个、餐饮1家、机动车3辆。\\n\\n根据检查结果，建筑工地存在的问题主要是现场砂石裸露、渣土未覆盖、清洗车池设置不规范等。如中建一局施工工地在进行土方作业，检查组现场责令停工，要求覆盖裸土。汉阳市政挖机在施工，检查组现场责令停工。在掇刀地税路，检查组发现有大型机械作业，责令施工方停工。在荆门高新区·掇刀区精忠大道金福源院内，有两家木材加工厂，均存在未办理环保相关手续、木材切割过程中产生木屑未进行收集处理的问题。</td>\n",
       "      <td>360</td>\n",
       "      <td>荆门市大气污染防治百日攻坚专班全面检查大气污染问题开展此次检查旨在持续做好重污染橙色预警期间的应急管控及省生态环境厅定点帮扶暨驻点执法第六工作组交办问题的整改工作当日出动了11个现场组近80人次先后检查建筑工地41个企业13家餐饮店2家机动车179辆共发现问题20个其中建筑工地14个企业2个餐饮1家机动车3辆根据检查结果建筑工地存在的问题主要是现场砂石裸露渣土未覆盖清洗车池设置不规范等如中建一局施工工地在进行土方作业检查组现场责令停工要求覆盖裸土汉阳市政挖机在施工检查组现场责令停工在掇刀地税路检查组发现有大型机械作业责令施工方停工在荆门高新区掇刀区精忠大道金福源院内有两家木材加工厂均存在未办理环保相关手续木材切割过程中产生木屑未进行收集处理的问题</td>\n",
       "      <td>荆门市 大气污染 防治 百日 攻坚 专班 全面 检查 大气污染 问题 开展 此次 检查 旨在 持续 做好 重 污染 橙色 预警 期间 的 应急 管控 及省 生态环境 厅 定点 帮扶 暨 驻点 执法 第六 工作组 交办 问题 的 整改 工作 当日 出动 了 11 个 现场 组近 80 人次 先后 检查 建筑工地 41 个 企业 13 家 餐饮店 2 家 机动车 179 辆 共 发现 问题 20 个 其中 建筑工地 14 个 企业 2 个 餐饮 1 家 机动车 3 辆 根据 检查 结果 建筑工地 存在 的 问题 主要 是 现场 砂石 裸露 渣土 未 覆盖 清洗 车池 设置 不 规范 等 如 中建 一局 施工 工地 在 进行 土方 作业 检查组 现场 责令 停工 要求 覆盖 裸土 汉阳 市政 挖机 在 施工 检查组 现场 责令 停工 在 掇刀 地税 路 检查组 发现 有 大型 机械 作业 责令 施工方 停工 在 荆门 高新区 掇刀区 精忠 大道 金 福源 院内 有 两家 木材 加工厂 均 存在 未办理 环保 相关 手续 木材 切割 过程 中 产生 木屑 未 进行 收集 处理 的 问题</td>\n",
       "    </tr>\n",
       "    <tr>\n",
       "      <th>4</th>\n",
       "      <td>81558</td>\n",
       "      <td>81558</td>\n",
       "      <td>58</td>\n",
       "      <td>50</td>\n",
       "      <td>经营业务</td>\n",
       "      <td>2019-12-30 08:31:09</td>\n",
       "      <td>2020-01-02 11:10:53</td>\n",
       "      <td>2020-01-02 11:10:53</td>\n",
       "      <td>郑州六家工地劳动用工标准受到通报表彰</td>\n",
       "      <td>原标题：六家工地劳动用工标准受到通报表彰记者29日从郑州城乡建设局了解到，今年第四季度，有6个建设工程项目被评为建设工程劳动用工标准化工地，因此受到郑州城建局的通报表彰。6个建设工程项目包括：宏江金贸\\n\\n记者29日从郑州城乡建设局了解到，今年第四季度，有6个建设工程项目被评为建设工程劳动用工标准化工地，因此受到郑州城建局的通报表彰。\\n\\n6个建设工程项目包括：宏江金贸中心[河南省对外建设有限公司承建]，新田印象商业中心[中国建筑一局（集团）有限公司承建]，郑州轨道交通6号线市政配套工程土建施工03标段[中国建筑一局（集团）有限公司承建]，中原区·郑州中原新区庙王安置区西地块一标段[河南六建建筑集团有限公司承建]，中原区·郑州中原新区马庄安置区东地块二标段[郑州一建集团有限公司承建]，荥阳市·瀚宇天悦湾2号院一期[河南领域建设工程有限公司承建]。</td>\n",
       "      <td>1</td>\n",
       "      <td>郑州六家工地劳动用工标准受到通报表彰原标题：六家工地劳动用工标准受到通报表彰记者29日从郑州城乡建设局了解到，今年第四季度，有6个建设工程项目被评为建设工程劳动用工标准化工地，因此受到郑州城建局的通报表彰。6个建设工程项目包括：宏江金贸\\n\\n记者29日从郑州城乡建设局了解到，今年第四季度，有6个建设工程项目被评为建设工程劳动用工标准化工地，因此受到郑州城建局的通报表彰。\\n\\n6个建设工程项目包括：宏江金贸中心[河南省对外建设有限公司承建]，新田印象商业中心[中国建筑一局（集团）有限公司承建]，郑州轨道交通6号线市政配套工程土建施工03标段[中国建筑一局（集团）有限公司承建]，中原区·郑州中原新区庙王安置区西地块一标段[河南六建建筑集团有限公司承建]，中原区·郑州中原新区马庄安置区东地块二标段[郑州一建集团有限公司承建]，荥阳市·瀚宇天悦湾2号院一期[河南领域建设工程有限公司承建]。</td>\n",
       "      <td>394</td>\n",
       "      <td>郑州六家工地劳动用工标准受到通报表彰原标题六家工地劳动用工标准受到通报表彰记者29日从郑州城乡建设局了解到今年第四季度有6个建设工程项目被评为建设工程劳动用工标准化工地因此受到郑州城建局的通报表彰6个建设工程项目包括宏江金贸记者29日从郑州城乡建设局了解到今年第四季度有6个建设工程项目被评为建设工程劳动用工标准化工地因此受到郑州城建局的通报表彰6个建设工程项目包括宏江金贸中心河南省对外建设有限公司承建新田印象商业中心中国建筑一局集团有限公司承建郑州轨道交通6号线市政配套工程土建施工03标段中国建筑一局集团有限公司承建中原区郑州中原新区庙王安置区西地块一标段河南六建建筑集团有限公司承建中原区郑州中原新区马庄安置区东地块二标段郑州一建集团有限公司承建荥阳市瀚宇天悦湾2号院一期河南领域建设工程有限公司承建</td>\n",
       "      <td>郑州 六家 工地 劳动 用工 标准 受到 通报 表彰 原 标题 六家 工地 劳动 用工 标准 受到 通报 表彰 记者 29 日 从 郑州 城乡 建设局 了解 到 今年 第四季度 有 6 个 建设 工程项目 被 评为 建设工程 劳动 用工 标准化 工地 因此 受到 郑州 城建局 的 通报 表彰 6 个 建设 工程项目 包括 宏江 金贸 记者 29 日 从 郑州 城乡 建设局 了解 到 今年 第四季度 有 6 个 建设 工程项目 被 评为 建设工程 劳动 用工 标准化 工地 因此 受到 郑州 城建局 的 通报 表彰 6 个 建设 工程项目 包括 宏江 金贸 中心 河南省 对外 建设 有限公司 承建 新田 印象 商业中心 中国 建筑 一局 集团 有限公司 承建 郑州 轨道交通 6 号线 市政 配套工程 土建 施工 03 标段 中国 建筑 一局 集团 有限公司 承建 中原区 郑州 中原 新区 庙王 安置 区西 地块 一 标段 河南 六建 建筑 集团 有限公司 承建 中原区 郑州 中原 新区 马庄 安置 区东 地块 二 标段 郑州 一建 集团 有限公司 承建 荥阳市 瀚宇 天悦湾 2 号院 一期 河南 领域 建设工程 有限公司 承建</td>\n",
       "    </tr>\n",
       "    <tr>\n",
       "      <th>5</th>\n",
       "      <td>81559</td>\n",
       "      <td>81559</td>\n",
       "      <td>20</td>\n",
       "      <td>50</td>\n",
       "      <td>经营业务</td>\n",
       "      <td>2019-12-28 11:48:33</td>\n",
       "      <td>2020-01-02 11:10:53</td>\n",
       "      <td>2020-01-02 11:10:53</td>\n",
       "      <td>【重磅】斥资3亿多!高72米!巢湖这一大型门急诊综合楼破土动工.</td>\n",
       "      <td>合肥八院始建于1952年，俗称三康医院，已走过67年的辉煌历史，是一所集医疗、护理、保健、教学、科研为一体的综合性国家二级甲等医院。近年来，医院的办院规模逐步扩大，服务水平逐步提高，贏得了社会各界普遍赞誉。\\n\\n随着巢湖市人口的增长和社会经济的发展，合肥市八院在硬件设施上已跟不上发展的步伐，社会和群众对医疗的需求越来越大，要求越来越高，兴建综合多功能的门急诊综合大楼，改善医院就医环境，是医院发展的必然要求。\\n\\n为改善合肥市八院医疗环境、设施，合肥市委市政府拨款3.36亿元用于新建地下2层、地上16层，总建筑面积41540平方米的现代化门急诊综合大楼。工程竣工后，将大大改善合肥市八院医疗卫生环境，促进巢湖市卫生事业的发展。\\n\\n合肥市八院新的门急诊综合楼计划建设工期720天，整个项目由中建一局负责建设，预计在2021年底竣工验收并投入使用。 新大楼完工后，该院床位总数将达到1000张。\\n\\n今天，合肥市八院还与中国红十字会合作，邀请中国科技大学附属第一医院、安徽医科大学附属医院知名专家举办“医路相伴”——专家进基层大型公益义诊和授牌仪式。\\n\\n今天，合肥市八院新门急诊综合楼项目正式开工，这是该院建设发展史上的重要里程碑，是跨越发展、创建三甲医院的崭新突破口，也是提高医院整体服务能力，增强综合实力的关键着力点，建成后将大大改善巢湖老百姓的就医环境。</td>\n",
       "      <td>1</td>\n",
       "      <td>【重磅】斥资3亿多!高72米!巢湖这一大型门急诊综合楼破土动工.合肥八院始建于1952年，俗称三康医院，已走过67年的辉煌历史，是一所集医疗、护理、保健、教学、科研为一体的综合性国家二级甲等医院。近年来，医院的办院规模逐步扩大，服务水平逐步提高，贏得了社会各界普遍赞誉。\\n\\n随着巢湖市人口的增长和社会经济的发展，合肥市八院在硬件设施上已跟不上发展的步伐，社会和群众对医疗的需求越来越大，要求越来越高，兴建综合多功能的门急诊综合大楼，改善医院就医环境，是医院发展的必然要求。\\n\\n为改善合肥市八院医疗环境、设施，合肥市委市政府拨款3.36亿元用于新建地下2层、地上16层，总建筑面积41540平方米的现代化门急诊综合大楼。工程竣工后，将大大改善合肥市八院医疗卫生环境，促进巢湖市卫生事业的发展。\\n\\n合肥市八院新的门急诊综合楼计划建设工期720天，整个项目由中建一局负责建设，预计在2021年底竣工验收并投入使用。 新大楼完工后，该院床位总数将达到1000张。\\n\\n今天，合肥市八院还与中国红十字会合作，邀请中国科技大学附属第一医院、安徽医科大学附属医院知名专家举办“医路相伴”——专家进基层大型公益义诊和授牌仪式。\\n\\n今天，合肥市八院新门急诊综合楼项目正式开工，这是该院建设发展史上的重要里程碑，是跨越发展、创建三甲医院的崭新突破口，也是提高医院整体服务能力，增强综合实力的关键着力点，建成后将大大改善巢湖老百姓的就医环境。</td>\n",
       "      <td>609</td>\n",
       "      <td>重磅斥资3亿多高72米巢湖这一大型门急诊综合楼破土动工合肥八院始建于1952年俗称三康医院已走过67年的辉煌历史是一所集医疗护理保健教学科研为一体的综合性国家二级甲等医院近年来医院的办院规模逐步扩大服务水平逐步提高贏得了社会各界普遍赞誉随着巢湖市人口的增长和社会经济的发展合肥市八院在硬件设施上已跟不上发展的步伐社会和群众对医疗的需求越来越大要求越来越高兴建综合多功能的门急诊综合大楼改善医院就医环境是医院发展的必然要求为改善合肥市八院医疗环境设施合肥市委市政府拨款336亿元用于新建地下2层地上16层总建筑面积41540平方米的现代化门急诊综合大楼工程竣工后将大大改善合肥市八院医疗卫生环境促进巢湖市卫生事业的发展合肥市八院新的门急诊综合楼计划建设工期720天整个项目由中建一局负责建设预计在2021年底竣工验收并投入使用新大楼完工后该院床位总数将达到1000张今天合肥市八院还与中国红十字会合作邀请中国科技大学附属第一医院安徽医科大学附属医院知名专家举办医路相伴专家进基层大型公益义诊和授牌仪式今天合肥市八院新门急诊综合楼项目正式开工这是该院建设发展史上的重要里程碑是跨越发展创建三甲医院的崭新突破口也是提高医院整体服务能力增强综合实力的关键着力点建成后将大大改善巢湖老百姓的就医环境</td>\n",
       "      <td>重磅 斥资 3 亿多 高 72 米 巢湖 这一 大型 门急诊 综合楼 破土动工 合肥 八院 始建 于 1952 年 俗称 三康 医院 已 走过 67 年 的 辉煌 历史 是 一所 集 医疗 护理 保健 教学科研 为 一体 的 综合性 国家 二级 甲等医院 近年来 医院 的 办院 规模 逐步 扩大 服务水平 逐步提高 贏得 了 社会各界 普遍 赞誉 随着 巢湖市 人口 的 增长 和 社会 经济 的 发展 合肥市 八院 在 硬件 设施 上 已 跟不上 发展 的 步伐 社会 和 群众 对 医疗 的 需求 越来越 大 要求 越来越 高 兴建 综合 多功能 的 门急诊 综合 大楼 改善 医院 就医 环境 是 医院 发展 的 必然 要求 为 改善 合肥市 八院 医疗 环境 设施 合肥 市委 市政府 拨款 336 亿元 用于 新建 地下 2 层 地上 16 层 总 建筑面积 41540 平方米 的 现代化 门急诊 综合 大楼 工程 竣工 后 将 大大 改善 合肥市 八院 医疗卫生 环境 促进 巢湖市 卫生事业 的 发展 合肥市 八院 新 的 门急诊 综合楼 计划 建设 工期 720 天 整个 项目 由 中建 一局 负责 建设 预计 在 2021 年底 竣工 验收 并 投入使用 新 大楼 完工后 该院 床位 总数 将 达到 1000 张 今天 合肥市 八院 还 与 中国红十字会 合作 邀请 中国科技大学 附属 第一 医院 安徽医科大学 附属 医院 知名 专家 举办 医路 相伴 专家 进 基层 大型 公益 义诊 和 授牌 仪式 今天 合肥市 八院 新 门急诊 综合楼 项目 正式 开工 这是 该院 建设 发展史 上 的 重要 里程碑 是 跨越 发展 创建 三甲 医院 的 崭新 突破口 也 是 提高 医院 整体 服务 能力 增强 综合 实力 的 关键 着力点 建成 后 将 大大 改善 巢湖 老百姓 的 就医 环境</td>\n",
       "    </tr>\n",
       "  </tbody>\n",
       "</table>\n",
       "</div>"
      ],
      "text/plain": [
       "      id  record_id  customer_id  item_id item_name           event_time  \\\n",
       "1  81555      81555           20       52      亏损盈利  2019-12-18 13:44:21   \n",
       "2  81556      81556           20       52      亏损盈利  2019-12-13 04:08:16   \n",
       "3  81557      81557           20       62      停业暂停  2019-12-11 10:20:34   \n",
       "4  81558      81558           58       50      经营业务  2019-12-30 08:31:09   \n",
       "5  81559      81559           20       50      经营业务  2019-12-28 11:48:33   \n",
       "\n",
       "           create_time          update_time                             title  \\\n",
       "1  2020-01-02 11:10:51  2020-01-02 11:10:51            中建一局房地产公司学习宣贯局第五次党代会精神   \n",
       "2  2020-01-02 11:10:51  2020-01-02 11:10:51              三项制度改革让“能者上、平者让、庸者下”   \n",
       "3  2020-01-02 11:10:52  2020-01-02 11:10:52         荆门市大气污染防治百日攻坚专班全面检查大气污染问题   \n",
       "4  2020-01-02 11:10:53  2020-01-02 11:10:53                郑州六家工地劳动用工标准受到通报表彰   \n",
       "5  2020-01-02 11:10:53  2020-01-02 11:10:53  【重磅】斥资3亿多!高72米!巢湖这一大型门急诊综合楼破土动工.   \n",
       "\n",
       "                                                                                                                                                                                                                                                                                                                                                                                                                                                                                                                                                                                                                                                                                                                                                                                                                                                                                                                                                                                                                                                                                                                                          content_  \\\n",
       "1  本网讯（通讯员 孙静娴）12月13日上午，中建一局房地产公司组织召开第七次中心组学习（扩大）会，第一时间对中建一局第五次党代会精神进行专题学习宣贯。此次会议在公司总部会议室设主会场1个，各下属经营机构共设分会场11个，参会人员涉及公司领导班子成员、总部部门负责人及以上干部、各下属经营机构负责人、全体党员及群众代表近100余人。会议由局党委委员、公司党委书记、董事长樊飞军主持。\\n\\n会上，传达学习了罗世威同志在中建一局第五次党代会上所作的《坚持党建引领强化战略执行 永葆组织活力 为创建中国建筑旗下最具核心竞争力的世界一流企业不懈奋斗》的党委工作报告、王希强同志在中建一局第五次党代会上所作的《推进“两个责任”落实 坚决做到“两个维护” 忠实履行党章和宪法赋予的职责 为实现中建一局战略目标提供坚强保障》的纪委工作报告，参会人员对两个报告的内容进行了热烈讨论，并结合企业实际进行了交流研讨。\\n\\n一是以实施“五大聚焦”和“一化三线”战略为主线，加速实现规模发展。深度聚焦国家重点战略地区，聚焦北京、天津、江苏、浙江和上海等战略区域重点城市，并建立研究工作机制，以“政策性住房”产品线为核心，以普通商品住宅产品线为助力，重点突破苏南、南京、北京、天津、南通、宁波等城市。\\n\\n二是以推进公司化建设和精细化管理为核心，加速提升竞争优势。要眼界向外，不断对标学习标杆房企、中建系统内优势企业的先进思想和举措，推进企业治理体系建设和公司化建设，强化精细化管理，以规范、科学的工作机制推动企业高质量发展。\\n\\n三是以紧抓投融资管理和降杠杆减负债为抓手，加速推进高质发展。坚持“两金”压降过程监控，全力降低带息负债。建立健全过程监控管理体系，构建覆盖全生命周期的管理体系，及时识别、防控、化解风险问题，建立风险事项清单及销项制度，加强风险防控与应对能力。\\n\\n四是坚持党的领导，聚焦新时代高质量党建引领高质量发展，夯实成为中建一局价值和效益新担当。必须坚持思想引领，坚定政治站位，将习近平新时代中国特色社会主义思想和党的十九大、十九届四中全会精神贯穿经营发展全过程。深入践行155大党建工作格局，进一步深化党建工作与生产经营一体化；始终锁定“中建一局效益贡献骨干子企业”的战略目标；始终强化战略执行，做到使命必达；始终强化党风廉政建设，营造风清气正政治生态；始终坚持不懈加强领导班子建设和干部队伍建设，夯实改革发展的组织保障。\\n\\n五是要继续组织全体人员深入学习贯彻中建一局第五次党代会会议精神。将中建一局党委和纪委的各项工作要求落到实处，为实现公司五年后营业收入300亿，利润总额30亿的目标不懈奋斗！   \n",
       "2                                                                     原标题：三项制度改革让“能者上、平者让、庸者下”\\n\\n11月11日，中建一局二公司生产组织中心主任公开竞聘面试正在进行，经过前期的资料审核、岗位资格审查和管理测评，共有3名竞聘人员进入最终的结构化面试环节。\\n\\n孟繁健是参加本次竞聘的人员之一，而这并不是他第一次参加公司的市场化公开竞聘。3年前，孟繁健通过竞聘成为公司某项目的总监，3年后，尝到竞聘“甜头”的孟繁健决定挑战新岗位、迎接新任务。\\n\\n随着改革的深入推进，中建一局二公司在市场化经营机制改革方面不断强化升级，近两年完成了公司总部部门副职以上的全员公开竞聘上岗，为进一步实施市场化选聘和契约化管理奠定了基础。\\n\\n2018年，中建一局二公司入选国企改革“双百行动”企业，成为中建集团旗下入选“双百企业”的两家单位之一。近两年来，中建一局二公司按照“完善治理、强化激励、突出主业、提高效率”的方针，稳妥推进股权多元化和混合所有制改革、完善市场化经营机制、健全激励约束机制，并取得阶段性成果。\\n\\n随着企业整体规模的快速扩张，转型升级战略的不断深入，中建一局二公司人均创效水平不高，“人员短缺”与“人员冗余”同时存在；基础设施、海外以及投融资等转型板块高端人才引进渠道略为单一，对企业转型升级支撑力度不够；市场化程度不高，激励方式相对单一，差异化和业绩导向不够明确等问题逐渐显现。\\n\\n为此，中建一局二公司以深化人事、劳动、分配三项制度改革为抓手，推行与市场化经营机制相匹配的选人用人机制、用工分配体系改革，实现“干部能上能下，员工能进能出，薪酬能增能减”，让三项制度改革成为企业改革的助推器。\\n\\n为激发管理团队活力，中建一局二公司建立标准明确、程序规范、结果公平的选人用人工作机制，逐步做到“能者上、平者让、庸者下”，不断提升领导人员五位一体能力素养。同时，坚持业绩与能力导向，通过定期开展薪酬盘点、三维六指模型人力资源价值指数的对标晾晒，差异化设计薪酬标准，让企业的资源投入更精准。\\n\\n经过近两年的探索和实践，改革对企业发展的促进作用日益凸显。预计2019年，中建一局二公司合同额将达320亿元、营业收入达125亿元，企业的竞争力、创新力、控制力、影响力、抗风险能力不断增强，改革红利持续释放。\\n\\n“希望通过中建一局二公司‘双百行动’这个点上的示范突破，探索形成可复制、可推广的改革经验，带动全局的改革向纵深推进，为全面深化国有企业改革提供有效的借鉴。”中建一局党委书记、董事长罗世威说。   \n",
       "3                                                                                                                                                                                                                                                                                                                                                                                                                                                                                                                                                                                                                                                                                                                                                                                                开展此次检查，旨在持续做好重污染橙色预警期间的应急管控及省生态环境厅定点帮扶暨驻点执法第六工作组交办问题的整改工作。当日，出动了11个现场组、近80人次，先后检查建筑工地41个、企业13家、餐饮店2家、机动车179辆，共发现问题20个，其中建筑工地14个、企业2个、餐饮1家、机动车3辆。\\n\\n根据检查结果，建筑工地存在的问题主要是现场砂石裸露、渣土未覆盖、清洗车池设置不规范等。如中建一局施工工地在进行土方作业，检查组现场责令停工，要求覆盖裸土。汉阳市政挖机在施工，检查组现场责令停工。在掇刀地税路，检查组发现有大型机械作业，责令施工方停工。在荆门高新区·掇刀区精忠大道金福源院内，有两家木材加工厂，均存在未办理环保相关手续、木材切割过程中产生木屑未进行收集处理的问题。   \n",
       "4                                                                                                                                                                                                                                                                                                                                                                                                                                                                                                                                                                                                                                                                                                                                                     原标题：六家工地劳动用工标准受到通报表彰记者29日从郑州城乡建设局了解到，今年第四季度，有6个建设工程项目被评为建设工程劳动用工标准化工地，因此受到郑州城建局的通报表彰。6个建设工程项目包括：宏江金贸\\n\\n记者29日从郑州城乡建设局了解到，今年第四季度，有6个建设工程项目被评为建设工程劳动用工标准化工地，因此受到郑州城建局的通报表彰。\\n\\n6个建设工程项目包括：宏江金贸中心[河南省对外建设有限公司承建]，新田印象商业中心[中国建筑一局（集团）有限公司承建]，郑州轨道交通6号线市政配套工程土建施工03标段[中国建筑一局（集团）有限公司承建]，中原区·郑州中原新区庙王安置区西地块一标段[河南六建建筑集团有限公司承建]，中原区·郑州中原新区马庄安置区东地块二标段[郑州一建集团有限公司承建]，荥阳市·瀚宇天悦湾2号院一期[河南领域建设工程有限公司承建]。   \n",
       "5                                                                                                                                                                                                                                                                                                                                                                                                                                                                                                                                      合肥八院始建于1952年，俗称三康医院，已走过67年的辉煌历史，是一所集医疗、护理、保健、教学、科研为一体的综合性国家二级甲等医院。近年来，医院的办院规模逐步扩大，服务水平逐步提高，贏得了社会各界普遍赞誉。\\n\\n随着巢湖市人口的增长和社会经济的发展，合肥市八院在硬件设施上已跟不上发展的步伐，社会和群众对医疗的需求越来越大，要求越来越高，兴建综合多功能的门急诊综合大楼，改善医院就医环境，是医院发展的必然要求。\\n\\n为改善合肥市八院医疗环境、设施，合肥市委市政府拨款3.36亿元用于新建地下2层、地上16层，总建筑面积41540平方米的现代化门急诊综合大楼。工程竣工后，将大大改善合肥市八院医疗卫生环境，促进巢湖市卫生事业的发展。\\n\\n合肥市八院新的门急诊综合楼计划建设工期720天，整个项目由中建一局负责建设，预计在2021年底竣工验收并投入使用。 新大楼完工后，该院床位总数将达到1000张。\\n\\n今天，合肥市八院还与中国红十字会合作，邀请中国科技大学附属第一医院、安徽医科大学附属医院知名专家举办“医路相伴”——专家进基层大型公益义诊和授牌仪式。\\n\\n今天，合肥市八院新门急诊综合楼项目正式开工，这是该院建设发展史上的重要里程碑，是跨越发展、创建三甲医院的崭新突破口，也是提高医院整体服务能力，增强综合实力的关键着力点，建成后将大大改善巢湖老百姓的就医环境。   \n",
       "\n",
       "   label  \\\n",
       "1      1   \n",
       "2      1   \n",
       "3      1   \n",
       "4      1   \n",
       "5      1   \n",
       "\n",
       "                                                                                                                                                                                                                                                                                                                                                                                                                                                                                                                                                                                                                                                                                                                                                                                                                                                                                                                                                                                                                                                                                                                                                           title_content  \\\n",
       "1  中建一局房地产公司学习宣贯局第五次党代会精神本网讯（通讯员 孙静娴）12月13日上午，中建一局房地产公司组织召开第七次中心组学习（扩大）会，第一时间对中建一局第五次党代会精神进行专题学习宣贯。此次会议在公司总部会议室设主会场1个，各下属经营机构共设分会场11个，参会人员涉及公司领导班子成员、总部部门负责人及以上干部、各下属经营机构负责人、全体党员及群众代表近100余人。会议由局党委委员、公司党委书记、董事长樊飞军主持。\\n\\n会上，传达学习了罗世威同志在中建一局第五次党代会上所作的《坚持党建引领强化战略执行 永葆组织活力 为创建中国建筑旗下最具核心竞争力的世界一流企业不懈奋斗》的党委工作报告、王希强同志在中建一局第五次党代会上所作的《推进“两个责任”落实 坚决做到“两个维护” 忠实履行党章和宪法赋予的职责 为实现中建一局战略目标提供坚强保障》的纪委工作报告，参会人员对两个报告的内容进行了热烈讨论，并结合企业实际进行了交流研讨。\\n\\n一是以实施“五大聚焦”和“一化三线”战略为主线，加速实现规模发展。深度聚焦国家重点战略地区，聚焦北京、天津、江苏、浙江和上海等战略区域重点城市，并建立研究工作机制，以“政策性住房”产品线为核心，以普通商品住宅产品线为助力，重点突破苏南、南京、北京、天津、南通、宁波等城市。\\n\\n二是以推进公司化建设和精细化管理为核心，加速提升竞争优势。要眼界向外，不断对标学习标杆房企、中建系统内优势企业的先进思想和举措，推进企业治理体系建设和公司化建设，强化精细化管理，以规范、科学的工作机制推动企业高质量发展。\\n\\n三是以紧抓投融资管理和降杠杆减负债为抓手，加速推进高质发展。坚持“两金”压降过程监控，全力降低带息负债。建立健全过程监控管理体系，构建覆盖全生命周期的管理体系，及时识别、防控、化解风险问题，建立风险事项清单及销项制度，加强风险防控与应对能力。\\n\\n四是坚持党的领导，聚焦新时代高质量党建引领高质量发展，夯实成为中建一局价值和效益新担当。必须坚持思想引领，坚定政治站位，将习近平新时代中国特色社会主义思想和党的十九大、十九届四中全会精神贯穿经营发展全过程。深入践行155大党建工作格局，进一步深化党建工作与生产经营一体化；始终锁定“中建一局效益贡献骨干子企业”的战略目标；始终强化战略执行，做到使命必达；始终强化党风廉政建设，营造风清气正政治生态；始终坚持不懈加强领导班子建设和干部队伍建设，夯实改革发展的组织保障。\\n\\n五是要继续组织全体人员深入学习贯彻中建一局第五次党代会会议精神。将中建一局党委和纪委的各项工作要求落到实处，为实现公司五年后营业收入300亿，利润总额30亿的目标不懈奋斗！   \n",
       "2                                                                       三项制度改革让“能者上、平者让、庸者下”原标题：三项制度改革让“能者上、平者让、庸者下”\\n\\n11月11日，中建一局二公司生产组织中心主任公开竞聘面试正在进行，经过前期的资料审核、岗位资格审查和管理测评，共有3名竞聘人员进入最终的结构化面试环节。\\n\\n孟繁健是参加本次竞聘的人员之一，而这并不是他第一次参加公司的市场化公开竞聘。3年前，孟繁健通过竞聘成为公司某项目的总监，3年后，尝到竞聘“甜头”的孟繁健决定挑战新岗位、迎接新任务。\\n\\n随着改革的深入推进，中建一局二公司在市场化经营机制改革方面不断强化升级，近两年完成了公司总部部门副职以上的全员公开竞聘上岗，为进一步实施市场化选聘和契约化管理奠定了基础。\\n\\n2018年，中建一局二公司入选国企改革“双百行动”企业，成为中建集团旗下入选“双百企业”的两家单位之一。近两年来，中建一局二公司按照“完善治理、强化激励、突出主业、提高效率”的方针，稳妥推进股权多元化和混合所有制改革、完善市场化经营机制、健全激励约束机制，并取得阶段性成果。\\n\\n随着企业整体规模的快速扩张，转型升级战略的不断深入，中建一局二公司人均创效水平不高，“人员短缺”与“人员冗余”同时存在；基础设施、海外以及投融资等转型板块高端人才引进渠道略为单一，对企业转型升级支撑力度不够；市场化程度不高，激励方式相对单一，差异化和业绩导向不够明确等问题逐渐显现。\\n\\n为此，中建一局二公司以深化人事、劳动、分配三项制度改革为抓手，推行与市场化经营机制相匹配的选人用人机制、用工分配体系改革，实现“干部能上能下，员工能进能出，薪酬能增能减”，让三项制度改革成为企业改革的助推器。\\n\\n为激发管理团队活力，中建一局二公司建立标准明确、程序规范、结果公平的选人用人工作机制，逐步做到“能者上、平者让、庸者下”，不断提升领导人员五位一体能力素养。同时，坚持业绩与能力导向，通过定期开展薪酬盘点、三维六指模型人力资源价值指数的对标晾晒，差异化设计薪酬标准，让企业的资源投入更精准。\\n\\n经过近两年的探索和实践，改革对企业发展的促进作用日益凸显。预计2019年，中建一局二公司合同额将达320亿元、营业收入达125亿元，企业的竞争力、创新力、控制力、影响力、抗风险能力不断增强，改革红利持续释放。\\n\\n“希望通过中建一局二公司‘双百行动’这个点上的示范突破，探索形成可复制、可推广的改革经验，带动全局的改革向纵深推进，为全面深化国有企业改革提供有效的借鉴。”中建一局党委书记、董事长罗世威说。   \n",
       "3                                                                                                                                                                                                                                                                                                                                                                                                                                                                                                                                                                                                                                                                                                                                                                                             荆门市大气污染防治百日攻坚专班全面检查大气污染问题开展此次检查，旨在持续做好重污染橙色预警期间的应急管控及省生态环境厅定点帮扶暨驻点执法第六工作组交办问题的整改工作。当日，出动了11个现场组、近80人次，先后检查建筑工地41个、企业13家、餐饮店2家、机动车179辆，共发现问题20个，其中建筑工地14个、企业2个、餐饮1家、机动车3辆。\\n\\n根据检查结果，建筑工地存在的问题主要是现场砂石裸露、渣土未覆盖、清洗车池设置不规范等。如中建一局施工工地在进行土方作业，检查组现场责令停工，要求覆盖裸土。汉阳市政挖机在施工，检查组现场责令停工。在掇刀地税路，检查组发现有大型机械作业，责令施工方停工。在荆门高新区·掇刀区精忠大道金福源院内，有两家木材加工厂，均存在未办理环保相关手续、木材切割过程中产生木屑未进行收集处理的问题。   \n",
       "4                                                                                                                                                                                                                                                                                                                                                                                                                                                                                                                                                                                                                                                                                                                                                         郑州六家工地劳动用工标准受到通报表彰原标题：六家工地劳动用工标准受到通报表彰记者29日从郑州城乡建设局了解到，今年第四季度，有6个建设工程项目被评为建设工程劳动用工标准化工地，因此受到郑州城建局的通报表彰。6个建设工程项目包括：宏江金贸\\n\\n记者29日从郑州城乡建设局了解到，今年第四季度，有6个建设工程项目被评为建设工程劳动用工标准化工地，因此受到郑州城建局的通报表彰。\\n\\n6个建设工程项目包括：宏江金贸中心[河南省对外建设有限公司承建]，新田印象商业中心[中国建筑一局（集团）有限公司承建]，郑州轨道交通6号线市政配套工程土建施工03标段[中国建筑一局（集团）有限公司承建]，中原区·郑州中原新区庙王安置区西地块一标段[河南六建建筑集团有限公司承建]，中原区·郑州中原新区马庄安置区东地块二标段[郑州一建集团有限公司承建]，荥阳市·瀚宇天悦湾2号院一期[河南领域建设工程有限公司承建]。   \n",
       "5                                                                                                                                                                                                                                                                                                                                                                                                                                                                                                                            【重磅】斥资3亿多!高72米!巢湖这一大型门急诊综合楼破土动工.合肥八院始建于1952年，俗称三康医院，已走过67年的辉煌历史，是一所集医疗、护理、保健、教学、科研为一体的综合性国家二级甲等医院。近年来，医院的办院规模逐步扩大，服务水平逐步提高，贏得了社会各界普遍赞誉。\\n\\n随着巢湖市人口的增长和社会经济的发展，合肥市八院在硬件设施上已跟不上发展的步伐，社会和群众对医疗的需求越来越大，要求越来越高，兴建综合多功能的门急诊综合大楼，改善医院就医环境，是医院发展的必然要求。\\n\\n为改善合肥市八院医疗环境、设施，合肥市委市政府拨款3.36亿元用于新建地下2层、地上16层，总建筑面积41540平方米的现代化门急诊综合大楼。工程竣工后，将大大改善合肥市八院医疗卫生环境，促进巢湖市卫生事业的发展。\\n\\n合肥市八院新的门急诊综合楼计划建设工期720天，整个项目由中建一局负责建设，预计在2021年底竣工验收并投入使用。 新大楼完工后，该院床位总数将达到1000张。\\n\\n今天，合肥市八院还与中国红十字会合作，邀请中国科技大学附属第一医院、安徽医科大学附属医院知名专家举办“医路相伴”——专家进基层大型公益义诊和授牌仪式。\\n\\n今天，合肥市八院新门急诊综合楼项目正式开工，这是该院建设发展史上的重要里程碑，是跨越发展、创建三甲医院的崭新突破口，也是提高医院整体服务能力，增强综合实力的关键着力点，建成后将大大改善巢湖老百姓的就医环境。   \n",
       "\n",
       "   content_word_count  \\\n",
       "1                1113   \n",
       "2                1038   \n",
       "3                 360   \n",
       "4                 394   \n",
       "5                 609   \n",
       "\n",
       "                                                                                                                                                                                                                                                                                                                                                                                                                                                                                                                                                                                                                                                                                                                                                                                                                                                                                                                                                                                                                               cleaned_word  \\\n",
       "1  中建一局房地产公司学习宣贯局第五次党代会精神本网讯通讯员孙静娴12月13日上午中建一局房地产公司组织召开第七次中心组学习扩大会第一时间对中建一局第五次党代会精神进行专题学习宣贯此次会议在公司总部会议室设主会场1个各下属经营机构共设分会场11个参会人员涉及公司领导班子成员总部部门负责人及以上干部各下属经营机构负责人全体党员及群众代表近100余人会议由局党委委员公司党委书记董事长樊飞军主持会上传达学习了罗世威同志在中建一局第五次党代会上所作的坚持党建引领强化战略执行永葆组织活力为创建中国建筑旗下最具核心竞争力的世界一流企业不懈奋斗的党委工作报告王希强同志在中建一局第五次党代会上所作的推进两个责任落实坚决做到两个维护忠实履行党章和宪法赋予的职责为实现中建一局战略目标提供坚强保障的纪委工作报告参会人员对两个报告的内容进行了热烈讨论并结合企业实际进行了交流研讨一是以实施五大聚焦和一化三线战略为主线加速实现规模发展深度聚焦国家重点战略地区聚焦北京天津江苏浙江和上海等战略区域重点城市并建立研究工作机制以政策性住房产品线为核心以普通商品住宅产品线为助力重点突破苏南南京北京天津南通宁波等城市二是以推进公司化建设和精细化管理为核心加速提升竞争优势要眼界向外不断对标学习标杆房企中建系统内优势企业的先进思想和举措推进企业治理体系建设和公司化建设强化精细化管理以规范科学的工作机制推动企业高质量发展三是以紧抓投融资管理和降杠杆减负债为抓手加速推进高质发展坚持两金压降过程监控全力降低带息负债建立健全过程监控管理体系构建覆盖全生命周期的管理体系及时识别防控化解风险问题建立风险事项清单及销项制度加强风险防控与应对能力四是坚持党的领导聚焦新时代高质量党建引领高质量发展夯实成为中建一局价值和效益新担当必须坚持思想引领坚定政治站位将习近平新时代中国特色社会主义思想和党的十九大十九届四中全会精神贯穿经营发展全过程深入践行155大党建工作格局进一步深化党建工作与生产经营一体化始终锁定中建一局效益贡献骨干子企业的战略目标始终强化战略执行做到使命必达始终强化党风廉政建设营造风清气正政治生态始终坚持不懈加强领导班子建设和干部队伍建设夯实改革发展的组织保障五是要继续组织全体人员深入学习贯彻中建一局第五次党代会会议精神将中建一局党委和纪委的各项工作要求落到实处为实现公司五年后营业收入300亿利润总额30亿的目标不懈奋斗   \n",
       "2                                                                                           三项制度改革让能者上平者让庸者下原标题三项制度改革让能者上平者让庸者下11月11日中建一局二公司生产组织中心主任公开竞聘面试正在进行经过前期的资料审核岗位资格审查和管理测评共有3名竞聘人员进入最终的结构化面试环节孟繁健是参加本次竞聘的人员之一而这并不是他第一次参加公司的市场化公开竞聘3年前孟繁健通过竞聘成为公司某项目的总监3年后尝到竞聘甜头的孟繁健决定挑战新岗位迎接新任务随着改革的深入推进中建一局二公司在市场化经营机制改革方面不断强化升级近两年完成了公司总部部门副职以上的全员公开竞聘上岗为进一步实施市场化选聘和契约化管理奠定了基础2018年中建一局二公司入选国企改革双百行动企业成为中建集团旗下入选双百企业的两家单位之一近两年来中建一局二公司按照完善治理强化激励突出主业提高效率的方针稳妥推进股权多元化和混合所有制改革完善市场化经营机制健全激励约束机制并取得阶段性成果随着企业整体规模的快速扩张转型升级战略的不断深入中建一局二公司人均创效水平不高人员短缺与人员冗余同时存在基础设施海外以及投融资等转型板块高端人才引进渠道略为单一对企业转型升级支撑力度不够市场化程度不高激励方式相对单一差异化和业绩导向不够明确等问题逐渐显现为此中建一局二公司以深化人事劳动分配三项制度改革为抓手推行与市场化经营机制相匹配的选人用人机制用工分配体系改革实现干部能上能下员工能进能出薪酬能增能减让三项制度改革成为企业改革的助推器为激发管理团队活力中建一局二公司建立标准明确程序规范结果公平的选人用人工作机制逐步做到能者上平者让庸者下不断提升领导人员五位一体能力素养同时坚持业绩与能力导向通过定期开展薪酬盘点三维六指模型人力资源价值指数的对标晾晒差异化设计薪酬标准让企业的资源投入更精准经过近两年的探索和实践改革对企业发展的促进作用日益凸显预计2019年中建一局二公司合同额将达320亿元营业收入达125亿元企业的竞争力创新力控制力影响力抗风险能力不断增强改革红利持续释放希望通过中建一局二公司双百行动这个点上的示范突破探索形成可复制可推广的改革经验带动全局的改革向纵深推进为全面深化国有企业改革提供有效的借鉴中建一局党委书记董事长罗世威说   \n",
       "3                                                                                                                                                                                                                                                                                                                                                                                                                                                                                                                                                                                                                                                                                                   荆门市大气污染防治百日攻坚专班全面检查大气污染问题开展此次检查旨在持续做好重污染橙色预警期间的应急管控及省生态环境厅定点帮扶暨驻点执法第六工作组交办问题的整改工作当日出动了11个现场组近80人次先后检查建筑工地41个企业13家餐饮店2家机动车179辆共发现问题20个其中建筑工地14个企业2个餐饮1家机动车3辆根据检查结果建筑工地存在的问题主要是现场砂石裸露渣土未覆盖清洗车池设置不规范等如中建一局施工工地在进行土方作业检查组现场责令停工要求覆盖裸土汉阳市政挖机在施工检查组现场责令停工在掇刀地税路检查组发现有大型机械作业责令施工方停工在荆门高新区掇刀区精忠大道金福源院内有两家木材加工厂均存在未办理环保相关手续木材切割过程中产生木屑未进行收集处理的问题   \n",
       "4                                                                                                                                                                                                                                                                                                                                                                                                                                                                                                                                                                                                                                                                        郑州六家工地劳动用工标准受到通报表彰原标题六家工地劳动用工标准受到通报表彰记者29日从郑州城乡建设局了解到今年第四季度有6个建设工程项目被评为建设工程劳动用工标准化工地因此受到郑州城建局的通报表彰6个建设工程项目包括宏江金贸记者29日从郑州城乡建设局了解到今年第四季度有6个建设工程项目被评为建设工程劳动用工标准化工地因此受到郑州城建局的通报表彰6个建设工程项目包括宏江金贸中心河南省对外建设有限公司承建新田印象商业中心中国建筑一局集团有限公司承建郑州轨道交通6号线市政配套工程土建施工03标段中国建筑一局集团有限公司承建中原区郑州中原新区庙王安置区西地块一标段河南六建建筑集团有限公司承建中原区郑州中原新区马庄安置区东地块二标段郑州一建集团有限公司承建荥阳市瀚宇天悦湾2号院一期河南领域建设工程有限公司承建   \n",
       "5                                                                                                                                                                                                                                                                                                                                                                                                                                                                          重磅斥资3亿多高72米巢湖这一大型门急诊综合楼破土动工合肥八院始建于1952年俗称三康医院已走过67年的辉煌历史是一所集医疗护理保健教学科研为一体的综合性国家二级甲等医院近年来医院的办院规模逐步扩大服务水平逐步提高贏得了社会各界普遍赞誉随着巢湖市人口的增长和社会经济的发展合肥市八院在硬件设施上已跟不上发展的步伐社会和群众对医疗的需求越来越大要求越来越高兴建综合多功能的门急诊综合大楼改善医院就医环境是医院发展的必然要求为改善合肥市八院医疗环境设施合肥市委市政府拨款336亿元用于新建地下2层地上16层总建筑面积41540平方米的现代化门急诊综合大楼工程竣工后将大大改善合肥市八院医疗卫生环境促进巢湖市卫生事业的发展合肥市八院新的门急诊综合楼计划建设工期720天整个项目由中建一局负责建设预计在2021年底竣工验收并投入使用新大楼完工后该院床位总数将达到1000张今天合肥市八院还与中国红十字会合作邀请中国科技大学附属第一医院安徽医科大学附属医院知名专家举办医路相伴专家进基层大型公益义诊和授牌仪式今天合肥市八院新门急诊综合楼项目正式开工这是该院建设发展史上的重要里程碑是跨越发展创建三甲医院的崭新突破口也是提高医院整体服务能力增强综合实力的关键着力点建成后将大大改善巢湖老百姓的就医环境   \n",
       "\n",
       "                                                                                                                                                                                                                                                                                                                                                                                                                                                                                                                                                                                                                                                                                                                                                                                                                                                                                                                                                                                                                                                                                                                                                                                                                                                                                                                                                                                                                                                                                                                                                      cut_word  \n",
       "1  中建 一局 房地产 公司 学习 宣贯局 第五次 党代会 精神 本 网讯 通讯员 孙静 娴 12 月 13 日 上午 中建 一局 房地产 公司 组织 召开 第七次 中心组 学习 扩大会 第一 时间 对 中建 一局 第五次 党代会 精神 进行 专题学习 宣贯 此次 会议 在 公司总部 会议室 设 主会场 1 个 各 下属 经营 机构 共设 分会场 11 个 参会 人员 涉及 公司 领导班子 成员 总部 部门 负责人 及 以上 干部 各 下属 经营 机构 负责人 全体 党员 及 群众 代表 近 100 余人 会议 由局 党委委员 公司 党委书记 董事长 樊飞军 主持 会上 传达 学习 了 罗世威 同志 在 中建 一局 第五次 党代会 上 所作 的 坚持 党建 引领 强化 战略 执行 永葆 组织 活力 为 创建 中国 建筑 旗下 最具 核心 竞争力 的 世界 一流 企业 不懈 奋斗 的 党委 工作 报告 王希强 同志 在 中建 一局 第五次 党代会 上 所作 的 推进 两个 责任 落实 坚决 做到 两个 维护 忠实 履行 党章 和 宪法 赋予 的 职责 为 实现 中建 一局 战略目标 提供 坚强 保障 的 纪委 工作 报告 参会 人员 对 两个 报告 的 内容 进行 了 热烈 讨论 并 结合 企业 实际 进行 了 交流 研讨 一是 以 实施 五大 聚焦 和 一化 三线 战略 为主 线 加速 实现 规模 发展 深度 聚焦 国家 重点 战略 地区 聚焦 北京 天津 江苏 浙江 和 上海 等 战略 区域 重点 城市 并 建立 研究 工作 机制 以 政策性 住房 产品线 为 核心 以 普通 商品住宅 产品线 为 助力 重点 突破 苏南 南京 北京 天津 南通 宁波 等 城市 二是 以 推进 公司化 建设 和 精细化 管理 为 核心 加速 提升 竞争 优势 要 眼界 向外 不断 对标 学习 标杆 房企 中建 系统 内 优势 企业 的 先进 思想 和 举措 推进 企业 治理 体系 建设 和 公司化 建设 强化 精细化 管理 以 规范 科学 的 工作 机制 推动 企业 高质量 发展 三是 以 紧抓 投融资 管理 和 降 杠杆 减 负债 为 抓手 加速 推进 高质 发展 坚持 两金 压降 过程 监控 全力 降低 带息 负债 建立健全 过程 监控 管理体系 构建 覆盖 全 生命周期 的 管理体系 及时 识别 防控 化解 风险 问题 建立 风险 事项 清单 及 销项 制度 加强 风险 防控 与 应对 能力 四是 坚持 党的领导 聚焦 新 时代 高质量 党建 引领 高质量 发展 夯实 成为 中建 一局 价值 和 效益 新 担当 必须 坚持 思想 引领 坚定 政治 站位 将 习近平 新 时代 中国 特色 社会主义 思想 和 党 的 十九 大 十九 届 四中全会 精神 贯穿 经营 发展 全过程 深入 践行 155 大 党建 工作 格局 进一步 深化 党建 工作 与 生产 经营 一体化 始终 锁定 中建 一局 效益 贡献 骨干 子 企业 的 战略目标 始终 强化 战略 执行 做到 使命 必达 始终 强化 党风廉政 建设 营造 风清气 正 政治 生态 始终 坚持不懈 加强 领导班子 建设 和 干部队伍 建设 夯实 改革 发展 的 组织 保障 五是 要 继续 组织 全体人员 深入 学习 贯彻 中建 一局 第五次 党代会 会议 精神 将 中建 一局 党委 和 纪委 的 各项 工作 要求 落到实处 为 实现 公司 五年 后 营业 收入 300 亿 利润总额 30 亿 的 目标 不懈 奋斗  \n",
       "2                                                                                                                             三项 制度 改革 让 能者 上 平者 让 庸者 下原 标题 三项 制度 改革 让 能者 上 平者 让 庸者 下 11 月 11 日 中建 一局 二 公司 生产 组织 中心 主任 公开 竞聘 面试 正在 进行 经过 前期 的 资料 审核 岗位 资格 审查 和 管理 测评 共有 3 名 竞聘 人员 进入 最终 的 结构化 面试 环节 孟繁 健是 参加 本次 竞聘 的 人员 之一 而 这 并 不是 他 第一次 参加 公司 的 市场化 公开 竞聘 3 年前 孟繁健 通过 竞聘 成为 公司 某 项目 的 总监 3 年 后 尝到 竞聘 甜头 的 孟 繁健 决定 挑战 新 岗位 迎接 新 任务 随着 改革 的 深入 推进 中建 一局 二 公司 在 市场化 经营机制 改革 方面 不断 强化 升级 近两年 完成 了 公司总部 部门 副职 以上 的 全员 公开 竞聘上岗 为 进一步 实施 市场化 选聘 和 契约化 管理 奠定 了 基础 2018 年 中建 一局 二 公司 入选 国企改革 双百 行动 企业 成为 中建 集团 旗下 入选 双百 企业 的 两家 单位 之一 近两年来 中建 一局 二 公司 按照 完善 治理 强化 激励 突出 主业 提高效率 的 方针 稳妥 推进 股权 多元化 和 混合 所有制 改革 完善 市场化 经营机制 健全 激励 约束 机制 并 取得 阶段性 成果 随着 企业 整体 规模 的 快速 扩张 转型 升级 战略 的 不断深入 中建 一局 二 公司 人均 创效 水平 不高 人员 短缺 与 人员 冗余 同时 存在 基础设施 海外 以及 投融资 等 转型 板块 高端 人才 引进 渠道 略为 单一 对 企业 转型 升级 支撑 力度 不够 市场化 程度 不高 激励 方式 相对 单一 差异化 和 业绩 导向 不够 明确 等 问题 逐渐 显现 为此 中建 一局 二 公司 以 深化 人事 劳动 分配 三项 制度 改革 为 抓手 推行 与 市场化 经营机制 相匹配 的 选人 用人 机制 用工 分配 体系 改革 实现 干部 能上能下 员工 能进能出 薪酬 能增能减 让 三项 制度 改革 成为 企业 改革 的 助推器 为 激发 管理 团队 活力 中建 一局 二 公司 建立 标准 明确 程序 规范 结果 公平 的 选人 用人 工作 机制 逐步 做到 能者 上 平者 让 庸者 下 不断 提升 领导人员 五位一体 能力 素养 同时 坚持 业绩 与 能力 导向 通过 定期 开展 薪酬 盘点 三维 六指 模型 人力资源 价值 指数 的 对标 晾晒 差异化 设计 薪酬 标准 让 企业 的 资源 投入 更 精准 经过 近两年 的 探索 和 实践 改革 对 企业 发展 的 促进作用 日益 凸显 预计 2019 年 中建 一局 二 公司 合同额 将 达 320 亿元 营业 收入 达 125 亿元 企业 的 竞争力 创新力 控制力 影响力 抗 风险 能力 不断 增强 改革 红利 持续 释放 希望 通过 中建 一局 二 公司 双百 行动 这个 点上 的 示范 突破 探索 形成 可 复制 可 推广 的 改革 经验 带动 全局 的 改革 向 纵深 推进 为 全面 深化 国有企业 改革 提供 有效 的 借鉴 中建 一局 党委书记 董事长 罗世威 说  \n",
       "3                                                                                                                                                                                                                                                                                                                                                                                                                                                                                                                                                                                                                                                                                                                                                                                                                                                                                                                                                                                                                                             荆门市 大气污染 防治 百日 攻坚 专班 全面 检查 大气污染 问题 开展 此次 检查 旨在 持续 做好 重 污染 橙色 预警 期间 的 应急 管控 及省 生态环境 厅 定点 帮扶 暨 驻点 执法 第六 工作组 交办 问题 的 整改 工作 当日 出动 了 11 个 现场 组近 80 人次 先后 检查 建筑工地 41 个 企业 13 家 餐饮店 2 家 机动车 179 辆 共 发现 问题 20 个 其中 建筑工地 14 个 企业 2 个 餐饮 1 家 机动车 3 辆 根据 检查 结果 建筑工地 存在 的 问题 主要 是 现场 砂石 裸露 渣土 未 覆盖 清洗 车池 设置 不 规范 等 如 中建 一局 施工 工地 在 进行 土方 作业 检查组 现场 责令 停工 要求 覆盖 裸土 汉阳 市政 挖机 在 施工 检查组 现场 责令 停工 在 掇刀 地税 路 检查组 发现 有 大型 机械 作业 责令 施工方 停工 在 荆门 高新区 掇刀区 精忠 大道 金 福源 院内 有 两家 木材 加工厂 均 存在 未办理 环保 相关 手续 木材 切割 过程 中 产生 木屑 未 进行 收集 处理 的 问题  \n",
       "4                                                                                                                                                                                                                                                                                                                                                                                                                                                                                                                                                                                                                                                                                                                                                                                                                                                                                                                                                                                                                      郑州 六家 工地 劳动 用工 标准 受到 通报 表彰 原 标题 六家 工地 劳动 用工 标准 受到 通报 表彰 记者 29 日 从 郑州 城乡 建设局 了解 到 今年 第四季度 有 6 个 建设 工程项目 被 评为 建设工程 劳动 用工 标准化 工地 因此 受到 郑州 城建局 的 通报 表彰 6 个 建设 工程项目 包括 宏江 金贸 记者 29 日 从 郑州 城乡 建设局 了解 到 今年 第四季度 有 6 个 建设 工程项目 被 评为 建设工程 劳动 用工 标准化 工地 因此 受到 郑州 城建局 的 通报 表彰 6 个 建设 工程项目 包括 宏江 金贸 中心 河南省 对外 建设 有限公司 承建 新田 印象 商业中心 中国 建筑 一局 集团 有限公司 承建 郑州 轨道交通 6 号线 市政 配套工程 土建 施工 03 标段 中国 建筑 一局 集团 有限公司 承建 中原区 郑州 中原 新区 庙王 安置 区西 地块 一 标段 河南 六建 建筑 集团 有限公司 承建 中原区 郑州 中原 新区 马庄 安置 区东 地块 二 标段 郑州 一建 集团 有限公司 承建 荥阳市 瀚宇 天悦湾 2 号院 一期 河南 领域 建设工程 有限公司 承建  \n",
       "5                                                                                                                                                                                                                                                                                                                                                                                                                                                                                                                                                                                                                                                                                                                    重磅 斥资 3 亿多 高 72 米 巢湖 这一 大型 门急诊 综合楼 破土动工 合肥 八院 始建 于 1952 年 俗称 三康 医院 已 走过 67 年 的 辉煌 历史 是 一所 集 医疗 护理 保健 教学科研 为 一体 的 综合性 国家 二级 甲等医院 近年来 医院 的 办院 规模 逐步 扩大 服务水平 逐步提高 贏得 了 社会各界 普遍 赞誉 随着 巢湖市 人口 的 增长 和 社会 经济 的 发展 合肥市 八院 在 硬件 设施 上 已 跟不上 发展 的 步伐 社会 和 群众 对 医疗 的 需求 越来越 大 要求 越来越 高 兴建 综合 多功能 的 门急诊 综合 大楼 改善 医院 就医 环境 是 医院 发展 的 必然 要求 为 改善 合肥市 八院 医疗 环境 设施 合肥 市委 市政府 拨款 336 亿元 用于 新建 地下 2 层 地上 16 层 总 建筑面积 41540 平方米 的 现代化 门急诊 综合 大楼 工程 竣工 后 将 大大 改善 合肥市 八院 医疗卫生 环境 促进 巢湖市 卫生事业 的 发展 合肥市 八院 新 的 门急诊 综合楼 计划 建设 工期 720 天 整个 项目 由 中建 一局 负责 建设 预计 在 2021 年底 竣工 验收 并 投入使用 新 大楼 完工后 该院 床位 总数 将 达到 1000 张 今天 合肥市 八院 还 与 中国红十字会 合作 邀请 中国科技大学 附属 第一 医院 安徽医科大学 附属 医院 知名 专家 举办 医路 相伴 专家 进 基层 大型 公益 义诊 和 授牌 仪式 今天 合肥市 八院 新 门急诊 综合楼 项目 正式 开工 这是 该院 建设 发展史 上 的 重要 里程碑 是 跨越 发展 创建 三甲 医院 的 崭新 突破口 也 是 提高 医院 整体 服务 能力 增强 综合 实力 的 关键 着力点 建成 后 将 大大 改善 巢湖 老百姓 的 就医 环境  "
      ]
     },
     "execution_count": 57,
     "metadata": {},
     "output_type": "execute_result"
    }
   ],
   "source": [
    "duplicated_sy_risk.head()"
   ]
  },
  {
   "cell_type": "code",
   "execution_count": 45,
   "metadata": {
    "scrolled": true
   },
   "outputs": [],
   "source": [
    "duplicated_sy_risk.to_csv('duplicate_.csv')"
   ]
  },
  {
   "cell_type": "code",
   "execution_count": 49,
   "metadata": {},
   "outputs": [
    {
     "data": {
      "text/plain": [
       "相关提及    4651\n",
       "经营业务    1253\n",
       "成果奖项     630\n",
       "合作经营     514\n",
       "亏损盈利     410\n",
       "重大交易     257\n",
       "投资融资     177\n",
       "员工情况     177\n",
       "产品信息     138\n",
       "安全事件     112\n",
       "收购重组     111\n",
       "债务抵押     102\n",
       "涉诉违规      90\n",
       "股权变动      70\n",
       "停业暂停      50\n",
       "行政处罚      41\n",
       "高管变动      39\n",
       "破产清算      35\n",
       "新品升级      26\n",
       "高管负面      24\n",
       "信用信誉      23\n",
       "造假欺诈      20\n",
       "合同纠纷      19\n",
       "产品质量      14\n",
       "劳务纠纷      13\n",
       "环境保护      12\n",
       "增持减持      11\n",
       "侵权抄袭       6\n",
       "上市退市       4\n",
       "Name: item_name, dtype: int64"
      ]
     },
     "execution_count": 49,
     "metadata": {},
     "output_type": "execute_result"
    }
   ],
   "source": [
    "duplicated_sy_risk.item_name.value_counts()"
   ]
  },
  {
   "cell_type": "code",
   "execution_count": 51,
   "metadata": {
    "scrolled": true
   },
   "outputs": [],
   "source": [
    "duplicated_sy_risk[duplicated_sy_risk.item_name == '经营业务'].to_csv(\"经营业务.csv\")"
   ]
  },
  {
   "cell_type": "code",
   "execution_count": 73,
   "metadata": {},
   "outputs": [],
   "source": [
    "data_label = duplicated_sy_risk.drop(['id','customer_id','item_id', 'event_time','create_time', 'update_time',\n",
    "                        'label','cleaned_word','cut_word','content_word_count','title_content'],axis = 1)"
   ]
  },
  {
   "cell_type": "code",
   "execution_count": 75,
   "metadata": {
    "scrolled": false
   },
   "outputs": [],
   "source": [
    "# data_label['pre-label'] = 0"
   ]
  },
  {
   "cell_type": "code",
   "execution_count": 76,
   "metadata": {
    "collapsed": true
   },
   "outputs": [
    {
     "data": {
      "text/html": [
       "<div>\n",
       "<style scoped>\n",
       "    .dataframe tbody tr th:only-of-type {\n",
       "        vertical-align: middle;\n",
       "    }\n",
       "\n",
       "    .dataframe tbody tr th {\n",
       "        vertical-align: top;\n",
       "    }\n",
       "\n",
       "    .dataframe thead th {\n",
       "        text-align: right;\n",
       "    }\n",
       "</style>\n",
       "<table border=\"1\" class=\"dataframe\">\n",
       "  <thead>\n",
       "    <tr style=\"text-align: right;\">\n",
       "      <th></th>\n",
       "      <th>record_id</th>\n",
       "      <th>item_name</th>\n",
       "      <th>title</th>\n",
       "      <th>content_</th>\n",
       "      <th>pre-label</th>\n",
       "    </tr>\n",
       "  </thead>\n",
       "  <tbody>\n",
       "    <tr>\n",
       "      <th>1</th>\n",
       "      <td>81555</td>\n",
       "      <td>亏损盈利</td>\n",
       "      <td>中建一局房地产公司学习宣贯局第五次党代会精神</td>\n",
       "      <td>本网讯（通讯员 孙静娴）12月13日上午，中建一局房地产公司组织召开第七次中心组学习（扩大）会，第一时间对中建一局第五次党代会精神进行专题学习宣贯。此次会议在公司总部会议室设主会场1个，各下属经营机构共设分会场11个，参会人员涉及公司领导班子成员、总部部门负责人及以上干部、各下属经营机构负责人、全体党员及群众代表近100余人。会议由局党委委员、公司党委书记、董事长樊飞军主持。\\n\\n会上，传达学习了罗世威同志在中建一局第五次党代会上所作的《坚持党建引领强化战略执行 永葆组织活力 为创建中国建筑旗下最具核心竞争力的世界一流企业不懈奋斗》的党委工作报告、王希强同志在中建一局第五次党代会上所作的《推进“两个责任”落实 坚决做到“两个维护” 忠实履行党章和宪法赋予的职责 为实现中建一局战略目标提供坚强保障》的纪委工作报告，参会人员对两个报告的内容进行了热烈讨论，并结合企业实际进行了交流研讨。\\n\\n一是以实施“五大聚焦”和“一化三线”战略为主线，加速实现规模发展。深度聚焦国家重点战略地区，聚焦北京、天津、江苏、浙江和上海等战略区域重点城市，并建立研究工作机制，以“政策性住房”产品线为核心，以普通商品住宅产品线为助力，重点突破苏南、南京、北京、天津、南通、宁波等城市。\\n\\n二是以推进公司化建设和精细化管理为核心，加速提升竞争优势。要眼界向外，不断对标学习标杆房企、中建系统内优势企业的先进思想和举措，推进企业治理体系建设和公司化建设，强化精细化管理，以规范、科学的工作机制推动企业高质量发展。\\n\\n三是以紧抓投融资管理和降杠杆减负债为抓手，加速推进高质发展。坚持“两金”压降过程监控，全力降低带息负债。建立健全过程监控管理体系，构建覆盖全生命周期的管理体系，及时识别、防控、化解风险问题，建立风险事项清单及销项制度，加强风险防控与应对能力。\\n\\n四是坚持党的领导，聚焦新时代高质量党建引领高质量发展，夯实成为中建一局价值和效益新担当。必须坚持思想引领，坚定政治站位，将习近平新时代中国特色社会主义思想和党的十九大、十九届四中全会精神贯穿经营发展全过程。深入践行155大党建工作格局，进一步深化党建工作与生产经营一体化；始终锁定“中建一局效益贡献骨干子企业”的战略目标；始终强化战略执行，做到使命必达；始终强化党风廉政建设，营造风清气正政治生态；始终坚持不懈加强领导班子建设和干部队伍建设，夯实改革发展的组织保障。\\n\\n五是要继续组织全体人员深入学习贯彻中建一局第五次党代会会议精神。将中建一局党委和纪委的各项工作要求落到实处，为实现公司五年后营业收入300亿，利润总额30亿的目标不懈奋斗！</td>\n",
       "      <td>0</td>\n",
       "    </tr>\n",
       "    <tr>\n",
       "      <th>2</th>\n",
       "      <td>81556</td>\n",
       "      <td>亏损盈利</td>\n",
       "      <td>三项制度改革让“能者上、平者让、庸者下”</td>\n",
       "      <td>原标题：三项制度改革让“能者上、平者让、庸者下”\\n\\n11月11日，中建一局二公司生产组织中心主任公开竞聘面试正在进行，经过前期的资料审核、岗位资格审查和管理测评，共有3名竞聘人员进入最终的结构化面试环节。\\n\\n孟繁健是参加本次竞聘的人员之一，而这并不是他第一次参加公司的市场化公开竞聘。3年前，孟繁健通过竞聘成为公司某项目的总监，3年后，尝到竞聘“甜头”的孟繁健决定挑战新岗位、迎接新任务。\\n\\n随着改革的深入推进，中建一局二公司在市场化经营机制改革方面不断强化升级，近两年完成了公司总部部门副职以上的全员公开竞聘上岗，为进一步实施市场化选聘和契约化管理奠定了基础。\\n\\n2018年，中建一局二公司入选国企改革“双百行动”企业，成为中建集团旗下入选“双百企业”的两家单位之一。近两年来，中建一局二公司按照“完善治理、强化激励、突出主业、提高效率”的方针，稳妥推进股权多元化和混合所有制改革、完善市场化经营机制、健全激励约束机制，并取得阶段性成果。\\n\\n随着企业整体规模的快速扩张，转型升级战略的不断深入，中建一局二公司人均创效水平不高，“人员短缺”与“人员冗余”同时存在；基础设施、海外以及投融资等转型板块高端人才引进渠道略为单一，对企业转型升级支撑力度不够；市场化程度不高，激励方式相对单一，差异化和业绩导向不够明确等问题逐渐显现。\\n\\n为此，中建一局二公司以深化人事、劳动、分配三项制度改革为抓手，推行与市场化经营机制相匹配的选人用人机制、用工分配体系改革，实现“干部能上能下，员工能进能出，薪酬能增能减”，让三项制度改革成为企业改革的助推器。\\n\\n为激发管理团队活力，中建一局二公司建立标准明确、程序规范、结果公平的选人用人工作机制，逐步做到“能者上、平者让、庸者下”，不断提升领导人员五位一体能力素养。同时，坚持业绩与能力导向，通过定期开展薪酬盘点、三维六指模型人力资源价值指数的对标晾晒，差异化设计薪酬标准，让企业的资源投入更精准。\\n\\n经过近两年的探索和实践，改革对企业发展的促进作用日益凸显。预计2019年，中建一局二公司合同额将达320亿元、营业收入达125亿元，企业的竞争力、创新力、控制力、影响力、抗风险能力不断增强，改革红利持续释放。\\n\\n“希望通过中建一局二公司‘双百行动’这个点上的示范突破，探索形成可复制、可推广的改革经验，带动全局的改革向纵深推进，为全面深化国有企业改革提供有效的借鉴。”中建一局党委书记、董事长罗世威说。</td>\n",
       "      <td>0</td>\n",
       "    </tr>\n",
       "    <tr>\n",
       "      <th>3</th>\n",
       "      <td>81557</td>\n",
       "      <td>停业暂停</td>\n",
       "      <td>荆门市大气污染防治百日攻坚专班全面检查大气污染问题</td>\n",
       "      <td>开展此次检查，旨在持续做好重污染橙色预警期间的应急管控及省生态环境厅定点帮扶暨驻点执法第六工作组交办问题的整改工作。当日，出动了11个现场组、近80人次，先后检查建筑工地41个、企业13家、餐饮店2家、机动车179辆，共发现问题20个，其中建筑工地14个、企业2个、餐饮1家、机动车3辆。\\n\\n根据检查结果，建筑工地存在的问题主要是现场砂石裸露、渣土未覆盖、清洗车池设置不规范等。如中建一局施工工地在进行土方作业，检查组现场责令停工，要求覆盖裸土。汉阳市政挖机在施工，检查组现场责令停工。在掇刀地税路，检查组发现有大型机械作业，责令施工方停工。在荆门高新区·掇刀区精忠大道金福源院内，有两家木材加工厂，均存在未办理环保相关手续、木材切割过程中产生木屑未进行收集处理的问题。</td>\n",
       "      <td>0</td>\n",
       "    </tr>\n",
       "    <tr>\n",
       "      <th>4</th>\n",
       "      <td>81558</td>\n",
       "      <td>经营业务</td>\n",
       "      <td>郑州六家工地劳动用工标准受到通报表彰</td>\n",
       "      <td>原标题：六家工地劳动用工标准受到通报表彰记者29日从郑州城乡建设局了解到，今年第四季度，有6个建设工程项目被评为建设工程劳动用工标准化工地，因此受到郑州城建局的通报表彰。6个建设工程项目包括：宏江金贸\\n\\n记者29日从郑州城乡建设局了解到，今年第四季度，有6个建设工程项目被评为建设工程劳动用工标准化工地，因此受到郑州城建局的通报表彰。\\n\\n6个建设工程项目包括：宏江金贸中心[河南省对外建设有限公司承建]，新田印象商业中心[中国建筑一局（集团）有限公司承建]，郑州轨道交通6号线市政配套工程土建施工03标段[中国建筑一局（集团）有限公司承建]，中原区·郑州中原新区庙王安置区西地块一标段[河南六建建筑集团有限公司承建]，中原区·郑州中原新区马庄安置区东地块二标段[郑州一建集团有限公司承建]，荥阳市·瀚宇天悦湾2号院一期[河南领域建设工程有限公司承建]。</td>\n",
       "      <td>0</td>\n",
       "    </tr>\n",
       "    <tr>\n",
       "      <th>5</th>\n",
       "      <td>81559</td>\n",
       "      <td>经营业务</td>\n",
       "      <td>【重磅】斥资3亿多!高72米!巢湖这一大型门急诊综合楼破土动工.</td>\n",
       "      <td>合肥八院始建于1952年，俗称三康医院，已走过67年的辉煌历史，是一所集医疗、护理、保健、教学、科研为一体的综合性国家二级甲等医院。近年来，医院的办院规模逐步扩大，服务水平逐步提高，贏得了社会各界普遍赞誉。\\n\\n随着巢湖市人口的增长和社会经济的发展，合肥市八院在硬件设施上已跟不上发展的步伐，社会和群众对医疗的需求越来越大，要求越来越高，兴建综合多功能的门急诊综合大楼，改善医院就医环境，是医院发展的必然要求。\\n\\n为改善合肥市八院医疗环境、设施，合肥市委市政府拨款3.36亿元用于新建地下2层、地上16层，总建筑面积41540平方米的现代化门急诊综合大楼。工程竣工后，将大大改善合肥市八院医疗卫生环境，促进巢湖市卫生事业的发展。\\n\\n合肥市八院新的门急诊综合楼计划建设工期720天，整个项目由中建一局负责建设，预计在2021年底竣工验收并投入使用。 新大楼完工后，该院床位总数将达到1000张。\\n\\n今天，合肥市八院还与中国红十字会合作，邀请中国科技大学附属第一医院、安徽医科大学附属医院知名专家举办“医路相伴”——专家进基层大型公益义诊和授牌仪式。\\n\\n今天，合肥市八院新门急诊综合楼项目正式开工，这是该院建设发展史上的重要里程碑，是跨越发展、创建三甲医院的崭新突破口，也是提高医院整体服务能力，增强综合实力的关键着力点，建成后将大大改善巢湖老百姓的就医环境。</td>\n",
       "      <td>0</td>\n",
       "    </tr>\n",
       "  </tbody>\n",
       "</table>\n",
       "</div>"
      ],
      "text/plain": [
       "   record_id item_name                             title  \\\n",
       "1      81555      亏损盈利            中建一局房地产公司学习宣贯局第五次党代会精神   \n",
       "2      81556      亏损盈利              三项制度改革让“能者上、平者让、庸者下”   \n",
       "3      81557      停业暂停         荆门市大气污染防治百日攻坚专班全面检查大气污染问题   \n",
       "4      81558      经营业务                郑州六家工地劳动用工标准受到通报表彰   \n",
       "5      81559      经营业务  【重磅】斥资3亿多!高72米!巢湖这一大型门急诊综合楼破土动工.   \n",
       "\n",
       "                                                                                                                                                                                                                                                                                                                                                                                                                                                                                                                                                                                                                                                                                                                                                                                                                                                                                                                                                                                                                                                                                                                                          content_  \\\n",
       "1  本网讯（通讯员 孙静娴）12月13日上午，中建一局房地产公司组织召开第七次中心组学习（扩大）会，第一时间对中建一局第五次党代会精神进行专题学习宣贯。此次会议在公司总部会议室设主会场1个，各下属经营机构共设分会场11个，参会人员涉及公司领导班子成员、总部部门负责人及以上干部、各下属经营机构负责人、全体党员及群众代表近100余人。会议由局党委委员、公司党委书记、董事长樊飞军主持。\\n\\n会上，传达学习了罗世威同志在中建一局第五次党代会上所作的《坚持党建引领强化战略执行 永葆组织活力 为创建中国建筑旗下最具核心竞争力的世界一流企业不懈奋斗》的党委工作报告、王希强同志在中建一局第五次党代会上所作的《推进“两个责任”落实 坚决做到“两个维护” 忠实履行党章和宪法赋予的职责 为实现中建一局战略目标提供坚强保障》的纪委工作报告，参会人员对两个报告的内容进行了热烈讨论，并结合企业实际进行了交流研讨。\\n\\n一是以实施“五大聚焦”和“一化三线”战略为主线，加速实现规模发展。深度聚焦国家重点战略地区，聚焦北京、天津、江苏、浙江和上海等战略区域重点城市，并建立研究工作机制，以“政策性住房”产品线为核心，以普通商品住宅产品线为助力，重点突破苏南、南京、北京、天津、南通、宁波等城市。\\n\\n二是以推进公司化建设和精细化管理为核心，加速提升竞争优势。要眼界向外，不断对标学习标杆房企、中建系统内优势企业的先进思想和举措，推进企业治理体系建设和公司化建设，强化精细化管理，以规范、科学的工作机制推动企业高质量发展。\\n\\n三是以紧抓投融资管理和降杠杆减负债为抓手，加速推进高质发展。坚持“两金”压降过程监控，全力降低带息负债。建立健全过程监控管理体系，构建覆盖全生命周期的管理体系，及时识别、防控、化解风险问题，建立风险事项清单及销项制度，加强风险防控与应对能力。\\n\\n四是坚持党的领导，聚焦新时代高质量党建引领高质量发展，夯实成为中建一局价值和效益新担当。必须坚持思想引领，坚定政治站位，将习近平新时代中国特色社会主义思想和党的十九大、十九届四中全会精神贯穿经营发展全过程。深入践行155大党建工作格局，进一步深化党建工作与生产经营一体化；始终锁定“中建一局效益贡献骨干子企业”的战略目标；始终强化战略执行，做到使命必达；始终强化党风廉政建设，营造风清气正政治生态；始终坚持不懈加强领导班子建设和干部队伍建设，夯实改革发展的组织保障。\\n\\n五是要继续组织全体人员深入学习贯彻中建一局第五次党代会会议精神。将中建一局党委和纪委的各项工作要求落到实处，为实现公司五年后营业收入300亿，利润总额30亿的目标不懈奋斗！   \n",
       "2                                                                     原标题：三项制度改革让“能者上、平者让、庸者下”\\n\\n11月11日，中建一局二公司生产组织中心主任公开竞聘面试正在进行，经过前期的资料审核、岗位资格审查和管理测评，共有3名竞聘人员进入最终的结构化面试环节。\\n\\n孟繁健是参加本次竞聘的人员之一，而这并不是他第一次参加公司的市场化公开竞聘。3年前，孟繁健通过竞聘成为公司某项目的总监，3年后，尝到竞聘“甜头”的孟繁健决定挑战新岗位、迎接新任务。\\n\\n随着改革的深入推进，中建一局二公司在市场化经营机制改革方面不断强化升级，近两年完成了公司总部部门副职以上的全员公开竞聘上岗，为进一步实施市场化选聘和契约化管理奠定了基础。\\n\\n2018年，中建一局二公司入选国企改革“双百行动”企业，成为中建集团旗下入选“双百企业”的两家单位之一。近两年来，中建一局二公司按照“完善治理、强化激励、突出主业、提高效率”的方针，稳妥推进股权多元化和混合所有制改革、完善市场化经营机制、健全激励约束机制，并取得阶段性成果。\\n\\n随着企业整体规模的快速扩张，转型升级战略的不断深入，中建一局二公司人均创效水平不高，“人员短缺”与“人员冗余”同时存在；基础设施、海外以及投融资等转型板块高端人才引进渠道略为单一，对企业转型升级支撑力度不够；市场化程度不高，激励方式相对单一，差异化和业绩导向不够明确等问题逐渐显现。\\n\\n为此，中建一局二公司以深化人事、劳动、分配三项制度改革为抓手，推行与市场化经营机制相匹配的选人用人机制、用工分配体系改革，实现“干部能上能下，员工能进能出，薪酬能增能减”，让三项制度改革成为企业改革的助推器。\\n\\n为激发管理团队活力，中建一局二公司建立标准明确、程序规范、结果公平的选人用人工作机制，逐步做到“能者上、平者让、庸者下”，不断提升领导人员五位一体能力素养。同时，坚持业绩与能力导向，通过定期开展薪酬盘点、三维六指模型人力资源价值指数的对标晾晒，差异化设计薪酬标准，让企业的资源投入更精准。\\n\\n经过近两年的探索和实践，改革对企业发展的促进作用日益凸显。预计2019年，中建一局二公司合同额将达320亿元、营业收入达125亿元，企业的竞争力、创新力、控制力、影响力、抗风险能力不断增强，改革红利持续释放。\\n\\n“希望通过中建一局二公司‘双百行动’这个点上的示范突破，探索形成可复制、可推广的改革经验，带动全局的改革向纵深推进，为全面深化国有企业改革提供有效的借鉴。”中建一局党委书记、董事长罗世威说。   \n",
       "3                                                                                                                                                                                                                                                                                                                                                                                                                                                                                                                                                                                                                                                                                                                                                                                                开展此次检查，旨在持续做好重污染橙色预警期间的应急管控及省生态环境厅定点帮扶暨驻点执法第六工作组交办问题的整改工作。当日，出动了11个现场组、近80人次，先后检查建筑工地41个、企业13家、餐饮店2家、机动车179辆，共发现问题20个，其中建筑工地14个、企业2个、餐饮1家、机动车3辆。\\n\\n根据检查结果，建筑工地存在的问题主要是现场砂石裸露、渣土未覆盖、清洗车池设置不规范等。如中建一局施工工地在进行土方作业，检查组现场责令停工，要求覆盖裸土。汉阳市政挖机在施工，检查组现场责令停工。在掇刀地税路，检查组发现有大型机械作业，责令施工方停工。在荆门高新区·掇刀区精忠大道金福源院内，有两家木材加工厂，均存在未办理环保相关手续、木材切割过程中产生木屑未进行收集处理的问题。   \n",
       "4                                                                                                                                                                                                                                                                                                                                                                                                                                                                                                                                                                                                                                                                                                                                                     原标题：六家工地劳动用工标准受到通报表彰记者29日从郑州城乡建设局了解到，今年第四季度，有6个建设工程项目被评为建设工程劳动用工标准化工地，因此受到郑州城建局的通报表彰。6个建设工程项目包括：宏江金贸\\n\\n记者29日从郑州城乡建设局了解到，今年第四季度，有6个建设工程项目被评为建设工程劳动用工标准化工地，因此受到郑州城建局的通报表彰。\\n\\n6个建设工程项目包括：宏江金贸中心[河南省对外建设有限公司承建]，新田印象商业中心[中国建筑一局（集团）有限公司承建]，郑州轨道交通6号线市政配套工程土建施工03标段[中国建筑一局（集团）有限公司承建]，中原区·郑州中原新区庙王安置区西地块一标段[河南六建建筑集团有限公司承建]，中原区·郑州中原新区马庄安置区东地块二标段[郑州一建集团有限公司承建]，荥阳市·瀚宇天悦湾2号院一期[河南领域建设工程有限公司承建]。   \n",
       "5                                                                                                                                                                                                                                                                                                                                                                                                                                                                                                                                      合肥八院始建于1952年，俗称三康医院，已走过67年的辉煌历史，是一所集医疗、护理、保健、教学、科研为一体的综合性国家二级甲等医院。近年来，医院的办院规模逐步扩大，服务水平逐步提高，贏得了社会各界普遍赞誉。\\n\\n随着巢湖市人口的增长和社会经济的发展，合肥市八院在硬件设施上已跟不上发展的步伐，社会和群众对医疗的需求越来越大，要求越来越高，兴建综合多功能的门急诊综合大楼，改善医院就医环境，是医院发展的必然要求。\\n\\n为改善合肥市八院医疗环境、设施，合肥市委市政府拨款3.36亿元用于新建地下2层、地上16层，总建筑面积41540平方米的现代化门急诊综合大楼。工程竣工后，将大大改善合肥市八院医疗卫生环境，促进巢湖市卫生事业的发展。\\n\\n合肥市八院新的门急诊综合楼计划建设工期720天，整个项目由中建一局负责建设，预计在2021年底竣工验收并投入使用。 新大楼完工后，该院床位总数将达到1000张。\\n\\n今天，合肥市八院还与中国红十字会合作，邀请中国科技大学附属第一医院、安徽医科大学附属医院知名专家举办“医路相伴”——专家进基层大型公益义诊和授牌仪式。\\n\\n今天，合肥市八院新门急诊综合楼项目正式开工，这是该院建设发展史上的重要里程碑，是跨越发展、创建三甲医院的崭新突破口，也是提高医院整体服务能力，增强综合实力的关键着力点，建成后将大大改善巢湖老百姓的就医环境。   \n",
       "\n",
       "   pre-label  \n",
       "1          0  \n",
       "2          0  \n",
       "3          0  \n",
       "4          0  \n",
       "5          0  "
      ]
     },
     "execution_count": 76,
     "metadata": {},
     "output_type": "execute_result"
    }
   ],
   "source": [
    "data_label.head()"
   ]
  },
  {
   "cell_type": "code",
   "execution_count": 86,
   "metadata": {},
   "outputs": [],
   "source": [
    "keyword = pd.read_csv('关键词_企业.csv')"
   ]
  },
  {
   "cell_type": "code",
   "execution_count": 89,
   "metadata": {},
   "outputs": [],
   "source": [
    "keyword_list = list(keyword['退市'])"
   ]
  },
  {
   "cell_type": "code",
   "execution_count": null,
   "metadata": {},
   "outputs": [],
   "source": []
  },
  {
   "cell_type": "code",
   "execution_count": 94,
   "metadata": {},
   "outputs": [],
   "source": [
    "lst = [1,2,3,4]\n",
    "lst_2 = [1,2]\n",
    "lst_3 = [x for x in lst if x not in lst_2]"
   ]
  },
  {
   "cell_type": "code",
   "execution_count": 95,
   "metadata": {},
   "outputs": [
    {
     "ename": "ValueError",
     "evalue": "list.remove(x): x not in list",
     "output_type": "error",
     "traceback": [
      "\u001b[0;31m---------------------------------------------------------------------------\u001b[0m",
      "\u001b[0;31mValueError\u001b[0m                                Traceback (most recent call last)",
      "\u001b[0;32m<ipython-input-95-83274bc3741b>\u001b[0m in \u001b[0;36m<module>\u001b[0;34m\u001b[0m\n\u001b[0;32m----> 1\u001b[0;31m \u001b[0mlst\u001b[0m\u001b[0;34m.\u001b[0m\u001b[0mremove\u001b[0m\u001b[0;34m(\u001b[0m\u001b[0mlst_2\u001b[0m\u001b[0;34m)\u001b[0m\u001b[0;34m\u001b[0m\u001b[0;34m\u001b[0m\u001b[0m\n\u001b[0m",
      "\u001b[0;31mValueError\u001b[0m: list.remove(x): x not in list"
     ]
    }
   ],
   "source": [
    "lst.remove(lst_2)"
   ]
  },
  {
   "cell_type": "code",
   "execution_count": 98,
   "metadata": {},
   "outputs": [],
   "source": [
    "lst_3 = [x for x in lst if x not in lst_2]"
   ]
  },
  {
   "cell_type": "code",
   "execution_count": 97,
   "metadata": {},
   "outputs": [
    {
     "data": {
      "text/plain": [
       "[3, 4]"
      ]
     },
     "execution_count": 97,
     "metadata": {},
     "output_type": "execute_result"
    }
   ],
   "source": [
    "l3"
   ]
  },
  {
   "cell_type": "code",
   "execution_count": null,
   "metadata": {},
   "outputs": [],
   "source": []
  },
  {
   "cell_type": "code",
   "execution_count": null,
   "metadata": {},
   "outputs": [],
   "source": []
  },
  {
   "cell_type": "code",
   "execution_count": null,
   "metadata": {},
   "outputs": [],
   "source": []
  },
  {
   "cell_type": "code",
   "execution_count": null,
   "metadata": {},
   "outputs": [],
   "source": []
  },
  {
   "cell_type": "code",
   "execution_count": null,
   "metadata": {},
   "outputs": [],
   "source": []
  },
  {
   "cell_type": "code",
   "execution_count": null,
   "metadata": {},
   "outputs": [],
   "source": []
  },
  {
   "cell_type": "code",
   "execution_count": null,
   "metadata": {},
   "outputs": [],
   "source": []
  },
  {
   "cell_type": "code",
   "execution_count": null,
   "metadata": {},
   "outputs": [],
   "source": []
  },
  {
   "cell_type": "code",
   "execution_count": null,
   "metadata": {},
   "outputs": [],
   "source": []
  },
  {
   "cell_type": "code",
   "execution_count": null,
   "metadata": {},
   "outputs": [],
   "source": []
  },
  {
   "cell_type": "code",
   "execution_count": null,
   "metadata": {},
   "outputs": [],
   "source": []
  },
  {
   "cell_type": "code",
   "execution_count": null,
   "metadata": {},
   "outputs": [],
   "source": []
  },
  {
   "cell_type": "code",
   "execution_count": null,
   "metadata": {},
   "outputs": [],
   "source": []
  },
  {
   "cell_type": "code",
   "execution_count": null,
   "metadata": {},
   "outputs": [],
   "source": []
  },
  {
   "cell_type": "code",
   "execution_count": null,
   "metadata": {},
   "outputs": [],
   "source": []
  },
  {
   "cell_type": "code",
   "execution_count": null,
   "metadata": {},
   "outputs": [],
   "source": []
  },
  {
   "cell_type": "code",
   "execution_count": null,
   "metadata": {},
   "outputs": [],
   "source": []
  },
  {
   "cell_type": "code",
   "execution_count": null,
   "metadata": {},
   "outputs": [],
   "source": []
  },
  {
   "cell_type": "code",
   "execution_count": null,
   "metadata": {},
   "outputs": [],
   "source": []
  },
  {
   "cell_type": "code",
   "execution_count": null,
   "metadata": {},
   "outputs": [],
   "source": []
  },
  {
   "cell_type": "code",
   "execution_count": null,
   "metadata": {},
   "outputs": [],
   "source": []
  },
  {
   "cell_type": "code",
   "execution_count": null,
   "metadata": {},
   "outputs": [],
   "source": []
  },
  {
   "cell_type": "code",
   "execution_count": null,
   "metadata": {},
   "outputs": [],
   "source": []
  },
  {
   "cell_type": "code",
   "execution_count": null,
   "metadata": {},
   "outputs": [],
   "source": []
  },
  {
   "cell_type": "code",
   "execution_count": null,
   "metadata": {},
   "outputs": [],
   "source": []
  },
  {
   "cell_type": "code",
   "execution_count": null,
   "metadata": {},
   "outputs": [],
   "source": []
  },
  {
   "cell_type": "code",
   "execution_count": null,
   "metadata": {},
   "outputs": [],
   "source": []
  },
  {
   "cell_type": "code",
   "execution_count": null,
   "metadata": {},
   "outputs": [],
   "source": []
  },
  {
   "cell_type": "code",
   "execution_count": null,
   "metadata": {},
   "outputs": [],
   "source": []
  },
  {
   "cell_type": "code",
   "execution_count": null,
   "metadata": {},
   "outputs": [],
   "source": []
  },
  {
   "cell_type": "code",
   "execution_count": null,
   "metadata": {},
   "outputs": [],
   "source": []
  },
  {
   "cell_type": "code",
   "execution_count": null,
   "metadata": {},
   "outputs": [],
   "source": []
  },
  {
   "cell_type": "code",
   "execution_count": null,
   "metadata": {},
   "outputs": [],
   "source": []
  },
  {
   "cell_type": "code",
   "execution_count": null,
   "metadata": {},
   "outputs": [],
   "source": []
  },
  {
   "cell_type": "code",
   "execution_count": null,
   "metadata": {},
   "outputs": [],
   "source": []
  },
  {
   "cell_type": "code",
   "execution_count": null,
   "metadata": {},
   "outputs": [],
   "source": []
  },
  {
   "cell_type": "code",
   "execution_count": null,
   "metadata": {},
   "outputs": [],
   "source": []
  },
  {
   "cell_type": "code",
   "execution_count": null,
   "metadata": {},
   "outputs": [],
   "source": []
  },
  {
   "cell_type": "code",
   "execution_count": null,
   "metadata": {},
   "outputs": [],
   "source": []
  },
  {
   "cell_type": "code",
   "execution_count": null,
   "metadata": {},
   "outputs": [],
   "source": []
  },
  {
   "cell_type": "code",
   "execution_count": null,
   "metadata": {},
   "outputs": [],
   "source": []
  },
  {
   "cell_type": "code",
   "execution_count": null,
   "metadata": {},
   "outputs": [],
   "source": []
  },
  {
   "cell_type": "code",
   "execution_count": null,
   "metadata": {},
   "outputs": [],
   "source": []
  },
  {
   "cell_type": "code",
   "execution_count": null,
   "metadata": {},
   "outputs": [],
   "source": []
  },
  {
   "cell_type": "code",
   "execution_count": null,
   "metadata": {},
   "outputs": [],
   "source": []
  },
  {
   "cell_type": "code",
   "execution_count": null,
   "metadata": {},
   "outputs": [],
   "source": []
  },
  {
   "cell_type": "code",
   "execution_count": null,
   "metadata": {},
   "outputs": [],
   "source": []
  },
  {
   "cell_type": "code",
   "execution_count": null,
   "metadata": {},
   "outputs": [],
   "source": []
  },
  {
   "cell_type": "code",
   "execution_count": null,
   "metadata": {},
   "outputs": [],
   "source": []
  },
  {
   "cell_type": "code",
   "execution_count": 43,
   "metadata": {},
   "outputs": [
    {
     "ename": "KeyboardInterrupt",
     "evalue": "",
     "output_type": "error",
     "traceback": [
      "\u001b[0;31m---------------------------------------------------------------------------\u001b[0m",
      "\u001b[0;31mKeyboardInterrupt\u001b[0m                         Traceback (most recent call last)",
      "\u001b[0;32m<ipython-input-43-f4ba20449a81>\u001b[0m in \u001b[0;36m<module>\u001b[0;34m\u001b[0m\n\u001b[1;32m      2\u001b[0m \u001b[0;34m\u001b[0m\u001b[0m\n\u001b[1;32m      3\u001b[0m \u001b[0mtfidf\u001b[0m \u001b[0;34m=\u001b[0m \u001b[0mTfidfVectorizer\u001b[0m\u001b[0;34m(\u001b[0m\u001b[0mnorm\u001b[0m\u001b[0;34m=\u001b[0m\u001b[0;34m'l2'\u001b[0m\u001b[0;34m,\u001b[0m \u001b[0mngram_range\u001b[0m\u001b[0;34m=\u001b[0m\u001b[0;34m(\u001b[0m\u001b[0;36m1\u001b[0m\u001b[0;34m,\u001b[0m \u001b[0;36m2\u001b[0m\u001b[0;34m)\u001b[0m\u001b[0;34m)\u001b[0m\u001b[0;34m\u001b[0m\u001b[0;34m\u001b[0m\u001b[0m\n\u001b[0;32m----> 4\u001b[0;31m \u001b[0mfeatures\u001b[0m \u001b[0;34m=\u001b[0m \u001b[0mtfidf\u001b[0m\u001b[0;34m.\u001b[0m\u001b[0mfit_transform\u001b[0m\u001b[0;34m(\u001b[0m\u001b[0mduplicated_sy_risk\u001b[0m\u001b[0;34m.\u001b[0m\u001b[0mcut_word\u001b[0m\u001b[0;34m)\u001b[0m\u001b[0;34m\u001b[0m\u001b[0;34m\u001b[0m\u001b[0m\n\u001b[0m\u001b[1;32m      5\u001b[0m \u001b[0mlabels\u001b[0m \u001b[0;34m=\u001b[0m \u001b[0mduplicated_sy_risk\u001b[0m\u001b[0;34m.\u001b[0m\u001b[0mlabel\u001b[0m\u001b[0;34m\u001b[0m\u001b[0;34m\u001b[0m\u001b[0m\n\u001b[1;32m      6\u001b[0m \u001b[0mprint\u001b[0m\u001b[0;34m(\u001b[0m\u001b[0mfeatures\u001b[0m\u001b[0;34m.\u001b[0m\u001b[0mshape\u001b[0m\u001b[0;34m)\u001b[0m\u001b[0;34m\u001b[0m\u001b[0;34m\u001b[0m\u001b[0m\n",
      "\u001b[0;32m/opt/anaconda3/envs/tensorflow/lib/python3.6/site-packages/sklearn/feature_extraction/text.py\u001b[0m in \u001b[0;36mfit_transform\u001b[0;34m(self, raw_documents, y)\u001b[0m\n\u001b[1;32m   1839\u001b[0m         \"\"\"\n\u001b[1;32m   1840\u001b[0m         \u001b[0mself\u001b[0m\u001b[0;34m.\u001b[0m\u001b[0m_check_params\u001b[0m\u001b[0;34m(\u001b[0m\u001b[0;34m)\u001b[0m\u001b[0;34m\u001b[0m\u001b[0;34m\u001b[0m\u001b[0m\n\u001b[0;32m-> 1841\u001b[0;31m         \u001b[0mX\u001b[0m \u001b[0;34m=\u001b[0m \u001b[0msuper\u001b[0m\u001b[0;34m(\u001b[0m\u001b[0;34m)\u001b[0m\u001b[0;34m.\u001b[0m\u001b[0mfit_transform\u001b[0m\u001b[0;34m(\u001b[0m\u001b[0mraw_documents\u001b[0m\u001b[0;34m)\u001b[0m\u001b[0;34m\u001b[0m\u001b[0;34m\u001b[0m\u001b[0m\n\u001b[0m\u001b[1;32m   1842\u001b[0m         \u001b[0mself\u001b[0m\u001b[0;34m.\u001b[0m\u001b[0m_tfidf\u001b[0m\u001b[0;34m.\u001b[0m\u001b[0mfit\u001b[0m\u001b[0;34m(\u001b[0m\u001b[0mX\u001b[0m\u001b[0;34m)\u001b[0m\u001b[0;34m\u001b[0m\u001b[0;34m\u001b[0m\u001b[0m\n\u001b[1;32m   1843\u001b[0m         \u001b[0;31m# X is already a transformed view of raw_documents so\u001b[0m\u001b[0;34m\u001b[0m\u001b[0;34m\u001b[0m\u001b[0;34m\u001b[0m\u001b[0m\n",
      "\u001b[0;32m/opt/anaconda3/envs/tensorflow/lib/python3.6/site-packages/sklearn/feature_extraction/text.py\u001b[0m in \u001b[0;36mfit_transform\u001b[0;34m(self, raw_documents, y)\u001b[0m\n\u001b[1;32m   1220\u001b[0m                                                        max_features)\n\u001b[1;32m   1221\u001b[0m             \u001b[0;32mif\u001b[0m \u001b[0mmax_features\u001b[0m \u001b[0;32mis\u001b[0m \u001b[0;32mNone\u001b[0m\u001b[0;34m:\u001b[0m\u001b[0;34m\u001b[0m\u001b[0;34m\u001b[0m\u001b[0m\n\u001b[0;32m-> 1222\u001b[0;31m                 \u001b[0mX\u001b[0m \u001b[0;34m=\u001b[0m \u001b[0mself\u001b[0m\u001b[0;34m.\u001b[0m\u001b[0m_sort_features\u001b[0m\u001b[0;34m(\u001b[0m\u001b[0mX\u001b[0m\u001b[0;34m,\u001b[0m \u001b[0mvocabulary\u001b[0m\u001b[0;34m)\u001b[0m\u001b[0;34m\u001b[0m\u001b[0;34m\u001b[0m\u001b[0m\n\u001b[0m\u001b[1;32m   1223\u001b[0m             \u001b[0mself\u001b[0m\u001b[0;34m.\u001b[0m\u001b[0mvocabulary_\u001b[0m \u001b[0;34m=\u001b[0m \u001b[0mvocabulary\u001b[0m\u001b[0;34m\u001b[0m\u001b[0;34m\u001b[0m\u001b[0m\n\u001b[1;32m   1224\u001b[0m \u001b[0;34m\u001b[0m\u001b[0m\n",
      "\u001b[0;32m/opt/anaconda3/envs/tensorflow/lib/python3.6/site-packages/sklearn/feature_extraction/text.py\u001b[0m in \u001b[0;36m_sort_features\u001b[0;34m(self, X, vocabulary)\u001b[0m\n\u001b[1;32m   1040\u001b[0m         \u001b[0mReturns\u001b[0m \u001b[0ma\u001b[0m \u001b[0mreordered\u001b[0m \u001b[0mmatrix\u001b[0m \u001b[0;32mand\u001b[0m \u001b[0mmodifies\u001b[0m \u001b[0mthe\u001b[0m \u001b[0mvocabulary\u001b[0m \u001b[0;32min\u001b[0m \u001b[0mplace\u001b[0m\u001b[0;34m\u001b[0m\u001b[0;34m\u001b[0m\u001b[0m\n\u001b[1;32m   1041\u001b[0m         \"\"\"\n\u001b[0;32m-> 1042\u001b[0;31m         \u001b[0msorted_features\u001b[0m \u001b[0;34m=\u001b[0m \u001b[0msorted\u001b[0m\u001b[0;34m(\u001b[0m\u001b[0mvocabulary\u001b[0m\u001b[0;34m.\u001b[0m\u001b[0mitems\u001b[0m\u001b[0;34m(\u001b[0m\u001b[0;34m)\u001b[0m\u001b[0;34m)\u001b[0m\u001b[0;34m\u001b[0m\u001b[0;34m\u001b[0m\u001b[0m\n\u001b[0m\u001b[1;32m   1043\u001b[0m         \u001b[0mmap_index\u001b[0m \u001b[0;34m=\u001b[0m \u001b[0mnp\u001b[0m\u001b[0;34m.\u001b[0m\u001b[0mempty\u001b[0m\u001b[0;34m(\u001b[0m\u001b[0mlen\u001b[0m\u001b[0;34m(\u001b[0m\u001b[0msorted_features\u001b[0m\u001b[0;34m)\u001b[0m\u001b[0;34m,\u001b[0m \u001b[0mdtype\u001b[0m\u001b[0;34m=\u001b[0m\u001b[0mX\u001b[0m\u001b[0;34m.\u001b[0m\u001b[0mindices\u001b[0m\u001b[0;34m.\u001b[0m\u001b[0mdtype\u001b[0m\u001b[0;34m)\u001b[0m\u001b[0;34m\u001b[0m\u001b[0;34m\u001b[0m\u001b[0m\n\u001b[1;32m   1044\u001b[0m         \u001b[0;32mfor\u001b[0m \u001b[0mnew_val\u001b[0m\u001b[0;34m,\u001b[0m \u001b[0;34m(\u001b[0m\u001b[0mterm\u001b[0m\u001b[0;34m,\u001b[0m \u001b[0mold_val\u001b[0m\u001b[0;34m)\u001b[0m \u001b[0;32min\u001b[0m \u001b[0menumerate\u001b[0m\u001b[0;34m(\u001b[0m\u001b[0msorted_features\u001b[0m\u001b[0;34m)\u001b[0m\u001b[0;34m:\u001b[0m\u001b[0;34m\u001b[0m\u001b[0;34m\u001b[0m\u001b[0m\n",
      "\u001b[0;31mKeyboardInterrupt\u001b[0m: "
     ]
    }
   ],
   "source": [
    "from sklearn.feature_extraction.text import TfidfVectorizer\n",
    " \n",
    "tfidf = TfidfVectorizer(norm='l2', ngram_range=(1, 2))\n",
    "features = tfidf.fit_transform(duplicated_sy_risk.cut_word)\n",
    "labels = duplicated_sy_risk.label\n",
    "print(features.shape)\n",
    "print('-----------------------------')\n",
    "print(features)\n",
    "print(labels)"
   ]
  },
  {
   "cell_type": "code",
   "execution_count": null,
   "metadata": {},
   "outputs": [],
   "source": [
    "def myPredict(sec):\n",
    "    format_sec=\" \".join([w for w in list(jb.cut(remove_punctuation(sec)))])\n",
    "    prediction =clf.predict(count_vect.transform([format_sec]))\n",
    "    print(num_to_label[prediction[0]])"
   ]
  },
  {
   "cell_type": "code",
   "execution_count": null,
   "metadata": {},
   "outputs": [],
   "source": [
    "from sklearn.linear_model import LogisticRegression\n",
    "from sklearn.ensemble import RandomForestClassifier\n",
    "from sklearn.naive_bayes import MultinomialNB\n",
    "from sklearn.svm import LinearSVC\n",
    " \n",
    "from sklearn.model_selection import cross_val_score\n"
   ]
  },
  {
   "cell_type": "code",
   "execution_count": null,
   "metadata": {},
   "outputs": [],
   "source": [
    "\n",
    "models = [\n",
    "    RandomForestClassifier(n_estimators=200, max_depth=3, random_state=0),\n",
    "    LinearSVC(),\n",
    "    MultinomialNB(),\n",
    "    LogisticRegression(random_state=0),\n",
    "]\n",
    "CV = 5\n",
    "cv_df = pd.DataFrame(index=range(CV * len(models)))\n",
    "entries = []\n",
    "for model in models:\n",
    "    model_name = model.__class__.__name__\n",
    "    accuracies = cross_val_score(model, features, labels, scoring='accuracy', cv=CV)\n",
    "    for fold_idx, accuracy in enumerate(accuracies):\n",
    "        entries.append((model_name, fold_idx, accuracy))\n",
    "cv_df = pd.DataFrame(entries, columns=['model_name', 'fold_idx', 'accuracy'])"
   ]
  },
  {
   "cell_type": "code",
   "execution_count": null,
   "metadata": {},
   "outputs": [],
   "source": []
  },
  {
   "cell_type": "code",
   "execution_count": null,
   "metadata": {},
   "outputs": [],
   "source": []
  },
  {
   "cell_type": "code",
   "execution_count": null,
   "metadata": {},
   "outputs": [],
   "source": []
  },
  {
   "cell_type": "code",
   "execution_count": null,
   "metadata": {},
   "outputs": [],
   "source": []
  },
  {
   "cell_type": "code",
   "execution_count": 46,
   "metadata": {},
   "outputs": [],
   "source": [
    "MAX_SEQUENCE_LENGTH = 10000 # 每条新闻最大长度\n",
    "EMBEDDING_DIM = 200 # 词向量空间维度\n",
    "VALIDATION_SPLIT = 0.16 # 验证集比例\n",
    "TEST_SPLIT = 0.2 # 测试集比例"
   ]
  },
  {
   "cell_type": "code",
   "execution_count": 47,
   "metadata": {},
   "outputs": [],
   "source": [
    "all_texts = duplicated_sy_risk['title_content']\n",
    "all_labels = duplicated_sy_risk['label']\n",
    "data = all_texts\n",
    "labels = all_labels"
   ]
  },
  {
   "cell_type": "code",
   "execution_count": 48,
   "metadata": {},
   "outputs": [
    {
     "name": "stdout",
     "output_type": "stream",
     "text": [
      "Found 165064 unique tokens.\n",
      "Shape of data tensor: (9029, 10000)\n",
      "Shape of label tensor: (9029, 2)\n"
     ]
    }
   ],
   "source": [
    "tokenizer = Tokenizer()\n",
    "tokenizer.fit_on_texts(all_texts)\n",
    "sequences = tokenizer.texts_to_sequences(all_texts)\n",
    "word_index = tokenizer.word_index\n",
    "print('Found %s unique tokens.' % len(word_index))\n",
    "data = pad_sequences(sequences, maxlen=MAX_SEQUENCE_LENGTH)\n",
    "labels = to_categorical(np.asarray(all_labels))\n",
    "print('Shape of data tensor:', data.shape)\n",
    "print('Shape of label tensor:', labels.shape)"
   ]
  },
  {
   "cell_type": "code",
   "execution_count": 49,
   "metadata": {},
   "outputs": [
    {
     "name": "stdout",
     "output_type": "stream",
     "text": [
      "train docs: 5778\n",
      "val docs: 1445\n",
      "test docs: 1806\n"
     ]
    }
   ],
   "source": [
    "p1 = int(len(data)*(1-VALIDATION_SPLIT-TEST_SPLIT))\n",
    "p2 = int(len(data)*(1-TEST_SPLIT))\n",
    "x_train = data[:p1]\n",
    "y_train = labels[:p1]\n",
    "x_val = data[p1:p2]\n",
    "y_val = labels[p1:p2]\n",
    "x_test = data[p2:]\n",
    "y_test = labels[p2:]\n",
    "print('train docs: '+ str(len(x_train)))\n",
    "print('val docs: '+ str(len(x_val)))\n",
    "print('test docs: '+ str(len(x_test)))"
   ]
  },
  {
   "cell_type": "code",
   "execution_count": null,
   "metadata": {},
   "outputs": [],
   "source": []
  },
  {
   "cell_type": "markdown",
   "metadata": {},
   "source": [
    "### 搭建模型"
   ]
  },
  {
   "cell_type": "markdown",
   "metadata": {},
   "source": [
    "然后就是搭建模型，首先是一个将文本处理成向量的 embedding 层，这样每个新闻文档被处理成一个 100 x 200 的二维向量，100 是每条新闻的固定长度，每一行的长度为 200 的行向量代表这个单词在空间中的词向量。下面通过 1 层卷积层与池化层来缩小向量长度，再加一层 Flatten 层将 2 维向量压缩到 1 维，最后通过两层 Dense（全连接层）将向量长度收缩到 12 上，对应新闻分类的 12 个类（其实只有 11 个类，标签 0 没有用到）。搭完收工，最后，训练模型，测试模型。\n"
   ]
  },
  {
   "cell_type": "code",
   "execution_count": 50,
   "metadata": {},
   "outputs": [
    {
     "name": "stdout",
     "output_type": "stream",
     "text": [
      "Model: \"sequential\"\n",
      "_________________________________________________________________\n",
      "Layer (type)                 Output Shape              Param #   \n",
      "=================================================================\n",
      "embedding (Embedding)        (None, 10000, 200)        33013000  \n",
      "_________________________________________________________________\n",
      "dropout (Dropout)            (None, 10000, 200)        0         \n",
      "_________________________________________________________________\n",
      "conv1d (Conv1D)              (None, 9998, 250)         150250    \n",
      "_________________________________________________________________\n",
      "max_pooling1d (MaxPooling1D) (None, 3332, 250)         0         \n",
      "_________________________________________________________________\n",
      "flatten (Flatten)            (None, 833000)            0         \n",
      "_________________________________________________________________\n",
      "dense (Dense)                (None, 200)               166600200 \n",
      "_________________________________________________________________\n",
      "dense_1 (Dense)              (None, 2)                 402       \n",
      "=================================================================\n",
      "Total params: 199,763,852\n",
      "Trainable params: 199,763,852\n",
      "Non-trainable params: 0\n",
      "_________________________________________________________________\n"
     ]
    }
   ],
   "source": [
    "model = Sequential()\n",
    "model.add(Embedding(len(word_index) + 1, EMBEDDING_DIM, input_length=MAX_SEQUENCE_LENGTH))\n",
    "model.add(Dropout(0.2))\n",
    "model.add(Conv1D(250, 3, padding='valid', activation='relu', strides=1))\n",
    "model.add(MaxPooling1D(3))\n",
    "model.add(Flatten())\n",
    "model.add(Dense(EMBEDDING_DIM, activation='relu'))\n",
    "model.add(Dense(2, activation='softmax'))\n",
    "model.summary()"
   ]
  },
  {
   "cell_type": "code",
   "execution_count": 51,
   "metadata": {},
   "outputs": [],
   "source": [
    "model.compile(loss='categorical_crossentropy',\n",
    "              optimizer='rmsprop',\n",
    "              metrics=['acc'])"
   ]
  },
  {
   "cell_type": "code",
   "execution_count": 52,
   "metadata": {},
   "outputs": [
    {
     "name": "stdout",
     "output_type": "stream",
     "text": [
      "Epoch 1/2\n",
      "46/46 [==============================] - 369s 8s/step - loss: 7.1312 - acc: 0.5363 - val_loss: 0.6686 - val_acc: 0.6997\n",
      "Epoch 2/2\n",
      "46/46 [==============================] - 373s 8s/step - loss: 0.6766 - acc: 0.6317 - val_loss: 0.6352 - val_acc: 0.6637\n"
     ]
    },
    {
     "data": {
      "text/plain": [
       "<tensorflow.python.keras.callbacks.History at 0x7fa70f6d4dd8>"
      ]
     },
     "execution_count": 52,
     "metadata": {},
     "output_type": "execute_result"
    }
   ],
   "source": [
    "# happy learning\n",
    "model.fit(x_train, y_train, validation_data=(x_val, y_val), epochs=2, batch_size=128)"
   ]
  },
  {
   "cell_type": "code",
   "execution_count": 55,
   "metadata": {},
   "outputs": [
    {
     "name": "stdout",
     "output_type": "stream",
     "text": [
      "57/57 [==============================] - 24s 420ms/step - loss: 0.7437 - acc: 0.4945\n"
     ]
    },
    {
     "data": {
      "text/plain": [
       "[0.7436631321907043, 0.49446290731430054]"
      ]
     },
     "execution_count": 55,
     "metadata": {},
     "output_type": "execute_result"
    }
   ],
   "source": [
    "model.evaluate(x_test, y_test)"
   ]
  },
  {
   "cell_type": "code",
   "execution_count": 56,
   "metadata": {},
   "outputs": [
    {
     "data": {
      "text/plain": [
       "array([[     0,      0,      0, ..., 132123, 132124, 132125],\n",
       "       [     0,      0,      0, ...,      5,    142,      1],\n",
       "       [     0,      0,      0, ..., 132162, 132163, 132164],\n",
       "       ...,\n",
       "       [     0,      0,      0, ..., 165037, 165038, 165039],\n",
       "       [     0,      0,      0, ..., 165042, 165043, 165044],\n",
       "       [     0,      0,      0, ..., 165062, 165063, 165064]], dtype=int32)"
      ]
     },
     "execution_count": 56,
     "metadata": {},
     "output_type": "execute_result"
    }
   ],
   "source": []
  },
  {
   "cell_type": "markdown",
   "metadata": {},
   "source": [
    "### Word2Vec + CNN"
   ]
  },
  {
   "cell_type": "code",
   "execution_count": 58,
   "metadata": {},
   "outputs": [
    {
     "ename": "NameError",
     "evalue": "name 'unicode' is not defined",
     "output_type": "error",
     "traceback": [
      "\u001b[0;31m---------------------------------------------------------------------------\u001b[0m",
      "\u001b[0;31mNameError\u001b[0m                                 Traceback (most recent call last)",
      "\u001b[0;32m<ipython-input-58-3dbc0965ebfa>\u001b[0m in \u001b[0;36m<module>\u001b[0;34m\u001b[0m\n\u001b[1;32m      8\u001b[0m \u001b[0membedding_matrix\u001b[0m \u001b[0;34m=\u001b[0m \u001b[0mnp\u001b[0m\u001b[0;34m.\u001b[0m\u001b[0mzeros\u001b[0m\u001b[0;34m(\u001b[0m\u001b[0;34m(\u001b[0m\u001b[0mlen\u001b[0m\u001b[0;34m(\u001b[0m\u001b[0mword_index\u001b[0m\u001b[0;34m)\u001b[0m \u001b[0;34m+\u001b[0m \u001b[0;36m1\u001b[0m\u001b[0;34m,\u001b[0m \u001b[0mEMBEDDING_DIM\u001b[0m\u001b[0;34m)\u001b[0m\u001b[0;34m)\u001b[0m\u001b[0;34m\u001b[0m\u001b[0;34m\u001b[0m\u001b[0m\n\u001b[1;32m      9\u001b[0m \u001b[0;32mfor\u001b[0m \u001b[0mword\u001b[0m\u001b[0;34m,\u001b[0m \u001b[0mi\u001b[0m \u001b[0;32min\u001b[0m \u001b[0mword_index\u001b[0m\u001b[0;34m.\u001b[0m\u001b[0mitems\u001b[0m\u001b[0;34m(\u001b[0m\u001b[0;34m)\u001b[0m\u001b[0;34m:\u001b[0m\u001b[0;34m\u001b[0m\u001b[0;34m\u001b[0m\u001b[0m\n\u001b[0;32m---> 10\u001b[0;31m     \u001b[0;32mif\u001b[0m \u001b[0municode\u001b[0m\u001b[0;34m(\u001b[0m\u001b[0mword\u001b[0m\u001b[0;34m)\u001b[0m \u001b[0;32min\u001b[0m \u001b[0mw2v_model\u001b[0m\u001b[0;34m:\u001b[0m\u001b[0;34m\u001b[0m\u001b[0;34m\u001b[0m\u001b[0m\n\u001b[0m\u001b[1;32m     11\u001b[0m         embedding_matrix[i] = np.asarray(w2v_model[unicode(word)],\n\u001b[1;32m     12\u001b[0m                                          dtype='float32')\n",
      "\u001b[0;31mNameError\u001b[0m: name 'unicode' is not defined"
     ]
    }
   ],
   "source": [
    "VECTOR_DIR = 'baike.vectors.bin' # 词向量模型文件\n",
    "\n",
    "from keras.utils import plot_model\n",
    "from keras.layers import Embedding\n",
    "import gensim\n",
    "\n",
    "w2v_model = gensim.models.KeyedVectors.load_word2vec_format(VECTOR_DIR, binary=True)\n",
    "embedding_matrix = np.zeros((len(word_index) + 1, EMBEDDING_DIM))\n",
    "for word, i in word_index.items(): \n",
    "    if unicode(word) in w2v_model:\n",
    "        embedding_matrix[i] = np.asarray(w2v_model[unicode(word)],\n",
    "                                         dtype='float32')\n",
    "embedding_layer = Embedding(len(word_index) + 1,\n",
    "                            EMBEDDING_DIM,\n",
    "                            weights=[embedding_matrix],\n",
    "                            input_length=MAX_SEQUENCE_LENGTH,\n",
    "                            trainable=False)"
   ]
  },
  {
   "cell_type": "code",
   "execution_count": null,
   "metadata": {},
   "outputs": [],
   "source": [
    "from keras.layers import Dense, Input, Flatten, Dropout\n",
    "from keras.layers import Conv1D, MaxPooling1D, Embedding\n",
    "from keras.models import Sequential\n",
    "\n",
    "model = Sequential()\n",
    "model.add(embedding_layer)\n",
    "model.add(Dropout(0.2))\n",
    "model.add(Conv1D(250, 3, padding='valid', activation='relu', strides=1))\n",
    "model.add(MaxPooling1D(3))\n",
    "model.add(Flatten())\n",
    "model.add(Dense(EMBEDDING_DIM, activation='relu'))\n",
    "model.add(Dense(labels.shape[1], activation='softmax'))\n",
    "model.summary()\n",
    "#plot_model(model, to_file='model.png',show_shapes=True)\n",
    "model.compile(loss='categorical_crossentropy',\n",
    "              optimizer='rmsprop',\n",
    "              metrics=['acc'])\n",
    "model.fit(x_train, y_train, validation_data=(x_val, y_val), epochs=2, batch_size=128)\n",
    "model.save('word_vector_cnn.h5')\n",
    "print model.evaluate(x_test, y_test)"
   ]
  },
  {
   "cell_type": "code",
   "execution_count": null,
   "metadata": {},
   "outputs": [],
   "source": []
  },
  {
   "cell_type": "markdown",
   "metadata": {},
   "source": [
    "### Word2Vec + LSTM"
   ]
  },
  {
   "cell_type": "markdown",
   "metadata": {},
   "source": [
    "**不使用预训练的 word2vec 模型的 LSTM**\n",
    "\n",
    "特征提取以及 embedding 的过程跟 CNN 的实验一致。接下来的 LSTM 层的功能在最终效果上（或许）可以理解成将一个序列的词向量压缩成一个句向量。每个新闻经过 embedding 层后得到一个 100 x 200 的 2 维向量，通过将这 100 个词向量按前后顺序逐个输入 LSTM 层中，最后输出一个 1 维的长度 200 的向量，最后一个全连接层将长度收缩到 12\n",
    "\n"
   ]
  },
  {
   "cell_type": "code",
   "execution_count": null,
   "metadata": {},
   "outputs": [],
   "source": [
    "from keras.layers import Dense, Input, Flatten, Dropout\n",
    "from keras.layers import LSTM, Embedding\n",
    "from keras.models import Sequential\n",
    "\n",
    "model = Sequential()\n",
    "model.add(Embedding(len(word_index) + 1, EMBEDDING_DIM, \n",
    "          input_length=MAX_SEQUENCE_LENGTH))\n",
    "model.add(LSTM(200, dropout=0.2, recurrent_dropout=0.2))\n",
    "model.add(Dropout(0.2))\n",
    "model.add(Dense(labels.shape[1], activation='softmax'))\n",
    "model.summary()"
   ]
  },
  {
   "cell_type": "markdown",
   "metadata": {},
   "source": [
    "**基于预训练 word2vec 模型的 LSTM**\n",
    "\n",
    "流程跟上面使用 word2vec 的 CNN 的基本一致，同样也是用嵌入了 word2vec 的 embedding_layer 替换原始的 embedding 层"
   ]
  },
  {
   "cell_type": "code",
   "execution_count": null,
   "metadata": {},
   "outputs": [],
   "source": [
    "from keras.layers import Dense, Input, Flatten, Dropout\n",
    "from keras.layers import LSTM, Embedding\n",
    "from keras.models import Sequential\n",
    "\n",
    "model = Sequential()\n",
    "model.add(embedding_layer)\n",
    "model.add(LSTM(200, dropout=0.2, recurrent_dropout=0.2))\n",
    "model.add(Dropout(0.2))\n",
    "model.add(Dense(labels.shape[1], activation='softmax'))\n",
    "model.summary()"
   ]
  },
  {
   "cell_type": "code",
   "execution_count": null,
   "metadata": {},
   "outputs": [],
   "source": []
  },
  {
   "cell_type": "markdown",
   "metadata": {},
   "source": [
    "### MLP（多层感知机）"
   ]
  },
  {
   "cell_type": "markdown",
   "metadata": {},
   "source": [
    "MLP 是一个结构上很简单很 naive 的神经网络。数据的处理流程也跟上面两个实验差不多，不过不再将每条新闻处理成 100 x 200 的 2 维向量，而是成为长度 65604 的 1 维向量。65604 代表数据集中所有出现的 65604 个单词，数据的值用 tf-idf 值填充，整个文档集成为一个用 17600 x 65604 个 tf-idf 值填充的矩阵，第 i 行 j 列的值表征了第 j 个单词在第 i 个文档中的的 tf-idf值（当然这里也可以不用 tf-idf 值，而只是使用 0/1 值填充， 0/1 代表第 j 个单词在第 i 个文档中是否出现，但是实验显示用 tf-idf 的效果更好）"
   ]
  },
  {
   "cell_type": "code",
   "execution_count": 53,
   "metadata": {},
   "outputs": [
    {
     "name": "stdout",
     "output_type": "stream",
     "text": [
      "Found 165064 unique tokens.\n"
     ]
    }
   ],
   "source": [
    "tokenizer = Tokenizer()\n",
    "tokenizer.fit_on_texts(all_texts)\n",
    "sequences = tokenizer.texts_to_sequences(all_texts)\n",
    "word_index = tokenizer.word_index\n",
    "print('Found %s unique tokens.' % len(word_index))\n",
    "data = tokenizer.sequences_to_matrix(sequences, mode='tfidf')\n",
    "labels = to_categorical(np.asarray(all_labels))"
   ]
  },
  {
   "cell_type": "code",
   "execution_count": 62,
   "metadata": {},
   "outputs": [
    {
     "name": "stdout",
     "output_type": "stream",
     "text": [
      "Model: \"sequential_2\"\n",
      "_________________________________________________________________\n",
      "Layer (type)                 Output Shape              Param #   \n",
      "=================================================================\n",
      "dense_4 (Dense)              (None, 512)               84513792  \n",
      "_________________________________________________________________\n",
      "dropout_2 (Dropout)          (None, 512)               0         \n",
      "_________________________________________________________________\n",
      "dense_5 (Dense)              (None, 2)                 1026      \n",
      "=================================================================\n",
      "Total params: 84,514,818\n",
      "Trainable params: 84,514,818\n",
      "Non-trainable params: 0\n",
      "_________________________________________________________________\n"
     ]
    }
   ],
   "source": [
    "from keras.layers import Dense, Dropout\n",
    "from keras.models import Sequential\n",
    "\n",
    "model = Sequential()\n",
    "model.add(Dense(512, input_shape=(len(word_index)+1,), activation='relu'))\n",
    "model.add(Dropout(0.2))\n",
    "model.add(Dense(2, activation='softmax'))\n",
    "model.summary()"
   ]
  },
  {
   "cell_type": "code",
   "execution_count": 63,
   "metadata": {
    "collapsed": true
   },
   "outputs": [
    {
     "name": "stdout",
     "output_type": "stream",
     "text": [
      "Epoch 1/2\n"
     ]
    },
    {
     "ename": "ValueError",
     "evalue": "in user code:\n\n    /opt/anaconda3/envs/tensorflow/lib/python3.6/site-packages/tensorflow/python/keras/engine/training.py:806 train_function  *\n        return step_function(self, iterator)\n    /opt/anaconda3/envs/tensorflow/lib/python3.6/site-packages/tensorflow/python/keras/engine/training.py:796 step_function  **\n        outputs = model.distribute_strategy.run(run_step, args=(data,))\n    /opt/anaconda3/envs/tensorflow/lib/python3.6/site-packages/tensorflow/python/distribute/distribute_lib.py:1211 run\n        return self._extended.call_for_each_replica(fn, args=args, kwargs=kwargs)\n    /opt/anaconda3/envs/tensorflow/lib/python3.6/site-packages/tensorflow/python/distribute/distribute_lib.py:2585 call_for_each_replica\n        return self._call_for_each_replica(fn, args, kwargs)\n    /opt/anaconda3/envs/tensorflow/lib/python3.6/site-packages/tensorflow/python/distribute/distribute_lib.py:2945 _call_for_each_replica\n        return fn(*args, **kwargs)\n    /opt/anaconda3/envs/tensorflow/lib/python3.6/site-packages/tensorflow/python/keras/engine/training.py:789 run_step  **\n        outputs = model.train_step(data)\n    /opt/anaconda3/envs/tensorflow/lib/python3.6/site-packages/tensorflow/python/keras/engine/training.py:747 train_step\n        y_pred = self(x, training=True)\n    /opt/anaconda3/envs/tensorflow/lib/python3.6/site-packages/tensorflow/python/keras/engine/base_layer.py:976 __call__\n        self.name)\n    /opt/anaconda3/envs/tensorflow/lib/python3.6/site-packages/tensorflow/python/keras/engine/input_spec.py:216 assert_input_compatibility\n        ' but received input with shape ' + str(shape))\n\n    ValueError: Input 0 of layer sequential_2 is incompatible with the layer: expected axis -1 of input shape to have value 165065 but received input with shape [None, 10000]\n",
     "output_type": "error",
     "traceback": [
      "\u001b[0;31m---------------------------------------------------------------------------\u001b[0m",
      "\u001b[0;31mValueError\u001b[0m                                Traceback (most recent call last)",
      "\u001b[0;32m<ipython-input-63-8b78cf12d259>\u001b[0m in \u001b[0;36m<module>\u001b[0;34m\u001b[0m\n\u001b[1;32m      2\u001b[0m               \u001b[0moptimizer\u001b[0m\u001b[0;34m=\u001b[0m\u001b[0;34m'rmsprop'\u001b[0m\u001b[0;34m,\u001b[0m\u001b[0;34m\u001b[0m\u001b[0;34m\u001b[0m\u001b[0m\n\u001b[1;32m      3\u001b[0m               metrics=['acc'])\n\u001b[0;32m----> 4\u001b[0;31m \u001b[0mmodel\u001b[0m\u001b[0;34m.\u001b[0m\u001b[0mfit\u001b[0m\u001b[0;34m(\u001b[0m\u001b[0mx_train\u001b[0m\u001b[0;34m,\u001b[0m \u001b[0my_train\u001b[0m\u001b[0;34m,\u001b[0m \u001b[0mvalidation_data\u001b[0m\u001b[0;34m=\u001b[0m\u001b[0;34m(\u001b[0m\u001b[0mx_val\u001b[0m\u001b[0;34m,\u001b[0m \u001b[0my_val\u001b[0m\u001b[0;34m)\u001b[0m\u001b[0;34m,\u001b[0m \u001b[0mepochs\u001b[0m\u001b[0;34m=\u001b[0m\u001b[0;36m2\u001b[0m\u001b[0;34m,\u001b[0m \u001b[0mbatch_size\u001b[0m\u001b[0;34m=\u001b[0m\u001b[0;36m128\u001b[0m\u001b[0;34m)\u001b[0m\u001b[0;34m\u001b[0m\u001b[0;34m\u001b[0m\u001b[0m\n\u001b[0m",
      "\u001b[0;32m/opt/anaconda3/envs/tensorflow/lib/python3.6/site-packages/tensorflow/python/keras/engine/training.py\u001b[0m in \u001b[0;36m_method_wrapper\u001b[0;34m(self, *args, **kwargs)\u001b[0m\n\u001b[1;32m    106\u001b[0m   \u001b[0;32mdef\u001b[0m \u001b[0m_method_wrapper\u001b[0m\u001b[0;34m(\u001b[0m\u001b[0mself\u001b[0m\u001b[0;34m,\u001b[0m \u001b[0;34m*\u001b[0m\u001b[0margs\u001b[0m\u001b[0;34m,\u001b[0m \u001b[0;34m**\u001b[0m\u001b[0mkwargs\u001b[0m\u001b[0;34m)\u001b[0m\u001b[0;34m:\u001b[0m\u001b[0;34m\u001b[0m\u001b[0;34m\u001b[0m\u001b[0m\n\u001b[1;32m    107\u001b[0m     \u001b[0;32mif\u001b[0m \u001b[0;32mnot\u001b[0m \u001b[0mself\u001b[0m\u001b[0;34m.\u001b[0m\u001b[0m_in_multi_worker_mode\u001b[0m\u001b[0;34m(\u001b[0m\u001b[0;34m)\u001b[0m\u001b[0;34m:\u001b[0m  \u001b[0;31m# pylint: disable=protected-access\u001b[0m\u001b[0;34m\u001b[0m\u001b[0;34m\u001b[0m\u001b[0m\n\u001b[0;32m--> 108\u001b[0;31m       \u001b[0;32mreturn\u001b[0m \u001b[0mmethod\u001b[0m\u001b[0;34m(\u001b[0m\u001b[0mself\u001b[0m\u001b[0;34m,\u001b[0m \u001b[0;34m*\u001b[0m\u001b[0margs\u001b[0m\u001b[0;34m,\u001b[0m \u001b[0;34m**\u001b[0m\u001b[0mkwargs\u001b[0m\u001b[0;34m)\u001b[0m\u001b[0;34m\u001b[0m\u001b[0;34m\u001b[0m\u001b[0m\n\u001b[0m\u001b[1;32m    109\u001b[0m \u001b[0;34m\u001b[0m\u001b[0m\n\u001b[1;32m    110\u001b[0m     \u001b[0;31m# Running inside `run_distribute_coordinator` already.\u001b[0m\u001b[0;34m\u001b[0m\u001b[0;34m\u001b[0m\u001b[0;34m\u001b[0m\u001b[0m\n",
      "\u001b[0;32m/opt/anaconda3/envs/tensorflow/lib/python3.6/site-packages/tensorflow/python/keras/engine/training.py\u001b[0m in \u001b[0;36mfit\u001b[0;34m(self, x, y, batch_size, epochs, verbose, callbacks, validation_split, validation_data, shuffle, class_weight, sample_weight, initial_epoch, steps_per_epoch, validation_steps, validation_batch_size, validation_freq, max_queue_size, workers, use_multiprocessing)\u001b[0m\n\u001b[1;32m   1096\u001b[0m                 batch_size=batch_size):\n\u001b[1;32m   1097\u001b[0m               \u001b[0mcallbacks\u001b[0m\u001b[0;34m.\u001b[0m\u001b[0mon_train_batch_begin\u001b[0m\u001b[0;34m(\u001b[0m\u001b[0mstep\u001b[0m\u001b[0;34m)\u001b[0m\u001b[0;34m\u001b[0m\u001b[0;34m\u001b[0m\u001b[0m\n\u001b[0;32m-> 1098\u001b[0;31m               \u001b[0mtmp_logs\u001b[0m \u001b[0;34m=\u001b[0m \u001b[0mtrain_function\u001b[0m\u001b[0;34m(\u001b[0m\u001b[0miterator\u001b[0m\u001b[0;34m)\u001b[0m\u001b[0;34m\u001b[0m\u001b[0;34m\u001b[0m\u001b[0m\n\u001b[0m\u001b[1;32m   1099\u001b[0m               \u001b[0;32mif\u001b[0m \u001b[0mdata_handler\u001b[0m\u001b[0;34m.\u001b[0m\u001b[0mshould_sync\u001b[0m\u001b[0;34m:\u001b[0m\u001b[0;34m\u001b[0m\u001b[0;34m\u001b[0m\u001b[0m\n\u001b[1;32m   1100\u001b[0m                 \u001b[0mcontext\u001b[0m\u001b[0;34m.\u001b[0m\u001b[0masync_wait\u001b[0m\u001b[0;34m(\u001b[0m\u001b[0;34m)\u001b[0m\u001b[0;34m\u001b[0m\u001b[0;34m\u001b[0m\u001b[0m\n",
      "\u001b[0;32m/opt/anaconda3/envs/tensorflow/lib/python3.6/site-packages/tensorflow/python/eager/def_function.py\u001b[0m in \u001b[0;36m__call__\u001b[0;34m(self, *args, **kwds)\u001b[0m\n\u001b[1;32m    778\u001b[0m       \u001b[0;32melse\u001b[0m\u001b[0;34m:\u001b[0m\u001b[0;34m\u001b[0m\u001b[0;34m\u001b[0m\u001b[0m\n\u001b[1;32m    779\u001b[0m         \u001b[0mcompiler\u001b[0m \u001b[0;34m=\u001b[0m \u001b[0;34m\"nonXla\"\u001b[0m\u001b[0;34m\u001b[0m\u001b[0;34m\u001b[0m\u001b[0m\n\u001b[0;32m--> 780\u001b[0;31m         \u001b[0mresult\u001b[0m \u001b[0;34m=\u001b[0m \u001b[0mself\u001b[0m\u001b[0;34m.\u001b[0m\u001b[0m_call\u001b[0m\u001b[0;34m(\u001b[0m\u001b[0;34m*\u001b[0m\u001b[0margs\u001b[0m\u001b[0;34m,\u001b[0m \u001b[0;34m**\u001b[0m\u001b[0mkwds\u001b[0m\u001b[0;34m)\u001b[0m\u001b[0;34m\u001b[0m\u001b[0;34m\u001b[0m\u001b[0m\n\u001b[0m\u001b[1;32m    781\u001b[0m \u001b[0;34m\u001b[0m\u001b[0m\n\u001b[1;32m    782\u001b[0m       \u001b[0mnew_tracing_count\u001b[0m \u001b[0;34m=\u001b[0m \u001b[0mself\u001b[0m\u001b[0;34m.\u001b[0m\u001b[0m_get_tracing_count\u001b[0m\u001b[0;34m(\u001b[0m\u001b[0;34m)\u001b[0m\u001b[0;34m\u001b[0m\u001b[0;34m\u001b[0m\u001b[0m\n",
      "\u001b[0;32m/opt/anaconda3/envs/tensorflow/lib/python3.6/site-packages/tensorflow/python/eager/def_function.py\u001b[0m in \u001b[0;36m_call\u001b[0;34m(self, *args, **kwds)\u001b[0m\n\u001b[1;32m    821\u001b[0m       \u001b[0;31m# This is the first call of __call__, so we have to initialize.\u001b[0m\u001b[0;34m\u001b[0m\u001b[0;34m\u001b[0m\u001b[0;34m\u001b[0m\u001b[0m\n\u001b[1;32m    822\u001b[0m       \u001b[0minitializers\u001b[0m \u001b[0;34m=\u001b[0m \u001b[0;34m[\u001b[0m\u001b[0;34m]\u001b[0m\u001b[0;34m\u001b[0m\u001b[0;34m\u001b[0m\u001b[0m\n\u001b[0;32m--> 823\u001b[0;31m       \u001b[0mself\u001b[0m\u001b[0;34m.\u001b[0m\u001b[0m_initialize\u001b[0m\u001b[0;34m(\u001b[0m\u001b[0margs\u001b[0m\u001b[0;34m,\u001b[0m \u001b[0mkwds\u001b[0m\u001b[0;34m,\u001b[0m \u001b[0madd_initializers_to\u001b[0m\u001b[0;34m=\u001b[0m\u001b[0minitializers\u001b[0m\u001b[0;34m)\u001b[0m\u001b[0;34m\u001b[0m\u001b[0;34m\u001b[0m\u001b[0m\n\u001b[0m\u001b[1;32m    824\u001b[0m     \u001b[0;32mfinally\u001b[0m\u001b[0;34m:\u001b[0m\u001b[0;34m\u001b[0m\u001b[0;34m\u001b[0m\u001b[0m\n\u001b[1;32m    825\u001b[0m       \u001b[0;31m# At this point we know that the initialization is complete (or less\u001b[0m\u001b[0;34m\u001b[0m\u001b[0;34m\u001b[0m\u001b[0;34m\u001b[0m\u001b[0m\n",
      "\u001b[0;32m/opt/anaconda3/envs/tensorflow/lib/python3.6/site-packages/tensorflow/python/eager/def_function.py\u001b[0m in \u001b[0;36m_initialize\u001b[0;34m(self, args, kwds, add_initializers_to)\u001b[0m\n\u001b[1;32m    695\u001b[0m     self._concrete_stateful_fn = (\n\u001b[1;32m    696\u001b[0m         self._stateful_fn._get_concrete_function_internal_garbage_collected(  # pylint: disable=protected-access\n\u001b[0;32m--> 697\u001b[0;31m             *args, **kwds))\n\u001b[0m\u001b[1;32m    698\u001b[0m \u001b[0;34m\u001b[0m\u001b[0m\n\u001b[1;32m    699\u001b[0m     \u001b[0;32mdef\u001b[0m \u001b[0minvalid_creator_scope\u001b[0m\u001b[0;34m(\u001b[0m\u001b[0;34m*\u001b[0m\u001b[0munused_args\u001b[0m\u001b[0;34m,\u001b[0m \u001b[0;34m**\u001b[0m\u001b[0munused_kwds\u001b[0m\u001b[0;34m)\u001b[0m\u001b[0;34m:\u001b[0m\u001b[0;34m\u001b[0m\u001b[0;34m\u001b[0m\u001b[0m\n",
      "\u001b[0;32m/opt/anaconda3/envs/tensorflow/lib/python3.6/site-packages/tensorflow/python/eager/function.py\u001b[0m in \u001b[0;36m_get_concrete_function_internal_garbage_collected\u001b[0;34m(self, *args, **kwargs)\u001b[0m\n\u001b[1;32m   2853\u001b[0m       \u001b[0margs\u001b[0m\u001b[0;34m,\u001b[0m \u001b[0mkwargs\u001b[0m \u001b[0;34m=\u001b[0m \u001b[0;32mNone\u001b[0m\u001b[0;34m,\u001b[0m \u001b[0;32mNone\u001b[0m\u001b[0;34m\u001b[0m\u001b[0;34m\u001b[0m\u001b[0m\n\u001b[1;32m   2854\u001b[0m     \u001b[0;32mwith\u001b[0m \u001b[0mself\u001b[0m\u001b[0;34m.\u001b[0m\u001b[0m_lock\u001b[0m\u001b[0;34m:\u001b[0m\u001b[0;34m\u001b[0m\u001b[0;34m\u001b[0m\u001b[0m\n\u001b[0;32m-> 2855\u001b[0;31m       \u001b[0mgraph_function\u001b[0m\u001b[0;34m,\u001b[0m \u001b[0m_\u001b[0m\u001b[0;34m,\u001b[0m \u001b[0m_\u001b[0m \u001b[0;34m=\u001b[0m \u001b[0mself\u001b[0m\u001b[0;34m.\u001b[0m\u001b[0m_maybe_define_function\u001b[0m\u001b[0;34m(\u001b[0m\u001b[0margs\u001b[0m\u001b[0;34m,\u001b[0m \u001b[0mkwargs\u001b[0m\u001b[0;34m)\u001b[0m\u001b[0;34m\u001b[0m\u001b[0;34m\u001b[0m\u001b[0m\n\u001b[0m\u001b[1;32m   2856\u001b[0m     \u001b[0;32mreturn\u001b[0m \u001b[0mgraph_function\u001b[0m\u001b[0;34m\u001b[0m\u001b[0;34m\u001b[0m\u001b[0m\n\u001b[1;32m   2857\u001b[0m \u001b[0;34m\u001b[0m\u001b[0m\n",
      "\u001b[0;32m/opt/anaconda3/envs/tensorflow/lib/python3.6/site-packages/tensorflow/python/eager/function.py\u001b[0m in \u001b[0;36m_maybe_define_function\u001b[0;34m(self, args, kwargs)\u001b[0m\n\u001b[1;32m   3211\u001b[0m \u001b[0;34m\u001b[0m\u001b[0m\n\u001b[1;32m   3212\u001b[0m       \u001b[0mself\u001b[0m\u001b[0;34m.\u001b[0m\u001b[0m_function_cache\u001b[0m\u001b[0;34m.\u001b[0m\u001b[0mmissed\u001b[0m\u001b[0;34m.\u001b[0m\u001b[0madd\u001b[0m\u001b[0;34m(\u001b[0m\u001b[0mcall_context_key\u001b[0m\u001b[0;34m)\u001b[0m\u001b[0;34m\u001b[0m\u001b[0;34m\u001b[0m\u001b[0m\n\u001b[0;32m-> 3213\u001b[0;31m       \u001b[0mgraph_function\u001b[0m \u001b[0;34m=\u001b[0m \u001b[0mself\u001b[0m\u001b[0;34m.\u001b[0m\u001b[0m_create_graph_function\u001b[0m\u001b[0;34m(\u001b[0m\u001b[0margs\u001b[0m\u001b[0;34m,\u001b[0m \u001b[0mkwargs\u001b[0m\u001b[0;34m)\u001b[0m\u001b[0;34m\u001b[0m\u001b[0;34m\u001b[0m\u001b[0m\n\u001b[0m\u001b[1;32m   3214\u001b[0m       \u001b[0mself\u001b[0m\u001b[0;34m.\u001b[0m\u001b[0m_function_cache\u001b[0m\u001b[0;34m.\u001b[0m\u001b[0mprimary\u001b[0m\u001b[0;34m[\u001b[0m\u001b[0mcache_key\u001b[0m\u001b[0;34m]\u001b[0m \u001b[0;34m=\u001b[0m \u001b[0mgraph_function\u001b[0m\u001b[0;34m\u001b[0m\u001b[0;34m\u001b[0m\u001b[0m\n\u001b[1;32m   3215\u001b[0m       \u001b[0;32mreturn\u001b[0m \u001b[0mgraph_function\u001b[0m\u001b[0;34m,\u001b[0m \u001b[0margs\u001b[0m\u001b[0;34m,\u001b[0m \u001b[0mkwargs\u001b[0m\u001b[0;34m\u001b[0m\u001b[0;34m\u001b[0m\u001b[0m\n",
      "\u001b[0;32m/opt/anaconda3/envs/tensorflow/lib/python3.6/site-packages/tensorflow/python/eager/function.py\u001b[0m in \u001b[0;36m_create_graph_function\u001b[0;34m(self, args, kwargs, override_flat_arg_shapes)\u001b[0m\n\u001b[1;32m   3073\u001b[0m             \u001b[0marg_names\u001b[0m\u001b[0;34m=\u001b[0m\u001b[0marg_names\u001b[0m\u001b[0;34m,\u001b[0m\u001b[0;34m\u001b[0m\u001b[0;34m\u001b[0m\u001b[0m\n\u001b[1;32m   3074\u001b[0m             \u001b[0moverride_flat_arg_shapes\u001b[0m\u001b[0;34m=\u001b[0m\u001b[0moverride_flat_arg_shapes\u001b[0m\u001b[0;34m,\u001b[0m\u001b[0;34m\u001b[0m\u001b[0;34m\u001b[0m\u001b[0m\n\u001b[0;32m-> 3075\u001b[0;31m             capture_by_value=self._capture_by_value),\n\u001b[0m\u001b[1;32m   3076\u001b[0m         \u001b[0mself\u001b[0m\u001b[0;34m.\u001b[0m\u001b[0m_function_attributes\u001b[0m\u001b[0;34m,\u001b[0m\u001b[0;34m\u001b[0m\u001b[0;34m\u001b[0m\u001b[0m\n\u001b[1;32m   3077\u001b[0m         \u001b[0mfunction_spec\u001b[0m\u001b[0;34m=\u001b[0m\u001b[0mself\u001b[0m\u001b[0;34m.\u001b[0m\u001b[0mfunction_spec\u001b[0m\u001b[0;34m,\u001b[0m\u001b[0;34m\u001b[0m\u001b[0;34m\u001b[0m\u001b[0m\n",
      "\u001b[0;32m/opt/anaconda3/envs/tensorflow/lib/python3.6/site-packages/tensorflow/python/framework/func_graph.py\u001b[0m in \u001b[0;36mfunc_graph_from_py_func\u001b[0;34m(name, python_func, args, kwargs, signature, func_graph, autograph, autograph_options, add_control_dependencies, arg_names, op_return_value, collections, capture_by_value, override_flat_arg_shapes)\u001b[0m\n\u001b[1;32m    984\u001b[0m         \u001b[0m_\u001b[0m\u001b[0;34m,\u001b[0m \u001b[0moriginal_func\u001b[0m \u001b[0;34m=\u001b[0m \u001b[0mtf_decorator\u001b[0m\u001b[0;34m.\u001b[0m\u001b[0munwrap\u001b[0m\u001b[0;34m(\u001b[0m\u001b[0mpython_func\u001b[0m\u001b[0;34m)\u001b[0m\u001b[0;34m\u001b[0m\u001b[0;34m\u001b[0m\u001b[0m\n\u001b[1;32m    985\u001b[0m \u001b[0;34m\u001b[0m\u001b[0m\n\u001b[0;32m--> 986\u001b[0;31m       \u001b[0mfunc_outputs\u001b[0m \u001b[0;34m=\u001b[0m \u001b[0mpython_func\u001b[0m\u001b[0;34m(\u001b[0m\u001b[0;34m*\u001b[0m\u001b[0mfunc_args\u001b[0m\u001b[0;34m,\u001b[0m \u001b[0;34m**\u001b[0m\u001b[0mfunc_kwargs\u001b[0m\u001b[0;34m)\u001b[0m\u001b[0;34m\u001b[0m\u001b[0;34m\u001b[0m\u001b[0m\n\u001b[0m\u001b[1;32m    987\u001b[0m \u001b[0;34m\u001b[0m\u001b[0m\n\u001b[1;32m    988\u001b[0m       \u001b[0;31m# invariant: `func_outputs` contains only Tensors, CompositeTensors,\u001b[0m\u001b[0;34m\u001b[0m\u001b[0;34m\u001b[0m\u001b[0;34m\u001b[0m\u001b[0m\n",
      "\u001b[0;32m/opt/anaconda3/envs/tensorflow/lib/python3.6/site-packages/tensorflow/python/eager/def_function.py\u001b[0m in \u001b[0;36mwrapped_fn\u001b[0;34m(*args, **kwds)\u001b[0m\n\u001b[1;32m    598\u001b[0m         \u001b[0;31m# __wrapped__ allows AutoGraph to swap in a converted function. We give\u001b[0m\u001b[0;34m\u001b[0m\u001b[0;34m\u001b[0m\u001b[0;34m\u001b[0m\u001b[0m\n\u001b[1;32m    599\u001b[0m         \u001b[0;31m# the function a weak reference to itself to avoid a reference cycle.\u001b[0m\u001b[0;34m\u001b[0m\u001b[0;34m\u001b[0m\u001b[0;34m\u001b[0m\u001b[0m\n\u001b[0;32m--> 600\u001b[0;31m         \u001b[0;32mreturn\u001b[0m \u001b[0mweak_wrapped_fn\u001b[0m\u001b[0;34m(\u001b[0m\u001b[0;34m)\u001b[0m\u001b[0;34m.\u001b[0m\u001b[0m__wrapped__\u001b[0m\u001b[0;34m(\u001b[0m\u001b[0;34m*\u001b[0m\u001b[0margs\u001b[0m\u001b[0;34m,\u001b[0m \u001b[0;34m**\u001b[0m\u001b[0mkwds\u001b[0m\u001b[0;34m)\u001b[0m\u001b[0;34m\u001b[0m\u001b[0;34m\u001b[0m\u001b[0m\n\u001b[0m\u001b[1;32m    601\u001b[0m     \u001b[0mweak_wrapped_fn\u001b[0m \u001b[0;34m=\u001b[0m \u001b[0mweakref\u001b[0m\u001b[0;34m.\u001b[0m\u001b[0mref\u001b[0m\u001b[0;34m(\u001b[0m\u001b[0mwrapped_fn\u001b[0m\u001b[0;34m)\u001b[0m\u001b[0;34m\u001b[0m\u001b[0;34m\u001b[0m\u001b[0m\n\u001b[1;32m    602\u001b[0m \u001b[0;34m\u001b[0m\u001b[0m\n",
      "\u001b[0;32m/opt/anaconda3/envs/tensorflow/lib/python3.6/site-packages/tensorflow/python/framework/func_graph.py\u001b[0m in \u001b[0;36mwrapper\u001b[0;34m(*args, **kwargs)\u001b[0m\n\u001b[1;32m    971\u001b[0m           \u001b[0;32mexcept\u001b[0m \u001b[0mException\u001b[0m \u001b[0;32mas\u001b[0m \u001b[0me\u001b[0m\u001b[0;34m:\u001b[0m  \u001b[0;31m# pylint:disable=broad-except\u001b[0m\u001b[0;34m\u001b[0m\u001b[0;34m\u001b[0m\u001b[0m\n\u001b[1;32m    972\u001b[0m             \u001b[0;32mif\u001b[0m \u001b[0mhasattr\u001b[0m\u001b[0;34m(\u001b[0m\u001b[0me\u001b[0m\u001b[0;34m,\u001b[0m \u001b[0;34m\"ag_error_metadata\"\u001b[0m\u001b[0;34m)\u001b[0m\u001b[0;34m:\u001b[0m\u001b[0;34m\u001b[0m\u001b[0;34m\u001b[0m\u001b[0m\n\u001b[0;32m--> 973\u001b[0;31m               \u001b[0;32mraise\u001b[0m \u001b[0me\u001b[0m\u001b[0;34m.\u001b[0m\u001b[0mag_error_metadata\u001b[0m\u001b[0;34m.\u001b[0m\u001b[0mto_exception\u001b[0m\u001b[0;34m(\u001b[0m\u001b[0me\u001b[0m\u001b[0;34m)\u001b[0m\u001b[0;34m\u001b[0m\u001b[0;34m\u001b[0m\u001b[0m\n\u001b[0m\u001b[1;32m    974\u001b[0m             \u001b[0;32melse\u001b[0m\u001b[0;34m:\u001b[0m\u001b[0;34m\u001b[0m\u001b[0;34m\u001b[0m\u001b[0m\n\u001b[1;32m    975\u001b[0m               \u001b[0;32mraise\u001b[0m\u001b[0;34m\u001b[0m\u001b[0;34m\u001b[0m\u001b[0m\n",
      "\u001b[0;31mValueError\u001b[0m: in user code:\n\n    /opt/anaconda3/envs/tensorflow/lib/python3.6/site-packages/tensorflow/python/keras/engine/training.py:806 train_function  *\n        return step_function(self, iterator)\n    /opt/anaconda3/envs/tensorflow/lib/python3.6/site-packages/tensorflow/python/keras/engine/training.py:796 step_function  **\n        outputs = model.distribute_strategy.run(run_step, args=(data,))\n    /opt/anaconda3/envs/tensorflow/lib/python3.6/site-packages/tensorflow/python/distribute/distribute_lib.py:1211 run\n        return self._extended.call_for_each_replica(fn, args=args, kwargs=kwargs)\n    /opt/anaconda3/envs/tensorflow/lib/python3.6/site-packages/tensorflow/python/distribute/distribute_lib.py:2585 call_for_each_replica\n        return self._call_for_each_replica(fn, args, kwargs)\n    /opt/anaconda3/envs/tensorflow/lib/python3.6/site-packages/tensorflow/python/distribute/distribute_lib.py:2945 _call_for_each_replica\n        return fn(*args, **kwargs)\n    /opt/anaconda3/envs/tensorflow/lib/python3.6/site-packages/tensorflow/python/keras/engine/training.py:789 run_step  **\n        outputs = model.train_step(data)\n    /opt/anaconda3/envs/tensorflow/lib/python3.6/site-packages/tensorflow/python/keras/engine/training.py:747 train_step\n        y_pred = self(x, training=True)\n    /opt/anaconda3/envs/tensorflow/lib/python3.6/site-packages/tensorflow/python/keras/engine/base_layer.py:976 __call__\n        self.name)\n    /opt/anaconda3/envs/tensorflow/lib/python3.6/site-packages/tensorflow/python/keras/engine/input_spec.py:216 assert_input_compatibility\n        ' but received input with shape ' + str(shape))\n\n    ValueError: Input 0 of layer sequential_2 is incompatible with the layer: expected axis -1 of input shape to have value 165065 but received input with shape [None, 10000]\n"
     ]
    }
   ],
   "source": [
    "model.compile(loss='categorical_crossentropy',\n",
    "              optimizer='rmsprop',\n",
    "              metrics=['acc'])\n",
    "model.fit(x_train, y_train, validation_data=(x_val, y_val), epochs=2, batch_size=128)\n"
   ]
  },
  {
   "cell_type": "code",
   "execution_count": null,
   "metadata": {},
   "outputs": [],
   "source": []
  },
  {
   "cell_type": "code",
   "execution_count": 67,
   "metadata": {},
   "outputs": [
    {
     "ename": "AttributeError",
     "evalue": "'numpy.ndarray' object has no attribute 'lower'",
     "output_type": "error",
     "traceback": [
      "\u001b[0;31m---------------------------------------------------------------------------\u001b[0m",
      "\u001b[0;31mAttributeError\u001b[0m                            Traceback (most recent call last)",
      "\u001b[0;32m<ipython-input-67-8b8dab81e681>\u001b[0m in \u001b[0;36m<module>\u001b[0;34m\u001b[0m\n\u001b[1;32m      3\u001b[0m \u001b[0mcounts_all\u001b[0m \u001b[0;34m=\u001b[0m \u001b[0mcount_v0\u001b[0m\u001b[0;34m.\u001b[0m\u001b[0mfit_transform\u001b[0m\u001b[0;34m(\u001b[0m\u001b[0mall_texts\u001b[0m\u001b[0;34m)\u001b[0m\u001b[0;34m;\u001b[0m\u001b[0;34m\u001b[0m\u001b[0;34m\u001b[0m\u001b[0m\n\u001b[1;32m      4\u001b[0m \u001b[0mcount_v1\u001b[0m\u001b[0;34m=\u001b[0m \u001b[0mCountVectorizer\u001b[0m\u001b[0;34m(\u001b[0m\u001b[0mvocabulary\u001b[0m\u001b[0;34m=\u001b[0m\u001b[0mcount_v0\u001b[0m\u001b[0;34m.\u001b[0m\u001b[0mvocabulary_\u001b[0m\u001b[0;34m)\u001b[0m\u001b[0;34m;\u001b[0m\u001b[0;34m\u001b[0m\u001b[0;34m\u001b[0m\u001b[0m\n\u001b[0;32m----> 5\u001b[0;31m \u001b[0mcounts_train\u001b[0m \u001b[0;34m=\u001b[0m \u001b[0mcount_v1\u001b[0m\u001b[0;34m.\u001b[0m\u001b[0mfit_transform\u001b[0m\u001b[0;34m(\u001b[0m\u001b[0mx_train\u001b[0m\u001b[0;34m)\u001b[0m\u001b[0;34m;\u001b[0m\u001b[0;34m\u001b[0m\u001b[0;34m\u001b[0m\u001b[0m\n\u001b[0m\u001b[1;32m      6\u001b[0m \u001b[0mprint\u001b[0m\u001b[0;34m(\u001b[0m\u001b[0;34m\"the shape of train is \"\u001b[0m\u001b[0;34m+\u001b[0m\u001b[0mrepr\u001b[0m\u001b[0;34m(\u001b[0m\u001b[0mcounts_train\u001b[0m\u001b[0;34m.\u001b[0m\u001b[0mshape\u001b[0m\u001b[0;34m)\u001b[0m\u001b[0;34m)\u001b[0m\u001b[0;34m\u001b[0m\u001b[0;34m\u001b[0m\u001b[0m\n\u001b[1;32m      7\u001b[0m \u001b[0mcount_v2\u001b[0m \u001b[0;34m=\u001b[0m \u001b[0mCountVectorizer\u001b[0m\u001b[0;34m(\u001b[0m\u001b[0mvocabulary\u001b[0m\u001b[0;34m=\u001b[0m\u001b[0mcount_v0\u001b[0m\u001b[0;34m.\u001b[0m\u001b[0mvocabulary_\u001b[0m\u001b[0;34m)\u001b[0m\u001b[0;34m;\u001b[0m\u001b[0;34m\u001b[0m\u001b[0;34m\u001b[0m\u001b[0m\n",
      "\u001b[0;32m/opt/anaconda3/envs/tensorflow/lib/python3.6/site-packages/sklearn/feature_extraction/text.py\u001b[0m in \u001b[0;36mfit_transform\u001b[0;34m(self, raw_documents, y)\u001b[0m\n\u001b[1;32m   1197\u001b[0m \u001b[0;34m\u001b[0m\u001b[0m\n\u001b[1;32m   1198\u001b[0m         vocabulary, X = self._count_vocab(raw_documents,\n\u001b[0;32m-> 1199\u001b[0;31m                                           self.fixed_vocabulary_)\n\u001b[0m\u001b[1;32m   1200\u001b[0m \u001b[0;34m\u001b[0m\u001b[0m\n\u001b[1;32m   1201\u001b[0m         \u001b[0;32mif\u001b[0m \u001b[0mself\u001b[0m\u001b[0;34m.\u001b[0m\u001b[0mbinary\u001b[0m\u001b[0;34m:\u001b[0m\u001b[0;34m\u001b[0m\u001b[0;34m\u001b[0m\u001b[0m\n",
      "\u001b[0;32m/opt/anaconda3/envs/tensorflow/lib/python3.6/site-packages/sklearn/feature_extraction/text.py\u001b[0m in \u001b[0;36m_count_vocab\u001b[0;34m(self, raw_documents, fixed_vocab)\u001b[0m\n\u001b[1;32m   1108\u001b[0m         \u001b[0;32mfor\u001b[0m \u001b[0mdoc\u001b[0m \u001b[0;32min\u001b[0m \u001b[0mraw_documents\u001b[0m\u001b[0;34m:\u001b[0m\u001b[0;34m\u001b[0m\u001b[0;34m\u001b[0m\u001b[0m\n\u001b[1;32m   1109\u001b[0m             \u001b[0mfeature_counter\u001b[0m \u001b[0;34m=\u001b[0m \u001b[0;34m{\u001b[0m\u001b[0;34m}\u001b[0m\u001b[0;34m\u001b[0m\u001b[0;34m\u001b[0m\u001b[0m\n\u001b[0;32m-> 1110\u001b[0;31m             \u001b[0;32mfor\u001b[0m \u001b[0mfeature\u001b[0m \u001b[0;32min\u001b[0m \u001b[0manalyze\u001b[0m\u001b[0;34m(\u001b[0m\u001b[0mdoc\u001b[0m\u001b[0;34m)\u001b[0m\u001b[0;34m:\u001b[0m\u001b[0;34m\u001b[0m\u001b[0;34m\u001b[0m\u001b[0m\n\u001b[0m\u001b[1;32m   1111\u001b[0m                 \u001b[0;32mtry\u001b[0m\u001b[0;34m:\u001b[0m\u001b[0;34m\u001b[0m\u001b[0;34m\u001b[0m\u001b[0m\n\u001b[1;32m   1112\u001b[0m                     \u001b[0mfeature_idx\u001b[0m \u001b[0;34m=\u001b[0m \u001b[0mvocabulary\u001b[0m\u001b[0;34m[\u001b[0m\u001b[0mfeature\u001b[0m\u001b[0;34m]\u001b[0m\u001b[0;34m\u001b[0m\u001b[0;34m\u001b[0m\u001b[0m\n",
      "\u001b[0;32m/opt/anaconda3/envs/tensorflow/lib/python3.6/site-packages/sklearn/feature_extraction/text.py\u001b[0m in \u001b[0;36m_analyze\u001b[0;34m(doc, analyzer, tokenizer, ngrams, preprocessor, decoder, stop_words)\u001b[0m\n\u001b[1;32m    102\u001b[0m     \u001b[0;32melse\u001b[0m\u001b[0;34m:\u001b[0m\u001b[0;34m\u001b[0m\u001b[0;34m\u001b[0m\u001b[0m\n\u001b[1;32m    103\u001b[0m         \u001b[0;32mif\u001b[0m \u001b[0mpreprocessor\u001b[0m \u001b[0;32mis\u001b[0m \u001b[0;32mnot\u001b[0m \u001b[0;32mNone\u001b[0m\u001b[0;34m:\u001b[0m\u001b[0;34m\u001b[0m\u001b[0;34m\u001b[0m\u001b[0m\n\u001b[0;32m--> 104\u001b[0;31m             \u001b[0mdoc\u001b[0m \u001b[0;34m=\u001b[0m \u001b[0mpreprocessor\u001b[0m\u001b[0;34m(\u001b[0m\u001b[0mdoc\u001b[0m\u001b[0;34m)\u001b[0m\u001b[0;34m\u001b[0m\u001b[0;34m\u001b[0m\u001b[0m\n\u001b[0m\u001b[1;32m    105\u001b[0m         \u001b[0;32mif\u001b[0m \u001b[0mtokenizer\u001b[0m \u001b[0;32mis\u001b[0m \u001b[0;32mnot\u001b[0m \u001b[0;32mNone\u001b[0m\u001b[0;34m:\u001b[0m\u001b[0;34m\u001b[0m\u001b[0;34m\u001b[0m\u001b[0m\n\u001b[1;32m    106\u001b[0m             \u001b[0mdoc\u001b[0m \u001b[0;34m=\u001b[0m \u001b[0mtokenizer\u001b[0m\u001b[0;34m(\u001b[0m\u001b[0mdoc\u001b[0m\u001b[0;34m)\u001b[0m\u001b[0;34m\u001b[0m\u001b[0;34m\u001b[0m\u001b[0m\n",
      "\u001b[0;32m/opt/anaconda3/envs/tensorflow/lib/python3.6/site-packages/sklearn/feature_extraction/text.py\u001b[0m in \u001b[0;36m_preprocess\u001b[0;34m(doc, accent_function, lower)\u001b[0m\n\u001b[1;32m     67\u001b[0m     \"\"\"\n\u001b[1;32m     68\u001b[0m     \u001b[0;32mif\u001b[0m \u001b[0mlower\u001b[0m\u001b[0;34m:\u001b[0m\u001b[0;34m\u001b[0m\u001b[0;34m\u001b[0m\u001b[0m\n\u001b[0;32m---> 69\u001b[0;31m         \u001b[0mdoc\u001b[0m \u001b[0;34m=\u001b[0m \u001b[0mdoc\u001b[0m\u001b[0;34m.\u001b[0m\u001b[0mlower\u001b[0m\u001b[0;34m(\u001b[0m\u001b[0;34m)\u001b[0m\u001b[0;34m\u001b[0m\u001b[0;34m\u001b[0m\u001b[0m\n\u001b[0m\u001b[1;32m     70\u001b[0m     \u001b[0;32mif\u001b[0m \u001b[0maccent_function\u001b[0m \u001b[0;32mis\u001b[0m \u001b[0;32mnot\u001b[0m \u001b[0;32mNone\u001b[0m\u001b[0;34m:\u001b[0m\u001b[0;34m\u001b[0m\u001b[0;34m\u001b[0m\u001b[0m\n\u001b[1;32m     71\u001b[0m         \u001b[0mdoc\u001b[0m \u001b[0;34m=\u001b[0m \u001b[0maccent_function\u001b[0m\u001b[0;34m(\u001b[0m\u001b[0mdoc\u001b[0m\u001b[0;34m)\u001b[0m\u001b[0;34m\u001b[0m\u001b[0;34m\u001b[0m\u001b[0m\n",
      "\u001b[0;31mAttributeError\u001b[0m: 'numpy.ndarray' object has no attribute 'lower'"
     ]
    }
   ],
   "source": [
    "from sklearn.feature_extraction.text import CountVectorizer, TfidfTransformer   \n",
    "count_v0= CountVectorizer();  \n",
    "counts_all = count_v0.fit_transform(all_texts);\n",
    "count_v1= CountVectorizer(vocabulary=count_v0.vocabulary_);  \n",
    "counts_train = count_v1.fit_transform(x_train);   \n",
    "print(\"the shape of train is \"+repr(counts_train.shape)) \n",
    "count_v2 = CountVectorizer(vocabulary=count_v0.vocabulary_);  \n",
    "counts_test = count_v2.fit_transform(x_test);  \n",
    "print(\"the shape of test is \"+repr(counts_test.shape))\n",
    "  "
   ]
  },
  {
   "cell_type": "code",
   "execution_count": null,
   "metadata": {},
   "outputs": [],
   "source": [
    "tfidftransformer = TfidfTransformer();    \n",
    "train_data = tfidftransformer.fit(counts_train).transform(counts_train);\n",
    "test_data = tfidftransformer.fit(counts_test).transform(counts_test);\n"
   ]
  },
  {
   "cell_type": "code",
   "execution_count": null,
   "metadata": {},
   "outputs": [],
   "source": []
  },
  {
   "cell_type": "code",
   "execution_count": null,
   "metadata": {},
   "outputs": [],
   "source": []
  },
  {
   "cell_type": "code",
   "execution_count": null,
   "metadata": {},
   "outputs": [],
   "source": []
  },
  {
   "cell_type": "code",
   "execution_count": null,
   "metadata": {},
   "outputs": [],
   "source": []
  },
  {
   "cell_type": "code",
   "execution_count": null,
   "metadata": {},
   "outputs": [],
   "source": []
  },
  {
   "cell_type": "code",
   "execution_count": null,
   "metadata": {},
   "outputs": [],
   "source": []
  },
  {
   "cell_type": "code",
   "execution_count": null,
   "metadata": {},
   "outputs": [],
   "source": []
  },
  {
   "cell_type": "code",
   "execution_count": null,
   "metadata": {},
   "outputs": [],
   "source": []
  },
  {
   "cell_type": "code",
   "execution_count": null,
   "metadata": {},
   "outputs": [],
   "source": []
  },
  {
   "cell_type": "code",
   "execution_count": null,
   "metadata": {},
   "outputs": [],
   "source": []
  },
  {
   "cell_type": "code",
   "execution_count": null,
   "metadata": {},
   "outputs": [],
   "source": []
  },
  {
   "cell_type": "code",
   "execution_count": null,
   "metadata": {},
   "outputs": [],
   "source": []
  },
  {
   "cell_type": "code",
   "execution_count": null,
   "metadata": {},
   "outputs": [],
   "source": []
  },
  {
   "cell_type": "code",
   "execution_count": null,
   "metadata": {},
   "outputs": [],
   "source": []
  },
  {
   "cell_type": "code",
   "execution_count": null,
   "metadata": {},
   "outputs": [],
   "source": []
  }
 ],
 "metadata": {
  "kernelspec": {
   "display_name": "Python 3",
   "language": "python",
   "name": "python3"
  },
  "language_info": {
   "codemirror_mode": {
    "name": "ipython",
    "version": 3
   },
   "file_extension": ".py",
   "mimetype": "text/x-python",
   "name": "python",
   "nbconvert_exporter": "python",
   "pygments_lexer": "ipython3",
   "version": "3.6.12"
  }
 },
 "nbformat": 4,
 "nbformat_minor": 4
}
